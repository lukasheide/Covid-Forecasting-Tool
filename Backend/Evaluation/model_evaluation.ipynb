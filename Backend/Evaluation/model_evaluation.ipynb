{
 "cells": [
  {
   "cell_type": "markdown",
   "metadata": {
    "collapsed": true,
    "pycharm": {
     "name": "#%% md\n"
    }
   },
   "source": [
    "# Model Evaluation"
   ]
  },
  {
   "cell_type": "code",
   "execution_count": 2,
   "outputs": [],
   "source": [
    "import pandas as pd\n",
    "import numpy as np\n",
    "import matplotlib.pyplot as plt\n",
    "from plotnine import *"
   ],
   "metadata": {
    "collapsed": false,
    "pycharm": {
     "name": "#%%\n"
    }
   }
  },
  {
   "cell_type": "markdown",
   "source": [
    "## 1) Import Data"
   ],
   "metadata": {
    "collapsed": false,
    "pycharm": {
     "name": "#%% md\n"
    }
   }
  },
  {
   "cell_type": "code",
   "execution_count": 3,
   "outputs": [],
   "source": [
    "df_pipeline_metrics = pd.read_csv('../../Assets/Data/Evaluation/model_validation_data_metrics_29_01.csv', index_col=0)\n",
    "df_pipeline_forecasts = pd.read_csv('../../Assets/Data/Evaluation/model_validation_data_forecasts_29_01.csv', index_col=0)"
   ],
   "metadata": {
    "collapsed": false,
    "pycharm": {
     "name": "#%%\n"
    }
   }
  },
  {
   "cell_type": "code",
   "execution_count": 4,
   "outputs": [
    {
     "data": {
      "text/plain": "         y_val  y_pred_Diff_Eq_Last_Beta  y_pred_Diff_Eq_ML_Beta  \\\n0   262.428571                322.841676              323.776119   \n1   287.714286                337.558033              340.030241   \n2   249.571429                352.870580              356.647692   \n3   245.285714                368.795325              373.830686   \n4   241.857143                385.348168              391.676808   \n..         ...                       ...                     ...   \n9   108.428571                 78.993220               92.247237   \n10  118.857143                 76.307277               90.271442   \n11  125.571429                 73.708687               88.330338   \n12  129.428571                 71.194871               86.424144   \n13  128.428571                 68.763312               84.552813   \n\n    y_pred_Sarima  y_pred_Ensemble  residuals_Diff_Eq_Last_Beta  \\\n0      264.210954       293.526315                    60.413104   \n1      258.531954       298.044993                    49.843747   \n2      251.493439       302.182009                   103.299151   \n3      245.287843       307.041584                   123.509611   \n4      239.012305       312.180237                   143.491026   \n..            ...              ...                          ...   \n9       87.267980        83.130600                   -29.435351   \n10      83.994778        80.151027                   -42.549866   \n11      80.721576        77.215131                   -51.862742   \n12      77.448374        74.321623                   -58.233700   \n13      74.175172        71.469242                   -59.665260   \n\n    residuals_Diff_Eq_ML_Beta  residuals_Sarima  residuals_Ensemble  \\\n0                   61.347548          1.782383           31.097744   \n1                   52.315955        -29.182332           10.330708   \n2                  107.076264          1.922010           52.610581   \n3                  128.544972          0.002129           61.755870   \n4                  149.819665         -2.844838           70.323094   \n..                        ...               ...                 ...   \n9                  -16.181334        -21.160592          -25.297971   \n10                 -28.585701        -34.862365          -38.706116   \n11                 -37.241091        -44.849853          -48.356297   \n12                 -43.004428        -51.980198          -55.106949   \n13                 -43.875759        -54.253400          -56.959330   \n\n   dates_validation   idx  \n0        2021-11-30     0  \n1        2021-12-01     0  \n2        2021-12-02     0  \n3        2021-12-03     0  \n4        2021-12-04     0  \n..              ...   ...  \n9        2022-01-20  2799  \n10       2022-01-21  2799  \n11       2022-01-22  2799  \n12       2022-01-23  2799  \n13       2022-01-24  2799  \n\n[39200 rows x 11 columns]",
      "text/html": "<div>\n<style scoped>\n    .dataframe tbody tr th:only-of-type {\n        vertical-align: middle;\n    }\n\n    .dataframe tbody tr th {\n        vertical-align: top;\n    }\n\n    .dataframe thead th {\n        text-align: right;\n    }\n</style>\n<table border=\"1\" class=\"dataframe\">\n  <thead>\n    <tr style=\"text-align: right;\">\n      <th></th>\n      <th>y_val</th>\n      <th>y_pred_Diff_Eq_Last_Beta</th>\n      <th>y_pred_Diff_Eq_ML_Beta</th>\n      <th>y_pred_Sarima</th>\n      <th>y_pred_Ensemble</th>\n      <th>residuals_Diff_Eq_Last_Beta</th>\n      <th>residuals_Diff_Eq_ML_Beta</th>\n      <th>residuals_Sarima</th>\n      <th>residuals_Ensemble</th>\n      <th>dates_validation</th>\n      <th>idx</th>\n    </tr>\n  </thead>\n  <tbody>\n    <tr>\n      <th>0</th>\n      <td>262.428571</td>\n      <td>322.841676</td>\n      <td>323.776119</td>\n      <td>264.210954</td>\n      <td>293.526315</td>\n      <td>60.413104</td>\n      <td>61.347548</td>\n      <td>1.782383</td>\n      <td>31.097744</td>\n      <td>2021-11-30</td>\n      <td>0</td>\n    </tr>\n    <tr>\n      <th>1</th>\n      <td>287.714286</td>\n      <td>337.558033</td>\n      <td>340.030241</td>\n      <td>258.531954</td>\n      <td>298.044993</td>\n      <td>49.843747</td>\n      <td>52.315955</td>\n      <td>-29.182332</td>\n      <td>10.330708</td>\n      <td>2021-12-01</td>\n      <td>0</td>\n    </tr>\n    <tr>\n      <th>2</th>\n      <td>249.571429</td>\n      <td>352.870580</td>\n      <td>356.647692</td>\n      <td>251.493439</td>\n      <td>302.182009</td>\n      <td>103.299151</td>\n      <td>107.076264</td>\n      <td>1.922010</td>\n      <td>52.610581</td>\n      <td>2021-12-02</td>\n      <td>0</td>\n    </tr>\n    <tr>\n      <th>3</th>\n      <td>245.285714</td>\n      <td>368.795325</td>\n      <td>373.830686</td>\n      <td>245.287843</td>\n      <td>307.041584</td>\n      <td>123.509611</td>\n      <td>128.544972</td>\n      <td>0.002129</td>\n      <td>61.755870</td>\n      <td>2021-12-03</td>\n      <td>0</td>\n    </tr>\n    <tr>\n      <th>4</th>\n      <td>241.857143</td>\n      <td>385.348168</td>\n      <td>391.676808</td>\n      <td>239.012305</td>\n      <td>312.180237</td>\n      <td>143.491026</td>\n      <td>149.819665</td>\n      <td>-2.844838</td>\n      <td>70.323094</td>\n      <td>2021-12-04</td>\n      <td>0</td>\n    </tr>\n    <tr>\n      <th>...</th>\n      <td>...</td>\n      <td>...</td>\n      <td>...</td>\n      <td>...</td>\n      <td>...</td>\n      <td>...</td>\n      <td>...</td>\n      <td>...</td>\n      <td>...</td>\n      <td>...</td>\n      <td>...</td>\n    </tr>\n    <tr>\n      <th>9</th>\n      <td>108.428571</td>\n      <td>78.993220</td>\n      <td>92.247237</td>\n      <td>87.267980</td>\n      <td>83.130600</td>\n      <td>-29.435351</td>\n      <td>-16.181334</td>\n      <td>-21.160592</td>\n      <td>-25.297971</td>\n      <td>2022-01-20</td>\n      <td>2799</td>\n    </tr>\n    <tr>\n      <th>10</th>\n      <td>118.857143</td>\n      <td>76.307277</td>\n      <td>90.271442</td>\n      <td>83.994778</td>\n      <td>80.151027</td>\n      <td>-42.549866</td>\n      <td>-28.585701</td>\n      <td>-34.862365</td>\n      <td>-38.706116</td>\n      <td>2022-01-21</td>\n      <td>2799</td>\n    </tr>\n    <tr>\n      <th>11</th>\n      <td>125.571429</td>\n      <td>73.708687</td>\n      <td>88.330338</td>\n      <td>80.721576</td>\n      <td>77.215131</td>\n      <td>-51.862742</td>\n      <td>-37.241091</td>\n      <td>-44.849853</td>\n      <td>-48.356297</td>\n      <td>2022-01-22</td>\n      <td>2799</td>\n    </tr>\n    <tr>\n      <th>12</th>\n      <td>129.428571</td>\n      <td>71.194871</td>\n      <td>86.424144</td>\n      <td>77.448374</td>\n      <td>74.321623</td>\n      <td>-58.233700</td>\n      <td>-43.004428</td>\n      <td>-51.980198</td>\n      <td>-55.106949</td>\n      <td>2022-01-23</td>\n      <td>2799</td>\n    </tr>\n    <tr>\n      <th>13</th>\n      <td>128.428571</td>\n      <td>68.763312</td>\n      <td>84.552813</td>\n      <td>74.175172</td>\n      <td>71.469242</td>\n      <td>-59.665260</td>\n      <td>-43.875759</td>\n      <td>-54.253400</td>\n      <td>-56.959330</td>\n      <td>2022-01-24</td>\n      <td>2799</td>\n    </tr>\n  </tbody>\n</table>\n<p>39200 rows × 11 columns</p>\n</div>"
     },
     "execution_count": 4,
     "metadata": {},
     "output_type": "execute_result"
    }
   ],
   "source": [
    "df_pipeline_forecasts"
   ],
   "metadata": {
    "collapsed": false,
    "pycharm": {
     "name": "#%%\n"
    }
   }
  },
  {
   "cell_type": "code",
   "execution_count": 7,
   "outputs": [
    {
     "name": "stderr",
     "output_type": "stream",
     "text": [
      "/Users/heidemann/Documents/Private/Project_Seminar/my_env/lib/python3.9/site-packages/plotnine/layer.py:324: PlotnineWarning: stat_bin : Removed 3517 rows containing non-finite values.\n",
      "/Users/heidemann/Documents/Private/Project_Seminar/my_env/lib/python3.9/site-packages/plotnine/layer.py:401: PlotnineWarning: geom_histogram : Removed 2 rows containing missing values.\n"
     ]
    },
    {
     "data": {
      "text/plain": "<Figure size 640x480 with 1 Axes>",
      "image/png": "[encoded data removed]"
     },
     "metadata": {},
     "output_type": "display_data"
    },
    {
     "data": {
      "text/plain": "<ggplot: (337788889)>"
     },
     "execution_count": 7,
     "metadata": {},
     "output_type": "execute_result"
    }
   ],
   "source": [
    "## Plot residuals:\n",
    "\n",
    "# 14-day-residuals\n",
    "df_residuals_day_14 = df_pipeline_forecasts[df_pipeline_forecasts.index == 13]\n",
    "\n",
    "# Last Beta\n",
    "ggplot(df_residuals_day_14, aes(x='residuals_Diff_Eq_Last_Beta')) + xlim(-200,200) + geom_histogram(binwidth=1)"
   ],
   "metadata": {
    "collapsed": false,
    "pycharm": {
     "name": "#%%\n"
    }
   }
  },
  {
   "cell_type": "code",
   "execution_count": null,
   "outputs": [],
   "source": [],
   "metadata": {
    "collapsed": false,
    "pycharm": {
     "name": "#%%\n"
    }
   }
  }
 ],
 "metadata": {
  "kernelspec": {
   "display_name": "Python 3",
   "language": "python",
   "name": "python3"
  },
  "language_info": {
   "codemirror_mode": {
    "name": "ipython",
    "version": 2
   },
   "file_extension": ".py",
   "mimetype": "text/x-python",
   "name": "python",
   "nbconvert_exporter": "python",
   "pygments_lexer": "ipython2",
   "version": "2.7.6"
  }
 },
 "nbformat": 4,
 "nbformat_minor": 0
}