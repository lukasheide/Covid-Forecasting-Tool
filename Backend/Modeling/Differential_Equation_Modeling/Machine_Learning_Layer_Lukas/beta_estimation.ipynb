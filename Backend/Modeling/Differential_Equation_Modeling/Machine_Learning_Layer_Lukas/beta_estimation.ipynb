{
 "cells": [
  {
   "cell_type": "markdown",
   "source": [
    "# Machine Learning Layer\n",
    "#### Goal: Estimate the next beta"
   ],
   "metadata": {
    "collapsed": false,
    "pycharm": {
     "name": "#%% md\n"
    }
   }
  },
  {
   "cell_type": "code",
   "execution_count": 71,
   "outputs": [],
   "source": [
    "import pandas as pd\n",
    "import numpy as np\n",
    "import matplotlib.pyplot as plt\n",
    "import tf as tf\n",
    "from plotnine import *\n",
    "from sklearn.inspection import permutation_importance\n",
    "\n",
    "from sklearn.preprocessing import StandardScaler, OneHotEncoder\n",
    "from sklearn.metrics import mean_squared_error\n",
    "from sklearn import linear_model\n",
    "from sklearn.model_selection import train_test_split\n",
    "from sklearn.ensemble import RandomForestRegressor\n",
    "from sklearn.svm import SVR\n",
    "import xgboost as xgb\n",
    "\n",
    "from tensorflow import keras\n",
    "import keras.backend as K\n",
    "from keras.models import Sequential\n",
    "from keras.layers import Dense, Dropout\n",
    "from keras.metrics import RootMeanSquaredError\n",
    "\n",
    "import pickle\n",
    "import joblib"
   ],
   "metadata": {
    "collapsed": false,
    "pycharm": {
     "name": "#%%\n"
    }
   }
  },
  {
   "cell_type": "markdown",
   "source": [
    "## 1) Import Data:\n",
    "CSV file can be found in Teams under Model/ML_for_Beta/all_matrix_data.csv"
   ],
   "metadata": {
    "collapsed": false,
    "pycharm": {
     "name": "#%% md\n"
    }
   }
  },
  {
   "cell_type": "code",
   "execution_count": 3,
   "outputs": [],
   "source": [
    "df = pd.read_csv('../../../../Assets/Data/all_matrix_data_v3.csv')\n",
    "df.drop(columns=['Unnamed: 0'], inplace=True)"
   ],
   "metadata": {
    "collapsed": false,
    "pycharm": {
     "name": "#%%\n"
    }
   }
  },
  {
   "cell_type": "code",
   "execution_count": 4,
   "outputs": [
    {
     "data": {
      "text/plain": "       week  policy_index    variant   mobility  temperature       wind  \\\n26714    20     58.802857      Other   7.285714    19.628571   4.685714   \n13541     7     69.342857      Other -19.428571    11.814286   7.542857   \n33754    10     57.780000      Other  -6.714286    15.714286   8.885714   \n16179    13     57.440000      Other  -4.571429    14.614286  10.914286   \n36007     7     69.342857      Other -25.142857    11.585714  10.914286   \n...     ...           ...        ...        ...          ...        ...   \n28403    17     58.804286      Other   9.285714    13.657143  13.928571   \n10407    69     73.210000  B.1.617.2  17.000000    17.714286   7.914286   \n32632    16     63.390000      Other  -6.000000    19.671429        NaN   \n4151     17     58.804286      Other  -4.714286    13.414286        NaN   \n16894    70     73.210000  B.1.617.2   5.000000    19.200000   6.685714   \n\n       infections          beta  beta_t_minus_1 start_date_forecasting  \\\n26714    2.295918  2.300318e-20    3.791096e-01             2020-08-03   \n13541    1.857143  2.643845e-20    4.575471e-01             2020-05-04   \n33754    2.612245  7.766189e-20    4.148546e-01             2020-05-25   \n16179    1.622449  1.251294e-19    6.060050e-01             2020-06-15   \n36007    4.438776  2.907199e-18    1.451629e-01             2020-05-04   \n...           ...           ...             ...                    ...   \n28403    0.744898  3.923493e+00    5.671122e-07             2020-07-13   \n10407    0.663265  4.167030e+00    4.618029e-07             2021-07-12   \n32632    1.959184  4.254476e+00    5.866944e-07             2020-07-06   \n4151     2.030612  4.266171e+00    5.615672e-07             2020-07-13   \n16894    1.030612  4.319147e+00    4.565610e-07             2021-07-19   \n\n                         district  \n26714          Potsdam-Mittelmark  \n13541                   Oberhavel  \n33754            Rhein-Sieg-Kreis  \n16179           Aichach-Friedberg  \n36007                       Essen  \n...                           ...  \n28403  Schwerin, Landeshauptstadt  \n10407                       Regen  \n32632           Main-Tauber-Kreis  \n4151                   Hof, Kreis  \n16894               Coburg, Kreis  \n\n[37600 rows x 11 columns]",
      "text/html": "<div>\n<style scoped>\n    .dataframe tbody tr th:only-of-type {\n        vertical-align: middle;\n    }\n\n    .dataframe tbody tr th {\n        vertical-align: top;\n    }\n\n    .dataframe thead th {\n        text-align: right;\n    }\n</style>\n<table border=\"1\" class=\"dataframe\">\n  <thead>\n    <tr style=\"text-align: right;\">\n      <th></th>\n      <th>week</th>\n      <th>policy_index</th>\n      <th>variant</th>\n      <th>mobility</th>\n      <th>temperature</th>\n      <th>wind</th>\n      <th>infections</th>\n      <th>beta</th>\n      <th>beta_t_minus_1</th>\n      <th>start_date_forecasting</th>\n      <th>district</th>\n    </tr>\n  </thead>\n  <tbody>\n    <tr>\n      <th>26714</th>\n      <td>20</td>\n      <td>58.802857</td>\n      <td>Other</td>\n      <td>7.285714</td>\n      <td>19.628571</td>\n      <td>4.685714</td>\n      <td>2.295918</td>\n      <td>2.300318e-20</td>\n      <td>3.791096e-01</td>\n      <td>2020-08-03</td>\n      <td>Potsdam-Mittelmark</td>\n    </tr>\n    <tr>\n      <th>13541</th>\n      <td>7</td>\n      <td>69.342857</td>\n      <td>Other</td>\n      <td>-19.428571</td>\n      <td>11.814286</td>\n      <td>7.542857</td>\n      <td>1.857143</td>\n      <td>2.643845e-20</td>\n      <td>4.575471e-01</td>\n      <td>2020-05-04</td>\n      <td>Oberhavel</td>\n    </tr>\n    <tr>\n      <th>33754</th>\n      <td>10</td>\n      <td>57.780000</td>\n      <td>Other</td>\n      <td>-6.714286</td>\n      <td>15.714286</td>\n      <td>8.885714</td>\n      <td>2.612245</td>\n      <td>7.766189e-20</td>\n      <td>4.148546e-01</td>\n      <td>2020-05-25</td>\n      <td>Rhein-Sieg-Kreis</td>\n    </tr>\n    <tr>\n      <th>16179</th>\n      <td>13</td>\n      <td>57.440000</td>\n      <td>Other</td>\n      <td>-4.571429</td>\n      <td>14.614286</td>\n      <td>10.914286</td>\n      <td>1.622449</td>\n      <td>1.251294e-19</td>\n      <td>6.060050e-01</td>\n      <td>2020-06-15</td>\n      <td>Aichach-Friedberg</td>\n    </tr>\n    <tr>\n      <th>36007</th>\n      <td>7</td>\n      <td>69.342857</td>\n      <td>Other</td>\n      <td>-25.142857</td>\n      <td>11.585714</td>\n      <td>10.914286</td>\n      <td>4.438776</td>\n      <td>2.907199e-18</td>\n      <td>1.451629e-01</td>\n      <td>2020-05-04</td>\n      <td>Essen</td>\n    </tr>\n    <tr>\n      <th>...</th>\n      <td>...</td>\n      <td>...</td>\n      <td>...</td>\n      <td>...</td>\n      <td>...</td>\n      <td>...</td>\n      <td>...</td>\n      <td>...</td>\n      <td>...</td>\n      <td>...</td>\n      <td>...</td>\n    </tr>\n    <tr>\n      <th>28403</th>\n      <td>17</td>\n      <td>58.804286</td>\n      <td>Other</td>\n      <td>9.285714</td>\n      <td>13.657143</td>\n      <td>13.928571</td>\n      <td>0.744898</td>\n      <td>3.923493e+00</td>\n      <td>5.671122e-07</td>\n      <td>2020-07-13</td>\n      <td>Schwerin, Landeshauptstadt</td>\n    </tr>\n    <tr>\n      <th>10407</th>\n      <td>69</td>\n      <td>73.210000</td>\n      <td>B.1.617.2</td>\n      <td>17.000000</td>\n      <td>17.714286</td>\n      <td>7.914286</td>\n      <td>0.663265</td>\n      <td>4.167030e+00</td>\n      <td>4.618029e-07</td>\n      <td>2021-07-12</td>\n      <td>Regen</td>\n    </tr>\n    <tr>\n      <th>32632</th>\n      <td>16</td>\n      <td>63.390000</td>\n      <td>Other</td>\n      <td>-6.000000</td>\n      <td>19.671429</td>\n      <td>NaN</td>\n      <td>1.959184</td>\n      <td>4.254476e+00</td>\n      <td>5.866944e-07</td>\n      <td>2020-07-06</td>\n      <td>Main-Tauber-Kreis</td>\n    </tr>\n    <tr>\n      <th>4151</th>\n      <td>17</td>\n      <td>58.804286</td>\n      <td>Other</td>\n      <td>-4.714286</td>\n      <td>13.414286</td>\n      <td>NaN</td>\n      <td>2.030612</td>\n      <td>4.266171e+00</td>\n      <td>5.615672e-07</td>\n      <td>2020-07-13</td>\n      <td>Hof, Kreis</td>\n    </tr>\n    <tr>\n      <th>16894</th>\n      <td>70</td>\n      <td>73.210000</td>\n      <td>B.1.617.2</td>\n      <td>5.000000</td>\n      <td>19.200000</td>\n      <td>6.685714</td>\n      <td>1.030612</td>\n      <td>4.319147e+00</td>\n      <td>4.565610e-07</td>\n      <td>2021-07-19</td>\n      <td>Coburg, Kreis</td>\n    </tr>\n  </tbody>\n</table>\n<p>37600 rows × 11 columns</p>\n</div>"
     },
     "execution_count": 4,
     "metadata": {},
     "output_type": "execute_result"
    }
   ],
   "source": [
    "df.sort_values('beta')"
   ],
   "metadata": {
    "collapsed": false,
    "pycharm": {
     "name": "#%%\n"
    }
   }
  },
  {
   "cell_type": "markdown",
   "source": [
    "## 2) Visualize Data:\n",
    "#### 2.1) Average Infections (training period):"
   ],
   "metadata": {
    "collapsed": false,
    "pycharm": {
     "name": "#%% md\n"
    }
   }
  },
  {
   "cell_type": "code",
   "execution_count": 5,
   "outputs": [
    {
     "data": {
      "text/plain": "<Figure size 640x480 with 1 Axes>",
      "image/png": "[encoded data removed]"
     },
     "metadata": {},
     "output_type": "display_data"
    },
    {
     "data": {
      "text/plain": "<ggplot: (381081591)>"
     },
     "execution_count": 5,
     "metadata": {},
     "output_type": "execute_result"
    }
   ],
   "source": [
    "ggplot(df, aes(x='infections')) + geom_histogram(binwidth=5) + coord_cartesian(xlim=(0,300),ylim=(0,10000))"
   ],
   "metadata": {
    "collapsed": false,
    "pycharm": {
     "name": "#%%\n"
    }
   }
  },
  {
   "cell_type": "markdown",
   "source": [
    "#### 2.2) Fitted beta:"
   ],
   "metadata": {
    "collapsed": false,
    "pycharm": {
     "name": "#%% md\n"
    }
   },
   "execution_count": 50
  },
  {
   "cell_type": "code",
   "execution_count": 6,
   "outputs": [
    {
     "data": {
      "text/plain": "<Figure size 640x480 with 1 Axes>",
      "image/png": "[encoded data removed]"
     },
     "metadata": {},
     "output_type": "display_data"
    },
    {
     "data": {
      "text/plain": "<ggplot: (381139815)>"
     },
     "execution_count": 6,
     "metadata": {},
     "output_type": "execute_result"
    }
   ],
   "source": [
    "ggplot(df, aes(x='beta')) + geom_histogram(binwidth=0.025) + coord_cartesian(xlim=(0,2),ylim=(0,5000))"
   ],
   "metadata": {
    "collapsed": false,
    "pycharm": {
     "name": "#%%\n"
    }
   }
  },
  {
   "cell_type": "markdown",
   "source": [
    "#### 2.3) Average infections Münster"
   ],
   "metadata": {
    "collapsed": false,
    "pycharm": {
     "name": "#%% md\n"
    }
   }
  },
  {
   "cell_type": "code",
   "execution_count": 7,
   "outputs": [
    {
     "data": {
      "text/plain": "<Figure size 640x480 with 1 Axes>",
      "image/png": "[encoded data removed]"
     },
     "metadata": {},
     "output_type": "display_data"
    },
    {
     "data": {
      "text/plain": "<ggplot: (381031653)>"
     },
     "execution_count": 7,
     "metadata": {},
     "output_type": "execute_result"
    }
   ],
   "source": [
    "district = 'Münster'\n",
    "df_v2_3 = df[df['district']==district][['week','district','infections','beta']]\n",
    "\n",
    "# Devide both columns by their mean so that they fit in one plot:\n",
    "df_v2_3['infections'] = df_v2_3['infections']/df_v2_3['infections'].mean()\n",
    "df_v2_3['beta'] = df_v2_3['beta']/df_v2_3['beta'].mean()\n",
    "\n",
    "ggplot(df_v2_3) \\\n",
    "+ geom_line(aes(x='week', y='beta'), color='yellow')\\\n",
    "+ geom_line(aes(x='week', y='infections'), color='green', size=2)"
   ],
   "metadata": {
    "collapsed": false,
    "pycharm": {
     "name": "#%%\n"
    }
   }
  },
  {
   "cell_type": "markdown",
   "source": [
    "#### 2.4) Policy index vs infections: (Germany)"
   ],
   "metadata": {
    "collapsed": false,
    "pycharm": {
     "name": "#%% md\n"
    }
   }
  },
  {
   "cell_type": "code",
   "execution_count": 8,
   "outputs": [
    {
     "data": {
      "text/plain": "<Figure size 640x480 with 1 Axes>",
      "image/png": "[encoded data removed]"
     },
     "metadata": {},
     "output_type": "display_data"
    },
    {
     "data": {
      "text/plain": "<ggplot: (381230436)>"
     },
     "execution_count": 8,
     "metadata": {},
     "output_type": "execute_result"
    }
   ],
   "source": [
    "df_v2_4 = df.groupby('week').sum()\n",
    "\n",
    "# Devide both columns by their max so that they fit in one plot:\n",
    "df_v2_4['infections'] = df_v2_4['infections']/df_v2_4['infections'].max()\n",
    "df_v2_4['policy_index'] = df_v2_4['policy_index']/df_v2_4['policy_index'].max()\n",
    "\n",
    "ggplot(df_v2_4.reset_index())\\\n",
    "+ geom_line(aes(x='week', y='policy_index'), color='yellow')\\\n",
    "+ geom_line(aes(x='week', y='infections'), color='green', size=2)"
   ],
   "metadata": {
    "collapsed": false,
    "pycharm": {
     "name": "#%%\n"
    }
   }
  },
  {
   "cell_type": "markdown",
   "source": [
    "## 3) Feature Engineering:\n",
    "#### Lagged beta: (NO LONGER NECESSARY!)"
   ],
   "metadata": {
    "collapsed": false,
    "pycharm": {
     "name": "#%% md\n"
    }
   }
  },
  {
   "cell_type": "code",
   "execution_count": 9,
   "outputs": [],
   "source": [
    "# Sort values by district and week before lagging:\n",
    "df.sort_values(['district','week'], inplace=True)"
   ],
   "metadata": {
    "collapsed": false,
    "pycharm": {
     "name": "#%%\n"
    }
   }
  },
  {
   "cell_type": "code",
   "execution_count": 10,
   "outputs": [
    {
     "data": {
      "text/plain": "-0.05990876887471662"
     },
     "execution_count": 10,
     "metadata": {},
     "output_type": "execute_result"
    }
   ],
   "source": [
    "# Check out correlation between current and previous weeks beta:\n",
    "df['beta'].corr(df['beta_t_minus_1'] )"
   ],
   "metadata": {
    "collapsed": false,
    "pycharm": {
     "name": "#%%\n"
    }
   }
  },
  {
   "cell_type": "markdown",
   "source": [
    "## 4) Data cleaning:\n",
    "#### Identify missing values:"
   ],
   "metadata": {
    "collapsed": false,
    "pycharm": {
     "name": "#%% md\n"
    }
   },
   "outputs": [
    {
     "data": {
      "text/plain": "week                  0\npolicy_index          0\nvariant               0\nmobility              0\ntemperature         243\nwind               3827\ninfections            0\nbeta                  0\ndistrict              0\nbeta_lag_1_week       0\nbeta_lag_2_week       0\nbeta_lag_3_week       0\ndtype: int64"
     },
     "execution_count": 77,
     "metadata": {},
     "output_type": "execute_result"
    }
   ],
   "execution_count": 77
  },
  {
   "cell_type": "code",
   "execution_count": 11,
   "outputs": [
    {
     "data": {
      "text/plain": "week                         0\npolicy_index                 0\nvariant                      0\nmobility                     0\ntemperature                236\nwind                      3739\ninfections                   0\nbeta                         0\nbeta_t_minus_1               0\nstart_date_forecasting       0\ndistrict                     0\ndtype: int64"
     },
     "execution_count": 11,
     "metadata": {},
     "output_type": "execute_result"
    }
   ],
   "source": [
    "df.isnull().sum()"
   ],
   "metadata": {
    "collapsed": false,
    "pycharm": {
     "name": "#%%\n"
    }
   }
  },
  {
   "cell_type": "markdown",
   "source": [
    "#### Fill missing values with previous column:\n",
    "Forward fill: Fill down (-> if missing value in week 50 use value of week 49)"
   ],
   "metadata": {
    "collapsed": false,
    "pycharm": {
     "name": "#%% md\n"
    }
   }
  },
  {
   "cell_type": "code",
   "execution_count": 12,
   "outputs": [],
   "source": [
    "df_v4 = df.copy()"
   ],
   "metadata": {
    "collapsed": false,
    "pycharm": {
     "name": "#%%\n"
    }
   }
  },
  {
   "cell_type": "code",
   "execution_count": 13,
   "outputs": [
    {
     "name": "stderr",
     "output_type": "stream",
     "text": [
      "/var/folders/f9/_57rk_kx5jqbkd8vvnwckf2c0000gn/T/ipykernel_22904/1409488165.py:1: FutureWarning: Dropping invalid columns in DataFrameGroupBy.transform is deprecated. In a future version, a TypeError will be raised. Before calling .transform, select only columns which should be valid for the transforming function.\n",
      "/var/folders/f9/_57rk_kx5jqbkd8vvnwckf2c0000gn/T/ipykernel_22904/1409488165.py:2: FutureWarning: Dropping invalid columns in DataFrameGroupBy.transform is deprecated. In a future version, a TypeError will be raised. Before calling .transform, select only columns which should be valid for the transforming function.\n"
     ]
    }
   ],
   "source": [
    "df_v4['temperature'] = df.groupby(\"week\").transform(lambda x: x.fillna(x.mean()))['temperature']\n",
    "df_v4['wind'] = df.groupby(\"week\").transform(lambda x: x.fillna(x.mean()))['wind']"
   ],
   "metadata": {
    "collapsed": false,
    "pycharm": {
     "name": "#%%\n"
    }
   }
  },
  {
   "cell_type": "code",
   "execution_count": 14,
   "outputs": [
    {
     "data": {
      "text/plain": "       week  policy_index    variant   mobility  temperature       wind  \\\n6580      2     62.500000      Other -41.714286     5.171429  15.042316   \n6581      3     63.778571      Other -34.428571     5.914286  11.157143   \n6582      4     65.180000      Other -29.285714    15.071429  10.571429   \n6583      5     65.180000      Other -32.857143    11.085714  11.071429   \n6584      6     65.180000      Other -23.714286    13.500000  17.157143   \n...     ...           ...        ...        ...          ...        ...   \n22743    91     83.930000  B.1.617.2  -2.571429     0.428571   8.528571   \n22744    92     83.930000  B.1.617.2  -1.000000     4.842857  10.485714   \n22745    93     83.930000  B.1.617.2  -4.285714    -1.200000  10.700000   \n22746    94     83.930000  B.1.1.529 -15.714286     7.871429  16.885714   \n22747    95     83.930000  B.1.1.529  -1.571429     2.714286  16.814286   \n\n       infections      beta  beta_t_minus_1 start_date_forecasting district  \n6580    52.469388  0.300629        0.339530             2020-03-30   Aachen  \n6581    36.877551  0.205305        0.351514             2020-04-06   Aachen  \n6582    25.244898  0.226196        0.214683             2020-04-13   Aachen  \n6583    16.683673  0.232024        0.210121             2020-04-20   Aachen  \n6584     8.091837  0.127777        0.272082             2020-04-27   Aachen  \n...           ...       ...             ...                    ...      ...  \n22743  305.418367  0.327476        0.349327             2021-12-13  Zwickau  \n22744  202.969388  0.287899        0.345975             2021-12-20  Zwickau  \n22745  143.653061  0.329843        0.289999             2021-12-27  Zwickau  \n22746  107.020408  0.331757        0.326808             2022-01-03  Zwickau  \n22747  100.061224  0.392796        0.346767             2022-01-10  Zwickau  \n\n[37600 rows x 11 columns]",
      "text/html": "<div>\n<style scoped>\n    .dataframe tbody tr th:only-of-type {\n        vertical-align: middle;\n    }\n\n    .dataframe tbody tr th {\n        vertical-align: top;\n    }\n\n    .dataframe thead th {\n        text-align: right;\n    }\n</style>\n<table border=\"1\" class=\"dataframe\">\n  <thead>\n    <tr style=\"text-align: right;\">\n      <th></th>\n      <th>week</th>\n      <th>policy_index</th>\n      <th>variant</th>\n      <th>mobility</th>\n      <th>temperature</th>\n      <th>wind</th>\n      <th>infections</th>\n      <th>beta</th>\n      <th>beta_t_minus_1</th>\n      <th>start_date_forecasting</th>\n      <th>district</th>\n    </tr>\n  </thead>\n  <tbody>\n    <tr>\n      <th>6580</th>\n      <td>2</td>\n      <td>62.500000</td>\n      <td>Other</td>\n      <td>-41.714286</td>\n      <td>5.171429</td>\n      <td>15.042316</td>\n      <td>52.469388</td>\n      <td>0.300629</td>\n      <td>0.339530</td>\n      <td>2020-03-30</td>\n      <td>Aachen</td>\n    </tr>\n    <tr>\n      <th>6581</th>\n      <td>3</td>\n      <td>63.778571</td>\n      <td>Other</td>\n      <td>-34.428571</td>\n      <td>5.914286</td>\n      <td>11.157143</td>\n      <td>36.877551</td>\n      <td>0.205305</td>\n      <td>0.351514</td>\n      <td>2020-04-06</td>\n      <td>Aachen</td>\n    </tr>\n    <tr>\n      <th>6582</th>\n      <td>4</td>\n      <td>65.180000</td>\n      <td>Other</td>\n      <td>-29.285714</td>\n      <td>15.071429</td>\n      <td>10.571429</td>\n      <td>25.244898</td>\n      <td>0.226196</td>\n      <td>0.214683</td>\n      <td>2020-04-13</td>\n      <td>Aachen</td>\n    </tr>\n    <tr>\n      <th>6583</th>\n      <td>5</td>\n      <td>65.180000</td>\n      <td>Other</td>\n      <td>-32.857143</td>\n      <td>11.085714</td>\n      <td>11.071429</td>\n      <td>16.683673</td>\n      <td>0.232024</td>\n      <td>0.210121</td>\n      <td>2020-04-20</td>\n      <td>Aachen</td>\n    </tr>\n    <tr>\n      <th>6584</th>\n      <td>6</td>\n      <td>65.180000</td>\n      <td>Other</td>\n      <td>-23.714286</td>\n      <td>13.500000</td>\n      <td>17.157143</td>\n      <td>8.091837</td>\n      <td>0.127777</td>\n      <td>0.272082</td>\n      <td>2020-04-27</td>\n      <td>Aachen</td>\n    </tr>\n    <tr>\n      <th>...</th>\n      <td>...</td>\n      <td>...</td>\n      <td>...</td>\n      <td>...</td>\n      <td>...</td>\n      <td>...</td>\n      <td>...</td>\n      <td>...</td>\n      <td>...</td>\n      <td>...</td>\n      <td>...</td>\n    </tr>\n    <tr>\n      <th>22743</th>\n      <td>91</td>\n      <td>83.930000</td>\n      <td>B.1.617.2</td>\n      <td>-2.571429</td>\n      <td>0.428571</td>\n      <td>8.528571</td>\n      <td>305.418367</td>\n      <td>0.327476</td>\n      <td>0.349327</td>\n      <td>2021-12-13</td>\n      <td>Zwickau</td>\n    </tr>\n    <tr>\n      <th>22744</th>\n      <td>92</td>\n      <td>83.930000</td>\n      <td>B.1.617.2</td>\n      <td>-1.000000</td>\n      <td>4.842857</td>\n      <td>10.485714</td>\n      <td>202.969388</td>\n      <td>0.287899</td>\n      <td>0.345975</td>\n      <td>2021-12-20</td>\n      <td>Zwickau</td>\n    </tr>\n    <tr>\n      <th>22745</th>\n      <td>93</td>\n      <td>83.930000</td>\n      <td>B.1.617.2</td>\n      <td>-4.285714</td>\n      <td>-1.200000</td>\n      <td>10.700000</td>\n      <td>143.653061</td>\n      <td>0.329843</td>\n      <td>0.289999</td>\n      <td>2021-12-27</td>\n      <td>Zwickau</td>\n    </tr>\n    <tr>\n      <th>22746</th>\n      <td>94</td>\n      <td>83.930000</td>\n      <td>B.1.1.529</td>\n      <td>-15.714286</td>\n      <td>7.871429</td>\n      <td>16.885714</td>\n      <td>107.020408</td>\n      <td>0.331757</td>\n      <td>0.326808</td>\n      <td>2022-01-03</td>\n      <td>Zwickau</td>\n    </tr>\n    <tr>\n      <th>22747</th>\n      <td>95</td>\n      <td>83.930000</td>\n      <td>B.1.1.529</td>\n      <td>-1.571429</td>\n      <td>2.714286</td>\n      <td>16.814286</td>\n      <td>100.061224</td>\n      <td>0.392796</td>\n      <td>0.346767</td>\n      <td>2022-01-10</td>\n      <td>Zwickau</td>\n    </tr>\n  </tbody>\n</table>\n<p>37600 rows × 11 columns</p>\n</div>"
     },
     "execution_count": 14,
     "metadata": {},
     "output_type": "execute_result"
    }
   ],
   "source": [
    "df_v4"
   ],
   "metadata": {
    "collapsed": false,
    "pycharm": {
     "name": "#%%\n"
    }
   }
  },
  {
   "cell_type": "markdown",
   "source": [
    "## 5) Outlier removal:\n"
   ],
   "metadata": {
    "collapsed": false
   }
  },
  {
   "cell_type": "code",
   "execution_count": 15,
   "outputs": [],
   "source": [
    "# Identify outliers:"
   ],
   "metadata": {
    "collapsed": false,
    "pycharm": {
     "name": "#%%\n"
    }
   }
  },
  {
   "cell_type": "code",
   "execution_count": 16,
   "outputs": [
    {
     "data": {
      "text/plain": "       week  policy_index    variant   mobility  temperature       wind  \\\n33129    43     71.985714    B.1.1.7 -15.714286    -1.585714   8.928571   \n2393     45     70.710000      Other  -0.142857     2.742857  18.042857   \n37264    42     73.690000      Other -23.000000    -2.485714   5.785714   \n21188    40     68.790000    B.1.1.7 -30.714286     4.871429  14.228571   \n15553    45     70.710000      Other -18.000000     4.814286  14.385714   \n...     ...           ...        ...        ...          ...        ...   \n28852    90     81.761429  B.1.617.2   4.000000     2.657143  15.685714   \n10151    95     83.930000  B.1.1.529   1.000000     3.157143  11.157143   \n33006    14     62.370000      Other  -4.714286    17.928571   8.514286   \n1251     31     57.865714      Other  21.000000     6.871429   9.369137   \n9981     19     58.040000      Other   4.714286    19.342857   6.557143   \n\n       infections      beta  beta_t_minus_1 start_date_forecasting  \\\n33129   76.775510  0.284688        0.106589             2021-01-11   \n2393    38.428571  0.317974        0.115837             2021-01-25   \n37264   21.530612  0.407612        0.136652             2021-01-04   \n21188   48.122449  0.595043        0.141463             2020-12-21   \n15553   38.744898  0.233008        0.148055             2021-01-25   \n...           ...       ...             ...                    ...   \n28852  302.653061  0.453113        0.887275             2021-12-06   \n10151  312.244898  0.397794        0.929834             2022-01-10   \n33006   75.244898  0.103622        0.932201             2020-06-22   \n1251    22.510204  0.358205        1.036735             2020-10-19   \n9981    26.714286  0.221705        2.388877             2020-07-27   \n\n                 district  \n33129       Vogtlandkreis  \n2393     Mansfeld-Südharz  \n37264          Oberallgäu  \n21188             Potsdam  \n15553           Bielefeld  \n...                   ...  \n28852               Börde  \n10151  Lübeck, Hansestadt  \n33006           Gütersloh  \n1251    Altenkirchen (Ww)  \n9981    Dingolfing-Landau  \n\n[13898 rows x 11 columns]",
      "text/html": "<div>\n<style scoped>\n    .dataframe tbody tr th:only-of-type {\n        vertical-align: middle;\n    }\n\n    .dataframe tbody tr th {\n        vertical-align: top;\n    }\n\n    .dataframe thead th {\n        text-align: right;\n    }\n</style>\n<table border=\"1\" class=\"dataframe\">\n  <thead>\n    <tr style=\"text-align: right;\">\n      <th></th>\n      <th>week</th>\n      <th>policy_index</th>\n      <th>variant</th>\n      <th>mobility</th>\n      <th>temperature</th>\n      <th>wind</th>\n      <th>infections</th>\n      <th>beta</th>\n      <th>beta_t_minus_1</th>\n      <th>start_date_forecasting</th>\n      <th>district</th>\n    </tr>\n  </thead>\n  <tbody>\n    <tr>\n      <th>33129</th>\n      <td>43</td>\n      <td>71.985714</td>\n      <td>B.1.1.7</td>\n      <td>-15.714286</td>\n      <td>-1.585714</td>\n      <td>8.928571</td>\n      <td>76.775510</td>\n      <td>0.284688</td>\n      <td>0.106589</td>\n      <td>2021-01-11</td>\n      <td>Vogtlandkreis</td>\n    </tr>\n    <tr>\n      <th>2393</th>\n      <td>45</td>\n      <td>70.710000</td>\n      <td>Other</td>\n      <td>-0.142857</td>\n      <td>2.742857</td>\n      <td>18.042857</td>\n      <td>38.428571</td>\n      <td>0.317974</td>\n      <td>0.115837</td>\n      <td>2021-01-25</td>\n      <td>Mansfeld-Südharz</td>\n    </tr>\n    <tr>\n      <th>37264</th>\n      <td>42</td>\n      <td>73.690000</td>\n      <td>Other</td>\n      <td>-23.000000</td>\n      <td>-2.485714</td>\n      <td>5.785714</td>\n      <td>21.530612</td>\n      <td>0.407612</td>\n      <td>0.136652</td>\n      <td>2021-01-04</td>\n      <td>Oberallgäu</td>\n    </tr>\n    <tr>\n      <th>21188</th>\n      <td>40</td>\n      <td>68.790000</td>\n      <td>B.1.1.7</td>\n      <td>-30.714286</td>\n      <td>4.871429</td>\n      <td>14.228571</td>\n      <td>48.122449</td>\n      <td>0.595043</td>\n      <td>0.141463</td>\n      <td>2020-12-21</td>\n      <td>Potsdam</td>\n    </tr>\n    <tr>\n      <th>15553</th>\n      <td>45</td>\n      <td>70.710000</td>\n      <td>Other</td>\n      <td>-18.000000</td>\n      <td>4.814286</td>\n      <td>14.385714</td>\n      <td>38.744898</td>\n      <td>0.233008</td>\n      <td>0.148055</td>\n      <td>2021-01-25</td>\n      <td>Bielefeld</td>\n    </tr>\n    <tr>\n      <th>...</th>\n      <td>...</td>\n      <td>...</td>\n      <td>...</td>\n      <td>...</td>\n      <td>...</td>\n      <td>...</td>\n      <td>...</td>\n      <td>...</td>\n      <td>...</td>\n      <td>...</td>\n      <td>...</td>\n    </tr>\n    <tr>\n      <th>28852</th>\n      <td>90</td>\n      <td>81.761429</td>\n      <td>B.1.617.2</td>\n      <td>4.000000</td>\n      <td>2.657143</td>\n      <td>15.685714</td>\n      <td>302.653061</td>\n      <td>0.453113</td>\n      <td>0.887275</td>\n      <td>2021-12-06</td>\n      <td>Börde</td>\n    </tr>\n    <tr>\n      <th>10151</th>\n      <td>95</td>\n      <td>83.930000</td>\n      <td>B.1.1.529</td>\n      <td>1.000000</td>\n      <td>3.157143</td>\n      <td>11.157143</td>\n      <td>312.244898</td>\n      <td>0.397794</td>\n      <td>0.929834</td>\n      <td>2022-01-10</td>\n      <td>Lübeck, Hansestadt</td>\n    </tr>\n    <tr>\n      <th>33006</th>\n      <td>14</td>\n      <td>62.370000</td>\n      <td>Other</td>\n      <td>-4.714286</td>\n      <td>17.928571</td>\n      <td>8.514286</td>\n      <td>75.244898</td>\n      <td>0.103622</td>\n      <td>0.932201</td>\n      <td>2020-06-22</td>\n      <td>Gütersloh</td>\n    </tr>\n    <tr>\n      <th>1251</th>\n      <td>31</td>\n      <td>57.865714</td>\n      <td>Other</td>\n      <td>21.000000</td>\n      <td>6.871429</td>\n      <td>9.369137</td>\n      <td>22.510204</td>\n      <td>0.358205</td>\n      <td>1.036735</td>\n      <td>2020-10-19</td>\n      <td>Altenkirchen (Ww)</td>\n    </tr>\n    <tr>\n      <th>9981</th>\n      <td>19</td>\n      <td>58.040000</td>\n      <td>Other</td>\n      <td>4.714286</td>\n      <td>19.342857</td>\n      <td>6.557143</td>\n      <td>26.714286</td>\n      <td>0.221705</td>\n      <td>2.388877</td>\n      <td>2020-07-27</td>\n      <td>Dingolfing-Landau</td>\n    </tr>\n  </tbody>\n</table>\n<p>13898 rows × 11 columns</p>\n</div>"
     },
     "execution_count": 16,
     "metadata": {},
     "output_type": "execute_result"
    }
   ],
   "source": [
    "df_v4[df_v4['infections'] > 20].sort_values('beta_t_minus_1', ascending=True)"
   ],
   "metadata": {
    "collapsed": false,
    "pycharm": {
     "name": "#%%\n"
    }
   }
  },
  {
   "cell_type": "markdown",
   "source": [
    "#### 5.1) Infection counts:\n",
    "Remove weeks in which the average number of daily infections where below a threshold as for extremely low values it is really hard to forecast beta:"
   ],
   "metadata": {
    "collapsed": false,
    "pycharm": {
     "name": "#%% md\n"
    }
   }
  },
  {
   "cell_type": "code",
   "execution_count": 17,
   "outputs": [],
   "source": [
    "# Drop all rows in which average number of infections is below 5:\n",
    "threshold = 20\n",
    "df_v5_1 = df_v4[df_v4['infections'] > threshold]"
   ],
   "metadata": {
    "collapsed": false,
    "pycharm": {
     "name": "#%%\n"
    }
   }
  },
  {
   "cell_type": "markdown",
   "source": [
    "#### 5.2) Beta values:"
   ],
   "metadata": {
    "collapsed": false
   }
  },
  {
   "cell_type": "code",
   "execution_count": 18,
   "outputs": [],
   "source": [
    "# Drop all rows in which the beta value is < 0.025:\n",
    "threshold = 0.025\n",
    "df_v5_2 = df_v5_1[df_v5_1['beta'] > threshold]"
   ],
   "metadata": {
    "collapsed": false,
    "pycharm": {
     "name": "#%%\n"
    }
   }
  },
  {
   "cell_type": "code",
   "execution_count": 19,
   "outputs": [
    {
     "data": {
      "text/plain": "0.45584436210317486"
     },
     "execution_count": 19,
     "metadata": {},
     "output_type": "execute_result"
    }
   ],
   "source": [
    "# correlation:\n",
    "df_v5_2['beta'].corr(df_v5_2['beta_t_minus_1'] )"
   ],
   "metadata": {
    "collapsed": false,
    "pycharm": {
     "name": "#%%\n"
    }
   }
  },
  {
   "cell_type": "markdown",
   "source": [
    "## 6) Preprocessing columns:\n"
   ],
   "metadata": {
    "collapsed": false,
    "pycharm": {
     "name": "#%% md\n"
    }
   }
  },
  {
   "cell_type": "markdown",
   "source": [
    "#### 6.1) Handling categorical columns:"
   ],
   "metadata": {
    "collapsed": false,
    "pycharm": {
     "name": "#%% md\n"
    }
   }
  },
  {
   "cell_type": "code",
   "execution_count": 20,
   "outputs": [],
   "source": [
    "# Only use week and district as index columns:\n",
    "df_v6_1 = df_v5_2.set_index(['week','district','start_date_forecasting'])"
   ],
   "metadata": {
    "collapsed": false,
    "pycharm": {
     "name": "#%%\n"
    }
   }
  },
  {
   "cell_type": "code",
   "execution_count": 21,
   "outputs": [],
   "source": [
    "# One hot-encode variant columns:\n",
    "df_v6_2_a = pd.get_dummies(df_v6_1['variant'])\n",
    "df_v6_2_b = df_v6_1.drop(columns='variant', axis=1)\n",
    "\n",
    "df_v6_2_c = pd.concat([df_v6_2_a,df_v6_2_b], axis=1)"
   ],
   "metadata": {
    "collapsed": false,
    "pycharm": {
     "name": "#%%\n"
    }
   }
  },
  {
   "cell_type": "code",
   "execution_count": 22,
   "outputs": [],
   "source": [
    "# Drop \"other\" variant column to prevent dummy variable trap:\n",
    "df_v6_2_d = df_v6_2_c.drop(columns='Other', axis=1)"
   ],
   "metadata": {
    "collapsed": false,
    "pycharm": {
     "name": "#%%\n"
    }
   }
  },
  {
   "cell_type": "markdown",
   "source": [
    "#### 6.2) Standardizing:"
   ],
   "metadata": {
    "collapsed": false,
    "pycharm": {
     "name": "#%% md\n"
    }
   }
  },
  {
   "cell_type": "code",
   "source": [
    "# Standardize:\n",
    "scaler_obj = StandardScaler()\n",
    "\n",
    "# Split explanatory columns from beta:\n",
    "explanatory_cols = df_v6_2_d.drop(columns=['beta'], axis=1)\n",
    "beta_cols = df_v6_2_d[['beta']]\n",
    "\n",
    "# Apply scaling:\n",
    "scaled_explanatory_cols = pd.DataFrame(scaler_obj.fit_transform(explanatory_cols), index=explanatory_cols.index, columns=explanatory_cols.columns)\n",
    "\n",
    "# Merge both together again:\n",
    "df_v6_3 = pd.concat([scaled_explanatory_cols, beta_cols], axis=1)"
   ],
   "metadata": {
    "collapsed": false,
    "pycharm": {
     "name": "#%%\n"
    }
   },
   "execution_count": 23,
   "outputs": []
  },
  {
   "cell_type": "markdown",
   "source": [
    "## 7) Modeling\n",
    "### 7.1) Preparation\n",
    "#### 7.1.1) Split into train/val:"
   ],
   "metadata": {
    "collapsed": false,
    "pycharm": {
     "name": "#%% md\n"
    }
   }
  },
  {
   "cell_type": "code",
   "source": [
    "df_full = df_v6_3\n",
    "df_full"
   ],
   "metadata": {
    "collapsed": false,
    "pycharm": {
     "name": "#%%\n"
    }
   },
   "execution_count": 121,
   "outputs": [
    {
     "data": {
      "text/plain": "                                      B.1.1.529   B.1.1.7  B.1.617.2  \\\nweek district start_date_forecasting                                   \n2    Aachen   2020-03-30              -0.243679 -0.643412  -0.780464   \n3    Aachen   2020-04-06              -0.243679 -0.643412  -0.780464   \n4    Aachen   2020-04-13              -0.243679 -0.643412  -0.780464   \n28   Aachen   2020-09-28              -0.243679 -0.643412  -0.780464   \n29   Aachen   2020-10-05              -0.243679 -0.643412  -0.780464   \n...                                         ...       ...        ...   \n91   Zwickau  2021-12-13              -0.243679 -0.643412   1.281290   \n92   Zwickau  2021-12-20              -0.243679 -0.643412   1.281290   \n93   Zwickau  2021-12-27              -0.243679 -0.643412   1.281290   \n94   Zwickau  2022-01-03               4.103757 -0.643412  -0.780464   \n95   Zwickau  2022-01-10               4.103757 -0.643412  -0.780464   \n\n                                      policy_index  mobility  temperature  \\\nweek district start_date_forecasting                                        \n2    Aachen   2020-03-30                 -0.703683 -2.651919    -0.205922   \n3    Aachen   2020-04-06                 -0.556133 -2.140381    -0.055050   \n4    Aachen   2020-04-13                 -0.394405 -1.779296     1.804743   \n28   Aachen   2020-09-28                 -1.631516  0.367155     1.619054   \n29   Aachen   2020-10-05                 -1.631516  0.517608     1.352126   \n...                                            ...       ...          ...   \n91   Zwickau  2021-12-13                  1.769387  0.096342    -1.169184   \n92   Zwickau  2021-12-20                  1.769387  0.206673    -0.272654   \n93   Zwickau  2021-12-27                  1.769387 -0.024020    -1.499943   \n94   Zwickau  2022-01-03                  1.769387 -0.826432     0.342441   \n95   Zwickau  2022-01-10                  1.769387  0.166553    -0.704962   \n\n                                          wind  infections  beta_t_minus_1  \\\nweek district start_date_forecasting                                         \n2    Aachen   2020-03-30              0.905543   -0.171991       -0.475700   \n3    Aachen   2020-04-06             -0.104176   -0.299066       -0.355522   \n4    Aachen   2020-04-13             -0.256398   -0.393874       -1.727688   \n28   Aachen   2020-09-28              0.805440   -0.379487       -0.626513   \n29   Aachen   2020-10-05              0.690346   -0.207253        0.235502   \n...                                        ...         ...             ...   \n91   Zwickau  2021-12-13             -0.787317    1.889576       -0.377459   \n92   Zwickau  2021-12-20             -0.278674    1.054604       -0.411073   \n93   Zwickau  2021-12-27             -0.222983    0.571168       -0.972410   \n94   Zwickau  2022-01-03              1.384624    0.272607       -0.603284   \n95   Zwickau  2022-01-10              1.366061    0.215889       -0.403129   \n\n                                          beta  \nweek district start_date_forecasting            \n2    Aachen   2020-03-30              0.300629  \n3    Aachen   2020-04-06              0.205305  \n4    Aachen   2020-04-13              0.226196  \n28   Aachen   2020-09-28              0.414793  \n29   Aachen   2020-10-05              0.461583  \n...                                        ...  \n91   Zwickau  2021-12-13              0.327476  \n92   Zwickau  2021-12-20              0.287899  \n93   Zwickau  2021-12-27              0.329843  \n94   Zwickau  2022-01-03              0.331757  \n95   Zwickau  2022-01-10              0.392796  \n\n[13898 rows x 10 columns]",
      "text/html": "<div>\n<style scoped>\n    .dataframe tbody tr th:only-of-type {\n        vertical-align: middle;\n    }\n\n    .dataframe tbody tr th {\n        vertical-align: top;\n    }\n\n    .dataframe thead th {\n        text-align: right;\n    }\n</style>\n<table border=\"1\" class=\"dataframe\">\n  <thead>\n    <tr style=\"text-align: right;\">\n      <th></th>\n      <th></th>\n      <th></th>\n      <th>B.1.1.529</th>\n      <th>B.1.1.7</th>\n      <th>B.1.617.2</th>\n      <th>policy_index</th>\n      <th>mobility</th>\n      <th>temperature</th>\n      <th>wind</th>\n      <th>infections</th>\n      <th>beta_t_minus_1</th>\n      <th>beta</th>\n    </tr>\n    <tr>\n      <th>week</th>\n      <th>district</th>\n      <th>start_date_forecasting</th>\n      <th></th>\n      <th></th>\n      <th></th>\n      <th></th>\n      <th></th>\n      <th></th>\n      <th></th>\n      <th></th>\n      <th></th>\n      <th></th>\n    </tr>\n  </thead>\n  <tbody>\n    <tr>\n      <th>2</th>\n      <th>Aachen</th>\n      <th>2020-03-30</th>\n      <td>-0.243679</td>\n      <td>-0.643412</td>\n      <td>-0.780464</td>\n      <td>-0.703683</td>\n      <td>-2.651919</td>\n      <td>-0.205922</td>\n      <td>0.905543</td>\n      <td>-0.171991</td>\n      <td>-0.475700</td>\n      <td>0.300629</td>\n    </tr>\n    <tr>\n      <th>3</th>\n      <th>Aachen</th>\n      <th>2020-04-06</th>\n      <td>-0.243679</td>\n      <td>-0.643412</td>\n      <td>-0.780464</td>\n      <td>-0.556133</td>\n      <td>-2.140381</td>\n      <td>-0.055050</td>\n      <td>-0.104176</td>\n      <td>-0.299066</td>\n      <td>-0.355522</td>\n      <td>0.205305</td>\n    </tr>\n    <tr>\n      <th>4</th>\n      <th>Aachen</th>\n      <th>2020-04-13</th>\n      <td>-0.243679</td>\n      <td>-0.643412</td>\n      <td>-0.780464</td>\n      <td>-0.394405</td>\n      <td>-1.779296</td>\n      <td>1.804743</td>\n      <td>-0.256398</td>\n      <td>-0.393874</td>\n      <td>-1.727688</td>\n      <td>0.226196</td>\n    </tr>\n    <tr>\n      <th>28</th>\n      <th>Aachen</th>\n      <th>2020-09-28</th>\n      <td>-0.243679</td>\n      <td>-0.643412</td>\n      <td>-0.780464</td>\n      <td>-1.631516</td>\n      <td>0.367155</td>\n      <td>1.619054</td>\n      <td>0.805440</td>\n      <td>-0.379487</td>\n      <td>-0.626513</td>\n      <td>0.414793</td>\n    </tr>\n    <tr>\n      <th>29</th>\n      <th>Aachen</th>\n      <th>2020-10-05</th>\n      <td>-0.243679</td>\n      <td>-0.643412</td>\n      <td>-0.780464</td>\n      <td>-1.631516</td>\n      <td>0.517608</td>\n      <td>1.352126</td>\n      <td>0.690346</td>\n      <td>-0.207253</td>\n      <td>0.235502</td>\n      <td>0.461583</td>\n    </tr>\n    <tr>\n      <th>...</th>\n      <th>...</th>\n      <th>...</th>\n      <td>...</td>\n      <td>...</td>\n      <td>...</td>\n      <td>...</td>\n      <td>...</td>\n      <td>...</td>\n      <td>...</td>\n      <td>...</td>\n      <td>...</td>\n      <td>...</td>\n    </tr>\n    <tr>\n      <th>91</th>\n      <th>Zwickau</th>\n      <th>2021-12-13</th>\n      <td>-0.243679</td>\n      <td>-0.643412</td>\n      <td>1.281290</td>\n      <td>1.769387</td>\n      <td>0.096342</td>\n      <td>-1.169184</td>\n      <td>-0.787317</td>\n      <td>1.889576</td>\n      <td>-0.377459</td>\n      <td>0.327476</td>\n    </tr>\n    <tr>\n      <th>92</th>\n      <th>Zwickau</th>\n      <th>2021-12-20</th>\n      <td>-0.243679</td>\n      <td>-0.643412</td>\n      <td>1.281290</td>\n      <td>1.769387</td>\n      <td>0.206673</td>\n      <td>-0.272654</td>\n      <td>-0.278674</td>\n      <td>1.054604</td>\n      <td>-0.411073</td>\n      <td>0.287899</td>\n    </tr>\n    <tr>\n      <th>93</th>\n      <th>Zwickau</th>\n      <th>2021-12-27</th>\n      <td>-0.243679</td>\n      <td>-0.643412</td>\n      <td>1.281290</td>\n      <td>1.769387</td>\n      <td>-0.024020</td>\n      <td>-1.499943</td>\n      <td>-0.222983</td>\n      <td>0.571168</td>\n      <td>-0.972410</td>\n      <td>0.329843</td>\n    </tr>\n    <tr>\n      <th>94</th>\n      <th>Zwickau</th>\n      <th>2022-01-03</th>\n      <td>4.103757</td>\n      <td>-0.643412</td>\n      <td>-0.780464</td>\n      <td>1.769387</td>\n      <td>-0.826432</td>\n      <td>0.342441</td>\n      <td>1.384624</td>\n      <td>0.272607</td>\n      <td>-0.603284</td>\n      <td>0.331757</td>\n    </tr>\n    <tr>\n      <th>95</th>\n      <th>Zwickau</th>\n      <th>2022-01-10</th>\n      <td>4.103757</td>\n      <td>-0.643412</td>\n      <td>-0.780464</td>\n      <td>1.769387</td>\n      <td>0.166553</td>\n      <td>-0.704962</td>\n      <td>1.366061</td>\n      <td>0.215889</td>\n      <td>-0.403129</td>\n      <td>0.392796</td>\n    </tr>\n  </tbody>\n</table>\n<p>13898 rows × 10 columns</p>\n</div>"
     },
     "execution_count": 121,
     "metadata": {},
     "output_type": "execute_result"
    }
   ]
  },
  {
   "cell_type": "code",
   "execution_count": 122,
   "outputs": [],
   "source": [
    "# Sample 1500 row out of last weeks available for training:\n",
    "sample_size = 1500\n",
    "max_week = max(df_full.index.get_level_values('week'))\n",
    "\n",
    "random_indices = df_full[df_full.index.get_level_values('week') >= max_week-5].sample(sample_size).index"
   ],
   "metadata": {
    "collapsed": false,
    "pycharm": {
     "name": "#%%\n"
    }
   }
  },
  {
   "cell_type": "code",
   "execution_count": 123,
   "outputs": [],
   "source": [
    "df_test = df_full.loc[df_full.index.isin(random_indices)]\n",
    "df_modeling = df_full.loc[~df_full.index.isin(random_indices)]"
   ],
   "metadata": {
    "collapsed": false,
    "pycharm": {
     "name": "#%%\n"
    }
   }
  },
  {
   "cell_type": "markdown",
   "source": [
    "#### 7.1.2) Split into train, val and test:"
   ],
   "metadata": {
    "collapsed": false,
    "pycharm": {
     "name": "#%% md\n"
    }
   }
  },
  {
   "cell_type": "code",
   "execution_count": 124,
   "outputs": [],
   "source": [
    "SEED = 420"
   ],
   "metadata": {
    "collapsed": false,
    "pycharm": {
     "name": "#%%\n"
    }
   }
  },
  {
   "cell_type": "code",
   "execution_count": 125,
   "outputs": [],
   "source": [
    "X_full_modeling = df_modeling.drop(columns=['beta'], axis=1)\n",
    "y_full_modeling = df_modeling['beta']\n",
    "\n",
    "X_test = df_test.drop(columns=['beta'], axis=1)\n",
    "y_test = df_test['beta']"
   ],
   "metadata": {
    "collapsed": false,
    "pycharm": {
     "name": "#%%\n"
    }
   }
  },
  {
   "cell_type": "code",
   "source": [
    "# Train and Val:\n",
    "X_train, X_val, y_train, y_val = train_test_split(X_full_modeling, y_full_modeling, shuffle=True, train_size=0.75, random_state=SEED)"
   ],
   "metadata": {
    "collapsed": false,
    "pycharm": {
     "name": "#%%\n"
    }
   },
   "execution_count": 126,
   "outputs": []
  },
  {
   "cell_type": "markdown",
   "source": [
    "### 7.2 Models\n",
    "#### 7.2.1) Baseline Approach: Choosing previous beta"
   ],
   "metadata": {
    "collapsed": false,
    "pycharm": {
     "name": "#%% md\n"
    }
   }
  },
  {
   "cell_type": "code",
   "execution_count": 127,
   "outputs": [],
   "source": [
    "# Baseline approach would be to use the beta from the previous week for the next week:\n",
    "## Therefore we have to compare how well this works, compared to our ML approach:\n",
    "\n",
    "# As the values are standardized we have to reverse standardize them first:\n",
    "y_pred_baseline_val = pd.DataFrame(scaler_obj.inverse_transform(X_val), index=X_val.index, columns=X_val.columns)['beta_t_minus_1']"
   ],
   "metadata": {
    "collapsed": false,
    "pycharm": {
     "name": "#%%\n"
    }
   }
  },
  {
   "cell_type": "code",
   "execution_count": 128,
   "outputs": [
    {
     "data": {
      "text/plain": "0.5100415580805281"
     },
     "execution_count": 128,
     "metadata": {},
     "output_type": "execute_result"
    }
   ],
   "source": [
    "# Correlation of this approach:\n",
    "y_pred_baseline_val.corr(y_val)"
   ],
   "metadata": {
    "collapsed": false,
    "pycharm": {
     "name": "#%%\n"
    }
   }
  },
  {
   "cell_type": "code",
   "execution_count": 129,
   "outputs": [
    {
     "data": {
      "text/plain": "                                                  y_val  y_pred_baseline\nweek district          start_date_forecasting                           \n55   Bremerhaven       2021-04-05              0.293451         0.266345\n39   Rotenburg (Wümme) 2020-12-14              0.310055         0.360803\n45   Schwalm-Eder      2021-01-25              0.294304         0.364152\n81   Vorpommern-Rügen  2021-10-04              0.323457         0.504445\n40   Heinsberg         2020-12-21              0.302554         0.307872\n...                                                 ...              ...\n55   Reutlingen        2021-04-05              0.335680         0.337460\n90   Straubing-Bogen   2021-12-06              0.273998         0.286062\n50   Solingen          2021-03-01              0.270564         0.373545\n61   Wuppertal         2021-05-17              0.239230         0.248015\n51   Osnabrück, Stadt  2021-03-08              0.443219         0.280229\n\n[3100 rows x 2 columns]",
      "text/html": "<div>\n<style scoped>\n    .dataframe tbody tr th:only-of-type {\n        vertical-align: middle;\n    }\n\n    .dataframe tbody tr th {\n        vertical-align: top;\n    }\n\n    .dataframe thead th {\n        text-align: right;\n    }\n</style>\n<table border=\"1\" class=\"dataframe\">\n  <thead>\n    <tr style=\"text-align: right;\">\n      <th></th>\n      <th></th>\n      <th></th>\n      <th>y_val</th>\n      <th>y_pred_baseline</th>\n    </tr>\n    <tr>\n      <th>week</th>\n      <th>district</th>\n      <th>start_date_forecasting</th>\n      <th></th>\n      <th></th>\n    </tr>\n  </thead>\n  <tbody>\n    <tr>\n      <th>55</th>\n      <th>Bremerhaven</th>\n      <th>2021-04-05</th>\n      <td>0.293451</td>\n      <td>0.266345</td>\n    </tr>\n    <tr>\n      <th>39</th>\n      <th>Rotenburg (Wümme)</th>\n      <th>2020-12-14</th>\n      <td>0.310055</td>\n      <td>0.360803</td>\n    </tr>\n    <tr>\n      <th>45</th>\n      <th>Schwalm-Eder</th>\n      <th>2021-01-25</th>\n      <td>0.294304</td>\n      <td>0.364152</td>\n    </tr>\n    <tr>\n      <th>81</th>\n      <th>Vorpommern-Rügen</th>\n      <th>2021-10-04</th>\n      <td>0.323457</td>\n      <td>0.504445</td>\n    </tr>\n    <tr>\n      <th>40</th>\n      <th>Heinsberg</th>\n      <th>2020-12-21</th>\n      <td>0.302554</td>\n      <td>0.307872</td>\n    </tr>\n    <tr>\n      <th>...</th>\n      <th>...</th>\n      <th>...</th>\n      <td>...</td>\n      <td>...</td>\n    </tr>\n    <tr>\n      <th>55</th>\n      <th>Reutlingen</th>\n      <th>2021-04-05</th>\n      <td>0.335680</td>\n      <td>0.337460</td>\n    </tr>\n    <tr>\n      <th>90</th>\n      <th>Straubing-Bogen</th>\n      <th>2021-12-06</th>\n      <td>0.273998</td>\n      <td>0.286062</td>\n    </tr>\n    <tr>\n      <th>50</th>\n      <th>Solingen</th>\n      <th>2021-03-01</th>\n      <td>0.270564</td>\n      <td>0.373545</td>\n    </tr>\n    <tr>\n      <th>61</th>\n      <th>Wuppertal</th>\n      <th>2021-05-17</th>\n      <td>0.239230</td>\n      <td>0.248015</td>\n    </tr>\n    <tr>\n      <th>51</th>\n      <th>Osnabrück, Stadt</th>\n      <th>2021-03-08</th>\n      <td>0.443219</td>\n      <td>0.280229</td>\n    </tr>\n  </tbody>\n</table>\n<p>3100 rows × 2 columns</p>\n</div>"
     },
     "execution_count": 129,
     "metadata": {},
     "output_type": "execute_result"
    }
   ],
   "source": [
    "pd.DataFrame({'y_val':y_val, 'y_pred_baseline':y_pred_baseline_val})"
   ],
   "metadata": {
    "collapsed": false,
    "pycharm": {
     "name": "#%%\n"
    }
   }
  },
  {
   "cell_type": "code",
   "execution_count": 130,
   "outputs": [
    {
     "name": "stdout",
     "output_type": "stream",
     "text": [
      "Baseline RMSE is: 0.09505799900600805\n"
     ]
    }
   ],
   "source": [
    "# Compute RMSE of baseline approach:\n",
    "rmse_baseline =  mean_squared_error(y_val, y_pred_baseline_val, squared=False)\n",
    "print(f'Baseline RMSE is: {rmse_baseline}')"
   ],
   "metadata": {
    "collapsed": false,
    "pycharm": {
     "name": "#%%\n"
    }
   }
  },
  {
   "cell_type": "markdown",
   "source": [
    "#### 7.2.2) Multivariate Linear Regression"
   ],
   "metadata": {
    "collapsed": false
   }
  },
  {
   "cell_type": "code",
   "execution_count": 131,
   "outputs": [],
   "source": [
    "regr = linear_model.LinearRegression()\n",
    "regr.fit(X_train, y_train)\n",
    "\n",
    "y_pred_linreg = regr.predict(X_val)\n",
    "rmse_linreg = mean_squared_error(y_val, y_pred_linreg, squared=False)"
   ],
   "metadata": {
    "collapsed": false,
    "pycharm": {
     "name": "#%%\n"
    }
   }
  },
  {
   "cell_type": "code",
   "execution_count": 132,
   "outputs": [
    {
     "name": "stdout",
     "output_type": "stream",
     "text": [
      "RMSE of LinearRegression() is: 0.06131638766641736. This is an improvement compared to the baseline approach of: 35.495814862942865 %\n"
     ]
    }
   ],
   "source": [
    "print(f'RMSE of {regr} is: {rmse_linreg}. This is an improvement compared to the baseline approach of: {-(rmse_linreg / rmse_baseline -1)*100} %')"
   ],
   "metadata": {
    "collapsed": false,
    "pycharm": {
     "name": "#%%\n"
    }
   }
  },
  {
   "cell_type": "markdown",
   "source": [
    "#### 7.2.3) Ridge Regression:"
   ],
   "metadata": {
    "collapsed": false,
    "pycharm": {
     "name": "#%% md\n"
    }
   }
  },
  {
   "cell_type": "code",
   "execution_count": 133,
   "outputs": [],
   "source": [
    "ridge_reg = linear_model.Ridge()\n",
    "ridge_reg.fit(X_train, y_train)\n",
    "\n",
    "y_pred_ridge_reg = ridge_reg.predict(X_val)\n",
    "rmse_ridge_reg = mean_squared_error(y_val, y_pred_ridge_reg, squared=False)"
   ],
   "metadata": {
    "collapsed": false,
    "pycharm": {
     "name": "#%%\n"
    }
   }
  },
  {
   "cell_type": "code",
   "execution_count": 134,
   "outputs": [
    {
     "name": "stdout",
     "output_type": "stream",
     "text": [
      "RMSE of Ridge() is: 0.06131592697647359. This is an improvement compared to the baseline approach of: 35.49629950384483 %\n"
     ]
    }
   ],
   "source": [
    "print(f'RMSE of {ridge_reg} is: {rmse_ridge_reg}. This is an improvement compared to the baseline approach of: {-(rmse_ridge_reg / rmse_baseline -1)*100} %')"
   ],
   "metadata": {
    "collapsed": false,
    "pycharm": {
     "name": "#%%\n"
    }
   }
  },
  {
   "cell_type": "markdown",
   "source": [
    "#### 7.2.4) Random Forest Regressor:"
   ],
   "metadata": {
    "collapsed": false,
    "pycharm": {
     "name": "#%% md\n"
    }
   }
  },
  {
   "cell_type": "code",
   "execution_count": 135,
   "outputs": [],
   "source": [
    "rfg_model = RandomForestRegressor()\n",
    "rfg_model.fit(X_train, y_train)\n",
    "\n",
    "y_pred_random_forest = rfg_model.predict(X_val)\n",
    "rmse_random_forest = mean_squared_error(y_val, y_pred_random_forest, squared=False)"
   ],
   "metadata": {
    "collapsed": false,
    "pycharm": {
     "name": "#%%\n"
    }
   }
  },
  {
   "cell_type": "code",
   "execution_count": 136,
   "outputs": [
    {
     "name": "stdout",
     "output_type": "stream",
     "text": [
      "RMSE of RandomForestRegressor() is: 0.05117363435353169. This is an improvement compared to the baseline approach of: 46.16588305178051 %\n"
     ]
    }
   ],
   "source": [
    "print(f'RMSE of {rfg_model} is: {rmse_random_forest}. This is an improvement compared to the baseline approach of: {-(rmse_random_forest / rmse_baseline -1)*100} %')"
   ],
   "metadata": {
    "collapsed": false,
    "pycharm": {
     "name": "#%%\n"
    }
   }
  },
  {
   "cell_type": "markdown",
   "source": [
    "#### 7.2.5) Support Vector Machines"
   ],
   "metadata": {
    "collapsed": false,
    "pycharm": {
     "name": "#%% md\n"
    }
   }
  },
  {
   "cell_type": "code",
   "execution_count": 137,
   "outputs": [],
   "source": [
    "svm = SVR()\n",
    "svm.fit(X_train, y_train)\n",
    "\n",
    "y_pred_svm = svm.predict(X_val)\n",
    "rmse_svm = mean_squared_error(y_val, y_pred_svm, squared=False)"
   ],
   "metadata": {
    "collapsed": false,
    "pycharm": {
     "name": "#%%\n"
    }
   }
  },
  {
   "cell_type": "code",
   "execution_count": 138,
   "outputs": [
    {
     "name": "stdout",
     "output_type": "stream",
     "text": [
      "RMSE of SVR() is: 0.05871208532625408. This is an improvement compared to the baseline approach of: 38.23551311810882 %\n"
     ]
    }
   ],
   "source": [
    "print(f'RMSE of {svm} is: {rmse_svm}. This is an improvement compared to the baseline approach of: {-(rmse_svm / rmse_baseline -1)*100} %')"
   ],
   "metadata": {
    "collapsed": false,
    "pycharm": {
     "name": "#%%\n"
    }
   }
  },
  {
   "cell_type": "markdown",
   "source": [
    "#### 7.2.6) XGBoost"
   ],
   "metadata": {
    "collapsed": false,
    "pycharm": {
     "name": "#%% md\n"
    }
   }
  },
  {
   "cell_type": "code",
   "execution_count": 139,
   "outputs": [],
   "source": [
    "xgb_model = xgb.XGBRegressor(verbosity=0)\n",
    "xgb_model.name = 'XGBoostRegressor'\n",
    "xgb_model.fit(X_train, y_train)\n",
    "\n",
    "y_pred_xgb = xgb_model.predict(X_val)\n",
    "rmse_xgb = mean_squared_error(y_val, y_pred_xgb, squared=False)"
   ],
   "metadata": {
    "collapsed": false,
    "pycharm": {
     "name": "#%%\n"
    }
   }
  },
  {
   "cell_type": "code",
   "execution_count": 140,
   "outputs": [
    {
     "name": "stdout",
     "output_type": "stream",
     "text": [
      "\n",
      " RMSE of XGBoostRegressor is: 0.05269516876149724. This is an improvement compared to the baseline approach of: 44.5652451003448 %\n"
     ]
    }
   ],
   "source": [
    "print(f'\\n RMSE of {xgb_model.name} is: {rmse_xgb}. This is an improvement compared to the baseline approach of: {-(rmse_xgb / rmse_baseline -1)*100} %')"
   ],
   "metadata": {
    "collapsed": false,
    "pycharm": {
     "name": "#%%\n"
    }
   }
  },
  {
   "cell_type": "code",
   "execution_count": 141,
   "outputs": [
    {
     "data": {
      "text/plain": "                                                        beta_opt  last_beta  \\\nweek district                   start_date_forecasting                        \n95   Recklinghausen             2022-01-10              0.466727   0.484974   \n     Landeshauptstadt Wiesbaden 2022-01-10              0.622669   0.589446   \n     Euskirchen                 2022-01-10              0.500047   0.518305   \n     Herne                      2022-01-10              0.630335   0.642132   \n     Rheingau-Taunus            2022-01-10              0.573513   0.470809   \n...                                                          ...        ...   \n2    Hannover                   2020-03-30              0.278749   0.432434   \n     Fürstenfeldbruck           2020-03-30              0.252177   0.564165   \n     Schwäbisch Hall            2020-03-30              0.303848   0.459277   \n     Paderborn                  2020-03-30              0.429052   0.360373   \n     Düsseldorf                 2020-03-30              0.367956   0.262332   \n\n                                                        last_beta_standardized  \\\nweek district                   start_date_forecasting                           \n95   Recklinghausen             2022-01-10                            0.982838   \n     Landeshauptstadt Wiesbaden 2022-01-10                            2.030503   \n     Euskirchen                 2022-01-10                            1.317084   \n     Herne                      2022-01-10                            2.558851   \n     Rheingau-Taunus            2022-01-10                            0.840791   \n...                                                                        ...   \n2    Hannover                   2020-03-30                            0.455953   \n     Fürstenfeldbruck           2020-03-30                            1.776986   \n     Schwäbisch Hall            2020-03-30                            0.725143   \n     Paderborn                  2020-03-30                           -0.266681   \n     Düsseldorf                 2020-03-30                           -1.249863   \n\n                                                        xgb_pred  \nweek district                   start_date_forecasting            \n95   Recklinghausen             2022-01-10              0.514669  \n     Landeshauptstadt Wiesbaden 2022-01-10              0.531590  \n     Euskirchen                 2022-01-10              0.490774  \n     Herne                      2022-01-10              0.494596  \n     Rheingau-Taunus            2022-01-10              0.528188  \n...                                                          ...  \n2    Hannover                   2020-03-30              0.353772  \n     Fürstenfeldbruck           2020-03-30              0.339177  \n     Schwäbisch Hall            2020-03-30              0.302387  \n     Paderborn                  2020-03-30              0.319977  \n     Düsseldorf                 2020-03-30              0.312688  \n\n[3100 rows x 4 columns]",
      "text/html": "<div>\n<style scoped>\n    .dataframe tbody tr th:only-of-type {\n        vertical-align: middle;\n    }\n\n    .dataframe tbody tr th {\n        vertical-align: top;\n    }\n\n    .dataframe thead th {\n        text-align: right;\n    }\n</style>\n<table border=\"1\" class=\"dataframe\">\n  <thead>\n    <tr style=\"text-align: right;\">\n      <th></th>\n      <th></th>\n      <th></th>\n      <th>beta_opt</th>\n      <th>last_beta</th>\n      <th>last_beta_standardized</th>\n      <th>xgb_pred</th>\n    </tr>\n    <tr>\n      <th>week</th>\n      <th>district</th>\n      <th>start_date_forecasting</th>\n      <th></th>\n      <th></th>\n      <th></th>\n      <th></th>\n    </tr>\n  </thead>\n  <tbody>\n    <tr>\n      <th rowspan=\"5\" valign=\"top\">95</th>\n      <th>Recklinghausen</th>\n      <th>2022-01-10</th>\n      <td>0.466727</td>\n      <td>0.484974</td>\n      <td>0.982838</td>\n      <td>0.514669</td>\n    </tr>\n    <tr>\n      <th>Landeshauptstadt Wiesbaden</th>\n      <th>2022-01-10</th>\n      <td>0.622669</td>\n      <td>0.589446</td>\n      <td>2.030503</td>\n      <td>0.531590</td>\n    </tr>\n    <tr>\n      <th>Euskirchen</th>\n      <th>2022-01-10</th>\n      <td>0.500047</td>\n      <td>0.518305</td>\n      <td>1.317084</td>\n      <td>0.490774</td>\n    </tr>\n    <tr>\n      <th>Herne</th>\n      <th>2022-01-10</th>\n      <td>0.630335</td>\n      <td>0.642132</td>\n      <td>2.558851</td>\n      <td>0.494596</td>\n    </tr>\n    <tr>\n      <th>Rheingau-Taunus</th>\n      <th>2022-01-10</th>\n      <td>0.573513</td>\n      <td>0.470809</td>\n      <td>0.840791</td>\n      <td>0.528188</td>\n    </tr>\n    <tr>\n      <th>...</th>\n      <th>...</th>\n      <th>...</th>\n      <td>...</td>\n      <td>...</td>\n      <td>...</td>\n      <td>...</td>\n    </tr>\n    <tr>\n      <th rowspan=\"5\" valign=\"top\">2</th>\n      <th>Hannover</th>\n      <th>2020-03-30</th>\n      <td>0.278749</td>\n      <td>0.432434</td>\n      <td>0.455953</td>\n      <td>0.353772</td>\n    </tr>\n    <tr>\n      <th>Fürstenfeldbruck</th>\n      <th>2020-03-30</th>\n      <td>0.252177</td>\n      <td>0.564165</td>\n      <td>1.776986</td>\n      <td>0.339177</td>\n    </tr>\n    <tr>\n      <th>Schwäbisch Hall</th>\n      <th>2020-03-30</th>\n      <td>0.303848</td>\n      <td>0.459277</td>\n      <td>0.725143</td>\n      <td>0.302387</td>\n    </tr>\n    <tr>\n      <th>Paderborn</th>\n      <th>2020-03-30</th>\n      <td>0.429052</td>\n      <td>0.360373</td>\n      <td>-0.266681</td>\n      <td>0.319977</td>\n    </tr>\n    <tr>\n      <th>Düsseldorf</th>\n      <th>2020-03-30</th>\n      <td>0.367956</td>\n      <td>0.262332</td>\n      <td>-1.249863</td>\n      <td>0.312688</td>\n    </tr>\n  </tbody>\n</table>\n<p>3100 rows × 4 columns</p>\n</div>"
     },
     "execution_count": 141,
     "metadata": {},
     "output_type": "execute_result"
    }
   ],
   "source": [
    "pd.DataFrame({'beta_opt':y_val, 'last_beta':y_pred_baseline_val, 'last_beta_standardized':X_val['beta_t_minus_1'], 'xgb_pred':y_pred_xgb}).sort_values('start_date_forecasting', ascending=False)"
   ],
   "metadata": {
    "collapsed": false,
    "pycharm": {
     "name": "#%%\n"
    }
   }
  },
  {
   "cell_type": "markdown",
   "source": [
    "#### 7.2.7) Neural Network"
   ],
   "metadata": {
    "collapsed": false,
    "pycharm": {
     "name": "#%% md\n"
    }
   }
  },
  {
   "cell_type": "code",
   "execution_count": 142,
   "outputs": [],
   "source": [
    "ann_model = Sequential([\n",
    "    Dense(24, input_dim=len(X_train.columns), activation='relu'),\n",
    "    Dropout(0.2),\n",
    "    Dense(16, activation='relu'),\n",
    "    Dropout(0.2),\n",
    "    Dense(1, activation='linear')\n",
    "])\n",
    "\n",
    "\n",
    "# compile model:\n",
    "ann_model.compile(\n",
    "    loss = 'mse',\n",
    "    optimizer = 'adam',\n",
    "    metrics=[RootMeanSquaredError(name='rmse')]\n",
    ")"
   ],
   "metadata": {
    "collapsed": false,
    "pycharm": {
     "name": "#%%\n"
    }
   }
  },
  {
   "cell_type": "code",
   "execution_count": 143,
   "outputs": [
    {
     "name": "stdout",
     "output_type": "stream",
     "text": [
      "Epoch 1/20\n",
      "291/291 [==============================] - 1s 1ms/step - loss: 0.0567 - rmse: 0.2382 - val_loss: 0.0083 - val_rmse: 0.0910\n",
      "Epoch 2/20\n",
      "291/291 [==============================] - 0s 945us/step - loss: 0.0133 - rmse: 0.1155 - val_loss: 0.0055 - val_rmse: 0.0745\n",
      "Epoch 3/20\n",
      "291/291 [==============================] - 0s 948us/step - loss: 0.0081 - rmse: 0.0900 - val_loss: 0.0049 - val_rmse: 0.0697\n",
      "Epoch 4/20\n",
      "291/291 [==============================] - 0s 948us/step - loss: 0.0061 - rmse: 0.0779 - val_loss: 0.0045 - val_rmse: 0.0669\n",
      "Epoch 5/20\n",
      "291/291 [==============================] - 0s 946us/step - loss: 0.0056 - rmse: 0.0750 - val_loss: 0.0043 - val_rmse: 0.0659\n",
      "Epoch 6/20\n",
      "291/291 [==============================] - 0s 944us/step - loss: 0.0051 - rmse: 0.0713 - val_loss: 0.0040 - val_rmse: 0.0634\n",
      "Epoch 7/20\n",
      "291/291 [==============================] - 0s 938us/step - loss: 0.0049 - rmse: 0.0702 - val_loss: 0.0040 - val_rmse: 0.0631\n",
      "Epoch 8/20\n",
      "291/291 [==============================] - 0s 949us/step - loss: 0.0047 - rmse: 0.0686 - val_loss: 0.0038 - val_rmse: 0.0618\n",
      "Epoch 9/20\n",
      "291/291 [==============================] - 0s 948us/step - loss: 0.0048 - rmse: 0.0690 - val_loss: 0.0038 - val_rmse: 0.0620\n",
      "Epoch 10/20\n",
      "291/291 [==============================] - 0s 957us/step - loss: 0.0045 - rmse: 0.0671 - val_loss: 0.0038 - val_rmse: 0.0617\n",
      "Epoch 11/20\n",
      "291/291 [==============================] - 0s 944us/step - loss: 0.0044 - rmse: 0.0663 - val_loss: 0.0038 - val_rmse: 0.0613\n",
      "Epoch 12/20\n",
      "291/291 [==============================] - 0s 934us/step - loss: 0.0044 - rmse: 0.0666 - val_loss: 0.0036 - val_rmse: 0.0603\n",
      "Epoch 13/20\n",
      "291/291 [==============================] - 0s 922us/step - loss: 0.0044 - rmse: 0.0662 - val_loss: 0.0037 - val_rmse: 0.0610\n",
      "Epoch 14/20\n",
      "291/291 [==============================] - 0s 948us/step - loss: 0.0044 - rmse: 0.0664 - val_loss: 0.0036 - val_rmse: 0.0601\n",
      "Epoch 15/20\n",
      "291/291 [==============================] - 0s 938us/step - loss: 0.0043 - rmse: 0.0653 - val_loss: 0.0037 - val_rmse: 0.0609\n",
      "Epoch 16/20\n",
      "291/291 [==============================] - 0s 936us/step - loss: 0.0042 - rmse: 0.0652 - val_loss: 0.0035 - val_rmse: 0.0593\n",
      "Epoch 17/20\n",
      "291/291 [==============================] - 0s 959us/step - loss: 0.0042 - rmse: 0.0646 - val_loss: 0.0038 - val_rmse: 0.0618\n",
      "Epoch 18/20\n",
      "291/291 [==============================] - 0s 956us/step - loss: 0.0042 - rmse: 0.0650 - val_loss: 0.0037 - val_rmse: 0.0606\n",
      "Epoch 19/20\n",
      "291/291 [==============================] - 0s 930us/step - loss: 0.0042 - rmse: 0.0648 - val_loss: 0.0036 - val_rmse: 0.0600\n",
      "Epoch 20/20\n",
      "291/291 [==============================] - 0s 934us/step - loss: 0.0041 - rmse: 0.0642 - val_loss: 0.0035 - val_rmse: 0.0591\n"
     ]
    }
   ],
   "source": [
    "history = ann_model.fit(X_train,\n",
    "                        y_train,\n",
    "                        epochs=20,\n",
    "                        # class_weight=class_weight,\n",
    "                        validation_data=(X_val, y_val),\n",
    "                        )"
   ],
   "metadata": {
    "collapsed": false,
    "pycharm": {
     "name": "#%%\n"
    }
   }
  },
  {
   "cell_type": "code",
   "execution_count": 144,
   "outputs": [],
   "source": [
    "y_pred_ann = ann_model.predict(X_val)\n",
    "rmse_ann = mean_squared_error(y_val, y_pred_ann, squared=False)"
   ],
   "metadata": {
    "collapsed": false,
    "pycharm": {
     "name": "#%%\n"
    }
   }
  },
  {
   "cell_type": "code",
   "execution_count": 145,
   "outputs": [
    {
     "name": "stdout",
     "output_type": "stream",
     "text": [
      "RMSE of <keras.engine.sequential.Sequential object at 0x16c6e1b50> is: 0.059128966308774386. This is an improvement compared to the baseline approach of: 37.796958775623715 %\n"
     ]
    }
   ],
   "source": [
    "print(f'RMSE of {ann_model} is: {rmse_ann}. This is an improvement compared to the baseline approach of: {-(rmse_ann / rmse_baseline -1)*100} %')"
   ],
   "metadata": {
    "collapsed": false,
    "pycharm": {
     "name": "#%%\n"
    }
   }
  },
  {
   "cell_type": "markdown",
   "source": [
    "## 8) Model Evaluation:"
   ],
   "metadata": {
    "collapsed": false,
    "pycharm": {
     "name": "#%% md\n"
    }
   }
  },
  {
   "cell_type": "markdown",
   "source": [
    "### Metric Computation:"
   ],
   "metadata": {
    "collapsed": false,
    "pycharm": {
     "name": "#%% md\n"
    }
   }
  },
  {
   "cell_type": "markdown",
   "source": [
    "#### Baseline:"
   ],
   "metadata": {
    "collapsed": false,
    "pycharm": {
     "name": "#%% md\n"
    }
   }
  },
  {
   "cell_type": "code",
   "execution_count": 146,
   "outputs": [
    {
     "name": "stdout",
     "output_type": "stream",
     "text": [
      "RMSE of baseline approach is: 0.12026247005874394\n"
     ]
    }
   ],
   "source": [
    "y_pred_baseline_test = pd.DataFrame(scaler_obj.inverse_transform(X_test), index=X_test.index, columns=X_test.columns)['beta_t_minus_1']\n",
    "rmse_baseline_test = mean_squared_error(y_pred_baseline_test, y_test, squared=False)\n",
    "print(f'RMSE of baseline approach is: {rmse_baseline_test}')"
   ],
   "metadata": {
    "collapsed": false,
    "pycharm": {
     "name": "#%%\n"
    }
   }
  },
  {
   "cell_type": "markdown",
   "source": [
    "#### Random Forest:"
   ],
   "metadata": {
    "collapsed": false
   }
  },
  {
   "cell_type": "code",
   "execution_count": 147,
   "outputs": [
    {
     "name": "stdout",
     "output_type": "stream",
     "text": [
      "RMSE of RandomForestRegressor() is: 0.0801254396282486. This is an improvement compared to the baseline approach of: 33.374526908427725%\n"
     ]
    }
   ],
   "source": [
    "# Apply optimal model to testset:\n",
    "y_pred_test_rf = rfg_model.predict(X_test)\n",
    "\n",
    "rmse_rf_test = mean_squared_error(y_pred_test_rf, y_test, squared=False)\n",
    "print(f'RMSE of {rfg_model} is: {rmse_rf_test}. This is an improvement compared to the baseline approach of: {-(rmse_rf_test / rmse_baseline_test -1)*100}%')"
   ],
   "metadata": {
    "collapsed": false,
    "pycharm": {
     "name": "#%%\n"
    }
   }
  },
  {
   "cell_type": "markdown",
   "source": [
    "#### XGB Boost:"
   ],
   "metadata": {
    "collapsed": false,
    "pycharm": {
     "name": "#%% md\n"
    }
   },
   "execution_count": 81
  },
  {
   "cell_type": "code",
   "execution_count": 148,
   "outputs": [
    {
     "name": "stdout",
     "output_type": "stream",
     "text": [
      "RMSE of XGBoostRegressor is: 0.0827181426089507. This is an improvement compared to the baseline approach of: 31.218656519739007%\n"
     ]
    }
   ],
   "source": [
    "# Apply optimal model to testset:\n",
    "y_pred_test_xgb = xgb_model.predict(X_test)\n",
    "\n",
    "rmse_xgb_test = mean_squared_error(y_pred_test_xgb, y_test, squared=False)\n",
    "print(f'RMSE of {xgb_model.name} is: {rmse_xgb_test}. This is an improvement compared to the baseline approach of: {-(rmse_xgb_test / rmse_baseline_test -1)*100}%')"
   ],
   "metadata": {
    "collapsed": false,
    "pycharm": {
     "name": "#%%\n"
    }
   }
  },
  {
   "cell_type": "markdown",
   "source": [
    "### Model comparison:"
   ],
   "metadata": {
    "collapsed": false,
    "pycharm": {
     "name": "#%% md\n"
    }
   }
  },
  {
   "cell_type": "code",
   "execution_count": 149,
   "outputs": [
    {
     "data": {
      "text/plain": "<Figure size 432x288 with 1 Axes>",
      "image/png": "[encoded data removed]"
     },
     "metadata": {
      "needs_background": "light"
     },
     "output_type": "display_data"
    }
   ],
   "source": [
    "rmses_dict = {\n",
    "    'LinReg': rmse_linreg,\n",
    "    'Ridge_Reg': rmse_ridge_reg,\n",
    "    'Random_Forest': rmse_random_forest,\n",
    "    'SVM': rmse_svm,\n",
    "    'XGB': rmse_xgb,\n",
    "    'ANN':rmse_ann,\n",
    "    'Baseline': rmse_baseline,\n",
    "}\n",
    "\n",
    "rmses_rel_improvement = {k:(-(v/rmse_baseline-1)*100) for (k,v) in rmses_dict.items()}\n",
    "rmses_rel_improvement\n",
    "\n",
    "plt.bar(x=rmses_rel_improvement.keys(),height=rmses_rel_improvement.values())\n",
    "plt.title(\"Relative Improvement to Using the Last Beta:\")\n",
    "plt.xlabel(xlabel='Machine Learning Regression Approaches')\n",
    "plt.ylabel(ylabel='Relative Improvement to RMSE %')\n",
    "plt.show()"
   ],
   "metadata": {
    "collapsed": false,
    "pycharm": {
     "name": "#%%\n"
    }
   }
  },
  {
   "cell_type": "markdown",
   "source": [
    "### Feature Importance:"
   ],
   "metadata": {
    "collapsed": false,
    "pycharm": {
     "name": "#%% md\n"
    }
   }
  },
  {
   "cell_type": "code",
   "execution_count": 151,
   "outputs": [
    {
     "data": {
      "text/plain": "<AxesSubplot:>"
     },
     "execution_count": 150,
     "metadata": {},
     "output_type": "execute_result"
    },
    {
     "data": {
      "text/plain": "<Figure size 864x720 with 1 Axes>",
      "image/png": "[encoded data removed]"
     },
     "metadata": {
      "needs_background": "light"
     },
     "output_type": "display_data"
    },
    {
     "data": {
      "text/plain": "<AxesSubplot:>"
     },
     "execution_count": 151,
     "metadata": {},
     "output_type": "execute_result"
    },
    {
     "data": {
      "text/plain": "<Figure size 864x720 with 1 Axes>",
      "image/png": "[encoded data removed]"
     },
     "metadata": {
      "needs_background": "light"
     },
     "output_type": "display_data"
    }
   ],
   "source": [
    "feature_important = xgb_model.get_booster().get_score(importance_type='gain')\n",
    "\n",
    "keys = list(feature_important.keys())\n",
    "values = list(feature_important.values())\n",
    "\n",
    "data = pd.DataFrame(data=values, index=keys, columns=[\"score\"]).sort_values(by = \"score\", ascending=False)\n",
    "data.nlargest(40, columns=\"score\").plot(kind='barh', figsize = (12,10)) ## plot top 40 features"
   ],
   "metadata": {
    "collapsed": false,
    "pycharm": {
     "name": "#%%\n"
    }
   }
  },
  {
   "cell_type": "code",
   "execution_count": 152,
   "outputs": [],
   "source": [
    "perm_importance = permutation_importance(xgb_model, X_test, y_test)"
   ],
   "metadata": {
    "collapsed": false,
    "pycharm": {
     "name": "#%%\n"
    }
   }
  },
  {
   "cell_type": "code",
   "execution_count": 153,
   "outputs": [
    {
     "data": {
      "text/plain": "Text(0.5, 0, 'Permutation Importance')"
     },
     "execution_count": 153,
     "metadata": {},
     "output_type": "execute_result"
    },
    {
     "data": {
      "text/plain": "<Figure size 432x288 with 1 Axes>",
      "image/png": "[encoded data removed]"
     },
     "metadata": {
      "needs_background": "light"
     },
     "output_type": "display_data"
    }
   ],
   "source": [
    "sorted_idx = perm_importance.importances_mean.argsort()\n",
    "plt.barh(X_train.columns[sorted_idx], perm_importance.importances_mean[sorted_idx])\n",
    "plt.xlabel(\"Permutation Importance\")"
   ],
   "metadata": {
    "collapsed": false,
    "pycharm": {
     "name": "#%%\n"
    }
   }
  },
  {
   "cell_type": "markdown",
   "source": [
    "### Residual analysis:"
   ],
   "metadata": {
    "collapsed": false,
    "pycharm": {
     "name": "#%% md\n"
    }
   }
  },
  {
   "cell_type": "code",
   "execution_count": 157,
   "outputs": [
    {
     "data": {
      "text/plain": "                                      beta_opt  last_beta_pred  xgb_pred  \\\nweek district start_date_forecasting                                       \n90   Aachen   2021-12-06              0.363928        0.372051  0.375469   \n91   Aachen   2021-12-13              0.363211        0.368352  0.366538   \n92   Aachen   2021-12-20              0.424817        0.353813  0.362096   \n93   Aachen   2021-12-27              0.577887        0.356339  0.404142   \n94   Aachen   2022-01-03              0.586449        0.516768  0.461484   \n...                                        ...             ...       ...   \n91   Zwickau  2021-12-13              0.327476        0.349327  0.400115   \n92   Zwickau  2021-12-20              0.287899        0.345975  0.366151   \n93   Zwickau  2021-12-27              0.329843        0.289999  0.458311   \n94   Zwickau  2022-01-03              0.331757        0.326808  0.451027   \n95   Zwickau  2022-01-10              0.392796        0.346767  0.412827   \n\n                                      residual_last_beta  residual_xgb_pred  \nweek district start_date_forecasting                                         \n90   Aachen   2021-12-06                        0.008123           0.011541  \n91   Aachen   2021-12-13                        0.005141           0.003328  \n92   Aachen   2021-12-20                       -0.071004          -0.062721  \n93   Aachen   2021-12-27                       -0.221548          -0.173745  \n94   Aachen   2022-01-03                       -0.069682          -0.124965  \n...                                                  ...                ...  \n91   Zwickau  2021-12-13                        0.021851           0.072639  \n92   Zwickau  2021-12-20                        0.058076           0.078252  \n93   Zwickau  2021-12-27                       -0.039844           0.128468  \n94   Zwickau  2022-01-03                       -0.004950           0.119270  \n95   Zwickau  2022-01-10                       -0.046029           0.020031  \n\n[1500 rows x 5 columns]",
      "text/html": "<div>\n<style scoped>\n    .dataframe tbody tr th:only-of-type {\n        vertical-align: middle;\n    }\n\n    .dataframe tbody tr th {\n        vertical-align: top;\n    }\n\n    .dataframe thead th {\n        text-align: right;\n    }\n</style>\n<table border=\"1\" class=\"dataframe\">\n  <thead>\n    <tr style=\"text-align: right;\">\n      <th></th>\n      <th></th>\n      <th></th>\n      <th>beta_opt</th>\n      <th>last_beta_pred</th>\n      <th>xgb_pred</th>\n      <th>residual_last_beta</th>\n      <th>residual_xgb_pred</th>\n    </tr>\n    <tr>\n      <th>week</th>\n      <th>district</th>\n      <th>start_date_forecasting</th>\n      <th></th>\n      <th></th>\n      <th></th>\n      <th></th>\n      <th></th>\n    </tr>\n  </thead>\n  <tbody>\n    <tr>\n      <th>90</th>\n      <th>Aachen</th>\n      <th>2021-12-06</th>\n      <td>0.363928</td>\n      <td>0.372051</td>\n      <td>0.375469</td>\n      <td>0.008123</td>\n      <td>0.011541</td>\n    </tr>\n    <tr>\n      <th>91</th>\n      <th>Aachen</th>\n      <th>2021-12-13</th>\n      <td>0.363211</td>\n      <td>0.368352</td>\n      <td>0.366538</td>\n      <td>0.005141</td>\n      <td>0.003328</td>\n    </tr>\n    <tr>\n      <th>92</th>\n      <th>Aachen</th>\n      <th>2021-12-20</th>\n      <td>0.424817</td>\n      <td>0.353813</td>\n      <td>0.362096</td>\n      <td>-0.071004</td>\n      <td>-0.062721</td>\n    </tr>\n    <tr>\n      <th>93</th>\n      <th>Aachen</th>\n      <th>2021-12-27</th>\n      <td>0.577887</td>\n      <td>0.356339</td>\n      <td>0.404142</td>\n      <td>-0.221548</td>\n      <td>-0.173745</td>\n    </tr>\n    <tr>\n      <th>94</th>\n      <th>Aachen</th>\n      <th>2022-01-03</th>\n      <td>0.586449</td>\n      <td>0.516768</td>\n      <td>0.461484</td>\n      <td>-0.069682</td>\n      <td>-0.124965</td>\n    </tr>\n    <tr>\n      <th>...</th>\n      <th>...</th>\n      <th>...</th>\n      <td>...</td>\n      <td>...</td>\n      <td>...</td>\n      <td>...</td>\n      <td>...</td>\n    </tr>\n    <tr>\n      <th>91</th>\n      <th>Zwickau</th>\n      <th>2021-12-13</th>\n      <td>0.327476</td>\n      <td>0.349327</td>\n      <td>0.400115</td>\n      <td>0.021851</td>\n      <td>0.072639</td>\n    </tr>\n    <tr>\n      <th>92</th>\n      <th>Zwickau</th>\n      <th>2021-12-20</th>\n      <td>0.287899</td>\n      <td>0.345975</td>\n      <td>0.366151</td>\n      <td>0.058076</td>\n      <td>0.078252</td>\n    </tr>\n    <tr>\n      <th>93</th>\n      <th>Zwickau</th>\n      <th>2021-12-27</th>\n      <td>0.329843</td>\n      <td>0.289999</td>\n      <td>0.458311</td>\n      <td>-0.039844</td>\n      <td>0.128468</td>\n    </tr>\n    <tr>\n      <th>94</th>\n      <th>Zwickau</th>\n      <th>2022-01-03</th>\n      <td>0.331757</td>\n      <td>0.326808</td>\n      <td>0.451027</td>\n      <td>-0.004950</td>\n      <td>0.119270</td>\n    </tr>\n    <tr>\n      <th>95</th>\n      <th>Zwickau</th>\n      <th>2022-01-10</th>\n      <td>0.392796</td>\n      <td>0.346767</td>\n      <td>0.412827</td>\n      <td>-0.046029</td>\n      <td>0.020031</td>\n    </tr>\n  </tbody>\n</table>\n<p>1500 rows × 5 columns</p>\n</div>"
     },
     "execution_count": 157,
     "metadata": {},
     "output_type": "execute_result"
    }
   ],
   "source": [
    "residuals_df = pd.DataFrame({\n",
    "    'beta_opt':y_test, 'last_beta_pred':y_pred_baseline_test, 'xgb_pred':y_pred_test_xgb,\n",
    "    'residual_last_beta': y_pred_baseline_test-y_test,\n",
    "    'residual_xgb_pred': y_pred_test_xgb-y_test,\n",
    "})\n",
    "residuals_df"
   ],
   "metadata": {
    "collapsed": false,
    "pycharm": {
     "name": "#%%\n"
    }
   }
  },
  {
   "cell_type": "code",
   "execution_count": 161,
   "outputs": [
    {
     "data": {
      "text/plain": "<Figure size 640x480 with 1 Axes>",
      "image/png": "[encoded data removed]"
     },
     "metadata": {},
     "output_type": "display_data"
    },
    {
     "data": {
      "text/plain": "<ggplot: (385331237)>"
     },
     "execution_count": 161,
     "metadata": {},
     "output_type": "execute_result"
    }
   ],
   "source": [
    "## Plot residuals:\n",
    "# Last Beta\n",
    "ggplot(residuals_df, aes(x='residual_last_beta')) + geom_histogram(binwidth=0.01) + coord_cartesian(xlim=(-0.5,0.5),ylim=(0,100))"
   ],
   "metadata": {
    "collapsed": false,
    "pycharm": {
     "name": "#%%\n"
    }
   }
  },
  {
   "cell_type": "code",
   "execution_count": 163,
   "outputs": [
    {
     "data": {
      "text/plain": "<Figure size 640x480 with 1 Axes>",
      "image/png": "[encoded data removed]"
     },
     "metadata": {},
     "output_type": "display_data"
    },
    {
     "data": {
      "text/plain": "<ggplot: (385553562)>"
     },
     "execution_count": 163,
     "metadata": {},
     "output_type": "execute_result"
    }
   ],
   "source": [
    "# XGB Beta\n",
    "ggplot(residuals_df, aes(x='residual_xgb_pred')) + geom_histogram(binwidth=0.01) + coord_cartesian(xlim=(-0.5,0.5),ylim=(0,100))"
   ],
   "metadata": {
    "collapsed": false,
    "pycharm": {
     "name": "#%%\n"
    }
   }
  },
  {
   "cell_type": "markdown",
   "source": [
    "## 9) Export Best Model:"
   ],
   "metadata": {
    "collapsed": false,
    "pycharm": {
     "name": "#%% md\n"
    }
   }
  },
  {
   "cell_type": "code",
   "execution_count": 165,
   "outputs": [
    {
     "name": "stdout",
     "output_type": "stream",
     "text": [
      "succesfully exported\n"
     ]
    }
   ],
   "source": [
    "path = '../../../../Assets/MachineLearningLayer/Models/'\n",
    "best_model = xgb_model\n",
    "\n",
    "# ML Model:\n",
    "filename = 'xgb_model_lukas.pkl'\n",
    "combined_path = path+filename\n",
    "joblib.dump(best_model, open(combined_path, 'wb'))\n",
    "\n",
    "# Standardizer:\n",
    "filename = 'standardizer_model.pkl'\n",
    "combined_path = path+filename\n",
    "joblib.dump(scaler_obj, open(path+filename, 'wb'))\n",
    "\n",
    "print('succesfully exported')"
   ],
   "metadata": {
    "collapsed": false,
    "pycharm": {
     "name": "#%%\n"
    }
   }
  },
  {
   "cell_type": "code",
   "execution_count": null,
   "outputs": [],
   "source": [
    "    "
   ],
   "metadata": {
    "collapsed": false,
    "pycharm": {
     "name": "#%%\n"
    }
   }
  }
 ],
 "metadata": {
  "kernelspec": {
   "display_name": "Python 3",
   "language": "python",
   "name": "python3"
  },
  "language_info": {
   "codemirror_mode": {
    "name": "ipython",
    "version": 2
   },
   "file_extension": ".py",
   "mimetype": "text/x-python",
   "name": "python",
   "nbconvert_exporter": "python",
   "pygments_lexer": "ipython2",
   "version": "2.7.6"
  }
 },
 "nbformat": 4,
 "nbformat_minor": 0
}