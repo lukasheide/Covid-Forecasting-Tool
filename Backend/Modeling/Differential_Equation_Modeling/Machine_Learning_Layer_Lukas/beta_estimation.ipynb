{
 "cells": [
  {
   "cell_type": "markdown",
   "source": [
    "# Machine Learning Layer\n",
    "#### Goal: Estimate the next beta"
   ],
   "metadata": {
    "collapsed": false,
    "pycharm": {
     "name": "#%% md\n"
    }
   }
  },
  {
   "cell_type": "code",
   "execution_count": 20,
   "outputs": [],
   "source": [
    "import pandas as pd\n",
    "import numpy as np\n",
    "import matplotlib.pyplot as plt\n",
    "import tf as tf\n",
    "from plotnine import *\n",
    "\n",
    "from sklearn.preprocessing import StandardScaler, OneHotEncoder\n",
    "from sklearn.metrics import mean_squared_error\n",
    "from sklearn import linear_model\n",
    "from sklearn.model_selection import train_test_split\n",
    "from sklearn.ensemble import RandomForestRegressor\n",
    "from sklearn.svm import SVR\n",
    "import xgboost as xgb\n",
    "\n",
    "from tensorflow import keras\n",
    "import keras.backend as K\n",
    "from keras.models import Sequential\n",
    "from keras.layers import Dense, Dropout\n",
    "from keras.metrics import RootMeanSquaredError\n",
    "\n",
    "import pickle\n",
    "import joblib"
   ],
   "metadata": {
    "collapsed": false,
    "pycharm": {
     "name": "#%%\n"
    }
   }
  },
  {
   "cell_type": "code",
   "execution_count": 21,
   "outputs": [],
   "source": [
    "pd.set_option('display.max_columns', 50)"
   ],
   "metadata": {
    "collapsed": false,
    "pycharm": {
     "name": "#%%\n"
    }
   }
  },
  {
   "cell_type": "markdown",
   "source": [
    "## 1) Import Data:\n",
    "CSV file can be found in Teams under Model/ML_for_Beta/all_matrix_data.csv"
   ],
   "metadata": {
    "collapsed": false,
    "pycharm": {
     "name": "#%% md\n"
    }
   }
  },
  {
   "cell_type": "code",
   "execution_count": 22,
   "outputs": [],
   "source": [
    "df = pd.read_csv('../../../../Assets/Data/all_matrix_data_v2.csv', index_col=0)"
   ],
   "metadata": {
    "collapsed": false,
    "pycharm": {
     "name": "#%%\n"
    }
   }
  },
  {
   "cell_type": "code",
   "execution_count": 23,
   "outputs": [
    {
     "data": {
      "text/plain": "    week  policy_index    variant   mobility  temperature       wind  \\\n8     10     57.780000      Other  -6.714286    15.714286   8.885714   \n4      6     65.180000      Other -22.428571    13.314286  12.971429   \n8     10     57.780000      Other   3.142857    14.414286  11.828571   \n7      9     61.268571      Other -35.142857     8.414286   8.942857   \n8     10     57.780000      Other  -0.857143    18.214286  10.700000   \n..   ...           ...        ...        ...          ...        ...   \n15    17     58.804286      Other   9.285714    13.657143  13.928571   \n67    69     73.210000  B.1.617.2  17.000000    17.714286   7.914286   \n14    16     63.390000      Other  -6.000000    19.671429        NaN   \n15    17     58.804286      Other  -4.714286    13.414286        NaN   \n68    70     73.210000  B.1.617.2   5.000000    19.200000   6.685714   \n\n    infections          beta  beta_t_minus_1 start_date_forecasting  \\\n8     2.612245  1.163288e-20    4.148551e-01             2020-05-25   \n4     4.714286  1.804424e-19    5.192031e-01             2020-04-27   \n8     0.500000  3.255453e-17    7.912745e-01             2020-05-25   \n7     0.275510  4.153536e-17    3.123958e-01             2020-05-18   \n8     0.051020  2.933678e-16    4.739704e-01             2020-05-25   \n..         ...           ...             ...                    ...   \n15    0.744898  3.813979e+00    5.671088e-07             2020-07-13   \n67    0.663265  4.048371e+00    4.618035e-07             2021-07-12   \n14    1.959184  4.140906e+00    5.866983e-07             2020-07-06   \n15    2.030612  4.151339e+00    5.615580e-07             2020-07-13   \n68    1.030612  4.196596e+00    4.565572e-07             2021-07-19   \n\n                      district  \n8             Rhein-Sieg-Kreis  \n4                        Essen  \n8            Weilheim-Schongau  \n7                        Regen  \n8                  Germersheim  \n..                         ...  \n15  Schwerin, Landeshauptstadt  \n67                       Regen  \n14           Main-Tauber-Kreis  \n15                  Hof, Kreis  \n68               Coburg, Kreis  \n\n[37200 rows x 11 columns]",
      "text/html": "<div>\n<style scoped>\n    .dataframe tbody tr th:only-of-type {\n        vertical-align: middle;\n    }\n\n    .dataframe tbody tr th {\n        vertical-align: top;\n    }\n\n    .dataframe thead th {\n        text-align: right;\n    }\n</style>\n<table border=\"1\" class=\"dataframe\">\n  <thead>\n    <tr style=\"text-align: right;\">\n      <th></th>\n      <th>week</th>\n      <th>policy_index</th>\n      <th>variant</th>\n      <th>mobility</th>\n      <th>temperature</th>\n      <th>wind</th>\n      <th>infections</th>\n      <th>beta</th>\n      <th>beta_t_minus_1</th>\n      <th>start_date_forecasting</th>\n      <th>district</th>\n    </tr>\n  </thead>\n  <tbody>\n    <tr>\n      <th>8</th>\n      <td>10</td>\n      <td>57.780000</td>\n      <td>Other</td>\n      <td>-6.714286</td>\n      <td>15.714286</td>\n      <td>8.885714</td>\n      <td>2.612245</td>\n      <td>1.163288e-20</td>\n      <td>4.148551e-01</td>\n      <td>2020-05-25</td>\n      <td>Rhein-Sieg-Kreis</td>\n    </tr>\n    <tr>\n      <th>4</th>\n      <td>6</td>\n      <td>65.180000</td>\n      <td>Other</td>\n      <td>-22.428571</td>\n      <td>13.314286</td>\n      <td>12.971429</td>\n      <td>4.714286</td>\n      <td>1.804424e-19</td>\n      <td>5.192031e-01</td>\n      <td>2020-04-27</td>\n      <td>Essen</td>\n    </tr>\n    <tr>\n      <th>8</th>\n      <td>10</td>\n      <td>57.780000</td>\n      <td>Other</td>\n      <td>3.142857</td>\n      <td>14.414286</td>\n      <td>11.828571</td>\n      <td>0.500000</td>\n      <td>3.255453e-17</td>\n      <td>7.912745e-01</td>\n      <td>2020-05-25</td>\n      <td>Weilheim-Schongau</td>\n    </tr>\n    <tr>\n      <th>7</th>\n      <td>9</td>\n      <td>61.268571</td>\n      <td>Other</td>\n      <td>-35.142857</td>\n      <td>8.414286</td>\n      <td>8.942857</td>\n      <td>0.275510</td>\n      <td>4.153536e-17</td>\n      <td>3.123958e-01</td>\n      <td>2020-05-18</td>\n      <td>Regen</td>\n    </tr>\n    <tr>\n      <th>8</th>\n      <td>10</td>\n      <td>57.780000</td>\n      <td>Other</td>\n      <td>-0.857143</td>\n      <td>18.214286</td>\n      <td>10.700000</td>\n      <td>0.051020</td>\n      <td>2.933678e-16</td>\n      <td>4.739704e-01</td>\n      <td>2020-05-25</td>\n      <td>Germersheim</td>\n    </tr>\n    <tr>\n      <th>...</th>\n      <td>...</td>\n      <td>...</td>\n      <td>...</td>\n      <td>...</td>\n      <td>...</td>\n      <td>...</td>\n      <td>...</td>\n      <td>...</td>\n      <td>...</td>\n      <td>...</td>\n      <td>...</td>\n    </tr>\n    <tr>\n      <th>15</th>\n      <td>17</td>\n      <td>58.804286</td>\n      <td>Other</td>\n      <td>9.285714</td>\n      <td>13.657143</td>\n      <td>13.928571</td>\n      <td>0.744898</td>\n      <td>3.813979e+00</td>\n      <td>5.671088e-07</td>\n      <td>2020-07-13</td>\n      <td>Schwerin, Landeshauptstadt</td>\n    </tr>\n    <tr>\n      <th>67</th>\n      <td>69</td>\n      <td>73.210000</td>\n      <td>B.1.617.2</td>\n      <td>17.000000</td>\n      <td>17.714286</td>\n      <td>7.914286</td>\n      <td>0.663265</td>\n      <td>4.048371e+00</td>\n      <td>4.618035e-07</td>\n      <td>2021-07-12</td>\n      <td>Regen</td>\n    </tr>\n    <tr>\n      <th>14</th>\n      <td>16</td>\n      <td>63.390000</td>\n      <td>Other</td>\n      <td>-6.000000</td>\n      <td>19.671429</td>\n      <td>NaN</td>\n      <td>1.959184</td>\n      <td>4.140906e+00</td>\n      <td>5.866983e-07</td>\n      <td>2020-07-06</td>\n      <td>Main-Tauber-Kreis</td>\n    </tr>\n    <tr>\n      <th>15</th>\n      <td>17</td>\n      <td>58.804286</td>\n      <td>Other</td>\n      <td>-4.714286</td>\n      <td>13.414286</td>\n      <td>NaN</td>\n      <td>2.030612</td>\n      <td>4.151339e+00</td>\n      <td>5.615580e-07</td>\n      <td>2020-07-13</td>\n      <td>Hof, Kreis</td>\n    </tr>\n    <tr>\n      <th>68</th>\n      <td>70</td>\n      <td>73.210000</td>\n      <td>B.1.617.2</td>\n      <td>5.000000</td>\n      <td>19.200000</td>\n      <td>6.685714</td>\n      <td>1.030612</td>\n      <td>4.196596e+00</td>\n      <td>4.565572e-07</td>\n      <td>2021-07-19</td>\n      <td>Coburg, Kreis</td>\n    </tr>\n  </tbody>\n</table>\n<p>37200 rows × 11 columns</p>\n</div>"
     },
     "execution_count": 23,
     "metadata": {},
     "output_type": "execute_result"
    }
   ],
   "source": [
    "df.sort_values('beta')"
   ],
   "metadata": {
    "collapsed": false,
    "pycharm": {
     "name": "#%%\n"
    }
   }
  },
  {
   "cell_type": "markdown",
   "source": [
    "## 2) Visualize Data:\n",
    "#### 2.1) Average Infections (training period):"
   ],
   "metadata": {
    "collapsed": false,
    "pycharm": {
     "name": "#%% md\n"
    }
   }
  },
  {
   "cell_type": "code",
   "execution_count": 24,
   "outputs": [
    {
     "data": {
      "text/plain": "<Figure size 640x480 with 1 Axes>",
      "image/png": "[encoded data removed]"
     },
     "metadata": {},
     "output_type": "display_data"
    },
    {
     "data": {
      "text/plain": "<ggplot: (282818085)>"
     },
     "execution_count": 24,
     "metadata": {},
     "output_type": "execute_result"
    }
   ],
   "source": [
    "ggplot(df, aes(x='infections')) + geom_histogram(binwidth=5) + coord_cartesian(xlim=(0,250),ylim=(0,10000))"
   ],
   "metadata": {
    "collapsed": false,
    "pycharm": {
     "name": "#%%\n"
    }
   }
  },
  {
   "cell_type": "markdown",
   "source": [
    "#### 2.2) Fitted beta:"
   ],
   "metadata": {
    "collapsed": false,
    "pycharm": {
     "name": "#%% md\n"
    }
   },
   "execution_count": 50
  },
  {
   "cell_type": "code",
   "execution_count": 25,
   "outputs": [
    {
     "data": {
      "text/plain": "<Figure size 640x480 with 1 Axes>",
      "image/png": "[encoded data removed]"
     },
     "metadata": {},
     "output_type": "display_data"
    },
    {
     "data": {
      "text/plain": "<ggplot: (385717529)>"
     },
     "execution_count": 25,
     "metadata": {},
     "output_type": "execute_result"
    }
   ],
   "source": [
    "ggplot(df, aes(x='beta')) + geom_histogram(binwidth=0.025) + coord_cartesian(xlim=(0,2),ylim=(0,5000))"
   ],
   "metadata": {
    "collapsed": false,
    "pycharm": {
     "name": "#%%\n"
    }
   }
  },
  {
   "cell_type": "markdown",
   "source": [
    "#### 2.3) Average infections Münster"
   ],
   "metadata": {
    "collapsed": false,
    "pycharm": {
     "name": "#%% md\n"
    }
   }
  },
  {
   "cell_type": "code",
   "execution_count": 26,
   "outputs": [
    {
     "data": {
      "text/plain": "<Figure size 640x480 with 1 Axes>",
      "image/png": "[encoded data removed]"
     },
     "metadata": {},
     "output_type": "display_data"
    },
    {
     "data": {
      "text/plain": "<ggplot: (385833620)>"
     },
     "execution_count": 26,
     "metadata": {},
     "output_type": "execute_result"
    }
   ],
   "source": [
    "district = 'Münster'\n",
    "df_v2_3 = df[df['district']==district][['week','district','infections','beta']]\n",
    "\n",
    "# Devide both columns by their mean so that they fit in one plot:\n",
    "df_v2_3['infections'] = df_v2_3['infections']/df_v2_3['infections'].mean()\n",
    "df_v2_3['beta'] = df_v2_3['beta']/df_v2_3['beta'].mean()\n",
    "\n",
    "ggplot(df_v2_3) \\\n",
    "+ geom_line(aes(x='week', y='beta'), color='yellow')\\\n",
    "+ geom_line(aes(x='week', y='infections'), color='green', size=2)"
   ],
   "metadata": {
    "collapsed": false,
    "pycharm": {
     "name": "#%%\n"
    }
   }
  },
  {
   "cell_type": "markdown",
   "source": [
    "#### 2.4) Policy index vs infections: (Germany)"
   ],
   "metadata": {
    "collapsed": false,
    "pycharm": {
     "name": "#%% md\n"
    }
   }
  },
  {
   "cell_type": "code",
   "execution_count": 27,
   "outputs": [
    {
     "data": {
      "text/plain": "<Figure size 640x480 with 1 Axes>",
      "image/png": "[encoded data removed]"
     },
     "metadata": {},
     "output_type": "display_data"
    },
    {
     "data": {
      "text/plain": "<ggplot: (386236323)>"
     },
     "execution_count": 27,
     "metadata": {},
     "output_type": "execute_result"
    }
   ],
   "source": [
    "df_v2_4 = df.groupby('week').sum()\n",
    "\n",
    "# Devide both columns by their max so that they fit in one plot:\n",
    "df_v2_4['infections'] = df_v2_4['infections']/df_v2_4['infections'].max()\n",
    "df_v2_4['policy_index'] = df_v2_4['policy_index']/df_v2_4['policy_index'].max()\n",
    "\n",
    "ggplot(df_v2_4.reset_index())\\\n",
    "+ geom_line(aes(x='week', y='policy_index'), color='yellow')\\\n",
    "+ geom_line(aes(x='week', y='infections'), color='green', size=2)"
   ],
   "metadata": {
    "collapsed": false,
    "pycharm": {
     "name": "#%%\n"
    }
   }
  },
  {
   "cell_type": "markdown",
   "source": [
    "## 3) Feature Engineering:\n",
    "#### Lagged beta: (NO LONGER NECESSARY!)"
   ],
   "metadata": {
    "collapsed": false,
    "pycharm": {
     "name": "#%% md\n"
    }
   }
  },
  {
   "cell_type": "code",
   "execution_count": 28,
   "outputs": [],
   "source": [
    "# Sort values by district and week before lagging:\n",
    "df.sort_values(['district','week'], inplace=True)"
   ],
   "metadata": {
    "collapsed": false,
    "pycharm": {
     "name": "#%%\n"
    }
   }
  },
  {
   "cell_type": "code",
   "execution_count": 29,
   "outputs": [
    {
     "data": {
      "text/plain": "-0.057764995528538976"
     },
     "execution_count": 29,
     "metadata": {},
     "output_type": "execute_result"
    }
   ],
   "source": [
    "# Check out correlation between current and previous weeks beta:\n",
    "df['beta'].corr(df['beta_t_minus_1'] )"
   ],
   "metadata": {
    "collapsed": false,
    "pycharm": {
     "name": "#%%\n"
    }
   }
  },
  {
   "cell_type": "markdown",
   "source": [
    "## 4) Data cleaning:\n",
    "#### Identify missing values:"
   ],
   "metadata": {
    "collapsed": false,
    "pycharm": {
     "name": "#%% md\n"
    }
   },
   "outputs": [
    {
     "data": {
      "text/plain": "week                  0\npolicy_index          0\nvariant               0\nmobility              0\ntemperature         243\nwind               3827\ninfections            0\nbeta                  0\ndistrict              0\nbeta_lag_1_week       0\nbeta_lag_2_week       0\nbeta_lag_3_week       0\ndtype: int64"
     },
     "execution_count": 77,
     "metadata": {},
     "output_type": "execute_result"
    }
   ],
   "execution_count": 77
  },
  {
   "cell_type": "code",
   "execution_count": 30,
   "outputs": [
    {
     "data": {
      "text/plain": "week                         0\npolicy_index                 0\nvariant                      0\nmobility                     0\ntemperature                236\nwind                      3739\ninfections                   0\nbeta                         0\nbeta_t_minus_1               0\nstart_date_forecasting       0\ndistrict                     0\ndtype: int64"
     },
     "execution_count": 30,
     "metadata": {},
     "output_type": "execute_result"
    }
   ],
   "source": [
    "df.isnull().sum()"
   ],
   "metadata": {
    "collapsed": false,
    "pycharm": {
     "name": "#%%\n"
    }
   }
  },
  {
   "cell_type": "markdown",
   "source": [
    "#### Fill missing values with previous column:\n",
    "Forward fill: Fill down (-> if missing value in week 50 use value of week 49)"
   ],
   "metadata": {
    "collapsed": false,
    "pycharm": {
     "name": "#%% md\n"
    }
   }
  },
  {
   "cell_type": "code",
   "execution_count": 31,
   "outputs": [],
   "source": [
    "df_v4 = df.copy()"
   ],
   "metadata": {
    "collapsed": false,
    "pycharm": {
     "name": "#%%\n"
    }
   }
  },
  {
   "cell_type": "code",
   "execution_count": 32,
   "outputs": [
    {
     "name": "stderr",
     "output_type": "stream",
     "text": [
      "/var/folders/f9/_57rk_kx5jqbkd8vvnwckf2c0000gn/T/ipykernel_71803/1409488165.py:1: FutureWarning: Dropping invalid columns in DataFrameGroupBy.transform is deprecated. In a future version, a TypeError will be raised. Before calling .transform, select only columns which should be valid for the transforming function.\n",
      "/var/folders/f9/_57rk_kx5jqbkd8vvnwckf2c0000gn/T/ipykernel_71803/1409488165.py:2: FutureWarning: Dropping invalid columns in DataFrameGroupBy.transform is deprecated. In a future version, a TypeError will be raised. Before calling .transform, select only columns which should be valid for the transforming function.\n"
     ]
    }
   ],
   "source": [
    "df_v4['temperature'] = df.groupby(\"week\").transform(lambda x: x.fillna(x.mean()))['temperature']\n",
    "df_v4['wind'] = df.groupby(\"week\").transform(lambda x: x.fillna(x.mean()))['wind']"
   ],
   "metadata": {
    "collapsed": false,
    "pycharm": {
     "name": "#%%\n"
    }
   }
  },
  {
   "cell_type": "code",
   "execution_count": 33,
   "outputs": [
    {
     "data": {
      "text/plain": "    week  policy_index    variant   mobility  temperature       wind  \\\n0      2     62.500000      Other -41.714286     5.171429  14.975758   \n1      3     63.778571      Other -34.428571     5.914286  11.157143   \n2      4     65.180000      Other -29.285714    15.071429  10.571429   \n3      5     65.180000      Other -32.857143    11.085714  11.071429   \n4      6     65.180000      Other -23.714286    13.500000  17.157143   \n..   ...           ...        ...        ...          ...        ...   \n88    90     81.761429  B.1.617.2  -9.714286     1.757143  17.071429   \n89    91     83.930000  B.1.617.2  -2.571429     0.428571   8.528571   \n90    92     83.930000  B.1.617.2  -1.000000     4.842857  10.485714   \n91    93     83.930000  B.1.617.2  -4.285714    -1.200000  10.700000   \n92    94     83.930000  B.1.1.529 -15.714286     7.871429  16.885714   \n\n    infections      beta  beta_t_minus_1 start_date_forecasting district  \n0    52.469388  0.287552        0.339537             2020-03-30   Aachen  \n1    36.877551  0.200627        0.351514             2020-04-06   Aachen  \n2    25.244898  0.222567        0.214686             2020-04-13   Aachen  \n3    16.683673  0.214683        0.210121             2020-04-20   Aachen  \n4     8.091837  0.132383        0.272082             2020-04-27   Aachen  \n..         ...       ...             ...                    ...      ...  \n88  411.897959  0.335567        0.332404             2021-12-06  Zwickau  \n89  305.489796  0.315457        0.349078             2021-12-13  Zwickau  \n90  203.030612  0.282921        0.346127             2021-12-20  Zwickau  \n91  143.591837  0.321480        0.290336             2021-12-27  Zwickau  \n92  106.887755  0.319493        0.326189             2022-01-03  Zwickau  \n\n[37200 rows x 11 columns]",
      "text/html": "<div>\n<style scoped>\n    .dataframe tbody tr th:only-of-type {\n        vertical-align: middle;\n    }\n\n    .dataframe tbody tr th {\n        vertical-align: top;\n    }\n\n    .dataframe thead th {\n        text-align: right;\n    }\n</style>\n<table border=\"1\" class=\"dataframe\">\n  <thead>\n    <tr style=\"text-align: right;\">\n      <th></th>\n      <th>week</th>\n      <th>policy_index</th>\n      <th>variant</th>\n      <th>mobility</th>\n      <th>temperature</th>\n      <th>wind</th>\n      <th>infections</th>\n      <th>beta</th>\n      <th>beta_t_minus_1</th>\n      <th>start_date_forecasting</th>\n      <th>district</th>\n    </tr>\n  </thead>\n  <tbody>\n    <tr>\n      <th>0</th>\n      <td>2</td>\n      <td>62.500000</td>\n      <td>Other</td>\n      <td>-41.714286</td>\n      <td>5.171429</td>\n      <td>14.975758</td>\n      <td>52.469388</td>\n      <td>0.287552</td>\n      <td>0.339537</td>\n      <td>2020-03-30</td>\n      <td>Aachen</td>\n    </tr>\n    <tr>\n      <th>1</th>\n      <td>3</td>\n      <td>63.778571</td>\n      <td>Other</td>\n      <td>-34.428571</td>\n      <td>5.914286</td>\n      <td>11.157143</td>\n      <td>36.877551</td>\n      <td>0.200627</td>\n      <td>0.351514</td>\n      <td>2020-04-06</td>\n      <td>Aachen</td>\n    </tr>\n    <tr>\n      <th>2</th>\n      <td>4</td>\n      <td>65.180000</td>\n      <td>Other</td>\n      <td>-29.285714</td>\n      <td>15.071429</td>\n      <td>10.571429</td>\n      <td>25.244898</td>\n      <td>0.222567</td>\n      <td>0.214686</td>\n      <td>2020-04-13</td>\n      <td>Aachen</td>\n    </tr>\n    <tr>\n      <th>3</th>\n      <td>5</td>\n      <td>65.180000</td>\n      <td>Other</td>\n      <td>-32.857143</td>\n      <td>11.085714</td>\n      <td>11.071429</td>\n      <td>16.683673</td>\n      <td>0.214683</td>\n      <td>0.210121</td>\n      <td>2020-04-20</td>\n      <td>Aachen</td>\n    </tr>\n    <tr>\n      <th>4</th>\n      <td>6</td>\n      <td>65.180000</td>\n      <td>Other</td>\n      <td>-23.714286</td>\n      <td>13.500000</td>\n      <td>17.157143</td>\n      <td>8.091837</td>\n      <td>0.132383</td>\n      <td>0.272082</td>\n      <td>2020-04-27</td>\n      <td>Aachen</td>\n    </tr>\n    <tr>\n      <th>...</th>\n      <td>...</td>\n      <td>...</td>\n      <td>...</td>\n      <td>...</td>\n      <td>...</td>\n      <td>...</td>\n      <td>...</td>\n      <td>...</td>\n      <td>...</td>\n      <td>...</td>\n      <td>...</td>\n    </tr>\n    <tr>\n      <th>88</th>\n      <td>90</td>\n      <td>81.761429</td>\n      <td>B.1.617.2</td>\n      <td>-9.714286</td>\n      <td>1.757143</td>\n      <td>17.071429</td>\n      <td>411.897959</td>\n      <td>0.335567</td>\n      <td>0.332404</td>\n      <td>2021-12-06</td>\n      <td>Zwickau</td>\n    </tr>\n    <tr>\n      <th>89</th>\n      <td>91</td>\n      <td>83.930000</td>\n      <td>B.1.617.2</td>\n      <td>-2.571429</td>\n      <td>0.428571</td>\n      <td>8.528571</td>\n      <td>305.489796</td>\n      <td>0.315457</td>\n      <td>0.349078</td>\n      <td>2021-12-13</td>\n      <td>Zwickau</td>\n    </tr>\n    <tr>\n      <th>90</th>\n      <td>92</td>\n      <td>83.930000</td>\n      <td>B.1.617.2</td>\n      <td>-1.000000</td>\n      <td>4.842857</td>\n      <td>10.485714</td>\n      <td>203.030612</td>\n      <td>0.282921</td>\n      <td>0.346127</td>\n      <td>2021-12-20</td>\n      <td>Zwickau</td>\n    </tr>\n    <tr>\n      <th>91</th>\n      <td>93</td>\n      <td>83.930000</td>\n      <td>B.1.617.2</td>\n      <td>-4.285714</td>\n      <td>-1.200000</td>\n      <td>10.700000</td>\n      <td>143.591837</td>\n      <td>0.321480</td>\n      <td>0.290336</td>\n      <td>2021-12-27</td>\n      <td>Zwickau</td>\n    </tr>\n    <tr>\n      <th>92</th>\n      <td>94</td>\n      <td>83.930000</td>\n      <td>B.1.1.529</td>\n      <td>-15.714286</td>\n      <td>7.871429</td>\n      <td>16.885714</td>\n      <td>106.887755</td>\n      <td>0.319493</td>\n      <td>0.326189</td>\n      <td>2022-01-03</td>\n      <td>Zwickau</td>\n    </tr>\n  </tbody>\n</table>\n<p>37200 rows × 11 columns</p>\n</div>"
     },
     "execution_count": 33,
     "metadata": {},
     "output_type": "execute_result"
    }
   ],
   "source": [
    "df_v4"
   ],
   "metadata": {
    "collapsed": false,
    "pycharm": {
     "name": "#%%\n"
    }
   }
  },
  {
   "cell_type": "markdown",
   "source": [
    "## 5) Outlier removal:\n"
   ],
   "metadata": {
    "collapsed": false
   }
  },
  {
   "cell_type": "code",
   "execution_count": 34,
   "outputs": [],
   "source": [
    "# Identify outliers:"
   ],
   "metadata": {
    "collapsed": false,
    "pycharm": {
     "name": "#%%\n"
    }
   }
  },
  {
   "cell_type": "code",
   "execution_count": 35,
   "outputs": [
    {
     "data": {
      "text/plain": "    week  policy_index    variant   mobility  temperature       wind  \\\n43    45     70.710000      Other  -0.142857     2.742857  18.042857   \n40    42     73.690000      Other -23.000000    -2.485714   5.785714   \n38    40     68.790000    B.1.1.7 -30.714286     4.871429  14.228571   \n43    45     70.710000      Other -18.000000     4.814286  14.385714   \n40    42     73.690000      Other -28.857143     2.228571  11.771429   \n..   ...           ...        ...        ...          ...        ...   \n92    94     83.930000  B.1.1.529 -10.428571     5.571429  20.928571   \n88    90     81.761429  B.1.617.2   4.000000     2.657143  15.685714   \n12    14     62.370000      Other  -4.714286    17.928571   8.514286   \n29    31     57.865714      Other  21.000000     6.871429   9.347350   \n17    19     58.040000      Other   4.714286    19.342857   6.557143   \n\n    infections      beta  beta_t_minus_1 start_date_forecasting  \\\n43   38.428571  0.293513        0.115836             2021-01-25   \n40   21.530612  0.392260        0.136652             2021-01-04   \n38   48.122449  0.574242        0.141463             2020-12-21   \n43   38.744898  0.219572        0.148054             2021-01-25   \n40   85.724490  0.403525        0.148255             2021-01-04   \n..         ...       ...             ...                    ...   \n92  134.438776  0.424298        0.878277             2022-01-03   \n88  302.653061  0.429999        0.887279             2021-12-06   \n12   75.244898  0.111004        0.932204             2020-06-22   \n29   22.510204  0.350923        1.036737             2020-10-19   \n17   26.714286  0.233830        2.388877             2020-07-27   \n\n                       district  \n43             Mansfeld-Südharz  \n40                   Oberallgäu  \n38                      Potsdam  \n43                    Bielefeld  \n40  Regionalverband Saarbrücken  \n..                          ...  \n92                 Dithmarschen  \n88                        Börde  \n12                    Gütersloh  \n29            Altenkirchen (Ww)  \n17            Dingolfing-Landau  \n\n[13504 rows x 11 columns]",
      "text/html": "<div>\n<style scoped>\n    .dataframe tbody tr th:only-of-type {\n        vertical-align: middle;\n    }\n\n    .dataframe tbody tr th {\n        vertical-align: top;\n    }\n\n    .dataframe thead th {\n        text-align: right;\n    }\n</style>\n<table border=\"1\" class=\"dataframe\">\n  <thead>\n    <tr style=\"text-align: right;\">\n      <th></th>\n      <th>week</th>\n      <th>policy_index</th>\n      <th>variant</th>\n      <th>mobility</th>\n      <th>temperature</th>\n      <th>wind</th>\n      <th>infections</th>\n      <th>beta</th>\n      <th>beta_t_minus_1</th>\n      <th>start_date_forecasting</th>\n      <th>district</th>\n    </tr>\n  </thead>\n  <tbody>\n    <tr>\n      <th>43</th>\n      <td>45</td>\n      <td>70.710000</td>\n      <td>Other</td>\n      <td>-0.142857</td>\n      <td>2.742857</td>\n      <td>18.042857</td>\n      <td>38.428571</td>\n      <td>0.293513</td>\n      <td>0.115836</td>\n      <td>2021-01-25</td>\n      <td>Mansfeld-Südharz</td>\n    </tr>\n    <tr>\n      <th>40</th>\n      <td>42</td>\n      <td>73.690000</td>\n      <td>Other</td>\n      <td>-23.000000</td>\n      <td>-2.485714</td>\n      <td>5.785714</td>\n      <td>21.530612</td>\n      <td>0.392260</td>\n      <td>0.136652</td>\n      <td>2021-01-04</td>\n      <td>Oberallgäu</td>\n    </tr>\n    <tr>\n      <th>38</th>\n      <td>40</td>\n      <td>68.790000</td>\n      <td>B.1.1.7</td>\n      <td>-30.714286</td>\n      <td>4.871429</td>\n      <td>14.228571</td>\n      <td>48.122449</td>\n      <td>0.574242</td>\n      <td>0.141463</td>\n      <td>2020-12-21</td>\n      <td>Potsdam</td>\n    </tr>\n    <tr>\n      <th>43</th>\n      <td>45</td>\n      <td>70.710000</td>\n      <td>Other</td>\n      <td>-18.000000</td>\n      <td>4.814286</td>\n      <td>14.385714</td>\n      <td>38.744898</td>\n      <td>0.219572</td>\n      <td>0.148054</td>\n      <td>2021-01-25</td>\n      <td>Bielefeld</td>\n    </tr>\n    <tr>\n      <th>40</th>\n      <td>42</td>\n      <td>73.690000</td>\n      <td>Other</td>\n      <td>-28.857143</td>\n      <td>2.228571</td>\n      <td>11.771429</td>\n      <td>85.724490</td>\n      <td>0.403525</td>\n      <td>0.148255</td>\n      <td>2021-01-04</td>\n      <td>Regionalverband Saarbrücken</td>\n    </tr>\n    <tr>\n      <th>...</th>\n      <td>...</td>\n      <td>...</td>\n      <td>...</td>\n      <td>...</td>\n      <td>...</td>\n      <td>...</td>\n      <td>...</td>\n      <td>...</td>\n      <td>...</td>\n      <td>...</td>\n      <td>...</td>\n    </tr>\n    <tr>\n      <th>92</th>\n      <td>94</td>\n      <td>83.930000</td>\n      <td>B.1.1.529</td>\n      <td>-10.428571</td>\n      <td>5.571429</td>\n      <td>20.928571</td>\n      <td>134.438776</td>\n      <td>0.424298</td>\n      <td>0.878277</td>\n      <td>2022-01-03</td>\n      <td>Dithmarschen</td>\n    </tr>\n    <tr>\n      <th>88</th>\n      <td>90</td>\n      <td>81.761429</td>\n      <td>B.1.617.2</td>\n      <td>4.000000</td>\n      <td>2.657143</td>\n      <td>15.685714</td>\n      <td>302.653061</td>\n      <td>0.429999</td>\n      <td>0.887279</td>\n      <td>2021-12-06</td>\n      <td>Börde</td>\n    </tr>\n    <tr>\n      <th>12</th>\n      <td>14</td>\n      <td>62.370000</td>\n      <td>Other</td>\n      <td>-4.714286</td>\n      <td>17.928571</td>\n      <td>8.514286</td>\n      <td>75.244898</td>\n      <td>0.111004</td>\n      <td>0.932204</td>\n      <td>2020-06-22</td>\n      <td>Gütersloh</td>\n    </tr>\n    <tr>\n      <th>29</th>\n      <td>31</td>\n      <td>57.865714</td>\n      <td>Other</td>\n      <td>21.000000</td>\n      <td>6.871429</td>\n      <td>9.347350</td>\n      <td>22.510204</td>\n      <td>0.350923</td>\n      <td>1.036737</td>\n      <td>2020-10-19</td>\n      <td>Altenkirchen (Ww)</td>\n    </tr>\n    <tr>\n      <th>17</th>\n      <td>19</td>\n      <td>58.040000</td>\n      <td>Other</td>\n      <td>4.714286</td>\n      <td>19.342857</td>\n      <td>6.557143</td>\n      <td>26.714286</td>\n      <td>0.233830</td>\n      <td>2.388877</td>\n      <td>2020-07-27</td>\n      <td>Dingolfing-Landau</td>\n    </tr>\n  </tbody>\n</table>\n<p>13504 rows × 11 columns</p>\n</div>"
     },
     "execution_count": 35,
     "metadata": {},
     "output_type": "execute_result"
    }
   ],
   "source": [
    "df_v4[df_v4['infections'] > 20].sort_values('beta_t_minus_1', ascending=True)"
   ],
   "metadata": {
    "collapsed": false,
    "pycharm": {
     "name": "#%%\n"
    }
   }
  },
  {
   "cell_type": "markdown",
   "source": [
    "#### 5.1) Infection counts:\n",
    "Remove weeks in which the average number of daily infections where below a threshold as for extremely low values it is really hard to forecast beta:"
   ],
   "metadata": {
    "collapsed": false,
    "pycharm": {
     "name": "#%% md\n"
    }
   }
  },
  {
   "cell_type": "code",
   "execution_count": 36,
   "outputs": [],
   "source": [
    "# Drop all rows in which average number of infections is below 5:\n",
    "threshold = 10\n",
    "df_v5_1 = df_v4[df_v4['infections'] > threshold]"
   ],
   "metadata": {
    "collapsed": false,
    "pycharm": {
     "name": "#%%\n"
    }
   }
  },
  {
   "cell_type": "markdown",
   "source": [
    "#### 5.2) Beta values:"
   ],
   "metadata": {
    "collapsed": false
   }
  },
  {
   "cell_type": "code",
   "execution_count": 37,
   "outputs": [],
   "source": [
    "# Drop all rows in which the beta value is < 0.025:\n",
    "threshold = 0.025\n",
    "df_v5_2 = df_v5_1[df_v5_1['beta'] > threshold]"
   ],
   "metadata": {
    "collapsed": false,
    "pycharm": {
     "name": "#%%\n"
    }
   }
  },
  {
   "cell_type": "markdown",
   "source": [
    "## 6) Preprocessing columns:\n",
    "#### 6.1) Handling categorical columns:"
   ],
   "metadata": {
    "collapsed": false,
    "pycharm": {
     "name": "#%% md\n"
    }
   }
  },
  {
   "cell_type": "code",
   "execution_count": 38,
   "outputs": [],
   "source": [
    "# Only use week and district as index columns:\n",
    "df_v6_1 = df_v5_2.set_index(['week','district','start_date_forecasting'])"
   ],
   "metadata": {
    "collapsed": false,
    "pycharm": {
     "name": "#%%\n"
    }
   }
  },
  {
   "cell_type": "code",
   "execution_count": 39,
   "outputs": [],
   "source": [
    "# One hot-encode variant columns:\n",
    "df_v6_2_a = pd.get_dummies(df_v6_1['variant'])\n",
    "df_v6_2_b = df_v6_1.drop(columns='variant', axis=1)\n",
    "\n",
    "df_v6_2_c = pd.concat([df_v6_2_a,df_v6_2_b], axis=1)"
   ],
   "metadata": {
    "collapsed": false,
    "pycharm": {
     "name": "#%%\n"
    }
   }
  },
  {
   "cell_type": "code",
   "execution_count": 40,
   "outputs": [],
   "source": [
    "# Drop \"other\" variant column to prevent dummy variable trap:\n",
    "df_v6_2_d = df_v6_2_c.drop(columns='Other', axis=1)"
   ],
   "metadata": {
    "collapsed": false,
    "pycharm": {
     "name": "#%%\n"
    }
   }
  },
  {
   "cell_type": "markdown",
   "source": [
    "#### 6.2) Standardizing:"
   ],
   "metadata": {
    "collapsed": false,
    "pycharm": {
     "name": "#%% md\n"
    }
   }
  },
  {
   "cell_type": "code",
   "source": [
    "# Standardize:\n",
    "scaler_obj = StandardScaler()\n",
    "\n",
    "# Split explanatory columns from beta:\n",
    "explanatory_cols = df_v6_2_d.drop(columns=['beta'], axis=1)\n",
    "beta_cols = df_v6_2_d[['beta']]\n",
    "\n",
    "# Apply scaling:\n",
    "scaled_explanatory_cols = pd.DataFrame(scaler_obj.fit_transform(explanatory_cols), index=explanatory_cols.index, columns=explanatory_cols.columns)\n",
    "\n",
    "# Merge both together again:\n",
    "df_v6_3 = pd.concat([scaled_explanatory_cols, beta_cols], axis=1)\n",
    "df_v6_3"
   ],
   "metadata": {
    "collapsed": false,
    "pycharm": {
     "name": "#%%\n"
    }
   },
   "execution_count": 43,
   "outputs": [
    {
     "data": {
      "text/plain": "                                      B.1.1.529   B.1.1.7  B.1.617.2  \\\nweek district start_date_forecasting                                   \n2    Aachen   2020-03-30              -0.145551 -0.691939  -0.752127   \n3    Aachen   2020-04-06              -0.145551 -0.691939  -0.752127   \n4    Aachen   2020-04-13              -0.145551 -0.691939  -0.752127   \n5    Aachen   2020-04-20              -0.145551 -0.691939  -0.752127   \n25   Aachen   2020-09-07              -0.145551 -0.691939  -0.752127   \n...                                         ...       ...        ...   \n90   Zwickau  2021-12-06              -0.145551 -0.691939   1.329562   \n91   Zwickau  2021-12-13              -0.145551 -0.691939   1.329562   \n92   Zwickau  2021-12-20              -0.145551 -0.691939   1.329562   \n93   Zwickau  2021-12-27              -0.145551 -0.691939   1.329562   \n94   Zwickau  2022-01-03               6.870444 -0.691939  -0.752127   \n\n                                      policy_index  mobility  temperature  \\\nweek district start_date_forecasting                                        \n2    Aachen   2020-03-30                 -0.663562 -2.627111    -0.323325   \n3    Aachen   2020-04-06                 -0.500200 -2.123506    -0.187914   \n4    Aachen   2020-04-13                 -0.321142 -1.768020     1.481290   \n5    Aachen   2020-04-20                 -0.321142 -2.014885     0.754757   \n25   Aachen   2020-09-07                 -1.234323  0.532764     1.499518   \n...                                            ...       ...          ...   \n90   Zwickau  2021-12-06                  1.797445 -0.415198    -0.945695   \n91   Zwickau  2021-12-13                  2.074521  0.078532    -1.187873   \n92   Zwickau  2021-12-20                  2.074521  0.187153    -0.383218   \n93   Zwickau  2021-12-27                  2.074521 -0.039963    -1.484736   \n94   Zwickau  2022-01-03                  2.074521 -0.829932     0.168843   \n\n                                          wind  infections  beta_t_minus_1  \\\nweek district start_date_forecasting                                         \n2    Aachen   2020-03-30              0.948505   -0.011787       -0.358250   \n3    Aachen   2020-04-06             -0.065472   -0.186901       -0.241519   \n4    Aachen   2020-04-13             -0.221000   -0.317549       -1.575061   \n5    Aachen   2020-04-20             -0.088232   -0.413701       -1.619550   \n25   Aachen   2020-09-07             -0.319627   -0.476045       -1.554534   \n...                                        ...         ...             ...   \n90   Zwickau  2021-12-06              1.504979    4.025003       -0.427764   \n91   Zwickau  2021-12-13             -0.763450    2.829919       -0.265262   \n92   Zwickau  2021-12-20             -0.243760    1.679186       -0.294017   \n93   Zwickau  2021-12-27             -0.186860    1.011622       -0.837765   \n94   Zwickau  2022-01-03              1.455666    0.599393       -0.488334   \n\n                                          beta  \nweek district start_date_forecasting            \n2    Aachen   2020-03-30              0.287552  \n3    Aachen   2020-04-06              0.200627  \n4    Aachen   2020-04-13              0.222567  \n5    Aachen   2020-04-20              0.214683  \n25   Aachen   2020-09-07              0.478947  \n...                                        ...  \n90   Zwickau  2021-12-06              0.335567  \n91   Zwickau  2021-12-13              0.315457  \n92   Zwickau  2021-12-20              0.282921  \n93   Zwickau  2021-12-27              0.321480  \n94   Zwickau  2022-01-03              0.319493  \n\n[19233 rows x 10 columns]",
      "text/html": "<div>\n<style scoped>\n    .dataframe tbody tr th:only-of-type {\n        vertical-align: middle;\n    }\n\n    .dataframe tbody tr th {\n        vertical-align: top;\n    }\n\n    .dataframe thead th {\n        text-align: right;\n    }\n</style>\n<table border=\"1\" class=\"dataframe\">\n  <thead>\n    <tr style=\"text-align: right;\">\n      <th></th>\n      <th></th>\n      <th></th>\n      <th>B.1.1.529</th>\n      <th>B.1.1.7</th>\n      <th>B.1.617.2</th>\n      <th>policy_index</th>\n      <th>mobility</th>\n      <th>temperature</th>\n      <th>wind</th>\n      <th>infections</th>\n      <th>beta_t_minus_1</th>\n      <th>beta</th>\n    </tr>\n    <tr>\n      <th>week</th>\n      <th>district</th>\n      <th>start_date_forecasting</th>\n      <th></th>\n      <th></th>\n      <th></th>\n      <th></th>\n      <th></th>\n      <th></th>\n      <th></th>\n      <th></th>\n      <th></th>\n      <th></th>\n    </tr>\n  </thead>\n  <tbody>\n    <tr>\n      <th>2</th>\n      <th>Aachen</th>\n      <th>2020-03-30</th>\n      <td>-0.145551</td>\n      <td>-0.691939</td>\n      <td>-0.752127</td>\n      <td>-0.663562</td>\n      <td>-2.627111</td>\n      <td>-0.323325</td>\n      <td>0.948505</td>\n      <td>-0.011787</td>\n      <td>-0.358250</td>\n      <td>0.287552</td>\n    </tr>\n    <tr>\n      <th>3</th>\n      <th>Aachen</th>\n      <th>2020-04-06</th>\n      <td>-0.145551</td>\n      <td>-0.691939</td>\n      <td>-0.752127</td>\n      <td>-0.500200</td>\n      <td>-2.123506</td>\n      <td>-0.187914</td>\n      <td>-0.065472</td>\n      <td>-0.186901</td>\n      <td>-0.241519</td>\n      <td>0.200627</td>\n    </tr>\n    <tr>\n      <th>4</th>\n      <th>Aachen</th>\n      <th>2020-04-13</th>\n      <td>-0.145551</td>\n      <td>-0.691939</td>\n      <td>-0.752127</td>\n      <td>-0.321142</td>\n      <td>-1.768020</td>\n      <td>1.481290</td>\n      <td>-0.221000</td>\n      <td>-0.317549</td>\n      <td>-1.575061</td>\n      <td>0.222567</td>\n    </tr>\n    <tr>\n      <th>5</th>\n      <th>Aachen</th>\n      <th>2020-04-20</th>\n      <td>-0.145551</td>\n      <td>-0.691939</td>\n      <td>-0.752127</td>\n      <td>-0.321142</td>\n      <td>-2.014885</td>\n      <td>0.754757</td>\n      <td>-0.088232</td>\n      <td>-0.413701</td>\n      <td>-1.619550</td>\n      <td>0.214683</td>\n    </tr>\n    <tr>\n      <th>25</th>\n      <th>Aachen</th>\n      <th>2020-09-07</th>\n      <td>-0.145551</td>\n      <td>-0.691939</td>\n      <td>-0.752127</td>\n      <td>-1.234323</td>\n      <td>0.532764</td>\n      <td>1.499518</td>\n      <td>-0.319627</td>\n      <td>-0.476045</td>\n      <td>-1.554534</td>\n      <td>0.478947</td>\n    </tr>\n    <tr>\n      <th>...</th>\n      <th>...</th>\n      <th>...</th>\n      <td>...</td>\n      <td>...</td>\n      <td>...</td>\n      <td>...</td>\n      <td>...</td>\n      <td>...</td>\n      <td>...</td>\n      <td>...</td>\n      <td>...</td>\n      <td>...</td>\n    </tr>\n    <tr>\n      <th>90</th>\n      <th>Zwickau</th>\n      <th>2021-12-06</th>\n      <td>-0.145551</td>\n      <td>-0.691939</td>\n      <td>1.329562</td>\n      <td>1.797445</td>\n      <td>-0.415198</td>\n      <td>-0.945695</td>\n      <td>1.504979</td>\n      <td>4.025003</td>\n      <td>-0.427764</td>\n      <td>0.335567</td>\n    </tr>\n    <tr>\n      <th>91</th>\n      <th>Zwickau</th>\n      <th>2021-12-13</th>\n      <td>-0.145551</td>\n      <td>-0.691939</td>\n      <td>1.329562</td>\n      <td>2.074521</td>\n      <td>0.078532</td>\n      <td>-1.187873</td>\n      <td>-0.763450</td>\n      <td>2.829919</td>\n      <td>-0.265262</td>\n      <td>0.315457</td>\n    </tr>\n    <tr>\n      <th>92</th>\n      <th>Zwickau</th>\n      <th>2021-12-20</th>\n      <td>-0.145551</td>\n      <td>-0.691939</td>\n      <td>1.329562</td>\n      <td>2.074521</td>\n      <td>0.187153</td>\n      <td>-0.383218</td>\n      <td>-0.243760</td>\n      <td>1.679186</td>\n      <td>-0.294017</td>\n      <td>0.282921</td>\n    </tr>\n    <tr>\n      <th>93</th>\n      <th>Zwickau</th>\n      <th>2021-12-27</th>\n      <td>-0.145551</td>\n      <td>-0.691939</td>\n      <td>1.329562</td>\n      <td>2.074521</td>\n      <td>-0.039963</td>\n      <td>-1.484736</td>\n      <td>-0.186860</td>\n      <td>1.011622</td>\n      <td>-0.837765</td>\n      <td>0.321480</td>\n    </tr>\n    <tr>\n      <th>94</th>\n      <th>Zwickau</th>\n      <th>2022-01-03</th>\n      <td>6.870444</td>\n      <td>-0.691939</td>\n      <td>-0.752127</td>\n      <td>2.074521</td>\n      <td>-0.829932</td>\n      <td>0.168843</td>\n      <td>1.455666</td>\n      <td>0.599393</td>\n      <td>-0.488334</td>\n      <td>0.319493</td>\n    </tr>\n  </tbody>\n</table>\n<p>19233 rows × 10 columns</p>\n</div>"
     },
     "execution_count": 43,
     "metadata": {},
     "output_type": "execute_result"
    }
   ]
  },
  {
   "cell_type": "markdown",
   "source": [
    "## 7) Modeling\n",
    "### 7.1) Preparation\n",
    "#### 7.1.1) Split into train/val:"
   ],
   "metadata": {
    "collapsed": false,
    "pycharm": {
     "name": "#%% md\n"
    }
   }
  },
  {
   "cell_type": "code",
   "source": [
    "df_modeling = df_v6_3\n",
    "df_modeling"
   ],
   "metadata": {
    "collapsed": false,
    "pycharm": {
     "name": "#%%\n"
    }
   },
   "execution_count": 44,
   "outputs": [
    {
     "data": {
      "text/plain": "                                      B.1.1.529   B.1.1.7  B.1.617.2  \\\nweek district start_date_forecasting                                   \n2    Aachen   2020-03-30              -0.145551 -0.691939  -0.752127   \n3    Aachen   2020-04-06              -0.145551 -0.691939  -0.752127   \n4    Aachen   2020-04-13              -0.145551 -0.691939  -0.752127   \n5    Aachen   2020-04-20              -0.145551 -0.691939  -0.752127   \n25   Aachen   2020-09-07              -0.145551 -0.691939  -0.752127   \n...                                         ...       ...        ...   \n90   Zwickau  2021-12-06              -0.145551 -0.691939   1.329562   \n91   Zwickau  2021-12-13              -0.145551 -0.691939   1.329562   \n92   Zwickau  2021-12-20              -0.145551 -0.691939   1.329562   \n93   Zwickau  2021-12-27              -0.145551 -0.691939   1.329562   \n94   Zwickau  2022-01-03               6.870444 -0.691939  -0.752127   \n\n                                      policy_index  mobility  temperature  \\\nweek district start_date_forecasting                                        \n2    Aachen   2020-03-30                 -0.663562 -2.627111    -0.323325   \n3    Aachen   2020-04-06                 -0.500200 -2.123506    -0.187914   \n4    Aachen   2020-04-13                 -0.321142 -1.768020     1.481290   \n5    Aachen   2020-04-20                 -0.321142 -2.014885     0.754757   \n25   Aachen   2020-09-07                 -1.234323  0.532764     1.499518   \n...                                            ...       ...          ...   \n90   Zwickau  2021-12-06                  1.797445 -0.415198    -0.945695   \n91   Zwickau  2021-12-13                  2.074521  0.078532    -1.187873   \n92   Zwickau  2021-12-20                  2.074521  0.187153    -0.383218   \n93   Zwickau  2021-12-27                  2.074521 -0.039963    -1.484736   \n94   Zwickau  2022-01-03                  2.074521 -0.829932     0.168843   \n\n                                          wind  infections  beta_t_minus_1  \\\nweek district start_date_forecasting                                         \n2    Aachen   2020-03-30              0.948505   -0.011787       -0.358250   \n3    Aachen   2020-04-06             -0.065472   -0.186901       -0.241519   \n4    Aachen   2020-04-13             -0.221000   -0.317549       -1.575061   \n5    Aachen   2020-04-20             -0.088232   -0.413701       -1.619550   \n25   Aachen   2020-09-07             -0.319627   -0.476045       -1.554534   \n...                                        ...         ...             ...   \n90   Zwickau  2021-12-06              1.504979    4.025003       -0.427764   \n91   Zwickau  2021-12-13             -0.763450    2.829919       -0.265262   \n92   Zwickau  2021-12-20             -0.243760    1.679186       -0.294017   \n93   Zwickau  2021-12-27             -0.186860    1.011622       -0.837765   \n94   Zwickau  2022-01-03              1.455666    0.599393       -0.488334   \n\n                                          beta  \nweek district start_date_forecasting            \n2    Aachen   2020-03-30              0.287552  \n3    Aachen   2020-04-06              0.200627  \n4    Aachen   2020-04-13              0.222567  \n5    Aachen   2020-04-20              0.214683  \n25   Aachen   2020-09-07              0.478947  \n...                                        ...  \n90   Zwickau  2021-12-06              0.335567  \n91   Zwickau  2021-12-13              0.315457  \n92   Zwickau  2021-12-20              0.282921  \n93   Zwickau  2021-12-27              0.321480  \n94   Zwickau  2022-01-03              0.319493  \n\n[19233 rows x 10 columns]",
      "text/html": "<div>\n<style scoped>\n    .dataframe tbody tr th:only-of-type {\n        vertical-align: middle;\n    }\n\n    .dataframe tbody tr th {\n        vertical-align: top;\n    }\n\n    .dataframe thead th {\n        text-align: right;\n    }\n</style>\n<table border=\"1\" class=\"dataframe\">\n  <thead>\n    <tr style=\"text-align: right;\">\n      <th></th>\n      <th></th>\n      <th></th>\n      <th>B.1.1.529</th>\n      <th>B.1.1.7</th>\n      <th>B.1.617.2</th>\n      <th>policy_index</th>\n      <th>mobility</th>\n      <th>temperature</th>\n      <th>wind</th>\n      <th>infections</th>\n      <th>beta_t_minus_1</th>\n      <th>beta</th>\n    </tr>\n    <tr>\n      <th>week</th>\n      <th>district</th>\n      <th>start_date_forecasting</th>\n      <th></th>\n      <th></th>\n      <th></th>\n      <th></th>\n      <th></th>\n      <th></th>\n      <th></th>\n      <th></th>\n      <th></th>\n      <th></th>\n    </tr>\n  </thead>\n  <tbody>\n    <tr>\n      <th>2</th>\n      <th>Aachen</th>\n      <th>2020-03-30</th>\n      <td>-0.145551</td>\n      <td>-0.691939</td>\n      <td>-0.752127</td>\n      <td>-0.663562</td>\n      <td>-2.627111</td>\n      <td>-0.323325</td>\n      <td>0.948505</td>\n      <td>-0.011787</td>\n      <td>-0.358250</td>\n      <td>0.287552</td>\n    </tr>\n    <tr>\n      <th>3</th>\n      <th>Aachen</th>\n      <th>2020-04-06</th>\n      <td>-0.145551</td>\n      <td>-0.691939</td>\n      <td>-0.752127</td>\n      <td>-0.500200</td>\n      <td>-2.123506</td>\n      <td>-0.187914</td>\n      <td>-0.065472</td>\n      <td>-0.186901</td>\n      <td>-0.241519</td>\n      <td>0.200627</td>\n    </tr>\n    <tr>\n      <th>4</th>\n      <th>Aachen</th>\n      <th>2020-04-13</th>\n      <td>-0.145551</td>\n      <td>-0.691939</td>\n      <td>-0.752127</td>\n      <td>-0.321142</td>\n      <td>-1.768020</td>\n      <td>1.481290</td>\n      <td>-0.221000</td>\n      <td>-0.317549</td>\n      <td>-1.575061</td>\n      <td>0.222567</td>\n    </tr>\n    <tr>\n      <th>5</th>\n      <th>Aachen</th>\n      <th>2020-04-20</th>\n      <td>-0.145551</td>\n      <td>-0.691939</td>\n      <td>-0.752127</td>\n      <td>-0.321142</td>\n      <td>-2.014885</td>\n      <td>0.754757</td>\n      <td>-0.088232</td>\n      <td>-0.413701</td>\n      <td>-1.619550</td>\n      <td>0.214683</td>\n    </tr>\n    <tr>\n      <th>25</th>\n      <th>Aachen</th>\n      <th>2020-09-07</th>\n      <td>-0.145551</td>\n      <td>-0.691939</td>\n      <td>-0.752127</td>\n      <td>-1.234323</td>\n      <td>0.532764</td>\n      <td>1.499518</td>\n      <td>-0.319627</td>\n      <td>-0.476045</td>\n      <td>-1.554534</td>\n      <td>0.478947</td>\n    </tr>\n    <tr>\n      <th>...</th>\n      <th>...</th>\n      <th>...</th>\n      <td>...</td>\n      <td>...</td>\n      <td>...</td>\n      <td>...</td>\n      <td>...</td>\n      <td>...</td>\n      <td>...</td>\n      <td>...</td>\n      <td>...</td>\n      <td>...</td>\n    </tr>\n    <tr>\n      <th>90</th>\n      <th>Zwickau</th>\n      <th>2021-12-06</th>\n      <td>-0.145551</td>\n      <td>-0.691939</td>\n      <td>1.329562</td>\n      <td>1.797445</td>\n      <td>-0.415198</td>\n      <td>-0.945695</td>\n      <td>1.504979</td>\n      <td>4.025003</td>\n      <td>-0.427764</td>\n      <td>0.335567</td>\n    </tr>\n    <tr>\n      <th>91</th>\n      <th>Zwickau</th>\n      <th>2021-12-13</th>\n      <td>-0.145551</td>\n      <td>-0.691939</td>\n      <td>1.329562</td>\n      <td>2.074521</td>\n      <td>0.078532</td>\n      <td>-1.187873</td>\n      <td>-0.763450</td>\n      <td>2.829919</td>\n      <td>-0.265262</td>\n      <td>0.315457</td>\n    </tr>\n    <tr>\n      <th>92</th>\n      <th>Zwickau</th>\n      <th>2021-12-20</th>\n      <td>-0.145551</td>\n      <td>-0.691939</td>\n      <td>1.329562</td>\n      <td>2.074521</td>\n      <td>0.187153</td>\n      <td>-0.383218</td>\n      <td>-0.243760</td>\n      <td>1.679186</td>\n      <td>-0.294017</td>\n      <td>0.282921</td>\n    </tr>\n    <tr>\n      <th>93</th>\n      <th>Zwickau</th>\n      <th>2021-12-27</th>\n      <td>-0.145551</td>\n      <td>-0.691939</td>\n      <td>1.329562</td>\n      <td>2.074521</td>\n      <td>-0.039963</td>\n      <td>-1.484736</td>\n      <td>-0.186860</td>\n      <td>1.011622</td>\n      <td>-0.837765</td>\n      <td>0.321480</td>\n    </tr>\n    <tr>\n      <th>94</th>\n      <th>Zwickau</th>\n      <th>2022-01-03</th>\n      <td>6.870444</td>\n      <td>-0.691939</td>\n      <td>-0.752127</td>\n      <td>2.074521</td>\n      <td>-0.829932</td>\n      <td>0.168843</td>\n      <td>1.455666</td>\n      <td>0.599393</td>\n      <td>-0.488334</td>\n      <td>0.319493</td>\n    </tr>\n  </tbody>\n</table>\n<p>19233 rows × 10 columns</p>\n</div>"
     },
     "execution_count": 44,
     "metadata": {},
     "output_type": "execute_result"
    }
   ]
  },
  {
   "cell_type": "markdown",
   "source": [
    "#### 7.1.2) Split into train val:"
   ],
   "metadata": {
    "collapsed": false,
    "pycharm": {
     "name": "#%% md\n"
    }
   }
  },
  {
   "cell_type": "code",
   "execution_count": 45,
   "outputs": [],
   "source": [
    "SEED = 420"
   ],
   "metadata": {
    "collapsed": false,
    "pycharm": {
     "name": "#%%\n"
    }
   }
  },
  {
   "cell_type": "code",
   "execution_count": 46,
   "outputs": [],
   "source": [
    "X_full = df_modeling.drop(columns=['beta'], axis=1)\n",
    "y_full = df_modeling['beta']"
   ],
   "metadata": {
    "collapsed": false,
    "pycharm": {
     "name": "#%%\n"
    }
   }
  },
  {
   "cell_type": "code",
   "source": [
    "X_train, X_val, y_train, y_val = train_test_split(X_full, y_full, shuffle=True, train_size=0.75, random_state=SEED)"
   ],
   "metadata": {
    "collapsed": false,
    "pycharm": {
     "name": "#%%\n"
    }
   },
   "execution_count": 47,
   "outputs": []
  },
  {
   "cell_type": "markdown",
   "source": [
    "### 7.2 Models\n",
    "#### 7.2.1) Baseline Approach: Choosing previous beta"
   ],
   "metadata": {
    "collapsed": false,
    "pycharm": {
     "name": "#%% md\n"
    }
   }
  },
  {
   "cell_type": "code",
   "execution_count": 48,
   "outputs": [],
   "source": [
    "# Baseline approach would be to use the beta from the previous week for the next week:\n",
    "## Therefore we have to compare how well this works, compared to our ML approach:\n",
    "\n",
    "# As the values are standardized we have to reverse standardize them first:\n",
    "y_pred_baseline_val = pd.DataFrame(scaler_obj.inverse_transform(X_val), index=X_val.index, columns=X_val.columns)['beta_t_minus_1']"
   ],
   "metadata": {
    "collapsed": false,
    "pycharm": {
     "name": "#%%\n"
    }
   }
  },
  {
   "cell_type": "code",
   "execution_count": 49,
   "outputs": [
    {
     "data": {
      "text/plain": "0.3966297511468079"
     },
     "execution_count": 49,
     "metadata": {},
     "output_type": "execute_result"
    }
   ],
   "source": [
    "# Correlation of this approach:\n",
    "X_full['beta_t_minus_1'].corr(y_full)"
   ],
   "metadata": {
    "collapsed": false,
    "pycharm": {
     "name": "#%%\n"
    }
   }
  },
  {
   "cell_type": "code",
   "execution_count": 50,
   "outputs": [
    {
     "data": {
      "text/plain": "                                                            y_val  \\\nweek district                    start_date_forecasting             \n31   Pfaffenhofen a.d.Ilm        2020-10-19              0.461399   \n41   Landkreis Neunkirchen       2020-12-28              0.269198   \n89   Regionalverband Saarbrücken 2021-11-29              0.365568   \n27   Oberbergischer Kreis        2020-09-21              0.287139   \n92   Saalfeld-Rudolstadt         2021-12-20              0.279333   \n...                                                           ...   \n80   Nordsachsen                 2021-09-27              0.523480   \n38   Osnabrück, Stadt            2020-12-07              0.277760   \n88   Hildburghausen              2021-11-22              0.476420   \n52   Göppingen                   2021-03-15              0.326639   \n89   Steinfurt                   2021-11-29              0.410652   \n\n                                                         y_pred_baseline  \nweek district                    start_date_forecasting                   \n31   Pfaffenhofen a.d.Ilm        2020-10-19                     0.613393  \n41   Landkreis Neunkirchen       2020-12-28                     0.305303  \n89   Regionalverband Saarbrücken 2021-11-29                     0.518535  \n27   Oberbergischer Kreis        2020-09-21                     0.585525  \n92   Saalfeld-Rudolstadt         2021-12-20                     0.299301  \n...                                                                  ...  \n80   Nordsachsen                 2021-09-27                     0.367375  \n38   Osnabrück, Stadt            2020-12-07                     0.315092  \n88   Hildburghausen              2021-11-22                     0.405275  \n52   Göppingen                   2021-03-15                     0.502650  \n89   Steinfurt                   2021-11-29                     0.498770  \n\n[4809 rows x 2 columns]",
      "text/html": "<div>\n<style scoped>\n    .dataframe tbody tr th:only-of-type {\n        vertical-align: middle;\n    }\n\n    .dataframe tbody tr th {\n        vertical-align: top;\n    }\n\n    .dataframe thead th {\n        text-align: right;\n    }\n</style>\n<table border=\"1\" class=\"dataframe\">\n  <thead>\n    <tr style=\"text-align: right;\">\n      <th></th>\n      <th></th>\n      <th></th>\n      <th>y_val</th>\n      <th>y_pred_baseline</th>\n    </tr>\n    <tr>\n      <th>week</th>\n      <th>district</th>\n      <th>start_date_forecasting</th>\n      <th></th>\n      <th></th>\n    </tr>\n  </thead>\n  <tbody>\n    <tr>\n      <th>31</th>\n      <th>Pfaffenhofen a.d.Ilm</th>\n      <th>2020-10-19</th>\n      <td>0.461399</td>\n      <td>0.613393</td>\n    </tr>\n    <tr>\n      <th>41</th>\n      <th>Landkreis Neunkirchen</th>\n      <th>2020-12-28</th>\n      <td>0.269198</td>\n      <td>0.305303</td>\n    </tr>\n    <tr>\n      <th>89</th>\n      <th>Regionalverband Saarbrücken</th>\n      <th>2021-11-29</th>\n      <td>0.365568</td>\n      <td>0.518535</td>\n    </tr>\n    <tr>\n      <th>27</th>\n      <th>Oberbergischer Kreis</th>\n      <th>2020-09-21</th>\n      <td>0.287139</td>\n      <td>0.585525</td>\n    </tr>\n    <tr>\n      <th>92</th>\n      <th>Saalfeld-Rudolstadt</th>\n      <th>2021-12-20</th>\n      <td>0.279333</td>\n      <td>0.299301</td>\n    </tr>\n    <tr>\n      <th>...</th>\n      <th>...</th>\n      <th>...</th>\n      <td>...</td>\n      <td>...</td>\n    </tr>\n    <tr>\n      <th>80</th>\n      <th>Nordsachsen</th>\n      <th>2021-09-27</th>\n      <td>0.523480</td>\n      <td>0.367375</td>\n    </tr>\n    <tr>\n      <th>38</th>\n      <th>Osnabrück, Stadt</th>\n      <th>2020-12-07</th>\n      <td>0.277760</td>\n      <td>0.315092</td>\n    </tr>\n    <tr>\n      <th>88</th>\n      <th>Hildburghausen</th>\n      <th>2021-11-22</th>\n      <td>0.476420</td>\n      <td>0.405275</td>\n    </tr>\n    <tr>\n      <th>52</th>\n      <th>Göppingen</th>\n      <th>2021-03-15</th>\n      <td>0.326639</td>\n      <td>0.502650</td>\n    </tr>\n    <tr>\n      <th>89</th>\n      <th>Steinfurt</th>\n      <th>2021-11-29</th>\n      <td>0.410652</td>\n      <td>0.498770</td>\n    </tr>\n  </tbody>\n</table>\n<p>4809 rows × 2 columns</p>\n</div>"
     },
     "execution_count": 50,
     "metadata": {},
     "output_type": "execute_result"
    }
   ],
   "source": [
    "pd.DataFrame({'y_val':y_val, 'y_pred_baseline':y_pred_baseline_val})"
   ],
   "metadata": {
    "collapsed": false,
    "pycharm": {
     "name": "#%%\n"
    }
   }
  },
  {
   "cell_type": "code",
   "execution_count": 51,
   "outputs": [
    {
     "name": "stdout",
     "output_type": "stream",
     "text": [
      "Baseline RMSE is: 0.11121229148715969\n"
     ]
    }
   ],
   "source": [
    "# Compute RMSE of baseline approach:\n",
    "rmse_baseline =  mean_squared_error(y_val, y_pred_baseline_val, squared=False)\n",
    "print(f'Baseline RMSE is: {rmse_baseline}')"
   ],
   "metadata": {
    "collapsed": false,
    "pycharm": {
     "name": "#%%\n"
    }
   }
  },
  {
   "cell_type": "markdown",
   "source": [
    "#### 7.2.2) Multivariate Linear Regression"
   ],
   "metadata": {
    "collapsed": false
   }
  },
  {
   "cell_type": "code",
   "execution_count": 52,
   "outputs": [],
   "source": [
    "regr = linear_model.LinearRegression()\n",
    "regr.fit(X_train, y_train)\n",
    "\n",
    "y_pred_linreg = regr.predict(X_val)\n",
    "rmse_linreg = mean_squared_error(y_val, y_pred_linreg, squared=False)"
   ],
   "metadata": {
    "collapsed": false,
    "pycharm": {
     "name": "#%%\n"
    }
   }
  },
  {
   "cell_type": "code",
   "execution_count": 53,
   "outputs": [
    {
     "name": "stdout",
     "output_type": "stream",
     "text": [
      "RMSE of LinearRegression() is: 0.06810871356705256. This is an improvement compared to the baseline approach of: 38.75792625411712 %\n"
     ]
    }
   ],
   "source": [
    "print(f'RMSE of {regr} is: {rmse_linreg}. This is an improvement compared to the baseline approach of: {-(rmse_linreg / rmse_baseline -1)*100} %')"
   ],
   "metadata": {
    "collapsed": false,
    "pycharm": {
     "name": "#%%\n"
    }
   }
  },
  {
   "cell_type": "markdown",
   "source": [
    "#### 7.2.3) Ridge Regression:"
   ],
   "metadata": {
    "collapsed": false,
    "pycharm": {
     "name": "#%% md\n"
    }
   }
  },
  {
   "cell_type": "code",
   "execution_count": 54,
   "outputs": [],
   "source": [
    "ridge_reg = linear_model.Ridge()\n",
    "ridge_reg.fit(X_train, y_train)\n",
    "\n",
    "y_pred_ridge_reg = ridge_reg.predict(X_val)\n",
    "rmse_ridge_reg = mean_squared_error(y_val, y_pred_ridge_reg, squared=False)"
   ],
   "metadata": {
    "collapsed": false,
    "pycharm": {
     "name": "#%%\n"
    }
   }
  },
  {
   "cell_type": "code",
   "execution_count": 55,
   "outputs": [
    {
     "name": "stdout",
     "output_type": "stream",
     "text": [
      "RMSE of Ridge() is: 0.06810885638018095. This is an improvement compared to the baseline approach of: 38.75779783923916 %\n"
     ]
    }
   ],
   "source": [
    "print(f'RMSE of {ridge_reg} is: {rmse_ridge_reg}. This is an improvement compared to the baseline approach of: {-(rmse_ridge_reg / rmse_baseline -1)*100} %')"
   ],
   "metadata": {
    "collapsed": false,
    "pycharm": {
     "name": "#%%\n"
    }
   }
  },
  {
   "cell_type": "markdown",
   "source": [
    "#### 7.2.4) Random Forest Regressor:"
   ],
   "metadata": {
    "collapsed": false,
    "pycharm": {
     "name": "#%% md\n"
    }
   }
  },
  {
   "cell_type": "code",
   "execution_count": 56,
   "outputs": [],
   "source": [
    "rfg_model = RandomForestRegressor()\n",
    "rfg_model.fit(X_train, y_train)\n",
    "\n",
    "y_pred_random_forest = rfg_model.predict(X_val)\n",
    "rmse_random_forest = mean_squared_error(y_val, y_pred_random_forest, squared=False)"
   ],
   "metadata": {
    "collapsed": false,
    "pycharm": {
     "name": "#%%\n"
    }
   }
  },
  {
   "cell_type": "code",
   "execution_count": 57,
   "outputs": [
    {
     "name": "stdout",
     "output_type": "stream",
     "text": [
      "RMSE of RandomForestRegressor() is: 0.05768252382593405. This is an improvement compared to the baseline approach of: 48.132959896259365 %\n"
     ]
    }
   ],
   "source": [
    "print(f'RMSE of {rfg_model} is: {rmse_random_forest}. This is an improvement compared to the baseline approach of: {-(rmse_random_forest / rmse_baseline -1)*100} %')"
   ],
   "metadata": {
    "collapsed": false,
    "pycharm": {
     "name": "#%%\n"
    }
   }
  },
  {
   "cell_type": "markdown",
   "source": [
    "#### 7.2.5) Support Vector Machines"
   ],
   "metadata": {
    "collapsed": false,
    "pycharm": {
     "name": "#%% md\n"
    }
   }
  },
  {
   "cell_type": "code",
   "execution_count": 58,
   "outputs": [],
   "source": [
    "svm = SVR()\n",
    "svm.fit(X_train, y_train)\n",
    "\n",
    "y_pred_svm = svm.predict(X_val)\n",
    "rmse_svm = mean_squared_error(y_val, y_pred_svm, squared=False)"
   ],
   "metadata": {
    "collapsed": false,
    "pycharm": {
     "name": "#%%\n"
    }
   }
  },
  {
   "cell_type": "code",
   "execution_count": 59,
   "outputs": [
    {
     "name": "stdout",
     "output_type": "stream",
     "text": [
      "RMSE of SVR() is: 0.06363144425945627. This is an improvement compared to the baseline approach of: 42.783802573834194 %\n"
     ]
    }
   ],
   "source": [
    "print(f'RMSE of {svm} is: {rmse_svm}. This is an improvement compared to the baseline approach of: {-(rmse_svm / rmse_baseline -1)*100} %')"
   ],
   "metadata": {
    "collapsed": false,
    "pycharm": {
     "name": "#%%\n"
    }
   }
  },
  {
   "cell_type": "markdown",
   "source": [
    "#### 7.2.6) XGBoost"
   ],
   "metadata": {
    "collapsed": false,
    "pycharm": {
     "name": "#%% md\n"
    }
   }
  },
  {
   "cell_type": "code",
   "execution_count": 60,
   "outputs": [],
   "source": [
    "xgb_model = xgb.XGBRegressor(verbosity=0)\n",
    "xgb_model.name = 'XGBoostRegressor'\n",
    "xgb_model.fit(X_train, y_train)\n",
    "\n",
    "y_pred_xgb = xgb_model.predict(X_val)\n",
    "rmse_xgb = mean_squared_error(y_val, y_pred_xgb, squared=False)"
   ],
   "metadata": {
    "collapsed": false,
    "pycharm": {
     "name": "#%%\n"
    }
   }
  },
  {
   "cell_type": "code",
   "execution_count": 61,
   "outputs": [
    {
     "name": "stdout",
     "output_type": "stream",
     "text": [
      "\n",
      " RMSE of XGBoostRegressor is: 0.05813623633354501. This is an improvement compared to the baseline approach of: 47.724990146204036 %\n"
     ]
    }
   ],
   "source": [
    "print(f'\\n RMSE of {xgb_model.name} is: {rmse_xgb}. This is an improvement compared to the baseline approach of: {-(rmse_xgb / rmse_baseline -1)*100} %')"
   ],
   "metadata": {
    "collapsed": false,
    "pycharm": {
     "name": "#%%\n"
    }
   }
  },
  {
   "cell_type": "code",
   "execution_count": 62,
   "outputs": [
    {
     "data": {
      "text/plain": "                                                 beta_opt  last_beta  \\\nweek district            start_date_forecasting                        \n94   Wesel               2022-01-03              0.600204   0.386111   \n     Böblingen           2022-01-03              0.513978   0.410184   \n     München, Kreis      2022-01-03              0.678642   0.471493   \n     Waldeck-Frankenberg 2022-01-03              0.632674   0.273260   \n     Düren               2022-01-03              0.604780   0.481528   \n...                                                   ...        ...   \n2    Unna                2020-03-30              0.330113   0.476911   \n     Schwandorf          2020-03-30              0.376181   0.524044   \n     Dortmund            2020-03-30              0.359041   0.252210   \n     Kelheim             2020-03-30              0.346106   0.513084   \n     Erzgebirgskreis     2020-03-30              0.438993   0.378418   \n\n                                                 last_beta_standardized  \\\nweek district            start_date_forecasting                           \n94   Wesel               2022-01-03                            0.095672   \n     Böblingen           2022-01-03                            0.330291   \n     München, Kreis      2022-01-03                            0.927813   \n     Waldeck-Frankenberg 2022-01-03                           -1.004190   \n     Düren               2022-01-03                            1.025614   \n...                                                                 ...   \n2    Unna                2020-03-30                            0.980620   \n     Schwandorf          2020-03-30                            1.439981   \n     Dortmund            2020-03-30                           -1.209345   \n     Kelheim             2020-03-30                            1.333168   \n     Erzgebirgskreis     2020-03-30                            0.020694   \n\n                                                 xgb_bred  \nweek district            start_date_forecasting            \n94   Wesel               2022-01-03              0.590352  \n     Böblingen           2022-01-03              0.560849  \n     München, Kreis      2022-01-03              0.548484  \n     Waldeck-Frankenberg 2022-01-03              0.540258  \n     Düren               2022-01-03              0.553636  \n...                                                   ...  \n2    Unna                2020-03-30              0.338277  \n     Schwandorf          2020-03-30              0.321920  \n     Dortmund            2020-03-30              0.341499  \n     Kelheim             2020-03-30              0.285526  \n     Erzgebirgskreis     2020-03-30              0.290362  \n\n[4809 rows x 4 columns]",
      "text/html": "<div>\n<style scoped>\n    .dataframe tbody tr th:only-of-type {\n        vertical-align: middle;\n    }\n\n    .dataframe tbody tr th {\n        vertical-align: top;\n    }\n\n    .dataframe thead th {\n        text-align: right;\n    }\n</style>\n<table border=\"1\" class=\"dataframe\">\n  <thead>\n    <tr style=\"text-align: right;\">\n      <th></th>\n      <th></th>\n      <th></th>\n      <th>beta_opt</th>\n      <th>last_beta</th>\n      <th>last_beta_standardized</th>\n      <th>xgb_bred</th>\n    </tr>\n    <tr>\n      <th>week</th>\n      <th>district</th>\n      <th>start_date_forecasting</th>\n      <th></th>\n      <th></th>\n      <th></th>\n      <th></th>\n    </tr>\n  </thead>\n  <tbody>\n    <tr>\n      <th rowspan=\"5\" valign=\"top\">94</th>\n      <th>Wesel</th>\n      <th>2022-01-03</th>\n      <td>0.600204</td>\n      <td>0.386111</td>\n      <td>0.095672</td>\n      <td>0.590352</td>\n    </tr>\n    <tr>\n      <th>Böblingen</th>\n      <th>2022-01-03</th>\n      <td>0.513978</td>\n      <td>0.410184</td>\n      <td>0.330291</td>\n      <td>0.560849</td>\n    </tr>\n    <tr>\n      <th>München, Kreis</th>\n      <th>2022-01-03</th>\n      <td>0.678642</td>\n      <td>0.471493</td>\n      <td>0.927813</td>\n      <td>0.548484</td>\n    </tr>\n    <tr>\n      <th>Waldeck-Frankenberg</th>\n      <th>2022-01-03</th>\n      <td>0.632674</td>\n      <td>0.273260</td>\n      <td>-1.004190</td>\n      <td>0.540258</td>\n    </tr>\n    <tr>\n      <th>Düren</th>\n      <th>2022-01-03</th>\n      <td>0.604780</td>\n      <td>0.481528</td>\n      <td>1.025614</td>\n      <td>0.553636</td>\n    </tr>\n    <tr>\n      <th>...</th>\n      <th>...</th>\n      <th>...</th>\n      <td>...</td>\n      <td>...</td>\n      <td>...</td>\n      <td>...</td>\n    </tr>\n    <tr>\n      <th rowspan=\"5\" valign=\"top\">2</th>\n      <th>Unna</th>\n      <th>2020-03-30</th>\n      <td>0.330113</td>\n      <td>0.476911</td>\n      <td>0.980620</td>\n      <td>0.338277</td>\n    </tr>\n    <tr>\n      <th>Schwandorf</th>\n      <th>2020-03-30</th>\n      <td>0.376181</td>\n      <td>0.524044</td>\n      <td>1.439981</td>\n      <td>0.321920</td>\n    </tr>\n    <tr>\n      <th>Dortmund</th>\n      <th>2020-03-30</th>\n      <td>0.359041</td>\n      <td>0.252210</td>\n      <td>-1.209345</td>\n      <td>0.341499</td>\n    </tr>\n    <tr>\n      <th>Kelheim</th>\n      <th>2020-03-30</th>\n      <td>0.346106</td>\n      <td>0.513084</td>\n      <td>1.333168</td>\n      <td>0.285526</td>\n    </tr>\n    <tr>\n      <th>Erzgebirgskreis</th>\n      <th>2020-03-30</th>\n      <td>0.438993</td>\n      <td>0.378418</td>\n      <td>0.020694</td>\n      <td>0.290362</td>\n    </tr>\n  </tbody>\n</table>\n<p>4809 rows × 4 columns</p>\n</div>"
     },
     "execution_count": 62,
     "metadata": {},
     "output_type": "execute_result"
    }
   ],
   "source": [
    "pd.DataFrame({'beta_opt':y_val, 'last_beta':y_pred_baseline_val, 'last_beta_standardized':X_val['beta_t_minus_1'], 'xgb_bred':y_pred_xgb}).sort_values('start_date_forecasting', ascending=False)"
   ],
   "metadata": {
    "collapsed": false,
    "pycharm": {
     "name": "#%%\n"
    }
   }
  },
  {
   "cell_type": "markdown",
   "source": [
    "#### 7.2.7) Neural Network"
   ],
   "metadata": {
    "collapsed": false,
    "pycharm": {
     "name": "#%% md\n"
    }
   }
  },
  {
   "cell_type": "code",
   "execution_count": 63,
   "outputs": [
    {
     "name": "stderr",
     "output_type": "stream",
     "text": [
      "2022-01-27 14:12:06.022886: I tensorflow/core/platform/cpu_feature_guard.cc:151] This TensorFlow binary is optimized with oneAPI Deep Neural Network Library (oneDNN) to use the following CPU instructions in performance-critical operations:  AVX2 FMA\n",
      "To enable them in other operations, rebuild TensorFlow with the appropriate compiler flags.\n"
     ]
    }
   ],
   "source": [
    "ann_model = Sequential([\n",
    "    Dense(24, input_dim=len(X_train.columns), activation='relu'),\n",
    "    Dropout(0.2),\n",
    "    Dense(16, activation='relu'),\n",
    "    Dropout(0.2),\n",
    "    Dense(1, activation='linear')\n",
    "])\n",
    "\n",
    "\n",
    "# compile model:\n",
    "ann_model.compile(\n",
    "    loss = 'mse',\n",
    "    optimizer = 'adam',\n",
    "    metrics=[RootMeanSquaredError(name='rmse')]\n",
    ")"
   ],
   "metadata": {
    "collapsed": false,
    "pycharm": {
     "name": "#%%\n"
    }
   }
  },
  {
   "cell_type": "code",
   "execution_count": 64,
   "outputs": [
    {
     "name": "stdout",
     "output_type": "stream",
     "text": [
      "Epoch 1/20\n",
      "451/451 [==============================] - 2s 3ms/step - loss: 0.0296 - rmse: 0.1722 - val_loss: 0.0060 - val_rmse: 0.0772\n",
      "Epoch 2/20\n",
      "451/451 [==============================] - 1s 3ms/step - loss: 0.0083 - rmse: 0.0912 - val_loss: 0.0051 - val_rmse: 0.0711\n",
      "Epoch 3/20\n",
      "451/451 [==============================] - 1s 3ms/step - loss: 0.0061 - rmse: 0.0780 - val_loss: 0.0048 - val_rmse: 0.0694\n",
      "Epoch 4/20\n",
      "451/451 [==============================] - 1s 3ms/step - loss: 0.0055 - rmse: 0.0739 - val_loss: 0.0048 - val_rmse: 0.0692\n",
      "Epoch 5/20\n",
      "451/451 [==============================] - 1s 3ms/step - loss: 0.0053 - rmse: 0.0726 - val_loss: 0.0047 - val_rmse: 0.0682\n",
      "Epoch 6/20\n",
      "451/451 [==============================] - 1s 3ms/step - loss: 0.0052 - rmse: 0.0718 - val_loss: 0.0046 - val_rmse: 0.0680\n",
      "Epoch 7/20\n",
      "451/451 [==============================] - 1s 3ms/step - loss: 0.0049 - rmse: 0.0703 - val_loss: 0.0045 - val_rmse: 0.0668\n",
      "Epoch 8/20\n",
      "451/451 [==============================] - 1s 3ms/step - loss: 0.0049 - rmse: 0.0698 - val_loss: 0.0045 - val_rmse: 0.0675\n",
      "Epoch 9/20\n",
      "451/451 [==============================] - 1s 2ms/step - loss: 0.0048 - rmse: 0.0692 - val_loss: 0.0045 - val_rmse: 0.0668\n",
      "Epoch 10/20\n",
      "451/451 [==============================] - 1s 2ms/step - loss: 0.0048 - rmse: 0.0692 - val_loss: 0.0044 - val_rmse: 0.0663\n",
      "Epoch 11/20\n",
      "451/451 [==============================] - 1s 2ms/step - loss: 0.0047 - rmse: 0.0684 - val_loss: 0.0044 - val_rmse: 0.0665\n",
      "Epoch 12/20\n",
      "451/451 [==============================] - 1s 2ms/step - loss: 0.0046 - rmse: 0.0680 - val_loss: 0.0044 - val_rmse: 0.0663\n",
      "Epoch 13/20\n",
      "451/451 [==============================] - 1s 2ms/step - loss: 0.0046 - rmse: 0.0677 - val_loss: 0.0043 - val_rmse: 0.0652\n",
      "Epoch 14/20\n",
      "451/451 [==============================] - 1s 2ms/step - loss: 0.0046 - rmse: 0.0675 - val_loss: 0.0043 - val_rmse: 0.0655\n",
      "Epoch 15/20\n",
      "451/451 [==============================] - 1s 2ms/step - loss: 0.0046 - rmse: 0.0675 - val_loss: 0.0042 - val_rmse: 0.0646\n",
      "Epoch 16/20\n",
      "451/451 [==============================] - 1s 2ms/step - loss: 0.0044 - rmse: 0.0667 - val_loss: 0.0042 - val_rmse: 0.0647\n",
      "Epoch 17/20\n",
      "451/451 [==============================] - 1s 2ms/step - loss: 0.0044 - rmse: 0.0666 - val_loss: 0.0042 - val_rmse: 0.0646\n",
      "Epoch 18/20\n",
      "451/451 [==============================] - 1s 2ms/step - loss: 0.0044 - rmse: 0.0665 - val_loss: 0.0040 - val_rmse: 0.0636\n",
      "Epoch 19/20\n",
      "451/451 [==============================] - 1s 2ms/step - loss: 0.0044 - rmse: 0.0663 - val_loss: 0.0043 - val_rmse: 0.0654\n",
      "Epoch 20/20\n",
      "451/451 [==============================] - 1s 2ms/step - loss: 0.0044 - rmse: 0.0660 - val_loss: 0.0041 - val_rmse: 0.0637\n"
     ]
    }
   ],
   "source": [
    "history = ann_model.fit(X_train,\n",
    "                        y_train,\n",
    "                        epochs=20,\n",
    "                        # class_weight=class_weight,\n",
    "                        validation_data=(X_val, y_val),\n",
    "                        )"
   ],
   "metadata": {
    "collapsed": false,
    "pycharm": {
     "name": "#%%\n"
    }
   }
  },
  {
   "cell_type": "code",
   "execution_count": 65,
   "outputs": [],
   "source": [
    "y_pred_ann = ann_model.predict(X_val)\n",
    "rmse_ann = mean_squared_error(y_val, y_pred_ann, squared=False)"
   ],
   "metadata": {
    "collapsed": false,
    "pycharm": {
     "name": "#%%\n"
    }
   }
  },
  {
   "cell_type": "code",
   "execution_count": 66,
   "outputs": [
    {
     "name": "stdout",
     "output_type": "stream",
     "text": [
      "RMSE of <keras.engine.sequential.Sequential object at 0x170579280> is: 0.06370530779350221. This is an improvement compared to the baseline approach of: 42.71738587379302 %\n"
     ]
    }
   ],
   "source": [
    "print(f'RMSE of {ann_model} is: {rmse_ann}. This is an improvement compared to the baseline approach of: {-(rmse_ann / rmse_baseline -1)*100} %')"
   ],
   "metadata": {
    "collapsed": false,
    "pycharm": {
     "name": "#%%\n"
    }
   }
  },
  {
   "cell_type": "markdown",
   "source": [
    "## 8) Export Best Model:"
   ],
   "metadata": {
    "collapsed": false,
    "pycharm": {
     "name": "#%% md\n"
    }
   }
  },
  {
   "cell_type": "code",
   "execution_count": 67,
   "outputs": [],
   "source": [
    "path = '../../../../Assets/MachineLearningLayer/Models/'\n",
    "best_model = xgb_model\n",
    "\n",
    "# ML Model:\n",
    "filename = 'xgb_model_lukas.pkl'\n",
    "combined_path = path+filename\n",
    "joblib.dump(best_model, open(combined_path, 'wb'))\n",
    "\n",
    "# Standardizer:\n",
    "filename = 'standardizer_model.pkl'\n",
    "combined_path = path+filename\n",
    "joblib.dump(scaler_obj, open(path+filename, 'wb'))"
   ],
   "metadata": {
    "collapsed": false,
    "pycharm": {
     "name": "#%%\n"
    }
   }
  },
  {
   "cell_type": "code",
   "execution_count": null,
   "outputs": [],
   "source": [
    "    "
   ],
   "metadata": {
    "collapsed": false,
    "pycharm": {
     "name": "#%%\n"
    }
   }
  }
 ],
 "metadata": {
  "kernelspec": {
   "display_name": "Python 3",
   "language": "python",
   "name": "python3"
  },
  "language_info": {
   "codemirror_mode": {
    "name": "ipython",
    "version": 2
   },
   "file_extension": ".py",
   "mimetype": "text/x-python",
   "name": "python",
   "nbconvert_exporter": "python",
   "pygments_lexer": "ipython2",
   "version": "2.7.6"
  }
 },
 "nbformat": 4,
 "nbformat_minor": 0
}