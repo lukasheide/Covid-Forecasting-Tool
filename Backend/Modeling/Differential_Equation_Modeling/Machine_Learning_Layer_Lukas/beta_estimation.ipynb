{
 "cells": [
  {
   "cell_type": "markdown",
   "source": [
    "# Machine Learning Layer\n",
    "#### Goal: Estimate the next beta"
   ],
   "metadata": {
    "collapsed": false,
    "pycharm": {
     "name": "#%% md\n"
    }
   }
  },
  {
   "cell_type": "code",
   "execution_count": 55,
   "outputs": [],
   "source": [
    "import pandas as pd\n",
    "import numpy as np\n",
    "import matplotlib.pyplot as plt\n",
    "import tf as tf\n",
    "from plotnine import *\n",
    "\n",
    "from sklearn.preprocessing import StandardScaler, OneHotEncoder\n",
    "from sklearn.metrics import mean_squared_error\n",
    "from sklearn import linear_model\n",
    "from sklearn.model_selection import train_test_split\n",
    "from sklearn.ensemble import RandomForestRegressor\n",
    "from sklearn.svm import SVR\n",
    "import xgboost as xgb\n",
    "\n",
    "from tensorflow import keras\n",
    "import keras.backend as K\n",
    "from keras.models import Sequential\n",
    "from keras.layers import Dense, Dropout\n",
    "from keras.metrics import RootMeanSquaredError\n",
    "\n",
    "import pickle\n",
    "import joblib"
   ],
   "metadata": {
    "collapsed": false,
    "pycharm": {
     "name": "#%%\n"
    }
   }
  },
  {
   "cell_type": "markdown",
   "source": [
    "## 1) Import Data:\n",
    "CSV file can be found in Teams under Model/ML_for_Beta/all_matrix_data.csv"
   ],
   "metadata": {
    "collapsed": false,
    "pycharm": {
     "name": "#%% md\n"
    }
   }
  },
  {
   "cell_type": "code",
   "execution_count": 56,
   "outputs": [],
   "source": [
    "df = pd.read_csv('../../../../Assets/Data/all_matrix_data_v3.csv')\n",
    "df.drop(columns=['Unnamed: 0'], inplace=True)"
   ],
   "metadata": {
    "collapsed": false,
    "pycharm": {
     "name": "#%%\n"
    }
   }
  },
  {
   "cell_type": "code",
   "execution_count": 57,
   "outputs": [
    {
     "data": {
      "text/plain": "       week  policy_index    variant   mobility  temperature       wind  \\\n30935    11     57.440000      Other  -1.857143    15.671429   7.557143   \n30934    10     57.780000      Other  -6.714286    15.714286   8.885714   \n23224     8     64.330000      Other -22.428571    13.014286   8.528571   \n18711     7     69.342857      Other -19.428571    11.814286   7.542857   \n29896     6     65.180000      Other -22.428571    13.314286  12.971429   \n...     ...           ...        ...        ...          ...        ...   \n30377    17     58.804286      Other   9.285714    13.657143  13.928571   \n7963     69     73.210000  B.1.617.2  17.000000    17.714286   7.914286   \n17968    16     63.390000      Other  -6.000000    19.671429        NaN   \n24643    17     58.804286      Other  -4.714286    13.414286        NaN   \n8152     70     73.210000  B.1.617.2   5.000000    19.200000   6.685714   \n\n       infections          beta  beta_t_minus_1 start_date_forecasting  \\\n30935    1.132653  1.820088e-22    2.207629e-01             2020-06-01   \n30934    2.612245  1.519930e-20    4.148546e-01             2020-05-25   \n23224    0.326531  8.864302e-20    2.854948e-02             2020-05-11   \n18711    1.857143  1.457825e-18    4.575471e-01             2020-05-04   \n29896    4.714286  5.088751e-18    5.191965e-01             2020-04-27   \n...           ...           ...             ...                    ...   \n30377    0.744898  3.911611e+00    5.671122e-07             2020-07-13   \n7963     0.663265  4.153034e+00    4.618029e-07             2021-07-12   \n17968    1.959184  4.243599e+00    5.866944e-07             2020-07-06   \n24643    2.030612  4.253974e+00    5.615672e-07             2020-07-13   \n8152     1.030612  4.304155e+00    4.565610e-07             2021-07-19   \n\n                         district  \n30935            Rhein-Sieg-Kreis  \n30934            Rhein-Sieg-Kreis  \n23224              Ansbach, Stadt  \n18711                   Oberhavel  \n29896                       Essen  \n...                           ...  \n30377  Schwerin, Landeshauptstadt  \n7963                        Regen  \n17968           Main-Tauber-Kreis  \n24643                  Hof, Kreis  \n8152                Coburg, Kreis  \n\n[37600 rows x 11 columns]",
      "text/html": "<div>\n<style scoped>\n    .dataframe tbody tr th:only-of-type {\n        vertical-align: middle;\n    }\n\n    .dataframe tbody tr th {\n        vertical-align: top;\n    }\n\n    .dataframe thead th {\n        text-align: right;\n    }\n</style>\n<table border=\"1\" class=\"dataframe\">\n  <thead>\n    <tr style=\"text-align: right;\">\n      <th></th>\n      <th>week</th>\n      <th>policy_index</th>\n      <th>variant</th>\n      <th>mobility</th>\n      <th>temperature</th>\n      <th>wind</th>\n      <th>infections</th>\n      <th>beta</th>\n      <th>beta_t_minus_1</th>\n      <th>start_date_forecasting</th>\n      <th>district</th>\n    </tr>\n  </thead>\n  <tbody>\n    <tr>\n      <th>30935</th>\n      <td>11</td>\n      <td>57.440000</td>\n      <td>Other</td>\n      <td>-1.857143</td>\n      <td>15.671429</td>\n      <td>7.557143</td>\n      <td>1.132653</td>\n      <td>1.820088e-22</td>\n      <td>2.207629e-01</td>\n      <td>2020-06-01</td>\n      <td>Rhein-Sieg-Kreis</td>\n    </tr>\n    <tr>\n      <th>30934</th>\n      <td>10</td>\n      <td>57.780000</td>\n      <td>Other</td>\n      <td>-6.714286</td>\n      <td>15.714286</td>\n      <td>8.885714</td>\n      <td>2.612245</td>\n      <td>1.519930e-20</td>\n      <td>4.148546e-01</td>\n      <td>2020-05-25</td>\n      <td>Rhein-Sieg-Kreis</td>\n    </tr>\n    <tr>\n      <th>23224</th>\n      <td>8</td>\n      <td>64.330000</td>\n      <td>Other</td>\n      <td>-22.428571</td>\n      <td>13.014286</td>\n      <td>8.528571</td>\n      <td>0.326531</td>\n      <td>8.864302e-20</td>\n      <td>2.854948e-02</td>\n      <td>2020-05-11</td>\n      <td>Ansbach, Stadt</td>\n    </tr>\n    <tr>\n      <th>18711</th>\n      <td>7</td>\n      <td>69.342857</td>\n      <td>Other</td>\n      <td>-19.428571</td>\n      <td>11.814286</td>\n      <td>7.542857</td>\n      <td>1.857143</td>\n      <td>1.457825e-18</td>\n      <td>4.575471e-01</td>\n      <td>2020-05-04</td>\n      <td>Oberhavel</td>\n    </tr>\n    <tr>\n      <th>29896</th>\n      <td>6</td>\n      <td>65.180000</td>\n      <td>Other</td>\n      <td>-22.428571</td>\n      <td>13.314286</td>\n      <td>12.971429</td>\n      <td>4.714286</td>\n      <td>5.088751e-18</td>\n      <td>5.191965e-01</td>\n      <td>2020-04-27</td>\n      <td>Essen</td>\n    </tr>\n    <tr>\n      <th>...</th>\n      <td>...</td>\n      <td>...</td>\n      <td>...</td>\n      <td>...</td>\n      <td>...</td>\n      <td>...</td>\n      <td>...</td>\n      <td>...</td>\n      <td>...</td>\n      <td>...</td>\n      <td>...</td>\n    </tr>\n    <tr>\n      <th>30377</th>\n      <td>17</td>\n      <td>58.804286</td>\n      <td>Other</td>\n      <td>9.285714</td>\n      <td>13.657143</td>\n      <td>13.928571</td>\n      <td>0.744898</td>\n      <td>3.911611e+00</td>\n      <td>5.671122e-07</td>\n      <td>2020-07-13</td>\n      <td>Schwerin, Landeshauptstadt</td>\n    </tr>\n    <tr>\n      <th>7963</th>\n      <td>69</td>\n      <td>73.210000</td>\n      <td>B.1.617.2</td>\n      <td>17.000000</td>\n      <td>17.714286</td>\n      <td>7.914286</td>\n      <td>0.663265</td>\n      <td>4.153034e+00</td>\n      <td>4.618029e-07</td>\n      <td>2021-07-12</td>\n      <td>Regen</td>\n    </tr>\n    <tr>\n      <th>17968</th>\n      <td>16</td>\n      <td>63.390000</td>\n      <td>Other</td>\n      <td>-6.000000</td>\n      <td>19.671429</td>\n      <td>NaN</td>\n      <td>1.959184</td>\n      <td>4.243599e+00</td>\n      <td>5.866944e-07</td>\n      <td>2020-07-06</td>\n      <td>Main-Tauber-Kreis</td>\n    </tr>\n    <tr>\n      <th>24643</th>\n      <td>17</td>\n      <td>58.804286</td>\n      <td>Other</td>\n      <td>-4.714286</td>\n      <td>13.414286</td>\n      <td>NaN</td>\n      <td>2.030612</td>\n      <td>4.253974e+00</td>\n      <td>5.615672e-07</td>\n      <td>2020-07-13</td>\n      <td>Hof, Kreis</td>\n    </tr>\n    <tr>\n      <th>8152</th>\n      <td>70</td>\n      <td>73.210000</td>\n      <td>B.1.617.2</td>\n      <td>5.000000</td>\n      <td>19.200000</td>\n      <td>6.685714</td>\n      <td>1.030612</td>\n      <td>4.304155e+00</td>\n      <td>4.565610e-07</td>\n      <td>2021-07-19</td>\n      <td>Coburg, Kreis</td>\n    </tr>\n  </tbody>\n</table>\n<p>37600 rows × 11 columns</p>\n</div>"
     },
     "execution_count": 57,
     "metadata": {},
     "output_type": "execute_result"
    }
   ],
   "source": [
    "df.sort_values('beta')"
   ],
   "metadata": {
    "collapsed": false,
    "pycharm": {
     "name": "#%%\n"
    }
   }
  },
  {
   "cell_type": "markdown",
   "source": [
    "## 2) Visualize Data:\n",
    "#### 2.1) Average Infections (training period):"
   ],
   "metadata": {
    "collapsed": false,
    "pycharm": {
     "name": "#%% md\n"
    }
   }
  },
  {
   "cell_type": "code",
   "execution_count": 64,
   "outputs": [
    {
     "data": {
      "text/plain": "<Figure size 640x480 with 1 Axes>",
      "image/png": "[encoded data removed]"
     },
     "metadata": {},
     "output_type": "display_data"
    },
    {
     "data": {
      "text/plain": "<ggplot: (387675977)>"
     },
     "execution_count": 64,
     "metadata": {},
     "output_type": "execute_result"
    }
   ],
   "source": [
    "ggplot(df, aes(x='infections')) + geom_histogram(binwidth=5) + coord_cartesian(xlim=(0,300),ylim=(0,10000))"
   ],
   "metadata": {
    "collapsed": false,
    "pycharm": {
     "name": "#%%\n"
    }
   }
  },
  {
   "cell_type": "markdown",
   "source": [
    "#### 2.2) Fitted beta:"
   ],
   "metadata": {
    "collapsed": false,
    "pycharm": {
     "name": "#%% md\n"
    }
   },
   "execution_count": 50
  },
  {
   "cell_type": "code",
   "execution_count": 59,
   "outputs": [
    {
     "data": {
      "text/plain": "<Figure size 640x480 with 1 Axes>",
      "image/png": "[encoded data removed]"
     },
     "metadata": {},
     "output_type": "display_data"
    },
    {
     "data": {
      "text/plain": "<ggplot: (383984436)>"
     },
     "execution_count": 59,
     "metadata": {},
     "output_type": "execute_result"
    }
   ],
   "source": [
    "ggplot(df, aes(x='beta')) + geom_histogram(binwidth=0.025) + coord_cartesian(xlim=(0,2),ylim=(0,5000))"
   ],
   "metadata": {
    "collapsed": false,
    "pycharm": {
     "name": "#%%\n"
    }
   }
  },
  {
   "cell_type": "markdown",
   "source": [
    "#### 2.3) Average infections Münster"
   ],
   "metadata": {
    "collapsed": false,
    "pycharm": {
     "name": "#%% md\n"
    }
   }
  },
  {
   "cell_type": "code",
   "execution_count": 60,
   "outputs": [
    {
     "data": {
      "text/plain": "<Figure size 640x480 with 1 Axes>",
      "image/png": "[encoded data removed]"
     },
     "metadata": {},
     "output_type": "display_data"
    },
    {
     "data": {
      "text/plain": "<ggplot: (386994195)>"
     },
     "execution_count": 60,
     "metadata": {},
     "output_type": "execute_result"
    }
   ],
   "source": [
    "district = 'Münster'\n",
    "df_v2_3 = df[df['district']==district][['week','district','infections','beta']]\n",
    "\n",
    "# Devide both columns by their mean so that they fit in one plot:\n",
    "df_v2_3['infections'] = df_v2_3['infections']/df_v2_3['infections'].mean()\n",
    "df_v2_3['beta'] = df_v2_3['beta']/df_v2_3['beta'].mean()\n",
    "\n",
    "ggplot(df_v2_3) \\\n",
    "+ geom_line(aes(x='week', y='beta'), color='yellow')\\\n",
    "+ geom_line(aes(x='week', y='infections'), color='green', size=2)"
   ],
   "metadata": {
    "collapsed": false,
    "pycharm": {
     "name": "#%%\n"
    }
   }
  },
  {
   "cell_type": "markdown",
   "source": [
    "#### 2.4) Policy index vs infections: (Germany)"
   ],
   "metadata": {
    "collapsed": false,
    "pycharm": {
     "name": "#%% md\n"
    }
   }
  },
  {
   "cell_type": "code",
   "execution_count": 61,
   "outputs": [
    {
     "data": {
      "text/plain": "<Figure size 640x480 with 1 Axes>",
      "image/png": "[encoded data removed]"
     },
     "metadata": {},
     "output_type": "display_data"
    },
    {
     "data": {
      "text/plain": "<ggplot: (384392226)>"
     },
     "execution_count": 61,
     "metadata": {},
     "output_type": "execute_result"
    }
   ],
   "source": [
    "df_v2_4 = df.groupby('week').sum()\n",
    "\n",
    "# Devide both columns by their max so that they fit in one plot:\n",
    "df_v2_4['infections'] = df_v2_4['infections']/df_v2_4['infections'].max()\n",
    "df_v2_4['policy_index'] = df_v2_4['policy_index']/df_v2_4['policy_index'].max()\n",
    "\n",
    "ggplot(df_v2_4.reset_index())\\\n",
    "+ geom_line(aes(x='week', y='policy_index'), color='yellow')\\\n",
    "+ geom_line(aes(x='week', y='infections'), color='green', size=2)"
   ],
   "metadata": {
    "collapsed": false,
    "pycharm": {
     "name": "#%%\n"
    }
   }
  },
  {
   "cell_type": "markdown",
   "source": [
    "## 3) Feature Engineering:\n",
    "#### Lagged beta: (NO LONGER NECESSARY!)"
   ],
   "metadata": {
    "collapsed": false,
    "pycharm": {
     "name": "#%% md\n"
    }
   }
  },
  {
   "cell_type": "code",
   "execution_count": 62,
   "outputs": [],
   "source": [
    "# Sort values by district and week before lagging:\n",
    "df.sort_values(['district','week'], inplace=True)"
   ],
   "metadata": {
    "collapsed": false,
    "pycharm": {
     "name": "#%%\n"
    }
   }
  },
  {
   "cell_type": "code",
   "execution_count": 63,
   "outputs": [
    {
     "data": {
      "text/plain": "-0.05740198589413011"
     },
     "execution_count": 63,
     "metadata": {},
     "output_type": "execute_result"
    }
   ],
   "source": [
    "# Check out correlation between current and previous weeks beta:\n",
    "df['beta'].corr(df['beta_t_minus_1'] )"
   ],
   "metadata": {
    "collapsed": false,
    "pycharm": {
     "name": "#%%\n"
    }
   }
  },
  {
   "cell_type": "markdown",
   "source": [
    "## 4) Data cleaning:\n",
    "#### Identify missing values:"
   ],
   "metadata": {
    "collapsed": false,
    "pycharm": {
     "name": "#%% md\n"
    }
   },
   "outputs": [
    {
     "data": {
      "text/plain": "week                  0\npolicy_index          0\nvariant               0\nmobility              0\ntemperature         243\nwind               3827\ninfections            0\nbeta                  0\ndistrict              0\nbeta_lag_1_week       0\nbeta_lag_2_week       0\nbeta_lag_3_week       0\ndtype: int64"
     },
     "execution_count": 77,
     "metadata": {},
     "output_type": "execute_result"
    }
   ],
   "execution_count": 77
  },
  {
   "cell_type": "code",
   "execution_count": 10,
   "outputs": [
    {
     "data": {
      "text/plain": "week                        0\npolicy_index                0\nvariant                     0\nmobility                    0\ntemperature                11\nwind                      142\ninfections                  0\nbeta                        0\nbeta_t_minus_1              0\nstart_date_forecasting      0\ndistrict                    0\ndtype: int64"
     },
     "execution_count": 10,
     "metadata": {},
     "output_type": "execute_result"
    }
   ],
   "source": [
    "df.isnull().sum()"
   ],
   "metadata": {
    "collapsed": false,
    "pycharm": {
     "name": "#%%\n"
    }
   }
  },
  {
   "cell_type": "markdown",
   "source": [
    "#### Fill missing values with previous column:\n",
    "Forward fill: Fill down (-> if missing value in week 50 use value of week 49)"
   ],
   "metadata": {
    "collapsed": false,
    "pycharm": {
     "name": "#%% md\n"
    }
   }
  },
  {
   "cell_type": "code",
   "execution_count": 11,
   "outputs": [],
   "source": [
    "df_v4 = df.copy()"
   ],
   "metadata": {
    "collapsed": false,
    "pycharm": {
     "name": "#%%\n"
    }
   }
  },
  {
   "cell_type": "code",
   "execution_count": 12,
   "outputs": [
    {
     "name": "stderr",
     "output_type": "stream",
     "text": [
      "/var/folders/f9/_57rk_kx5jqbkd8vvnwckf2c0000gn/T/ipykernel_4319/1409488165.py:1: FutureWarning: Dropping invalid columns in DataFrameGroupBy.transform is deprecated. In a future version, a TypeError will be raised. Before calling .transform, select only columns which should be valid for the transforming function.\n",
      "/var/folders/f9/_57rk_kx5jqbkd8vvnwckf2c0000gn/T/ipykernel_4319/1409488165.py:2: FutureWarning: Dropping invalid columns in DataFrameGroupBy.transform is deprecated. In a future version, a TypeError will be raised. Before calling .transform, select only columns which should be valid for the transforming function.\n"
     ]
    }
   ],
   "source": [
    "df_v4['temperature'] = df.groupby(\"week\").transform(lambda x: x.fillna(x.mean()))['temperature']\n",
    "df_v4['wind'] = df.groupby(\"week\").transform(lambda x: x.fillna(x.mean()))['wind']"
   ],
   "metadata": {
    "collapsed": false,
    "pycharm": {
     "name": "#%%\n"
    }
   }
  },
  {
   "cell_type": "code",
   "execution_count": 13,
   "outputs": [
    {
     "data": {
      "text/plain": "      week  policy_index  variant   mobility  temperature       wind  \\\n9618     2         71.55    Other -11.857143     7.671429  11.512403   \n9619     3         71.55    Other -13.000000    10.642857  11.814286   \n9620     4         71.55    Other -25.857143     4.257143  14.671429   \n9621     5         71.55    Other -16.285714     4.557143   9.700000   \n9622     6         71.55    Other -10.285714     7.900000  11.242857   \n...    ...           ...      ...        ...          ...        ...   \n1213    39         83.93    Other  -2.571429     0.428571   8.528571   \n1214    40         83.93    Other  -1.000000     4.842857  10.485714   \n1215    41         83.93  B.1.1.7  -4.285714    -1.200000  10.700000   \n1216    42         83.93    Other -15.714286     7.871429  16.885714   \n1217    43         83.93    Other  -1.571429     2.714286  16.814286   \n\n      infections      beta  beta_t_minus_1 start_date_forecasting district  \n9618   93.663265  0.349003        0.331900             2021-03-30   Aachen  \n9619  106.346939  0.360983        0.346730             2021-04-06   Aachen  \n9620  128.040816  0.375566        0.363328             2021-04-13   Aachen  \n9621  134.081633  0.340415        0.366001             2021-04-20   Aachen  \n9622  116.173469  0.281417        0.366969             2021-04-27   Aachen  \n...          ...       ...             ...                    ...      ...  \n1213  288.051020  0.314815        0.356433             2021-12-14  Zwickau  \n1214  190.163265  0.289680        0.344801             2021-12-21  Zwickau  \n1215  138.704082  0.341600        0.278017             2021-12-28  Zwickau  \n1216  102.959184  0.326322        0.342802             2022-01-04  Zwickau  \n1217  100.704082  0.421245        0.342315             2022-01-11  Zwickau  \n\n[16800 rows x 11 columns]",
      "text/html": "<div>\n<style scoped>\n    .dataframe tbody tr th:only-of-type {\n        vertical-align: middle;\n    }\n\n    .dataframe tbody tr th {\n        vertical-align: top;\n    }\n\n    .dataframe thead th {\n        text-align: right;\n    }\n</style>\n<table border=\"1\" class=\"dataframe\">\n  <thead>\n    <tr style=\"text-align: right;\">\n      <th></th>\n      <th>week</th>\n      <th>policy_index</th>\n      <th>variant</th>\n      <th>mobility</th>\n      <th>temperature</th>\n      <th>wind</th>\n      <th>infections</th>\n      <th>beta</th>\n      <th>beta_t_minus_1</th>\n      <th>start_date_forecasting</th>\n      <th>district</th>\n    </tr>\n  </thead>\n  <tbody>\n    <tr>\n      <th>9618</th>\n      <td>2</td>\n      <td>71.55</td>\n      <td>Other</td>\n      <td>-11.857143</td>\n      <td>7.671429</td>\n      <td>11.512403</td>\n      <td>93.663265</td>\n      <td>0.349003</td>\n      <td>0.331900</td>\n      <td>2021-03-30</td>\n      <td>Aachen</td>\n    </tr>\n    <tr>\n      <th>9619</th>\n      <td>3</td>\n      <td>71.55</td>\n      <td>Other</td>\n      <td>-13.000000</td>\n      <td>10.642857</td>\n      <td>11.814286</td>\n      <td>106.346939</td>\n      <td>0.360983</td>\n      <td>0.346730</td>\n      <td>2021-04-06</td>\n      <td>Aachen</td>\n    </tr>\n    <tr>\n      <th>9620</th>\n      <td>4</td>\n      <td>71.55</td>\n      <td>Other</td>\n      <td>-25.857143</td>\n      <td>4.257143</td>\n      <td>14.671429</td>\n      <td>128.040816</td>\n      <td>0.375566</td>\n      <td>0.363328</td>\n      <td>2021-04-13</td>\n      <td>Aachen</td>\n    </tr>\n    <tr>\n      <th>9621</th>\n      <td>5</td>\n      <td>71.55</td>\n      <td>Other</td>\n      <td>-16.285714</td>\n      <td>4.557143</td>\n      <td>9.700000</td>\n      <td>134.081633</td>\n      <td>0.340415</td>\n      <td>0.366001</td>\n      <td>2021-04-20</td>\n      <td>Aachen</td>\n    </tr>\n    <tr>\n      <th>9622</th>\n      <td>6</td>\n      <td>71.55</td>\n      <td>Other</td>\n      <td>-10.285714</td>\n      <td>7.900000</td>\n      <td>11.242857</td>\n      <td>116.173469</td>\n      <td>0.281417</td>\n      <td>0.366969</td>\n      <td>2021-04-27</td>\n      <td>Aachen</td>\n    </tr>\n    <tr>\n      <th>...</th>\n      <td>...</td>\n      <td>...</td>\n      <td>...</td>\n      <td>...</td>\n      <td>...</td>\n      <td>...</td>\n      <td>...</td>\n      <td>...</td>\n      <td>...</td>\n      <td>...</td>\n      <td>...</td>\n    </tr>\n    <tr>\n      <th>1213</th>\n      <td>39</td>\n      <td>83.93</td>\n      <td>Other</td>\n      <td>-2.571429</td>\n      <td>0.428571</td>\n      <td>8.528571</td>\n      <td>288.051020</td>\n      <td>0.314815</td>\n      <td>0.356433</td>\n      <td>2021-12-14</td>\n      <td>Zwickau</td>\n    </tr>\n    <tr>\n      <th>1214</th>\n      <td>40</td>\n      <td>83.93</td>\n      <td>Other</td>\n      <td>-1.000000</td>\n      <td>4.842857</td>\n      <td>10.485714</td>\n      <td>190.163265</td>\n      <td>0.289680</td>\n      <td>0.344801</td>\n      <td>2021-12-21</td>\n      <td>Zwickau</td>\n    </tr>\n    <tr>\n      <th>1215</th>\n      <td>41</td>\n      <td>83.93</td>\n      <td>B.1.1.7</td>\n      <td>-4.285714</td>\n      <td>-1.200000</td>\n      <td>10.700000</td>\n      <td>138.704082</td>\n      <td>0.341600</td>\n      <td>0.278017</td>\n      <td>2021-12-28</td>\n      <td>Zwickau</td>\n    </tr>\n    <tr>\n      <th>1216</th>\n      <td>42</td>\n      <td>83.93</td>\n      <td>Other</td>\n      <td>-15.714286</td>\n      <td>7.871429</td>\n      <td>16.885714</td>\n      <td>102.959184</td>\n      <td>0.326322</td>\n      <td>0.342802</td>\n      <td>2022-01-04</td>\n      <td>Zwickau</td>\n    </tr>\n    <tr>\n      <th>1217</th>\n      <td>43</td>\n      <td>83.93</td>\n      <td>Other</td>\n      <td>-1.571429</td>\n      <td>2.714286</td>\n      <td>16.814286</td>\n      <td>100.704082</td>\n      <td>0.421245</td>\n      <td>0.342315</td>\n      <td>2022-01-11</td>\n      <td>Zwickau</td>\n    </tr>\n  </tbody>\n</table>\n<p>16800 rows × 11 columns</p>\n</div>"
     },
     "execution_count": 13,
     "metadata": {},
     "output_type": "execute_result"
    }
   ],
   "source": [
    "df_v4"
   ],
   "metadata": {
    "collapsed": false,
    "pycharm": {
     "name": "#%%\n"
    }
   }
  },
  {
   "cell_type": "markdown",
   "source": [
    "## 5) Outlier removal:\n"
   ],
   "metadata": {
    "collapsed": false
   }
  },
  {
   "cell_type": "code",
   "execution_count": 14,
   "outputs": [],
   "source": [
    "# Identify outliers:"
   ],
   "metadata": {
    "collapsed": false,
    "pycharm": {
     "name": "#%%\n"
    }
   }
  },
  {
   "cell_type": "code",
   "execution_count": 15,
   "outputs": [
    {
     "data": {
      "text/plain": "       week  policy_index  variant   mobility  temperature       wind  \\\n6381     41     83.930000  B.1.1.7 -12.714286     2.557143   7.571429   \n8733     41     83.930000  B.1.1.7  -8.571429     0.857143   6.771429   \n1593     41     83.930000  B.1.1.7  -6.571429    -1.671429  11.300000   \n9627     11     75.120000    Other -10.000000    11.742857  15.800000   \n15536    40     83.930000    Other  14.142857     0.685714   5.200000   \n...     ...           ...      ...        ...          ...        ...   \n2938     42     83.930000    Other -10.142857     5.471429  19.714286   \n2260     36     61.780000    Other  19.857143     3.814286  14.957143   \n10659    35     58.890000    Other  -9.571429     8.185714  11.014286   \n15035    43     83.930000    Other   1.000000     3.157143  11.157143   \n9192     38     81.761429    Other   4.000000     2.657143  15.685714   \n\n       infections      beta  beta_t_minus_1 start_date_forecasting  \\\n6381   235.897959  0.285985        0.147739             2021-12-28   \n8733    22.520408  0.284046        0.159157             2021-12-28   \n1593    23.000000  0.725966        0.167172             2021-12-28   \n9627    20.367347  0.217665        0.172679             2021-06-01   \n15536   20.438776  0.304839        0.173311             2021-12-21   \n...           ...       ...             ...                    ...   \n2938   225.867347  0.405923        0.812429             2022-01-04   \n2260   285.744898  0.437373        0.820917             2021-11-23   \n10659   24.255102  0.455292        0.830586             2021-11-16   \n15035  314.346939  0.392601        0.842865             2022-01-11   \n9192   297.683673  0.394869        0.885379             2021-12-07   \n\n                    district  \n6381               Stuttgart  \n8733        Rosenheim, Stadt  \n1593           Wilhelmshaven  \n9627                  Aachen  \n15536        Straubing-Bogen  \n...                      ...  \n2938   Rendsburg-Eckernförde  \n2260                    Harz  \n10659      Neumünster, Stadt  \n15035     Lübeck, Hansestadt  \n9192                   Börde  \n\n[8146 rows x 11 columns]",
      "text/html": "<div>\n<style scoped>\n    .dataframe tbody tr th:only-of-type {\n        vertical-align: middle;\n    }\n\n    .dataframe tbody tr th {\n        vertical-align: top;\n    }\n\n    .dataframe thead th {\n        text-align: right;\n    }\n</style>\n<table border=\"1\" class=\"dataframe\">\n  <thead>\n    <tr style=\"text-align: right;\">\n      <th></th>\n      <th>week</th>\n      <th>policy_index</th>\n      <th>variant</th>\n      <th>mobility</th>\n      <th>temperature</th>\n      <th>wind</th>\n      <th>infections</th>\n      <th>beta</th>\n      <th>beta_t_minus_1</th>\n      <th>start_date_forecasting</th>\n      <th>district</th>\n    </tr>\n  </thead>\n  <tbody>\n    <tr>\n      <th>6381</th>\n      <td>41</td>\n      <td>83.930000</td>\n      <td>B.1.1.7</td>\n      <td>-12.714286</td>\n      <td>2.557143</td>\n      <td>7.571429</td>\n      <td>235.897959</td>\n      <td>0.285985</td>\n      <td>0.147739</td>\n      <td>2021-12-28</td>\n      <td>Stuttgart</td>\n    </tr>\n    <tr>\n      <th>8733</th>\n      <td>41</td>\n      <td>83.930000</td>\n      <td>B.1.1.7</td>\n      <td>-8.571429</td>\n      <td>0.857143</td>\n      <td>6.771429</td>\n      <td>22.520408</td>\n      <td>0.284046</td>\n      <td>0.159157</td>\n      <td>2021-12-28</td>\n      <td>Rosenheim, Stadt</td>\n    </tr>\n    <tr>\n      <th>1593</th>\n      <td>41</td>\n      <td>83.930000</td>\n      <td>B.1.1.7</td>\n      <td>-6.571429</td>\n      <td>-1.671429</td>\n      <td>11.300000</td>\n      <td>23.000000</td>\n      <td>0.725966</td>\n      <td>0.167172</td>\n      <td>2021-12-28</td>\n      <td>Wilhelmshaven</td>\n    </tr>\n    <tr>\n      <th>9627</th>\n      <td>11</td>\n      <td>75.120000</td>\n      <td>Other</td>\n      <td>-10.000000</td>\n      <td>11.742857</td>\n      <td>15.800000</td>\n      <td>20.367347</td>\n      <td>0.217665</td>\n      <td>0.172679</td>\n      <td>2021-06-01</td>\n      <td>Aachen</td>\n    </tr>\n    <tr>\n      <th>15536</th>\n      <td>40</td>\n      <td>83.930000</td>\n      <td>Other</td>\n      <td>14.142857</td>\n      <td>0.685714</td>\n      <td>5.200000</td>\n      <td>20.438776</td>\n      <td>0.304839</td>\n      <td>0.173311</td>\n      <td>2021-12-21</td>\n      <td>Straubing-Bogen</td>\n    </tr>\n    <tr>\n      <th>...</th>\n      <td>...</td>\n      <td>...</td>\n      <td>...</td>\n      <td>...</td>\n      <td>...</td>\n      <td>...</td>\n      <td>...</td>\n      <td>...</td>\n      <td>...</td>\n      <td>...</td>\n      <td>...</td>\n    </tr>\n    <tr>\n      <th>2938</th>\n      <td>42</td>\n      <td>83.930000</td>\n      <td>Other</td>\n      <td>-10.142857</td>\n      <td>5.471429</td>\n      <td>19.714286</td>\n      <td>225.867347</td>\n      <td>0.405923</td>\n      <td>0.812429</td>\n      <td>2022-01-04</td>\n      <td>Rendsburg-Eckernförde</td>\n    </tr>\n    <tr>\n      <th>2260</th>\n      <td>36</td>\n      <td>61.780000</td>\n      <td>Other</td>\n      <td>19.857143</td>\n      <td>3.814286</td>\n      <td>14.957143</td>\n      <td>285.744898</td>\n      <td>0.437373</td>\n      <td>0.820917</td>\n      <td>2021-11-23</td>\n      <td>Harz</td>\n    </tr>\n    <tr>\n      <th>10659</th>\n      <td>35</td>\n      <td>58.890000</td>\n      <td>Other</td>\n      <td>-9.571429</td>\n      <td>8.185714</td>\n      <td>11.014286</td>\n      <td>24.255102</td>\n      <td>0.455292</td>\n      <td>0.830586</td>\n      <td>2021-11-16</td>\n      <td>Neumünster, Stadt</td>\n    </tr>\n    <tr>\n      <th>15035</th>\n      <td>43</td>\n      <td>83.930000</td>\n      <td>Other</td>\n      <td>1.000000</td>\n      <td>3.157143</td>\n      <td>11.157143</td>\n      <td>314.346939</td>\n      <td>0.392601</td>\n      <td>0.842865</td>\n      <td>2022-01-11</td>\n      <td>Lübeck, Hansestadt</td>\n    </tr>\n    <tr>\n      <th>9192</th>\n      <td>38</td>\n      <td>81.761429</td>\n      <td>Other</td>\n      <td>4.000000</td>\n      <td>2.657143</td>\n      <td>15.685714</td>\n      <td>297.683673</td>\n      <td>0.394869</td>\n      <td>0.885379</td>\n      <td>2021-12-07</td>\n      <td>Börde</td>\n    </tr>\n  </tbody>\n</table>\n<p>8146 rows × 11 columns</p>\n</div>"
     },
     "execution_count": 15,
     "metadata": {},
     "output_type": "execute_result"
    }
   ],
   "source": [
    "df_v4[df_v4['infections'] > 20].sort_values('beta_t_minus_1', ascending=True)"
   ],
   "metadata": {
    "collapsed": false,
    "pycharm": {
     "name": "#%%\n"
    }
   }
  },
  {
   "cell_type": "markdown",
   "source": [
    "#### 5.1) Infection counts:\n",
    "Remove weeks in which the average number of daily infections where below a threshold as for extremely low values it is really hard to forecast beta:"
   ],
   "metadata": {
    "collapsed": false,
    "pycharm": {
     "name": "#%% md\n"
    }
   }
  },
  {
   "cell_type": "code",
   "execution_count": 68,
   "outputs": [],
   "source": [
    "# Drop all rows in which average number of infections is below 5:\n",
    "threshold = 20\n",
    "df_v5_1 = df_v4[df_v4['infections'] > threshold]"
   ],
   "metadata": {
    "collapsed": false,
    "pycharm": {
     "name": "#%%\n"
    }
   }
  },
  {
   "cell_type": "markdown",
   "source": [
    "#### 5.2) Beta values:"
   ],
   "metadata": {
    "collapsed": false
   }
  },
  {
   "cell_type": "code",
   "execution_count": 69,
   "outputs": [],
   "source": [
    "# Drop all rows in which the beta value is < 0.025:\n",
    "threshold = 0.025\n",
    "df_v5_2 = df_v5_1[df_v5_1['beta'] > threshold]"
   ],
   "metadata": {
    "collapsed": false,
    "pycharm": {
     "name": "#%%\n"
    }
   }
  },
  {
   "cell_type": "code",
   "execution_count": 70,
   "outputs": [
    {
     "data": {
      "text/plain": "0.47702376630604376"
     },
     "execution_count": 70,
     "metadata": {},
     "output_type": "execute_result"
    }
   ],
   "source": [
    "# correlation:\n",
    "df_v5_2['beta'].corr(df_v5_2['beta_t_minus_1'] )"
   ],
   "metadata": {
    "collapsed": false,
    "pycharm": {
     "name": "#%%\n"
    }
   }
  },
  {
   "cell_type": "markdown",
   "source": [
    "## 6) Preprocessing columns:\n"
   ],
   "metadata": {
    "collapsed": false,
    "pycharm": {
     "name": "#%% md\n"
    }
   }
  },
  {
   "cell_type": "markdown",
   "source": [
    "#### 6.1) Handling categorical columns:"
   ],
   "metadata": {
    "collapsed": false,
    "pycharm": {
     "name": "#%% md\n"
    }
   }
  },
  {
   "cell_type": "code",
   "execution_count": 18,
   "outputs": [],
   "source": [
    "# Only use week and district as index columns:\n",
    "df_v6_1 = df_v5_2.set_index(['week','district','start_date_forecasting'])"
   ],
   "metadata": {
    "collapsed": false,
    "pycharm": {
     "name": "#%%\n"
    }
   }
  },
  {
   "cell_type": "code",
   "execution_count": 19,
   "outputs": [],
   "source": [
    "# One hot-encode variant columns:\n",
    "df_v6_2_a = pd.get_dummies(df_v6_1['variant'])\n",
    "df_v6_2_b = df_v6_1.drop(columns='variant', axis=1)\n",
    "\n",
    "df_v6_2_c = pd.concat([df_v6_2_a,df_v6_2_b], axis=1)"
   ],
   "metadata": {
    "collapsed": false,
    "pycharm": {
     "name": "#%%\n"
    }
   }
  },
  {
   "cell_type": "code",
   "execution_count": 20,
   "outputs": [],
   "source": [
    "# Drop \"other\" variant column to prevent dummy variable trap:\n",
    "df_v6_2_d = df_v6_2_c.drop(columns='Other', axis=1)"
   ],
   "metadata": {
    "collapsed": false,
    "pycharm": {
     "name": "#%%\n"
    }
   }
  },
  {
   "cell_type": "markdown",
   "source": [
    "#### 6.2) Standardizing:"
   ],
   "metadata": {
    "collapsed": false,
    "pycharm": {
     "name": "#%% md\n"
    }
   }
  },
  {
   "cell_type": "code",
   "source": [
    "# Standardize:\n",
    "scaler_obj = StandardScaler()\n",
    "\n",
    "# Split explanatory columns from beta:\n",
    "explanatory_cols = df_v6_2_d.drop(columns=['beta'], axis=1)\n",
    "beta_cols = df_v6_2_d[['beta']]\n",
    "\n",
    "# Apply scaling:\n",
    "scaled_explanatory_cols = pd.DataFrame(scaler_obj.fit_transform(explanatory_cols), index=explanatory_cols.index, columns=explanatory_cols.columns)\n",
    "\n",
    "# Merge both together again:\n",
    "df_v6_3 = pd.concat([scaled_explanatory_cols, beta_cols], axis=1)"
   ],
   "metadata": {
    "collapsed": false,
    "pycharm": {
     "name": "#%%\n"
    }
   },
   "execution_count": 21,
   "outputs": []
  },
  {
   "cell_type": "markdown",
   "source": [
    "## 7) Modeling\n",
    "### 7.1) Preparation\n",
    "#### 7.1.1) Split into train/val:"
   ],
   "metadata": {
    "collapsed": false,
    "pycharm": {
     "name": "#%% md\n"
    }
   }
  },
  {
   "cell_type": "code",
   "source": [
    "df_full = df_v6_3\n",
    "df_full"
   ],
   "metadata": {
    "collapsed": false,
    "pycharm": {
     "name": "#%%\n"
    }
   },
   "execution_count": 22,
   "outputs": [
    {
     "data": {
      "text/plain": "                                       B.1.1.7  policy_index  mobility  \\\nweek district start_date_forecasting                                     \n2    Aachen   2021-03-30             -0.195391      0.159649 -0.889214   \n3    Aachen   2021-04-06             -0.195391      0.159649 -0.972320   \n4    Aachen   2021-04-13             -0.195391      0.159649 -1.907262   \n5    Aachen   2021-04-20             -0.195391      0.159649 -1.211250   \n6    Aachen   2021-04-27             -0.195391      0.159649 -0.774943   \n...                                        ...           ...       ...   \n39   Zwickau  2021-12-14             -0.195391      1.526795 -0.213978   \n40   Zwickau  2021-12-21             -0.195391      1.526795 -0.099707   \n41   Zwickau  2021-12-28              5.117955      1.526795 -0.338637   \n42   Zwickau  2022-01-04             -0.195391      1.526795 -1.169697   \n43   Zwickau  2022-01-11             -0.195391      1.526795 -0.141260   \n\n                                      temperature      wind  infections  \\\nweek district start_date_forecasting                                      \n2    Aachen   2021-03-30                -0.153346  0.034214    0.172603   \n3    Aachen   2021-04-06                 0.407433  0.114824    0.265113   \n4    Aachen   2021-04-13                -0.797702  0.877744    0.423340   \n5    Aachen   2021-04-20                -0.741085 -0.449738    0.467399   \n6    Aachen   2021-04-27                -0.110209 -0.037761    0.336784   \n...                                           ...       ...         ...   \n39   Zwickau  2021-12-14                -1.520245 -0.762535    1.590392   \n40   Zwickau  2021-12-21                -0.687164 -0.239934    0.876437   \n41   Zwickau  2021-12-28                -1.827595 -0.182715    0.501113   \n42   Zwickau  2022-01-04                -0.115601  1.469007    0.240404   \n43   Zwickau  2022-01-11                -1.088876  1.449934    0.223956   \n\n                                      beta_t_minus_1      beta  \nweek district start_date_forecasting                            \n2    Aachen   2021-03-30                   -0.673669  0.349003  \n3    Aachen   2021-04-06                   -0.526146  0.360983  \n4    Aachen   2021-04-13                   -0.361037  0.375566  \n5    Aachen   2021-04-20                   -0.334448  0.340415  \n6    Aachen   2021-04-27                   -0.324817  0.281417  \n...                                              ...       ...  \n39   Zwickau  2021-12-14                   -0.429622  0.314815  \n40   Zwickau  2021-12-21                   -0.545336  0.289680  \n41   Zwickau  2021-12-28                   -1.209676  0.341600  \n42   Zwickau  2022-01-04                   -0.565214  0.326322  \n43   Zwickau  2022-01-11                   -0.570061  0.421245  \n\n[10823 rows x 8 columns]",
      "text/html": "<div>\n<style scoped>\n    .dataframe tbody tr th:only-of-type {\n        vertical-align: middle;\n    }\n\n    .dataframe tbody tr th {\n        vertical-align: top;\n    }\n\n    .dataframe thead th {\n        text-align: right;\n    }\n</style>\n<table border=\"1\" class=\"dataframe\">\n  <thead>\n    <tr style=\"text-align: right;\">\n      <th></th>\n      <th></th>\n      <th></th>\n      <th>B.1.1.7</th>\n      <th>policy_index</th>\n      <th>mobility</th>\n      <th>temperature</th>\n      <th>wind</th>\n      <th>infections</th>\n      <th>beta_t_minus_1</th>\n      <th>beta</th>\n    </tr>\n    <tr>\n      <th>week</th>\n      <th>district</th>\n      <th>start_date_forecasting</th>\n      <th></th>\n      <th></th>\n      <th></th>\n      <th></th>\n      <th></th>\n      <th></th>\n      <th></th>\n      <th></th>\n    </tr>\n  </thead>\n  <tbody>\n    <tr>\n      <th>2</th>\n      <th>Aachen</th>\n      <th>2021-03-30</th>\n      <td>-0.195391</td>\n      <td>0.159649</td>\n      <td>-0.889214</td>\n      <td>-0.153346</td>\n      <td>0.034214</td>\n      <td>0.172603</td>\n      <td>-0.673669</td>\n      <td>0.349003</td>\n    </tr>\n    <tr>\n      <th>3</th>\n      <th>Aachen</th>\n      <th>2021-04-06</th>\n      <td>-0.195391</td>\n      <td>0.159649</td>\n      <td>-0.972320</td>\n      <td>0.407433</td>\n      <td>0.114824</td>\n      <td>0.265113</td>\n      <td>-0.526146</td>\n      <td>0.360983</td>\n    </tr>\n    <tr>\n      <th>4</th>\n      <th>Aachen</th>\n      <th>2021-04-13</th>\n      <td>-0.195391</td>\n      <td>0.159649</td>\n      <td>-1.907262</td>\n      <td>-0.797702</td>\n      <td>0.877744</td>\n      <td>0.423340</td>\n      <td>-0.361037</td>\n      <td>0.375566</td>\n    </tr>\n    <tr>\n      <th>5</th>\n      <th>Aachen</th>\n      <th>2021-04-20</th>\n      <td>-0.195391</td>\n      <td>0.159649</td>\n      <td>-1.211250</td>\n      <td>-0.741085</td>\n      <td>-0.449738</td>\n      <td>0.467399</td>\n      <td>-0.334448</td>\n      <td>0.340415</td>\n    </tr>\n    <tr>\n      <th>6</th>\n      <th>Aachen</th>\n      <th>2021-04-27</th>\n      <td>-0.195391</td>\n      <td>0.159649</td>\n      <td>-0.774943</td>\n      <td>-0.110209</td>\n      <td>-0.037761</td>\n      <td>0.336784</td>\n      <td>-0.324817</td>\n      <td>0.281417</td>\n    </tr>\n    <tr>\n      <th>...</th>\n      <th>...</th>\n      <th>...</th>\n      <td>...</td>\n      <td>...</td>\n      <td>...</td>\n      <td>...</td>\n      <td>...</td>\n      <td>...</td>\n      <td>...</td>\n      <td>...</td>\n    </tr>\n    <tr>\n      <th>39</th>\n      <th>Zwickau</th>\n      <th>2021-12-14</th>\n      <td>-0.195391</td>\n      <td>1.526795</td>\n      <td>-0.213978</td>\n      <td>-1.520245</td>\n      <td>-0.762535</td>\n      <td>1.590392</td>\n      <td>-0.429622</td>\n      <td>0.314815</td>\n    </tr>\n    <tr>\n      <th>40</th>\n      <th>Zwickau</th>\n      <th>2021-12-21</th>\n      <td>-0.195391</td>\n      <td>1.526795</td>\n      <td>-0.099707</td>\n      <td>-0.687164</td>\n      <td>-0.239934</td>\n      <td>0.876437</td>\n      <td>-0.545336</td>\n      <td>0.289680</td>\n    </tr>\n    <tr>\n      <th>41</th>\n      <th>Zwickau</th>\n      <th>2021-12-28</th>\n      <td>5.117955</td>\n      <td>1.526795</td>\n      <td>-0.338637</td>\n      <td>-1.827595</td>\n      <td>-0.182715</td>\n      <td>0.501113</td>\n      <td>-1.209676</td>\n      <td>0.341600</td>\n    </tr>\n    <tr>\n      <th>42</th>\n      <th>Zwickau</th>\n      <th>2022-01-04</th>\n      <td>-0.195391</td>\n      <td>1.526795</td>\n      <td>-1.169697</td>\n      <td>-0.115601</td>\n      <td>1.469007</td>\n      <td>0.240404</td>\n      <td>-0.565214</td>\n      <td>0.326322</td>\n    </tr>\n    <tr>\n      <th>43</th>\n      <th>Zwickau</th>\n      <th>2022-01-11</th>\n      <td>-0.195391</td>\n      <td>1.526795</td>\n      <td>-0.141260</td>\n      <td>-1.088876</td>\n      <td>1.449934</td>\n      <td>0.223956</td>\n      <td>-0.570061</td>\n      <td>0.421245</td>\n    </tr>\n  </tbody>\n</table>\n<p>10823 rows × 8 columns</p>\n</div>"
     },
     "execution_count": 22,
     "metadata": {},
     "output_type": "execute_result"
    }
   ]
  },
  {
   "cell_type": "code",
   "execution_count": 23,
   "outputs": [],
   "source": [
    "# Sample 1500 row out of last weeks available for training:\n",
    "sample_size = 1500\n",
    "max_week = max(df_full.index.get_level_values('week'))\n",
    "\n",
    "random_indices = df_full[df_full.index.get_level_values('week') >= max_week-5].sample(sample_size).index"
   ],
   "metadata": {
    "collapsed": false,
    "pycharm": {
     "name": "#%%\n"
    }
   }
  },
  {
   "cell_type": "code",
   "execution_count": 24,
   "outputs": [],
   "source": [
    "df_modeling = df_full.loc[df_full.index.isin(random_indices)]\n",
    "df_test = df_full.loc[~df_full.index.isin(random_indices)]"
   ],
   "metadata": {
    "collapsed": false,
    "pycharm": {
     "name": "#%%\n"
    }
   }
  },
  {
   "cell_type": "markdown",
   "source": [
    "#### 7.1.2) Split into train, val and test:"
   ],
   "metadata": {
    "collapsed": false,
    "pycharm": {
     "name": "#%% md\n"
    }
   }
  },
  {
   "cell_type": "code",
   "execution_count": 25,
   "outputs": [],
   "source": [
    "SEED = 420"
   ],
   "metadata": {
    "collapsed": false,
    "pycharm": {
     "name": "#%%\n"
    }
   }
  },
  {
   "cell_type": "code",
   "execution_count": 26,
   "outputs": [],
   "source": [
    "X_full_modeling = df_modeling.drop(columns=['beta'], axis=1)\n",
    "y_full_modeling = df_modeling['beta']\n",
    "\n",
    "X_test = df_test.drop(columns=['beta'], axis=1)\n",
    "y_test = df_test['beta']"
   ],
   "metadata": {
    "collapsed": false,
    "pycharm": {
     "name": "#%%\n"
    }
   }
  },
  {
   "cell_type": "code",
   "source": [
    "# Train and Val:\n",
    "X_train, X_val, y_train, y_val = train_test_split(X_full_modeling, y_full_modeling, shuffle=True, train_size=0.75, random_state=SEED)"
   ],
   "metadata": {
    "collapsed": false,
    "pycharm": {
     "name": "#%%\n"
    }
   },
   "execution_count": 27,
   "outputs": []
  },
  {
   "cell_type": "markdown",
   "source": [
    "### 7.2 Models\n",
    "#### 7.2.1) Baseline Approach: Choosing previous beta"
   ],
   "metadata": {
    "collapsed": false,
    "pycharm": {
     "name": "#%% md\n"
    }
   }
  },
  {
   "cell_type": "code",
   "execution_count": 28,
   "outputs": [],
   "source": [
    "# Baseline approach would be to use the beta from the previous week for the next week:\n",
    "## Therefore we have to compare how well this works, compared to our ML approach:\n",
    "\n",
    "# As the values are standardized we have to reverse standardize them first:\n",
    "y_pred_baseline_val = pd.DataFrame(scaler_obj.inverse_transform(X_val), index=X_val.index, columns=X_val.columns)['beta_t_minus_1']"
   ],
   "metadata": {
    "collapsed": false,
    "pycharm": {
     "name": "#%%\n"
    }
   }
  },
  {
   "cell_type": "code",
   "execution_count": 29,
   "outputs": [
    {
     "data": {
      "text/plain": "0.35302575474847586"
     },
     "execution_count": 29,
     "metadata": {},
     "output_type": "execute_result"
    }
   ],
   "source": [
    "# Correlation of this approach:\n",
    "y_pred_baseline_val.corr(y_val)"
   ],
   "metadata": {
    "collapsed": false,
    "pycharm": {
     "name": "#%%\n"
    }
   }
  },
  {
   "cell_type": "code",
   "execution_count": 30,
   "outputs": [
    {
     "data": {
      "text/plain": "                                                 y_val  y_pred_baseline\nweek district         start_date_forecasting                           \n39   Göppingen        2021-12-14              0.289423         0.323902\n38   Emsland          2021-12-07              0.350613         0.412481\n41   Ingolstadt       2021-12-28              0.514992         0.345586\n40   Düren            2021-12-21              0.373025         0.291899\n41   Karlsruhe, Kreis 2021-12-28              0.494699         0.312325\n...                                                ...              ...\n40   Kassel           2021-12-21              0.358914         0.380889\n     Coburg, Kreis    2021-12-21              0.257045         0.442927\n38   Stade            2021-12-07              0.436826         0.347918\n39   Bergstraße       2021-12-14              0.329667         0.382855\n     Ostalbkreis      2021-12-14              0.310357         0.292832\n\n[375 rows x 2 columns]",
      "text/html": "<div>\n<style scoped>\n    .dataframe tbody tr th:only-of-type {\n        vertical-align: middle;\n    }\n\n    .dataframe tbody tr th {\n        vertical-align: top;\n    }\n\n    .dataframe thead th {\n        text-align: right;\n    }\n</style>\n<table border=\"1\" class=\"dataframe\">\n  <thead>\n    <tr style=\"text-align: right;\">\n      <th></th>\n      <th></th>\n      <th></th>\n      <th>y_val</th>\n      <th>y_pred_baseline</th>\n    </tr>\n    <tr>\n      <th>week</th>\n      <th>district</th>\n      <th>start_date_forecasting</th>\n      <th></th>\n      <th></th>\n    </tr>\n  </thead>\n  <tbody>\n    <tr>\n      <th>39</th>\n      <th>Göppingen</th>\n      <th>2021-12-14</th>\n      <td>0.289423</td>\n      <td>0.323902</td>\n    </tr>\n    <tr>\n      <th>38</th>\n      <th>Emsland</th>\n      <th>2021-12-07</th>\n      <td>0.350613</td>\n      <td>0.412481</td>\n    </tr>\n    <tr>\n      <th>41</th>\n      <th>Ingolstadt</th>\n      <th>2021-12-28</th>\n      <td>0.514992</td>\n      <td>0.345586</td>\n    </tr>\n    <tr>\n      <th>40</th>\n      <th>Düren</th>\n      <th>2021-12-21</th>\n      <td>0.373025</td>\n      <td>0.291899</td>\n    </tr>\n    <tr>\n      <th>41</th>\n      <th>Karlsruhe, Kreis</th>\n      <th>2021-12-28</th>\n      <td>0.494699</td>\n      <td>0.312325</td>\n    </tr>\n    <tr>\n      <th>...</th>\n      <th>...</th>\n      <th>...</th>\n      <td>...</td>\n      <td>...</td>\n    </tr>\n    <tr>\n      <th rowspan=\"2\" valign=\"top\">40</th>\n      <th>Kassel</th>\n      <th>2021-12-21</th>\n      <td>0.358914</td>\n      <td>0.380889</td>\n    </tr>\n    <tr>\n      <th>Coburg, Kreis</th>\n      <th>2021-12-21</th>\n      <td>0.257045</td>\n      <td>0.442927</td>\n    </tr>\n    <tr>\n      <th>38</th>\n      <th>Stade</th>\n      <th>2021-12-07</th>\n      <td>0.436826</td>\n      <td>0.347918</td>\n    </tr>\n    <tr>\n      <th rowspan=\"2\" valign=\"top\">39</th>\n      <th>Bergstraße</th>\n      <th>2021-12-14</th>\n      <td>0.329667</td>\n      <td>0.382855</td>\n    </tr>\n    <tr>\n      <th>Ostalbkreis</th>\n      <th>2021-12-14</th>\n      <td>0.310357</td>\n      <td>0.292832</td>\n    </tr>\n  </tbody>\n</table>\n<p>375 rows × 2 columns</p>\n</div>"
     },
     "execution_count": 30,
     "metadata": {},
     "output_type": "execute_result"
    }
   ],
   "source": [
    "pd.DataFrame({'y_val':y_val, 'y_pred_baseline':y_pred_baseline_val})"
   ],
   "metadata": {
    "collapsed": false,
    "pycharm": {
     "name": "#%%\n"
    }
   }
  },
  {
   "cell_type": "code",
   "execution_count": 31,
   "outputs": [
    {
     "name": "stdout",
     "output_type": "stream",
     "text": [
      "Baseline RMSE is: 0.11955502151910251\n"
     ]
    }
   ],
   "source": [
    "# Compute RMSE of baseline approach:\n",
    "rmse_baseline =  mean_squared_error(y_val, y_pred_baseline_val, squared=False)\n",
    "print(f'Baseline RMSE is: {rmse_baseline}')"
   ],
   "metadata": {
    "collapsed": false,
    "pycharm": {
     "name": "#%%\n"
    }
   }
  },
  {
   "cell_type": "markdown",
   "source": [
    "#### 7.2.2) Multivariate Linear Regression"
   ],
   "metadata": {
    "collapsed": false
   }
  },
  {
   "cell_type": "code",
   "execution_count": 32,
   "outputs": [],
   "source": [
    "regr = linear_model.LinearRegression()\n",
    "regr.fit(X_train, y_train)\n",
    "\n",
    "y_pred_linreg = regr.predict(X_val)\n",
    "rmse_linreg = mean_squared_error(y_val, y_pred_linreg, squared=False)"
   ],
   "metadata": {
    "collapsed": false,
    "pycharm": {
     "name": "#%%\n"
    }
   }
  },
  {
   "cell_type": "code",
   "execution_count": 33,
   "outputs": [
    {
     "name": "stdout",
     "output_type": "stream",
     "text": [
      "RMSE of LinearRegression() is: 0.07646011555010737. This is an improvement compared to the baseline approach of: 36.04608607937847 %\n"
     ]
    }
   ],
   "source": [
    "print(f'RMSE of {regr} is: {rmse_linreg}. This is an improvement compared to the baseline approach of: {-(rmse_linreg / rmse_baseline -1)*100} %')"
   ],
   "metadata": {
    "collapsed": false,
    "pycharm": {
     "name": "#%%\n"
    }
   }
  },
  {
   "cell_type": "markdown",
   "source": [
    "#### 7.2.3) Ridge Regression:"
   ],
   "metadata": {
    "collapsed": false,
    "pycharm": {
     "name": "#%% md\n"
    }
   }
  },
  {
   "cell_type": "code",
   "execution_count": 34,
   "outputs": [],
   "source": [
    "ridge_reg = linear_model.Ridge()\n",
    "ridge_reg.fit(X_train, y_train)\n",
    "\n",
    "y_pred_ridge_reg = ridge_reg.predict(X_val)\n",
    "rmse_ridge_reg = mean_squared_error(y_val, y_pred_ridge_reg, squared=False)"
   ],
   "metadata": {
    "collapsed": false,
    "pycharm": {
     "name": "#%%\n"
    }
   }
  },
  {
   "cell_type": "code",
   "execution_count": 35,
   "outputs": [
    {
     "name": "stdout",
     "output_type": "stream",
     "text": [
      "RMSE of Ridge() is: 0.07644144115218485. This is an improvement compared to the baseline approach of: 36.06170599871371 %\n"
     ]
    }
   ],
   "source": [
    "print(f'RMSE of {ridge_reg} is: {rmse_ridge_reg}. This is an improvement compared to the baseline approach of: {-(rmse_ridge_reg / rmse_baseline -1)*100} %')"
   ],
   "metadata": {
    "collapsed": false,
    "pycharm": {
     "name": "#%%\n"
    }
   }
  },
  {
   "cell_type": "markdown",
   "source": [
    "#### 7.2.4) Random Forest Regressor:"
   ],
   "metadata": {
    "collapsed": false,
    "pycharm": {
     "name": "#%% md\n"
    }
   }
  },
  {
   "cell_type": "code",
   "execution_count": 36,
   "outputs": [],
   "source": [
    "rfg_model = RandomForestRegressor()\n",
    "rfg_model.fit(X_train, y_train)\n",
    "\n",
    "y_pred_random_forest = rfg_model.predict(X_val)\n",
    "rmse_random_forest = mean_squared_error(y_val, y_pred_random_forest, squared=False)"
   ],
   "metadata": {
    "collapsed": false,
    "pycharm": {
     "name": "#%%\n"
    }
   }
  },
  {
   "cell_type": "code",
   "execution_count": 37,
   "outputs": [
    {
     "name": "stdout",
     "output_type": "stream",
     "text": [
      "RMSE of RandomForestRegressor() is: 0.07462924278353295. This is an improvement compared to the baseline approach of: 37.57749207413368 %\n"
     ]
    }
   ],
   "source": [
    "print(f'RMSE of {rfg_model} is: {rmse_random_forest}. This is an improvement compared to the baseline approach of: {-(rmse_random_forest / rmse_baseline -1)*100} %')"
   ],
   "metadata": {
    "collapsed": false,
    "pycharm": {
     "name": "#%%\n"
    }
   }
  },
  {
   "cell_type": "markdown",
   "source": [
    "#### 7.2.5) Support Vector Machines"
   ],
   "metadata": {
    "collapsed": false,
    "pycharm": {
     "name": "#%% md\n"
    }
   }
  },
  {
   "cell_type": "code",
   "execution_count": 38,
   "outputs": [],
   "source": [
    "svm = SVR()\n",
    "svm.fit(X_train, y_train)\n",
    "\n",
    "y_pred_svm = svm.predict(X_val)\n",
    "rmse_svm = mean_squared_error(y_val, y_pred_svm, squared=False)"
   ],
   "metadata": {
    "collapsed": false,
    "pycharm": {
     "name": "#%%\n"
    }
   }
  },
  {
   "cell_type": "code",
   "execution_count": 39,
   "outputs": [
    {
     "name": "stdout",
     "output_type": "stream",
     "text": [
      "RMSE of SVR() is: 0.07399607761339361. This is an improvement compared to the baseline approach of: 38.10709355978786 %\n"
     ]
    }
   ],
   "source": [
    "print(f'RMSE of {svm} is: {rmse_svm}. This is an improvement compared to the baseline approach of: {-(rmse_svm / rmse_baseline -1)*100} %')"
   ],
   "metadata": {
    "collapsed": false,
    "pycharm": {
     "name": "#%%\n"
    }
   }
  },
  {
   "cell_type": "markdown",
   "source": [
    "#### 7.2.6) XGBoost"
   ],
   "metadata": {
    "collapsed": false,
    "pycharm": {
     "name": "#%% md\n"
    }
   }
  },
  {
   "cell_type": "code",
   "execution_count": 40,
   "outputs": [],
   "source": [
    "xgb_model = xgb.XGBRegressor(verbosity=0)\n",
    "xgb_model.name = 'XGBoostRegressor'\n",
    "xgb_model.fit(X_train, y_train)\n",
    "\n",
    "y_pred_xgb = xgb_model.predict(X_val)\n",
    "rmse_xgb = mean_squared_error(y_val, y_pred_xgb, squared=False)"
   ],
   "metadata": {
    "collapsed": false,
    "pycharm": {
     "name": "#%%\n"
    }
   }
  },
  {
   "cell_type": "code",
   "execution_count": 41,
   "outputs": [
    {
     "name": "stdout",
     "output_type": "stream",
     "text": [
      "\n",
      " RMSE of XGBoostRegressor is: 0.08085738511991428. This is an improvement compared to the baseline approach of: 32.36805606948523 %\n"
     ]
    }
   ],
   "source": [
    "print(f'\\n RMSE of {xgb_model.name} is: {rmse_xgb}. This is an improvement compared to the baseline approach of: {-(rmse_xgb / rmse_baseline -1)*100} %')"
   ],
   "metadata": {
    "collapsed": false,
    "pycharm": {
     "name": "#%%\n"
    }
   }
  },
  {
   "cell_type": "code",
   "execution_count": 42,
   "outputs": [
    {
     "data": {
      "text/plain": "                                               beta_opt  last_beta  \\\nweek district          start_date_forecasting                        \n43   Steinfurt         2022-01-11              0.476135   0.523729   \n     Münster           2022-01-11              0.459019   0.527024   \n     Ostallgäu         2022-01-11              0.490584   0.520880   \n     Wetterau          2022-01-11              0.555836   0.472425   \n     Osterholz         2022-01-11              0.412214   0.494610   \n...                                                 ...        ...   \n38   Landshut, Kreis   2021-12-07              0.335774   0.337443   \n     Regen             2021-12-07              0.352470   0.347833   \n     Regensburg, Kreis 2021-12-07              0.331007   0.336154   \n     Augsburg, Stadt   2021-12-07              0.306548   0.375301   \n     Erfurt            2021-12-07              0.474674   0.468698   \n\n                                               last_beta_standardized  \\\nweek district          start_date_forecasting                           \n43   Steinfurt         2022-01-11                            1.234576   \n     Münster           2022-01-11                            1.267350   \n     Ostallgäu         2022-01-11                            1.206234   \n     Wetterau          2022-01-11                            0.724221   \n     Osterholz         2022-01-11                            0.944906   \n...                                                               ...   \n38   Landshut, Kreis   2021-12-07                           -0.618523   \n     Regen             2021-12-07                           -0.515172   \n     Regensburg, Kreis 2021-12-07                           -0.631351   \n     Augsburg, Stadt   2021-12-07                           -0.241936   \n     Erfurt            2021-12-07                            0.687142   \n\n                                               xgb_bred  \nweek district          start_date_forecasting            \n43   Steinfurt         2022-01-11              0.519797  \n     Münster           2022-01-11              0.455775  \n     Ostallgäu         2022-01-11              0.571781  \n     Wetterau          2022-01-11              0.513563  \n     Osterholz         2022-01-11              0.513412  \n...                                                 ...  \n38   Landshut, Kreis   2021-12-07              0.384310  \n     Regen             2021-12-07              0.322432  \n     Regensburg, Kreis 2021-12-07              0.411157  \n     Augsburg, Stadt   2021-12-07              0.370339  \n     Erfurt            2021-12-07              0.390823  \n\n[375 rows x 4 columns]",
      "text/html": "<div>\n<style scoped>\n    .dataframe tbody tr th:only-of-type {\n        vertical-align: middle;\n    }\n\n    .dataframe tbody tr th {\n        vertical-align: top;\n    }\n\n    .dataframe thead th {\n        text-align: right;\n    }\n</style>\n<table border=\"1\" class=\"dataframe\">\n  <thead>\n    <tr style=\"text-align: right;\">\n      <th></th>\n      <th></th>\n      <th></th>\n      <th>beta_opt</th>\n      <th>last_beta</th>\n      <th>last_beta_standardized</th>\n      <th>xgb_bred</th>\n    </tr>\n    <tr>\n      <th>week</th>\n      <th>district</th>\n      <th>start_date_forecasting</th>\n      <th></th>\n      <th></th>\n      <th></th>\n      <th></th>\n    </tr>\n  </thead>\n  <tbody>\n    <tr>\n      <th rowspan=\"5\" valign=\"top\">43</th>\n      <th>Steinfurt</th>\n      <th>2022-01-11</th>\n      <td>0.476135</td>\n      <td>0.523729</td>\n      <td>1.234576</td>\n      <td>0.519797</td>\n    </tr>\n    <tr>\n      <th>Münster</th>\n      <th>2022-01-11</th>\n      <td>0.459019</td>\n      <td>0.527024</td>\n      <td>1.267350</td>\n      <td>0.455775</td>\n    </tr>\n    <tr>\n      <th>Ostallgäu</th>\n      <th>2022-01-11</th>\n      <td>0.490584</td>\n      <td>0.520880</td>\n      <td>1.206234</td>\n      <td>0.571781</td>\n    </tr>\n    <tr>\n      <th>Wetterau</th>\n      <th>2022-01-11</th>\n      <td>0.555836</td>\n      <td>0.472425</td>\n      <td>0.724221</td>\n      <td>0.513563</td>\n    </tr>\n    <tr>\n      <th>Osterholz</th>\n      <th>2022-01-11</th>\n      <td>0.412214</td>\n      <td>0.494610</td>\n      <td>0.944906</td>\n      <td>0.513412</td>\n    </tr>\n    <tr>\n      <th>...</th>\n      <th>...</th>\n      <th>...</th>\n      <td>...</td>\n      <td>...</td>\n      <td>...</td>\n      <td>...</td>\n    </tr>\n    <tr>\n      <th rowspan=\"5\" valign=\"top\">38</th>\n      <th>Landshut, Kreis</th>\n      <th>2021-12-07</th>\n      <td>0.335774</td>\n      <td>0.337443</td>\n      <td>-0.618523</td>\n      <td>0.384310</td>\n    </tr>\n    <tr>\n      <th>Regen</th>\n      <th>2021-12-07</th>\n      <td>0.352470</td>\n      <td>0.347833</td>\n      <td>-0.515172</td>\n      <td>0.322432</td>\n    </tr>\n    <tr>\n      <th>Regensburg, Kreis</th>\n      <th>2021-12-07</th>\n      <td>0.331007</td>\n      <td>0.336154</td>\n      <td>-0.631351</td>\n      <td>0.411157</td>\n    </tr>\n    <tr>\n      <th>Augsburg, Stadt</th>\n      <th>2021-12-07</th>\n      <td>0.306548</td>\n      <td>0.375301</td>\n      <td>-0.241936</td>\n      <td>0.370339</td>\n    </tr>\n    <tr>\n      <th>Erfurt</th>\n      <th>2021-12-07</th>\n      <td>0.474674</td>\n      <td>0.468698</td>\n      <td>0.687142</td>\n      <td>0.390823</td>\n    </tr>\n  </tbody>\n</table>\n<p>375 rows × 4 columns</p>\n</div>"
     },
     "execution_count": 42,
     "metadata": {},
     "output_type": "execute_result"
    }
   ],
   "source": [
    "pd.DataFrame({'beta_opt':y_val, 'last_beta':y_pred_baseline_val, 'last_beta_standardized':X_val['beta_t_minus_1'], 'xgb_bred':y_pred_xgb}).sort_values('start_date_forecasting', ascending=False)"
   ],
   "metadata": {
    "collapsed": false,
    "pycharm": {
     "name": "#%%\n"
    }
   }
  },
  {
   "cell_type": "markdown",
   "source": [
    "#### 7.2.7) Neural Network"
   ],
   "metadata": {
    "collapsed": false,
    "pycharm": {
     "name": "#%% md\n"
    }
   }
  },
  {
   "cell_type": "code",
   "execution_count": 43,
   "outputs": [
    {
     "name": "stderr",
     "output_type": "stream",
     "text": [
      "2022-01-28 12:15:08.085894: I tensorflow/core/platform/cpu_feature_guard.cc:151] This TensorFlow binary is optimized with oneAPI Deep Neural Network Library (oneDNN) to use the following CPU instructions in performance-critical operations:  AVX2 FMA\n",
      "To enable them in other operations, rebuild TensorFlow with the appropriate compiler flags.\n"
     ]
    }
   ],
   "source": [
    "ann_model = Sequential([\n",
    "    Dense(24, input_dim=len(X_train.columns), activation='relu'),\n",
    "    Dropout(0.2),\n",
    "    Dense(16, activation='relu'),\n",
    "    Dropout(0.2),\n",
    "    Dense(1, activation='linear')\n",
    "])\n",
    "\n",
    "\n",
    "# compile model:\n",
    "ann_model.compile(\n",
    "    loss = 'mse',\n",
    "    optimizer = 'adam',\n",
    "    metrics=[RootMeanSquaredError(name='rmse')]\n",
    ")"
   ],
   "metadata": {
    "collapsed": false,
    "pycharm": {
     "name": "#%%\n"
    }
   }
  },
  {
   "cell_type": "code",
   "execution_count": 44,
   "outputs": [
    {
     "name": "stdout",
     "output_type": "stream",
     "text": [
      "Epoch 1/20\n",
      "36/36 [==============================] - 1s 5ms/step - loss: 1.5173 - rmse: 1.2318 - val_loss: 0.2311 - val_rmse: 0.4807\n",
      "Epoch 2/20\n",
      "36/36 [==============================] - 0s 2ms/step - loss: 0.3034 - rmse: 0.5508 - val_loss: 0.0303 - val_rmse: 0.1741\n",
      "Epoch 3/20\n",
      "36/36 [==============================] - 0s 2ms/step - loss: 0.5461 - rmse: 0.7390 - val_loss: 0.0204 - val_rmse: 0.1428\n",
      "Epoch 4/20\n",
      "36/36 [==============================] - 0s 2ms/step - loss: 0.1425 - rmse: 0.3775 - val_loss: 0.0164 - val_rmse: 0.1281\n",
      "Epoch 5/20\n",
      "36/36 [==============================] - 0s 2ms/step - loss: 0.1475 - rmse: 0.3841 - val_loss: 0.0150 - val_rmse: 0.1223\n",
      "Epoch 6/20\n",
      "36/36 [==============================] - 0s 2ms/step - loss: 0.1357 - rmse: 0.3684 - val_loss: 0.0141 - val_rmse: 0.1189\n",
      "Epoch 7/20\n",
      "36/36 [==============================] - 0s 2ms/step - loss: 0.1057 - rmse: 0.3251 - val_loss: 0.0135 - val_rmse: 0.1162\n",
      "Epoch 8/20\n",
      "36/36 [==============================] - 0s 2ms/step - loss: 0.0691 - rmse: 0.2629 - val_loss: 0.0128 - val_rmse: 0.1131\n",
      "Epoch 9/20\n",
      "36/36 [==============================] - 0s 2ms/step - loss: 0.0633 - rmse: 0.2517 - val_loss: 0.0120 - val_rmse: 0.1096\n",
      "Epoch 10/20\n",
      "36/36 [==============================] - 0s 1ms/step - loss: 0.0991 - rmse: 0.3148 - val_loss: 0.0124 - val_rmse: 0.1112\n",
      "Epoch 11/20\n",
      "36/36 [==============================] - 0s 1ms/step - loss: 0.1035 - rmse: 0.3216 - val_loss: 0.0130 - val_rmse: 0.1140\n",
      "Epoch 12/20\n",
      "36/36 [==============================] - 0s 2ms/step - loss: 0.0497 - rmse: 0.2230 - val_loss: 0.0127 - val_rmse: 0.1125\n",
      "Epoch 13/20\n",
      "36/36 [==============================] - 0s 2ms/step - loss: 0.0403 - rmse: 0.2007 - val_loss: 0.0124 - val_rmse: 0.1115\n",
      "Epoch 14/20\n",
      "36/36 [==============================] - 0s 2ms/step - loss: 0.0716 - rmse: 0.2676 - val_loss: 0.0143 - val_rmse: 0.1194\n",
      "Epoch 15/20\n",
      "36/36 [==============================] - 0s 2ms/step - loss: 0.0361 - rmse: 0.1899 - val_loss: 0.0122 - val_rmse: 0.1103\n",
      "Epoch 16/20\n",
      "36/36 [==============================] - 0s 2ms/step - loss: 0.0571 - rmse: 0.2389 - val_loss: 0.0116 - val_rmse: 0.1078\n",
      "Epoch 17/20\n",
      "36/36 [==============================] - 0s 2ms/step - loss: 0.1174 - rmse: 0.3427 - val_loss: 0.0095 - val_rmse: 0.0974\n",
      "Epoch 18/20\n",
      "36/36 [==============================] - 0s 2ms/step - loss: 0.0272 - rmse: 0.1648 - val_loss: 0.0101 - val_rmse: 0.1006\n",
      "Epoch 19/20\n",
      "36/36 [==============================] - 0s 2ms/step - loss: 0.0313 - rmse: 0.1769 - val_loss: 0.0107 - val_rmse: 0.1032\n",
      "Epoch 20/20\n",
      "36/36 [==============================] - 0s 2ms/step - loss: 0.0383 - rmse: 0.1956 - val_loss: 0.0108 - val_rmse: 0.1038\n"
     ]
    }
   ],
   "source": [
    "history = ann_model.fit(X_train,\n",
    "                        y_train,\n",
    "                        epochs=20,\n",
    "                        # class_weight=class_weight,\n",
    "                        validation_data=(X_val, y_val),\n",
    "                        )"
   ],
   "metadata": {
    "collapsed": false,
    "pycharm": {
     "name": "#%%\n"
    }
   }
  },
  {
   "cell_type": "code",
   "execution_count": 45,
   "outputs": [],
   "source": [
    "y_pred_ann = ann_model.predict(X_val)\n",
    "rmse_ann = mean_squared_error(y_val, y_pred_ann, squared=False)"
   ],
   "metadata": {
    "collapsed": false,
    "pycharm": {
     "name": "#%%\n"
    }
   }
  },
  {
   "cell_type": "code",
   "execution_count": 46,
   "outputs": [
    {
     "name": "stdout",
     "output_type": "stream",
     "text": [
      "RMSE of <keras.engine.sequential.Sequential object at 0x16e82c280> is: 0.10378449036571803. This is an improvement compared to the baseline approach of: 13.191023641666666 %\n"
     ]
    }
   ],
   "source": [
    "print(f'RMSE of {ann_model} is: {rmse_ann}. This is an improvement compared to the baseline approach of: {-(rmse_ann / rmse_baseline -1)*100} %')"
   ],
   "metadata": {
    "collapsed": false,
    "pycharm": {
     "name": "#%%\n"
    }
   }
  },
  {
   "cell_type": "markdown",
   "source": [
    "## 8) Model Evaluation:"
   ],
   "metadata": {
    "collapsed": false,
    "pycharm": {
     "name": "#%% md\n"
    }
   }
  },
  {
   "cell_type": "markdown",
   "source": [
    "### Metric Computation:"
   ],
   "metadata": {
    "collapsed": false,
    "pycharm": {
     "name": "#%% md\n"
    }
   }
  },
  {
   "cell_type": "code",
   "execution_count": 47,
   "outputs": [
    {
     "name": "stdout",
     "output_type": "stream",
     "text": [
      "RMSE of baseline approach is: 0.10102208552586288\n"
     ]
    }
   ],
   "source": [
    "y_pred_baseline_test = pd.DataFrame(scaler_obj.inverse_transform(X_test), index=X_test.index, columns=X_test.columns)['beta_t_minus_1']\n",
    "rmse_baseline_test = mean_squared_error(y_pred_baseline_test, y_test, squared=False)\n",
    "print(f'RMSE of baseline approach is: {rmse_baseline_test}')"
   ],
   "metadata": {
    "collapsed": false,
    "pycharm": {
     "name": "#%%\n"
    }
   }
  },
  {
   "cell_type": "code",
   "execution_count": 48,
   "outputs": [
    {
     "name": "stdout",
     "output_type": "stream",
     "text": [
      "RMSE of XGBRegressor(base_score=0.5, booster='gbtree', colsample_bylevel=1,\n",
      "             colsample_bynode=1, colsample_bytree=1, enable_categorical=False,\n",
      "             gamma=0, gpu_id=-1, importance_type=None,\n",
      "             interaction_constraints='', learning_rate=0.300000012,\n",
      "             max_delta_step=0, max_depth=6, min_child_weight=1, missing=nan,\n",
      "             monotone_constraints='()', n_estimators=100, n_jobs=16,\n",
      "             num_parallel_tree=1, predictor='auto', random_state=0, reg_alpha=0,\n",
      "             reg_lambda=1, scale_pos_weight=1, subsample=1, tree_method='exact',\n",
      "             validate_parameters=1, verbosity=0) is: 0.11594101104418278. This is an improvement compared to the baseline approach of: -14.767984090469488 %\n"
     ]
    }
   ],
   "source": [
    "# Apply optimal model to testset:\n",
    "y_pred_test_xgb = xgb_model.predict(X_test)\n",
    "\n",
    "rmse_xgb_test = mean_squared_error(y_pred_test_xgb, y_test, squared=False)\n",
    "print(f'RMSE of {xgb_model} is: {rmse_xgb_test}. This is an improvement compared to the baseline approach of: {-(rmse_xgb_test / rmse_baseline_test -1)*100} %')"
   ],
   "metadata": {
    "collapsed": false,
    "pycharm": {
     "name": "#%%\n"
    }
   }
  },
  {
   "cell_type": "markdown",
   "source": [
    "### Model comparison:"
   ],
   "metadata": {
    "collapsed": false,
    "pycharm": {
     "name": "#%% md\n"
    }
   }
  },
  {
   "cell_type": "code",
   "execution_count": 53,
   "outputs": [
    {
     "data": {
      "text/plain": "<Figure size 432x288 with 1 Axes>",
      "image/png": "[encoded data removed]"
     },
     "metadata": {
      "needs_background": "light"
     },
     "output_type": "display_data"
    }
   ],
   "source": [
    "rmses_dict = {\n",
    "    'LinReg': rmse_linreg,\n",
    "    'Ridge_Reg': rmse_ridge_reg,\n",
    "    'Random_Forest': rmse_random_forest,\n",
    "    'SVM': rmse_svm,\n",
    "    'XGB': rmse_xgb,\n",
    "    'ANN':rmse_ann,\n",
    "    'Baseline': rmse_baseline,\n",
    "}\n",
    "\n",
    "rmses_rel_improvement = {k:(-(v/rmse_baseline-1)*100) for (k,v) in rmses_dict.items()}\n",
    "rmses_rel_improvement\n",
    "\n",
    "plt.bar(x=rmses_rel_improvement.keys(),height=rmses_rel_improvement.values())\n",
    "plt.title(\"Relative Improvement to Using the Last Beta:\")\n",
    "plt.xlabel(xlabel='Machine Learning Regression Approaches')\n",
    "plt.ylabel(ylabel='Relative Improvement to RMSE %')\n",
    "plt.show()"
   ],
   "metadata": {
    "collapsed": false,
    "pycharm": {
     "name": "#%%\n"
    }
   }
  },
  {
   "cell_type": "markdown",
   "source": [
    "### Feature Importance:"
   ],
   "metadata": {
    "collapsed": false,
    "pycharm": {
     "name": "#%% md\n"
    }
   }
  },
  {
   "cell_type": "code",
   "execution_count": 54,
   "outputs": [
    {
     "data": {
      "text/plain": "<AxesSubplot:>"
     },
     "execution_count": 54,
     "metadata": {},
     "output_type": "execute_result"
    },
    {
     "data": {
      "text/plain": "<Figure size 864x720 with 1 Axes>",
      "image/png": "[encoded data removed]"
     },
     "metadata": {
      "needs_background": "light"
     },
     "output_type": "display_data"
    }
   ],
   "source": [
    "feature_important = xgb_model.get_booster().get_score(importance_type='weight')\n",
    "\n",
    "keys = list(feature_important.keys())\n",
    "values = list(feature_important.values())\n",
    "\n",
    "data = pd.DataFrame(data=values, index=keys, columns=[\"score\"]).sort_values(by = \"score\", ascending=False)\n",
    "data.nlargest(40, columns=\"score\").plot(kind='barh', figsize = (12,10)) ## plot top 40 features"
   ],
   "metadata": {
    "collapsed": false,
    "pycharm": {
     "name": "#%%\n"
    }
   }
  },
  {
   "cell_type": "markdown",
   "source": [
    "## 9) Export Best Model:"
   ],
   "metadata": {
    "collapsed": false,
    "pycharm": {
     "name": "#%% md\n"
    }
   }
  },
  {
   "cell_type": "code",
   "execution_count": 51,
   "outputs": [],
   "source": [
    "path = '../../../../Assets/MachineLearningLayer/Models/'\n",
    "best_model = xgb_model\n",
    "\n",
    "# ML Model:\n",
    "filename = 'xgb_model_lukas.pkl'\n",
    "combined_path = path+filename\n",
    "joblib.dump(best_model, open(combined_path, 'wb'))\n",
    "\n",
    "# Standardizer:\n",
    "filename = 'standardizer_model.pkl'\n",
    "combined_path = path+filename\n",
    "joblib.dump(scaler_obj, open(path+filename, 'wb'))"
   ],
   "metadata": {
    "collapsed": false,
    "pycharm": {
     "name": "#%%\n"
    }
   }
  },
  {
   "cell_type": "code",
   "execution_count": 51,
   "outputs": [],
   "source": [
    "    "
   ],
   "metadata": {
    "collapsed": false,
    "pycharm": {
     "name": "#%%\n"
    }
   }
  }
 ],
 "metadata": {
  "kernelspec": {
   "display_name": "Python 3",
   "language": "python",
   "name": "python3"
  },
  "language_info": {
   "codemirror_mode": {
    "name": "ipython",
    "version": 2
   },
   "file_extension": ".py",
   "mimetype": "text/x-python",
   "name": "python",
   "nbconvert_exporter": "python",
   "pygments_lexer": "ipython2",
   "version": "2.7.6"
  }
 },
 "nbformat": 4,
 "nbformat_minor": 0
}