{
 "cells": [
  {
   "cell_type": "markdown",
   "source": [
    "# Machine Learning Layer\n",
    "#### Goal: Estimate the next beta"
   ],
   "metadata": {
    "collapsed": false,
    "pycharm": {
     "name": "#%% md\n"
    }
   }
  },
  {
   "cell_type": "code",
   "execution_count": 97,
   "outputs": [],
   "source": [
    "import pandas as pd\n",
    "import numpy as np\n",
    "import matplotlib.pyplot as plt\n",
    "import tf as tf\n",
    "from plotnine import *\n",
    "\n",
    "from sklearn.preprocessing import StandardScaler, OneHotEncoder\n",
    "from sklearn.metrics import mean_squared_error\n",
    "from sklearn import linear_model\n",
    "from sklearn.model_selection import train_test_split\n",
    "from sklearn.ensemble import RandomForestRegressor\n",
    "from sklearn.svm import SVR\n",
    "import xgboost as xgb\n",
    "\n",
    "from tensorflow import keras\n",
    "import keras.backend as K\n",
    "from keras.models import Sequential\n",
    "from keras.layers import Dense, Dropout\n",
    "from keras.metrics import RootMeanSquaredError"
   ],
   "metadata": {
    "collapsed": false,
    "pycharm": {
     "name": "#%%\n"
    }
   }
  },
  {
   "cell_type": "markdown",
   "source": [
    "## 1) Import Data:\n",
    "CSV file can be found in Teams under Model/ML_for_Beta/all_matrix_data.csv"
   ],
   "metadata": {
    "collapsed": false,
    "pycharm": {
     "name": "#%% md\n"
    }
   }
  },
  {
   "cell_type": "code",
   "execution_count": 8,
   "outputs": [],
   "source": [
    "df = pd.read_csv('../../../../Assets/Data/all_matrix_data_v2.csv', index_col=0)"
   ],
   "metadata": {
    "collapsed": false,
    "pycharm": {
     "name": "#%%\n"
    }
   }
  },
  {
   "cell_type": "code",
   "execution_count": 9,
   "outputs": [
    {
     "data": {
      "text/plain": "    week  policy_index    variant   mobility  temperature       wind  \\\n89    91     83.930000  B.1.617.2  -8.857143     2.628571   9.457143   \n86    88     61.780000  B.1.617.2 -14.857143     5.257143   6.900000   \n89    91     83.930000  B.1.617.2 -11.428571     2.071429   9.171429   \n89    91     83.930000  B.1.617.2  10.857143     1.142857  10.828571   \n88    90     81.761429  B.1.617.2  52.142857     1.942857  15.414286   \n..   ...           ...        ...        ...          ...        ...   \n80    82     58.670000  B.1.617.2   3.285714    10.728571   8.557143   \n74    76     68.790000  B.1.617.2   0.857143    13.985714  10.871429   \n71    73     68.370000  B.1.617.2   5.285714    16.128571   9.014286   \n69    71     73.210000  B.1.617.2  -3.285714    20.385714   6.885714   \n90    92     83.930000  B.1.617.2 -12.428571     5.114286  14.100000   \n\n    infections          beta  beta_t_minus_1            district  \n89  374.704082  3.786532e-28    2.082025e-16           Stuttgart  \n86  322.224490  1.994240e-27    1.610257e-17           Stuttgart  \n89   49.418367  2.457712e-25    1.879839e-67         Stadt Mainz  \n89   79.081633  1.169281e-24    6.964135e-19            Tübingen  \n88   58.448980  2.567168e-24    9.234650e-30    Frankfurt (Oder)  \n..         ...           ...             ...                 ...  \n80   16.275510  1.453003e+02    1.214266e+01             Cottbus  \n74   20.173469  1.634021e+02    2.598431e+01     Schwäbisch Hall  \n71    3.734694  1.756146e+02    1.008193e+00  Schweinfurt, Stadt  \n69    4.693878  1.873504e+02    3.154386e+02          Heidelberg  \n90  189.714286  2.095933e+02    5.269193e+01              Erfurt  \n\n[37200 rows x 10 columns]",
      "text/html": "<div>\n<style scoped>\n    .dataframe tbody tr th:only-of-type {\n        vertical-align: middle;\n    }\n\n    .dataframe tbody tr th {\n        vertical-align: top;\n    }\n\n    .dataframe thead th {\n        text-align: right;\n    }\n</style>\n<table border=\"1\" class=\"dataframe\">\n  <thead>\n    <tr style=\"text-align: right;\">\n      <th></th>\n      <th>week</th>\n      <th>policy_index</th>\n      <th>variant</th>\n      <th>mobility</th>\n      <th>temperature</th>\n      <th>wind</th>\n      <th>infections</th>\n      <th>beta</th>\n      <th>beta_t_minus_1</th>\n      <th>district</th>\n    </tr>\n  </thead>\n  <tbody>\n    <tr>\n      <th>89</th>\n      <td>91</td>\n      <td>83.930000</td>\n      <td>B.1.617.2</td>\n      <td>-8.857143</td>\n      <td>2.628571</td>\n      <td>9.457143</td>\n      <td>374.704082</td>\n      <td>3.786532e-28</td>\n      <td>2.082025e-16</td>\n      <td>Stuttgart</td>\n    </tr>\n    <tr>\n      <th>86</th>\n      <td>88</td>\n      <td>61.780000</td>\n      <td>B.1.617.2</td>\n      <td>-14.857143</td>\n      <td>5.257143</td>\n      <td>6.900000</td>\n      <td>322.224490</td>\n      <td>1.994240e-27</td>\n      <td>1.610257e-17</td>\n      <td>Stuttgart</td>\n    </tr>\n    <tr>\n      <th>89</th>\n      <td>91</td>\n      <td>83.930000</td>\n      <td>B.1.617.2</td>\n      <td>-11.428571</td>\n      <td>2.071429</td>\n      <td>9.171429</td>\n      <td>49.418367</td>\n      <td>2.457712e-25</td>\n      <td>1.879839e-67</td>\n      <td>Stadt Mainz</td>\n    </tr>\n    <tr>\n      <th>89</th>\n      <td>91</td>\n      <td>83.930000</td>\n      <td>B.1.617.2</td>\n      <td>10.857143</td>\n      <td>1.142857</td>\n      <td>10.828571</td>\n      <td>79.081633</td>\n      <td>1.169281e-24</td>\n      <td>6.964135e-19</td>\n      <td>Tübingen</td>\n    </tr>\n    <tr>\n      <th>88</th>\n      <td>90</td>\n      <td>81.761429</td>\n      <td>B.1.617.2</td>\n      <td>52.142857</td>\n      <td>1.942857</td>\n      <td>15.414286</td>\n      <td>58.448980</td>\n      <td>2.567168e-24</td>\n      <td>9.234650e-30</td>\n      <td>Frankfurt (Oder)</td>\n    </tr>\n    <tr>\n      <th>...</th>\n      <td>...</td>\n      <td>...</td>\n      <td>...</td>\n      <td>...</td>\n      <td>...</td>\n      <td>...</td>\n      <td>...</td>\n      <td>...</td>\n      <td>...</td>\n      <td>...</td>\n    </tr>\n    <tr>\n      <th>80</th>\n      <td>82</td>\n      <td>58.670000</td>\n      <td>B.1.617.2</td>\n      <td>3.285714</td>\n      <td>10.728571</td>\n      <td>8.557143</td>\n      <td>16.275510</td>\n      <td>1.453003e+02</td>\n      <td>1.214266e+01</td>\n      <td>Cottbus</td>\n    </tr>\n    <tr>\n      <th>74</th>\n      <td>76</td>\n      <td>68.790000</td>\n      <td>B.1.617.2</td>\n      <td>0.857143</td>\n      <td>13.985714</td>\n      <td>10.871429</td>\n      <td>20.173469</td>\n      <td>1.634021e+02</td>\n      <td>2.598431e+01</td>\n      <td>Schwäbisch Hall</td>\n    </tr>\n    <tr>\n      <th>71</th>\n      <td>73</td>\n      <td>68.370000</td>\n      <td>B.1.617.2</td>\n      <td>5.285714</td>\n      <td>16.128571</td>\n      <td>9.014286</td>\n      <td>3.734694</td>\n      <td>1.756146e+02</td>\n      <td>1.008193e+00</td>\n      <td>Schweinfurt, Stadt</td>\n    </tr>\n    <tr>\n      <th>69</th>\n      <td>71</td>\n      <td>73.210000</td>\n      <td>B.1.617.2</td>\n      <td>-3.285714</td>\n      <td>20.385714</td>\n      <td>6.885714</td>\n      <td>4.693878</td>\n      <td>1.873504e+02</td>\n      <td>3.154386e+02</td>\n      <td>Heidelberg</td>\n    </tr>\n    <tr>\n      <th>90</th>\n      <td>92</td>\n      <td>83.930000</td>\n      <td>B.1.617.2</td>\n      <td>-12.428571</td>\n      <td>5.114286</td>\n      <td>14.100000</td>\n      <td>189.714286</td>\n      <td>2.095933e+02</td>\n      <td>5.269193e+01</td>\n      <td>Erfurt</td>\n    </tr>\n  </tbody>\n</table>\n<p>37200 rows × 10 columns</p>\n</div>"
     },
     "execution_count": 9,
     "metadata": {},
     "output_type": "execute_result"
    }
   ],
   "source": [
    "df.sort_values('beta')"
   ],
   "metadata": {
    "collapsed": false,
    "pycharm": {
     "name": "#%%\n"
    }
   }
  },
  {
   "cell_type": "markdown",
   "source": [
    "## 2) Visualize Data:\n",
    "#### 2.1) Average Infections (training period):"
   ],
   "metadata": {
    "collapsed": false,
    "pycharm": {
     "name": "#%% md\n"
    }
   }
  },
  {
   "cell_type": "code",
   "execution_count": 10,
   "outputs": [
    {
     "data": {
      "text/plain": "<Figure size 640x480 with 1 Axes>",
      "image/png": "[encoded data removed]"
     },
     "metadata": {},
     "output_type": "display_data"
    },
    {
     "data": {
      "text/plain": "<ggplot: (343408044)>"
     },
     "execution_count": 10,
     "metadata": {},
     "output_type": "execute_result"
    }
   ],
   "source": [
    "ggplot(df, aes(x='infections')) + geom_histogram(binwidth=5) + coord_cartesian(xlim=(0,250),ylim=(0,10000))"
   ],
   "metadata": {
    "collapsed": false,
    "pycharm": {
     "name": "#%%\n"
    }
   }
  },
  {
   "cell_type": "markdown",
   "source": [
    "#### 2.2) Fitted beta:"
   ],
   "metadata": {
    "collapsed": false,
    "pycharm": {
     "name": "#%% md\n"
    }
   },
   "execution_count": 50
  },
  {
   "cell_type": "code",
   "execution_count": 11,
   "outputs": [
    {
     "data": {
      "text/plain": "<Figure size 640x480 with 1 Axes>",
      "image/png": "[encoded data removed]"
     },
     "metadata": {},
     "output_type": "display_data"
    },
    {
     "data": {
      "text/plain": "<ggplot: (317332676)>"
     },
     "execution_count": 5,
     "metadata": {},
     "output_type": "execute_result"
    },
    {
     "data": {
      "text/plain": "<Figure size 640x480 with 1 Axes>",
      "image/png": "[encoded data removed]"
     },
     "metadata": {},
     "output_type": "display_data"
    },
    {
     "data": {
      "text/plain": "<ggplot: (344172168)>"
     },
     "execution_count": 11,
     "metadata": {},
     "output_type": "execute_result"
    }
   ],
   "source": [
    "ggplot(df, aes(x='beta')) + geom_histogram(binwidth=0.025) + coord_cartesian(xlim=(0,2),ylim=(0,5000))"
   ],
   "metadata": {
    "collapsed": false,
    "pycharm": {
     "name": "#%%\n"
    }
   }
  },
  {
   "cell_type": "markdown",
   "source": [
    "#### 2.3) Average infections Münster"
   ],
   "metadata": {
    "collapsed": false,
    "pycharm": {
     "name": "#%% md\n"
    }
   }
  },
  {
   "cell_type": "code",
   "execution_count": 12,
   "outputs": [
    {
     "data": {
      "text/plain": "<Figure size 640x480 with 1 Axes>",
      "image/png": "[encoded data removed]"
     },
     "metadata": {},
     "output_type": "display_data"
    },
    {
     "data": {
      "text/plain": "<ggplot: (343612269)>"
     },
     "execution_count": 6,
     "metadata": {},
     "output_type": "execute_result"
    },
    {
     "data": {
      "text/plain": "<Figure size 640x480 with 1 Axes>",
      "image/png": "[encoded data removed]"
     },
     "metadata": {},
     "output_type": "display_data"
    },
    {
     "data": {
      "text/plain": "<ggplot: (343215147)>"
     },
     "execution_count": 12,
     "metadata": {},
     "output_type": "execute_result"
    }
   ],
   "source": [
    "district = 'Münster'\n",
    "df_v2_3 = df[df['district']==district][['week','district','infections','beta']]\n",
    "\n",
    "# Devide both columns by their mean so that they fit in one plot:\n",
    "df_v2_3['infections'] = df_v2_3['infections']/df_v2_3['infections'].mean()\n",
    "df_v2_3['beta'] = df_v2_3['beta']/df_v2_3['beta'].mean()\n",
    "\n",
    "ggplot(df_v2_3) \\\n",
    "+ geom_line(aes(x='week', y='beta'), color='yellow')\\\n",
    "+ geom_line(aes(x='week', y='infections'), color='green', size=2)"
   ],
   "metadata": {
    "collapsed": false,
    "pycharm": {
     "name": "#%%\n"
    }
   }
  },
  {
   "cell_type": "markdown",
   "source": [
    "#### 2.4) Policy index vs infections: (Germany)"
   ],
   "metadata": {
    "collapsed": false,
    "pycharm": {
     "name": "#%% md\n"
    }
   }
  },
  {
   "cell_type": "code",
   "execution_count": 13,
   "outputs": [
    {
     "data": {
      "text/plain": "<Figure size 640x480 with 1 Axes>",
      "image/png": "[encoded data removed]"
     },
     "metadata": {},
     "output_type": "display_data"
    },
    {
     "data": {
      "text/plain": "<ggplot: (343490244)>"
     },
     "execution_count": 13,
     "metadata": {},
     "output_type": "execute_result"
    }
   ],
   "source": [
    "df_v2_4 = df.groupby('week').sum()\n",
    "\n",
    "# Devide both columns by their max so that they fit in one plot:\n",
    "df_v2_4['infections'] = df_v2_4['infections']/df_v2_4['infections'].max()\n",
    "df_v2_4['policy_index'] = df_v2_4['policy_index']/df_v2_4['policy_index'].max()\n",
    "\n",
    "ggplot(df_v2_4.reset_index())\\\n",
    "+ geom_line(aes(x='week', y='policy_index'), color='yellow')\\\n",
    "+ geom_line(aes(x='week', y='infections'), color='green', size=2)"
   ],
   "metadata": {
    "collapsed": false,
    "pycharm": {
     "name": "#%%\n"
    }
   }
  },
  {
   "cell_type": "markdown",
   "source": [
    "## 3) Feature Engineering:\n",
    "#### Lagged beta: (NO LONGER NECESSARY!)"
   ],
   "metadata": {
    "collapsed": false,
    "pycharm": {
     "name": "#%% md\n"
    }
   }
  },
  {
   "cell_type": "code",
   "execution_count": 14,
   "outputs": [],
   "source": [
    "# Sort values by district and week before lagging:\n",
    "df.sort_values(['district','week'], inplace=True)"
   ],
   "metadata": {
    "collapsed": false,
    "pycharm": {
     "name": "#%%\n"
    }
   }
  },
  {
   "cell_type": "code",
   "execution_count": 15,
   "outputs": [
    {
     "data": {
      "text/plain": "0.639581561831509"
     },
     "execution_count": 15,
     "metadata": {},
     "output_type": "execute_result"
    }
   ],
   "source": [
    "# Check out correlation between current and previous weeks beta:\n",
    "df['beta'].corr(df['beta_t_minus_1'] )"
   ],
   "metadata": {
    "collapsed": false,
    "pycharm": {
     "name": "#%%\n"
    }
   }
  },
  {
   "cell_type": "markdown",
   "source": [
    "## 4) Data cleaning:\n",
    "#### Identify missing values:"
   ],
   "metadata": {
    "collapsed": false,
    "pycharm": {
     "name": "#%% md\n"
    }
   },
   "outputs": [
    {
     "data": {
      "text/plain": "week                  0\npolicy_index          0\nvariant               0\nmobility              0\ntemperature         243\nwind               3827\ninfections            0\nbeta                  0\ndistrict              0\nbeta_lag_1_week       0\nbeta_lag_2_week       0\nbeta_lag_3_week       0\ndtype: int64"
     },
     "execution_count": 77,
     "metadata": {},
     "output_type": "execute_result"
    }
   ],
   "execution_count": 77
  },
  {
   "cell_type": "code",
   "execution_count": 16,
   "outputs": [
    {
     "data": {
      "text/plain": "week                 0\npolicy_index         0\nvariant              0\nmobility             0\ntemperature        236\nwind              3739\ninfections           0\nbeta                 0\nbeta_t_minus_1       0\ndistrict             0\ndtype: int64"
     },
     "execution_count": 16,
     "metadata": {},
     "output_type": "execute_result"
    }
   ],
   "source": [
    "df.isnull().sum()"
   ],
   "metadata": {
    "collapsed": false,
    "pycharm": {
     "name": "#%%\n"
    }
   }
  },
  {
   "cell_type": "markdown",
   "source": [
    "#### Fill missing values with previous column:\n",
    "Forward fill: Fill down (-> if missing value in week 50 use value of week 49)"
   ],
   "metadata": {
    "collapsed": false,
    "pycharm": {
     "name": "#%% md\n"
    }
   }
  },
  {
   "cell_type": "code",
   "execution_count": 17,
   "outputs": [],
   "source": [
    "df_v4 = df.fillna(method='ffill').fillna(method='bfill')"
   ],
   "metadata": {
    "collapsed": false,
    "pycharm": {
     "name": "#%%\n"
    }
   }
  },
  {
   "cell_type": "markdown",
   "source": [
    "## 5) Outlier removal:\n",
    "#### 5.1) Infection counts:\n",
    "Remove weeks in which the average number of daily infections where below a threshold as for extremely low values it is really hard to forecast beta:"
   ],
   "metadata": {
    "collapsed": false
   }
  },
  {
   "cell_type": "code",
   "execution_count": 18,
   "outputs": [],
   "source": [
    "# Drop all rows in which average number of infections is below 5:\n",
    "threshold = 5\n",
    "df_v5_1 = df_v4[df_v4['infections'] > threshold]"
   ],
   "metadata": {
    "collapsed": false,
    "pycharm": {
     "name": "#%%\n"
    }
   }
  },
  {
   "cell_type": "markdown",
   "source": [
    "#### 5.2) Beta values:"
   ],
   "metadata": {
    "collapsed": false
   }
  },
  {
   "cell_type": "code",
   "execution_count": 19,
   "outputs": [],
   "source": [
    "# Drop all rows in which the beta value is < 0.025:\n",
    "threshold = 0.025\n",
    "df_v5_2 = df_v5_1[df_v5_1['beta'] > threshold]"
   ],
   "metadata": {
    "collapsed": false,
    "pycharm": {
     "name": "#%%\n"
    }
   }
  },
  {
   "cell_type": "markdown",
   "source": [
    "## 6) Preprocessing columns:\n",
    "#### 6.1) Handling categorical columns:"
   ],
   "metadata": {
    "collapsed": false,
    "pycharm": {
     "name": "#%% md\n"
    }
   }
  },
  {
   "cell_type": "code",
   "execution_count": 20,
   "outputs": [],
   "source": [
    "# Only use week and district as index columns:\n",
    "df_v6_1 = df_v5_2.set_index(['week','district'])"
   ],
   "metadata": {
    "collapsed": false,
    "pycharm": {
     "name": "#%%\n"
    }
   }
  },
  {
   "cell_type": "code",
   "execution_count": 21,
   "outputs": [],
   "source": [
    "# One hot-encode variant columns:\n",
    "df_v6_2_a = pd.get_dummies(df_v6_1['variant'])\n",
    "df_v6_2_b = df_v6_1.drop(columns='variant', axis=1)\n",
    "\n",
    "df_v6_2_c = pd.concat([df_v6_2_a,df_v6_2_b], axis=1)"
   ],
   "metadata": {
    "collapsed": false,
    "pycharm": {
     "name": "#%%\n"
    }
   }
  },
  {
   "cell_type": "code",
   "execution_count": 22,
   "outputs": [],
   "source": [
    "# Drop \"other\" variant column to prevent dummy variable trap:\n",
    "df_v6_2_d = df_v6_2_c.drop(columns='Other', axis=1)"
   ],
   "metadata": {
    "collapsed": false,
    "pycharm": {
     "name": "#%%\n"
    }
   }
  },
  {
   "cell_type": "code",
   "execution_count": 23,
   "outputs": [],
   "source": [
    "# Drop zero column:\n",
    "df_v6_2_e = df_v6_2_d.drop(columns='0', axis=1)"
   ],
   "metadata": {
    "collapsed": false,
    "pycharm": {
     "name": "#%%\n"
    }
   }
  },
  {
   "cell_type": "markdown",
   "source": [
    "#### 6.2) Standardizing:"
   ],
   "metadata": {
    "collapsed": false,
    "pycharm": {
     "name": "#%% md\n"
    }
   }
  },
  {
   "cell_type": "code",
   "source": [
    "# Standardize:\n",
    "scaler_obj = StandardScaler()\n",
    "\n",
    "# Split explanatory columns from beta:\n",
    "explanatory_cols = df_v6_2_e.drop(columns=['beta','beta_t_minus_1'], axis=1)\n",
    "beta_cols = df_v6_2_e[['beta','beta_t_minus_1']]\n",
    "\n",
    "# Apply scaling:\n",
    "scaled_explanatory_cols = pd.DataFrame(scaler_obj.fit_transform(explanatory_cols), index=explanatory_cols.index, columns=explanatory_cols.columns)\n",
    "\n",
    "# Merge both together again:\n",
    "df_v6_3 = pd.concat([scaled_explanatory_cols, beta_cols], axis=1)"
   ],
   "metadata": {
    "collapsed": false,
    "pycharm": {
     "name": "#%%\n"
    }
   },
   "execution_count": 135,
   "outputs": []
  },
  {
   "cell_type": "markdown",
   "source": [
    "## 7) Modeling\n",
    "### 7.1) Preparation\n",
    "#### 7.1.1) Split into train/val:"
   ],
   "metadata": {
    "collapsed": false,
    "pycharm": {
     "name": "#%% md\n"
    }
   }
  },
  {
   "cell_type": "code",
   "source": [
    "df_modeling = df_v6_3\n",
    "df_modeling"
   ],
   "metadata": {
    "collapsed": false,
    "pycharm": {
     "name": "#%%\n"
    }
   },
   "execution_count": 136,
   "outputs": [
    {
     "data": {
      "text/plain": "                B.1.1.7  B.1.617.2  policy_index  mobility  temperature  \\\nweek district                                                             \n2    Aachen   -0.698986  -0.720248     -0.614720 -2.563934    -0.432627   \n3    Aachen   -0.698986  -0.720248     -0.438390 -2.077971    -0.306793   \n4    Aachen   -0.698986  -0.720248     -0.245118 -1.734939     1.244361   \n5    Aachen   -0.698986  -0.720248     -0.245118 -1.973156     0.569210   \n6    Aachen   -0.698986  -0.720248     -0.245118 -1.363320     0.978173   \n...                 ...        ...           ...       ...          ...   \n90   Zwickau  -0.698986   1.388410      2.041648 -0.429510    -1.010982   \n91   Zwickau  -0.698986   1.388410      2.340718  0.046924    -1.236033   \n92   Zwickau  -0.698986   1.388410      2.340718  0.151740    -0.488285   \n93   Zwickau  -0.698986   1.388410      2.340718 -0.067420    -1.511901   \n94   Zwickau  -0.698986  -0.720248     -0.966393 -0.829714     0.024733   \n\n                   wind  infections      beta  beta_t_minus_1  \nweek district                                                  \n2    Aachen   -0.111012    0.089014  0.279309        0.323253  \n3    Aachen   -0.111012   -0.099748  0.144432        0.378669  \n4    Aachen   -0.261843   -0.240578  0.198363        0.151111  \n5    Aachen   -0.133085   -0.344224  0.180248        0.177820  \n6    Aachen    1.434083   -0.448241  0.062893        0.251340  \n...                 ...         ...       ...             ...  \n90   Zwickau   1.412010    4.438816  0.614033        0.548931  \n91   Zwickau  -0.787911    3.151207  0.513378        0.609274  \n92   Zwickau  -0.283916    1.891271  0.415119        0.568880  \n93   Zwickau  -0.228734    1.147465  0.515838        0.409737  \n94   Zwickau   1.364186    0.706444  0.503887        0.519798  \n\n[23076 rows x 9 columns]",
      "text/html": "<div>\n<style scoped>\n    .dataframe tbody tr th:only-of-type {\n        vertical-align: middle;\n    }\n\n    .dataframe tbody tr th {\n        vertical-align: top;\n    }\n\n    .dataframe thead th {\n        text-align: right;\n    }\n</style>\n<table border=\"1\" class=\"dataframe\">\n  <thead>\n    <tr style=\"text-align: right;\">\n      <th></th>\n      <th></th>\n      <th>B.1.1.7</th>\n      <th>B.1.617.2</th>\n      <th>policy_index</th>\n      <th>mobility</th>\n      <th>temperature</th>\n      <th>wind</th>\n      <th>infections</th>\n      <th>beta</th>\n      <th>beta_t_minus_1</th>\n    </tr>\n    <tr>\n      <th>week</th>\n      <th>district</th>\n      <th></th>\n      <th></th>\n      <th></th>\n      <th></th>\n      <th></th>\n      <th></th>\n      <th></th>\n      <th></th>\n      <th></th>\n    </tr>\n  </thead>\n  <tbody>\n    <tr>\n      <th>2</th>\n      <th>Aachen</th>\n      <td>-0.698986</td>\n      <td>-0.720248</td>\n      <td>-0.614720</td>\n      <td>-2.563934</td>\n      <td>-0.432627</td>\n      <td>-0.111012</td>\n      <td>0.089014</td>\n      <td>0.279309</td>\n      <td>0.323253</td>\n    </tr>\n    <tr>\n      <th>3</th>\n      <th>Aachen</th>\n      <td>-0.698986</td>\n      <td>-0.720248</td>\n      <td>-0.438390</td>\n      <td>-2.077971</td>\n      <td>-0.306793</td>\n      <td>-0.111012</td>\n      <td>-0.099748</td>\n      <td>0.144432</td>\n      <td>0.378669</td>\n    </tr>\n    <tr>\n      <th>4</th>\n      <th>Aachen</th>\n      <td>-0.698986</td>\n      <td>-0.720248</td>\n      <td>-0.245118</td>\n      <td>-1.734939</td>\n      <td>1.244361</td>\n      <td>-0.261843</td>\n      <td>-0.240578</td>\n      <td>0.198363</td>\n      <td>0.151111</td>\n    </tr>\n    <tr>\n      <th>5</th>\n      <th>Aachen</th>\n      <td>-0.698986</td>\n      <td>-0.720248</td>\n      <td>-0.245118</td>\n      <td>-1.973156</td>\n      <td>0.569210</td>\n      <td>-0.133085</td>\n      <td>-0.344224</td>\n      <td>0.180248</td>\n      <td>0.177820</td>\n    </tr>\n    <tr>\n      <th>6</th>\n      <th>Aachen</th>\n      <td>-0.698986</td>\n      <td>-0.720248</td>\n      <td>-0.245118</td>\n      <td>-1.363320</td>\n      <td>0.978173</td>\n      <td>1.434083</td>\n      <td>-0.448241</td>\n      <td>0.062893</td>\n      <td>0.251340</td>\n    </tr>\n    <tr>\n      <th>...</th>\n      <th>...</th>\n      <td>...</td>\n      <td>...</td>\n      <td>...</td>\n      <td>...</td>\n      <td>...</td>\n      <td>...</td>\n      <td>...</td>\n      <td>...</td>\n      <td>...</td>\n    </tr>\n    <tr>\n      <th>90</th>\n      <th>Zwickau</th>\n      <td>-0.698986</td>\n      <td>1.388410</td>\n      <td>2.041648</td>\n      <td>-0.429510</td>\n      <td>-1.010982</td>\n      <td>1.412010</td>\n      <td>4.438816</td>\n      <td>0.614033</td>\n      <td>0.548931</td>\n    </tr>\n    <tr>\n      <th>91</th>\n      <th>Zwickau</th>\n      <td>-0.698986</td>\n      <td>1.388410</td>\n      <td>2.340718</td>\n      <td>0.046924</td>\n      <td>-1.236033</td>\n      <td>-0.787911</td>\n      <td>3.151207</td>\n      <td>0.513378</td>\n      <td>0.609274</td>\n    </tr>\n    <tr>\n      <th>92</th>\n      <th>Zwickau</th>\n      <td>-0.698986</td>\n      <td>1.388410</td>\n      <td>2.340718</td>\n      <td>0.151740</td>\n      <td>-0.488285</td>\n      <td>-0.283916</td>\n      <td>1.891271</td>\n      <td>0.415119</td>\n      <td>0.568880</td>\n    </tr>\n    <tr>\n      <th>93</th>\n      <th>Zwickau</th>\n      <td>-0.698986</td>\n      <td>1.388410</td>\n      <td>2.340718</td>\n      <td>-0.067420</td>\n      <td>-1.511901</td>\n      <td>-0.228734</td>\n      <td>1.147465</td>\n      <td>0.515838</td>\n      <td>0.409737</td>\n    </tr>\n    <tr>\n      <th>94</th>\n      <th>Zwickau</th>\n      <td>-0.698986</td>\n      <td>-0.720248</td>\n      <td>-0.966393</td>\n      <td>-0.829714</td>\n      <td>0.024733</td>\n      <td>1.364186</td>\n      <td>0.706444</td>\n      <td>0.503887</td>\n      <td>0.519798</td>\n    </tr>\n  </tbody>\n</table>\n<p>23076 rows × 9 columns</p>\n</div>"
     },
     "execution_count": 136,
     "metadata": {},
     "output_type": "execute_result"
    }
   ]
  },
  {
   "cell_type": "markdown",
   "source": [
    "#### 7.1.2) Split into train val:"
   ],
   "metadata": {
    "collapsed": false,
    "pycharm": {
     "name": "#%% md\n"
    }
   }
  },
  {
   "cell_type": "code",
   "execution_count": 137,
   "outputs": [],
   "source": [
    "SEED = 420"
   ],
   "metadata": {
    "collapsed": false,
    "pycharm": {
     "name": "#%%\n"
    }
   }
  },
  {
   "cell_type": "code",
   "execution_count": 138,
   "outputs": [],
   "source": [
    "X_full = df_modeling.drop(columns=['beta'], axis=1)\n",
    "y_full = df_modeling['beta']"
   ],
   "metadata": {
    "collapsed": false,
    "pycharm": {
     "name": "#%%\n"
    }
   }
  },
  {
   "cell_type": "code",
   "source": [
    "X_train, X_val, y_train, y_val = train_test_split(X_full, y_full, shuffle=True, train_size=0.75, random_state=SEED)"
   ],
   "metadata": {
    "collapsed": false,
    "pycharm": {
     "name": "#%%\n"
    }
   },
   "execution_count": 139,
   "outputs": []
  },
  {
   "cell_type": "markdown",
   "source": [
    "### 7.2 Models\n",
    "#### 7.2.1) Baseline Approach: Choosing previous beta"
   ],
   "metadata": {
    "collapsed": false,
    "pycharm": {
     "name": "#%% md\n"
    }
   }
  },
  {
   "cell_type": "code",
   "execution_count": 140,
   "outputs": [],
   "source": [
    "# Baseline approach would be to use the beta from the previous week for the next week:\n",
    "## Therefore we have to compare how well this works, compared to our ML approach:\n",
    "y_pred_baseline = X_val['beta_t_minus_1']"
   ],
   "metadata": {
    "collapsed": false,
    "pycharm": {
     "name": "#%%\n"
    }
   }
  },
  {
   "cell_type": "code",
   "execution_count": 141,
   "outputs": [
    {
     "data": {
      "text/plain": "0.7459144438106486"
     },
     "execution_count": 141,
     "metadata": {},
     "output_type": "execute_result"
    }
   ],
   "source": [
    "# Correlation of this approach:\n",
    "X_full['beta_t_minus_1'].corr(y_full)"
   ],
   "metadata": {
    "collapsed": false,
    "pycharm": {
     "name": "#%%\n"
    }
   }
  },
  {
   "cell_type": "code",
   "execution_count": 142,
   "outputs": [
    {
     "data": {
      "text/plain": "                               y_val  y_pred_baseline\nweek district                                        \n89   Eichstätt              0.768745         0.787189\n38   Hamburg                0.390489         0.395175\n76   Rheingau-Taunus        0.819332         1.138713\n77   Landkreis Rostock      0.513399         1.210469\n2    Olpe                   0.296292         1.313517\n...                              ...              ...\n48   Vorpommern-Greifswald  0.272258         0.282582\n37   Vorpommern-Rügen       0.649366         0.095626\n44   Vechta                 0.230530         0.293331\n20   Mettmann               0.393448         0.246074\n75   Ludwigslust-Parchim    0.333830         0.649908\n\n[5769 rows x 2 columns]",
      "text/html": "<div>\n<style scoped>\n    .dataframe tbody tr th:only-of-type {\n        vertical-align: middle;\n    }\n\n    .dataframe tbody tr th {\n        vertical-align: top;\n    }\n\n    .dataframe thead th {\n        text-align: right;\n    }\n</style>\n<table border=\"1\" class=\"dataframe\">\n  <thead>\n    <tr style=\"text-align: right;\">\n      <th></th>\n      <th></th>\n      <th>y_val</th>\n      <th>y_pred_baseline</th>\n    </tr>\n    <tr>\n      <th>week</th>\n      <th>district</th>\n      <th></th>\n      <th></th>\n    </tr>\n  </thead>\n  <tbody>\n    <tr>\n      <th>89</th>\n      <th>Eichstätt</th>\n      <td>0.768745</td>\n      <td>0.787189</td>\n    </tr>\n    <tr>\n      <th>38</th>\n      <th>Hamburg</th>\n      <td>0.390489</td>\n      <td>0.395175</td>\n    </tr>\n    <tr>\n      <th>76</th>\n      <th>Rheingau-Taunus</th>\n      <td>0.819332</td>\n      <td>1.138713</td>\n    </tr>\n    <tr>\n      <th>77</th>\n      <th>Landkreis Rostock</th>\n      <td>0.513399</td>\n      <td>1.210469</td>\n    </tr>\n    <tr>\n      <th>2</th>\n      <th>Olpe</th>\n      <td>0.296292</td>\n      <td>1.313517</td>\n    </tr>\n    <tr>\n      <th>...</th>\n      <th>...</th>\n      <td>...</td>\n      <td>...</td>\n    </tr>\n    <tr>\n      <th>48</th>\n      <th>Vorpommern-Greifswald</th>\n      <td>0.272258</td>\n      <td>0.282582</td>\n    </tr>\n    <tr>\n      <th>37</th>\n      <th>Vorpommern-Rügen</th>\n      <td>0.649366</td>\n      <td>0.095626</td>\n    </tr>\n    <tr>\n      <th>44</th>\n      <th>Vechta</th>\n      <td>0.230530</td>\n      <td>0.293331</td>\n    </tr>\n    <tr>\n      <th>20</th>\n      <th>Mettmann</th>\n      <td>0.393448</td>\n      <td>0.246074</td>\n    </tr>\n    <tr>\n      <th>75</th>\n      <th>Ludwigslust-Parchim</th>\n      <td>0.333830</td>\n      <td>0.649908</td>\n    </tr>\n  </tbody>\n</table>\n<p>5769 rows × 2 columns</p>\n</div>"
     },
     "execution_count": 142,
     "metadata": {},
     "output_type": "execute_result"
    }
   ],
   "source": [
    "pd.DataFrame({'y_val':y_val, 'y_pred_baseline':y_pred_baseline})"
   ],
   "metadata": {
    "collapsed": false,
    "pycharm": {
     "name": "#%%\n"
    }
   }
  },
  {
   "cell_type": "code",
   "execution_count": 143,
   "outputs": [
    {
     "name": "stdout",
     "output_type": "stream",
     "text": [
      "Baseline RMSE is: 2.2186799227537306\n"
     ]
    }
   ],
   "source": [
    "# Compute RMSE of baseline approach:\n",
    "rmse_baseline =  mean_squared_error(y_val, y_pred_baseline, squared=False)\n",
    "print(f'Baseline RMSE is: {rmse_baseline}')"
   ],
   "metadata": {
    "collapsed": false,
    "pycharm": {
     "name": "#%%\n"
    }
   }
  },
  {
   "cell_type": "markdown",
   "source": [
    "#### 7.2.2) Multivariate Linear Regression"
   ],
   "metadata": {
    "collapsed": false
   }
  },
  {
   "cell_type": "code",
   "execution_count": 144,
   "outputs": [],
   "source": [
    "regr = linear_model.LinearRegression()\n",
    "regr.fit(X_train, y_train)\n",
    "\n",
    "y_pred_linreg = regr.predict(X_val)\n",
    "rmse_linreg = mean_squared_error(y_val, y_pred_linreg, squared=False)"
   ],
   "metadata": {
    "collapsed": false,
    "pycharm": {
     "name": "#%%\n"
    }
   }
  },
  {
   "cell_type": "code",
   "execution_count": 145,
   "outputs": [
    {
     "name": "stdout",
     "output_type": "stream",
     "text": [
      "RMSE of LinearRegression() is: 2.124645755847725. This is an improvement compared to the baseline approach of: 4.2382934979325215 %\n"
     ]
    }
   ],
   "source": [
    "print(f'RMSE of {regr} is: {rmse_linreg}. This is an improvement compared to the baseline approach of: {-(rmse_linreg / rmse_baseline -1)*100} %')"
   ],
   "metadata": {
    "collapsed": false,
    "pycharm": {
     "name": "#%%\n"
    }
   }
  },
  {
   "cell_type": "markdown",
   "source": [
    "#### 7.2.3) Ridge Regression:"
   ],
   "metadata": {
    "collapsed": false,
    "pycharm": {
     "name": "#%% md\n"
    }
   }
  },
  {
   "cell_type": "code",
   "execution_count": 146,
   "outputs": [],
   "source": [
    "ridge_reg = linear_model.Ridge()\n",
    "ridge_reg.fit(X_train, y_train)\n",
    "\n",
    "y_pred_ridge_reg = ridge_reg.predict(X_val)\n",
    "rmse_ridge_reg = mean_squared_error(y_val, y_pred_ridge_reg, squared=False)"
   ],
   "metadata": {
    "collapsed": false,
    "pycharm": {
     "name": "#%%\n"
    }
   }
  },
  {
   "cell_type": "code",
   "execution_count": 147,
   "outputs": [
    {
     "name": "stdout",
     "output_type": "stream",
     "text": [
      "RMSE of Ridge() is: 2.1246522752150674. This is an improvement compared to the baseline approach of: 4.23799965801106 %\n"
     ]
    }
   ],
   "source": [
    "print(f'RMSE of {ridge_reg} is: {rmse_ridge_reg}. This is an improvement compared to the baseline approach of: {-(rmse_ridge_reg / rmse_baseline -1)*100} %')"
   ],
   "metadata": {
    "collapsed": false,
    "pycharm": {
     "name": "#%%\n"
    }
   }
  },
  {
   "cell_type": "markdown",
   "source": [
    "#### 7.2.4) Random Forest Regressor:"
   ],
   "metadata": {
    "collapsed": false,
    "pycharm": {
     "name": "#%% md\n"
    }
   }
  },
  {
   "cell_type": "code",
   "execution_count": 148,
   "outputs": [],
   "source": [
    "rfg_model = RandomForestRegressor()\n",
    "rfg_model.fit(X_train, y_train)\n",
    "\n",
    "y_pred_random_forest = rfg_model.predict(X_val)\n",
    "rmse_random_forest = mean_squared_error(y_val, y_pred_random_forest, squared=False)"
   ],
   "metadata": {
    "collapsed": false,
    "pycharm": {
     "name": "#%%\n"
    }
   }
  },
  {
   "cell_type": "code",
   "execution_count": 149,
   "outputs": [
    {
     "name": "stdout",
     "output_type": "stream",
     "text": [
      "RMSE of RandomForestRegressor() is: 2.328354400311656. This is an improvement compared to the baseline approach of: -4.9432311724262545 %\n"
     ]
    }
   ],
   "source": [
    "print(f'RMSE of {rfg_model} is: {rmse_random_forest}. This is an improvement compared to the baseline approach of: {-(rmse_random_forest / rmse_baseline -1)*100} %')"
   ],
   "metadata": {
    "collapsed": false,
    "pycharm": {
     "name": "#%%\n"
    }
   }
  },
  {
   "cell_type": "markdown",
   "source": [
    "#### 7.2.5) Support Vector Machines"
   ],
   "metadata": {
    "collapsed": false,
    "pycharm": {
     "name": "#%% md\n"
    }
   }
  },
  {
   "cell_type": "code",
   "execution_count": 150,
   "outputs": [],
   "source": [
    "svm = SVR()\n",
    "svm.fit(X_train, y_train)\n",
    "\n",
    "y_pred_svm = svm.predict(X_val)\n",
    "rmse_svm = mean_squared_error(y_val, y_pred_svm, squared=False)"
   ],
   "metadata": {
    "collapsed": false,
    "pycharm": {
     "name": "#%%\n"
    }
   }
  },
  {
   "cell_type": "code",
   "execution_count": 151,
   "outputs": [
    {
     "name": "stdout",
     "output_type": "stream",
     "text": [
      "RMSE of SVR() is: 3.0253722360438458. This is an improvement compared to the baseline approach of: -36.35911178611484 %\n"
     ]
    }
   ],
   "source": [
    "print(f'RMSE of {svm} is: {rmse_svm}. This is an improvement compared to the baseline approach of: {-(rmse_svm / rmse_baseline -1)*100} %')"
   ],
   "metadata": {
    "collapsed": false,
    "pycharm": {
     "name": "#%%\n"
    }
   }
  },
  {
   "cell_type": "markdown",
   "source": [
    "#### 7.2.6) XGBoost"
   ],
   "metadata": {
    "collapsed": false,
    "pycharm": {
     "name": "#%% md\n"
    }
   }
  },
  {
   "cell_type": "code",
   "execution_count": 152,
   "outputs": [],
   "source": [
    "xgb_model = xgb.XGBRegressor(verbosity=0)\n",
    "xgb_model.name = 'XGBoostRegressor'\n",
    "xgb_model.fit(X_train, y_train)\n",
    "\n",
    "y_pred_xgb = xgb_model.predict(X_val)\n",
    "rmse_xgb = mean_squared_error(y_val, y_pred_xgb, squared=False)"
   ],
   "metadata": {
    "collapsed": false,
    "pycharm": {
     "name": "#%%\n"
    }
   }
  },
  {
   "cell_type": "code",
   "execution_count": 153,
   "outputs": [
    {
     "name": "stdout",
     "output_type": "stream",
     "text": [
      "\n",
      " RMSE of XGBoostRegressor is: 1.8575278894533103. This is an improvement compared to the baseline approach of: 16.277788859790732 %\n"
     ]
    }
   ],
   "source": [
    "print(f'\\n RMSE of {xgb_model.name} is: {rmse_xgb}. This is an improvement compared to the baseline approach of: {-(rmse_xgb / rmse_baseline -1)*100} %')"
   ],
   "metadata": {
    "collapsed": false,
    "pycharm": {
     "name": "#%%\n"
    }
   }
  },
  {
   "cell_type": "code",
   "execution_count": 154,
   "outputs": [
    {
     "data": {
      "text/plain": "                            beta_opt  last_beta  xgb_bred\nweek district                                            \n89   Eichstätt              0.768745   0.787189  0.773029\n38   Hamburg                0.390489   0.395175  0.350161\n76   Rheingau-Taunus        0.819332   1.138713  0.824946\n77   Landkreis Rostock      0.513399   1.210469  0.744850\n2    Olpe                   0.296292   1.313517  0.521151\n...                              ...        ...       ...\n48   Vorpommern-Greifswald  0.272258   0.282582  0.329464\n37   Vorpommern-Rügen       0.649366   0.095626  0.419802\n44   Vechta                 0.230530   0.293331  0.250956\n20   Mettmann               0.393448   0.246074  0.330485\n75   Ludwigslust-Parchim    0.333830   0.649908  0.637643\n\n[5769 rows x 3 columns]",
      "text/html": "<div>\n<style scoped>\n    .dataframe tbody tr th:only-of-type {\n        vertical-align: middle;\n    }\n\n    .dataframe tbody tr th {\n        vertical-align: top;\n    }\n\n    .dataframe thead th {\n        text-align: right;\n    }\n</style>\n<table border=\"1\" class=\"dataframe\">\n  <thead>\n    <tr style=\"text-align: right;\">\n      <th></th>\n      <th></th>\n      <th>beta_opt</th>\n      <th>last_beta</th>\n      <th>xgb_bred</th>\n    </tr>\n    <tr>\n      <th>week</th>\n      <th>district</th>\n      <th></th>\n      <th></th>\n      <th></th>\n    </tr>\n  </thead>\n  <tbody>\n    <tr>\n      <th>89</th>\n      <th>Eichstätt</th>\n      <td>0.768745</td>\n      <td>0.787189</td>\n      <td>0.773029</td>\n    </tr>\n    <tr>\n      <th>38</th>\n      <th>Hamburg</th>\n      <td>0.390489</td>\n      <td>0.395175</td>\n      <td>0.350161</td>\n    </tr>\n    <tr>\n      <th>76</th>\n      <th>Rheingau-Taunus</th>\n      <td>0.819332</td>\n      <td>1.138713</td>\n      <td>0.824946</td>\n    </tr>\n    <tr>\n      <th>77</th>\n      <th>Landkreis Rostock</th>\n      <td>0.513399</td>\n      <td>1.210469</td>\n      <td>0.744850</td>\n    </tr>\n    <tr>\n      <th>2</th>\n      <th>Olpe</th>\n      <td>0.296292</td>\n      <td>1.313517</td>\n      <td>0.521151</td>\n    </tr>\n    <tr>\n      <th>...</th>\n      <th>...</th>\n      <td>...</td>\n      <td>...</td>\n      <td>...</td>\n    </tr>\n    <tr>\n      <th>48</th>\n      <th>Vorpommern-Greifswald</th>\n      <td>0.272258</td>\n      <td>0.282582</td>\n      <td>0.329464</td>\n    </tr>\n    <tr>\n      <th>37</th>\n      <th>Vorpommern-Rügen</th>\n      <td>0.649366</td>\n      <td>0.095626</td>\n      <td>0.419802</td>\n    </tr>\n    <tr>\n      <th>44</th>\n      <th>Vechta</th>\n      <td>0.230530</td>\n      <td>0.293331</td>\n      <td>0.250956</td>\n    </tr>\n    <tr>\n      <th>20</th>\n      <th>Mettmann</th>\n      <td>0.393448</td>\n      <td>0.246074</td>\n      <td>0.330485</td>\n    </tr>\n    <tr>\n      <th>75</th>\n      <th>Ludwigslust-Parchim</th>\n      <td>0.333830</td>\n      <td>0.649908</td>\n      <td>0.637643</td>\n    </tr>\n  </tbody>\n</table>\n<p>5769 rows × 3 columns</p>\n</div>"
     },
     "execution_count": 154,
     "metadata": {},
     "output_type": "execute_result"
    }
   ],
   "source": [
    "pd.DataFrame({'beta_opt':y_val, 'last_beta':y_pred_baseline, 'xgb_bred':y_pred_xgb})"
   ],
   "metadata": {
    "collapsed": false,
    "pycharm": {
     "name": "#%%\n"
    }
   }
  },
  {
   "cell_type": "markdown",
   "source": [
    "#### 7.2.7) Neural Network"
   ],
   "metadata": {
    "collapsed": false,
    "pycharm": {
     "name": "#%% md\n"
    }
   }
  },
  {
   "cell_type": "code",
   "execution_count": 87,
   "outputs": [],
   "source": [
    "ann_model = Sequential([\n",
    "    Dense(24, input_dim=len(X_train.columns), activation='relu'),\n",
    "    Dropout(0.2),\n",
    "    Dense(16, activation='relu'),\n",
    "    Dropout(0.2),\n",
    "    Dense(1, activation='linear')\n",
    "])\n",
    "\n",
    "\n",
    "# compile model:\n",
    "ann_model.compile(\n",
    "    loss = 'mse',\n",
    "    optimizer = 'adam',\n",
    "    metrics=[RootMeanSquaredError(name='rmse')]\n",
    ")"
   ],
   "metadata": {
    "collapsed": false,
    "pycharm": {
     "name": "#%%\n"
    }
   }
  },
  {
   "cell_type": "code",
   "execution_count": 88,
   "outputs": [
    {
     "name": "stdout",
     "output_type": "stream",
     "text": [
      "Epoch 1/20\n",
      "541/541 [==============================] - 2s 2ms/step - loss: 5.3822 - rmse: 2.3200 - val_loss: 5.0819 - val_rmse: 2.2543\n",
      "Epoch 2/20\n",
      "541/541 [==============================] - 1s 1ms/step - loss: 4.2350 - rmse: 2.0579 - val_loss: 4.3782 - val_rmse: 2.0924\n",
      "Epoch 3/20\n",
      "541/541 [==============================] - 1s 2ms/step - loss: 3.8644 - rmse: 1.9658 - val_loss: 4.4452 - val_rmse: 2.1084\n",
      "Epoch 4/20\n",
      "541/541 [==============================] - 1s 3ms/step - loss: 4.4760 - rmse: 2.1157 - val_loss: 4.9810 - val_rmse: 2.2318\n",
      "Epoch 5/20\n",
      "541/541 [==============================] - 1s 3ms/step - loss: 3.8058 - rmse: 1.9509 - val_loss: 4.5857 - val_rmse: 2.1414\n",
      "Epoch 6/20\n",
      "541/541 [==============================] - 1s 2ms/step - loss: 4.0906 - rmse: 2.0225 - val_loss: 4.7136 - val_rmse: 2.1711\n",
      "Epoch 7/20\n",
      "541/541 [==============================] - 1s 2ms/step - loss: 4.0384 - rmse: 2.0096 - val_loss: 4.4705 - val_rmse: 2.1143\n",
      "Epoch 8/20\n",
      "541/541 [==============================] - 1s 2ms/step - loss: 4.2151 - rmse: 2.0531 - val_loss: 5.3570 - val_rmse: 2.3145\n",
      "Epoch 9/20\n",
      "541/541 [==============================] - 2s 3ms/step - loss: 4.2966 - rmse: 2.0728 - val_loss: 4.7673 - val_rmse: 2.1834\n",
      "Epoch 10/20\n",
      "541/541 [==============================] - 1s 2ms/step - loss: 4.5837 - rmse: 2.1410 - val_loss: 4.8383 - val_rmse: 2.1996\n",
      "Epoch 11/20\n",
      "541/541 [==============================] - 1s 2ms/step - loss: 4.3097 - rmse: 2.0760 - val_loss: 4.8594 - val_rmse: 2.2044\n",
      "Epoch 12/20\n",
      "541/541 [==============================] - 1s 2ms/step - loss: 4.2811 - rmse: 2.0691 - val_loss: 4.5865 - val_rmse: 2.1416\n",
      "Epoch 13/20\n",
      "541/541 [==============================] - 1s 2ms/step - loss: 3.8311 - rmse: 1.9573 - val_loss: 4.2862 - val_rmse: 2.0703\n",
      "Epoch 14/20\n",
      "541/541 [==============================] - 1s 2ms/step - loss: 3.8287 - rmse: 1.9567 - val_loss: 4.7066 - val_rmse: 2.1695\n",
      "Epoch 15/20\n",
      "541/541 [==============================] - 1s 2ms/step - loss: 4.0296 - rmse: 2.0074 - val_loss: 4.5251 - val_rmse: 2.1272\n",
      "Epoch 16/20\n",
      "541/541 [==============================] - 1s 2ms/step - loss: 3.3898 - rmse: 1.8411 - val_loss: 4.2807 - val_rmse: 2.0690\n",
      "Epoch 17/20\n",
      "541/541 [==============================] - 1s 2ms/step - loss: 4.1687 - rmse: 2.0417 - val_loss: 4.3137 - val_rmse: 2.0770\n",
      "Epoch 18/20\n",
      "541/541 [==============================] - 1s 2ms/step - loss: 3.8428 - rmse: 1.9603 - val_loss: 4.5503 - val_rmse: 2.1331\n",
      "Epoch 19/20\n",
      "541/541 [==============================] - 1s 2ms/step - loss: 4.2190 - rmse: 2.0540 - val_loss: 4.5332 - val_rmse: 2.1291\n",
      "Epoch 20/20\n",
      "541/541 [==============================] - 1s 2ms/step - loss: 4.6313 - rmse: 2.1521 - val_loss: 4.8623 - val_rmse: 2.2051\n"
     ]
    }
   ],
   "source": [
    "history = ann_model.fit(X_train,\n",
    "                        y_train,\n",
    "                        epochs=20,\n",
    "                        # class_weight=class_weight,\n",
    "                        validation_data=(X_val, y_val),\n",
    "                        )"
   ],
   "metadata": {
    "collapsed": false,
    "pycharm": {
     "name": "#%%\n"
    }
   }
  },
  {
   "cell_type": "code",
   "execution_count": 107,
   "outputs": [],
   "source": [
    "y_pred_ann = ann_model.predict(X_val)\n",
    "rmse_ann = mean_squared_error(y_val, y_pred_ann, squared=False)"
   ],
   "metadata": {
    "collapsed": false,
    "pycharm": {
     "name": "#%%\n"
    }
   }
  },
  {
   "cell_type": "code",
   "execution_count": 108,
   "outputs": [
    {
     "name": "stdout",
     "output_type": "stream",
     "text": [
      "RMSE of <keras.engine.sequential.Sequential object at 0x1749228e0> is: 2.2050679851556505. This is an improvement compared to the baseline approach of: 0.6135151563991914 %\n"
     ]
    }
   ],
   "source": [
    "print(f'RMSE of {ann_model} is: {rmse_ann}. This is an improvement compared to the baseline approach of: {-(rmse_ann / rmse_baseline -1)*100} %')"
   ],
   "metadata": {
    "collapsed": false,
    "pycharm": {
     "name": "#%%\n"
    }
   }
  },
  {
   "cell_type": "code",
   "execution_count": null,
   "outputs": [],
   "source": [],
   "metadata": {
    "collapsed": false,
    "pycharm": {
     "name": "#%%\n"
    }
   }
  }
 ],
 "metadata": {
  "kernelspec": {
   "display_name": "Python 3",
   "language": "python",
   "name": "python3"
  },
  "language_info": {
   "codemirror_mode": {
    "name": "ipython",
    "version": 2
   },
   "file_extension": ".py",
   "mimetype": "text/x-python",
   "name": "python",
   "nbconvert_exporter": "python",
   "pygments_lexer": "ipython2",
   "version": "2.7.6"
  }
 },
 "nbformat": 4,
 "nbformat_minor": 0
}