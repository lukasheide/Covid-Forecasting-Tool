{
 "cells": [
  {
   "cell_type": "markdown",
   "source": [
    "# Machine Learning Layer\n",
    "#### Goal: Estimate the next beta"
   ],
   "metadata": {
    "collapsed": false,
    "pycharm": {
     "name": "#%% md\n"
    }
   }
  },
  {
   "cell_type": "code",
   "execution_count": 2,
   "outputs": [],
   "source": [
    "import pandas as pd\n",
    "import numpy as np\n",
    "import matplotlib.pyplot as plt\n",
    "import tf as tf\n",
    "from plotnine import *\n",
    "\n",
    "from sklearn.preprocessing import StandardScaler, OneHotEncoder\n",
    "from sklearn.metrics import mean_squared_error\n",
    "from sklearn import linear_model\n",
    "from sklearn.model_selection import train_test_split\n",
    "from sklearn.ensemble import RandomForestRegressor\n",
    "from sklearn.svm import SVR\n",
    "import xgboost as xgb\n",
    "\n",
    "from tensorflow import keras\n",
    "import keras.backend as K\n",
    "from keras.models import Sequential\n",
    "from keras.layers import Dense, Dropout\n",
    "from keras.metrics import RootMeanSquaredError"
   ],
   "metadata": {
    "collapsed": false,
    "pycharm": {
     "name": "#%%\n"
    }
   }
  },
  {
   "cell_type": "markdown",
   "source": [
    "## 1) Import Data:\n",
    "CSV file can be found in Teams under Model/ML_for_Beta/all_matrix_data.csv"
   ],
   "metadata": {
    "collapsed": false,
    "pycharm": {
     "name": "#%% md\n"
    }
   }
  },
  {
   "cell_type": "code",
   "execution_count": 3,
   "outputs": [],
   "source": [
    "df = pd.read_csv('../../../../Assets/Data/all_matrix_data_v2.csv', index_col=0)"
   ],
   "metadata": {
    "collapsed": false,
    "pycharm": {
     "name": "#%%\n"
    }
   }
  },
  {
   "cell_type": "code",
   "execution_count": 4,
   "outputs": [
    {
     "data": {
      "text/plain": "    week  policy_index    variant   mobility  temperature       wind  \\\n92    94         59.95          0  -1.428571     8.814286  19.942857   \n81    83         53.57  B.1.617.2   5.857143     5.728571   6.428571   \n91    93         83.93  B.1.617.2   6.285714     0.757143  13.357143   \n4      6         65.18      Other -22.428571    13.314286  12.971429   \n11    13         57.44      Other  -4.571429    14.614286  10.914286   \n..   ...           ...        ...        ...          ...        ...   \n72    74         67.86  B.1.617.2   0.142857    19.328571  12.714286   \n67    69         73.21  B.1.617.2  19.571429    18.085714   9.900000   \n64    66         73.21    B.1.1.7   0.428571    21.100000   5.771429   \n61    63         75.12    B.1.1.7  10.857143    10.100000  16.585714   \n64    66         73.21    B.1.1.7   8.285714    21.185714   4.557143   \n\n    infections          beta  beta_t_minus_1 start_date_forecasting  \\\n92   11.489796  6.026915e-22        6.933729             2022-01-03   \n81   12.377551  3.619277e-21        6.510024             2021-10-18   \n91   14.540816  6.570606e-21        8.331957             2021-12-27   \n4     4.714286  4.776496e-20        0.605319             2020-04-27   \n11    1.622449  4.990339e-20        0.752731             2020-06-15   \n..         ...           ...             ...                    ...   \n72    1.918367  1.262921e+01        0.000002             2021-08-16   \n67    1.408163  1.627833e+01        0.009034             2021-07-12   \n64    0.612245  1.925268e+01        0.013506             2021-06-21   \n61    0.704082  2.020258e+01        0.020218             2021-05-31   \n64    1.428571  2.227038e+01        0.024873             2021-06-21   \n\n                district  \n92     Stadt Zweibrücken  \n81             Memmingen  \n91            Kaufbeuren  \n4                  Essen  \n11     Aichach-Friedberg  \n..                   ...  \n72         Weimarer Land  \n67             Ahrweiler  \n64   Dillingen a.d.Donau  \n61           Wesermarsch  \n64  Berchtesgadener Land  \n\n[37200 rows x 11 columns]",
      "text/html": "<div>\n<style scoped>\n    .dataframe tbody tr th:only-of-type {\n        vertical-align: middle;\n    }\n\n    .dataframe tbody tr th {\n        vertical-align: top;\n    }\n\n    .dataframe thead th {\n        text-align: right;\n    }\n</style>\n<table border=\"1\" class=\"dataframe\">\n  <thead>\n    <tr style=\"text-align: right;\">\n      <th></th>\n      <th>week</th>\n      <th>policy_index</th>\n      <th>variant</th>\n      <th>mobility</th>\n      <th>temperature</th>\n      <th>wind</th>\n      <th>infections</th>\n      <th>beta</th>\n      <th>beta_t_minus_1</th>\n      <th>start_date_forecasting</th>\n      <th>district</th>\n    </tr>\n  </thead>\n  <tbody>\n    <tr>\n      <th>92</th>\n      <td>94</td>\n      <td>59.95</td>\n      <td>0</td>\n      <td>-1.428571</td>\n      <td>8.814286</td>\n      <td>19.942857</td>\n      <td>11.489796</td>\n      <td>6.026915e-22</td>\n      <td>6.933729</td>\n      <td>2022-01-03</td>\n      <td>Stadt Zweibrücken</td>\n    </tr>\n    <tr>\n      <th>81</th>\n      <td>83</td>\n      <td>53.57</td>\n      <td>B.1.617.2</td>\n      <td>5.857143</td>\n      <td>5.728571</td>\n      <td>6.428571</td>\n      <td>12.377551</td>\n      <td>3.619277e-21</td>\n      <td>6.510024</td>\n      <td>2021-10-18</td>\n      <td>Memmingen</td>\n    </tr>\n    <tr>\n      <th>91</th>\n      <td>93</td>\n      <td>83.93</td>\n      <td>B.1.617.2</td>\n      <td>6.285714</td>\n      <td>0.757143</td>\n      <td>13.357143</td>\n      <td>14.540816</td>\n      <td>6.570606e-21</td>\n      <td>8.331957</td>\n      <td>2021-12-27</td>\n      <td>Kaufbeuren</td>\n    </tr>\n    <tr>\n      <th>4</th>\n      <td>6</td>\n      <td>65.18</td>\n      <td>Other</td>\n      <td>-22.428571</td>\n      <td>13.314286</td>\n      <td>12.971429</td>\n      <td>4.714286</td>\n      <td>4.776496e-20</td>\n      <td>0.605319</td>\n      <td>2020-04-27</td>\n      <td>Essen</td>\n    </tr>\n    <tr>\n      <th>11</th>\n      <td>13</td>\n      <td>57.44</td>\n      <td>Other</td>\n      <td>-4.571429</td>\n      <td>14.614286</td>\n      <td>10.914286</td>\n      <td>1.622449</td>\n      <td>4.990339e-20</td>\n      <td>0.752731</td>\n      <td>2020-06-15</td>\n      <td>Aichach-Friedberg</td>\n    </tr>\n    <tr>\n      <th>...</th>\n      <td>...</td>\n      <td>...</td>\n      <td>...</td>\n      <td>...</td>\n      <td>...</td>\n      <td>...</td>\n      <td>...</td>\n      <td>...</td>\n      <td>...</td>\n      <td>...</td>\n      <td>...</td>\n    </tr>\n    <tr>\n      <th>72</th>\n      <td>74</td>\n      <td>67.86</td>\n      <td>B.1.617.2</td>\n      <td>0.142857</td>\n      <td>19.328571</td>\n      <td>12.714286</td>\n      <td>1.918367</td>\n      <td>1.262921e+01</td>\n      <td>0.000002</td>\n      <td>2021-08-16</td>\n      <td>Weimarer Land</td>\n    </tr>\n    <tr>\n      <th>67</th>\n      <td>69</td>\n      <td>73.21</td>\n      <td>B.1.617.2</td>\n      <td>19.571429</td>\n      <td>18.085714</td>\n      <td>9.900000</td>\n      <td>1.408163</td>\n      <td>1.627833e+01</td>\n      <td>0.009034</td>\n      <td>2021-07-12</td>\n      <td>Ahrweiler</td>\n    </tr>\n    <tr>\n      <th>64</th>\n      <td>66</td>\n      <td>73.21</td>\n      <td>B.1.1.7</td>\n      <td>0.428571</td>\n      <td>21.100000</td>\n      <td>5.771429</td>\n      <td>0.612245</td>\n      <td>1.925268e+01</td>\n      <td>0.013506</td>\n      <td>2021-06-21</td>\n      <td>Dillingen a.d.Donau</td>\n    </tr>\n    <tr>\n      <th>61</th>\n      <td>63</td>\n      <td>75.12</td>\n      <td>B.1.1.7</td>\n      <td>10.857143</td>\n      <td>10.100000</td>\n      <td>16.585714</td>\n      <td>0.704082</td>\n      <td>2.020258e+01</td>\n      <td>0.020218</td>\n      <td>2021-05-31</td>\n      <td>Wesermarsch</td>\n    </tr>\n    <tr>\n      <th>64</th>\n      <td>66</td>\n      <td>73.21</td>\n      <td>B.1.1.7</td>\n      <td>8.285714</td>\n      <td>21.185714</td>\n      <td>4.557143</td>\n      <td>1.428571</td>\n      <td>2.227038e+01</td>\n      <td>0.024873</td>\n      <td>2021-06-21</td>\n      <td>Berchtesgadener Land</td>\n    </tr>\n  </tbody>\n</table>\n<p>37200 rows × 11 columns</p>\n</div>"
     },
     "execution_count": 4,
     "metadata": {},
     "output_type": "execute_result"
    }
   ],
   "source": [
    "df.sort_values('beta')"
   ],
   "metadata": {
    "collapsed": false,
    "pycharm": {
     "name": "#%%\n"
    }
   }
  },
  {
   "cell_type": "markdown",
   "source": [
    "## 2) Visualize Data:\n",
    "#### 2.1) Average Infections (training period):"
   ],
   "metadata": {
    "collapsed": false,
    "pycharm": {
     "name": "#%% md\n"
    }
   }
  },
  {
   "cell_type": "code",
   "execution_count": 5,
   "outputs": [
    {
     "data": {
      "text/plain": "<Figure size 640x480 with 1 Axes>",
      "image/png": "[encoded data removed]"
     },
     "metadata": {},
     "output_type": "display_data"
    },
    {
     "data": {
      "text/plain": "<ggplot: (379426557)>"
     },
     "execution_count": 5,
     "metadata": {},
     "output_type": "execute_result"
    }
   ],
   "source": [
    "ggplot(df, aes(x='infections')) + geom_histogram(binwidth=5) + coord_cartesian(xlim=(0,250),ylim=(0,10000))"
   ],
   "metadata": {
    "collapsed": false,
    "pycharm": {
     "name": "#%%\n"
    }
   }
  },
  {
   "cell_type": "markdown",
   "source": [
    "#### 2.2) Fitted beta:"
   ],
   "metadata": {
    "collapsed": false,
    "pycharm": {
     "name": "#%% md\n"
    }
   },
   "execution_count": 50
  },
  {
   "cell_type": "code",
   "execution_count": 6,
   "outputs": [
    {
     "data": {
      "text/plain": "<Figure size 640x480 with 1 Axes>",
      "image/png": "[encoded data removed]"
     },
     "metadata": {},
     "output_type": "display_data"
    },
    {
     "data": {
      "text/plain": "<ggplot: (379682416)>"
     },
     "execution_count": 6,
     "metadata": {},
     "output_type": "execute_result"
    }
   ],
   "source": [
    "ggplot(df, aes(x='beta')) + geom_histogram(binwidth=0.025) + coord_cartesian(xlim=(0,2),ylim=(0,5000))"
   ],
   "metadata": {
    "collapsed": false,
    "pycharm": {
     "name": "#%%\n"
    }
   }
  },
  {
   "cell_type": "markdown",
   "source": [
    "#### 2.3) Average infections Münster"
   ],
   "metadata": {
    "collapsed": false,
    "pycharm": {
     "name": "#%% md\n"
    }
   }
  },
  {
   "cell_type": "code",
   "execution_count": 12,
   "outputs": [
    {
     "data": {
      "text/plain": "<Figure size 640x480 with 1 Axes>",
      "image/png": "[encoded data removed]"
     },
     "metadata": {},
     "output_type": "display_data"
    },
    {
     "data": {
      "text/plain": "<ggplot: (343612269)>"
     },
     "execution_count": 6,
     "metadata": {},
     "output_type": "execute_result"
    },
    {
     "data": {
      "text/plain": "<Figure size 640x480 with 1 Axes>",
      "image/png": "[encoded data removed]"
     },
     "metadata": {},
     "output_type": "display_data"
    },
    {
     "data": {
      "text/plain": "<ggplot: (343215147)>"
     },
     "execution_count": 12,
     "metadata": {},
     "output_type": "execute_result"
    }
   ],
   "source": [
    "district = 'Münster'\n",
    "df_v2_3 = df[df['district']==district][['week','district','infections','beta']]\n",
    "\n",
    "# Devide both columns by their mean so that they fit in one plot:\n",
    "df_v2_3['infections'] = df_v2_3['infections']/df_v2_3['infections'].mean()\n",
    "df_v2_3['beta'] = df_v2_3['beta']/df_v2_3['beta'].mean()\n",
    "\n",
    "ggplot(df_v2_3) \\\n",
    "+ geom_line(aes(x='week', y='beta'), color='yellow')\\\n",
    "+ geom_line(aes(x='week', y='infections'), color='green', size=2)"
   ],
   "metadata": {
    "collapsed": false,
    "pycharm": {
     "name": "#%%\n"
    }
   }
  },
  {
   "cell_type": "markdown",
   "source": [
    "#### 2.4) Policy index vs infections: (Germany)"
   ],
   "metadata": {
    "collapsed": false,
    "pycharm": {
     "name": "#%% md\n"
    }
   }
  },
  {
   "cell_type": "code",
   "execution_count": 13,
   "outputs": [
    {
     "data": {
      "text/plain": "<Figure size 640x480 with 1 Axes>",
      "image/png": "[encoded data removed]"
     },
     "metadata": {},
     "output_type": "display_data"
    },
    {
     "data": {
      "text/plain": "<ggplot: (343490244)>"
     },
     "execution_count": 13,
     "metadata": {},
     "output_type": "execute_result"
    }
   ],
   "source": [
    "df_v2_4 = df.groupby('week').sum()\n",
    "\n",
    "# Devide both columns by their max so that they fit in one plot:\n",
    "df_v2_4['infections'] = df_v2_4['infections']/df_v2_4['infections'].max()\n",
    "df_v2_4['policy_index'] = df_v2_4['policy_index']/df_v2_4['policy_index'].max()\n",
    "\n",
    "ggplot(df_v2_4.reset_index())\\\n",
    "+ geom_line(aes(x='week', y='policy_index'), color='yellow')\\\n",
    "+ geom_line(aes(x='week', y='infections'), color='green', size=2)"
   ],
   "metadata": {
    "collapsed": false,
    "pycharm": {
     "name": "#%%\n"
    }
   }
  },
  {
   "cell_type": "markdown",
   "source": [
    "## 3) Feature Engineering:\n",
    "#### Lagged beta: (NO LONGER NECESSARY!)"
   ],
   "metadata": {
    "collapsed": false,
    "pycharm": {
     "name": "#%% md\n"
    }
   }
  },
  {
   "cell_type": "code",
   "execution_count": 7,
   "outputs": [],
   "source": [
    "# Sort values by district and week before lagging:\n",
    "df.sort_values(['district','week'], inplace=True)"
   ],
   "metadata": {
    "collapsed": false,
    "pycharm": {
     "name": "#%%\n"
    }
   }
  },
  {
   "cell_type": "code",
   "execution_count": 8,
   "outputs": [
    {
     "data": {
      "text/plain": "0.47832132020327517"
     },
     "execution_count": 8,
     "metadata": {},
     "output_type": "execute_result"
    }
   ],
   "source": [
    "# Check out correlation between current and previous weeks beta:\n",
    "df['beta'].corr(df['beta_t_minus_1'] )"
   ],
   "metadata": {
    "collapsed": false,
    "pycharm": {
     "name": "#%%\n"
    }
   }
  },
  {
   "cell_type": "markdown",
   "source": [
    "## 4) Data cleaning:\n",
    "#### Identify missing values:"
   ],
   "metadata": {
    "collapsed": false,
    "pycharm": {
     "name": "#%% md\n"
    }
   },
   "outputs": [
    {
     "data": {
      "text/plain": "week                  0\npolicy_index          0\nvariant               0\nmobility              0\ntemperature         243\nwind               3827\ninfections            0\nbeta                  0\ndistrict              0\nbeta_lag_1_week       0\nbeta_lag_2_week       0\nbeta_lag_3_week       0\ndtype: int64"
     },
     "execution_count": 77,
     "metadata": {},
     "output_type": "execute_result"
    }
   ],
   "execution_count": 77
  },
  {
   "cell_type": "code",
   "execution_count": 10,
   "outputs": [
    {
     "data": {
      "text/plain": "week                         0\npolicy_index                 0\nvariant                      0\nmobility                     0\ntemperature                236\nwind                      3739\ninfections                   0\nbeta                         0\nbeta_t_minus_1               0\nstart_date_forecasting       0\ndistrict                     0\ndtype: int64"
     },
     "execution_count": 10,
     "metadata": {},
     "output_type": "execute_result"
    }
   ],
   "source": [
    "df.isnull().sum()"
   ],
   "metadata": {
    "collapsed": false,
    "pycharm": {
     "name": "#%%\n"
    }
   }
  },
  {
   "cell_type": "markdown",
   "source": [
    "#### Fill missing values with previous column:\n",
    "Forward fill: Fill down (-> if missing value in week 50 use value of week 49)"
   ],
   "metadata": {
    "collapsed": false,
    "pycharm": {
     "name": "#%% md\n"
    }
   }
  },
  {
   "cell_type": "code",
   "execution_count": 11,
   "outputs": [],
   "source": [
    "df_v4 = df.copy()"
   ],
   "metadata": {
    "collapsed": false,
    "pycharm": {
     "name": "#%%\n"
    }
   }
  },
  {
   "cell_type": "code",
   "execution_count": 12,
   "outputs": [
    {
     "name": "stderr",
     "output_type": "stream",
     "text": [
      "/var/folders/f9/_57rk_kx5jqbkd8vvnwckf2c0000gn/T/ipykernel_20447/1409488165.py:1: FutureWarning: Dropping invalid columns in DataFrameGroupBy.transform is deprecated. In a future version, a TypeError will be raised. Before calling .transform, select only columns which should be valid for the transforming function.\n",
      "/var/folders/f9/_57rk_kx5jqbkd8vvnwckf2c0000gn/T/ipykernel_20447/1409488165.py:2: FutureWarning: Dropping invalid columns in DataFrameGroupBy.transform is deprecated. In a future version, a TypeError will be raised. Before calling .transform, select only columns which should be valid for the transforming function.\n"
     ]
    }
   ],
   "source": [
    "df_v4['temperature'] = df.groupby(\"week\").transform(lambda x: x.fillna(x.mean()))['temperature']\n",
    "df_v4['wind'] = df.groupby(\"week\").transform(lambda x: x.fillna(x.mean()))['wind']"
   ],
   "metadata": {
    "collapsed": false,
    "pycharm": {
     "name": "#%%\n"
    }
   }
  },
  {
   "cell_type": "code",
   "execution_count": 13,
   "outputs": [
    {
     "data": {
      "text/plain": "    week  policy_index    variant   mobility  temperature       wind  \\\n0      2     62.500000      Other -41.714286     5.171429  14.975758   \n1      3     63.778571      Other -34.428571     5.914286  11.157143   \n2      4     65.180000      Other -29.285714    15.071429  10.571429   \n3      5     65.180000      Other -32.857143    11.085714  11.071429   \n4      6     65.180000      Other -23.714286    13.500000  17.157143   \n..   ...           ...        ...        ...          ...        ...   \n88    90     81.761429  B.1.617.2  -9.714286     1.757143  17.071429   \n89    91     83.930000  B.1.617.2  -2.571429     0.428571   8.528571   \n90    92     83.930000  B.1.617.2  -1.000000     4.842857  10.485714   \n91    93     83.930000  B.1.617.2  -4.285714    -1.200000  10.700000   \n92    94     59.950000          0 -15.714286     7.871429  16.885714   \n\n    infections      beta  beta_t_minus_1 start_date_forecasting district  \n0    52.469388  0.279336        0.323306             2020-03-30   Aachen  \n1    36.877551  0.144479        0.378790             2020-04-06   Aachen  \n2    25.244898  0.190455        0.180074             2020-04-13   Aachen  \n3    16.683673  0.180385        0.177962             2020-04-20   Aachen  \n4     8.091837  0.062952        0.251573             2020-04-27   Aachen  \n..         ...       ...             ...                    ...      ...  \n88  412.040816  0.498803        0.447938             2021-12-06  Zwickau  \n89  305.561224  0.437243        0.520256             2021-12-13  Zwickau  \n90  202.959184  0.377533        0.509719             2021-12-20  Zwickau  \n91  143.448980  0.511456        0.393324             2021-12-27  Zwickau  \n92  106.755102  0.485335        0.530693             2022-01-03  Zwickau  \n\n[37200 rows x 11 columns]",
      "text/html": "<div>\n<style scoped>\n    .dataframe tbody tr th:only-of-type {\n        vertical-align: middle;\n    }\n\n    .dataframe tbody tr th {\n        vertical-align: top;\n    }\n\n    .dataframe thead th {\n        text-align: right;\n    }\n</style>\n<table border=\"1\" class=\"dataframe\">\n  <thead>\n    <tr style=\"text-align: right;\">\n      <th></th>\n      <th>week</th>\n      <th>policy_index</th>\n      <th>variant</th>\n      <th>mobility</th>\n      <th>temperature</th>\n      <th>wind</th>\n      <th>infections</th>\n      <th>beta</th>\n      <th>beta_t_minus_1</th>\n      <th>start_date_forecasting</th>\n      <th>district</th>\n    </tr>\n  </thead>\n  <tbody>\n    <tr>\n      <th>0</th>\n      <td>2</td>\n      <td>62.500000</td>\n      <td>Other</td>\n      <td>-41.714286</td>\n      <td>5.171429</td>\n      <td>14.975758</td>\n      <td>52.469388</td>\n      <td>0.279336</td>\n      <td>0.323306</td>\n      <td>2020-03-30</td>\n      <td>Aachen</td>\n    </tr>\n    <tr>\n      <th>1</th>\n      <td>3</td>\n      <td>63.778571</td>\n      <td>Other</td>\n      <td>-34.428571</td>\n      <td>5.914286</td>\n      <td>11.157143</td>\n      <td>36.877551</td>\n      <td>0.144479</td>\n      <td>0.378790</td>\n      <td>2020-04-06</td>\n      <td>Aachen</td>\n    </tr>\n    <tr>\n      <th>2</th>\n      <td>4</td>\n      <td>65.180000</td>\n      <td>Other</td>\n      <td>-29.285714</td>\n      <td>15.071429</td>\n      <td>10.571429</td>\n      <td>25.244898</td>\n      <td>0.190455</td>\n      <td>0.180074</td>\n      <td>2020-04-13</td>\n      <td>Aachen</td>\n    </tr>\n    <tr>\n      <th>3</th>\n      <td>5</td>\n      <td>65.180000</td>\n      <td>Other</td>\n      <td>-32.857143</td>\n      <td>11.085714</td>\n      <td>11.071429</td>\n      <td>16.683673</td>\n      <td>0.180385</td>\n      <td>0.177962</td>\n      <td>2020-04-20</td>\n      <td>Aachen</td>\n    </tr>\n    <tr>\n      <th>4</th>\n      <td>6</td>\n      <td>65.180000</td>\n      <td>Other</td>\n      <td>-23.714286</td>\n      <td>13.500000</td>\n      <td>17.157143</td>\n      <td>8.091837</td>\n      <td>0.062952</td>\n      <td>0.251573</td>\n      <td>2020-04-27</td>\n      <td>Aachen</td>\n    </tr>\n    <tr>\n      <th>...</th>\n      <td>...</td>\n      <td>...</td>\n      <td>...</td>\n      <td>...</td>\n      <td>...</td>\n      <td>...</td>\n      <td>...</td>\n      <td>...</td>\n      <td>...</td>\n      <td>...</td>\n      <td>...</td>\n    </tr>\n    <tr>\n      <th>88</th>\n      <td>90</td>\n      <td>81.761429</td>\n      <td>B.1.617.2</td>\n      <td>-9.714286</td>\n      <td>1.757143</td>\n      <td>17.071429</td>\n      <td>412.040816</td>\n      <td>0.498803</td>\n      <td>0.447938</td>\n      <td>2021-12-06</td>\n      <td>Zwickau</td>\n    </tr>\n    <tr>\n      <th>89</th>\n      <td>91</td>\n      <td>83.930000</td>\n      <td>B.1.617.2</td>\n      <td>-2.571429</td>\n      <td>0.428571</td>\n      <td>8.528571</td>\n      <td>305.561224</td>\n      <td>0.437243</td>\n      <td>0.520256</td>\n      <td>2021-12-13</td>\n      <td>Zwickau</td>\n    </tr>\n    <tr>\n      <th>90</th>\n      <td>92</td>\n      <td>83.930000</td>\n      <td>B.1.617.2</td>\n      <td>-1.000000</td>\n      <td>4.842857</td>\n      <td>10.485714</td>\n      <td>202.959184</td>\n      <td>0.377533</td>\n      <td>0.509719</td>\n      <td>2021-12-20</td>\n      <td>Zwickau</td>\n    </tr>\n    <tr>\n      <th>91</th>\n      <td>93</td>\n      <td>83.930000</td>\n      <td>B.1.617.2</td>\n      <td>-4.285714</td>\n      <td>-1.200000</td>\n      <td>10.700000</td>\n      <td>143.448980</td>\n      <td>0.511456</td>\n      <td>0.393324</td>\n      <td>2021-12-27</td>\n      <td>Zwickau</td>\n    </tr>\n    <tr>\n      <th>92</th>\n      <td>94</td>\n      <td>59.950000</td>\n      <td>0</td>\n      <td>-15.714286</td>\n      <td>7.871429</td>\n      <td>16.885714</td>\n      <td>106.755102</td>\n      <td>0.485335</td>\n      <td>0.530693</td>\n      <td>2022-01-03</td>\n      <td>Zwickau</td>\n    </tr>\n  </tbody>\n</table>\n<p>37200 rows × 11 columns</p>\n</div>"
     },
     "execution_count": 13,
     "metadata": {},
     "output_type": "execute_result"
    }
   ],
   "source": [
    "df_v4"
   ],
   "metadata": {
    "collapsed": false,
    "pycharm": {
     "name": "#%%\n"
    }
   }
  },
  {
   "cell_type": "markdown",
   "source": [
    "## 5) Outlier removal:\n"
   ],
   "metadata": {
    "collapsed": false
   }
  },
  {
   "cell_type": "code",
   "execution_count": 14,
   "outputs": [],
   "source": [
    "# Identify outliers:"
   ],
   "metadata": {
    "collapsed": false,
    "pycharm": {
     "name": "#%%\n"
    }
   }
  },
  {
   "cell_type": "code",
   "execution_count": 17,
   "outputs": [
    {
     "data": {
      "text/plain": "    week  policy_index    variant   mobility  temperature       wind  \\\n3      5     65.180000      Other -28.428571    12.542857  11.685714   \n43    45     70.710000      Other  -0.142857     2.742857  18.042857   \n27    29     54.460000      Other  17.142857    10.942857   9.785714   \n36    38     61.310000      Other  -4.142857     2.657143  14.200000   \n61    63     75.120000    B.1.1.7  -5.428571    12.414286  14.985714   \n..   ...           ...        ...        ...          ...        ...   \n84    86     58.040000  B.1.617.2  -3.714286     7.671429  17.071429   \n73    75     67.092857  B.1.617.2   3.000000    16.785714  10.000000   \n91    93     83.930000  B.1.617.2   6.285714     0.757143  13.357143   \n84    86     58.040000  B.1.617.2  54.714286     8.000000  13.071429   \n72    74     67.860000  B.1.617.2 -11.857143    20.028571   5.271429   \n\n    infections          beta  beta_t_minus_1 start_date_forecasting  \\\n3    10.887755  2.785730e-02        0.001777             2020-04-20   \n43   38.428571  2.246029e-01        0.009794             2021-01-25   \n27   12.112245  9.797257e-01        0.017700             2020-10-05   \n36   12.316327  6.285718e-01        0.029280             2020-12-07   \n61   15.295918  2.284658e-01        0.041091             2021-05-31   \n..         ...           ...             ...                    ...   \n84   34.581633  5.782073e+00        7.691740             2021-11-08   \n73   19.397959  4.412497e+00        8.215394             2021-08-23   \n91   14.540816  6.570606e-21        8.331957             2021-12-27   \n84   32.663265  4.521375e+00        8.510537             2021-11-08   \n72   13.959184  5.968177e+00       10.408147             2021-08-16   \n\n                       district  \n3   Regionalverband Saarbrücken  \n43             Mansfeld-Südharz  \n27         Berchtesgadener Land  \n36                Wilhelmshaven  \n61  Regionalverband Saarbrücken  \n..                          ...  \n84              Bayreuth, Stadt  \n73              Schwäbisch Hall  \n91                   Kaufbeuren  \n84             Frankfurt (Oder)  \n72             Rosenheim, Stadt  \n\n[19233 rows x 11 columns]",
      "text/html": "<div>\n<style scoped>\n    .dataframe tbody tr th:only-of-type {\n        vertical-align: middle;\n    }\n\n    .dataframe tbody tr th {\n        vertical-align: top;\n    }\n\n    .dataframe thead th {\n        text-align: right;\n    }\n</style>\n<table border=\"1\" class=\"dataframe\">\n  <thead>\n    <tr style=\"text-align: right;\">\n      <th></th>\n      <th>week</th>\n      <th>policy_index</th>\n      <th>variant</th>\n      <th>mobility</th>\n      <th>temperature</th>\n      <th>wind</th>\n      <th>infections</th>\n      <th>beta</th>\n      <th>beta_t_minus_1</th>\n      <th>start_date_forecasting</th>\n      <th>district</th>\n    </tr>\n  </thead>\n  <tbody>\n    <tr>\n      <th>3</th>\n      <td>5</td>\n      <td>65.180000</td>\n      <td>Other</td>\n      <td>-28.428571</td>\n      <td>12.542857</td>\n      <td>11.685714</td>\n      <td>10.887755</td>\n      <td>2.785730e-02</td>\n      <td>0.001777</td>\n      <td>2020-04-20</td>\n      <td>Regionalverband Saarbrücken</td>\n    </tr>\n    <tr>\n      <th>43</th>\n      <td>45</td>\n      <td>70.710000</td>\n      <td>Other</td>\n      <td>-0.142857</td>\n      <td>2.742857</td>\n      <td>18.042857</td>\n      <td>38.428571</td>\n      <td>2.246029e-01</td>\n      <td>0.009794</td>\n      <td>2021-01-25</td>\n      <td>Mansfeld-Südharz</td>\n    </tr>\n    <tr>\n      <th>27</th>\n      <td>29</td>\n      <td>54.460000</td>\n      <td>Other</td>\n      <td>17.142857</td>\n      <td>10.942857</td>\n      <td>9.785714</td>\n      <td>12.112245</td>\n      <td>9.797257e-01</td>\n      <td>0.017700</td>\n      <td>2020-10-05</td>\n      <td>Berchtesgadener Land</td>\n    </tr>\n    <tr>\n      <th>36</th>\n      <td>38</td>\n      <td>61.310000</td>\n      <td>Other</td>\n      <td>-4.142857</td>\n      <td>2.657143</td>\n      <td>14.200000</td>\n      <td>12.316327</td>\n      <td>6.285718e-01</td>\n      <td>0.029280</td>\n      <td>2020-12-07</td>\n      <td>Wilhelmshaven</td>\n    </tr>\n    <tr>\n      <th>61</th>\n      <td>63</td>\n      <td>75.120000</td>\n      <td>B.1.1.7</td>\n      <td>-5.428571</td>\n      <td>12.414286</td>\n      <td>14.985714</td>\n      <td>15.295918</td>\n      <td>2.284658e-01</td>\n      <td>0.041091</td>\n      <td>2021-05-31</td>\n      <td>Regionalverband Saarbrücken</td>\n    </tr>\n    <tr>\n      <th>...</th>\n      <td>...</td>\n      <td>...</td>\n      <td>...</td>\n      <td>...</td>\n      <td>...</td>\n      <td>...</td>\n      <td>...</td>\n      <td>...</td>\n      <td>...</td>\n      <td>...</td>\n      <td>...</td>\n    </tr>\n    <tr>\n      <th>84</th>\n      <td>86</td>\n      <td>58.040000</td>\n      <td>B.1.617.2</td>\n      <td>-3.714286</td>\n      <td>7.671429</td>\n      <td>17.071429</td>\n      <td>34.581633</td>\n      <td>5.782073e+00</td>\n      <td>7.691740</td>\n      <td>2021-11-08</td>\n      <td>Bayreuth, Stadt</td>\n    </tr>\n    <tr>\n      <th>73</th>\n      <td>75</td>\n      <td>67.092857</td>\n      <td>B.1.617.2</td>\n      <td>3.000000</td>\n      <td>16.785714</td>\n      <td>10.000000</td>\n      <td>19.397959</td>\n      <td>4.412497e+00</td>\n      <td>8.215394</td>\n      <td>2021-08-23</td>\n      <td>Schwäbisch Hall</td>\n    </tr>\n    <tr>\n      <th>91</th>\n      <td>93</td>\n      <td>83.930000</td>\n      <td>B.1.617.2</td>\n      <td>6.285714</td>\n      <td>0.757143</td>\n      <td>13.357143</td>\n      <td>14.540816</td>\n      <td>6.570606e-21</td>\n      <td>8.331957</td>\n      <td>2021-12-27</td>\n      <td>Kaufbeuren</td>\n    </tr>\n    <tr>\n      <th>84</th>\n      <td>86</td>\n      <td>58.040000</td>\n      <td>B.1.617.2</td>\n      <td>54.714286</td>\n      <td>8.000000</td>\n      <td>13.071429</td>\n      <td>32.663265</td>\n      <td>4.521375e+00</td>\n      <td>8.510537</td>\n      <td>2021-11-08</td>\n      <td>Frankfurt (Oder)</td>\n    </tr>\n    <tr>\n      <th>72</th>\n      <td>74</td>\n      <td>67.860000</td>\n      <td>B.1.617.2</td>\n      <td>-11.857143</td>\n      <td>20.028571</td>\n      <td>5.271429</td>\n      <td>13.959184</td>\n      <td>5.968177e+00</td>\n      <td>10.408147</td>\n      <td>2021-08-16</td>\n      <td>Rosenheim, Stadt</td>\n    </tr>\n  </tbody>\n</table>\n<p>19233 rows × 11 columns</p>\n</div>"
     },
     "execution_count": 17,
     "metadata": {},
     "output_type": "execute_result"
    }
   ],
   "source": [
    "df_v4[df_v4['infections'] > 10].sort_values('beta_t_minus_1', ascending=True)"
   ],
   "metadata": {
    "collapsed": false,
    "pycharm": {
     "name": "#%%\n"
    }
   }
  },
  {
   "cell_type": "markdown",
   "source": [
    "#### 5.1) Infection counts:\n",
    "Remove weeks in which the average number of daily infections where below a threshold as for extremely low values it is really hard to forecast beta:"
   ],
   "metadata": {
    "collapsed": false,
    "pycharm": {
     "name": "#%% md\n"
    }
   }
  },
  {
   "cell_type": "code",
   "execution_count": 18,
   "outputs": [],
   "source": [
    "# Drop all rows in which average number of infections is below 5:\n",
    "threshold = 10\n",
    "df_v5_1 = df_v4[df_v4['infections'] > threshold]"
   ],
   "metadata": {
    "collapsed": false,
    "pycharm": {
     "name": "#%%\n"
    }
   }
  },
  {
   "cell_type": "markdown",
   "source": [
    "#### 5.2) Beta values:"
   ],
   "metadata": {
    "collapsed": false
   }
  },
  {
   "cell_type": "code",
   "execution_count": 19,
   "outputs": [],
   "source": [
    "# Drop all rows in which the beta value is < 0.025:\n",
    "threshold = 0.025\n",
    "df_v5_2 = df_v5_1[df_v5_1['beta'] > threshold]"
   ],
   "metadata": {
    "collapsed": false,
    "pycharm": {
     "name": "#%%\n"
    }
   }
  },
  {
   "cell_type": "markdown",
   "source": [
    "## 6) Preprocessing columns:\n",
    "#### 6.1) Handling categorical columns:"
   ],
   "metadata": {
    "collapsed": false,
    "pycharm": {
     "name": "#%% md\n"
    }
   }
  },
  {
   "cell_type": "code",
   "execution_count": 28,
   "outputs": [],
   "source": [
    "# Only use week and district as index columns:\n",
    "df_v6_1 = df_v5_2.set_index(['week','district','start_date_forecasting'])"
   ],
   "metadata": {
    "collapsed": false,
    "pycharm": {
     "name": "#%%\n"
    }
   }
  },
  {
   "cell_type": "code",
   "execution_count": 29,
   "outputs": [],
   "source": [
    "# One hot-encode variant columns:\n",
    "df_v6_2_a = pd.get_dummies(df_v6_1['variant'])\n",
    "df_v6_2_b = df_v6_1.drop(columns='variant', axis=1)\n",
    "\n",
    "df_v6_2_c = pd.concat([df_v6_2_a,df_v6_2_b], axis=1)"
   ],
   "metadata": {
    "collapsed": false,
    "pycharm": {
     "name": "#%%\n"
    }
   }
  },
  {
   "cell_type": "code",
   "execution_count": 30,
   "outputs": [],
   "source": [
    "# Drop \"other\" variant column to prevent dummy variable trap:\n",
    "df_v6_2_d = df_v6_2_c.drop(columns='Other', axis=1)"
   ],
   "metadata": {
    "collapsed": false,
    "pycharm": {
     "name": "#%%\n"
    }
   }
  },
  {
   "cell_type": "code",
   "execution_count": 31,
   "outputs": [],
   "source": [
    "# Drop zero column:\n",
    "df_v6_2_e = df_v6_2_d.drop(columns='0', axis=1)"
   ],
   "metadata": {
    "collapsed": false,
    "pycharm": {
     "name": "#%%\n"
    }
   }
  },
  {
   "cell_type": "code",
   "execution_count": 32,
   "outputs": [
    {
     "data": {
      "text/plain": "                                      B.1.1.7  B.1.617.2  policy_index  \\\nweek district start_date_forecasting                                     \n2    Aachen   2020-03-30                    0          0     62.500000   \n3    Aachen   2020-04-06                    0          0     63.778571   \n4    Aachen   2020-04-13                    0          0     65.180000   \n5    Aachen   2020-04-20                    0          0     65.180000   \n25   Aachen   2020-09-07                    0          0     58.032857   \n...                                       ...        ...           ...   \n90   Zwickau  2021-12-06                    0          1     81.761429   \n91   Zwickau  2021-12-13                    0          1     83.930000   \n92   Zwickau  2021-12-20                    0          1     83.930000   \n93   Zwickau  2021-12-27                    0          1     83.930000   \n94   Zwickau  2022-01-03                    0          0     59.950000   \n\n                                       mobility  temperature       wind  \\\nweek district start_date_forecasting                                      \n2    Aachen   2020-03-30             -41.714286     5.171429  14.975758   \n3    Aachen   2020-04-06             -34.428571     5.914286  11.157143   \n4    Aachen   2020-04-13             -29.285714    15.071429  10.571429   \n5    Aachen   2020-04-20             -32.857143    11.085714  11.071429   \n25   Aachen   2020-09-07               4.000000    15.171429  10.200000   \n...                                         ...          ...        ...   \n90   Zwickau  2021-12-06              -9.714286     1.757143  17.071429   \n91   Zwickau  2021-12-13              -2.571429     0.428571   8.528571   \n92   Zwickau  2021-12-20              -1.000000     4.842857  10.485714   \n93   Zwickau  2021-12-27              -4.285714    -1.200000  10.700000   \n94   Zwickau  2022-01-03             -15.714286     7.871429  16.885714   \n\n                                      infections      beta  beta_t_minus_1  \nweek district start_date_forecasting                                        \n2    Aachen   2020-03-30               52.469388  0.279336        0.323306  \n3    Aachen   2020-04-06               36.877551  0.144479        0.378790  \n4    Aachen   2020-04-13               25.244898  0.190455        0.180074  \n5    Aachen   2020-04-20               16.683673  0.180385        0.177962  \n25   Aachen   2020-09-07               11.132653  0.584775        0.181417  \n...                                          ...       ...             ...  \n90   Zwickau  2021-12-06              412.040816  0.498803        0.447938  \n91   Zwickau  2021-12-13              305.561224  0.437243        0.520256  \n92   Zwickau  2021-12-20              202.959184  0.377533        0.509719  \n93   Zwickau  2021-12-27              143.448980  0.511456        0.393324  \n94   Zwickau  2022-01-03              106.755102  0.485335        0.530693  \n\n[19218 rows x 9 columns]",
      "text/html": "<div>\n<style scoped>\n    .dataframe tbody tr th:only-of-type {\n        vertical-align: middle;\n    }\n\n    .dataframe tbody tr th {\n        vertical-align: top;\n    }\n\n    .dataframe thead th {\n        text-align: right;\n    }\n</style>\n<table border=\"1\" class=\"dataframe\">\n  <thead>\n    <tr style=\"text-align: right;\">\n      <th></th>\n      <th></th>\n      <th></th>\n      <th>B.1.1.7</th>\n      <th>B.1.617.2</th>\n      <th>policy_index</th>\n      <th>mobility</th>\n      <th>temperature</th>\n      <th>wind</th>\n      <th>infections</th>\n      <th>beta</th>\n      <th>beta_t_minus_1</th>\n    </tr>\n    <tr>\n      <th>week</th>\n      <th>district</th>\n      <th>start_date_forecasting</th>\n      <th></th>\n      <th></th>\n      <th></th>\n      <th></th>\n      <th></th>\n      <th></th>\n      <th></th>\n      <th></th>\n      <th></th>\n    </tr>\n  </thead>\n  <tbody>\n    <tr>\n      <th>2</th>\n      <th>Aachen</th>\n      <th>2020-03-30</th>\n      <td>0</td>\n      <td>0</td>\n      <td>62.500000</td>\n      <td>-41.714286</td>\n      <td>5.171429</td>\n      <td>14.975758</td>\n      <td>52.469388</td>\n      <td>0.279336</td>\n      <td>0.323306</td>\n    </tr>\n    <tr>\n      <th>3</th>\n      <th>Aachen</th>\n      <th>2020-04-06</th>\n      <td>0</td>\n      <td>0</td>\n      <td>63.778571</td>\n      <td>-34.428571</td>\n      <td>5.914286</td>\n      <td>11.157143</td>\n      <td>36.877551</td>\n      <td>0.144479</td>\n      <td>0.378790</td>\n    </tr>\n    <tr>\n      <th>4</th>\n      <th>Aachen</th>\n      <th>2020-04-13</th>\n      <td>0</td>\n      <td>0</td>\n      <td>65.180000</td>\n      <td>-29.285714</td>\n      <td>15.071429</td>\n      <td>10.571429</td>\n      <td>25.244898</td>\n      <td>0.190455</td>\n      <td>0.180074</td>\n    </tr>\n    <tr>\n      <th>5</th>\n      <th>Aachen</th>\n      <th>2020-04-20</th>\n      <td>0</td>\n      <td>0</td>\n      <td>65.180000</td>\n      <td>-32.857143</td>\n      <td>11.085714</td>\n      <td>11.071429</td>\n      <td>16.683673</td>\n      <td>0.180385</td>\n      <td>0.177962</td>\n    </tr>\n    <tr>\n      <th>25</th>\n      <th>Aachen</th>\n      <th>2020-09-07</th>\n      <td>0</td>\n      <td>0</td>\n      <td>58.032857</td>\n      <td>4.000000</td>\n      <td>15.171429</td>\n      <td>10.200000</td>\n      <td>11.132653</td>\n      <td>0.584775</td>\n      <td>0.181417</td>\n    </tr>\n    <tr>\n      <th>...</th>\n      <th>...</th>\n      <th>...</th>\n      <td>...</td>\n      <td>...</td>\n      <td>...</td>\n      <td>...</td>\n      <td>...</td>\n      <td>...</td>\n      <td>...</td>\n      <td>...</td>\n      <td>...</td>\n    </tr>\n    <tr>\n      <th>90</th>\n      <th>Zwickau</th>\n      <th>2021-12-06</th>\n      <td>0</td>\n      <td>1</td>\n      <td>81.761429</td>\n      <td>-9.714286</td>\n      <td>1.757143</td>\n      <td>17.071429</td>\n      <td>412.040816</td>\n      <td>0.498803</td>\n      <td>0.447938</td>\n    </tr>\n    <tr>\n      <th>91</th>\n      <th>Zwickau</th>\n      <th>2021-12-13</th>\n      <td>0</td>\n      <td>1</td>\n      <td>83.930000</td>\n      <td>-2.571429</td>\n      <td>0.428571</td>\n      <td>8.528571</td>\n      <td>305.561224</td>\n      <td>0.437243</td>\n      <td>0.520256</td>\n    </tr>\n    <tr>\n      <th>92</th>\n      <th>Zwickau</th>\n      <th>2021-12-20</th>\n      <td>0</td>\n      <td>1</td>\n      <td>83.930000</td>\n      <td>-1.000000</td>\n      <td>4.842857</td>\n      <td>10.485714</td>\n      <td>202.959184</td>\n      <td>0.377533</td>\n      <td>0.509719</td>\n    </tr>\n    <tr>\n      <th>93</th>\n      <th>Zwickau</th>\n      <th>2021-12-27</th>\n      <td>0</td>\n      <td>1</td>\n      <td>83.930000</td>\n      <td>-4.285714</td>\n      <td>-1.200000</td>\n      <td>10.700000</td>\n      <td>143.448980</td>\n      <td>0.511456</td>\n      <td>0.393324</td>\n    </tr>\n    <tr>\n      <th>94</th>\n      <th>Zwickau</th>\n      <th>2022-01-03</th>\n      <td>0</td>\n      <td>0</td>\n      <td>59.950000</td>\n      <td>-15.714286</td>\n      <td>7.871429</td>\n      <td>16.885714</td>\n      <td>106.755102</td>\n      <td>0.485335</td>\n      <td>0.530693</td>\n    </tr>\n  </tbody>\n</table>\n<p>19218 rows × 9 columns</p>\n</div>"
     },
     "execution_count": 32,
     "metadata": {},
     "output_type": "execute_result"
    }
   ],
   "source": [
    "df_v6_2_e"
   ],
   "metadata": {
    "collapsed": false,
    "pycharm": {
     "name": "#%%\n"
    }
   }
  },
  {
   "cell_type": "markdown",
   "source": [
    "#### 6.2) Standardizing:"
   ],
   "metadata": {
    "collapsed": false,
    "pycharm": {
     "name": "#%% md\n"
    }
   }
  },
  {
   "cell_type": "code",
   "source": [
    "# Standardize:\n",
    "scaler_obj = StandardScaler()\n",
    "\n",
    "# Split explanatory columns from beta:\n",
    "explanatory_cols = df_v6_2_e.drop(columns=['beta','beta_t_minus_1'], axis=1)\n",
    "beta_cols = df_v6_2_e[['beta','beta_t_minus_1']]\n",
    "\n",
    "# Apply scaling:\n",
    "scaled_explanatory_cols = pd.DataFrame(scaler_obj.fit_transform(explanatory_cols), index=explanatory_cols.index, columns=explanatory_cols.columns)\n",
    "\n",
    "# Merge both together again:\n",
    "df_v6_3 = pd.concat([scaled_explanatory_cols, beta_cols], axis=1)\n",
    "df_v6_3"
   ],
   "metadata": {
    "collapsed": false,
    "pycharm": {
     "name": "#%%\n"
    }
   },
   "execution_count": 33,
   "outputs": [
    {
     "data": {
      "text/plain": "                                       B.1.1.7  B.1.617.2  policy_index  \\\nweek district start_date_forecasting                                      \n2    Aachen   2020-03-30             -0.692338  -0.751908     -0.623553   \n3    Aachen   2020-04-06             -0.692338  -0.751908     -0.453805   \n4    Aachen   2020-04-13             -0.692338  -0.751908     -0.267746   \n5    Aachen   2020-04-20             -0.692338  -0.751908     -0.267746   \n25   Aachen   2020-09-07             -0.692338  -0.751908     -1.216627   \n...                                        ...        ...           ...   \n90   Zwickau  2021-12-06             -0.692338   1.329949      1.933664   \n91   Zwickau  2021-12-13             -0.692338   1.329949      2.221571   \n92   Zwickau  2021-12-20             -0.692338   1.329949      2.221571   \n93   Zwickau  2021-12-27             -0.692338   1.329949      2.221571   \n94   Zwickau  2022-01-03             -0.692338  -0.751908     -0.962100   \n\n                                      mobility  temperature      wind  \\\nweek district start_date_forecasting                                    \n2    Aachen   2020-03-30             -2.627390    -0.323276  0.947990   \n3    Aachen   2020-04-06             -2.123714    -0.187870 -0.065911   \n4    Aachen   2020-04-13             -1.768177     1.481269 -0.221427   \n5    Aachen   2020-04-20             -2.015078     0.754764 -0.088670   \n25   Aachen   2020-09-07              0.532931     1.499497 -0.320047   \n...                                        ...          ...       ...   \n90   Zwickau  2021-12-06             -0.415165    -0.945623  1.504422   \n91   Zwickau  2021-12-13              0.078635    -1.187791 -0.763837   \n92   Zwickau  2021-12-20              0.187271    -0.383167 -0.244186   \n93   Zwickau  2021-12-27             -0.039877    -1.484643 -0.187290   \n94   Zwickau  2022-01-03             -0.829957     0.168873  1.455112   \n\n                                      infections      beta  beta_t_minus_1  \nweek district start_date_forecasting                                        \n2    Aachen   2020-03-30               -0.012034  0.279336        0.323306  \n3    Aachen   2020-04-06               -0.187156  0.144479        0.378790  \n4    Aachen   2020-04-13               -0.317811  0.190455        0.180074  \n5    Aachen   2020-04-20               -0.413968  0.180385        0.177962  \n25   Aachen   2020-09-07               -0.476315  0.584775        0.181417  \n...                                          ...       ...             ...  \n90   Zwickau  2021-12-06                4.026563  0.498803        0.447938  \n91   Zwickau  2021-12-13                2.830617  0.437243        0.520256  \n92   Zwickau  2021-12-20                1.678222  0.377533        0.509719  \n93   Zwickau  2021-12-27                1.009821  0.511456        0.393324  \n94   Zwickau  2022-01-03                0.597687  0.485335        0.530693  \n\n[19218 rows x 9 columns]",
      "text/html": "<div>\n<style scoped>\n    .dataframe tbody tr th:only-of-type {\n        vertical-align: middle;\n    }\n\n    .dataframe tbody tr th {\n        vertical-align: top;\n    }\n\n    .dataframe thead th {\n        text-align: right;\n    }\n</style>\n<table border=\"1\" class=\"dataframe\">\n  <thead>\n    <tr style=\"text-align: right;\">\n      <th></th>\n      <th></th>\n      <th></th>\n      <th>B.1.1.7</th>\n      <th>B.1.617.2</th>\n      <th>policy_index</th>\n      <th>mobility</th>\n      <th>temperature</th>\n      <th>wind</th>\n      <th>infections</th>\n      <th>beta</th>\n      <th>beta_t_minus_1</th>\n    </tr>\n    <tr>\n      <th>week</th>\n      <th>district</th>\n      <th>start_date_forecasting</th>\n      <th></th>\n      <th></th>\n      <th></th>\n      <th></th>\n      <th></th>\n      <th></th>\n      <th></th>\n      <th></th>\n      <th></th>\n    </tr>\n  </thead>\n  <tbody>\n    <tr>\n      <th>2</th>\n      <th>Aachen</th>\n      <th>2020-03-30</th>\n      <td>-0.692338</td>\n      <td>-0.751908</td>\n      <td>-0.623553</td>\n      <td>-2.627390</td>\n      <td>-0.323276</td>\n      <td>0.947990</td>\n      <td>-0.012034</td>\n      <td>0.279336</td>\n      <td>0.323306</td>\n    </tr>\n    <tr>\n      <th>3</th>\n      <th>Aachen</th>\n      <th>2020-04-06</th>\n      <td>-0.692338</td>\n      <td>-0.751908</td>\n      <td>-0.453805</td>\n      <td>-2.123714</td>\n      <td>-0.187870</td>\n      <td>-0.065911</td>\n      <td>-0.187156</td>\n      <td>0.144479</td>\n      <td>0.378790</td>\n    </tr>\n    <tr>\n      <th>4</th>\n      <th>Aachen</th>\n      <th>2020-04-13</th>\n      <td>-0.692338</td>\n      <td>-0.751908</td>\n      <td>-0.267746</td>\n      <td>-1.768177</td>\n      <td>1.481269</td>\n      <td>-0.221427</td>\n      <td>-0.317811</td>\n      <td>0.190455</td>\n      <td>0.180074</td>\n    </tr>\n    <tr>\n      <th>5</th>\n      <th>Aachen</th>\n      <th>2020-04-20</th>\n      <td>-0.692338</td>\n      <td>-0.751908</td>\n      <td>-0.267746</td>\n      <td>-2.015078</td>\n      <td>0.754764</td>\n      <td>-0.088670</td>\n      <td>-0.413968</td>\n      <td>0.180385</td>\n      <td>0.177962</td>\n    </tr>\n    <tr>\n      <th>25</th>\n      <th>Aachen</th>\n      <th>2020-09-07</th>\n      <td>-0.692338</td>\n      <td>-0.751908</td>\n      <td>-1.216627</td>\n      <td>0.532931</td>\n      <td>1.499497</td>\n      <td>-0.320047</td>\n      <td>-0.476315</td>\n      <td>0.584775</td>\n      <td>0.181417</td>\n    </tr>\n    <tr>\n      <th>...</th>\n      <th>...</th>\n      <th>...</th>\n      <td>...</td>\n      <td>...</td>\n      <td>...</td>\n      <td>...</td>\n      <td>...</td>\n      <td>...</td>\n      <td>...</td>\n      <td>...</td>\n      <td>...</td>\n    </tr>\n    <tr>\n      <th>90</th>\n      <th>Zwickau</th>\n      <th>2021-12-06</th>\n      <td>-0.692338</td>\n      <td>1.329949</td>\n      <td>1.933664</td>\n      <td>-0.415165</td>\n      <td>-0.945623</td>\n      <td>1.504422</td>\n      <td>4.026563</td>\n      <td>0.498803</td>\n      <td>0.447938</td>\n    </tr>\n    <tr>\n      <th>91</th>\n      <th>Zwickau</th>\n      <th>2021-12-13</th>\n      <td>-0.692338</td>\n      <td>1.329949</td>\n      <td>2.221571</td>\n      <td>0.078635</td>\n      <td>-1.187791</td>\n      <td>-0.763837</td>\n      <td>2.830617</td>\n      <td>0.437243</td>\n      <td>0.520256</td>\n    </tr>\n    <tr>\n      <th>92</th>\n      <th>Zwickau</th>\n      <th>2021-12-20</th>\n      <td>-0.692338</td>\n      <td>1.329949</td>\n      <td>2.221571</td>\n      <td>0.187271</td>\n      <td>-0.383167</td>\n      <td>-0.244186</td>\n      <td>1.678222</td>\n      <td>0.377533</td>\n      <td>0.509719</td>\n    </tr>\n    <tr>\n      <th>93</th>\n      <th>Zwickau</th>\n      <th>2021-12-27</th>\n      <td>-0.692338</td>\n      <td>1.329949</td>\n      <td>2.221571</td>\n      <td>-0.039877</td>\n      <td>-1.484643</td>\n      <td>-0.187290</td>\n      <td>1.009821</td>\n      <td>0.511456</td>\n      <td>0.393324</td>\n    </tr>\n    <tr>\n      <th>94</th>\n      <th>Zwickau</th>\n      <th>2022-01-03</th>\n      <td>-0.692338</td>\n      <td>-0.751908</td>\n      <td>-0.962100</td>\n      <td>-0.829957</td>\n      <td>0.168873</td>\n      <td>1.455112</td>\n      <td>0.597687</td>\n      <td>0.485335</td>\n      <td>0.530693</td>\n    </tr>\n  </tbody>\n</table>\n<p>19218 rows × 9 columns</p>\n</div>"
     },
     "execution_count": 33,
     "metadata": {},
     "output_type": "execute_result"
    }
   ]
  },
  {
   "cell_type": "markdown",
   "source": [
    "## 7) Modeling\n",
    "### 7.1) Preparation\n",
    "#### 7.1.1) Split into train/val:"
   ],
   "metadata": {
    "collapsed": false,
    "pycharm": {
     "name": "#%% md\n"
    }
   }
  },
  {
   "cell_type": "code",
   "source": [
    "df_modeling = df_v6_3\n",
    "df_modeling"
   ],
   "metadata": {
    "collapsed": false,
    "pycharm": {
     "name": "#%%\n"
    }
   },
   "execution_count": 34,
   "outputs": [
    {
     "data": {
      "text/plain": "                                       B.1.1.7  B.1.617.2  policy_index  \\\nweek district start_date_forecasting                                      \n2    Aachen   2020-03-30             -0.692338  -0.751908     -0.623553   \n3    Aachen   2020-04-06             -0.692338  -0.751908     -0.453805   \n4    Aachen   2020-04-13             -0.692338  -0.751908     -0.267746   \n5    Aachen   2020-04-20             -0.692338  -0.751908     -0.267746   \n25   Aachen   2020-09-07             -0.692338  -0.751908     -1.216627   \n...                                        ...        ...           ...   \n90   Zwickau  2021-12-06             -0.692338   1.329949      1.933664   \n91   Zwickau  2021-12-13             -0.692338   1.329949      2.221571   \n92   Zwickau  2021-12-20             -0.692338   1.329949      2.221571   \n93   Zwickau  2021-12-27             -0.692338   1.329949      2.221571   \n94   Zwickau  2022-01-03             -0.692338  -0.751908     -0.962100   \n\n                                      mobility  temperature      wind  \\\nweek district start_date_forecasting                                    \n2    Aachen   2020-03-30             -2.627390    -0.323276  0.947990   \n3    Aachen   2020-04-06             -2.123714    -0.187870 -0.065911   \n4    Aachen   2020-04-13             -1.768177     1.481269 -0.221427   \n5    Aachen   2020-04-20             -2.015078     0.754764 -0.088670   \n25   Aachen   2020-09-07              0.532931     1.499497 -0.320047   \n...                                        ...          ...       ...   \n90   Zwickau  2021-12-06             -0.415165    -0.945623  1.504422   \n91   Zwickau  2021-12-13              0.078635    -1.187791 -0.763837   \n92   Zwickau  2021-12-20              0.187271    -0.383167 -0.244186   \n93   Zwickau  2021-12-27             -0.039877    -1.484643 -0.187290   \n94   Zwickau  2022-01-03             -0.829957     0.168873  1.455112   \n\n                                      infections      beta  beta_t_minus_1  \nweek district start_date_forecasting                                        \n2    Aachen   2020-03-30               -0.012034  0.279336        0.323306  \n3    Aachen   2020-04-06               -0.187156  0.144479        0.378790  \n4    Aachen   2020-04-13               -0.317811  0.190455        0.180074  \n5    Aachen   2020-04-20               -0.413968  0.180385        0.177962  \n25   Aachen   2020-09-07               -0.476315  0.584775        0.181417  \n...                                          ...       ...             ...  \n90   Zwickau  2021-12-06                4.026563  0.498803        0.447938  \n91   Zwickau  2021-12-13                2.830617  0.437243        0.520256  \n92   Zwickau  2021-12-20                1.678222  0.377533        0.509719  \n93   Zwickau  2021-12-27                1.009821  0.511456        0.393324  \n94   Zwickau  2022-01-03                0.597687  0.485335        0.530693  \n\n[19218 rows x 9 columns]",
      "text/html": "<div>\n<style scoped>\n    .dataframe tbody tr th:only-of-type {\n        vertical-align: middle;\n    }\n\n    .dataframe tbody tr th {\n        vertical-align: top;\n    }\n\n    .dataframe thead th {\n        text-align: right;\n    }\n</style>\n<table border=\"1\" class=\"dataframe\">\n  <thead>\n    <tr style=\"text-align: right;\">\n      <th></th>\n      <th></th>\n      <th></th>\n      <th>B.1.1.7</th>\n      <th>B.1.617.2</th>\n      <th>policy_index</th>\n      <th>mobility</th>\n      <th>temperature</th>\n      <th>wind</th>\n      <th>infections</th>\n      <th>beta</th>\n      <th>beta_t_minus_1</th>\n    </tr>\n    <tr>\n      <th>week</th>\n      <th>district</th>\n      <th>start_date_forecasting</th>\n      <th></th>\n      <th></th>\n      <th></th>\n      <th></th>\n      <th></th>\n      <th></th>\n      <th></th>\n      <th></th>\n      <th></th>\n    </tr>\n  </thead>\n  <tbody>\n    <tr>\n      <th>2</th>\n      <th>Aachen</th>\n      <th>2020-03-30</th>\n      <td>-0.692338</td>\n      <td>-0.751908</td>\n      <td>-0.623553</td>\n      <td>-2.627390</td>\n      <td>-0.323276</td>\n      <td>0.947990</td>\n      <td>-0.012034</td>\n      <td>0.279336</td>\n      <td>0.323306</td>\n    </tr>\n    <tr>\n      <th>3</th>\n      <th>Aachen</th>\n      <th>2020-04-06</th>\n      <td>-0.692338</td>\n      <td>-0.751908</td>\n      <td>-0.453805</td>\n      <td>-2.123714</td>\n      <td>-0.187870</td>\n      <td>-0.065911</td>\n      <td>-0.187156</td>\n      <td>0.144479</td>\n      <td>0.378790</td>\n    </tr>\n    <tr>\n      <th>4</th>\n      <th>Aachen</th>\n      <th>2020-04-13</th>\n      <td>-0.692338</td>\n      <td>-0.751908</td>\n      <td>-0.267746</td>\n      <td>-1.768177</td>\n      <td>1.481269</td>\n      <td>-0.221427</td>\n      <td>-0.317811</td>\n      <td>0.190455</td>\n      <td>0.180074</td>\n    </tr>\n    <tr>\n      <th>5</th>\n      <th>Aachen</th>\n      <th>2020-04-20</th>\n      <td>-0.692338</td>\n      <td>-0.751908</td>\n      <td>-0.267746</td>\n      <td>-2.015078</td>\n      <td>0.754764</td>\n      <td>-0.088670</td>\n      <td>-0.413968</td>\n      <td>0.180385</td>\n      <td>0.177962</td>\n    </tr>\n    <tr>\n      <th>25</th>\n      <th>Aachen</th>\n      <th>2020-09-07</th>\n      <td>-0.692338</td>\n      <td>-0.751908</td>\n      <td>-1.216627</td>\n      <td>0.532931</td>\n      <td>1.499497</td>\n      <td>-0.320047</td>\n      <td>-0.476315</td>\n      <td>0.584775</td>\n      <td>0.181417</td>\n    </tr>\n    <tr>\n      <th>...</th>\n      <th>...</th>\n      <th>...</th>\n      <td>...</td>\n      <td>...</td>\n      <td>...</td>\n      <td>...</td>\n      <td>...</td>\n      <td>...</td>\n      <td>...</td>\n      <td>...</td>\n      <td>...</td>\n    </tr>\n    <tr>\n      <th>90</th>\n      <th>Zwickau</th>\n      <th>2021-12-06</th>\n      <td>-0.692338</td>\n      <td>1.329949</td>\n      <td>1.933664</td>\n      <td>-0.415165</td>\n      <td>-0.945623</td>\n      <td>1.504422</td>\n      <td>4.026563</td>\n      <td>0.498803</td>\n      <td>0.447938</td>\n    </tr>\n    <tr>\n      <th>91</th>\n      <th>Zwickau</th>\n      <th>2021-12-13</th>\n      <td>-0.692338</td>\n      <td>1.329949</td>\n      <td>2.221571</td>\n      <td>0.078635</td>\n      <td>-1.187791</td>\n      <td>-0.763837</td>\n      <td>2.830617</td>\n      <td>0.437243</td>\n      <td>0.520256</td>\n    </tr>\n    <tr>\n      <th>92</th>\n      <th>Zwickau</th>\n      <th>2021-12-20</th>\n      <td>-0.692338</td>\n      <td>1.329949</td>\n      <td>2.221571</td>\n      <td>0.187271</td>\n      <td>-0.383167</td>\n      <td>-0.244186</td>\n      <td>1.678222</td>\n      <td>0.377533</td>\n      <td>0.509719</td>\n    </tr>\n    <tr>\n      <th>93</th>\n      <th>Zwickau</th>\n      <th>2021-12-27</th>\n      <td>-0.692338</td>\n      <td>1.329949</td>\n      <td>2.221571</td>\n      <td>-0.039877</td>\n      <td>-1.484643</td>\n      <td>-0.187290</td>\n      <td>1.009821</td>\n      <td>0.511456</td>\n      <td>0.393324</td>\n    </tr>\n    <tr>\n      <th>94</th>\n      <th>Zwickau</th>\n      <th>2022-01-03</th>\n      <td>-0.692338</td>\n      <td>-0.751908</td>\n      <td>-0.962100</td>\n      <td>-0.829957</td>\n      <td>0.168873</td>\n      <td>1.455112</td>\n      <td>0.597687</td>\n      <td>0.485335</td>\n      <td>0.530693</td>\n    </tr>\n  </tbody>\n</table>\n<p>19218 rows × 9 columns</p>\n</div>"
     },
     "execution_count": 34,
     "metadata": {},
     "output_type": "execute_result"
    }
   ]
  },
  {
   "cell_type": "markdown",
   "source": [
    "#### 7.1.2) Split into train val:"
   ],
   "metadata": {
    "collapsed": false,
    "pycharm": {
     "name": "#%% md\n"
    }
   }
  },
  {
   "cell_type": "code",
   "execution_count": 35,
   "outputs": [],
   "source": [
    "SEED = 420"
   ],
   "metadata": {
    "collapsed": false,
    "pycharm": {
     "name": "#%%\n"
    }
   }
  },
  {
   "cell_type": "code",
   "execution_count": 36,
   "outputs": [],
   "source": [
    "X_full = df_modeling.drop(columns=['beta'], axis=1)\n",
    "y_full = df_modeling['beta']"
   ],
   "metadata": {
    "collapsed": false,
    "pycharm": {
     "name": "#%%\n"
    }
   }
  },
  {
   "cell_type": "code",
   "source": [
    "X_train, X_val, y_train, y_val = train_test_split(X_full, y_full, shuffle=True, train_size=0.75, random_state=SEED)"
   ],
   "metadata": {
    "collapsed": false,
    "pycharm": {
     "name": "#%%\n"
    }
   },
   "execution_count": 37,
   "outputs": []
  },
  {
   "cell_type": "markdown",
   "source": [
    "### 7.2 Models\n",
    "#### 7.2.1) Baseline Approach: Choosing previous beta"
   ],
   "metadata": {
    "collapsed": false,
    "pycharm": {
     "name": "#%% md\n"
    }
   }
  },
  {
   "cell_type": "code",
   "execution_count": 38,
   "outputs": [],
   "source": [
    "# Baseline approach would be to use the beta from the previous week for the next week:\n",
    "## Therefore we have to compare how well this works, compared to our ML approach:\n",
    "y_pred_baseline = X_val['beta_t_minus_1']"
   ],
   "metadata": {
    "collapsed": false,
    "pycharm": {
     "name": "#%%\n"
    }
   }
  },
  {
   "cell_type": "code",
   "execution_count": 39,
   "outputs": [
    {
     "data": {
      "text/plain": "0.8527094146409695"
     },
     "execution_count": 39,
     "metadata": {},
     "output_type": "execute_result"
    }
   ],
   "source": [
    "# Correlation of this approach:\n",
    "X_full['beta_t_minus_1'].corr(y_full)"
   ],
   "metadata": {
    "collapsed": false,
    "pycharm": {
     "name": "#%%\n"
    }
   }
  },
  {
   "cell_type": "code",
   "execution_count": 40,
   "outputs": [
    {
     "data": {
      "text/plain": "                                                            y_val  \\\nweek district                    start_date_forecasting             \n37   Altenburger Land            2020-11-30              0.435493   \n36   Vogtlandkreis               2020-11-23              0.470760   \n85   Dillingen a.d.Donau         2021-11-01              0.903822   \n88   Mecklenburgische Seenplatte 2021-11-22              1.081504   \n56   Oberhausen                  2021-04-12              0.397448   \n...                                                           ...   \n81   Steinfurt                   2021-10-04              1.322626   \n44   Wolfenbüttel                2021-01-18              0.363532   \n32   Alzey-Worms                 2020-10-26              0.521762   \n23   Köln                        2020-08-24              0.337692   \n44   Minden-Lübbecke             2021-01-18              0.225270   \n\n                                                         y_pred_baseline  \nweek district                    start_date_forecasting                   \n37   Altenburger Land            2020-11-30                     0.346312  \n36   Vogtlandkreis               2020-11-23                     0.285459  \n85   Dillingen a.d.Donau         2021-11-01                     1.293763  \n88   Mecklenburgische Seenplatte 2021-11-22                     0.963231  \n56   Oberhausen                  2021-04-12                     0.343429  \n...                                                                  ...  \n81   Steinfurt                   2021-10-04                     1.029713  \n44   Wolfenbüttel                2021-01-18                     0.344318  \n32   Alzey-Worms                 2020-10-26                     0.344621  \n23   Köln                        2020-08-24                     0.257659  \n44   Minden-Lübbecke             2021-01-18                     0.279108  \n\n[4805 rows x 2 columns]",
      "text/html": "<div>\n<style scoped>\n    .dataframe tbody tr th:only-of-type {\n        vertical-align: middle;\n    }\n\n    .dataframe tbody tr th {\n        vertical-align: top;\n    }\n\n    .dataframe thead th {\n        text-align: right;\n    }\n</style>\n<table border=\"1\" class=\"dataframe\">\n  <thead>\n    <tr style=\"text-align: right;\">\n      <th></th>\n      <th></th>\n      <th></th>\n      <th>y_val</th>\n      <th>y_pred_baseline</th>\n    </tr>\n    <tr>\n      <th>week</th>\n      <th>district</th>\n      <th>start_date_forecasting</th>\n      <th></th>\n      <th></th>\n    </tr>\n  </thead>\n  <tbody>\n    <tr>\n      <th>37</th>\n      <th>Altenburger Land</th>\n      <th>2020-11-30</th>\n      <td>0.435493</td>\n      <td>0.346312</td>\n    </tr>\n    <tr>\n      <th>36</th>\n      <th>Vogtlandkreis</th>\n      <th>2020-11-23</th>\n      <td>0.470760</td>\n      <td>0.285459</td>\n    </tr>\n    <tr>\n      <th>85</th>\n      <th>Dillingen a.d.Donau</th>\n      <th>2021-11-01</th>\n      <td>0.903822</td>\n      <td>1.293763</td>\n    </tr>\n    <tr>\n      <th>88</th>\n      <th>Mecklenburgische Seenplatte</th>\n      <th>2021-11-22</th>\n      <td>1.081504</td>\n      <td>0.963231</td>\n    </tr>\n    <tr>\n      <th>56</th>\n      <th>Oberhausen</th>\n      <th>2021-04-12</th>\n      <td>0.397448</td>\n      <td>0.343429</td>\n    </tr>\n    <tr>\n      <th>...</th>\n      <th>...</th>\n      <th>...</th>\n      <td>...</td>\n      <td>...</td>\n    </tr>\n    <tr>\n      <th>81</th>\n      <th>Steinfurt</th>\n      <th>2021-10-04</th>\n      <td>1.322626</td>\n      <td>1.029713</td>\n    </tr>\n    <tr>\n      <th>44</th>\n      <th>Wolfenbüttel</th>\n      <th>2021-01-18</th>\n      <td>0.363532</td>\n      <td>0.344318</td>\n    </tr>\n    <tr>\n      <th>32</th>\n      <th>Alzey-Worms</th>\n      <th>2020-10-26</th>\n      <td>0.521762</td>\n      <td>0.344621</td>\n    </tr>\n    <tr>\n      <th>23</th>\n      <th>Köln</th>\n      <th>2020-08-24</th>\n      <td>0.337692</td>\n      <td>0.257659</td>\n    </tr>\n    <tr>\n      <th>44</th>\n      <th>Minden-Lübbecke</th>\n      <th>2021-01-18</th>\n      <td>0.225270</td>\n      <td>0.279108</td>\n    </tr>\n  </tbody>\n</table>\n<p>4805 rows × 2 columns</p>\n</div>"
     },
     "execution_count": 40,
     "metadata": {},
     "output_type": "execute_result"
    }
   ],
   "source": [
    "pd.DataFrame({'y_val':y_val, 'y_pred_baseline':y_pred_baseline})"
   ],
   "metadata": {
    "collapsed": false,
    "pycharm": {
     "name": "#%%\n"
    }
   }
  },
  {
   "cell_type": "code",
   "execution_count": 41,
   "outputs": [
    {
     "name": "stdout",
     "output_type": "stream",
     "text": [
      "Baseline RMSE is: 0.38160385225644416\n"
     ]
    }
   ],
   "source": [
    "# Compute RMSE of baseline approach:\n",
    "rmse_baseline =  mean_squared_error(y_val, y_pred_baseline, squared=False)\n",
    "print(f'Baseline RMSE is: {rmse_baseline}')"
   ],
   "metadata": {
    "collapsed": false,
    "pycharm": {
     "name": "#%%\n"
    }
   }
  },
  {
   "cell_type": "markdown",
   "source": [
    "#### 7.2.2) Multivariate Linear Regression"
   ],
   "metadata": {
    "collapsed": false
   }
  },
  {
   "cell_type": "code",
   "execution_count": 42,
   "outputs": [],
   "source": [
    "regr = linear_model.LinearRegression()\n",
    "regr.fit(X_train, y_train)\n",
    "\n",
    "y_pred_linreg = regr.predict(X_val)\n",
    "rmse_linreg = mean_squared_error(y_val, y_pred_linreg, squared=False)"
   ],
   "metadata": {
    "collapsed": false,
    "pycharm": {
     "name": "#%%\n"
    }
   }
  },
  {
   "cell_type": "code",
   "execution_count": 43,
   "outputs": [
    {
     "name": "stdout",
     "output_type": "stream",
     "text": [
      "RMSE of LinearRegression() is: 0.36830792114253086. This is an improvement compared to the baseline approach of: 3.484223504373385 %\n"
     ]
    }
   ],
   "source": [
    "print(f'RMSE of {regr} is: {rmse_linreg}. This is an improvement compared to the baseline approach of: {-(rmse_linreg / rmse_baseline -1)*100} %')"
   ],
   "metadata": {
    "collapsed": false,
    "pycharm": {
     "name": "#%%\n"
    }
   }
  },
  {
   "cell_type": "markdown",
   "source": [
    "#### 7.2.3) Ridge Regression:"
   ],
   "metadata": {
    "collapsed": false,
    "pycharm": {
     "name": "#%% md\n"
    }
   }
  },
  {
   "cell_type": "code",
   "execution_count": 44,
   "outputs": [],
   "source": [
    "ridge_reg = linear_model.Ridge()\n",
    "ridge_reg.fit(X_train, y_train)\n",
    "\n",
    "y_pred_ridge_reg = ridge_reg.predict(X_val)\n",
    "rmse_ridge_reg = mean_squared_error(y_val, y_pred_ridge_reg, squared=False)"
   ],
   "metadata": {
    "collapsed": false,
    "pycharm": {
     "name": "#%%\n"
    }
   }
  },
  {
   "cell_type": "code",
   "execution_count": 45,
   "outputs": [
    {
     "name": "stdout",
     "output_type": "stream",
     "text": [
      "RMSE of Ridge() is: 0.3683011189683511. This is an improvement compared to the baseline approach of: 3.4860060267822957 %\n"
     ]
    }
   ],
   "source": [
    "print(f'RMSE of {ridge_reg} is: {rmse_ridge_reg}. This is an improvement compared to the baseline approach of: {-(rmse_ridge_reg / rmse_baseline -1)*100} %')"
   ],
   "metadata": {
    "collapsed": false,
    "pycharm": {
     "name": "#%%\n"
    }
   }
  },
  {
   "cell_type": "markdown",
   "source": [
    "#### 7.2.4) Random Forest Regressor:"
   ],
   "metadata": {
    "collapsed": false,
    "pycharm": {
     "name": "#%% md\n"
    }
   }
  },
  {
   "cell_type": "code",
   "execution_count": 46,
   "outputs": [],
   "source": [
    "rfg_model = RandomForestRegressor()\n",
    "rfg_model.fit(X_train, y_train)\n",
    "\n",
    "y_pred_random_forest = rfg_model.predict(X_val)\n",
    "rmse_random_forest = mean_squared_error(y_val, y_pred_random_forest, squared=False)"
   ],
   "metadata": {
    "collapsed": false,
    "pycharm": {
     "name": "#%%\n"
    }
   }
  },
  {
   "cell_type": "code",
   "execution_count": 47,
   "outputs": [
    {
     "name": "stdout",
     "output_type": "stream",
     "text": [
      "RMSE of RandomForestRegressor() is: 0.3113211811898339. This is an improvement compared to the baseline approach of: 18.417704813781377 %\n"
     ]
    }
   ],
   "source": [
    "print(f'RMSE of {rfg_model} is: {rmse_random_forest}. This is an improvement compared to the baseline approach of: {-(rmse_random_forest / rmse_baseline -1)*100} %')"
   ],
   "metadata": {
    "collapsed": false,
    "pycharm": {
     "name": "#%%\n"
    }
   }
  },
  {
   "cell_type": "markdown",
   "source": [
    "#### 7.2.5) Support Vector Machines"
   ],
   "metadata": {
    "collapsed": false,
    "pycharm": {
     "name": "#%% md\n"
    }
   }
  },
  {
   "cell_type": "code",
   "execution_count": 48,
   "outputs": [],
   "source": [
    "svm = SVR()\n",
    "svm.fit(X_train, y_train)\n",
    "\n",
    "y_pred_svm = svm.predict(X_val)\n",
    "rmse_svm = mean_squared_error(y_val, y_pred_svm, squared=False)"
   ],
   "metadata": {
    "collapsed": false,
    "pycharm": {
     "name": "#%%\n"
    }
   }
  },
  {
   "cell_type": "code",
   "execution_count": 49,
   "outputs": [
    {
     "name": "stdout",
     "output_type": "stream",
     "text": [
      "RMSE of SVR() is: 0.31030865333494184. This is an improvement compared to the baseline approach of: 18.683039623402642 %\n"
     ]
    }
   ],
   "source": [
    "print(f'RMSE of {svm} is: {rmse_svm}. This is an improvement compared to the baseline approach of: {-(rmse_svm / rmse_baseline -1)*100} %')"
   ],
   "metadata": {
    "collapsed": false,
    "pycharm": {
     "name": "#%%\n"
    }
   }
  },
  {
   "cell_type": "markdown",
   "source": [
    "#### 7.2.6) XGBoost"
   ],
   "metadata": {
    "collapsed": false,
    "pycharm": {
     "name": "#%% md\n"
    }
   }
  },
  {
   "cell_type": "code",
   "execution_count": 50,
   "outputs": [],
   "source": [
    "xgb_model = xgb.XGBRegressor(verbosity=0)\n",
    "xgb_model.name = 'XGBoostRegressor'\n",
    "xgb_model.fit(X_train, y_train)\n",
    "\n",
    "y_pred_xgb = xgb_model.predict(X_val)\n",
    "rmse_xgb = mean_squared_error(y_val, y_pred_xgb, squared=False)"
   ],
   "metadata": {
    "collapsed": false,
    "pycharm": {
     "name": "#%%\n"
    }
   }
  },
  {
   "cell_type": "code",
   "execution_count": 51,
   "outputs": [
    {
     "name": "stdout",
     "output_type": "stream",
     "text": [
      "\n",
      " RMSE of XGBoostRegressor is: 0.3124732092818247. This is an improvement compared to the baseline approach of: 18.115813707289963 %\n"
     ]
    }
   ],
   "source": [
    "print(f'\\n RMSE of {xgb_model.name} is: {rmse_xgb}. This is an improvement compared to the baseline approach of: {-(rmse_xgb / rmse_baseline -1)*100} %')"
   ],
   "metadata": {
    "collapsed": false,
    "pycharm": {
     "name": "#%%\n"
    }
   }
  },
  {
   "cell_type": "code",
   "execution_count": 52,
   "outputs": [
    {
     "data": {
      "text/plain": "                                                         beta_opt  last_beta  \\\nweek district                    start_date_forecasting                        \n37   Altenburger Land            2020-11-30              0.435493   0.346312   \n36   Vogtlandkreis               2020-11-23              0.470760   0.285459   \n85   Dillingen a.d.Donau         2021-11-01              0.903822   1.293763   \n88   Mecklenburgische Seenplatte 2021-11-22              1.081504   0.963231   \n56   Oberhausen                  2021-04-12              0.397448   0.343429   \n...                                                           ...        ...   \n81   Steinfurt                   2021-10-04              1.322626   1.029713   \n44   Wolfenbüttel                2021-01-18              0.363532   0.344318   \n32   Alzey-Worms                 2020-10-26              0.521762   0.344621   \n23   Köln                        2020-08-24              0.337692   0.257659   \n44   Minden-Lübbecke             2021-01-18              0.225270   0.279108   \n\n                                                         xgb_bred  \nweek district                    start_date_forecasting            \n37   Altenburger Land            2020-11-30              0.379993  \n36   Vogtlandkreis               2020-11-23              0.359751  \n85   Dillingen a.d.Donau         2021-11-01              0.995141  \n88   Mecklenburgische Seenplatte 2021-11-22              0.917967  \n56   Oberhausen                  2021-04-12              0.359269  \n...                                                           ...  \n81   Steinfurt                   2021-10-04              0.872739  \n44   Wolfenbüttel                2021-01-18              0.240399  \n32   Alzey-Worms                 2020-10-26              0.410312  \n23   Köln                        2020-08-24              0.314885  \n44   Minden-Lübbecke             2021-01-18              0.121188  \n\n[4805 rows x 3 columns]",
      "text/html": "<div>\n<style scoped>\n    .dataframe tbody tr th:only-of-type {\n        vertical-align: middle;\n    }\n\n    .dataframe tbody tr th {\n        vertical-align: top;\n    }\n\n    .dataframe thead th {\n        text-align: right;\n    }\n</style>\n<table border=\"1\" class=\"dataframe\">\n  <thead>\n    <tr style=\"text-align: right;\">\n      <th></th>\n      <th></th>\n      <th></th>\n      <th>beta_opt</th>\n      <th>last_beta</th>\n      <th>xgb_bred</th>\n    </tr>\n    <tr>\n      <th>week</th>\n      <th>district</th>\n      <th>start_date_forecasting</th>\n      <th></th>\n      <th></th>\n      <th></th>\n    </tr>\n  </thead>\n  <tbody>\n    <tr>\n      <th>37</th>\n      <th>Altenburger Land</th>\n      <th>2020-11-30</th>\n      <td>0.435493</td>\n      <td>0.346312</td>\n      <td>0.379993</td>\n    </tr>\n    <tr>\n      <th>36</th>\n      <th>Vogtlandkreis</th>\n      <th>2020-11-23</th>\n      <td>0.470760</td>\n      <td>0.285459</td>\n      <td>0.359751</td>\n    </tr>\n    <tr>\n      <th>85</th>\n      <th>Dillingen a.d.Donau</th>\n      <th>2021-11-01</th>\n      <td>0.903822</td>\n      <td>1.293763</td>\n      <td>0.995141</td>\n    </tr>\n    <tr>\n      <th>88</th>\n      <th>Mecklenburgische Seenplatte</th>\n      <th>2021-11-22</th>\n      <td>1.081504</td>\n      <td>0.963231</td>\n      <td>0.917967</td>\n    </tr>\n    <tr>\n      <th>56</th>\n      <th>Oberhausen</th>\n      <th>2021-04-12</th>\n      <td>0.397448</td>\n      <td>0.343429</td>\n      <td>0.359269</td>\n    </tr>\n    <tr>\n      <th>...</th>\n      <th>...</th>\n      <th>...</th>\n      <td>...</td>\n      <td>...</td>\n      <td>...</td>\n    </tr>\n    <tr>\n      <th>81</th>\n      <th>Steinfurt</th>\n      <th>2021-10-04</th>\n      <td>1.322626</td>\n      <td>1.029713</td>\n      <td>0.872739</td>\n    </tr>\n    <tr>\n      <th>44</th>\n      <th>Wolfenbüttel</th>\n      <th>2021-01-18</th>\n      <td>0.363532</td>\n      <td>0.344318</td>\n      <td>0.240399</td>\n    </tr>\n    <tr>\n      <th>32</th>\n      <th>Alzey-Worms</th>\n      <th>2020-10-26</th>\n      <td>0.521762</td>\n      <td>0.344621</td>\n      <td>0.410312</td>\n    </tr>\n    <tr>\n      <th>23</th>\n      <th>Köln</th>\n      <th>2020-08-24</th>\n      <td>0.337692</td>\n      <td>0.257659</td>\n      <td>0.314885</td>\n    </tr>\n    <tr>\n      <th>44</th>\n      <th>Minden-Lübbecke</th>\n      <th>2021-01-18</th>\n      <td>0.225270</td>\n      <td>0.279108</td>\n      <td>0.121188</td>\n    </tr>\n  </tbody>\n</table>\n<p>4805 rows × 3 columns</p>\n</div>"
     },
     "execution_count": 52,
     "metadata": {},
     "output_type": "execute_result"
    }
   ],
   "source": [
    "pd.DataFrame({'beta_opt':y_val, 'last_beta':y_pred_baseline, 'xgb_bred':y_pred_xgb})"
   ],
   "metadata": {
    "collapsed": false,
    "pycharm": {
     "name": "#%%\n"
    }
   }
  },
  {
   "cell_type": "markdown",
   "source": [
    "#### 7.2.7) Neural Network"
   ],
   "metadata": {
    "collapsed": false,
    "pycharm": {
     "name": "#%% md\n"
    }
   }
  },
  {
   "cell_type": "code",
   "execution_count": 53,
   "outputs": [
    {
     "name": "stderr",
     "output_type": "stream",
     "text": [
      "2022-01-22 23:59:17.526593: I tensorflow/core/platform/cpu_feature_guard.cc:151] This TensorFlow binary is optimized with oneAPI Deep Neural Network Library (oneDNN) to use the following CPU instructions in performance-critical operations:  AVX2 FMA\n",
      "To enable them in other operations, rebuild TensorFlow with the appropriate compiler flags.\n"
     ]
    }
   ],
   "source": [
    "ann_model = Sequential([\n",
    "    Dense(24, input_dim=len(X_train.columns), activation='relu'),\n",
    "    Dropout(0.2),\n",
    "    Dense(16, activation='relu'),\n",
    "    Dropout(0.2),\n",
    "    Dense(1, activation='linear')\n",
    "])\n",
    "\n",
    "\n",
    "# compile model:\n",
    "ann_model.compile(\n",
    "    loss = 'mse',\n",
    "    optimizer = 'adam',\n",
    "    metrics=[RootMeanSquaredError(name='rmse')]\n",
    ")"
   ],
   "metadata": {
    "collapsed": false,
    "pycharm": {
     "name": "#%%\n"
    }
   }
  },
  {
   "cell_type": "code",
   "execution_count": 54,
   "outputs": [
    {
     "name": "stdout",
     "output_type": "stream",
     "text": [
      "Epoch 1/20\n",
      "451/451 [==============================] - 2s 2ms/step - loss: 0.5053 - rmse: 0.7109 - val_loss: 0.2046 - val_rmse: 0.4524\n",
      "Epoch 2/20\n",
      "451/451 [==============================] - 0s 977us/step - loss: 0.2473 - rmse: 0.4973 - val_loss: 0.1415 - val_rmse: 0.3761\n",
      "Epoch 3/20\n",
      "451/451 [==============================] - 0s 942us/step - loss: 0.1936 - rmse: 0.4400 - val_loss: 0.1247 - val_rmse: 0.3531\n",
      "Epoch 4/20\n",
      "451/451 [==============================] - 0s 969us/step - loss: 0.1817 - rmse: 0.4262 - val_loss: 0.1328 - val_rmse: 0.3645\n",
      "Epoch 5/20\n",
      "451/451 [==============================] - 0s 940us/step - loss: 0.1659 - rmse: 0.4073 - val_loss: 0.1302 - val_rmse: 0.3608\n",
      "Epoch 6/20\n",
      "451/451 [==============================] - 0s 935us/step - loss: 0.1611 - rmse: 0.4013 - val_loss: 0.1235 - val_rmse: 0.3514\n",
      "Epoch 7/20\n",
      "451/451 [==============================] - 0s 946us/step - loss: 0.1607 - rmse: 0.4009 - val_loss: 0.1264 - val_rmse: 0.3556\n",
      "Epoch 8/20\n",
      "451/451 [==============================] - 0s 940us/step - loss: 0.1488 - rmse: 0.3857 - val_loss: 0.1179 - val_rmse: 0.3433\n",
      "Epoch 9/20\n",
      "451/451 [==============================] - 0s 922us/step - loss: 0.1385 - rmse: 0.3721 - val_loss: 0.1160 - val_rmse: 0.3406\n",
      "Epoch 10/20\n",
      "451/451 [==============================] - 0s 991us/step - loss: 0.1437 - rmse: 0.3791 - val_loss: 0.1152 - val_rmse: 0.3394\n",
      "Epoch 11/20\n",
      "451/451 [==============================] - 0s 965us/step - loss: 0.1463 - rmse: 0.3825 - val_loss: 0.1137 - val_rmse: 0.3372\n",
      "Epoch 12/20\n",
      "451/451 [==============================] - 0s 988us/step - loss: 0.1485 - rmse: 0.3854 - val_loss: 0.1146 - val_rmse: 0.3386\n",
      "Epoch 13/20\n",
      "451/451 [==============================] - 0s 935us/step - loss: 0.1455 - rmse: 0.3814 - val_loss: 0.1144 - val_rmse: 0.3382\n",
      "Epoch 14/20\n",
      "451/451 [==============================] - 0s 943us/step - loss: 0.1450 - rmse: 0.3807 - val_loss: 0.1117 - val_rmse: 0.3342\n",
      "Epoch 15/20\n",
      "451/451 [==============================] - 0s 955us/step - loss: 0.1346 - rmse: 0.3668 - val_loss: 0.1120 - val_rmse: 0.3346\n",
      "Epoch 16/20\n",
      "451/451 [==============================] - 0s 919us/step - loss: 0.1407 - rmse: 0.3750 - val_loss: 0.1101 - val_rmse: 0.3319\n",
      "Epoch 17/20\n",
      "451/451 [==============================] - 0s 958us/step - loss: 0.1427 - rmse: 0.3778 - val_loss: 0.1128 - val_rmse: 0.3359\n",
      "Epoch 18/20\n",
      "451/451 [==============================] - 0s 952us/step - loss: 0.1386 - rmse: 0.3722 - val_loss: 0.1086 - val_rmse: 0.3296\n",
      "Epoch 19/20\n",
      "451/451 [==============================] - 0s 939us/step - loss: 0.1382 - rmse: 0.3718 - val_loss: 0.1114 - val_rmse: 0.3338\n",
      "Epoch 20/20\n",
      "451/451 [==============================] - 0s 1ms/step - loss: 0.1342 - rmse: 0.3663 - val_loss: 0.1100 - val_rmse: 0.3316\n"
     ]
    }
   ],
   "source": [
    "history = ann_model.fit(X_train,\n",
    "                        y_train,\n",
    "                        epochs=20,\n",
    "                        # class_weight=class_weight,\n",
    "                        validation_data=(X_val, y_val),\n",
    "                        )"
   ],
   "metadata": {
    "collapsed": false,
    "pycharm": {
     "name": "#%%\n"
    }
   }
  },
  {
   "cell_type": "code",
   "execution_count": 55,
   "outputs": [],
   "source": [
    "y_pred_ann = ann_model.predict(X_val)\n",
    "rmse_ann = mean_squared_error(y_val, y_pred_ann, squared=False)"
   ],
   "metadata": {
    "collapsed": false,
    "pycharm": {
     "name": "#%%\n"
    }
   }
  },
  {
   "cell_type": "code",
   "execution_count": 56,
   "outputs": [
    {
     "name": "stdout",
     "output_type": "stream",
     "text": [
      "RMSE of <keras.engine.sequential.Sequential object at 0x169ef0ca0> is: 0.3316070343835079. This is an improvement compared to the baseline approach of: 13.101759213724485 %\n"
     ]
    }
   ],
   "source": [
    "print(f'RMSE of {ann_model} is: {rmse_ann}. This is an improvement compared to the baseline approach of: {-(rmse_ann / rmse_baseline -1)*100} %')"
   ],
   "metadata": {
    "collapsed": false,
    "pycharm": {
     "name": "#%%\n"
    }
   }
  },
  {
   "cell_type": "code",
   "execution_count": null,
   "outputs": [],
   "source": [],
   "metadata": {
    "collapsed": false,
    "pycharm": {
     "name": "#%%\n"
    }
   }
  }
 ],
 "metadata": {
  "kernelspec": {
   "display_name": "Python 3",
   "language": "python",
   "name": "python3"
  },
  "language_info": {
   "codemirror_mode": {
    "name": "ipython",
    "version": 2
   },
   "file_extension": ".py",
   "mimetype": "text/x-python",
   "name": "python",
   "nbconvert_exporter": "python",
   "pygments_lexer": "ipython2",
   "version": "2.7.6"
  }
 },
 "nbformat": 4,
 "nbformat_minor": 0
}