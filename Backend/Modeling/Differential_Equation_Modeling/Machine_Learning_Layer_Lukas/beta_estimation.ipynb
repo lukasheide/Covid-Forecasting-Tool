{
 "cells": [
  {
   "cell_type": "markdown",
   "source": [
    "# Machine Learning Layer\n",
    "#### Goal: Estimate the next beta"
   ],
   "metadata": {
    "collapsed": false,
    "pycharm": {
     "name": "#%% md\n"
    }
   }
  },
  {
   "cell_type": "code",
   "execution_count": 97,
   "outputs": [],
   "source": [
    "import pandas as pd\n",
    "import numpy as np\n",
    "import matplotlib.pyplot as plt\n",
    "import tf as tf\n",
    "from plotnine import *\n",
    "\n",
    "from sklearn.preprocessing import StandardScaler, OneHotEncoder\n",
    "from sklearn.metrics import mean_squared_error\n",
    "from sklearn import linear_model\n",
    "from sklearn.model_selection import train_test_split\n",
    "from sklearn.ensemble import RandomForestRegressor\n",
    "from sklearn.svm import SVR\n",
    "import xgboost as xgb\n",
    "\n",
    "from tensorflow import keras\n",
    "import keras.backend as K\n",
    "from keras.models import Sequential\n",
    "from keras.layers import Dense, Dropout\n",
    "from keras.metrics import RootMeanSquaredError\n",
    "\n",
    "import pickle\n",
    "import joblib"
   ],
   "metadata": {
    "collapsed": false,
    "pycharm": {
     "name": "#%%\n"
    }
   }
  },
  {
   "cell_type": "code",
   "execution_count": 72,
   "outputs": [],
   "source": [
    "pd.set_option('display.max_columns', 50)"
   ],
   "metadata": {
    "collapsed": false,
    "pycharm": {
     "name": "#%%\n"
    }
   }
  },
  {
   "cell_type": "markdown",
   "source": [
    "## 1) Import Data:\n",
    "CSV file can be found in Teams under Model/ML_for_Beta/all_matrix_data.csv"
   ],
   "metadata": {
    "collapsed": false,
    "pycharm": {
     "name": "#%% md\n"
    }
   }
  },
  {
   "cell_type": "code",
   "execution_count": 73,
   "outputs": [],
   "source": [
    "df = pd.read_csv('../../../../Assets/Data/all_matrix_data_v2.csv', index_col=0)"
   ],
   "metadata": {
    "collapsed": false,
    "pycharm": {
     "name": "#%%\n"
    }
   }
  },
  {
   "cell_type": "code",
   "execution_count": 74,
   "outputs": [
    {
     "data": {
      "text/plain": "    week  policy_index    variant   mobility  temperature       wind  \\\n92    94         59.95          0  -1.428571     8.814286  19.942857   \n81    83         53.57  B.1.617.2   5.857143     5.728571   6.428571   \n91    93         83.93  B.1.617.2   6.285714     0.757143  13.357143   \n4      6         65.18      Other -22.428571    13.314286  12.971429   \n11    13         57.44      Other  -4.571429    14.614286  10.914286   \n..   ...           ...        ...        ...          ...        ...   \n72    74         67.86  B.1.617.2   0.142857    19.328571  12.714286   \n67    69         73.21  B.1.617.2  19.571429    18.085714   9.900000   \n64    66         73.21    B.1.1.7   0.428571    21.100000   5.771429   \n61    63         75.12    B.1.1.7  10.857143    10.100000  16.585714   \n64    66         73.21    B.1.1.7   8.285714    21.185714   4.557143   \n\n    infections          beta  beta_t_minus_1 start_date_forecasting  \\\n92   11.489796  6.026915e-22        6.933729             2022-01-03   \n81   12.377551  3.619277e-21        6.510024             2021-10-18   \n91   14.540816  6.570606e-21        8.331957             2021-12-27   \n4     4.714286  4.776496e-20        0.605319             2020-04-27   \n11    1.622449  4.990339e-20        0.752731             2020-06-15   \n..         ...           ...             ...                    ...   \n72    1.918367  1.262921e+01        0.000002             2021-08-16   \n67    1.408163  1.627833e+01        0.009034             2021-07-12   \n64    0.612245  1.925268e+01        0.013506             2021-06-21   \n61    0.704082  2.020258e+01        0.020218             2021-05-31   \n64    1.428571  2.227038e+01        0.024873             2021-06-21   \n\n                district  \n92     Stadt Zweibrücken  \n81             Memmingen  \n91            Kaufbeuren  \n4                  Essen  \n11     Aichach-Friedberg  \n..                   ...  \n72         Weimarer Land  \n67             Ahrweiler  \n64   Dillingen a.d.Donau  \n61           Wesermarsch  \n64  Berchtesgadener Land  \n\n[37200 rows x 11 columns]",
      "text/html": "<div>\n<style scoped>\n    .dataframe tbody tr th:only-of-type {\n        vertical-align: middle;\n    }\n\n    .dataframe tbody tr th {\n        vertical-align: top;\n    }\n\n    .dataframe thead th {\n        text-align: right;\n    }\n</style>\n<table border=\"1\" class=\"dataframe\">\n  <thead>\n    <tr style=\"text-align: right;\">\n      <th></th>\n      <th>week</th>\n      <th>policy_index</th>\n      <th>variant</th>\n      <th>mobility</th>\n      <th>temperature</th>\n      <th>wind</th>\n      <th>infections</th>\n      <th>beta</th>\n      <th>beta_t_minus_1</th>\n      <th>start_date_forecasting</th>\n      <th>district</th>\n    </tr>\n  </thead>\n  <tbody>\n    <tr>\n      <th>92</th>\n      <td>94</td>\n      <td>59.95</td>\n      <td>0</td>\n      <td>-1.428571</td>\n      <td>8.814286</td>\n      <td>19.942857</td>\n      <td>11.489796</td>\n      <td>6.026915e-22</td>\n      <td>6.933729</td>\n      <td>2022-01-03</td>\n      <td>Stadt Zweibrücken</td>\n    </tr>\n    <tr>\n      <th>81</th>\n      <td>83</td>\n      <td>53.57</td>\n      <td>B.1.617.2</td>\n      <td>5.857143</td>\n      <td>5.728571</td>\n      <td>6.428571</td>\n      <td>12.377551</td>\n      <td>3.619277e-21</td>\n      <td>6.510024</td>\n      <td>2021-10-18</td>\n      <td>Memmingen</td>\n    </tr>\n    <tr>\n      <th>91</th>\n      <td>93</td>\n      <td>83.93</td>\n      <td>B.1.617.2</td>\n      <td>6.285714</td>\n      <td>0.757143</td>\n      <td>13.357143</td>\n      <td>14.540816</td>\n      <td>6.570606e-21</td>\n      <td>8.331957</td>\n      <td>2021-12-27</td>\n      <td>Kaufbeuren</td>\n    </tr>\n    <tr>\n      <th>4</th>\n      <td>6</td>\n      <td>65.18</td>\n      <td>Other</td>\n      <td>-22.428571</td>\n      <td>13.314286</td>\n      <td>12.971429</td>\n      <td>4.714286</td>\n      <td>4.776496e-20</td>\n      <td>0.605319</td>\n      <td>2020-04-27</td>\n      <td>Essen</td>\n    </tr>\n    <tr>\n      <th>11</th>\n      <td>13</td>\n      <td>57.44</td>\n      <td>Other</td>\n      <td>-4.571429</td>\n      <td>14.614286</td>\n      <td>10.914286</td>\n      <td>1.622449</td>\n      <td>4.990339e-20</td>\n      <td>0.752731</td>\n      <td>2020-06-15</td>\n      <td>Aichach-Friedberg</td>\n    </tr>\n    <tr>\n      <th>...</th>\n      <td>...</td>\n      <td>...</td>\n      <td>...</td>\n      <td>...</td>\n      <td>...</td>\n      <td>...</td>\n      <td>...</td>\n      <td>...</td>\n      <td>...</td>\n      <td>...</td>\n      <td>...</td>\n    </tr>\n    <tr>\n      <th>72</th>\n      <td>74</td>\n      <td>67.86</td>\n      <td>B.1.617.2</td>\n      <td>0.142857</td>\n      <td>19.328571</td>\n      <td>12.714286</td>\n      <td>1.918367</td>\n      <td>1.262921e+01</td>\n      <td>0.000002</td>\n      <td>2021-08-16</td>\n      <td>Weimarer Land</td>\n    </tr>\n    <tr>\n      <th>67</th>\n      <td>69</td>\n      <td>73.21</td>\n      <td>B.1.617.2</td>\n      <td>19.571429</td>\n      <td>18.085714</td>\n      <td>9.900000</td>\n      <td>1.408163</td>\n      <td>1.627833e+01</td>\n      <td>0.009034</td>\n      <td>2021-07-12</td>\n      <td>Ahrweiler</td>\n    </tr>\n    <tr>\n      <th>64</th>\n      <td>66</td>\n      <td>73.21</td>\n      <td>B.1.1.7</td>\n      <td>0.428571</td>\n      <td>21.100000</td>\n      <td>5.771429</td>\n      <td>0.612245</td>\n      <td>1.925268e+01</td>\n      <td>0.013506</td>\n      <td>2021-06-21</td>\n      <td>Dillingen a.d.Donau</td>\n    </tr>\n    <tr>\n      <th>61</th>\n      <td>63</td>\n      <td>75.12</td>\n      <td>B.1.1.7</td>\n      <td>10.857143</td>\n      <td>10.100000</td>\n      <td>16.585714</td>\n      <td>0.704082</td>\n      <td>2.020258e+01</td>\n      <td>0.020218</td>\n      <td>2021-05-31</td>\n      <td>Wesermarsch</td>\n    </tr>\n    <tr>\n      <th>64</th>\n      <td>66</td>\n      <td>73.21</td>\n      <td>B.1.1.7</td>\n      <td>8.285714</td>\n      <td>21.185714</td>\n      <td>4.557143</td>\n      <td>1.428571</td>\n      <td>2.227038e+01</td>\n      <td>0.024873</td>\n      <td>2021-06-21</td>\n      <td>Berchtesgadener Land</td>\n    </tr>\n  </tbody>\n</table>\n<p>37200 rows × 11 columns</p>\n</div>"
     },
     "execution_count": 74,
     "metadata": {},
     "output_type": "execute_result"
    }
   ],
   "source": [
    "df.sort_values('beta')"
   ],
   "metadata": {
    "collapsed": false,
    "pycharm": {
     "name": "#%%\n"
    }
   }
  },
  {
   "cell_type": "markdown",
   "source": [
    "## 2) Visualize Data:\n",
    "#### 2.1) Average Infections (training period):"
   ],
   "metadata": {
    "collapsed": false,
    "pycharm": {
     "name": "#%% md\n"
    }
   }
  },
  {
   "cell_type": "code",
   "execution_count": 11,
   "outputs": [
    {
     "data": {
      "text/plain": "<Figure size 640x480 with 1 Axes>",
      "image/png": "[encoded data removed]"
     },
     "metadata": {},
     "output_type": "display_data"
    },
    {
     "data": {
      "text/plain": "<ggplot: (386803041)>"
     },
     "execution_count": 11,
     "metadata": {},
     "output_type": "execute_result"
    }
   ],
   "source": [
    "ggplot(df, aes(x='infections')) + geom_histogram(binwidth=5) + coord_cartesian(xlim=(0,250),ylim=(0,10000))"
   ],
   "metadata": {
    "collapsed": false,
    "pycharm": {
     "name": "#%%\n"
    }
   }
  },
  {
   "cell_type": "markdown",
   "source": [
    "#### 2.2) Fitted beta:"
   ],
   "metadata": {
    "collapsed": false,
    "pycharm": {
     "name": "#%% md\n"
    }
   },
   "execution_count": 50
  },
  {
   "cell_type": "code",
   "execution_count": 12,
   "outputs": [
    {
     "data": {
      "text/plain": "<Figure size 640x480 with 1 Axes>",
      "image/png": "[encoded data removed]"
     },
     "metadata": {},
     "output_type": "display_data"
    },
    {
     "data": {
      "text/plain": "<ggplot: (283696252)>"
     },
     "execution_count": 12,
     "metadata": {},
     "output_type": "execute_result"
    }
   ],
   "source": [
    "ggplot(df, aes(x='beta')) + geom_histogram(binwidth=0.025) + coord_cartesian(xlim=(0,2),ylim=(0,5000))"
   ],
   "metadata": {
    "collapsed": false,
    "pycharm": {
     "name": "#%%\n"
    }
   }
  },
  {
   "cell_type": "markdown",
   "source": [
    "#### 2.3) Average infections Münster"
   ],
   "metadata": {
    "collapsed": false,
    "pycharm": {
     "name": "#%% md\n"
    }
   }
  },
  {
   "cell_type": "code",
   "execution_count": 13,
   "outputs": [
    {
     "data": {
      "text/plain": "<Figure size 640x480 with 1 Axes>",
      "image/png": "[encoded data removed]"
     },
     "metadata": {},
     "output_type": "display_data"
    },
    {
     "data": {
      "text/plain": "<ggplot: (386339088)>"
     },
     "execution_count": 13,
     "metadata": {},
     "output_type": "execute_result"
    }
   ],
   "source": [
    "district = 'Münster'\n",
    "df_v2_3 = df[df['district']==district][['week','district','infections','beta']]\n",
    "\n",
    "# Devide both columns by their mean so that they fit in one plot:\n",
    "df_v2_3['infections'] = df_v2_3['infections']/df_v2_3['infections'].mean()\n",
    "df_v2_3['beta'] = df_v2_3['beta']/df_v2_3['beta'].mean()\n",
    "\n",
    "ggplot(df_v2_3) \\\n",
    "+ geom_line(aes(x='week', y='beta'), color='yellow')\\\n",
    "+ geom_line(aes(x='week', y='infections'), color='green', size=2)"
   ],
   "metadata": {
    "collapsed": false,
    "pycharm": {
     "name": "#%%\n"
    }
   }
  },
  {
   "cell_type": "markdown",
   "source": [
    "#### 2.4) Policy index vs infections: (Germany)"
   ],
   "metadata": {
    "collapsed": false,
    "pycharm": {
     "name": "#%% md\n"
    }
   }
  },
  {
   "cell_type": "code",
   "execution_count": 14,
   "outputs": [
    {
     "data": {
      "text/plain": "<Figure size 640x480 with 1 Axes>",
      "image/png": "[encoded data removed]"
     },
     "metadata": {},
     "output_type": "display_data"
    },
    {
     "data": {
      "text/plain": "<ggplot: (386803134)>"
     },
     "execution_count": 14,
     "metadata": {},
     "output_type": "execute_result"
    }
   ],
   "source": [
    "df_v2_4 = df.groupby('week').sum()\n",
    "\n",
    "# Devide both columns by their max so that they fit in one plot:\n",
    "df_v2_4['infections'] = df_v2_4['infections']/df_v2_4['infections'].max()\n",
    "df_v2_4['policy_index'] = df_v2_4['policy_index']/df_v2_4['policy_index'].max()\n",
    "\n",
    "ggplot(df_v2_4.reset_index())\\\n",
    "+ geom_line(aes(x='week', y='policy_index'), color='yellow')\\\n",
    "+ geom_line(aes(x='week', y='infections'), color='green', size=2)"
   ],
   "metadata": {
    "collapsed": false,
    "pycharm": {
     "name": "#%%\n"
    }
   }
  },
  {
   "cell_type": "markdown",
   "source": [
    "## 3) Feature Engineering:\n",
    "#### Lagged beta: (NO LONGER NECESSARY!)"
   ],
   "metadata": {
    "collapsed": false,
    "pycharm": {
     "name": "#%% md\n"
    }
   }
  },
  {
   "cell_type": "code",
   "execution_count": 15,
   "outputs": [],
   "source": [
    "# Sort values by district and week before lagging:\n",
    "df.sort_values(['district','week'], inplace=True)"
   ],
   "metadata": {
    "collapsed": false,
    "pycharm": {
     "name": "#%%\n"
    }
   }
  },
  {
   "cell_type": "code",
   "execution_count": 16,
   "outputs": [
    {
     "data": {
      "text/plain": "0.47832132020327517"
     },
     "execution_count": 16,
     "metadata": {},
     "output_type": "execute_result"
    }
   ],
   "source": [
    "# Check out correlation between current and previous weeks beta:\n",
    "df['beta'].corr(df['beta_t_minus_1'] )"
   ],
   "metadata": {
    "collapsed": false,
    "pycharm": {
     "name": "#%%\n"
    }
   }
  },
  {
   "cell_type": "markdown",
   "source": [
    "## 4) Data cleaning:\n",
    "#### Identify missing values:"
   ],
   "metadata": {
    "collapsed": false,
    "pycharm": {
     "name": "#%% md\n"
    }
   },
   "outputs": [
    {
     "data": {
      "text/plain": "week                  0\npolicy_index          0\nvariant               0\nmobility              0\ntemperature         243\nwind               3827\ninfections            0\nbeta                  0\ndistrict              0\nbeta_lag_1_week       0\nbeta_lag_2_week       0\nbeta_lag_3_week       0\ndtype: int64"
     },
     "execution_count": 77,
     "metadata": {},
     "output_type": "execute_result"
    }
   ],
   "execution_count": 77
  },
  {
   "cell_type": "code",
   "execution_count": 17,
   "outputs": [
    {
     "data": {
      "text/plain": "week                         0\npolicy_index                 0\nvariant                      0\nmobility                     0\ntemperature                236\nwind                      3739\ninfections                   0\nbeta                         0\nbeta_t_minus_1               0\nstart_date_forecasting       0\ndistrict                     0\ndtype: int64"
     },
     "execution_count": 17,
     "metadata": {},
     "output_type": "execute_result"
    }
   ],
   "source": [
    "df.isnull().sum()"
   ],
   "metadata": {
    "collapsed": false,
    "pycharm": {
     "name": "#%%\n"
    }
   }
  },
  {
   "cell_type": "markdown",
   "source": [
    "#### Fill missing values with previous column:\n",
    "Forward fill: Fill down (-> if missing value in week 50 use value of week 49)"
   ],
   "metadata": {
    "collapsed": false,
    "pycharm": {
     "name": "#%% md\n"
    }
   }
  },
  {
   "cell_type": "code",
   "execution_count": 18,
   "outputs": [],
   "source": [
    "df_v4 = df.copy()"
   ],
   "metadata": {
    "collapsed": false,
    "pycharm": {
     "name": "#%%\n"
    }
   }
  },
  {
   "cell_type": "code",
   "execution_count": 19,
   "outputs": [
    {
     "name": "stderr",
     "output_type": "stream",
     "text": [
      "/var/folders/f9/_57rk_kx5jqbkd8vvnwckf2c0000gn/T/ipykernel_46978/1409488165.py:1: FutureWarning: Dropping invalid columns in DataFrameGroupBy.transform is deprecated. In a future version, a TypeError will be raised. Before calling .transform, select only columns which should be valid for the transforming function.\n",
      "/var/folders/f9/_57rk_kx5jqbkd8vvnwckf2c0000gn/T/ipykernel_46978/1409488165.py:2: FutureWarning: Dropping invalid columns in DataFrameGroupBy.transform is deprecated. In a future version, a TypeError will be raised. Before calling .transform, select only columns which should be valid for the transforming function.\n"
     ]
    }
   ],
   "source": [
    "df_v4['temperature'] = df.groupby(\"week\").transform(lambda x: x.fillna(x.mean()))['temperature']\n",
    "df_v4['wind'] = df.groupby(\"week\").transform(lambda x: x.fillna(x.mean()))['wind']"
   ],
   "metadata": {
    "collapsed": false,
    "pycharm": {
     "name": "#%%\n"
    }
   }
  },
  {
   "cell_type": "code",
   "execution_count": 20,
   "outputs": [
    {
     "data": {
      "text/plain": "    week  policy_index    variant   mobility  temperature       wind  \\\n0      2     62.500000      Other -41.714286     5.171429  14.975758   \n1      3     63.778571      Other -34.428571     5.914286  11.157143   \n2      4     65.180000      Other -29.285714    15.071429  10.571429   \n3      5     65.180000      Other -32.857143    11.085714  11.071429   \n4      6     65.180000      Other -23.714286    13.500000  17.157143   \n..   ...           ...        ...        ...          ...        ...   \n88    90     81.761429  B.1.617.2  -9.714286     1.757143  17.071429   \n89    91     83.930000  B.1.617.2  -2.571429     0.428571   8.528571   \n90    92     83.930000  B.1.617.2  -1.000000     4.842857  10.485714   \n91    93     83.930000  B.1.617.2  -4.285714    -1.200000  10.700000   \n92    94     59.950000          0 -15.714286     7.871429  16.885714   \n\n    infections      beta  beta_t_minus_1 start_date_forecasting district  \n0    52.469388  0.279336        0.323306             2020-03-30   Aachen  \n1    36.877551  0.144479        0.378790             2020-04-06   Aachen  \n2    25.244898  0.190455        0.180074             2020-04-13   Aachen  \n3    16.683673  0.180385        0.177962             2020-04-20   Aachen  \n4     8.091837  0.062952        0.251573             2020-04-27   Aachen  \n..         ...       ...             ...                    ...      ...  \n88  412.040816  0.498803        0.447938             2021-12-06  Zwickau  \n89  305.561224  0.437243        0.520256             2021-12-13  Zwickau  \n90  202.959184  0.377533        0.509719             2021-12-20  Zwickau  \n91  143.448980  0.511456        0.393324             2021-12-27  Zwickau  \n92  106.755102  0.485335        0.530693             2022-01-03  Zwickau  \n\n[37200 rows x 11 columns]",
      "text/html": "<div>\n<style scoped>\n    .dataframe tbody tr th:only-of-type {\n        vertical-align: middle;\n    }\n\n    .dataframe tbody tr th {\n        vertical-align: top;\n    }\n\n    .dataframe thead th {\n        text-align: right;\n    }\n</style>\n<table border=\"1\" class=\"dataframe\">\n  <thead>\n    <tr style=\"text-align: right;\">\n      <th></th>\n      <th>week</th>\n      <th>policy_index</th>\n      <th>variant</th>\n      <th>mobility</th>\n      <th>temperature</th>\n      <th>wind</th>\n      <th>infections</th>\n      <th>beta</th>\n      <th>beta_t_minus_1</th>\n      <th>start_date_forecasting</th>\n      <th>district</th>\n    </tr>\n  </thead>\n  <tbody>\n    <tr>\n      <th>0</th>\n      <td>2</td>\n      <td>62.500000</td>\n      <td>Other</td>\n      <td>-41.714286</td>\n      <td>5.171429</td>\n      <td>14.975758</td>\n      <td>52.469388</td>\n      <td>0.279336</td>\n      <td>0.323306</td>\n      <td>2020-03-30</td>\n      <td>Aachen</td>\n    </tr>\n    <tr>\n      <th>1</th>\n      <td>3</td>\n      <td>63.778571</td>\n      <td>Other</td>\n      <td>-34.428571</td>\n      <td>5.914286</td>\n      <td>11.157143</td>\n      <td>36.877551</td>\n      <td>0.144479</td>\n      <td>0.378790</td>\n      <td>2020-04-06</td>\n      <td>Aachen</td>\n    </tr>\n    <tr>\n      <th>2</th>\n      <td>4</td>\n      <td>65.180000</td>\n      <td>Other</td>\n      <td>-29.285714</td>\n      <td>15.071429</td>\n      <td>10.571429</td>\n      <td>25.244898</td>\n      <td>0.190455</td>\n      <td>0.180074</td>\n      <td>2020-04-13</td>\n      <td>Aachen</td>\n    </tr>\n    <tr>\n      <th>3</th>\n      <td>5</td>\n      <td>65.180000</td>\n      <td>Other</td>\n      <td>-32.857143</td>\n      <td>11.085714</td>\n      <td>11.071429</td>\n      <td>16.683673</td>\n      <td>0.180385</td>\n      <td>0.177962</td>\n      <td>2020-04-20</td>\n      <td>Aachen</td>\n    </tr>\n    <tr>\n      <th>4</th>\n      <td>6</td>\n      <td>65.180000</td>\n      <td>Other</td>\n      <td>-23.714286</td>\n      <td>13.500000</td>\n      <td>17.157143</td>\n      <td>8.091837</td>\n      <td>0.062952</td>\n      <td>0.251573</td>\n      <td>2020-04-27</td>\n      <td>Aachen</td>\n    </tr>\n    <tr>\n      <th>...</th>\n      <td>...</td>\n      <td>...</td>\n      <td>...</td>\n      <td>...</td>\n      <td>...</td>\n      <td>...</td>\n      <td>...</td>\n      <td>...</td>\n      <td>...</td>\n      <td>...</td>\n      <td>...</td>\n    </tr>\n    <tr>\n      <th>88</th>\n      <td>90</td>\n      <td>81.761429</td>\n      <td>B.1.617.2</td>\n      <td>-9.714286</td>\n      <td>1.757143</td>\n      <td>17.071429</td>\n      <td>412.040816</td>\n      <td>0.498803</td>\n      <td>0.447938</td>\n      <td>2021-12-06</td>\n      <td>Zwickau</td>\n    </tr>\n    <tr>\n      <th>89</th>\n      <td>91</td>\n      <td>83.930000</td>\n      <td>B.1.617.2</td>\n      <td>-2.571429</td>\n      <td>0.428571</td>\n      <td>8.528571</td>\n      <td>305.561224</td>\n      <td>0.437243</td>\n      <td>0.520256</td>\n      <td>2021-12-13</td>\n      <td>Zwickau</td>\n    </tr>\n    <tr>\n      <th>90</th>\n      <td>92</td>\n      <td>83.930000</td>\n      <td>B.1.617.2</td>\n      <td>-1.000000</td>\n      <td>4.842857</td>\n      <td>10.485714</td>\n      <td>202.959184</td>\n      <td>0.377533</td>\n      <td>0.509719</td>\n      <td>2021-12-20</td>\n      <td>Zwickau</td>\n    </tr>\n    <tr>\n      <th>91</th>\n      <td>93</td>\n      <td>83.930000</td>\n      <td>B.1.617.2</td>\n      <td>-4.285714</td>\n      <td>-1.200000</td>\n      <td>10.700000</td>\n      <td>143.448980</td>\n      <td>0.511456</td>\n      <td>0.393324</td>\n      <td>2021-12-27</td>\n      <td>Zwickau</td>\n    </tr>\n    <tr>\n      <th>92</th>\n      <td>94</td>\n      <td>59.950000</td>\n      <td>0</td>\n      <td>-15.714286</td>\n      <td>7.871429</td>\n      <td>16.885714</td>\n      <td>106.755102</td>\n      <td>0.485335</td>\n      <td>0.530693</td>\n      <td>2022-01-03</td>\n      <td>Zwickau</td>\n    </tr>\n  </tbody>\n</table>\n<p>37200 rows × 11 columns</p>\n</div>"
     },
     "execution_count": 20,
     "metadata": {},
     "output_type": "execute_result"
    }
   ],
   "source": [
    "df_v4"
   ],
   "metadata": {
    "collapsed": false,
    "pycharm": {
     "name": "#%%\n"
    }
   }
  },
  {
   "cell_type": "markdown",
   "source": [
    "## 5) Outlier removal:\n"
   ],
   "metadata": {
    "collapsed": false
   }
  },
  {
   "cell_type": "code",
   "execution_count": 21,
   "outputs": [],
   "source": [
    "# Identify outliers:"
   ],
   "metadata": {
    "collapsed": false,
    "pycharm": {
     "name": "#%%\n"
    }
   }
  },
  {
   "cell_type": "code",
   "execution_count": 104,
   "outputs": [
    {
     "data": {
      "text/plain": "    week  policy_index    variant   mobility  temperature       wind  \\\n43    45     70.710000      Other  -0.142857     2.742857  18.042857   \n41    43     71.985714    B.1.1.7 -15.714286    -1.585714   8.928571   \n43    45     70.710000      Other -18.000000     4.814286  14.385714   \n40    42     73.690000      Other -28.857143     2.228571  11.771429   \n38    40     68.790000    B.1.1.7 -30.714286     4.871429  14.228571   \n..   ...           ...        ...        ...          ...        ...   \n84    86     58.040000  B.1.617.2   3.428571     6.500000  10.071429   \n87    89     74.447143  B.1.617.2 -16.142857     1.800000  12.185714   \n92    94     59.950000          0  12.142857     7.042857  19.728571   \n84    86     58.040000  B.1.617.2  -3.714286     7.671429  17.071429   \n84    86     58.040000  B.1.617.2  54.714286     8.000000  13.071429   \n\n    infections          beta  beta_t_minus_1 start_date_forecasting  \\\n43   38.428571  2.246029e-01        0.009794             2021-01-25   \n41   76.775510  2.635428e-01        0.054177             2021-01-11   \n43   38.744898  1.881111e-01        0.054648             2021-01-25   \n40   85.724490  4.545210e-01        0.063055             2021-01-04   \n38   48.122449  7.275942e-01        0.064469             2020-12-21   \n..         ...           ...             ...                    ...   \n84   82.122449  5.897155e+00        6.885920             2021-11-08   \n87  120.204082  5.125914e+00        6.930438             2021-11-29   \n92   23.285714  1.052825e-12        7.128607             2022-01-03   \n84   34.581633  5.782073e+00        7.691740             2021-11-08   \n84   32.663265  4.521375e+00        8.510537             2021-11-08   \n\n                       district  \n43             Mansfeld-Südharz  \n41                Vogtlandkreis  \n43                    Bielefeld  \n40  Regionalverband Saarbrücken  \n38                      Potsdam  \n..                          ...  \n84          Landkreis Saarlouis  \n87                         Gera  \n92                   Kaufbeuren  \n84              Bayreuth, Stadt  \n84             Frankfurt (Oder)  \n\n[13504 rows x 11 columns]",
      "text/html": "<div>\n<style scoped>\n    .dataframe tbody tr th:only-of-type {\n        vertical-align: middle;\n    }\n\n    .dataframe tbody tr th {\n        vertical-align: top;\n    }\n\n    .dataframe thead th {\n        text-align: right;\n    }\n</style>\n<table border=\"1\" class=\"dataframe\">\n  <thead>\n    <tr style=\"text-align: right;\">\n      <th></th>\n      <th>week</th>\n      <th>policy_index</th>\n      <th>variant</th>\n      <th>mobility</th>\n      <th>temperature</th>\n      <th>wind</th>\n      <th>infections</th>\n      <th>beta</th>\n      <th>beta_t_minus_1</th>\n      <th>start_date_forecasting</th>\n      <th>district</th>\n    </tr>\n  </thead>\n  <tbody>\n    <tr>\n      <th>43</th>\n      <td>45</td>\n      <td>70.710000</td>\n      <td>Other</td>\n      <td>-0.142857</td>\n      <td>2.742857</td>\n      <td>18.042857</td>\n      <td>38.428571</td>\n      <td>2.246029e-01</td>\n      <td>0.009794</td>\n      <td>2021-01-25</td>\n      <td>Mansfeld-Südharz</td>\n    </tr>\n    <tr>\n      <th>41</th>\n      <td>43</td>\n      <td>71.985714</td>\n      <td>B.1.1.7</td>\n      <td>-15.714286</td>\n      <td>-1.585714</td>\n      <td>8.928571</td>\n      <td>76.775510</td>\n      <td>2.635428e-01</td>\n      <td>0.054177</td>\n      <td>2021-01-11</td>\n      <td>Vogtlandkreis</td>\n    </tr>\n    <tr>\n      <th>43</th>\n      <td>45</td>\n      <td>70.710000</td>\n      <td>Other</td>\n      <td>-18.000000</td>\n      <td>4.814286</td>\n      <td>14.385714</td>\n      <td>38.744898</td>\n      <td>1.881111e-01</td>\n      <td>0.054648</td>\n      <td>2021-01-25</td>\n      <td>Bielefeld</td>\n    </tr>\n    <tr>\n      <th>40</th>\n      <td>42</td>\n      <td>73.690000</td>\n      <td>Other</td>\n      <td>-28.857143</td>\n      <td>2.228571</td>\n      <td>11.771429</td>\n      <td>85.724490</td>\n      <td>4.545210e-01</td>\n      <td>0.063055</td>\n      <td>2021-01-04</td>\n      <td>Regionalverband Saarbrücken</td>\n    </tr>\n    <tr>\n      <th>38</th>\n      <td>40</td>\n      <td>68.790000</td>\n      <td>B.1.1.7</td>\n      <td>-30.714286</td>\n      <td>4.871429</td>\n      <td>14.228571</td>\n      <td>48.122449</td>\n      <td>7.275942e-01</td>\n      <td>0.064469</td>\n      <td>2020-12-21</td>\n      <td>Potsdam</td>\n    </tr>\n    <tr>\n      <th>...</th>\n      <td>...</td>\n      <td>...</td>\n      <td>...</td>\n      <td>...</td>\n      <td>...</td>\n      <td>...</td>\n      <td>...</td>\n      <td>...</td>\n      <td>...</td>\n      <td>...</td>\n      <td>...</td>\n    </tr>\n    <tr>\n      <th>84</th>\n      <td>86</td>\n      <td>58.040000</td>\n      <td>B.1.617.2</td>\n      <td>3.428571</td>\n      <td>6.500000</td>\n      <td>10.071429</td>\n      <td>82.122449</td>\n      <td>5.897155e+00</td>\n      <td>6.885920</td>\n      <td>2021-11-08</td>\n      <td>Landkreis Saarlouis</td>\n    </tr>\n    <tr>\n      <th>87</th>\n      <td>89</td>\n      <td>74.447143</td>\n      <td>B.1.617.2</td>\n      <td>-16.142857</td>\n      <td>1.800000</td>\n      <td>12.185714</td>\n      <td>120.204082</td>\n      <td>5.125914e+00</td>\n      <td>6.930438</td>\n      <td>2021-11-29</td>\n      <td>Gera</td>\n    </tr>\n    <tr>\n      <th>92</th>\n      <td>94</td>\n      <td>59.950000</td>\n      <td>0</td>\n      <td>12.142857</td>\n      <td>7.042857</td>\n      <td>19.728571</td>\n      <td>23.285714</td>\n      <td>1.052825e-12</td>\n      <td>7.128607</td>\n      <td>2022-01-03</td>\n      <td>Kaufbeuren</td>\n    </tr>\n    <tr>\n      <th>84</th>\n      <td>86</td>\n      <td>58.040000</td>\n      <td>B.1.617.2</td>\n      <td>-3.714286</td>\n      <td>7.671429</td>\n      <td>17.071429</td>\n      <td>34.581633</td>\n      <td>5.782073e+00</td>\n      <td>7.691740</td>\n      <td>2021-11-08</td>\n      <td>Bayreuth, Stadt</td>\n    </tr>\n    <tr>\n      <th>84</th>\n      <td>86</td>\n      <td>58.040000</td>\n      <td>B.1.617.2</td>\n      <td>54.714286</td>\n      <td>8.000000</td>\n      <td>13.071429</td>\n      <td>32.663265</td>\n      <td>4.521375e+00</td>\n      <td>8.510537</td>\n      <td>2021-11-08</td>\n      <td>Frankfurt (Oder)</td>\n    </tr>\n  </tbody>\n</table>\n<p>13504 rows × 11 columns</p>\n</div>"
     },
     "execution_count": 104,
     "metadata": {},
     "output_type": "execute_result"
    }
   ],
   "source": [
    "df_v4[df_v4['infections'] > 20].sort_values('beta_t_minus_1', ascending=True)"
   ],
   "metadata": {
    "collapsed": false,
    "pycharm": {
     "name": "#%%\n"
    }
   }
  },
  {
   "cell_type": "markdown",
   "source": [
    "#### 5.1) Infection counts:\n",
    "Remove weeks in which the average number of daily infections where below a threshold as for extremely low values it is really hard to forecast beta:"
   ],
   "metadata": {
    "collapsed": false,
    "pycharm": {
     "name": "#%% md\n"
    }
   }
  },
  {
   "cell_type": "code",
   "execution_count": 105,
   "outputs": [],
   "source": [
    "# Drop all rows in which average number of infections is below 5:\n",
    "threshold = 10\n",
    "df_v5_1 = df_v4[df_v4['infections'] > threshold]"
   ],
   "metadata": {
    "collapsed": false,
    "pycharm": {
     "name": "#%%\n"
    }
   }
  },
  {
   "cell_type": "markdown",
   "source": [
    "#### 5.2) Beta values:"
   ],
   "metadata": {
    "collapsed": false
   }
  },
  {
   "cell_type": "code",
   "execution_count": 106,
   "outputs": [],
   "source": [
    "# Drop all rows in which the beta value is < 0.025:\n",
    "threshold = 0.025\n",
    "df_v5_2 = df_v5_1[df_v5_1['beta'] > threshold]"
   ],
   "metadata": {
    "collapsed": false,
    "pycharm": {
     "name": "#%%\n"
    }
   }
  },
  {
   "cell_type": "markdown",
   "source": [
    "## 6) Preprocessing columns:\n",
    "#### 6.1) Handling categorical columns:"
   ],
   "metadata": {
    "collapsed": false,
    "pycharm": {
     "name": "#%% md\n"
    }
   }
  },
  {
   "cell_type": "code",
   "execution_count": 107,
   "outputs": [],
   "source": [
    "# Only use week and district as index columns:\n",
    "df_v6_1 = df_v5_2.set_index(['week','district','start_date_forecasting'])"
   ],
   "metadata": {
    "collapsed": false,
    "pycharm": {
     "name": "#%%\n"
    }
   }
  },
  {
   "cell_type": "code",
   "execution_count": 108,
   "outputs": [],
   "source": [
    "# One hot-encode variant columns:\n",
    "df_v6_2_a = pd.get_dummies(df_v6_1['variant'])\n",
    "df_v6_2_b = df_v6_1.drop(columns='variant', axis=1)\n",
    "\n",
    "df_v6_2_c = pd.concat([df_v6_2_a,df_v6_2_b], axis=1)"
   ],
   "metadata": {
    "collapsed": false,
    "pycharm": {
     "name": "#%%\n"
    }
   }
  },
  {
   "cell_type": "code",
   "execution_count": 109,
   "outputs": [],
   "source": [
    "# Drop \"other\" variant column to prevent dummy variable trap:\n",
    "df_v6_2_d = df_v6_2_c.drop(columns='Other', axis=1)"
   ],
   "metadata": {
    "collapsed": false,
    "pycharm": {
     "name": "#%%\n"
    }
   }
  },
  {
   "cell_type": "code",
   "execution_count": 110,
   "outputs": [],
   "source": [
    "# Drop zero column:\n",
    "df_v6_2_e = df_v6_2_d.drop(columns='0', axis=1)"
   ],
   "metadata": {
    "collapsed": false,
    "pycharm": {
     "name": "#%%\n"
    }
   }
  },
  {
   "cell_type": "code",
   "execution_count": 111,
   "outputs": [
    {
     "data": {
      "text/plain": "                                      B.1.1.7  B.1.617.2  policy_index  \\\nweek district start_date_forecasting                                     \n2    Aachen   2020-03-30                    0          0     62.500000   \n3    Aachen   2020-04-06                    0          0     63.778571   \n4    Aachen   2020-04-13                    0          0     65.180000   \n5    Aachen   2020-04-20                    0          0     65.180000   \n25   Aachen   2020-09-07                    0          0     58.032857   \n...                                       ...        ...           ...   \n90   Zwickau  2021-12-06                    0          1     81.761429   \n91   Zwickau  2021-12-13                    0          1     83.930000   \n92   Zwickau  2021-12-20                    0          1     83.930000   \n93   Zwickau  2021-12-27                    0          1     83.930000   \n94   Zwickau  2022-01-03                    0          0     59.950000   \n\n                                       mobility  temperature       wind  \\\nweek district start_date_forecasting                                      \n2    Aachen   2020-03-30             -41.714286     5.171429  14.975758   \n3    Aachen   2020-04-06             -34.428571     5.914286  11.157143   \n4    Aachen   2020-04-13             -29.285714    15.071429  10.571429   \n5    Aachen   2020-04-20             -32.857143    11.085714  11.071429   \n25   Aachen   2020-09-07               4.000000    15.171429  10.200000   \n...                                         ...          ...        ...   \n90   Zwickau  2021-12-06              -9.714286     1.757143  17.071429   \n91   Zwickau  2021-12-13              -2.571429     0.428571   8.528571   \n92   Zwickau  2021-12-20              -1.000000     4.842857  10.485714   \n93   Zwickau  2021-12-27              -4.285714    -1.200000  10.700000   \n94   Zwickau  2022-01-03             -15.714286     7.871429  16.885714   \n\n                                      infections      beta  beta_t_minus_1  \nweek district start_date_forecasting                                        \n2    Aachen   2020-03-30               52.469388  0.279336        0.323306  \n3    Aachen   2020-04-06               36.877551  0.144479        0.378790  \n4    Aachen   2020-04-13               25.244898  0.190455        0.180074  \n5    Aachen   2020-04-20               16.683673  0.180385        0.177962  \n25   Aachen   2020-09-07               11.132653  0.584775        0.181417  \n...                                          ...       ...             ...  \n90   Zwickau  2021-12-06              412.040816  0.498803        0.447938  \n91   Zwickau  2021-12-13              305.561224  0.437243        0.520256  \n92   Zwickau  2021-12-20              202.959184  0.377533        0.509719  \n93   Zwickau  2021-12-27              143.448980  0.511456        0.393324  \n94   Zwickau  2022-01-03              106.755102  0.485335        0.530693  \n\n[19218 rows x 9 columns]",
      "text/html": "<div>\n<style scoped>\n    .dataframe tbody tr th:only-of-type {\n        vertical-align: middle;\n    }\n\n    .dataframe tbody tr th {\n        vertical-align: top;\n    }\n\n    .dataframe thead th {\n        text-align: right;\n    }\n</style>\n<table border=\"1\" class=\"dataframe\">\n  <thead>\n    <tr style=\"text-align: right;\">\n      <th></th>\n      <th></th>\n      <th></th>\n      <th>B.1.1.7</th>\n      <th>B.1.617.2</th>\n      <th>policy_index</th>\n      <th>mobility</th>\n      <th>temperature</th>\n      <th>wind</th>\n      <th>infections</th>\n      <th>beta</th>\n      <th>beta_t_minus_1</th>\n    </tr>\n    <tr>\n      <th>week</th>\n      <th>district</th>\n      <th>start_date_forecasting</th>\n      <th></th>\n      <th></th>\n      <th></th>\n      <th></th>\n      <th></th>\n      <th></th>\n      <th></th>\n      <th></th>\n      <th></th>\n    </tr>\n  </thead>\n  <tbody>\n    <tr>\n      <th>2</th>\n      <th>Aachen</th>\n      <th>2020-03-30</th>\n      <td>0</td>\n      <td>0</td>\n      <td>62.500000</td>\n      <td>-41.714286</td>\n      <td>5.171429</td>\n      <td>14.975758</td>\n      <td>52.469388</td>\n      <td>0.279336</td>\n      <td>0.323306</td>\n    </tr>\n    <tr>\n      <th>3</th>\n      <th>Aachen</th>\n      <th>2020-04-06</th>\n      <td>0</td>\n      <td>0</td>\n      <td>63.778571</td>\n      <td>-34.428571</td>\n      <td>5.914286</td>\n      <td>11.157143</td>\n      <td>36.877551</td>\n      <td>0.144479</td>\n      <td>0.378790</td>\n    </tr>\n    <tr>\n      <th>4</th>\n      <th>Aachen</th>\n      <th>2020-04-13</th>\n      <td>0</td>\n      <td>0</td>\n      <td>65.180000</td>\n      <td>-29.285714</td>\n      <td>15.071429</td>\n      <td>10.571429</td>\n      <td>25.244898</td>\n      <td>0.190455</td>\n      <td>0.180074</td>\n    </tr>\n    <tr>\n      <th>5</th>\n      <th>Aachen</th>\n      <th>2020-04-20</th>\n      <td>0</td>\n      <td>0</td>\n      <td>65.180000</td>\n      <td>-32.857143</td>\n      <td>11.085714</td>\n      <td>11.071429</td>\n      <td>16.683673</td>\n      <td>0.180385</td>\n      <td>0.177962</td>\n    </tr>\n    <tr>\n      <th>25</th>\n      <th>Aachen</th>\n      <th>2020-09-07</th>\n      <td>0</td>\n      <td>0</td>\n      <td>58.032857</td>\n      <td>4.000000</td>\n      <td>15.171429</td>\n      <td>10.200000</td>\n      <td>11.132653</td>\n      <td>0.584775</td>\n      <td>0.181417</td>\n    </tr>\n    <tr>\n      <th>...</th>\n      <th>...</th>\n      <th>...</th>\n      <td>...</td>\n      <td>...</td>\n      <td>...</td>\n      <td>...</td>\n      <td>...</td>\n      <td>...</td>\n      <td>...</td>\n      <td>...</td>\n      <td>...</td>\n    </tr>\n    <tr>\n      <th>90</th>\n      <th>Zwickau</th>\n      <th>2021-12-06</th>\n      <td>0</td>\n      <td>1</td>\n      <td>81.761429</td>\n      <td>-9.714286</td>\n      <td>1.757143</td>\n      <td>17.071429</td>\n      <td>412.040816</td>\n      <td>0.498803</td>\n      <td>0.447938</td>\n    </tr>\n    <tr>\n      <th>91</th>\n      <th>Zwickau</th>\n      <th>2021-12-13</th>\n      <td>0</td>\n      <td>1</td>\n      <td>83.930000</td>\n      <td>-2.571429</td>\n      <td>0.428571</td>\n      <td>8.528571</td>\n      <td>305.561224</td>\n      <td>0.437243</td>\n      <td>0.520256</td>\n    </tr>\n    <tr>\n      <th>92</th>\n      <th>Zwickau</th>\n      <th>2021-12-20</th>\n      <td>0</td>\n      <td>1</td>\n      <td>83.930000</td>\n      <td>-1.000000</td>\n      <td>4.842857</td>\n      <td>10.485714</td>\n      <td>202.959184</td>\n      <td>0.377533</td>\n      <td>0.509719</td>\n    </tr>\n    <tr>\n      <th>93</th>\n      <th>Zwickau</th>\n      <th>2021-12-27</th>\n      <td>0</td>\n      <td>1</td>\n      <td>83.930000</td>\n      <td>-4.285714</td>\n      <td>-1.200000</td>\n      <td>10.700000</td>\n      <td>143.448980</td>\n      <td>0.511456</td>\n      <td>0.393324</td>\n    </tr>\n    <tr>\n      <th>94</th>\n      <th>Zwickau</th>\n      <th>2022-01-03</th>\n      <td>0</td>\n      <td>0</td>\n      <td>59.950000</td>\n      <td>-15.714286</td>\n      <td>7.871429</td>\n      <td>16.885714</td>\n      <td>106.755102</td>\n      <td>0.485335</td>\n      <td>0.530693</td>\n    </tr>\n  </tbody>\n</table>\n<p>19218 rows × 9 columns</p>\n</div>"
     },
     "execution_count": 111,
     "metadata": {},
     "output_type": "execute_result"
    }
   ],
   "source": [
    "df_v6_2_e"
   ],
   "metadata": {
    "collapsed": false,
    "pycharm": {
     "name": "#%%\n"
    }
   }
  },
  {
   "cell_type": "markdown",
   "source": [
    "#### 6.2) Standardizing:"
   ],
   "metadata": {
    "collapsed": false,
    "pycharm": {
     "name": "#%% md\n"
    }
   }
  },
  {
   "cell_type": "code",
   "source": [
    "# Standardize:\n",
    "scaler_obj = StandardScaler()\n",
    "\n",
    "# Split explanatory columns from beta:\n",
    "explanatory_cols = df_v6_2_e.drop(columns=['beta'], axis=1)\n",
    "beta_cols = df_v6_2_e[['beta']]\n",
    "\n",
    "# Apply scaling:\n",
    "scaled_explanatory_cols = pd.DataFrame(scaler_obj.fit_transform(explanatory_cols), index=explanatory_cols.index, columns=explanatory_cols.columns)\n",
    "\n",
    "# Merge both together again:\n",
    "df_v6_3 = pd.concat([scaled_explanatory_cols, beta_cols], axis=1)\n",
    "df_v6_3"
   ],
   "metadata": {
    "collapsed": false,
    "pycharm": {
     "name": "#%%\n"
    }
   },
   "execution_count": 112,
   "outputs": [
    {
     "data": {
      "text/plain": "                                       B.1.1.7  B.1.617.2  policy_index  \\\nweek district start_date_forecasting                                      \n2    Aachen   2020-03-30             -0.692338  -0.751908     -0.623553   \n3    Aachen   2020-04-06             -0.692338  -0.751908     -0.453805   \n4    Aachen   2020-04-13             -0.692338  -0.751908     -0.267746   \n5    Aachen   2020-04-20             -0.692338  -0.751908     -0.267746   \n25   Aachen   2020-09-07             -0.692338  -0.751908     -1.216627   \n...                                        ...        ...           ...   \n90   Zwickau  2021-12-06             -0.692338   1.329949      1.933664   \n91   Zwickau  2021-12-13             -0.692338   1.329949      2.221571   \n92   Zwickau  2021-12-20             -0.692338   1.329949      2.221571   \n93   Zwickau  2021-12-27             -0.692338   1.329949      2.221571   \n94   Zwickau  2022-01-03             -0.692338  -0.751908     -0.962100   \n\n                                      mobility  temperature      wind  \\\nweek district start_date_forecasting                                    \n2    Aachen   2020-03-30             -2.627390    -0.323276  0.947990   \n3    Aachen   2020-04-06             -2.123714    -0.187870 -0.065911   \n4    Aachen   2020-04-13             -1.768177     1.481269 -0.221427   \n5    Aachen   2020-04-20             -2.015078     0.754764 -0.088670   \n25   Aachen   2020-09-07              0.532931     1.499497 -0.320047   \n...                                        ...          ...       ...   \n90   Zwickau  2021-12-06             -0.415165    -0.945623  1.504422   \n91   Zwickau  2021-12-13              0.078635    -1.187791 -0.763837   \n92   Zwickau  2021-12-20              0.187271    -0.383167 -0.244186   \n93   Zwickau  2021-12-27             -0.039877    -1.484643 -0.187290   \n94   Zwickau  2022-01-03             -0.829957     0.168873  1.455112   \n\n                                      infections  beta_t_minus_1      beta  \nweek district start_date_forecasting                                        \n2    Aachen   2020-03-30               -0.012034       -0.473720  0.279336  \n3    Aachen   2020-04-06               -0.187156       -0.390921  0.144479  \n4    Aachen   2020-04-13               -0.317811       -0.687466  0.190455  \n5    Aachen   2020-04-20               -0.413968       -0.690618  0.180385  \n25   Aachen   2020-09-07               -0.476315       -0.685462  0.584775  \n...                                          ...             ...       ...  \n90   Zwickau  2021-12-06                4.026563       -0.287730  0.498803  \n91   Zwickau  2021-12-13                2.830617       -0.179810  0.437243  \n92   Zwickau  2021-12-20                1.678222       -0.195534  0.377533  \n93   Zwickau  2021-12-27                1.009821       -0.369231  0.511456  \n94   Zwickau  2022-01-03                0.597687       -0.164234  0.485335  \n\n[19218 rows x 9 columns]",
      "text/html": "<div>\n<style scoped>\n    .dataframe tbody tr th:only-of-type {\n        vertical-align: middle;\n    }\n\n    .dataframe tbody tr th {\n        vertical-align: top;\n    }\n\n    .dataframe thead th {\n        text-align: right;\n    }\n</style>\n<table border=\"1\" class=\"dataframe\">\n  <thead>\n    <tr style=\"text-align: right;\">\n      <th></th>\n      <th></th>\n      <th></th>\n      <th>B.1.1.7</th>\n      <th>B.1.617.2</th>\n      <th>policy_index</th>\n      <th>mobility</th>\n      <th>temperature</th>\n      <th>wind</th>\n      <th>infections</th>\n      <th>beta_t_minus_1</th>\n      <th>beta</th>\n    </tr>\n    <tr>\n      <th>week</th>\n      <th>district</th>\n      <th>start_date_forecasting</th>\n      <th></th>\n      <th></th>\n      <th></th>\n      <th></th>\n      <th></th>\n      <th></th>\n      <th></th>\n      <th></th>\n      <th></th>\n    </tr>\n  </thead>\n  <tbody>\n    <tr>\n      <th>2</th>\n      <th>Aachen</th>\n      <th>2020-03-30</th>\n      <td>-0.692338</td>\n      <td>-0.751908</td>\n      <td>-0.623553</td>\n      <td>-2.627390</td>\n      <td>-0.323276</td>\n      <td>0.947990</td>\n      <td>-0.012034</td>\n      <td>-0.473720</td>\n      <td>0.279336</td>\n    </tr>\n    <tr>\n      <th>3</th>\n      <th>Aachen</th>\n      <th>2020-04-06</th>\n      <td>-0.692338</td>\n      <td>-0.751908</td>\n      <td>-0.453805</td>\n      <td>-2.123714</td>\n      <td>-0.187870</td>\n      <td>-0.065911</td>\n      <td>-0.187156</td>\n      <td>-0.390921</td>\n      <td>0.144479</td>\n    </tr>\n    <tr>\n      <th>4</th>\n      <th>Aachen</th>\n      <th>2020-04-13</th>\n      <td>-0.692338</td>\n      <td>-0.751908</td>\n      <td>-0.267746</td>\n      <td>-1.768177</td>\n      <td>1.481269</td>\n      <td>-0.221427</td>\n      <td>-0.317811</td>\n      <td>-0.687466</td>\n      <td>0.190455</td>\n    </tr>\n    <tr>\n      <th>5</th>\n      <th>Aachen</th>\n      <th>2020-04-20</th>\n      <td>-0.692338</td>\n      <td>-0.751908</td>\n      <td>-0.267746</td>\n      <td>-2.015078</td>\n      <td>0.754764</td>\n      <td>-0.088670</td>\n      <td>-0.413968</td>\n      <td>-0.690618</td>\n      <td>0.180385</td>\n    </tr>\n    <tr>\n      <th>25</th>\n      <th>Aachen</th>\n      <th>2020-09-07</th>\n      <td>-0.692338</td>\n      <td>-0.751908</td>\n      <td>-1.216627</td>\n      <td>0.532931</td>\n      <td>1.499497</td>\n      <td>-0.320047</td>\n      <td>-0.476315</td>\n      <td>-0.685462</td>\n      <td>0.584775</td>\n    </tr>\n    <tr>\n      <th>...</th>\n      <th>...</th>\n      <th>...</th>\n      <td>...</td>\n      <td>...</td>\n      <td>...</td>\n      <td>...</td>\n      <td>...</td>\n      <td>...</td>\n      <td>...</td>\n      <td>...</td>\n      <td>...</td>\n    </tr>\n    <tr>\n      <th>90</th>\n      <th>Zwickau</th>\n      <th>2021-12-06</th>\n      <td>-0.692338</td>\n      <td>1.329949</td>\n      <td>1.933664</td>\n      <td>-0.415165</td>\n      <td>-0.945623</td>\n      <td>1.504422</td>\n      <td>4.026563</td>\n      <td>-0.287730</td>\n      <td>0.498803</td>\n    </tr>\n    <tr>\n      <th>91</th>\n      <th>Zwickau</th>\n      <th>2021-12-13</th>\n      <td>-0.692338</td>\n      <td>1.329949</td>\n      <td>2.221571</td>\n      <td>0.078635</td>\n      <td>-1.187791</td>\n      <td>-0.763837</td>\n      <td>2.830617</td>\n      <td>-0.179810</td>\n      <td>0.437243</td>\n    </tr>\n    <tr>\n      <th>92</th>\n      <th>Zwickau</th>\n      <th>2021-12-20</th>\n      <td>-0.692338</td>\n      <td>1.329949</td>\n      <td>2.221571</td>\n      <td>0.187271</td>\n      <td>-0.383167</td>\n      <td>-0.244186</td>\n      <td>1.678222</td>\n      <td>-0.195534</td>\n      <td>0.377533</td>\n    </tr>\n    <tr>\n      <th>93</th>\n      <th>Zwickau</th>\n      <th>2021-12-27</th>\n      <td>-0.692338</td>\n      <td>1.329949</td>\n      <td>2.221571</td>\n      <td>-0.039877</td>\n      <td>-1.484643</td>\n      <td>-0.187290</td>\n      <td>1.009821</td>\n      <td>-0.369231</td>\n      <td>0.511456</td>\n    </tr>\n    <tr>\n      <th>94</th>\n      <th>Zwickau</th>\n      <th>2022-01-03</th>\n      <td>-0.692338</td>\n      <td>-0.751908</td>\n      <td>-0.962100</td>\n      <td>-0.829957</td>\n      <td>0.168873</td>\n      <td>1.455112</td>\n      <td>0.597687</td>\n      <td>-0.164234</td>\n      <td>0.485335</td>\n    </tr>\n  </tbody>\n</table>\n<p>19218 rows × 9 columns</p>\n</div>"
     },
     "execution_count": 112,
     "metadata": {},
     "output_type": "execute_result"
    }
   ]
  },
  {
   "cell_type": "markdown",
   "source": [
    "## 7) Modeling\n",
    "### 7.1) Preparation\n",
    "#### 7.1.1) Split into train/val:"
   ],
   "metadata": {
    "collapsed": false,
    "pycharm": {
     "name": "#%% md\n"
    }
   }
  },
  {
   "cell_type": "code",
   "source": [
    "df_modeling = df_v6_3\n",
    "df_modeling"
   ],
   "metadata": {
    "collapsed": false,
    "pycharm": {
     "name": "#%%\n"
    }
   },
   "execution_count": 113,
   "outputs": [
    {
     "data": {
      "text/plain": "                                       B.1.1.7  B.1.617.2  policy_index  \\\nweek district start_date_forecasting                                      \n2    Aachen   2020-03-30             -0.692338  -0.751908     -0.623553   \n3    Aachen   2020-04-06             -0.692338  -0.751908     -0.453805   \n4    Aachen   2020-04-13             -0.692338  -0.751908     -0.267746   \n5    Aachen   2020-04-20             -0.692338  -0.751908     -0.267746   \n25   Aachen   2020-09-07             -0.692338  -0.751908     -1.216627   \n...                                        ...        ...           ...   \n90   Zwickau  2021-12-06             -0.692338   1.329949      1.933664   \n91   Zwickau  2021-12-13             -0.692338   1.329949      2.221571   \n92   Zwickau  2021-12-20             -0.692338   1.329949      2.221571   \n93   Zwickau  2021-12-27             -0.692338   1.329949      2.221571   \n94   Zwickau  2022-01-03             -0.692338  -0.751908     -0.962100   \n\n                                      mobility  temperature      wind  \\\nweek district start_date_forecasting                                    \n2    Aachen   2020-03-30             -2.627390    -0.323276  0.947990   \n3    Aachen   2020-04-06             -2.123714    -0.187870 -0.065911   \n4    Aachen   2020-04-13             -1.768177     1.481269 -0.221427   \n5    Aachen   2020-04-20             -2.015078     0.754764 -0.088670   \n25   Aachen   2020-09-07              0.532931     1.499497 -0.320047   \n...                                        ...          ...       ...   \n90   Zwickau  2021-12-06             -0.415165    -0.945623  1.504422   \n91   Zwickau  2021-12-13              0.078635    -1.187791 -0.763837   \n92   Zwickau  2021-12-20              0.187271    -0.383167 -0.244186   \n93   Zwickau  2021-12-27             -0.039877    -1.484643 -0.187290   \n94   Zwickau  2022-01-03             -0.829957     0.168873  1.455112   \n\n                                      infections  beta_t_minus_1      beta  \nweek district start_date_forecasting                                        \n2    Aachen   2020-03-30               -0.012034       -0.473720  0.279336  \n3    Aachen   2020-04-06               -0.187156       -0.390921  0.144479  \n4    Aachen   2020-04-13               -0.317811       -0.687466  0.190455  \n5    Aachen   2020-04-20               -0.413968       -0.690618  0.180385  \n25   Aachen   2020-09-07               -0.476315       -0.685462  0.584775  \n...                                          ...             ...       ...  \n90   Zwickau  2021-12-06                4.026563       -0.287730  0.498803  \n91   Zwickau  2021-12-13                2.830617       -0.179810  0.437243  \n92   Zwickau  2021-12-20                1.678222       -0.195534  0.377533  \n93   Zwickau  2021-12-27                1.009821       -0.369231  0.511456  \n94   Zwickau  2022-01-03                0.597687       -0.164234  0.485335  \n\n[19218 rows x 9 columns]",
      "text/html": "<div>\n<style scoped>\n    .dataframe tbody tr th:only-of-type {\n        vertical-align: middle;\n    }\n\n    .dataframe tbody tr th {\n        vertical-align: top;\n    }\n\n    .dataframe thead th {\n        text-align: right;\n    }\n</style>\n<table border=\"1\" class=\"dataframe\">\n  <thead>\n    <tr style=\"text-align: right;\">\n      <th></th>\n      <th></th>\n      <th></th>\n      <th>B.1.1.7</th>\n      <th>B.1.617.2</th>\n      <th>policy_index</th>\n      <th>mobility</th>\n      <th>temperature</th>\n      <th>wind</th>\n      <th>infections</th>\n      <th>beta_t_minus_1</th>\n      <th>beta</th>\n    </tr>\n    <tr>\n      <th>week</th>\n      <th>district</th>\n      <th>start_date_forecasting</th>\n      <th></th>\n      <th></th>\n      <th></th>\n      <th></th>\n      <th></th>\n      <th></th>\n      <th></th>\n      <th></th>\n      <th></th>\n    </tr>\n  </thead>\n  <tbody>\n    <tr>\n      <th>2</th>\n      <th>Aachen</th>\n      <th>2020-03-30</th>\n      <td>-0.692338</td>\n      <td>-0.751908</td>\n      <td>-0.623553</td>\n      <td>-2.627390</td>\n      <td>-0.323276</td>\n      <td>0.947990</td>\n      <td>-0.012034</td>\n      <td>-0.473720</td>\n      <td>0.279336</td>\n    </tr>\n    <tr>\n      <th>3</th>\n      <th>Aachen</th>\n      <th>2020-04-06</th>\n      <td>-0.692338</td>\n      <td>-0.751908</td>\n      <td>-0.453805</td>\n      <td>-2.123714</td>\n      <td>-0.187870</td>\n      <td>-0.065911</td>\n      <td>-0.187156</td>\n      <td>-0.390921</td>\n      <td>0.144479</td>\n    </tr>\n    <tr>\n      <th>4</th>\n      <th>Aachen</th>\n      <th>2020-04-13</th>\n      <td>-0.692338</td>\n      <td>-0.751908</td>\n      <td>-0.267746</td>\n      <td>-1.768177</td>\n      <td>1.481269</td>\n      <td>-0.221427</td>\n      <td>-0.317811</td>\n      <td>-0.687466</td>\n      <td>0.190455</td>\n    </tr>\n    <tr>\n      <th>5</th>\n      <th>Aachen</th>\n      <th>2020-04-20</th>\n      <td>-0.692338</td>\n      <td>-0.751908</td>\n      <td>-0.267746</td>\n      <td>-2.015078</td>\n      <td>0.754764</td>\n      <td>-0.088670</td>\n      <td>-0.413968</td>\n      <td>-0.690618</td>\n      <td>0.180385</td>\n    </tr>\n    <tr>\n      <th>25</th>\n      <th>Aachen</th>\n      <th>2020-09-07</th>\n      <td>-0.692338</td>\n      <td>-0.751908</td>\n      <td>-1.216627</td>\n      <td>0.532931</td>\n      <td>1.499497</td>\n      <td>-0.320047</td>\n      <td>-0.476315</td>\n      <td>-0.685462</td>\n      <td>0.584775</td>\n    </tr>\n    <tr>\n      <th>...</th>\n      <th>...</th>\n      <th>...</th>\n      <td>...</td>\n      <td>...</td>\n      <td>...</td>\n      <td>...</td>\n      <td>...</td>\n      <td>...</td>\n      <td>...</td>\n      <td>...</td>\n      <td>...</td>\n    </tr>\n    <tr>\n      <th>90</th>\n      <th>Zwickau</th>\n      <th>2021-12-06</th>\n      <td>-0.692338</td>\n      <td>1.329949</td>\n      <td>1.933664</td>\n      <td>-0.415165</td>\n      <td>-0.945623</td>\n      <td>1.504422</td>\n      <td>4.026563</td>\n      <td>-0.287730</td>\n      <td>0.498803</td>\n    </tr>\n    <tr>\n      <th>91</th>\n      <th>Zwickau</th>\n      <th>2021-12-13</th>\n      <td>-0.692338</td>\n      <td>1.329949</td>\n      <td>2.221571</td>\n      <td>0.078635</td>\n      <td>-1.187791</td>\n      <td>-0.763837</td>\n      <td>2.830617</td>\n      <td>-0.179810</td>\n      <td>0.437243</td>\n    </tr>\n    <tr>\n      <th>92</th>\n      <th>Zwickau</th>\n      <th>2021-12-20</th>\n      <td>-0.692338</td>\n      <td>1.329949</td>\n      <td>2.221571</td>\n      <td>0.187271</td>\n      <td>-0.383167</td>\n      <td>-0.244186</td>\n      <td>1.678222</td>\n      <td>-0.195534</td>\n      <td>0.377533</td>\n    </tr>\n    <tr>\n      <th>93</th>\n      <th>Zwickau</th>\n      <th>2021-12-27</th>\n      <td>-0.692338</td>\n      <td>1.329949</td>\n      <td>2.221571</td>\n      <td>-0.039877</td>\n      <td>-1.484643</td>\n      <td>-0.187290</td>\n      <td>1.009821</td>\n      <td>-0.369231</td>\n      <td>0.511456</td>\n    </tr>\n    <tr>\n      <th>94</th>\n      <th>Zwickau</th>\n      <th>2022-01-03</th>\n      <td>-0.692338</td>\n      <td>-0.751908</td>\n      <td>-0.962100</td>\n      <td>-0.829957</td>\n      <td>0.168873</td>\n      <td>1.455112</td>\n      <td>0.597687</td>\n      <td>-0.164234</td>\n      <td>0.485335</td>\n    </tr>\n  </tbody>\n</table>\n<p>19218 rows × 9 columns</p>\n</div>"
     },
     "execution_count": 113,
     "metadata": {},
     "output_type": "execute_result"
    }
   ]
  },
  {
   "cell_type": "markdown",
   "source": [
    "#### 7.1.2) Split into train val:"
   ],
   "metadata": {
    "collapsed": false,
    "pycharm": {
     "name": "#%% md\n"
    }
   }
  },
  {
   "cell_type": "code",
   "execution_count": 114,
   "outputs": [],
   "source": [
    "SEED = 420"
   ],
   "metadata": {
    "collapsed": false,
    "pycharm": {
     "name": "#%%\n"
    }
   }
  },
  {
   "cell_type": "code",
   "execution_count": 115,
   "outputs": [],
   "source": [
    "X_full = df_modeling.drop(columns=['beta'], axis=1)\n",
    "y_full = df_modeling['beta']"
   ],
   "metadata": {
    "collapsed": false,
    "pycharm": {
     "name": "#%%\n"
    }
   }
  },
  {
   "cell_type": "code",
   "source": [
    "X_train, X_val, y_train, y_val = train_test_split(X_full, y_full, shuffle=True, train_size=0.75, random_state=SEED)"
   ],
   "metadata": {
    "collapsed": false,
    "pycharm": {
     "name": "#%%\n"
    }
   },
   "execution_count": 116,
   "outputs": []
  },
  {
   "cell_type": "markdown",
   "source": [
    "### 7.2 Models\n",
    "#### 7.2.1) Baseline Approach: Choosing previous beta"
   ],
   "metadata": {
    "collapsed": false,
    "pycharm": {
     "name": "#%% md\n"
    }
   }
  },
  {
   "cell_type": "code",
   "execution_count": 117,
   "outputs": [],
   "source": [
    "# Baseline approach would be to use the beta from the previous week for the next week:\n",
    "## Therefore we have to compare how well this works, compared to our ML approach:\n",
    "\n",
    "# As the values are standardized we have to reverse standardize them first:\n",
    "y_pred_baseline_val = pd.DataFrame(scaler_obj.inverse_transform(X_val), index=X_val.index, columns=X_val.columns)['beta_t_minus_1']"
   ],
   "metadata": {
    "collapsed": false,
    "pycharm": {
     "name": "#%%\n"
    }
   }
  },
  {
   "cell_type": "code",
   "execution_count": 118,
   "outputs": [
    {
     "data": {
      "text/plain": "0.8527094146409689"
     },
     "execution_count": 118,
     "metadata": {},
     "output_type": "execute_result"
    }
   ],
   "source": [
    "# Correlation of this approach:\n",
    "X_full['beta_t_minus_1'].corr(y_full)"
   ],
   "metadata": {
    "collapsed": false,
    "pycharm": {
     "name": "#%%\n"
    }
   }
  },
  {
   "cell_type": "code",
   "execution_count": 119,
   "outputs": [
    {
     "data": {
      "text/plain": "                                                            y_val  \\\nweek district                    start_date_forecasting             \n37   Altenburger Land            2020-11-30              0.435493   \n36   Vogtlandkreis               2020-11-23              0.470760   \n85   Dillingen a.d.Donau         2021-11-01              0.903822   \n88   Mecklenburgische Seenplatte 2021-11-22              1.081504   \n56   Oberhausen                  2021-04-12              0.397448   \n...                                                           ...   \n81   Steinfurt                   2021-10-04              1.322626   \n44   Wolfenbüttel                2021-01-18              0.363532   \n32   Alzey-Worms                 2020-10-26              0.521762   \n23   Köln                        2020-08-24              0.337692   \n44   Minden-Lübbecke             2021-01-18              0.225270   \n\n                                                         y_pred_baseline  \nweek district                    start_date_forecasting                   \n37   Altenburger Land            2020-11-30                     0.346312  \n36   Vogtlandkreis               2020-11-23                     0.285459  \n85   Dillingen a.d.Donau         2021-11-01                     1.293763  \n88   Mecklenburgische Seenplatte 2021-11-22                     0.963231  \n56   Oberhausen                  2021-04-12                     0.343429  \n...                                                                  ...  \n81   Steinfurt                   2021-10-04                     1.029713  \n44   Wolfenbüttel                2021-01-18                     0.344318  \n32   Alzey-Worms                 2020-10-26                     0.344621  \n23   Köln                        2020-08-24                     0.257659  \n44   Minden-Lübbecke             2021-01-18                     0.279108  \n\n[4805 rows x 2 columns]",
      "text/html": "<div>\n<style scoped>\n    .dataframe tbody tr th:only-of-type {\n        vertical-align: middle;\n    }\n\n    .dataframe tbody tr th {\n        vertical-align: top;\n    }\n\n    .dataframe thead th {\n        text-align: right;\n    }\n</style>\n<table border=\"1\" class=\"dataframe\">\n  <thead>\n    <tr style=\"text-align: right;\">\n      <th></th>\n      <th></th>\n      <th></th>\n      <th>y_val</th>\n      <th>y_pred_baseline</th>\n    </tr>\n    <tr>\n      <th>week</th>\n      <th>district</th>\n      <th>start_date_forecasting</th>\n      <th></th>\n      <th></th>\n    </tr>\n  </thead>\n  <tbody>\n    <tr>\n      <th>37</th>\n      <th>Altenburger Land</th>\n      <th>2020-11-30</th>\n      <td>0.435493</td>\n      <td>0.346312</td>\n    </tr>\n    <tr>\n      <th>36</th>\n      <th>Vogtlandkreis</th>\n      <th>2020-11-23</th>\n      <td>0.470760</td>\n      <td>0.285459</td>\n    </tr>\n    <tr>\n      <th>85</th>\n      <th>Dillingen a.d.Donau</th>\n      <th>2021-11-01</th>\n      <td>0.903822</td>\n      <td>1.293763</td>\n    </tr>\n    <tr>\n      <th>88</th>\n      <th>Mecklenburgische Seenplatte</th>\n      <th>2021-11-22</th>\n      <td>1.081504</td>\n      <td>0.963231</td>\n    </tr>\n    <tr>\n      <th>56</th>\n      <th>Oberhausen</th>\n      <th>2021-04-12</th>\n      <td>0.397448</td>\n      <td>0.343429</td>\n    </tr>\n    <tr>\n      <th>...</th>\n      <th>...</th>\n      <th>...</th>\n      <td>...</td>\n      <td>...</td>\n    </tr>\n    <tr>\n      <th>81</th>\n      <th>Steinfurt</th>\n      <th>2021-10-04</th>\n      <td>1.322626</td>\n      <td>1.029713</td>\n    </tr>\n    <tr>\n      <th>44</th>\n      <th>Wolfenbüttel</th>\n      <th>2021-01-18</th>\n      <td>0.363532</td>\n      <td>0.344318</td>\n    </tr>\n    <tr>\n      <th>32</th>\n      <th>Alzey-Worms</th>\n      <th>2020-10-26</th>\n      <td>0.521762</td>\n      <td>0.344621</td>\n    </tr>\n    <tr>\n      <th>23</th>\n      <th>Köln</th>\n      <th>2020-08-24</th>\n      <td>0.337692</td>\n      <td>0.257659</td>\n    </tr>\n    <tr>\n      <th>44</th>\n      <th>Minden-Lübbecke</th>\n      <th>2021-01-18</th>\n      <td>0.225270</td>\n      <td>0.279108</td>\n    </tr>\n  </tbody>\n</table>\n<p>4805 rows × 2 columns</p>\n</div>"
     },
     "execution_count": 119,
     "metadata": {},
     "output_type": "execute_result"
    }
   ],
   "source": [
    "pd.DataFrame({'y_val':y_val, 'y_pred_baseline':y_pred_baseline_val})"
   ],
   "metadata": {
    "collapsed": false,
    "pycharm": {
     "name": "#%%\n"
    }
   }
  },
  {
   "cell_type": "code",
   "execution_count": 120,
   "outputs": [
    {
     "name": "stdout",
     "output_type": "stream",
     "text": [
      "Baseline RMSE is: 0.38160385225644416\n"
     ]
    }
   ],
   "source": [
    "# Compute RMSE of baseline approach:\n",
    "rmse_baseline =  mean_squared_error(y_val, y_pred_baseline_val, squared=False)\n",
    "print(f'Baseline RMSE is: {rmse_baseline}')"
   ],
   "metadata": {
    "collapsed": false,
    "pycharm": {
     "name": "#%%\n"
    }
   }
  },
  {
   "cell_type": "markdown",
   "source": [
    "#### 7.2.2) Multivariate Linear Regression"
   ],
   "metadata": {
    "collapsed": false
   }
  },
  {
   "cell_type": "code",
   "execution_count": 121,
   "outputs": [],
   "source": [
    "regr = linear_model.LinearRegression()\n",
    "regr.fit(X_train, y_train)\n",
    "\n",
    "y_pred_linreg = regr.predict(X_val)\n",
    "rmse_linreg = mean_squared_error(y_val, y_pred_linreg, squared=False)"
   ],
   "metadata": {
    "collapsed": false,
    "pycharm": {
     "name": "#%%\n"
    }
   }
  },
  {
   "cell_type": "code",
   "execution_count": 122,
   "outputs": [
    {
     "name": "stdout",
     "output_type": "stream",
     "text": [
      "RMSE of LinearRegression() is: 0.3683079211425309. This is an improvement compared to the baseline approach of: 3.484223504373374 %\n"
     ]
    }
   ],
   "source": [
    "print(f'RMSE of {regr} is: {rmse_linreg}. This is an improvement compared to the baseline approach of: {-(rmse_linreg / rmse_baseline -1)*100} %')"
   ],
   "metadata": {
    "collapsed": false,
    "pycharm": {
     "name": "#%%\n"
    }
   }
  },
  {
   "cell_type": "markdown",
   "source": [
    "#### 7.2.3) Ridge Regression:"
   ],
   "metadata": {
    "collapsed": false,
    "pycharm": {
     "name": "#%% md\n"
    }
   }
  },
  {
   "cell_type": "code",
   "execution_count": 123,
   "outputs": [],
   "source": [
    "ridge_reg = linear_model.Ridge()\n",
    "ridge_reg.fit(X_train, y_train)\n",
    "\n",
    "y_pred_ridge_reg = ridge_reg.predict(X_val)\n",
    "rmse_ridge_reg = mean_squared_error(y_val, y_pred_ridge_reg, squared=False)"
   ],
   "metadata": {
    "collapsed": false,
    "pycharm": {
     "name": "#%%\n"
    }
   }
  },
  {
   "cell_type": "code",
   "execution_count": 124,
   "outputs": [
    {
     "name": "stdout",
     "output_type": "stream",
     "text": [
      "RMSE of Ridge() is: 0.36830495668809055. This is an improvement compared to the baseline approach of: 3.4850003451790457 %\n"
     ]
    }
   ],
   "source": [
    "print(f'RMSE of {ridge_reg} is: {rmse_ridge_reg}. This is an improvement compared to the baseline approach of: {-(rmse_ridge_reg / rmse_baseline -1)*100} %')"
   ],
   "metadata": {
    "collapsed": false,
    "pycharm": {
     "name": "#%%\n"
    }
   }
  },
  {
   "cell_type": "markdown",
   "source": [
    "#### 7.2.4) Random Forest Regressor:"
   ],
   "metadata": {
    "collapsed": false,
    "pycharm": {
     "name": "#%% md\n"
    }
   }
  },
  {
   "cell_type": "code",
   "execution_count": 132,
   "outputs": [],
   "source": [
    "rfg_model = RandomForestRegressor()\n",
    "rfg_model.fit(X_train, y_train)\n",
    "\n",
    "y_pred_random_forest = rfg_model.predict(X_val)\n",
    "rmse_random_forest = mean_squared_error(y_val, y_pred_random_forest, squared=False)"
   ],
   "metadata": {
    "collapsed": false,
    "pycharm": {
     "name": "#%%\n"
    }
   }
  },
  {
   "cell_type": "code",
   "execution_count": 133,
   "outputs": [
    {
     "name": "stdout",
     "output_type": "stream",
     "text": [
      "RMSE of RandomForestRegressor() is: 0.3093758318978441. This is an improvement compared to the baseline approach of: 18.92748721783385 %\n"
     ]
    }
   ],
   "source": [
    "print(f'RMSE of {rfg_model} is: {rmse_random_forest}. This is an improvement compared to the baseline approach of: {-(rmse_random_forest / rmse_baseline -1)*100} %')"
   ],
   "metadata": {
    "collapsed": false,
    "pycharm": {
     "name": "#%%\n"
    }
   }
  },
  {
   "cell_type": "markdown",
   "source": [
    "#### 7.2.5) Support Vector Machines"
   ],
   "metadata": {
    "collapsed": false,
    "pycharm": {
     "name": "#%% md\n"
    }
   }
  },
  {
   "cell_type": "code",
   "execution_count": 134,
   "outputs": [],
   "source": [
    "svm = SVR()\n",
    "svm.fit(X_train, y_train)\n",
    "\n",
    "y_pred_svm = svm.predict(X_val)\n",
    "rmse_svm = mean_squared_error(y_val, y_pred_svm, squared=False)"
   ],
   "metadata": {
    "collapsed": false,
    "pycharm": {
     "name": "#%%\n"
    }
   }
  },
  {
   "cell_type": "code",
   "execution_count": 135,
   "outputs": [
    {
     "name": "stdout",
     "output_type": "stream",
     "text": [
      "RMSE of SVR() is: 0.3079852423895667. This is an improvement compared to the baseline approach of: 19.29189378764565 %\n"
     ]
    }
   ],
   "source": [
    "print(f'RMSE of {svm} is: {rmse_svm}. This is an improvement compared to the baseline approach of: {-(rmse_svm / rmse_baseline -1)*100} %')"
   ],
   "metadata": {
    "collapsed": false,
    "pycharm": {
     "name": "#%%\n"
    }
   }
  },
  {
   "cell_type": "markdown",
   "source": [
    "#### 7.2.6) XGBoost"
   ],
   "metadata": {
    "collapsed": false,
    "pycharm": {
     "name": "#%% md\n"
    }
   }
  },
  {
   "cell_type": "code",
   "execution_count": 136,
   "outputs": [],
   "source": [
    "xgb_model = xgb.XGBRegressor(verbosity=0)\n",
    "xgb_model.name = 'XGBoostRegressor'\n",
    "xgb_model.fit(X_train, y_train)\n",
    "\n",
    "y_pred_xgb = xgb_model.predict(X_val)\n",
    "rmse_xgb = mean_squared_error(y_val, y_pred_xgb, squared=False)"
   ],
   "metadata": {
    "collapsed": false,
    "pycharm": {
     "name": "#%%\n"
    }
   }
  },
  {
   "cell_type": "code",
   "execution_count": 137,
   "outputs": [
    {
     "name": "stdout",
     "output_type": "stream",
     "text": [
      "\n",
      " RMSE of XGBoostRegressor is: 0.3124732092818247. This is an improvement compared to the baseline approach of: 18.115813707289963 %\n"
     ]
    }
   ],
   "source": [
    "print(f'\\n RMSE of {xgb_model.name} is: {rmse_xgb}. This is an improvement compared to the baseline approach of: {-(rmse_xgb / rmse_baseline -1)*100} %')"
   ],
   "metadata": {
    "collapsed": false,
    "pycharm": {
     "name": "#%%\n"
    }
   }
  },
  {
   "cell_type": "code",
   "execution_count": 145,
   "outputs": [
    {
     "data": {
      "text/plain": "                                                    beta_opt  last_beta  \\\nweek district               start_date_forecasting                        \n94   Warendorf              2022-01-03              1.841746   1.213395   \n     Northeim               2022-01-03              1.822143   2.021532   \n     Dithmarschen           2022-01-03              2.659742   6.696215   \n     Gießen                 2022-01-03              2.442740   1.580013   \n     Schmalkalden-Meiningen 2022-01-03              0.766575   1.032002   \n...                                                      ...        ...   \n2    Märkischer Kreis       2020-03-30              0.433908   0.710565   \n     Bayreuth, Kreis        2020-03-30              0.319826   0.810546   \n     Heilbronn, Stadt       2020-03-30              0.267615   0.623654   \n     Regensburg, Stadt      2020-03-30              0.352284   0.311236   \n     Emsland                2020-03-30              0.341399   0.489798   \n\n                                                    last_beta_standardized  \\\nweek district               start_date_forecasting                           \n94   Warendorf              2022-01-03                            0.854568   \n     Northeim               2022-01-03                            2.060558   \n     Dithmarschen           2022-01-03                            9.036630   \n     Gießen                 2022-01-03                            1.401675   \n     Schmalkalden-Meiningen 2022-01-03                            0.583874   \n...                                                                    ...   \n2    Märkischer Kreis       2020-03-30                            0.104191   \n     Bayreuth, Kreis        2020-03-30                            0.253393   \n     Heilbronn, Stadt       2020-03-30                           -0.025507   \n     Regensburg, Stadt      2020-03-30                           -0.491733   \n     Emsland                2020-03-30                           -0.225263   \n\n                                                    xgb_bred  \nweek district               start_date_forecasting            \n94   Warendorf              2022-01-03              1.839800  \n     Northeim               2022-01-03              3.535586  \n     Dithmarschen           2022-01-03              6.728557  \n     Gießen                 2022-01-03              2.199463  \n     Schmalkalden-Meiningen 2022-01-03              1.449294  \n...                                                      ...  \n2    Märkischer Kreis       2020-03-30              0.288133  \n     Bayreuth, Kreis        2020-03-30              0.334359  \n     Heilbronn, Stadt       2020-03-30              0.249245  \n     Regensburg, Stadt      2020-03-30              0.259864  \n     Emsland                2020-03-30              0.280050  \n\n[4805 rows x 4 columns]",
      "text/html": "<div>\n<style scoped>\n    .dataframe tbody tr th:only-of-type {\n        vertical-align: middle;\n    }\n\n    .dataframe tbody tr th {\n        vertical-align: top;\n    }\n\n    .dataframe thead th {\n        text-align: right;\n    }\n</style>\n<table border=\"1\" class=\"dataframe\">\n  <thead>\n    <tr style=\"text-align: right;\">\n      <th></th>\n      <th></th>\n      <th></th>\n      <th>beta_opt</th>\n      <th>last_beta</th>\n      <th>last_beta_standardized</th>\n      <th>xgb_bred</th>\n    </tr>\n    <tr>\n      <th>week</th>\n      <th>district</th>\n      <th>start_date_forecasting</th>\n      <th></th>\n      <th></th>\n      <th></th>\n      <th></th>\n    </tr>\n  </thead>\n  <tbody>\n    <tr>\n      <th rowspan=\"5\" valign=\"top\">94</th>\n      <th>Warendorf</th>\n      <th>2022-01-03</th>\n      <td>1.841746</td>\n      <td>1.213395</td>\n      <td>0.854568</td>\n      <td>1.839800</td>\n    </tr>\n    <tr>\n      <th>Northeim</th>\n      <th>2022-01-03</th>\n      <td>1.822143</td>\n      <td>2.021532</td>\n      <td>2.060558</td>\n      <td>3.535586</td>\n    </tr>\n    <tr>\n      <th>Dithmarschen</th>\n      <th>2022-01-03</th>\n      <td>2.659742</td>\n      <td>6.696215</td>\n      <td>9.036630</td>\n      <td>6.728557</td>\n    </tr>\n    <tr>\n      <th>Gießen</th>\n      <th>2022-01-03</th>\n      <td>2.442740</td>\n      <td>1.580013</td>\n      <td>1.401675</td>\n      <td>2.199463</td>\n    </tr>\n    <tr>\n      <th>Schmalkalden-Meiningen</th>\n      <th>2022-01-03</th>\n      <td>0.766575</td>\n      <td>1.032002</td>\n      <td>0.583874</td>\n      <td>1.449294</td>\n    </tr>\n    <tr>\n      <th>...</th>\n      <th>...</th>\n      <th>...</th>\n      <td>...</td>\n      <td>...</td>\n      <td>...</td>\n      <td>...</td>\n    </tr>\n    <tr>\n      <th rowspan=\"5\" valign=\"top\">2</th>\n      <th>Märkischer Kreis</th>\n      <th>2020-03-30</th>\n      <td>0.433908</td>\n      <td>0.710565</td>\n      <td>0.104191</td>\n      <td>0.288133</td>\n    </tr>\n    <tr>\n      <th>Bayreuth, Kreis</th>\n      <th>2020-03-30</th>\n      <td>0.319826</td>\n      <td>0.810546</td>\n      <td>0.253393</td>\n      <td>0.334359</td>\n    </tr>\n    <tr>\n      <th>Heilbronn, Stadt</th>\n      <th>2020-03-30</th>\n      <td>0.267615</td>\n      <td>0.623654</td>\n      <td>-0.025507</td>\n      <td>0.249245</td>\n    </tr>\n    <tr>\n      <th>Regensburg, Stadt</th>\n      <th>2020-03-30</th>\n      <td>0.352284</td>\n      <td>0.311236</td>\n      <td>-0.491733</td>\n      <td>0.259864</td>\n    </tr>\n    <tr>\n      <th>Emsland</th>\n      <th>2020-03-30</th>\n      <td>0.341399</td>\n      <td>0.489798</td>\n      <td>-0.225263</td>\n      <td>0.280050</td>\n    </tr>\n  </tbody>\n</table>\n<p>4805 rows × 4 columns</p>\n</div>"
     },
     "execution_count": 145,
     "metadata": {},
     "output_type": "execute_result"
    }
   ],
   "source": [
    "pd.DataFrame({'beta_opt':y_val, 'last_beta':y_pred_baseline_val, 'last_beta_standardized':X_val['beta_t_minus_1'], 'xgb_bred':y_pred_xgb}).sort_values('start_date_forecasting', ascending=False)"
   ],
   "metadata": {
    "collapsed": false,
    "pycharm": {
     "name": "#%%\n"
    }
   }
  },
  {
   "cell_type": "markdown",
   "source": [
    "#### 7.2.7) Neural Network"
   ],
   "metadata": {
    "collapsed": false,
    "pycharm": {
     "name": "#%% md\n"
    }
   }
  },
  {
   "cell_type": "code",
   "execution_count": 139,
   "outputs": [],
   "source": [
    "ann_model = Sequential([\n",
    "    Dense(24, input_dim=len(X_train.columns), activation='relu'),\n",
    "    Dropout(0.2),\n",
    "    Dense(16, activation='relu'),\n",
    "    Dropout(0.2),\n",
    "    Dense(1, activation='linear')\n",
    "])\n",
    "\n",
    "\n",
    "# compile model:\n",
    "ann_model.compile(\n",
    "    loss = 'mse',\n",
    "    optimizer = 'adam',\n",
    "    metrics=[RootMeanSquaredError(name='rmse')]\n",
    ")"
   ],
   "metadata": {
    "collapsed": false,
    "pycharm": {
     "name": "#%%\n"
    }
   }
  },
  {
   "cell_type": "code",
   "execution_count": 140,
   "outputs": [
    {
     "name": "stdout",
     "output_type": "stream",
     "text": [
      "Epoch 1/20\n",
      "451/451 [==============================] - 1s 1ms/step - loss: 0.2885 - rmse: 0.5371 - val_loss: 0.1449 - val_rmse: 0.3807\n",
      "Epoch 2/20\n",
      "451/451 [==============================] - 0s 917us/step - loss: 0.1970 - rmse: 0.4438 - val_loss: 0.1333 - val_rmse: 0.3651\n",
      "Epoch 3/20\n",
      "451/451 [==============================] - 0s 1ms/step - loss: 0.1648 - rmse: 0.4059 - val_loss: 0.1263 - val_rmse: 0.3554\n",
      "Epoch 4/20\n",
      "451/451 [==============================] - 1s 1ms/step - loss: 0.1586 - rmse: 0.3982 - val_loss: 0.1238 - val_rmse: 0.3519\n",
      "Epoch 5/20\n",
      "451/451 [==============================] - 1s 2ms/step - loss: 0.1476 - rmse: 0.3842 - val_loss: 0.1265 - val_rmse: 0.3556\n",
      "Epoch 6/20\n",
      "451/451 [==============================] - 1s 1ms/step - loss: 0.1440 - rmse: 0.3794 - val_loss: 0.1189 - val_rmse: 0.3449\n",
      "Epoch 7/20\n",
      "451/451 [==============================] - 1s 1ms/step - loss: 0.1465 - rmse: 0.3828 - val_loss: 0.1240 - val_rmse: 0.3522\n",
      "Epoch 8/20\n",
      "451/451 [==============================] - 0s 1ms/step - loss: 0.1442 - rmse: 0.3797 - val_loss: 0.1160 - val_rmse: 0.3405\n",
      "Epoch 9/20\n",
      "451/451 [==============================] - 0s 925us/step - loss: 0.1371 - rmse: 0.3703 - val_loss: 0.1179 - val_rmse: 0.3433\n",
      "Epoch 10/20\n",
      "451/451 [==============================] - 1s 1ms/step - loss: 0.1368 - rmse: 0.3699 - val_loss: 0.1174 - val_rmse: 0.3426\n",
      "Epoch 11/20\n",
      "451/451 [==============================] - 0s 1ms/step - loss: 0.1338 - rmse: 0.3658 - val_loss: 0.1163 - val_rmse: 0.3410\n",
      "Epoch 12/20\n",
      "451/451 [==============================] - 0s 919us/step - loss: 0.1342 - rmse: 0.3663 - val_loss: 0.1145 - val_rmse: 0.3384\n",
      "Epoch 13/20\n",
      "451/451 [==============================] - 0s 910us/step - loss: 0.1316 - rmse: 0.3628 - val_loss: 0.1173 - val_rmse: 0.3425\n",
      "Epoch 14/20\n",
      "451/451 [==============================] - 0s 925us/step - loss: 0.1393 - rmse: 0.3733 - val_loss: 0.1126 - val_rmse: 0.3355\n",
      "Epoch 15/20\n",
      "451/451 [==============================] - 0s 893us/step - loss: 0.1344 - rmse: 0.3666 - val_loss: 0.1078 - val_rmse: 0.3284\n",
      "Epoch 16/20\n",
      "451/451 [==============================] - 0s 902us/step - loss: 0.1283 - rmse: 0.3582 - val_loss: 0.1063 - val_rmse: 0.3261\n",
      "Epoch 17/20\n",
      "451/451 [==============================] - 0s 938us/step - loss: 0.1280 - rmse: 0.3578 - val_loss: 0.1157 - val_rmse: 0.3402\n",
      "Epoch 18/20\n",
      "451/451 [==============================] - 0s 914us/step - loss: 0.1276 - rmse: 0.3572 - val_loss: 0.1141 - val_rmse: 0.3378\n",
      "Epoch 19/20\n",
      "451/451 [==============================] - 0s 912us/step - loss: 0.1219 - rmse: 0.3491 - val_loss: 0.1090 - val_rmse: 0.3301\n",
      "Epoch 20/20\n",
      "451/451 [==============================] - 0s 911us/step - loss: 0.1217 - rmse: 0.3488 - val_loss: 0.1022 - val_rmse: 0.3197\n"
     ]
    }
   ],
   "source": [
    "history = ann_model.fit(X_train,\n",
    "                        y_train,\n",
    "                        epochs=20,\n",
    "                        # class_weight=class_weight,\n",
    "                        validation_data=(X_val, y_val),\n",
    "                        )"
   ],
   "metadata": {
    "collapsed": false,
    "pycharm": {
     "name": "#%%\n"
    }
   }
  },
  {
   "cell_type": "code",
   "execution_count": 141,
   "outputs": [],
   "source": [
    "y_pred_ann = ann_model.predict(X_val)\n",
    "rmse_ann = mean_squared_error(y_val, y_pred_ann, squared=False)"
   ],
   "metadata": {
    "collapsed": false,
    "pycharm": {
     "name": "#%%\n"
    }
   }
  },
  {
   "cell_type": "code",
   "execution_count": 142,
   "outputs": [
    {
     "name": "stdout",
     "output_type": "stream",
     "text": [
      "RMSE of <keras.engine.sequential.Sequential object at 0x173d22550> is: 0.31972359953810764. This is an improvement compared to the baseline approach of: 16.215835440977667 %\n"
     ]
    }
   ],
   "source": [
    "print(f'RMSE of {ann_model} is: {rmse_ann}. This is an improvement compared to the baseline approach of: {-(rmse_ann / rmse_baseline -1)*100} %')"
   ],
   "metadata": {
    "collapsed": false,
    "pycharm": {
     "name": "#%%\n"
    }
   }
  },
  {
   "cell_type": "markdown",
   "source": [
    "## 8) Export Best Model:"
   ],
   "metadata": {
    "collapsed": false,
    "pycharm": {
     "name": "#%% md\n"
    }
   }
  },
  {
   "cell_type": "code",
   "execution_count": 144,
   "outputs": [],
   "source": [
    "path = '../../../../Assets/MachineLearningLayer/Models/'\n",
    "best_model = xgb_model\n",
    "\n",
    "# ML Model:\n",
    "filename = 'xgb_model_lukas.pkl'\n",
    "combined_path = path+filename\n",
    "joblib.dump(best_model, open(combined_path, 'wb'))\n",
    "\n",
    "# Standardizer:\n",
    "filename = 'standardizer_model.pkl'\n",
    "combined_path = path+filename\n",
    "joblib.dump(scaler_obj, open(path+filename, 'wb'))"
   ],
   "metadata": {
    "collapsed": false,
    "pycharm": {
     "name": "#%%\n"
    }
   }
  },
  {
   "cell_type": "code",
   "execution_count": null,
   "outputs": [],
   "source": [],
   "metadata": {
    "collapsed": false,
    "pycharm": {
     "name": "#%%\n"
    }
   }
  }
 ],
 "metadata": {
  "kernelspec": {
   "display_name": "Python 3",
   "language": "python",
   "name": "python3"
  },
  "language_info": {
   "codemirror_mode": {
    "name": "ipython",
    "version": 2
   },
   "file_extension": ".py",
   "mimetype": "text/x-python",
   "name": "python",
   "nbconvert_exporter": "python",
   "pygments_lexer": "ipython2",
   "version": "2.7.6"
  }
 },
 "nbformat": 4,
 "nbformat_minor": 0
}