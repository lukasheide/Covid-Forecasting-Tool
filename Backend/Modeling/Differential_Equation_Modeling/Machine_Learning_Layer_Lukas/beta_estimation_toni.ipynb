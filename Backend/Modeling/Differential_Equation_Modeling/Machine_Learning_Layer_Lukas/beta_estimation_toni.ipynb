{
 "cells": [
  {
   "cell_type": "markdown",
   "source": [
    "## Import important stuff"
   ],
   "metadata": {
    "collapsed": false
   }
  },
  {
   "cell_type": "code",
   "execution_count": 1,
   "metadata": {
    "collapsed": true
   },
   "outputs": [],
   "source": [
    "import pandas as pd\n",
    "import numpy as np\n",
    "import pickle\n",
    "from sklearn import linear_model, svm, tree\n",
    "from sklearn.neural_network import MLPRegressor\n",
    "from sklearn.model_selection import train_test_split\n",
    "from sklearn.ensemble import AdaBoostRegressor, RandomForestRegressor\n",
    "from Backend.Evaluation.metrics import compute_evaluation_metrics\n",
    "from sklearn.preprocessing import StandardScaler, OneHotEncoder\n",
    "import xgboost as xgb\n"
   ]
  },
  {
   "cell_type": "markdown",
   "source": [
    "### def create tuple"
   ],
   "metadata": {
    "collapsed": false
   }
  },
  {
   "cell_type": "markdown",
   "source": [
    "#### delete districts, transform variant, delet others"
   ],
   "metadata": {
    "collapsed": false
   }
  },
  {
   "cell_type": "code",
   "execution_count": 2,
   "outputs": [
    {
     "data": {
      "text/plain": "       Unnamed: 0  week  policy_index    variant   mobility  temperature  \\\n0               0     2     62.500000      Other -41.714286     4.885714   \n1               1     3     63.778571      Other -36.000000     5.971429   \n2               2     4     65.180000      Other -31.142857    16.085714   \n3               3     5     65.180000      Other -31.857143    12.357143   \n4               4     6     65.180000      Other -23.571429    13.685714   \n...           ...   ...           ...        ...        ...          ...   \n37195          88    90     81.761429  B.1.617.2   1.857143     2.185714   \n37196          89    91     83.930000  B.1.617.2   6.000000     0.857143   \n37197          90    92     83.930000  B.1.617.2   6.571429     5.028571   \n37198          91    93     83.930000  B.1.617.2  -2.714286    -1.842857   \n37199          92    94     59.950000          0  -5.285714     7.942857   \n\n            wind  infections          beta  beta_t_minus_1  \\\n0      24.057143    4.897959  2.621485e-01        0.405904   \n1      14.714286    3.326531  1.550497e-01        0.269774   \n2      11.900000    1.122449  3.379712e-18        0.278678   \n3      12.542857    0.500000  1.574978e-02        0.002448   \n4      19.585714    0.704082  5.966302e-01        0.014601   \n...          ...         ...           ...             ...   \n37195  14.614286  165.051020  5.811076e-01        0.612582   \n37196   9.814286  145.214286  4.988738e-01        0.586679   \n37197   7.842857  105.612245  3.810974e-01        0.542123   \n37198  10.771429   83.377551  4.671758e-01        0.425633   \n37199  15.385714   69.897959  4.988519e-01        0.421383   \n\n                   district  \n0      Landkreis St. Wendel  \n1      Landkreis St. Wendel  \n2      Landkreis St. Wendel  \n3      Landkreis St. Wendel  \n4      Landkreis St. Wendel  \n...                     ...  \n37195         Wartburgkreis  \n37196         Wartburgkreis  \n37197         Wartburgkreis  \n37198         Wartburgkreis  \n37199         Wartburgkreis  \n\n[37200 rows x 11 columns]",
      "text/html": "<div>\n<style scoped>\n    .dataframe tbody tr th:only-of-type {\n        vertical-align: middle;\n    }\n\n    .dataframe tbody tr th {\n        vertical-align: top;\n    }\n\n    .dataframe thead th {\n        text-align: right;\n    }\n</style>\n<table border=\"1\" class=\"dataframe\">\n  <thead>\n    <tr style=\"text-align: right;\">\n      <th></th>\n      <th>Unnamed: 0</th>\n      <th>week</th>\n      <th>policy_index</th>\n      <th>variant</th>\n      <th>mobility</th>\n      <th>temperature</th>\n      <th>wind</th>\n      <th>infections</th>\n      <th>beta</th>\n      <th>beta_t_minus_1</th>\n      <th>district</th>\n    </tr>\n  </thead>\n  <tbody>\n    <tr>\n      <th>0</th>\n      <td>0</td>\n      <td>2</td>\n      <td>62.500000</td>\n      <td>Other</td>\n      <td>-41.714286</td>\n      <td>4.885714</td>\n      <td>24.057143</td>\n      <td>4.897959</td>\n      <td>2.621485e-01</td>\n      <td>0.405904</td>\n      <td>Landkreis St. Wendel</td>\n    </tr>\n    <tr>\n      <th>1</th>\n      <td>1</td>\n      <td>3</td>\n      <td>63.778571</td>\n      <td>Other</td>\n      <td>-36.000000</td>\n      <td>5.971429</td>\n      <td>14.714286</td>\n      <td>3.326531</td>\n      <td>1.550497e-01</td>\n      <td>0.269774</td>\n      <td>Landkreis St. Wendel</td>\n    </tr>\n    <tr>\n      <th>2</th>\n      <td>2</td>\n      <td>4</td>\n      <td>65.180000</td>\n      <td>Other</td>\n      <td>-31.142857</td>\n      <td>16.085714</td>\n      <td>11.900000</td>\n      <td>1.122449</td>\n      <td>3.379712e-18</td>\n      <td>0.278678</td>\n      <td>Landkreis St. Wendel</td>\n    </tr>\n    <tr>\n      <th>3</th>\n      <td>3</td>\n      <td>5</td>\n      <td>65.180000</td>\n      <td>Other</td>\n      <td>-31.857143</td>\n      <td>12.357143</td>\n      <td>12.542857</td>\n      <td>0.500000</td>\n      <td>1.574978e-02</td>\n      <td>0.002448</td>\n      <td>Landkreis St. Wendel</td>\n    </tr>\n    <tr>\n      <th>4</th>\n      <td>4</td>\n      <td>6</td>\n      <td>65.180000</td>\n      <td>Other</td>\n      <td>-23.571429</td>\n      <td>13.685714</td>\n      <td>19.585714</td>\n      <td>0.704082</td>\n      <td>5.966302e-01</td>\n      <td>0.014601</td>\n      <td>Landkreis St. Wendel</td>\n    </tr>\n    <tr>\n      <th>...</th>\n      <td>...</td>\n      <td>...</td>\n      <td>...</td>\n      <td>...</td>\n      <td>...</td>\n      <td>...</td>\n      <td>...</td>\n      <td>...</td>\n      <td>...</td>\n      <td>...</td>\n      <td>...</td>\n    </tr>\n    <tr>\n      <th>37195</th>\n      <td>88</td>\n      <td>90</td>\n      <td>81.761429</td>\n      <td>B.1.617.2</td>\n      <td>1.857143</td>\n      <td>2.185714</td>\n      <td>14.614286</td>\n      <td>165.051020</td>\n      <td>5.811076e-01</td>\n      <td>0.612582</td>\n      <td>Wartburgkreis</td>\n    </tr>\n    <tr>\n      <th>37196</th>\n      <td>89</td>\n      <td>91</td>\n      <td>83.930000</td>\n      <td>B.1.617.2</td>\n      <td>6.000000</td>\n      <td>0.857143</td>\n      <td>9.814286</td>\n      <td>145.214286</td>\n      <td>4.988738e-01</td>\n      <td>0.586679</td>\n      <td>Wartburgkreis</td>\n    </tr>\n    <tr>\n      <th>37197</th>\n      <td>90</td>\n      <td>92</td>\n      <td>83.930000</td>\n      <td>B.1.617.2</td>\n      <td>6.571429</td>\n      <td>5.028571</td>\n      <td>7.842857</td>\n      <td>105.612245</td>\n      <td>3.810974e-01</td>\n      <td>0.542123</td>\n      <td>Wartburgkreis</td>\n    </tr>\n    <tr>\n      <th>37198</th>\n      <td>91</td>\n      <td>93</td>\n      <td>83.930000</td>\n      <td>B.1.617.2</td>\n      <td>-2.714286</td>\n      <td>-1.842857</td>\n      <td>10.771429</td>\n      <td>83.377551</td>\n      <td>4.671758e-01</td>\n      <td>0.425633</td>\n      <td>Wartburgkreis</td>\n    </tr>\n    <tr>\n      <th>37199</th>\n      <td>92</td>\n      <td>94</td>\n      <td>59.950000</td>\n      <td>0</td>\n      <td>-5.285714</td>\n      <td>7.942857</td>\n      <td>15.385714</td>\n      <td>69.897959</td>\n      <td>4.988519e-01</td>\n      <td>0.421383</td>\n      <td>Wartburgkreis</td>\n    </tr>\n  </tbody>\n</table>\n<p>37200 rows × 11 columns</p>\n</div>"
     },
     "execution_count": 2,
     "metadata": {},
     "output_type": "execute_result"
    }
   ],
   "source": [
    " # 1) separate beta, delete districts, transform variant\n",
    "df = pd.read_csv(\"all_matrix_data_v2.csv\")\n",
    "df"
   ],
   "metadata": {
    "collapsed": false,
    "pycharm": {
     "name": "#%%\n"
    }
   }
  },
  {
   "cell_type": "code",
   "execution_count": 3,
   "outputs": [
    {
     "data": {
      "text/plain": "       0  B.1.1.7  B.1.617.2  Other\n0      0        0          0      1\n1      0        0          0      1\n2      0        0          0      1\n3      0        0          0      1\n4      0        0          0      1\n...   ..      ...        ...    ...\n37195  0        0          1      0\n37196  0        0          1      0\n37197  0        0          1      0\n37198  0        0          1      0\n37199  1        0          0      0\n\n[37200 rows x 4 columns]",
      "text/html": "<div>\n<style scoped>\n    .dataframe tbody tr th:only-of-type {\n        vertical-align: middle;\n    }\n\n    .dataframe tbody tr th {\n        vertical-align: top;\n    }\n\n    .dataframe thead th {\n        text-align: right;\n    }\n</style>\n<table border=\"1\" class=\"dataframe\">\n  <thead>\n    <tr style=\"text-align: right;\">\n      <th></th>\n      <th>0</th>\n      <th>B.1.1.7</th>\n      <th>B.1.617.2</th>\n      <th>Other</th>\n    </tr>\n  </thead>\n  <tbody>\n    <tr>\n      <th>0</th>\n      <td>0</td>\n      <td>0</td>\n      <td>0</td>\n      <td>1</td>\n    </tr>\n    <tr>\n      <th>1</th>\n      <td>0</td>\n      <td>0</td>\n      <td>0</td>\n      <td>1</td>\n    </tr>\n    <tr>\n      <th>2</th>\n      <td>0</td>\n      <td>0</td>\n      <td>0</td>\n      <td>1</td>\n    </tr>\n    <tr>\n      <th>3</th>\n      <td>0</td>\n      <td>0</td>\n      <td>0</td>\n      <td>1</td>\n    </tr>\n    <tr>\n      <th>4</th>\n      <td>0</td>\n      <td>0</td>\n      <td>0</td>\n      <td>1</td>\n    </tr>\n    <tr>\n      <th>...</th>\n      <td>...</td>\n      <td>...</td>\n      <td>...</td>\n      <td>...</td>\n    </tr>\n    <tr>\n      <th>37195</th>\n      <td>0</td>\n      <td>0</td>\n      <td>1</td>\n      <td>0</td>\n    </tr>\n    <tr>\n      <th>37196</th>\n      <td>0</td>\n      <td>0</td>\n      <td>1</td>\n      <td>0</td>\n    </tr>\n    <tr>\n      <th>37197</th>\n      <td>0</td>\n      <td>0</td>\n      <td>1</td>\n      <td>0</td>\n    </tr>\n    <tr>\n      <th>37198</th>\n      <td>0</td>\n      <td>0</td>\n      <td>1</td>\n      <td>0</td>\n    </tr>\n    <tr>\n      <th>37199</th>\n      <td>1</td>\n      <td>0</td>\n      <td>0</td>\n      <td>0</td>\n    </tr>\n  </tbody>\n</table>\n<p>37200 rows × 4 columns</p>\n</div>"
     },
     "execution_count": 3,
     "metadata": {},
     "output_type": "execute_result"
    }
   ],
   "source": [
    "#transform variant\n",
    "df_1 = pd.get_dummies(df['variant'])\n",
    "df_1"
   ],
   "metadata": {
    "collapsed": false,
    "pycharm": {
     "name": "#%%\n"
    }
   }
  },
  {
   "cell_type": "code",
   "execution_count": 4,
   "outputs": [
    {
     "data": {
      "text/plain": "       0  B.1.1.7  B.1.617.2  Other  Unnamed: 0  week  policy_index  \\\n0      0        0          0      1           0     2     62.500000   \n1      0        0          0      1           1     3     63.778571   \n2      0        0          0      1           2     4     65.180000   \n3      0        0          0      1           3     5     65.180000   \n4      0        0          0      1           4     6     65.180000   \n...   ..      ...        ...    ...         ...   ...           ...   \n37195  0        0          1      0          88    90     81.761429   \n37196  0        0          1      0          89    91     83.930000   \n37197  0        0          1      0          90    92     83.930000   \n37198  0        0          1      0          91    93     83.930000   \n37199  1        0          0      0          92    94     59.950000   \n\n        mobility  temperature       wind  infections          beta  \\\n0     -41.714286     4.885714  24.057143    4.897959  2.621485e-01   \n1     -36.000000     5.971429  14.714286    3.326531  1.550497e-01   \n2     -31.142857    16.085714  11.900000    1.122449  3.379712e-18   \n3     -31.857143    12.357143  12.542857    0.500000  1.574978e-02   \n4     -23.571429    13.685714  19.585714    0.704082  5.966302e-01   \n...          ...          ...        ...         ...           ...   \n37195   1.857143     2.185714  14.614286  165.051020  5.811076e-01   \n37196   6.000000     0.857143   9.814286  145.214286  4.988738e-01   \n37197   6.571429     5.028571   7.842857  105.612245  3.810974e-01   \n37198  -2.714286    -1.842857  10.771429   83.377551  4.671758e-01   \n37199  -5.285714     7.942857  15.385714   69.897959  4.988519e-01   \n\n       beta_t_minus_1  \n0            0.405904  \n1            0.269774  \n2            0.278678  \n3            0.002448  \n4            0.014601  \n...               ...  \n37195        0.612582  \n37196        0.586679  \n37197        0.542123  \n37198        0.425633  \n37199        0.421383  \n\n[37200 rows x 13 columns]",
      "text/html": "<div>\n<style scoped>\n    .dataframe tbody tr th:only-of-type {\n        vertical-align: middle;\n    }\n\n    .dataframe tbody tr th {\n        vertical-align: top;\n    }\n\n    .dataframe thead th {\n        text-align: right;\n    }\n</style>\n<table border=\"1\" class=\"dataframe\">\n  <thead>\n    <tr style=\"text-align: right;\">\n      <th></th>\n      <th>0</th>\n      <th>B.1.1.7</th>\n      <th>B.1.617.2</th>\n      <th>Other</th>\n      <th>Unnamed: 0</th>\n      <th>week</th>\n      <th>policy_index</th>\n      <th>mobility</th>\n      <th>temperature</th>\n      <th>wind</th>\n      <th>infections</th>\n      <th>beta</th>\n      <th>beta_t_minus_1</th>\n    </tr>\n  </thead>\n  <tbody>\n    <tr>\n      <th>0</th>\n      <td>0</td>\n      <td>0</td>\n      <td>0</td>\n      <td>1</td>\n      <td>0</td>\n      <td>2</td>\n      <td>62.500000</td>\n      <td>-41.714286</td>\n      <td>4.885714</td>\n      <td>24.057143</td>\n      <td>4.897959</td>\n      <td>2.621485e-01</td>\n      <td>0.405904</td>\n    </tr>\n    <tr>\n      <th>1</th>\n      <td>0</td>\n      <td>0</td>\n      <td>0</td>\n      <td>1</td>\n      <td>1</td>\n      <td>3</td>\n      <td>63.778571</td>\n      <td>-36.000000</td>\n      <td>5.971429</td>\n      <td>14.714286</td>\n      <td>3.326531</td>\n      <td>1.550497e-01</td>\n      <td>0.269774</td>\n    </tr>\n    <tr>\n      <th>2</th>\n      <td>0</td>\n      <td>0</td>\n      <td>0</td>\n      <td>1</td>\n      <td>2</td>\n      <td>4</td>\n      <td>65.180000</td>\n      <td>-31.142857</td>\n      <td>16.085714</td>\n      <td>11.900000</td>\n      <td>1.122449</td>\n      <td>3.379712e-18</td>\n      <td>0.278678</td>\n    </tr>\n    <tr>\n      <th>3</th>\n      <td>0</td>\n      <td>0</td>\n      <td>0</td>\n      <td>1</td>\n      <td>3</td>\n      <td>5</td>\n      <td>65.180000</td>\n      <td>-31.857143</td>\n      <td>12.357143</td>\n      <td>12.542857</td>\n      <td>0.500000</td>\n      <td>1.574978e-02</td>\n      <td>0.002448</td>\n    </tr>\n    <tr>\n      <th>4</th>\n      <td>0</td>\n      <td>0</td>\n      <td>0</td>\n      <td>1</td>\n      <td>4</td>\n      <td>6</td>\n      <td>65.180000</td>\n      <td>-23.571429</td>\n      <td>13.685714</td>\n      <td>19.585714</td>\n      <td>0.704082</td>\n      <td>5.966302e-01</td>\n      <td>0.014601</td>\n    </tr>\n    <tr>\n      <th>...</th>\n      <td>...</td>\n      <td>...</td>\n      <td>...</td>\n      <td>...</td>\n      <td>...</td>\n      <td>...</td>\n      <td>...</td>\n      <td>...</td>\n      <td>...</td>\n      <td>...</td>\n      <td>...</td>\n      <td>...</td>\n      <td>...</td>\n    </tr>\n    <tr>\n      <th>37195</th>\n      <td>0</td>\n      <td>0</td>\n      <td>1</td>\n      <td>0</td>\n      <td>88</td>\n      <td>90</td>\n      <td>81.761429</td>\n      <td>1.857143</td>\n      <td>2.185714</td>\n      <td>14.614286</td>\n      <td>165.051020</td>\n      <td>5.811076e-01</td>\n      <td>0.612582</td>\n    </tr>\n    <tr>\n      <th>37196</th>\n      <td>0</td>\n      <td>0</td>\n      <td>1</td>\n      <td>0</td>\n      <td>89</td>\n      <td>91</td>\n      <td>83.930000</td>\n      <td>6.000000</td>\n      <td>0.857143</td>\n      <td>9.814286</td>\n      <td>145.214286</td>\n      <td>4.988738e-01</td>\n      <td>0.586679</td>\n    </tr>\n    <tr>\n      <th>37197</th>\n      <td>0</td>\n      <td>0</td>\n      <td>1</td>\n      <td>0</td>\n      <td>90</td>\n      <td>92</td>\n      <td>83.930000</td>\n      <td>6.571429</td>\n      <td>5.028571</td>\n      <td>7.842857</td>\n      <td>105.612245</td>\n      <td>3.810974e-01</td>\n      <td>0.542123</td>\n    </tr>\n    <tr>\n      <th>37198</th>\n      <td>0</td>\n      <td>0</td>\n      <td>1</td>\n      <td>0</td>\n      <td>91</td>\n      <td>93</td>\n      <td>83.930000</td>\n      <td>-2.714286</td>\n      <td>-1.842857</td>\n      <td>10.771429</td>\n      <td>83.377551</td>\n      <td>4.671758e-01</td>\n      <td>0.425633</td>\n    </tr>\n    <tr>\n      <th>37199</th>\n      <td>1</td>\n      <td>0</td>\n      <td>0</td>\n      <td>0</td>\n      <td>92</td>\n      <td>94</td>\n      <td>59.950000</td>\n      <td>-5.285714</td>\n      <td>7.942857</td>\n      <td>15.385714</td>\n      <td>69.897959</td>\n      <td>4.988519e-01</td>\n      <td>0.421383</td>\n    </tr>\n  </tbody>\n</table>\n<p>37200 rows × 13 columns</p>\n</div>"
     },
     "execution_count": 4,
     "metadata": {},
     "output_type": "execute_result"
    }
   ],
   "source": [
    "df_2 = df.drop(columns='variant')\n",
    "df = pd.concat([df_1, df_2], axis=1)\n",
    "#delete districts\n",
    "df = df.drop(columns='district')\n",
    "df"
   ],
   "metadata": {
    "collapsed": false,
    "pycharm": {
     "name": "#%%\n"
    }
   }
  },
  {
   "cell_type": "code",
   "execution_count": 5,
   "outputs": [],
   "source": [
    "# Drop \"other\" variant column to prevent dummy variable trap:\n",
    "df = df.drop(columns='Other', axis=1)\n",
    "# Drop zero column:\n",
    "df = df.drop(columns='0', axis=1)"
   ],
   "metadata": {
    "collapsed": false,
    "pycharm": {
     "name": "#%%\n"
    }
   }
  },
  {
   "cell_type": "markdown",
   "source": [
    "#### delete infections = 0"
   ],
   "metadata": {
    "collapsed": false
   }
  },
  {
   "cell_type": "code",
   "execution_count": 6,
   "outputs": [],
   "source": [
    "df.drop(df[df['infections'] == 0.0].index, inplace=True)\n",
    "df.reset_index(inplace=True, drop=True)"
   ],
   "metadata": {
    "collapsed": false,
    "pycharm": {
     "name": "#%%\n"
    }
   }
  },
  {
   "cell_type": "code",
   "execution_count": 7,
   "outputs": [],
   "source": [
    "df_v4 = df.copy()"
   ],
   "metadata": {
    "collapsed": false,
    "pycharm": {
     "name": "#%%\n"
    }
   }
  },
  {
   "cell_type": "code",
   "execution_count": 8,
   "outputs": [],
   "source": [
    "df_v4['temperature'] = df.groupby(\"week\").transform(lambda x: x.fillna(x.mean()))['temperature']\n",
    "df_v4['wind'] = df.groupby(\"week\").transform(lambda x: x.fillna(x.mean()))['wind']"
   ],
   "metadata": {
    "collapsed": false,
    "pycharm": {
     "name": "#%%\n"
    }
   }
  },
  {
   "cell_type": "code",
   "execution_count": 9,
   "outputs": [
    {
     "data": {
      "text/plain": "       B.1.1.7  B.1.617.2  Unnamed: 0  week  policy_index   mobility  \\\n0            0          0           0     2     62.500000 -41.714286   \n1            0          0           1     3     63.778571 -36.000000   \n2            0          0           2     4     65.180000 -31.142857   \n3            0          0           3     5     65.180000 -31.857143   \n4            0          0           4     6     65.180000 -23.571429   \n...        ...        ...         ...   ...           ...        ...   \n36771        0          1          88    90     81.761429   1.857143   \n36772        0          1          89    91     83.930000   6.000000   \n36773        0          1          90    92     83.930000   6.571429   \n36774        0          1          91    93     83.930000  -2.714286   \n36775        0          0          92    94     59.950000  -5.285714   \n\n       temperature       wind  infections          beta  beta_t_minus_1  \n0         4.885714  24.057143    4.897959  2.621485e-01        0.405904  \n1         5.971429  14.714286    3.326531  1.550497e-01        0.269774  \n2        16.085714  11.900000    1.122449  3.379712e-18        0.278678  \n3        12.357143  12.542857    0.500000  1.574978e-02        0.002448  \n4        13.685714  19.585714    0.704082  5.966302e-01        0.014601  \n...            ...        ...         ...           ...             ...  \n36771     2.185714  14.614286  165.051020  5.811076e-01        0.612582  \n36772     0.857143   9.814286  145.214286  4.988738e-01        0.586679  \n36773     5.028571   7.842857  105.612245  3.810974e-01        0.542123  \n36774    -1.842857  10.771429   83.377551  4.671758e-01        0.425633  \n36775     7.942857  15.385714   69.897959  4.988519e-01        0.421383  \n\n[36776 rows x 11 columns]",
      "text/html": "<div>\n<style scoped>\n    .dataframe tbody tr th:only-of-type {\n        vertical-align: middle;\n    }\n\n    .dataframe tbody tr th {\n        vertical-align: top;\n    }\n\n    .dataframe thead th {\n        text-align: right;\n    }\n</style>\n<table border=\"1\" class=\"dataframe\">\n  <thead>\n    <tr style=\"text-align: right;\">\n      <th></th>\n      <th>B.1.1.7</th>\n      <th>B.1.617.2</th>\n      <th>Unnamed: 0</th>\n      <th>week</th>\n      <th>policy_index</th>\n      <th>mobility</th>\n      <th>temperature</th>\n      <th>wind</th>\n      <th>infections</th>\n      <th>beta</th>\n      <th>beta_t_minus_1</th>\n    </tr>\n  </thead>\n  <tbody>\n    <tr>\n      <th>0</th>\n      <td>0</td>\n      <td>0</td>\n      <td>0</td>\n      <td>2</td>\n      <td>62.500000</td>\n      <td>-41.714286</td>\n      <td>4.885714</td>\n      <td>24.057143</td>\n      <td>4.897959</td>\n      <td>2.621485e-01</td>\n      <td>0.405904</td>\n    </tr>\n    <tr>\n      <th>1</th>\n      <td>0</td>\n      <td>0</td>\n      <td>1</td>\n      <td>3</td>\n      <td>63.778571</td>\n      <td>-36.000000</td>\n      <td>5.971429</td>\n      <td>14.714286</td>\n      <td>3.326531</td>\n      <td>1.550497e-01</td>\n      <td>0.269774</td>\n    </tr>\n    <tr>\n      <th>2</th>\n      <td>0</td>\n      <td>0</td>\n      <td>2</td>\n      <td>4</td>\n      <td>65.180000</td>\n      <td>-31.142857</td>\n      <td>16.085714</td>\n      <td>11.900000</td>\n      <td>1.122449</td>\n      <td>3.379712e-18</td>\n      <td>0.278678</td>\n    </tr>\n    <tr>\n      <th>3</th>\n      <td>0</td>\n      <td>0</td>\n      <td>3</td>\n      <td>5</td>\n      <td>65.180000</td>\n      <td>-31.857143</td>\n      <td>12.357143</td>\n      <td>12.542857</td>\n      <td>0.500000</td>\n      <td>1.574978e-02</td>\n      <td>0.002448</td>\n    </tr>\n    <tr>\n      <th>4</th>\n      <td>0</td>\n      <td>0</td>\n      <td>4</td>\n      <td>6</td>\n      <td>65.180000</td>\n      <td>-23.571429</td>\n      <td>13.685714</td>\n      <td>19.585714</td>\n      <td>0.704082</td>\n      <td>5.966302e-01</td>\n      <td>0.014601</td>\n    </tr>\n    <tr>\n      <th>...</th>\n      <td>...</td>\n      <td>...</td>\n      <td>...</td>\n      <td>...</td>\n      <td>...</td>\n      <td>...</td>\n      <td>...</td>\n      <td>...</td>\n      <td>...</td>\n      <td>...</td>\n      <td>...</td>\n    </tr>\n    <tr>\n      <th>36771</th>\n      <td>0</td>\n      <td>1</td>\n      <td>88</td>\n      <td>90</td>\n      <td>81.761429</td>\n      <td>1.857143</td>\n      <td>2.185714</td>\n      <td>14.614286</td>\n      <td>165.051020</td>\n      <td>5.811076e-01</td>\n      <td>0.612582</td>\n    </tr>\n    <tr>\n      <th>36772</th>\n      <td>0</td>\n      <td>1</td>\n      <td>89</td>\n      <td>91</td>\n      <td>83.930000</td>\n      <td>6.000000</td>\n      <td>0.857143</td>\n      <td>9.814286</td>\n      <td>145.214286</td>\n      <td>4.988738e-01</td>\n      <td>0.586679</td>\n    </tr>\n    <tr>\n      <th>36773</th>\n      <td>0</td>\n      <td>1</td>\n      <td>90</td>\n      <td>92</td>\n      <td>83.930000</td>\n      <td>6.571429</td>\n      <td>5.028571</td>\n      <td>7.842857</td>\n      <td>105.612245</td>\n      <td>3.810974e-01</td>\n      <td>0.542123</td>\n    </tr>\n    <tr>\n      <th>36774</th>\n      <td>0</td>\n      <td>1</td>\n      <td>91</td>\n      <td>93</td>\n      <td>83.930000</td>\n      <td>-2.714286</td>\n      <td>-1.842857</td>\n      <td>10.771429</td>\n      <td>83.377551</td>\n      <td>4.671758e-01</td>\n      <td>0.425633</td>\n    </tr>\n    <tr>\n      <th>36775</th>\n      <td>0</td>\n      <td>0</td>\n      <td>92</td>\n      <td>94</td>\n      <td>59.950000</td>\n      <td>-5.285714</td>\n      <td>7.942857</td>\n      <td>15.385714</td>\n      <td>69.897959</td>\n      <td>4.988519e-01</td>\n      <td>0.421383</td>\n    </tr>\n  </tbody>\n</table>\n<p>36776 rows × 11 columns</p>\n</div>"
     },
     "execution_count": 9,
     "metadata": {},
     "output_type": "execute_result"
    }
   ],
   "source": [
    "df = df_v4\n",
    "df"
   ],
   "metadata": {
    "collapsed": false,
    "pycharm": {
     "name": "#%%\n"
    }
   }
  },
  {
   "cell_type": "markdown",
   "source": [
    "#### delete small betas"
   ],
   "metadata": {
    "collapsed": false
   }
  },
  {
   "cell_type": "code",
   "execution_count": 10,
   "outputs": [],
   "source": [
    "df.drop(df[df['beta'] <= 0.025].index, inplace=True)\n",
    "df.reset_index(inplace=True, drop=True)"
   ],
   "metadata": {
    "collapsed": false,
    "pycharm": {
     "name": "#%%\n"
    }
   }
  },
  {
   "cell_type": "markdown",
   "source": [
    "#### create beta, delete bate from dataframe"
   ],
   "metadata": {
    "collapsed": false
   }
  },
  {
   "cell_type": "code",
   "execution_count": 11,
   "outputs": [],
   "source": [
    "#dataframe for labels\n",
    "beta = df['beta']\n",
    "\n",
    "#delete beta\n",
    "df = df.drop(columns='beta')"
   ],
   "metadata": {
    "collapsed": false,
    "pycharm": {
     "name": "#%%\n"
    }
   }
  },
  {
   "cell_type": "markdown",
   "source": [
    "#### delete columns week and unnamed"
   ],
   "metadata": {
    "collapsed": false
   }
  },
  {
   "cell_type": "code",
   "execution_count": 12,
   "outputs": [],
   "source": [
    "df = df.drop(columns='week')\n",
    "df = df.loc[:, ~df.columns.str.contains('^Unnamed')]"
   ],
   "metadata": {
    "collapsed": false,
    "pycharm": {
     "name": "#%%\n"
    }
   }
  },
  {
   "cell_type": "code",
   "execution_count": 13,
   "outputs": [
    {
     "data": {
      "text/plain": "       B.1.1.7  B.1.617.2  policy_index   mobility  temperature       wind  \\\n0            0          0     62.500000 -41.714286     4.885714  24.057143   \n1            0          0     63.778571 -36.000000     5.971429  14.714286   \n2            0          0     65.180000 -23.571429    13.685714  19.585714   \n3            0          0     69.342857 -27.428571    10.585714  15.171429   \n4            0          0     61.268571 -12.428571     9.585714  15.528571   \n...        ...        ...           ...        ...          ...        ...   \n34866        0          1     81.761429   1.857143     2.185714  14.614286   \n34867        0          1     83.930000   6.000000     0.857143   9.814286   \n34868        0          1     83.930000   6.571429     5.028571   7.842857   \n34869        0          1     83.930000  -2.714286    -1.842857  10.771429   \n34870        0          0     59.950000  -5.285714     7.942857  15.385714   \n\n       infections  beta_t_minus_1  \n0        4.897959        0.405904  \n1        3.326531        0.269774  \n2        0.704082        0.014601  \n3        0.622449        0.416047  \n4        0.122449        0.005292  \n...           ...             ...  \n34866  165.051020        0.612582  \n34867  145.214286        0.586679  \n34868  105.612245        0.542123  \n34869   83.377551        0.425633  \n34870   69.897959        0.421383  \n\n[34871 rows x 8 columns]",
      "text/html": "<div>\n<style scoped>\n    .dataframe tbody tr th:only-of-type {\n        vertical-align: middle;\n    }\n\n    .dataframe tbody tr th {\n        vertical-align: top;\n    }\n\n    .dataframe thead th {\n        text-align: right;\n    }\n</style>\n<table border=\"1\" class=\"dataframe\">\n  <thead>\n    <tr style=\"text-align: right;\">\n      <th></th>\n      <th>B.1.1.7</th>\n      <th>B.1.617.2</th>\n      <th>policy_index</th>\n      <th>mobility</th>\n      <th>temperature</th>\n      <th>wind</th>\n      <th>infections</th>\n      <th>beta_t_minus_1</th>\n    </tr>\n  </thead>\n  <tbody>\n    <tr>\n      <th>0</th>\n      <td>0</td>\n      <td>0</td>\n      <td>62.500000</td>\n      <td>-41.714286</td>\n      <td>4.885714</td>\n      <td>24.057143</td>\n      <td>4.897959</td>\n      <td>0.405904</td>\n    </tr>\n    <tr>\n      <th>1</th>\n      <td>0</td>\n      <td>0</td>\n      <td>63.778571</td>\n      <td>-36.000000</td>\n      <td>5.971429</td>\n      <td>14.714286</td>\n      <td>3.326531</td>\n      <td>0.269774</td>\n    </tr>\n    <tr>\n      <th>2</th>\n      <td>0</td>\n      <td>0</td>\n      <td>65.180000</td>\n      <td>-23.571429</td>\n      <td>13.685714</td>\n      <td>19.585714</td>\n      <td>0.704082</td>\n      <td>0.014601</td>\n    </tr>\n    <tr>\n      <th>3</th>\n      <td>0</td>\n      <td>0</td>\n      <td>69.342857</td>\n      <td>-27.428571</td>\n      <td>10.585714</td>\n      <td>15.171429</td>\n      <td>0.622449</td>\n      <td>0.416047</td>\n    </tr>\n    <tr>\n      <th>4</th>\n      <td>0</td>\n      <td>0</td>\n      <td>61.268571</td>\n      <td>-12.428571</td>\n      <td>9.585714</td>\n      <td>15.528571</td>\n      <td>0.122449</td>\n      <td>0.005292</td>\n    </tr>\n    <tr>\n      <th>...</th>\n      <td>...</td>\n      <td>...</td>\n      <td>...</td>\n      <td>...</td>\n      <td>...</td>\n      <td>...</td>\n      <td>...</td>\n      <td>...</td>\n    </tr>\n    <tr>\n      <th>34866</th>\n      <td>0</td>\n      <td>1</td>\n      <td>81.761429</td>\n      <td>1.857143</td>\n      <td>2.185714</td>\n      <td>14.614286</td>\n      <td>165.051020</td>\n      <td>0.612582</td>\n    </tr>\n    <tr>\n      <th>34867</th>\n      <td>0</td>\n      <td>1</td>\n      <td>83.930000</td>\n      <td>6.000000</td>\n      <td>0.857143</td>\n      <td>9.814286</td>\n      <td>145.214286</td>\n      <td>0.586679</td>\n    </tr>\n    <tr>\n      <th>34868</th>\n      <td>0</td>\n      <td>1</td>\n      <td>83.930000</td>\n      <td>6.571429</td>\n      <td>5.028571</td>\n      <td>7.842857</td>\n      <td>105.612245</td>\n      <td>0.542123</td>\n    </tr>\n    <tr>\n      <th>34869</th>\n      <td>0</td>\n      <td>1</td>\n      <td>83.930000</td>\n      <td>-2.714286</td>\n      <td>-1.842857</td>\n      <td>10.771429</td>\n      <td>83.377551</td>\n      <td>0.425633</td>\n    </tr>\n    <tr>\n      <th>34870</th>\n      <td>0</td>\n      <td>0</td>\n      <td>59.950000</td>\n      <td>-5.285714</td>\n      <td>7.942857</td>\n      <td>15.385714</td>\n      <td>69.897959</td>\n      <td>0.421383</td>\n    </tr>\n  </tbody>\n</table>\n<p>34871 rows × 8 columns</p>\n</div>"
     },
     "execution_count": 13,
     "metadata": {},
     "output_type": "execute_result"
    }
   ],
   "source": [
    "df"
   ],
   "metadata": {
    "collapsed": false,
    "pycharm": {
     "name": "#%%\n"
    }
   }
  },
  {
   "cell_type": "markdown",
   "source": [
    "#### Standadizing"
   ],
   "metadata": {
    "collapsed": false
   }
  },
  {
   "cell_type": "code",
   "execution_count": 14,
   "outputs": [],
   "source": [
    "#save the given model\n",
    "def save_standardizing_model(model):\n",
    "    filename = 'standardizing_model.sav'\n",
    "    pickle.dump(model, open(filename, 'wb'))"
   ],
   "metadata": {
    "collapsed": false,
    "pycharm": {
     "name": "#%%\n"
    }
   }
  },
  {
   "cell_type": "code",
   "execution_count": 15,
   "outputs": [],
   "source": [
    "# Standardize:\n",
    "scaler_obj = StandardScaler()\n",
    "\n",
    "# Split explanatory columns from beta:\n",
    "explanatory_cols = df.drop(columns=['beta_t_minus_1'], axis=1)\n",
    "beta_cols = df[['beta_t_minus_1']]\n",
    "\n",
    "# Apply scaling:\n",
    "scaled_explanatory_cols = pd.DataFrame(scaler_obj.fit_transform(explanatory_cols), index=explanatory_cols.index, columns=explanatory_cols.columns)\n",
    "\n",
    "# Merge both together again:\n",
    "df = pd.concat([scaled_explanatory_cols, beta_cols], axis=1)\n",
    "df\n",
    "save_standardizing_model(scaler_obj)"
   ],
   "metadata": {
    "collapsed": false,
    "pycharm": {
     "name": "#%%\n"
    }
   }
  },
  {
   "cell_type": "markdown",
   "source": [
    "#### split into test and training data"
   ],
   "metadata": {
    "collapsed": false
   }
  },
  {
   "cell_type": "code",
   "execution_count": 16,
   "outputs": [],
   "source": [
    "X_train, X_test, y_train, y_test = train_test_split(df, beta, shuffle=True, train_size=0.75, random_state=1)"
   ],
   "metadata": {
    "collapsed": false,
    "pycharm": {
     "name": "#%%\n"
    }
   }
  },
  {
   "cell_type": "code",
   "execution_count": 17,
   "outputs": [
    {
     "data": {
      "text/plain": "(        B.1.1.7  B.1.617.2  policy_index  mobility  temperature      wind  \\\n 27985  1.702719  -0.643395      1.021763 -0.249863     1.430504 -1.188040   \n 11433 -0.587296   1.554256     -1.003078  0.263379     0.030636 -0.060999   \n 7535  -0.587296   1.554256      0.358885  2.637122     0.618367 -0.800241   \n 12155 -0.587296  -0.643395     -0.593654  0.602485     0.165280  0.950792   \n 27209  1.702719  -0.643395      0.790591  0.804116    -1.497464  0.221771   \n ...         ...        ...           ...       ...          ...       ...   \n 30772 -0.587296  -0.643395     -1.589363  0.226719     1.396308 -0.145830   \n 8547  -0.587296  -0.643395     -0.593654  0.034253     0.308472  2.088053   \n 1491   1.702719  -0.643395      0.406233 -1.642948    -0.937517  2.859612   \n 21117  1.702719  -0.643395      0.375596 -0.717280    -1.076435  3.400915   \n 19279 -0.587296  -0.643395      0.747222 -1.083881    -1.016593 -0.650777   \n \n        infections  beta_t_minus_1  \n 27985   -0.349154        0.265679  \n 11433   -0.291061        1.099343  \n 7535    -0.130870        0.655740  \n 12155    0.219139        0.481638  \n 27209    0.104696        0.357572  \n ...           ...             ...  \n 30772    0.380201        0.443906  \n 8547     0.337503        0.398196  \n 1491     0.135485        0.451817  \n 21117   -0.342474        0.269043  \n 19279   -0.307618        0.276742  \n \n [8718 rows x 8 columns],\n         B.1.1.7  B.1.617.2  policy_index  mobility  temperature      wind  \\\n 2007  -0.587296  -0.643395     -1.589363  0.281709     0.077654  0.714034   \n 31561 -0.587296  -0.643395     -0.635432 -0.708114    -1.070023  1.441722   \n 4925  -0.587296  -0.643395     -1.589363  0.290874     0.037048 -0.602302   \n 6119   1.702719  -0.643395      1.021763  0.410019     0.992377 -1.276911   \n 4152   1.702719  -0.643395      0.673613 -0.552309    -1.574403  0.621688   \n ...         ...        ...           ...       ...          ...       ...   \n 7813  -0.587296   1.554256      2.514630 -0.882250    -1.897121 -0.481115   \n 32511 -0.587296  -0.643395      0.673613 -0.075727    -0.907596  2.427378   \n 5192  -0.587296  -0.643395     -1.589363  0.712466    -0.037754 -0.299334   \n 12172  1.702719  -0.643395      0.650137 -0.204038    -0.204456  0.237929   \n 33003 -0.587296  -0.643395     -1.174368 -0.350678     0.447390 -0.238741   \n \n        infections  beta_t_minus_1  \n 2007    -0.356852    2.945474e-01  \n 31561    2.573206    3.285676e-01  \n 4925    -0.310232    2.981148e-01  \n 6119    -0.417413    1.690966e-01  \n 4152     0.093513    3.511035e-01  \n ...           ...             ...  \n 7813     0.302793    2.752137e-01  \n 32511   -0.408845    3.048343e-01  \n 5192    -0.386334    1.472339e-01  \n 12172   -0.227450    2.909468e-01  \n 33003   -0.432663    9.383119e-07  \n \n [26153 rows x 8 columns],\n 27985    0.119230\n 11433    0.991697\n 7535     0.562308\n 12155    0.363080\n 27209    0.386076\n            ...   \n 30772    0.309414\n 8547     0.473161\n 1491     0.170897\n 21117    0.275106\n 19279    0.286330\n Name: beta, Length: 8718, dtype: float64,\n 2007     0.600610\n 31561    0.320566\n 4925     0.439621\n 6119     0.225620\n 4152     0.248781\n            ...   \n 7813     0.572434\n 32511    0.234005\n 5192     0.580533\n 12172    0.313105\n 33003    4.227470\n Name: beta, Length: 26153, dtype: float64)"
     },
     "execution_count": 17,
     "metadata": {},
     "output_type": "execute_result"
    }
   ],
   "source": [
    "df.to_csv(\"df.csv\")\n",
    "beta.to_csv(\"beta.csv\")\n",
    "X_test.to_csv(\"x_test.csv\")\n",
    "X_train.to_csv(\"x_train.csv\")\n",
    "y_test.to_csv(\"y_test.csv\")\n",
    "y_train.to_csv(\"y_train.csv\")\n",
    "X_test, X_train, y_test, y_train"
   ],
   "metadata": {
    "collapsed": false,
    "pycharm": {
     "name": "#%%\n"
    }
   }
  },
  {
   "cell_type": "markdown",
   "source": [
    "### run all models to find best one"
   ],
   "metadata": {
    "collapsed": false
   }
  },
  {
   "cell_type": "markdown",
   "source": [
    "#### train and run the models"
   ],
   "metadata": {
    "collapsed": false
   }
  },
  {
   "cell_type": "code",
   "execution_count": 18,
   "outputs": [],
   "source": [
    "def run_train_test(X_train, y_train, X_test, y_test, modeltype):\n",
    "    model = ml_training(X_train, y_train, modeltype)\n",
    "    return(ml_testing(X_test, y_test, model)), model\n"
   ],
   "metadata": {
    "collapsed": false,
    "pycharm": {
     "name": "#%%\n"
    }
   }
  },
  {
   "cell_type": "markdown",
   "source": [
    "#### ML training"
   ],
   "metadata": {
    "collapsed": false
   }
  },
  {
   "cell_type": "code",
   "execution_count": 19,
   "outputs": [],
   "source": [
    "def ml_training(x, y, model):\n",
    "    if model == \"linear_regression\":\n",
    "        reg = linear_model.LinearRegression()\n",
    "    elif model == \"lasso\":\n",
    "        reg = linear_model.Lasso(alpha=0.1)\n",
    "    elif model == \"support_vector_machine\":\n",
    "        reg = svm.SVR()\n",
    "    elif model == \"linear_regression_tree\":\n",
    "        reg = tree.DecisionTreeRegressor()\n",
    "    elif model == \"ensemble_method_adaboost\":\n",
    "        y_array = y.to_numpy()\n",
    "        y_array = y_array.ravel()\n",
    "        reg = AdaBoostRegressor(random_state=0, n_estimators=100)\n",
    "        reg.fit(x, y_array)\n",
    "        return reg\n",
    "    elif model == \"neural_network\":\n",
    "        y_array = y.to_numpy()\n",
    "        y_array = y_array.ravel()\n",
    "        reg = MLPRegressor(random_state=1, max_iter=500).fit(x, y_array)\n",
    "        return reg\n",
    "    elif model == \"random_forest_regressor\":\n",
    "        reg = RandomForestRegressor(n_estimators=10, random_state=0, max_depth=2)\n",
    "        y_array = y.to_numpy()\n",
    "        y_array = y_array.ravel()\n",
    "        reg = reg.fit(x, y_array)\n",
    "        return reg\n",
    "    elif model == \"XG_boost\":\n",
    "        xgb_model = xgb.XGBRegressor(verbosity=0)\n",
    "        xgb_model.name = 'XGBoostRegressor'\n",
    "        reg = xgb_model.fit(X_train, y_train)\n",
    "        return reg\n",
    "    reg.fit(x, y)\n",
    "    return reg"
   ],
   "metadata": {
    "collapsed": false,
    "pycharm": {
     "name": "#%%\n"
    }
   }
  },
  {
   "cell_type": "markdown",
   "source": [
    "#### ML testing"
   ],
   "metadata": {
    "collapsed": false
   }
  },
  {
   "cell_type": "code",
   "execution_count": 20,
   "outputs": [],
   "source": [
    "#test the fitted model\n",
    "def ml_testing(X_test, y_test, model):\n",
    "    pred = model.predict(X_test)\n",
    "    scores = compute_evaluation_metrics(y_test,pred)\n",
    "    return(scores[\"rmse\"])"
   ],
   "metadata": {
    "collapsed": false,
    "pycharm": {
     "name": "#%%\n"
    }
   }
  },
  {
   "cell_type": "code",
   "execution_count": 21,
   "outputs": [],
   "source": [
    "#save the given model\n",
    "def save_model(model):\n",
    "    filename = 'finalized_model.sav'\n",
    "    pickle.dump(model, open(filename, 'wb'))"
   ],
   "metadata": {
    "collapsed": false,
    "pycharm": {
     "name": "#%%\n"
    }
   }
  },
  {
   "cell_type": "code",
   "execution_count": 22,
   "outputs": [],
   "source": [
    "#load a previous saved model\n",
    "def load_model():\n",
    "    # load the model from disk\n",
    "    filename = 'finalized_model.sav'\n",
    "    loaded_model = pickle.load(open(filename, 'rb'))\n",
    "    loaded_model\n",
    "    return loaded_model"
   ],
   "metadata": {
    "collapsed": false,
    "pycharm": {
     "name": "#%%\n"
    }
   }
  },
  {
   "cell_type": "code",
   "execution_count": 23,
   "outputs": [],
   "source": [
    "#test the fitted model: coompare pred and beta t-1\n",
    "def ml_testing_beta(X_test, y_test):\n",
    "    beta_t_1 = X_test['beta_t_minus_1']\n",
    "    scores_beta = compute_evaluation_metrics(y_val=y_test, y_pred=beta_t_1)\n",
    "    return scores_beta[\"rmse\"]"
   ],
   "metadata": {
    "collapsed": false,
    "pycharm": {
     "name": "#%%\n"
    }
   }
  },
  {
   "cell_type": "code",
   "execution_count": 29,
   "outputs": [],
   "source": [
    "#run all model types to find best model\n",
    "rmse = []\n",
    "min = 100000\n",
    "metrics =[\"linear_regression\", \"lasso\", \"support_vector_machine\", \"linear_regression_tree\", \"ensemble_method_adaboost\", \"neural_network\", \"random_forest_regressor\", \"XG_boost\"]\n",
    "for i in range(len(metrics)):\n",
    "    rmse.append(run_train_test(X_train, y_train, X_test, y_test, metrics[i]))\n",
    "for i in range(len(rmse)):\n",
    "    if rmse[i][0] < min:\n",
    "        min = rmse[i][0]\n",
    "        best_model = rmse[i][1]\n"
   ],
   "metadata": {
    "collapsed": false,
    "pycharm": {
     "name": "#%%\n"
    }
   }
  },
  {
   "cell_type": "markdown",
   "source": [
    "### Store rmse results\n"
   ],
   "metadata": {
    "collapsed": false
   }
  },
  {
   "cell_type": "code",
   "execution_count": 50,
   "outputs": [
    {
     "data": {
      "text/plain": "(       RMSE                                              Model\n 0  3.055869                                 LinearRegression()\n 1  3.070969                                   Lasso(alpha=0.1)\n 2  4.129604                                              SVR()\n 3  7.778841                            DecisionTreeRegressor()\n 4  2.983452  (DecisionTreeRegressor(max_depth=3, random_sta...\n 5  2.792079         MLPRegressor(max_iter=500, random_state=1)\n 6  3.026785  (DecisionTreeRegressor(max_depth=2, max_featur...\n 7  3.974076  XGBRegressor(base_score=0.5, booster='gbtree',...\n 0  2.979921                                     beta_t_minus_1,\n [(2.979921060516889, 'beta_t_minus_1')])"
     },
     "execution_count": 50,
     "metadata": {},
     "output_type": "execute_result"
    }
   ],
   "source": [
    "save_model(best_model)\n",
    "df = pd.DataFrame(rmse)\n",
    "beta_rmse = []\n",
    "beta_rmse.append((ml_testing_beta(X_test, y_test), 'beta_t_minus_1'))\n",
    "df = df.append(beta_rmse)\n",
    "df.columns = ['RMSE', 'Model']\n",
    "df.to_csv('rmse.csv')"
   ],
   "metadata": {
    "collapsed": false,
    "pycharm": {
     "name": "#%%\n"
    }
   }
  },
  {
   "cell_type": "code",
   "execution_count": null,
   "outputs": [],
   "source": [],
   "metadata": {
    "collapsed": false,
    "pycharm": {
     "name": "#%%\n"
    }
   }
  }
 ],
 "metadata": {
  "kernelspec": {
   "display_name": "Python 3",
   "language": "python",
   "name": "python3"
  },
  "language_info": {
   "codemirror_mode": {
    "name": "ipython",
    "version": 2
   },
   "file_extension": ".py",
   "mimetype": "text/x-python",
   "name": "python",
   "nbconvert_exporter": "python",
   "pygments_lexer": "ipython2",
   "version": "2.7.6"
  }
 },
 "nbformat": 4,
 "nbformat_minor": 0
}