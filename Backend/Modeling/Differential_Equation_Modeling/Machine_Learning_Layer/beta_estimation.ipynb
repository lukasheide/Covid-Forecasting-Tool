{
 "cells": [
  {
   "cell_type": "markdown",
   "source": [
    "# Machine Learning Layer\n",
    "#### Goal: Estimate the next beta"
   ],
   "metadata": {
    "collapsed": false,
    "pycharm": {
     "name": "#%% md\n"
    }
   }
  },
  {
   "cell_type": "code",
   "execution_count": 95,
   "outputs": [],
   "source": [
    "# Sources:\n",
    "# - Scikit-Learn: Buitinck et al., (2013) - API design for machine learning software: experiences from the scikit-learn project, . (https://arxiv.org/abs/1309.0238)\n",
    "# - XGBoost: Chen, T., & Guestrin, C. (2016). XGBoost: A Scalable Tree Boosting System. In Proceedings of the 22nd ACM SIGKDD International Conference on Knowledge Discovery and Data Mining (pp. 785–794). New York, NY, USA: ACM. https://doi.org/10.1145/2939672.2939785"
   ],
   "metadata": {
    "collapsed": false,
    "pycharm": {
     "name": "#%%\n"
    }
   }
  },
  {
   "cell_type": "code",
   "execution_count": 133,
   "outputs": [],
   "source": [
    "import os\n",
    "\n",
    "import pandas as pd\n",
    "import numpy as np\n",
    "import matplotlib.pyplot as plt\n",
    "import tf as tf\n",
    "from plotnine import *\n",
    "from sklearn.inspection import permutation_importance\n",
    "\n",
    "from sklearn.preprocessing import StandardScaler, OneHotEncoder\n",
    "from sklearn.metrics import mean_squared_error\n",
    "from sklearn import linear_model\n",
    "from sklearn.model_selection import train_test_split\n",
    "from sklearn.svm import SVR\n",
    "from sklearn.model_selection import RandomizedSearchCV\n",
    "from sklearn.ensemble import RandomForestRegressor\n",
    "import xgboost as xgb\n",
    "import lightgbm as lgb\n",
    "\n",
    "from tensorflow import keras\n",
    "import keras.backend as K\n",
    "from keras.models import Sequential\n",
    "from keras.layers import Dense, Dropout\n",
    "from keras.metrics import RootMeanSquaredError\n",
    "\n",
    "import pickle\n",
    "import joblib"
   ],
   "metadata": {
    "collapsed": false,
    "pycharm": {
     "name": "#%%\n"
    }
   }
  },
  {
   "cell_type": "markdown",
   "source": [
    "## 1) Import Data:\n",
    "CSV file is created by running the matrix_data.py script. Alternatively an existing file has to be placed under ./Assets/Data/all_matrix_data_v3.csv"
   ],
   "metadata": {
    "collapsed": false,
    "pycharm": {
     "name": "#%% md\n"
    }
   }
  },
  {
   "cell_type": "code",
   "execution_count": 97,
   "outputs": [],
   "source": [
    "df = pd.read_csv('../../../../Assets/Data/all_matrix_data_v3.csv')\n",
    "df.drop(columns=['Unnamed: 0'], inplace=True)"
   ],
   "metadata": {
    "collapsed": false,
    "pycharm": {
     "name": "#%%\n"
    }
   }
  },
  {
   "cell_type": "markdown",
   "source": [
    "Display values:"
   ],
   "metadata": {
    "collapsed": false,
    "pycharm": {
     "name": "#%% md\n"
    }
   }
  },
  {
   "cell_type": "code",
   "execution_count": 98,
   "outputs": [
    {
     "data": {
      "text/plain": "       week  policy_index    variant   mobility  temperature       wind  \\\n29931     8     69.342857      Other -25.142857    11.585714  10.914286   \n33260    12     57.440000      Other  -1.857143    15.671429   7.557143   \n33549    16     63.390000      Other -10.142857    20.885714        NaN   \n9519     21     58.802857      Other   7.285714    19.628571   4.685714   \n11600    12     57.440000      Other   6.428571    13.542857   7.914286   \n...     ...           ...        ...        ...          ...        ...   \n20441    18     58.804286      Other   9.285714    13.657143  13.928571   \n10613    70     73.210000  B.1.617.2  19.000000    18.071429   9.442857   \n22773    70     73.210000  B.1.617.2  17.000000    17.714286   7.914286   \n17021    18     58.804286      Other  -4.714286    13.414286        NaN   \n19259    71     73.210000  B.1.617.2   5.000000    19.200000   6.685714   \n\n       infections          beta  beta_t_minus_1 start_date_forecasting  \\\n29931    4.397959  3.206650e-22    4.185804e-01             2020-05-05   \n33260    1.061224  7.422783e-22    4.248281e-01             2020-06-02   \n33549    0.897959  4.943590e-21    1.880543e-02             2020-06-30   \n9519     2.357143  1.138159e-20    6.482662e-01             2020-08-04   \n11600    0.408163  4.656590e-20    1.931945e-02             2020-06-02   \n...           ...           ...             ...                    ...   \n20441    0.938776  3.929966e+00    5.671122e-07             2020-07-14   \n10613    0.734694  4.097204e+00    4.810871e-07             2021-07-13   \n22773    0.795918  4.198941e+00    4.614146e-07             2021-07-13   \n17021    2.448980  4.277427e+00    5.615672e-07             2020-07-14   \n19259    1.204082  4.389233e+00    4.555814e-07             2021-07-20   \n\n                         district  \n29931                       Essen  \n33260            Rhein-Sieg-Kreis  \n33549                    Solingen  \n9519           Potsdam-Mittelmark  \n11600      Neuburg-Schrobenhausen  \n...                           ...  \n20441  Schwerin, Landeshauptstadt  \n10613        Saale-Holzland-Kreis  \n22773                       Regen  \n17021                  Hof, Kreis  \n19259               Coburg, Kreis  \n\n[38000 rows x 11 columns]",
      "text/html": "<div>\n<style scoped>\n    .dataframe tbody tr th:only-of-type {\n        vertical-align: middle;\n    }\n\n    .dataframe tbody tr th {\n        vertical-align: top;\n    }\n\n    .dataframe thead th {\n        text-align: right;\n    }\n</style>\n<table border=\"1\" class=\"dataframe\">\n  <thead>\n    <tr style=\"text-align: right;\">\n      <th></th>\n      <th>week</th>\n      <th>policy_index</th>\n      <th>variant</th>\n      <th>mobility</th>\n      <th>temperature</th>\n      <th>wind</th>\n      <th>infections</th>\n      <th>beta</th>\n      <th>beta_t_minus_1</th>\n      <th>start_date_forecasting</th>\n      <th>district</th>\n    </tr>\n  </thead>\n  <tbody>\n    <tr>\n      <th>29931</th>\n      <td>8</td>\n      <td>69.342857</td>\n      <td>Other</td>\n      <td>-25.142857</td>\n      <td>11.585714</td>\n      <td>10.914286</td>\n      <td>4.397959</td>\n      <td>3.206650e-22</td>\n      <td>4.185804e-01</td>\n      <td>2020-05-05</td>\n      <td>Essen</td>\n    </tr>\n    <tr>\n      <th>33260</th>\n      <td>12</td>\n      <td>57.440000</td>\n      <td>Other</td>\n      <td>-1.857143</td>\n      <td>15.671429</td>\n      <td>7.557143</td>\n      <td>1.061224</td>\n      <td>7.422783e-22</td>\n      <td>4.248281e-01</td>\n      <td>2020-06-02</td>\n      <td>Rhein-Sieg-Kreis</td>\n    </tr>\n    <tr>\n      <th>33549</th>\n      <td>16</td>\n      <td>63.390000</td>\n      <td>Other</td>\n      <td>-10.142857</td>\n      <td>20.885714</td>\n      <td>NaN</td>\n      <td>0.897959</td>\n      <td>4.943590e-21</td>\n      <td>1.880543e-02</td>\n      <td>2020-06-30</td>\n      <td>Solingen</td>\n    </tr>\n    <tr>\n      <th>9519</th>\n      <td>21</td>\n      <td>58.802857</td>\n      <td>Other</td>\n      <td>7.285714</td>\n      <td>19.628571</td>\n      <td>4.685714</td>\n      <td>2.357143</td>\n      <td>1.138159e-20</td>\n      <td>6.482662e-01</td>\n      <td>2020-08-04</td>\n      <td>Potsdam-Mittelmark</td>\n    </tr>\n    <tr>\n      <th>11600</th>\n      <td>12</td>\n      <td>57.440000</td>\n      <td>Other</td>\n      <td>6.428571</td>\n      <td>13.542857</td>\n      <td>7.914286</td>\n      <td>0.408163</td>\n      <td>4.656590e-20</td>\n      <td>1.931945e-02</td>\n      <td>2020-06-02</td>\n      <td>Neuburg-Schrobenhausen</td>\n    </tr>\n    <tr>\n      <th>...</th>\n      <td>...</td>\n      <td>...</td>\n      <td>...</td>\n      <td>...</td>\n      <td>...</td>\n      <td>...</td>\n      <td>...</td>\n      <td>...</td>\n      <td>...</td>\n      <td>...</td>\n      <td>...</td>\n    </tr>\n    <tr>\n      <th>20441</th>\n      <td>18</td>\n      <td>58.804286</td>\n      <td>Other</td>\n      <td>9.285714</td>\n      <td>13.657143</td>\n      <td>13.928571</td>\n      <td>0.938776</td>\n      <td>3.929966e+00</td>\n      <td>5.671122e-07</td>\n      <td>2020-07-14</td>\n      <td>Schwerin, Landeshauptstadt</td>\n    </tr>\n    <tr>\n      <th>10613</th>\n      <td>70</td>\n      <td>73.210000</td>\n      <td>B.1.617.2</td>\n      <td>19.000000</td>\n      <td>18.071429</td>\n      <td>9.442857</td>\n      <td>0.734694</td>\n      <td>4.097204e+00</td>\n      <td>4.810871e-07</td>\n      <td>2021-07-13</td>\n      <td>Saale-Holzland-Kreis</td>\n    </tr>\n    <tr>\n      <th>22773</th>\n      <td>70</td>\n      <td>73.210000</td>\n      <td>B.1.617.2</td>\n      <td>17.000000</td>\n      <td>17.714286</td>\n      <td>7.914286</td>\n      <td>0.795918</td>\n      <td>4.198941e+00</td>\n      <td>4.614146e-07</td>\n      <td>2021-07-13</td>\n      <td>Regen</td>\n    </tr>\n    <tr>\n      <th>17021</th>\n      <td>18</td>\n      <td>58.804286</td>\n      <td>Other</td>\n      <td>-4.714286</td>\n      <td>13.414286</td>\n      <td>NaN</td>\n      <td>2.448980</td>\n      <td>4.277427e+00</td>\n      <td>5.615672e-07</td>\n      <td>2020-07-14</td>\n      <td>Hof, Kreis</td>\n    </tr>\n    <tr>\n      <th>19259</th>\n      <td>71</td>\n      <td>73.210000</td>\n      <td>B.1.617.2</td>\n      <td>5.000000</td>\n      <td>19.200000</td>\n      <td>6.685714</td>\n      <td>1.204082</td>\n      <td>4.389233e+00</td>\n      <td>4.555814e-07</td>\n      <td>2021-07-20</td>\n      <td>Coburg, Kreis</td>\n    </tr>\n  </tbody>\n</table>\n<p>38000 rows × 11 columns</p>\n</div>"
     },
     "execution_count": 98,
     "metadata": {},
     "output_type": "execute_result"
    }
   ],
   "source": [
    "df.sort_values('beta')"
   ],
   "metadata": {
    "collapsed": false,
    "pycharm": {
     "name": "#%%\n"
    }
   }
  },
  {
   "cell_type": "markdown",
   "source": [
    "## 2) Visualize Data:\n",
    "#### 2.1) Average Infections (training period):"
   ],
   "metadata": {
    "collapsed": false,
    "pycharm": {
     "name": "#%% md\n"
    }
   }
  },
  {
   "cell_type": "code",
   "execution_count": 99,
   "outputs": [
    {
     "data": {
      "text/plain": "<Figure size 640x480 with 1 Axes>",
      "image/png": "[encoded data removed]"
     },
     "metadata": {},
     "output_type": "display_data"
    },
    {
     "data": {
      "text/plain": "<ggplot: (394746299)>"
     },
     "execution_count": 99,
     "metadata": {},
     "output_type": "execute_result"
    }
   ],
   "source": [
    "ggplot(df, aes(x='infections')) + geom_histogram(binwidth=5) + coord_cartesian(xlim=(0,300),ylim=(0,10000))"
   ],
   "metadata": {
    "collapsed": false,
    "pycharm": {
     "name": "#%%\n"
    }
   }
  },
  {
   "cell_type": "markdown",
   "source": [
    "#### 2.2) Fitted beta:"
   ],
   "metadata": {
    "collapsed": false,
    "pycharm": {
     "name": "#%% md\n"
    }
   },
   "execution_count": 50
  },
  {
   "cell_type": "code",
   "execution_count": 100,
   "outputs": [
    {
     "data": {
      "text/plain": "<Figure size 640x480 with 1 Axes>",
      "image/png": "[encoded data removed]"
     },
     "metadata": {},
     "output_type": "display_data"
    },
    {
     "data": {
      "text/plain": "<ggplot: (391256474)>"
     },
     "execution_count": 100,
     "metadata": {},
     "output_type": "execute_result"
    }
   ],
   "source": [
    "ggplot(df, aes(x='beta')) + geom_histogram(binwidth=0.025) + coord_cartesian(xlim=(0,2),ylim=(0,5000))"
   ],
   "metadata": {
    "collapsed": false,
    "pycharm": {
     "name": "#%%\n"
    }
   }
  },
  {
   "cell_type": "markdown",
   "source": [
    "Above it can be seen that the fitted betas roughly follow a normal distribution or probably rather a lognormal distribution. The values near 0 appear to be outliers. Such low values of the fitted beta can be observed either when the scipy least squares function is unable to find a minimum and returns some weird value which happens in very few cases or in cases where the infections counts for a specific district in a specific week is super low. We therefore decided to remove low beta values as they appear to be outliers that could distort results if one would keep them in."
   ],
   "metadata": {
    "collapsed": false,
    "pycharm": {
     "name": "#%% md\n"
    }
   }
  },
  {
   "cell_type": "code",
   "execution_count": 101,
   "outputs": [],
   "source": [
    "# Sort values by district and week before lagging:\n",
    "df.sort_values(['district','week'], inplace=True)"
   ],
   "metadata": {
    "collapsed": false,
    "pycharm": {
     "name": "#%%\n"
    }
   }
  },
  {
   "cell_type": "code",
   "execution_count": 102,
   "outputs": [
    {
     "data": {
      "text/plain": "-0.04946080063633077"
     },
     "execution_count": 102,
     "metadata": {},
     "output_type": "execute_result"
    }
   ],
   "source": [
    "# Check out correlation between current and previous weeks beta:\n",
    "df['beta'].corr(df['beta_t_minus_1'] )"
   ],
   "metadata": {
    "collapsed": false,
    "pycharm": {
     "name": "#%%\n"
    }
   }
  },
  {
   "cell_type": "markdown",
   "source": [
    "## 3) Data cleaning:\n",
    "#### Identify missing values:"
   ],
   "metadata": {
    "collapsed": false,
    "pycharm": {
     "name": "#%% md\n"
    }
   },
   "outputs": [
    {
     "data": {
      "text/plain": "week                  0\npolicy_index          0\nvariant               0\nmobility              0\ntemperature         243\nwind               3827\ninfections            0\nbeta                  0\ndistrict              0\nbeta_lag_1_week       0\nbeta_lag_2_week       0\nbeta_lag_3_week       0\ndtype: int64"
     },
     "execution_count": 77,
     "metadata": {},
     "output_type": "execute_result"
    }
   ],
   "execution_count": 77
  },
  {
   "cell_type": "code",
   "execution_count": 103,
   "outputs": [
    {
     "data": {
      "text/plain": "week                         0\npolicy_index                 0\nvariant                      0\nmobility                     0\ntemperature                243\nwind                      3827\ninfections                   0\nbeta                         0\nbeta_t_minus_1               0\nstart_date_forecasting       0\ndistrict                     0\ndtype: int64"
     },
     "execution_count": 103,
     "metadata": {},
     "output_type": "execute_result"
    }
   ],
   "source": [
    "df.isnull().sum()"
   ],
   "metadata": {
    "collapsed": false,
    "pycharm": {
     "name": "#%%\n"
    }
   }
  },
  {
   "cell_type": "markdown",
   "source": [
    "#### Fill missing values with average value over all Germany for that specific week:"
   ],
   "metadata": {
    "collapsed": false,
    "pycharm": {
     "name": "#%% md\n"
    }
   }
  },
  {
   "cell_type": "code",
   "execution_count": 104,
   "outputs": [],
   "source": [
    "df_v4 = df.copy()"
   ],
   "metadata": {
    "collapsed": false,
    "pycharm": {
     "name": "#%%\n"
    }
   }
  },
  {
   "cell_type": "code",
   "execution_count": 105,
   "outputs": [
    {
     "name": "stderr",
     "output_type": "stream",
     "text": [
      "/var/folders/f9/_57rk_kx5jqbkd8vvnwckf2c0000gn/T/ipykernel_20821/1409488165.py:1: FutureWarning: Dropping invalid columns in DataFrameGroupBy.transform is deprecated. In a future version, a TypeError will be raised. Before calling .transform, select only columns which should be valid for the transforming function.\n",
      "/var/folders/f9/_57rk_kx5jqbkd8vvnwckf2c0000gn/T/ipykernel_20821/1409488165.py:2: FutureWarning: Dropping invalid columns in DataFrameGroupBy.transform is deprecated. In a future version, a TypeError will be raised. Before calling .transform, select only columns which should be valid for the transforming function.\n"
     ]
    }
   ],
   "source": [
    "df_v4['temperature'] = df.groupby(\"week\").transform(lambda x: x.fillna(x.mean()))['temperature']\n",
    "df_v4['wind'] = df.groupby(\"week\").transform(lambda x: x.fillna(x.mean()))['wind']"
   ],
   "metadata": {
    "collapsed": false,
    "pycharm": {
     "name": "#%%\n"
    }
   }
  },
  {
   "cell_type": "code",
   "execution_count": 106,
   "outputs": [
    {
     "data": {
      "text/plain": "       week  policy_index    variant   mobility  temperature       wind  \\\n11400     2     46.258571      Other -29.857143     8.400000  16.342857   \n11401     3     62.500000      Other -41.714286     5.171429  15.042316   \n11402     4     63.778571      Other -34.428571     5.914286  11.157143   \n11403     5     65.180000      Other -29.285714    15.071429  10.571429   \n11404     6     65.180000      Other -32.857143    11.085714  11.071429   \n...     ...           ...        ...        ...          ...        ...   \n4080     92     83.930000  B.1.617.2  -2.571429     0.428571   8.528571   \n4081     93     83.930000  B.1.617.2  -1.000000     4.842857  10.485714   \n4082     94     83.930000  B.1.617.2  -4.285714    -1.200000  10.700000   \n4083     95     83.930000  B.1.1.529 -15.714286     7.871429  16.885714   \n4084     96     83.930000  B.1.1.529  -1.571429     2.714286  16.814286   \n\n       infections      beta  beta_t_minus_1 start_date_forecasting district  \n11400   56.214286  0.317049        0.593156             2020-03-24   Aachen  \n11401   51.448980  0.297109        0.319949             2020-03-31   Aachen  \n11402   34.714286  0.198582        0.345324             2020-04-07   Aachen  \n11403   23.693878  0.228998        0.210615             2020-04-14   Aachen  \n11404   15.510204  0.221865        0.217996             2020-04-21   Aachen  \n...           ...       ...             ...                    ...      ...  \n4080   287.969388  0.318062        0.356566             2021-12-14  Zwickau  \n4081   190.122449  0.283989        0.344724             2021-12-21  Zwickau  \n4082   138.816327  0.341186        0.277870             2021-12-28  Zwickau  \n4083   103.153061  0.326760        0.343163             2022-01-04  Zwickau  \n4084   102.102041  0.413663        0.342577             2022-01-11  Zwickau  \n\n[38000 rows x 11 columns]",
      "text/html": "<div>\n<style scoped>\n    .dataframe tbody tr th:only-of-type {\n        vertical-align: middle;\n    }\n\n    .dataframe tbody tr th {\n        vertical-align: top;\n    }\n\n    .dataframe thead th {\n        text-align: right;\n    }\n</style>\n<table border=\"1\" class=\"dataframe\">\n  <thead>\n    <tr style=\"text-align: right;\">\n      <th></th>\n      <th>week</th>\n      <th>policy_index</th>\n      <th>variant</th>\n      <th>mobility</th>\n      <th>temperature</th>\n      <th>wind</th>\n      <th>infections</th>\n      <th>beta</th>\n      <th>beta_t_minus_1</th>\n      <th>start_date_forecasting</th>\n      <th>district</th>\n    </tr>\n  </thead>\n  <tbody>\n    <tr>\n      <th>11400</th>\n      <td>2</td>\n      <td>46.258571</td>\n      <td>Other</td>\n      <td>-29.857143</td>\n      <td>8.400000</td>\n      <td>16.342857</td>\n      <td>56.214286</td>\n      <td>0.317049</td>\n      <td>0.593156</td>\n      <td>2020-03-24</td>\n      <td>Aachen</td>\n    </tr>\n    <tr>\n      <th>11401</th>\n      <td>3</td>\n      <td>62.500000</td>\n      <td>Other</td>\n      <td>-41.714286</td>\n      <td>5.171429</td>\n      <td>15.042316</td>\n      <td>51.448980</td>\n      <td>0.297109</td>\n      <td>0.319949</td>\n      <td>2020-03-31</td>\n      <td>Aachen</td>\n    </tr>\n    <tr>\n      <th>11402</th>\n      <td>4</td>\n      <td>63.778571</td>\n      <td>Other</td>\n      <td>-34.428571</td>\n      <td>5.914286</td>\n      <td>11.157143</td>\n      <td>34.714286</td>\n      <td>0.198582</td>\n      <td>0.345324</td>\n      <td>2020-04-07</td>\n      <td>Aachen</td>\n    </tr>\n    <tr>\n      <th>11403</th>\n      <td>5</td>\n      <td>65.180000</td>\n      <td>Other</td>\n      <td>-29.285714</td>\n      <td>15.071429</td>\n      <td>10.571429</td>\n      <td>23.693878</td>\n      <td>0.228998</td>\n      <td>0.210615</td>\n      <td>2020-04-14</td>\n      <td>Aachen</td>\n    </tr>\n    <tr>\n      <th>11404</th>\n      <td>6</td>\n      <td>65.180000</td>\n      <td>Other</td>\n      <td>-32.857143</td>\n      <td>11.085714</td>\n      <td>11.071429</td>\n      <td>15.510204</td>\n      <td>0.221865</td>\n      <td>0.217996</td>\n      <td>2020-04-21</td>\n      <td>Aachen</td>\n    </tr>\n    <tr>\n      <th>...</th>\n      <td>...</td>\n      <td>...</td>\n      <td>...</td>\n      <td>...</td>\n      <td>...</td>\n      <td>...</td>\n      <td>...</td>\n      <td>...</td>\n      <td>...</td>\n      <td>...</td>\n      <td>...</td>\n    </tr>\n    <tr>\n      <th>4080</th>\n      <td>92</td>\n      <td>83.930000</td>\n      <td>B.1.617.2</td>\n      <td>-2.571429</td>\n      <td>0.428571</td>\n      <td>8.528571</td>\n      <td>287.969388</td>\n      <td>0.318062</td>\n      <td>0.356566</td>\n      <td>2021-12-14</td>\n      <td>Zwickau</td>\n    </tr>\n    <tr>\n      <th>4081</th>\n      <td>93</td>\n      <td>83.930000</td>\n      <td>B.1.617.2</td>\n      <td>-1.000000</td>\n      <td>4.842857</td>\n      <td>10.485714</td>\n      <td>190.122449</td>\n      <td>0.283989</td>\n      <td>0.344724</td>\n      <td>2021-12-21</td>\n      <td>Zwickau</td>\n    </tr>\n    <tr>\n      <th>4082</th>\n      <td>94</td>\n      <td>83.930000</td>\n      <td>B.1.617.2</td>\n      <td>-4.285714</td>\n      <td>-1.200000</td>\n      <td>10.700000</td>\n      <td>138.816327</td>\n      <td>0.341186</td>\n      <td>0.277870</td>\n      <td>2021-12-28</td>\n      <td>Zwickau</td>\n    </tr>\n    <tr>\n      <th>4083</th>\n      <td>95</td>\n      <td>83.930000</td>\n      <td>B.1.1.529</td>\n      <td>-15.714286</td>\n      <td>7.871429</td>\n      <td>16.885714</td>\n      <td>103.153061</td>\n      <td>0.326760</td>\n      <td>0.343163</td>\n      <td>2022-01-04</td>\n      <td>Zwickau</td>\n    </tr>\n    <tr>\n      <th>4084</th>\n      <td>96</td>\n      <td>83.930000</td>\n      <td>B.1.1.529</td>\n      <td>-1.571429</td>\n      <td>2.714286</td>\n      <td>16.814286</td>\n      <td>102.102041</td>\n      <td>0.413663</td>\n      <td>0.342577</td>\n      <td>2022-01-11</td>\n      <td>Zwickau</td>\n    </tr>\n  </tbody>\n</table>\n<p>38000 rows × 11 columns</p>\n</div>"
     },
     "execution_count": 106,
     "metadata": {},
     "output_type": "execute_result"
    }
   ],
   "source": [
    "df_v4"
   ],
   "metadata": {
    "collapsed": false,
    "pycharm": {
     "name": "#%%\n"
    }
   }
  },
  {
   "cell_type": "markdown",
   "source": [
    "## 4) Outlier removal:\n"
   ],
   "metadata": {
    "collapsed": false
   }
  },
  {
   "cell_type": "code",
   "execution_count": 107,
   "outputs": [],
   "source": [
    "# Identify outliers:"
   ],
   "metadata": {
    "collapsed": false,
    "pycharm": {
     "name": "#%%\n"
    }
   }
  },
  {
   "cell_type": "code",
   "execution_count": 108,
   "outputs": [
    {
     "data": {
      "text/plain": "       week  policy_index    variant   mobility  temperature       wind  \\\n14389    46     70.710000      Other  -0.142857     2.742857  18.042857   \n25501    43     73.690000      Other -28.857143     2.228571  11.771429   \n32059    46     70.710000      Other -25.714286     3.071429  16.442857   \n21511    43     73.690000      Other -23.000000    -2.485714   5.785714   \n11224    16     63.390000      Other -14.714286    21.171429   9.714286   \n...     ...           ...        ...        ...          ...        ...   \n3414     91     81.761429  B.1.617.2   4.000000     2.657143  15.685714   \n20074    31     54.460000      Other  21.285714    10.400000  13.555102   \n29260     2     46.258571      Other -21.000000     6.371429   9.557143   \n7439     31     54.460000      Other  12.142857     9.728571  10.114286   \n27758    20     58.040000      Other   4.714286    19.342857   6.557143   \n\n       infections      beta  beta_t_minus_1 start_date_forecasting  \\\n14389   37.357143  0.321769        0.121853             2021-01-26   \n25501   88.224490  0.448059        0.133374             2021-01-05   \n32059   22.653061  0.177563        0.135390             2021-01-26   \n21511   22.581633  0.430256        0.144703             2021-01-05   \n11224   24.653061  0.123700        0.147413             2020-06-30   \n...           ...       ...             ...                    ...   \n3414   297.683673  0.410829        0.885379             2021-12-07   \n20074   20.265306  0.354283        0.984769             2020-10-13   \n29260   24.755102  0.611139        1.050508             2020-03-24   \n7439    32.959184  0.550973        1.078371             2020-10-13   \n27758   26.408163  0.257931        1.299742             2020-07-28   \n\n                          district  \n14389             Mansfeld-Südharz  \n25501  Regionalverband Saarbrücken  \n32059                      Potsdam  \n21511                   Oberallgäu  \n11224                    Gütersloh  \n...                            ...  \n3414                         Börde  \n20074      Eifelkreis Bitburg-Prüm  \n29260        Neustadt a.d.Waldnaab  \n7439          Berchtesgadener Land  \n27758            Dingolfing-Landau  \n\n[13994 rows x 11 columns]",
      "text/html": "<div>\n<style scoped>\n    .dataframe tbody tr th:only-of-type {\n        vertical-align: middle;\n    }\n\n    .dataframe tbody tr th {\n        vertical-align: top;\n    }\n\n    .dataframe thead th {\n        text-align: right;\n    }\n</style>\n<table border=\"1\" class=\"dataframe\">\n  <thead>\n    <tr style=\"text-align: right;\">\n      <th></th>\n      <th>week</th>\n      <th>policy_index</th>\n      <th>variant</th>\n      <th>mobility</th>\n      <th>temperature</th>\n      <th>wind</th>\n      <th>infections</th>\n      <th>beta</th>\n      <th>beta_t_minus_1</th>\n      <th>start_date_forecasting</th>\n      <th>district</th>\n    </tr>\n  </thead>\n  <tbody>\n    <tr>\n      <th>14389</th>\n      <td>46</td>\n      <td>70.710000</td>\n      <td>Other</td>\n      <td>-0.142857</td>\n      <td>2.742857</td>\n      <td>18.042857</td>\n      <td>37.357143</td>\n      <td>0.321769</td>\n      <td>0.121853</td>\n      <td>2021-01-26</td>\n      <td>Mansfeld-Südharz</td>\n    </tr>\n    <tr>\n      <th>25501</th>\n      <td>43</td>\n      <td>73.690000</td>\n      <td>Other</td>\n      <td>-28.857143</td>\n      <td>2.228571</td>\n      <td>11.771429</td>\n      <td>88.224490</td>\n      <td>0.448059</td>\n      <td>0.133374</td>\n      <td>2021-01-05</td>\n      <td>Regionalverband Saarbrücken</td>\n    </tr>\n    <tr>\n      <th>32059</th>\n      <td>46</td>\n      <td>70.710000</td>\n      <td>Other</td>\n      <td>-25.714286</td>\n      <td>3.071429</td>\n      <td>16.442857</td>\n      <td>22.653061</td>\n      <td>0.177563</td>\n      <td>0.135390</td>\n      <td>2021-01-26</td>\n      <td>Potsdam</td>\n    </tr>\n    <tr>\n      <th>21511</th>\n      <td>43</td>\n      <td>73.690000</td>\n      <td>Other</td>\n      <td>-23.000000</td>\n      <td>-2.485714</td>\n      <td>5.785714</td>\n      <td>22.581633</td>\n      <td>0.430256</td>\n      <td>0.144703</td>\n      <td>2021-01-05</td>\n      <td>Oberallgäu</td>\n    </tr>\n    <tr>\n      <th>11224</th>\n      <td>16</td>\n      <td>63.390000</td>\n      <td>Other</td>\n      <td>-14.714286</td>\n      <td>21.171429</td>\n      <td>9.714286</td>\n      <td>24.653061</td>\n      <td>0.123700</td>\n      <td>0.147413</td>\n      <td>2020-06-30</td>\n      <td>Gütersloh</td>\n    </tr>\n    <tr>\n      <th>...</th>\n      <td>...</td>\n      <td>...</td>\n      <td>...</td>\n      <td>...</td>\n      <td>...</td>\n      <td>...</td>\n      <td>...</td>\n      <td>...</td>\n      <td>...</td>\n      <td>...</td>\n      <td>...</td>\n    </tr>\n    <tr>\n      <th>3414</th>\n      <td>91</td>\n      <td>81.761429</td>\n      <td>B.1.617.2</td>\n      <td>4.000000</td>\n      <td>2.657143</td>\n      <td>15.685714</td>\n      <td>297.683673</td>\n      <td>0.410829</td>\n      <td>0.885379</td>\n      <td>2021-12-07</td>\n      <td>Börde</td>\n    </tr>\n    <tr>\n      <th>20074</th>\n      <td>31</td>\n      <td>54.460000</td>\n      <td>Other</td>\n      <td>21.285714</td>\n      <td>10.400000</td>\n      <td>13.555102</td>\n      <td>20.265306</td>\n      <td>0.354283</td>\n      <td>0.984769</td>\n      <td>2020-10-13</td>\n      <td>Eifelkreis Bitburg-Prüm</td>\n    </tr>\n    <tr>\n      <th>29260</th>\n      <td>2</td>\n      <td>46.258571</td>\n      <td>Other</td>\n      <td>-21.000000</td>\n      <td>6.371429</td>\n      <td>9.557143</td>\n      <td>24.755102</td>\n      <td>0.611139</td>\n      <td>1.050508</td>\n      <td>2020-03-24</td>\n      <td>Neustadt a.d.Waldnaab</td>\n    </tr>\n    <tr>\n      <th>7439</th>\n      <td>31</td>\n      <td>54.460000</td>\n      <td>Other</td>\n      <td>12.142857</td>\n      <td>9.728571</td>\n      <td>10.114286</td>\n      <td>32.959184</td>\n      <td>0.550973</td>\n      <td>1.078371</td>\n      <td>2020-10-13</td>\n      <td>Berchtesgadener Land</td>\n    </tr>\n    <tr>\n      <th>27758</th>\n      <td>20</td>\n      <td>58.040000</td>\n      <td>Other</td>\n      <td>4.714286</td>\n      <td>19.342857</td>\n      <td>6.557143</td>\n      <td>26.408163</td>\n      <td>0.257931</td>\n      <td>1.299742</td>\n      <td>2020-07-28</td>\n      <td>Dingolfing-Landau</td>\n    </tr>\n  </tbody>\n</table>\n<p>13994 rows × 11 columns</p>\n</div>"
     },
     "execution_count": 108,
     "metadata": {},
     "output_type": "execute_result"
    }
   ],
   "source": [
    "df_v4[df_v4['infections'] > 20].sort_values('beta_t_minus_1', ascending=True)"
   ],
   "metadata": {
    "collapsed": false,
    "pycharm": {
     "name": "#%%\n"
    }
   }
  },
  {
   "cell_type": "markdown",
   "source": [
    "#### 4.1) Infection counts:\n",
    "Remove weeks in which the average number of daily infections where below a threshold as for extremely low values it is really hard to forecast beta:"
   ],
   "metadata": {
    "collapsed": false,
    "pycharm": {
     "name": "#%% md\n"
    }
   }
  },
  {
   "cell_type": "code",
   "execution_count": 109,
   "outputs": [],
   "source": [
    "# Drop all rows in which average number of infections is below 5:\n",
    "threshold = 20\n",
    "df_v5_1 = df_v4[df_v4['infections'] > threshold]"
   ],
   "metadata": {
    "collapsed": false,
    "pycharm": {
     "name": "#%%\n"
    }
   }
  },
  {
   "cell_type": "markdown",
   "source": [
    "#### 4.2) Beta values:"
   ],
   "metadata": {
    "collapsed": false
   }
  },
  {
   "cell_type": "code",
   "execution_count": 110,
   "outputs": [],
   "source": [
    "# Drop all rows in which the beta value is < 0.025:\n",
    "threshold = 0.025\n",
    "df_v5_2 = df_v5_1[df_v5_1['beta'] > threshold]"
   ],
   "metadata": {
    "collapsed": false,
    "pycharm": {
     "name": "#%%\n"
    }
   }
  },
  {
   "cell_type": "code",
   "execution_count": 111,
   "outputs": [
    {
     "data": {
      "text/plain": "0.46299469609533317"
     },
     "execution_count": 111,
     "metadata": {},
     "output_type": "execute_result"
    }
   ],
   "source": [
    "# correlation:\n",
    "df_v5_2['beta'].corr(df_v5_2['beta_t_minus_1'] )"
   ],
   "metadata": {
    "collapsed": false,
    "pycharm": {
     "name": "#%%\n"
    }
   }
  },
  {
   "cell_type": "markdown",
   "source": [
    "## 5) Preprocessing columns:\n"
   ],
   "metadata": {
    "collapsed": false,
    "pycharm": {
     "name": "#%% md\n"
    }
   }
  },
  {
   "cell_type": "markdown",
   "source": [
    "#### 5.1) Handling categorical columns:"
   ],
   "metadata": {
    "collapsed": false,
    "pycharm": {
     "name": "#%% md\n"
    }
   }
  },
  {
   "cell_type": "code",
   "execution_count": 112,
   "outputs": [],
   "source": [
    "# Only use week and district as index columns:\n",
    "df_v6_1 = df_v5_2.set_index(['week','district','start_date_forecasting'])"
   ],
   "metadata": {
    "collapsed": false,
    "pycharm": {
     "name": "#%%\n"
    }
   }
  },
  {
   "cell_type": "code",
   "execution_count": 113,
   "outputs": [],
   "source": [
    "# One hot-encode variant columns:\n",
    "df_v6_2_a = pd.get_dummies(df_v6_1['variant'])\n",
    "df_v6_2_b = df_v6_1.drop(columns='variant', axis=1)\n",
    "\n",
    "df_v6_2_c = pd.concat([df_v6_2_a,df_v6_2_b], axis=1)"
   ],
   "metadata": {
    "collapsed": false,
    "pycharm": {
     "name": "#%%\n"
    }
   }
  },
  {
   "cell_type": "code",
   "execution_count": 114,
   "outputs": [],
   "source": [
    "# Drop \"other\" variant column to prevent dummy variable trap:\n",
    "df_v6_2_d = df_v6_2_c.drop(columns='Other', axis=1)"
   ],
   "metadata": {
    "collapsed": false,
    "pycharm": {
     "name": "#%%\n"
    }
   }
  },
  {
   "cell_type": "markdown",
   "source": [
    "#### 5.2) Standardizing:"
   ],
   "metadata": {
    "collapsed": false,
    "pycharm": {
     "name": "#%% md\n"
    }
   }
  },
  {
   "cell_type": "code",
   "source": [
    "# Standardize:\n",
    "scaler_obj = StandardScaler()\n",
    "\n",
    "# Split explanatory columns from beta:\n",
    "explanatory_cols = df_v6_2_d.drop(columns=['beta'], axis=1)\n",
    "beta_cols = df_v6_2_d[['beta']]\n",
    "\n",
    "# Apply scaling:\n",
    "scaled_explanatory_cols = pd.DataFrame(scaler_obj.fit_transform(explanatory_cols), index=explanatory_cols.index, columns=explanatory_cols.columns)\n",
    "\n",
    "# Merge both together again:\n",
    "df_v6_3 = pd.concat([scaled_explanatory_cols, beta_cols], axis=1)"
   ],
   "metadata": {
    "collapsed": false,
    "pycharm": {
     "name": "#%%\n"
    }
   },
   "execution_count": 115,
   "outputs": []
  },
  {
   "cell_type": "markdown",
   "source": [
    "## 6) Modeling\n",
    "### 6.1) Preparation\n",
    "#### 6.1.1) Split into train/val:"
   ],
   "metadata": {
    "collapsed": false,
    "pycharm": {
     "name": "#%% md\n"
    }
   }
  },
  {
   "cell_type": "code",
   "source": [
    "df_full = df_v6_3\n",
    "df_full"
   ],
   "metadata": {
    "collapsed": false,
    "pycharm": {
     "name": "#%%\n"
    }
   },
   "execution_count": 116,
   "outputs": [
    {
     "data": {
      "text/plain": "                                      B.1.1.529   B.1.1.7  B.1.617.2  \\\nweek district start_date_forecasting                                   \n2    Aachen   2020-03-24              -0.243616 -0.635747  -0.782084   \n3    Aachen   2020-03-31              -0.243616 -0.635747  -0.782084   \n4    Aachen   2020-04-07              -0.243616 -0.635747  -0.782084   \n5    Aachen   2020-04-14              -0.243616 -0.635747  -0.782084   \n29   Aachen   2020-09-29              -0.243616 -0.635747  -0.782084   \n...                                         ...       ...        ...   \n92   Zwickau  2021-12-14              -0.243616 -0.635747   1.278635   \n93   Zwickau  2021-12-21              -0.243616 -0.635747   1.278635   \n94   Zwickau  2021-12-28              -0.243616 -0.635747   1.278635   \n95   Zwickau  2022-01-04               4.104813 -0.635747  -0.782084   \n96   Zwickau  2022-01-11               4.104813 -0.635747  -0.782084   \n\n                                      policy_index  mobility  temperature  \\\nweek district start_date_forecasting                                        \n2    Aachen   2020-03-24                 -2.522486 -1.813104     0.444563   \n3    Aachen   2020-03-31                 -0.675429 -2.643120    -0.210696   \n4    Aachen   2020-04-07                 -0.530024 -2.133110    -0.059928   \n5    Aachen   2020-04-14                 -0.370647 -1.773103     1.798572   \n29   Aachen   2020-09-29                 -1.589778  0.366940     1.613012   \n...                                            ...       ...          ...   \n92   Zwickau  2021-12-14                  1.761697  0.096934    -1.173288   \n93   Zwickau  2021-12-21                  1.761697  0.206936    -0.277381   \n94   Zwickau  2021-12-28                  1.761697 -0.023068    -1.503817   \n95   Zwickau  2022-01-04                  1.761697 -0.823084     0.337286   \n96   Zwickau  2022-01-11                  1.761697  0.166936    -0.709388   \n\n                                          wind  infections  beta_t_minus_1  \\\nweek district start_date_forecasting                                         \n2    Aachen   2020-03-24              1.244166   -0.141755        2.134192   \n3    Aachen   2020-03-31              0.906138   -0.179311       -0.684498   \n4    Aachen   2020-04-07             -0.103671   -0.311199       -0.422703   \n5    Aachen   2020-04-14             -0.255906   -0.398051       -1.812507   \n29   Aachen   2020-09-29              0.806026   -0.358887       -0.438264   \n...                                        ...         ...             ...   \n92   Zwickau  2021-12-14             -0.786872    1.684726       -0.306718   \n93   Zwickau  2021-12-21             -0.278184    0.913586       -0.428888   \n94   Zwickau  2021-12-28             -0.222489    0.509238       -1.118625   \n95   Zwickau  2022-01-04              1.385262    0.228173       -0.445001   \n96   Zwickau  2022-01-11              1.366697    0.219890       -0.451041   \n\n                                          beta  \nweek district start_date_forecasting            \n2    Aachen   2020-03-24              0.317049  \n3    Aachen   2020-03-31              0.297109  \n4    Aachen   2020-04-07              0.198582  \n5    Aachen   2020-04-14              0.228998  \n29   Aachen   2020-09-29              0.416920  \n...                                        ...  \n92   Zwickau  2021-12-14              0.318062  \n93   Zwickau  2021-12-21              0.283989  \n94   Zwickau  2021-12-28              0.341186  \n95   Zwickau  2022-01-04              0.326760  \n96   Zwickau  2022-01-11              0.413663  \n\n[13994 rows x 10 columns]",
      "text/html": "<div>\n<style scoped>\n    .dataframe tbody tr th:only-of-type {\n        vertical-align: middle;\n    }\n\n    .dataframe tbody tr th {\n        vertical-align: top;\n    }\n\n    .dataframe thead th {\n        text-align: right;\n    }\n</style>\n<table border=\"1\" class=\"dataframe\">\n  <thead>\n    <tr style=\"text-align: right;\">\n      <th></th>\n      <th></th>\n      <th></th>\n      <th>B.1.1.529</th>\n      <th>B.1.1.7</th>\n      <th>B.1.617.2</th>\n      <th>policy_index</th>\n      <th>mobility</th>\n      <th>temperature</th>\n      <th>wind</th>\n      <th>infections</th>\n      <th>beta_t_minus_1</th>\n      <th>beta</th>\n    </tr>\n    <tr>\n      <th>week</th>\n      <th>district</th>\n      <th>start_date_forecasting</th>\n      <th></th>\n      <th></th>\n      <th></th>\n      <th></th>\n      <th></th>\n      <th></th>\n      <th></th>\n      <th></th>\n      <th></th>\n      <th></th>\n    </tr>\n  </thead>\n  <tbody>\n    <tr>\n      <th>2</th>\n      <th>Aachen</th>\n      <th>2020-03-24</th>\n      <td>-0.243616</td>\n      <td>-0.635747</td>\n      <td>-0.782084</td>\n      <td>-2.522486</td>\n      <td>-1.813104</td>\n      <td>0.444563</td>\n      <td>1.244166</td>\n      <td>-0.141755</td>\n      <td>2.134192</td>\n      <td>0.317049</td>\n    </tr>\n    <tr>\n      <th>3</th>\n      <th>Aachen</th>\n      <th>2020-03-31</th>\n      <td>-0.243616</td>\n      <td>-0.635747</td>\n      <td>-0.782084</td>\n      <td>-0.675429</td>\n      <td>-2.643120</td>\n      <td>-0.210696</td>\n      <td>0.906138</td>\n      <td>-0.179311</td>\n      <td>-0.684498</td>\n      <td>0.297109</td>\n    </tr>\n    <tr>\n      <th>4</th>\n      <th>Aachen</th>\n      <th>2020-04-07</th>\n      <td>-0.243616</td>\n      <td>-0.635747</td>\n      <td>-0.782084</td>\n      <td>-0.530024</td>\n      <td>-2.133110</td>\n      <td>-0.059928</td>\n      <td>-0.103671</td>\n      <td>-0.311199</td>\n      <td>-0.422703</td>\n      <td>0.198582</td>\n    </tr>\n    <tr>\n      <th>5</th>\n      <th>Aachen</th>\n      <th>2020-04-14</th>\n      <td>-0.243616</td>\n      <td>-0.635747</td>\n      <td>-0.782084</td>\n      <td>-0.370647</td>\n      <td>-1.773103</td>\n      <td>1.798572</td>\n      <td>-0.255906</td>\n      <td>-0.398051</td>\n      <td>-1.812507</td>\n      <td>0.228998</td>\n    </tr>\n    <tr>\n      <th>29</th>\n      <th>Aachen</th>\n      <th>2020-09-29</th>\n      <td>-0.243616</td>\n      <td>-0.635747</td>\n      <td>-0.782084</td>\n      <td>-1.589778</td>\n      <td>0.366940</td>\n      <td>1.613012</td>\n      <td>0.806026</td>\n      <td>-0.358887</td>\n      <td>-0.438264</td>\n      <td>0.416920</td>\n    </tr>\n    <tr>\n      <th>...</th>\n      <th>...</th>\n      <th>...</th>\n      <td>...</td>\n      <td>...</td>\n      <td>...</td>\n      <td>...</td>\n      <td>...</td>\n      <td>...</td>\n      <td>...</td>\n      <td>...</td>\n      <td>...</td>\n      <td>...</td>\n    </tr>\n    <tr>\n      <th>92</th>\n      <th>Zwickau</th>\n      <th>2021-12-14</th>\n      <td>-0.243616</td>\n      <td>-0.635747</td>\n      <td>1.278635</td>\n      <td>1.761697</td>\n      <td>0.096934</td>\n      <td>-1.173288</td>\n      <td>-0.786872</td>\n      <td>1.684726</td>\n      <td>-0.306718</td>\n      <td>0.318062</td>\n    </tr>\n    <tr>\n      <th>93</th>\n      <th>Zwickau</th>\n      <th>2021-12-21</th>\n      <td>-0.243616</td>\n      <td>-0.635747</td>\n      <td>1.278635</td>\n      <td>1.761697</td>\n      <td>0.206936</td>\n      <td>-0.277381</td>\n      <td>-0.278184</td>\n      <td>0.913586</td>\n      <td>-0.428888</td>\n      <td>0.283989</td>\n    </tr>\n    <tr>\n      <th>94</th>\n      <th>Zwickau</th>\n      <th>2021-12-28</th>\n      <td>-0.243616</td>\n      <td>-0.635747</td>\n      <td>1.278635</td>\n      <td>1.761697</td>\n      <td>-0.023068</td>\n      <td>-1.503817</td>\n      <td>-0.222489</td>\n      <td>0.509238</td>\n      <td>-1.118625</td>\n      <td>0.341186</td>\n    </tr>\n    <tr>\n      <th>95</th>\n      <th>Zwickau</th>\n      <th>2022-01-04</th>\n      <td>4.104813</td>\n      <td>-0.635747</td>\n      <td>-0.782084</td>\n      <td>1.761697</td>\n      <td>-0.823084</td>\n      <td>0.337286</td>\n      <td>1.385262</td>\n      <td>0.228173</td>\n      <td>-0.445001</td>\n      <td>0.326760</td>\n    </tr>\n    <tr>\n      <th>96</th>\n      <th>Zwickau</th>\n      <th>2022-01-11</th>\n      <td>4.104813</td>\n      <td>-0.635747</td>\n      <td>-0.782084</td>\n      <td>1.761697</td>\n      <td>0.166936</td>\n      <td>-0.709388</td>\n      <td>1.366697</td>\n      <td>0.219890</td>\n      <td>-0.451041</td>\n      <td>0.413663</td>\n    </tr>\n  </tbody>\n</table>\n<p>13994 rows × 10 columns</p>\n</div>"
     },
     "execution_count": 116,
     "metadata": {},
     "output_type": "execute_result"
    }
   ]
  },
  {
   "cell_type": "code",
   "execution_count": 117,
   "outputs": [],
   "source": [
    "# Sample 1500 row out of last weeks available for training:\n",
    "sample_size = 1000\n",
    "max_week = max(df_full.index.get_level_values('week'))\n",
    "last_weeks_idx = max_week-3\n",
    "\n",
    "random_indices = df_full[df_full.index.get_level_values('week') >= last_weeks_idx].sample(sample_size).index"
   ],
   "metadata": {
    "collapsed": false,
    "pycharm": {
     "name": "#%%\n"
    }
   }
  },
  {
   "cell_type": "code",
   "execution_count": 118,
   "outputs": [],
   "source": [
    "df_test = df_full.loc[df_full.index.isin(random_indices)]\n",
    "df_modeling = df_full.loc[~df_full.index.isin(random_indices)]"
   ],
   "metadata": {
    "collapsed": false,
    "pycharm": {
     "name": "#%%\n"
    }
   }
  },
  {
   "cell_type": "markdown",
   "source": [
    "#### 6.1.2) Split into train, val and test:"
   ],
   "metadata": {
    "collapsed": false,
    "pycharm": {
     "name": "#%% md\n"
    }
   }
  },
  {
   "cell_type": "code",
   "execution_count": 119,
   "outputs": [],
   "source": [
    "SEED = 420"
   ],
   "metadata": {
    "collapsed": false,
    "pycharm": {
     "name": "#%%\n"
    }
   }
  },
  {
   "cell_type": "code",
   "execution_count": 120,
   "outputs": [],
   "source": [
    "X_full_modeling = df_modeling.drop(columns=['beta'], axis=1)\n",
    "y_full_modeling = df_modeling['beta']\n",
    "\n",
    "X_test = df_test.drop(columns=['beta'], axis=1)\n",
    "y_test = df_test['beta']"
   ],
   "metadata": {
    "collapsed": false,
    "pycharm": {
     "name": "#%%\n"
    }
   }
  },
  {
   "cell_type": "code",
   "source": [
    "# Train and Val:\n",
    "X_train, X_val, y_train, y_val = train_test_split(X_full_modeling, y_full_modeling, shuffle=True, train_size=0.75, random_state=SEED)"
   ],
   "metadata": {
    "collapsed": false,
    "pycharm": {
     "name": "#%%\n"
    }
   },
   "execution_count": 121,
   "outputs": []
  },
  {
   "cell_type": "markdown",
   "source": [
    "### 6.2 Models\n",
    "#### 6.2.1) Baseline Approach: Choosing previous beta"
   ],
   "metadata": {
    "collapsed": false,
    "pycharm": {
     "name": "#%% md\n"
    }
   }
  },
  {
   "cell_type": "code",
   "execution_count": 122,
   "outputs": [],
   "source": [
    "# Baseline approach would be to use the beta from the previous week for the next week:\n",
    "## Therefore we have to compare how well this works, compared to our ML approach:\n",
    "\n",
    "# As the values are standardized we have to reverse standardize them first:\n",
    "y_pred_baseline_val = pd.DataFrame(scaler_obj.inverse_transform(X_val), index=X_val.index, columns=X_val.columns)['beta_t_minus_1']"
   ],
   "metadata": {
    "collapsed": false,
    "pycharm": {
     "name": "#%%\n"
    }
   }
  },
  {
   "cell_type": "code",
   "execution_count": 123,
   "outputs": [
    {
     "data": {
      "text/plain": "0.4764627191900841"
     },
     "execution_count": 123,
     "metadata": {},
     "output_type": "execute_result"
    }
   ],
   "source": [
    "# Correlation of this approach:\n",
    "y_pred_baseline_val.corr(y_val)"
   ],
   "metadata": {
    "collapsed": false,
    "pycharm": {
     "name": "#%%\n"
    }
   }
  },
  {
   "cell_type": "code",
   "execution_count": 124,
   "outputs": [
    {
     "data": {
      "text/plain": "                                                           y_val  \\\nweek district                   start_date_forecasting             \n41   Heidekreis                 2020-12-22              0.292271   \n87   Unna                       2021-11-09              0.584893   \n56   Rhein-Lahn-Kreis           2021-04-06              0.352923   \n77   Reutlingen                 2021-08-31              0.370456   \n34   Aachen                     2020-11-03              0.307538   \n...                                                          ...   \n87   Landkreis Rostock          2021-11-09              0.466446   \n90   Schwerin, Landeshauptstadt 2021-11-30              0.329809   \n38   Oldenburg, Kreis           2020-12-01              0.348867   \n92   Offenbach                  2021-12-14              0.265945   \n85   Waldeck-Frankenberg        2021-10-26              0.562170   \n\n                                                        y_pred_baseline  \nweek district                   start_date_forecasting                   \n41   Heidekreis                 2020-12-22                     0.355533  \n87   Unna                       2021-11-09                     0.433737  \n56   Rhein-Lahn-Kreis           2021-04-06                     0.330851  \n77   Reutlingen                 2021-08-31                     0.492598  \n34   Aachen                     2020-11-03                     0.356226  \n...                                                                 ...  \n87   Landkreis Rostock          2021-11-09                     0.541334  \n90   Schwerin, Landeshauptstadt 2021-11-30                     0.477543  \n38   Oldenburg, Kreis           2020-12-01                     0.344812  \n92   Offenbach                  2021-12-14                     0.271519  \n85   Waldeck-Frankenberg        2021-10-26                     0.411471  \n\n[3249 rows x 2 columns]",
      "text/html": "<div>\n<style scoped>\n    .dataframe tbody tr th:only-of-type {\n        vertical-align: middle;\n    }\n\n    .dataframe tbody tr th {\n        vertical-align: top;\n    }\n\n    .dataframe thead th {\n        text-align: right;\n    }\n</style>\n<table border=\"1\" class=\"dataframe\">\n  <thead>\n    <tr style=\"text-align: right;\">\n      <th></th>\n      <th></th>\n      <th></th>\n      <th>y_val</th>\n      <th>y_pred_baseline</th>\n    </tr>\n    <tr>\n      <th>week</th>\n      <th>district</th>\n      <th>start_date_forecasting</th>\n      <th></th>\n      <th></th>\n    </tr>\n  </thead>\n  <tbody>\n    <tr>\n      <th>41</th>\n      <th>Heidekreis</th>\n      <th>2020-12-22</th>\n      <td>0.292271</td>\n      <td>0.355533</td>\n    </tr>\n    <tr>\n      <th>87</th>\n      <th>Unna</th>\n      <th>2021-11-09</th>\n      <td>0.584893</td>\n      <td>0.433737</td>\n    </tr>\n    <tr>\n      <th>56</th>\n      <th>Rhein-Lahn-Kreis</th>\n      <th>2021-04-06</th>\n      <td>0.352923</td>\n      <td>0.330851</td>\n    </tr>\n    <tr>\n      <th>77</th>\n      <th>Reutlingen</th>\n      <th>2021-08-31</th>\n      <td>0.370456</td>\n      <td>0.492598</td>\n    </tr>\n    <tr>\n      <th>34</th>\n      <th>Aachen</th>\n      <th>2020-11-03</th>\n      <td>0.307538</td>\n      <td>0.356226</td>\n    </tr>\n    <tr>\n      <th>...</th>\n      <th>...</th>\n      <th>...</th>\n      <td>...</td>\n      <td>...</td>\n    </tr>\n    <tr>\n      <th>87</th>\n      <th>Landkreis Rostock</th>\n      <th>2021-11-09</th>\n      <td>0.466446</td>\n      <td>0.541334</td>\n    </tr>\n    <tr>\n      <th>90</th>\n      <th>Schwerin, Landeshauptstadt</th>\n      <th>2021-11-30</th>\n      <td>0.329809</td>\n      <td>0.477543</td>\n    </tr>\n    <tr>\n      <th>38</th>\n      <th>Oldenburg, Kreis</th>\n      <th>2020-12-01</th>\n      <td>0.348867</td>\n      <td>0.344812</td>\n    </tr>\n    <tr>\n      <th>92</th>\n      <th>Offenbach</th>\n      <th>2021-12-14</th>\n      <td>0.265945</td>\n      <td>0.271519</td>\n    </tr>\n    <tr>\n      <th>85</th>\n      <th>Waldeck-Frankenberg</th>\n      <th>2021-10-26</th>\n      <td>0.562170</td>\n      <td>0.411471</td>\n    </tr>\n  </tbody>\n</table>\n<p>3249 rows × 2 columns</p>\n</div>"
     },
     "execution_count": 124,
     "metadata": {},
     "output_type": "execute_result"
    }
   ],
   "source": [
    "pd.DataFrame({'y_val':y_val, 'y_pred_baseline':y_pred_baseline_val})"
   ],
   "metadata": {
    "collapsed": false,
    "pycharm": {
     "name": "#%%\n"
    }
   }
  },
  {
   "cell_type": "code",
   "execution_count": 125,
   "outputs": [
    {
     "name": "stdout",
     "output_type": "stream",
     "text": [
      "Baseline RMSE is: 0.09672711770605946\n"
     ]
    }
   ],
   "source": [
    "# Compute RMSE of baseline approach:\n",
    "rmse_baseline =  mean_squared_error(y_val, y_pred_baseline_val, squared=False)\n",
    "print(f'Baseline RMSE is: {rmse_baseline}')"
   ],
   "metadata": {
    "collapsed": false,
    "pycharm": {
     "name": "#%%\n"
    }
   }
  },
  {
   "cell_type": "markdown",
   "source": [
    "#### 6.2.2) Multivariate Linear Regression"
   ],
   "metadata": {
    "collapsed": false
   }
  },
  {
   "cell_type": "code",
   "execution_count": 126,
   "outputs": [],
   "source": [
    "regr = linear_model.LinearRegression()\n",
    "regr.fit(X_train, y_train)\n",
    "\n",
    "y_pred_linreg = regr.predict(X_val)\n",
    "rmse_linreg = mean_squared_error(y_val, y_pred_linreg, squared=False)"
   ],
   "metadata": {
    "collapsed": false,
    "pycharm": {
     "name": "#%%\n"
    }
   }
  },
  {
   "cell_type": "code",
   "execution_count": 127,
   "outputs": [
    {
     "name": "stdout",
     "output_type": "stream",
     "text": [
      "RMSE of LinearRegression() is: 0.06391656688113245. This is an improvement compared to the baseline approach of: 33.92073660732227 %\n"
     ]
    }
   ],
   "source": [
    "print(f'RMSE of {regr} is: {rmse_linreg}. This is an improvement compared to the baseline approach of: {-(rmse_linreg / rmse_baseline -1)*100} %')"
   ],
   "metadata": {
    "collapsed": false,
    "pycharm": {
     "name": "#%%\n"
    }
   }
  },
  {
   "cell_type": "markdown",
   "source": [
    "#### 6.2.3) Ridge Regression:"
   ],
   "metadata": {
    "collapsed": false,
    "pycharm": {
     "name": "#%% md\n"
    }
   }
  },
  {
   "cell_type": "code",
   "execution_count": 128,
   "outputs": [],
   "source": [
    "ridge_reg = linear_model.Ridge()\n",
    "ridge_reg.fit(X_train, y_train)\n",
    "\n",
    "y_pred_ridge_reg = ridge_reg.predict(X_val)\n",
    "rmse_ridge_reg = mean_squared_error(y_val, y_pred_ridge_reg, squared=False)"
   ],
   "metadata": {
    "collapsed": false,
    "pycharm": {
     "name": "#%%\n"
    }
   }
  },
  {
   "cell_type": "code",
   "execution_count": 129,
   "outputs": [
    {
     "name": "stdout",
     "output_type": "stream",
     "text": [
      "RMSE of Ridge() is: 0.06391682390945619. This is an improvement compared to the baseline approach of: 33.92047088212562 %\n"
     ]
    }
   ],
   "source": [
    "print(f'RMSE of {ridge_reg} is: {rmse_ridge_reg}. This is an improvement compared to the baseline approach of: {-(rmse_ridge_reg / rmse_baseline -1)*100} %')"
   ],
   "metadata": {
    "collapsed": false,
    "pycharm": {
     "name": "#%%\n"
    }
   }
  },
  {
   "cell_type": "markdown",
   "source": [
    "#### 6.2.4) Random Forest Regressor:"
   ],
   "metadata": {
    "collapsed": false,
    "pycharm": {
     "name": "#%% md\n"
    }
   }
  },
  {
   "cell_type": "code",
   "execution_count": 43,
   "outputs": [],
   "source": [
    "rfg_model = RandomForestRegressor()\n",
    "rfg_model.fit(X_train, y_train)\n",
    "\n",
    "y_pred_random_forest = rfg_model.predict(X_val)\n",
    "rmse_random_forest = mean_squared_error(y_val, y_pred_random_forest, squared=False)"
   ],
   "metadata": {
    "collapsed": false,
    "pycharm": {
     "name": "#%%\n"
    }
   }
  },
  {
   "cell_type": "code",
   "execution_count": 44,
   "outputs": [
    {
     "name": "stdout",
     "output_type": "stream",
     "text": [
      "RMSE of RandomForestRegressor() is: 0.054877154306196156. This is an improvement compared to the baseline approach of: 43.62584736467906 %\n"
     ]
    }
   ],
   "source": [
    "print(f'RMSE of {rfg_model} is: {rmse_random_forest}. This is an improvement compared to the baseline approach of: {-(rmse_random_forest / rmse_baseline -1)*100} %')"
   ],
   "metadata": {
    "collapsed": false,
    "pycharm": {
     "name": "#%%\n"
    }
   }
  },
  {
   "cell_type": "markdown",
   "source": [
    "#### 6.2.5) Support Vector Machines"
   ],
   "metadata": {
    "collapsed": false,
    "pycharm": {
     "name": "#%% md\n"
    }
   }
  },
  {
   "cell_type": "code",
   "execution_count": 45,
   "outputs": [],
   "source": [
    "svm = SVR()\n",
    "svm.fit(X_train, y_train)\n",
    "\n",
    "y_pred_svm = svm.predict(X_val)\n",
    "rmse_svm = mean_squared_error(y_val, y_pred_svm, squared=False)"
   ],
   "metadata": {
    "collapsed": false,
    "pycharm": {
     "name": "#%%\n"
    }
   }
  },
  {
   "cell_type": "code",
   "execution_count": 46,
   "outputs": [
    {
     "name": "stdout",
     "output_type": "stream",
     "text": [
      "RMSE of SVR() is: 0.06286229764031019. This is an improvement compared to the baseline approach of: 35.422876659956614 %\n"
     ]
    }
   ],
   "source": [
    "print(f'RMSE of {svm} is: {rmse_svm}. This is an improvement compared to the baseline approach of: {-(rmse_svm / rmse_baseline -1)*100} %')"
   ],
   "metadata": {
    "collapsed": false,
    "pycharm": {
     "name": "#%%\n"
    }
   }
  },
  {
   "cell_type": "markdown",
   "source": [
    "#### 6.2.6) XGBoost"
   ],
   "metadata": {
    "collapsed": false,
    "pycharm": {
     "name": "#%% md\n"
    }
   }
  },
  {
   "cell_type": "code",
   "execution_count": 47,
   "outputs": [],
   "source": [
    "xgb_model = xgb.XGBRegressor(verbosity=0)\n",
    "xgb_model.name = 'XGBoostRegressor'\n",
    "xgb_model.fit(X_train, y_train)\n",
    "\n",
    "y_pred_xgb = xgb_model.predict(X_val)\n",
    "rmse_xgb = mean_squared_error(y_val, y_pred_xgb, squared=False)"
   ],
   "metadata": {
    "collapsed": false,
    "pycharm": {
     "name": "#%%\n"
    }
   }
  },
  {
   "cell_type": "code",
   "execution_count": 48,
   "outputs": [
    {
     "name": "stdout",
     "output_type": "stream",
     "text": [
      "\n",
      " RMSE of XGBoostRegressor is: 0.05637486172096842. This is an improvement compared to the baseline approach of: 42.087283868249905 %\n"
     ]
    }
   ],
   "source": [
    "print(f'\\n RMSE of {xgb_model.name} is: {rmse_xgb}. This is an improvement compared to the baseline approach of: {-(rmse_xgb / rmse_baseline -1)*100} %')"
   ],
   "metadata": {
    "collapsed": false,
    "pycharm": {
     "name": "#%%\n"
    }
   }
  },
  {
   "cell_type": "code",
   "execution_count": 49,
   "outputs": [
    {
     "data": {
      "text/plain": "                                                       beta_opt  last_beta  \\\nweek district                  start_date_forecasting                        \n96   Neumarkt i.d.OPf.         2022-01-11              0.583710   0.478578   \n     Roth                      2022-01-11              0.669952   0.455546   \n     Stadt Landau in der Pfalz 2022-01-11              0.412759   0.521665   \n     Neuburg-Schrobenhausen    2022-01-11              0.670107   0.583970   \n     Salzgitter                2022-01-11              0.590606   0.607807   \n...                                                         ...        ...   \n2    Düsseldorf                2020-03-24              0.297559   0.562237   \n     Zollernalbkreis           2020-03-24              0.437692   0.738657   \n     Mettmann                  2020-03-24              0.301756   0.688205   \n     Freising                  2020-03-24              0.372734   0.610251   \n     Steinfurt                 2020-03-24              0.331492   0.657779   \n\n                                                       last_beta_standardized  \\\nweek district                  start_date_forecasting                           \n96   Neumarkt i.d.OPf.         2022-01-11                            0.952087   \n     Roth                      2022-01-11                            0.714465   \n     Stadt Landau in der Pfalz 2022-01-11                            1.396616   \n     Neuburg-Schrobenhausen    2022-01-11                            2.039421   \n     Salzgitter                2022-01-11                            2.285349   \n...                                                                       ...   \n2    Düsseldorf                2020-03-24                            1.815206   \n     Zollernalbkreis           2020-03-24                            3.635343   \n     Mettmann                  2020-03-24                            3.114822   \n     Freising                  2020-03-24                            2.310569   \n     Steinfurt                 2020-03-24                            2.800920   \n\n                                                       xgb_pred  \nweek district                  start_date_forecasting            \n96   Neumarkt i.d.OPf.         2022-01-11              0.518309  \n     Roth                      2022-01-11              0.530719  \n     Stadt Landau in der Pfalz 2022-01-11              0.508652  \n     Neuburg-Schrobenhausen    2022-01-11              0.518632  \n     Salzgitter                2022-01-11              0.539648  \n...                                                         ...  \n2    Düsseldorf                2020-03-24              0.394669  \n     Zollernalbkreis           2020-03-24              0.377255  \n     Mettmann                  2020-03-24              0.351166  \n     Freising                  2020-03-24              0.371359  \n     Steinfurt                 2020-03-24              0.418631  \n\n[3249 rows x 4 columns]",
      "text/html": "<div>\n<style scoped>\n    .dataframe tbody tr th:only-of-type {\n        vertical-align: middle;\n    }\n\n    .dataframe tbody tr th {\n        vertical-align: top;\n    }\n\n    .dataframe thead th {\n        text-align: right;\n    }\n</style>\n<table border=\"1\" class=\"dataframe\">\n  <thead>\n    <tr style=\"text-align: right;\">\n      <th></th>\n      <th></th>\n      <th></th>\n      <th>beta_opt</th>\n      <th>last_beta</th>\n      <th>last_beta_standardized</th>\n      <th>xgb_pred</th>\n    </tr>\n    <tr>\n      <th>week</th>\n      <th>district</th>\n      <th>start_date_forecasting</th>\n      <th></th>\n      <th></th>\n      <th></th>\n      <th></th>\n    </tr>\n  </thead>\n  <tbody>\n    <tr>\n      <th rowspan=\"5\" valign=\"top\">96</th>\n      <th>Neumarkt i.d.OPf.</th>\n      <th>2022-01-11</th>\n      <td>0.583710</td>\n      <td>0.478578</td>\n      <td>0.952087</td>\n      <td>0.518309</td>\n    </tr>\n    <tr>\n      <th>Roth</th>\n      <th>2022-01-11</th>\n      <td>0.669952</td>\n      <td>0.455546</td>\n      <td>0.714465</td>\n      <td>0.530719</td>\n    </tr>\n    <tr>\n      <th>Stadt Landau in der Pfalz</th>\n      <th>2022-01-11</th>\n      <td>0.412759</td>\n      <td>0.521665</td>\n      <td>1.396616</td>\n      <td>0.508652</td>\n    </tr>\n    <tr>\n      <th>Neuburg-Schrobenhausen</th>\n      <th>2022-01-11</th>\n      <td>0.670107</td>\n      <td>0.583970</td>\n      <td>2.039421</td>\n      <td>0.518632</td>\n    </tr>\n    <tr>\n      <th>Salzgitter</th>\n      <th>2022-01-11</th>\n      <td>0.590606</td>\n      <td>0.607807</td>\n      <td>2.285349</td>\n      <td>0.539648</td>\n    </tr>\n    <tr>\n      <th>...</th>\n      <th>...</th>\n      <th>...</th>\n      <td>...</td>\n      <td>...</td>\n      <td>...</td>\n      <td>...</td>\n    </tr>\n    <tr>\n      <th rowspan=\"5\" valign=\"top\">2</th>\n      <th>Düsseldorf</th>\n      <th>2020-03-24</th>\n      <td>0.297559</td>\n      <td>0.562237</td>\n      <td>1.815206</td>\n      <td>0.394669</td>\n    </tr>\n    <tr>\n      <th>Zollernalbkreis</th>\n      <th>2020-03-24</th>\n      <td>0.437692</td>\n      <td>0.738657</td>\n      <td>3.635343</td>\n      <td>0.377255</td>\n    </tr>\n    <tr>\n      <th>Mettmann</th>\n      <th>2020-03-24</th>\n      <td>0.301756</td>\n      <td>0.688205</td>\n      <td>3.114822</td>\n      <td>0.351166</td>\n    </tr>\n    <tr>\n      <th>Freising</th>\n      <th>2020-03-24</th>\n      <td>0.372734</td>\n      <td>0.610251</td>\n      <td>2.310569</td>\n      <td>0.371359</td>\n    </tr>\n    <tr>\n      <th>Steinfurt</th>\n      <th>2020-03-24</th>\n      <td>0.331492</td>\n      <td>0.657779</td>\n      <td>2.800920</td>\n      <td>0.418631</td>\n    </tr>\n  </tbody>\n</table>\n<p>3249 rows × 4 columns</p>\n</div>"
     },
     "execution_count": 49,
     "metadata": {},
     "output_type": "execute_result"
    }
   ],
   "source": [
    "pd.DataFrame({'beta_opt':y_val, 'last_beta':y_pred_baseline_val, 'last_beta_standardized':X_val['beta_t_minus_1'], 'xgb_pred':y_pred_xgb}).sort_values('start_date_forecasting', ascending=False)"
   ],
   "metadata": {
    "collapsed": false,
    "pycharm": {
     "name": "#%%\n"
    }
   }
  },
  {
   "cell_type": "markdown",
   "source": [
    "#### 6.2.7) Neural Network"
   ],
   "metadata": {
    "collapsed": false,
    "pycharm": {
     "name": "#%% md\n"
    }
   }
  },
  {
   "cell_type": "code",
   "execution_count": 50,
   "outputs": [
    {
     "name": "stderr",
     "output_type": "stream",
     "text": [
      "2022-02-22 16:44:26.976950: I tensorflow/core/platform/cpu_feature_guard.cc:151] This TensorFlow binary is optimized with oneAPI Deep Neural Network Library (oneDNN) to use the following CPU instructions in performance-critical operations:  AVX2 FMA\n",
      "To enable them in other operations, rebuild TensorFlow with the appropriate compiler flags.\n"
     ]
    }
   ],
   "source": [
    "ann_model = Sequential([\n",
    "    Dense(24, input_dim=len(X_train.columns), activation='relu'),\n",
    "    Dropout(0.2),\n",
    "    Dense(16, activation='relu'),\n",
    "    Dropout(0.2),\n",
    "    Dense(1, activation='linear')\n",
    "])\n",
    "\n",
    "\n",
    "# compile model:\n",
    "ann_model.compile(\n",
    "    loss = 'mse',\n",
    "    optimizer = 'adam',\n",
    "    metrics=[RootMeanSquaredError(name='rmse')]\n",
    ")"
   ],
   "metadata": {
    "collapsed": false,
    "pycharm": {
     "name": "#%%\n"
    }
   }
  },
  {
   "cell_type": "code",
   "execution_count": 51,
   "outputs": [
    {
     "name": "stdout",
     "output_type": "stream",
     "text": [
      "Epoch 1/20\n",
      "305/305 [==============================] - 2s 4ms/step - loss: 0.0709 - rmse: 0.2663 - val_loss: 0.0089 - val_rmse: 0.0941\n",
      "Epoch 2/20\n",
      "305/305 [==============================] - 1s 3ms/step - loss: 0.0172 - rmse: 0.1313 - val_loss: 0.0071 - val_rmse: 0.0842\n",
      "Epoch 3/20\n",
      "305/305 [==============================] - 1s 3ms/step - loss: 0.0100 - rmse: 0.1000 - val_loss: 0.0057 - val_rmse: 0.0757\n",
      "Epoch 4/20\n",
      "305/305 [==============================] - 1s 3ms/step - loss: 0.0076 - rmse: 0.0873 - val_loss: 0.0052 - val_rmse: 0.0720\n",
      "Epoch 5/20\n",
      "305/305 [==============================] - 1s 3ms/step - loss: 0.0066 - rmse: 0.0812 - val_loss: 0.0055 - val_rmse: 0.0740\n",
      "Epoch 6/20\n",
      "305/305 [==============================] - 1s 3ms/step - loss: 0.0056 - rmse: 0.0747 - val_loss: 0.0052 - val_rmse: 0.0724\n",
      "Epoch 7/20\n",
      "305/305 [==============================] - 1s 3ms/step - loss: 0.0052 - rmse: 0.0722 - val_loss: 0.0047 - val_rmse: 0.0685\n",
      "Epoch 8/20\n",
      "305/305 [==============================] - 1s 3ms/step - loss: 0.0048 - rmse: 0.0696 - val_loss: 0.0048 - val_rmse: 0.0692\n",
      "Epoch 9/20\n",
      "305/305 [==============================] - 1s 3ms/step - loss: 0.0048 - rmse: 0.0692 - val_loss: 0.0046 - val_rmse: 0.0676\n",
      "Epoch 10/20\n",
      "305/305 [==============================] - 1s 2ms/step - loss: 0.0047 - rmse: 0.0686 - val_loss: 0.0045 - val_rmse: 0.0668\n",
      "Epoch 11/20\n",
      "305/305 [==============================] - 1s 2ms/step - loss: 0.0047 - rmse: 0.0685 - val_loss: 0.0046 - val_rmse: 0.0675\n",
      "Epoch 12/20\n",
      "305/305 [==============================] - 1s 2ms/step - loss: 0.0044 - rmse: 0.0667 - val_loss: 0.0044 - val_rmse: 0.0666\n",
      "Epoch 13/20\n",
      "305/305 [==============================] - 1s 2ms/step - loss: 0.0047 - rmse: 0.0687 - val_loss: 0.0044 - val_rmse: 0.0666\n",
      "Epoch 14/20\n",
      "305/305 [==============================] - 1s 2ms/step - loss: 0.0043 - rmse: 0.0655 - val_loss: 0.0041 - val_rmse: 0.0642\n",
      "Epoch 15/20\n",
      "305/305 [==============================] - 1s 2ms/step - loss: 0.0043 - rmse: 0.0654 - val_loss: 0.0042 - val_rmse: 0.0645\n",
      "Epoch 16/20\n",
      "305/305 [==============================] - 1s 2ms/step - loss: 0.0043 - rmse: 0.0653 - val_loss: 0.0041 - val_rmse: 0.0640\n",
      "Epoch 17/20\n",
      "305/305 [==============================] - 1s 2ms/step - loss: 0.0043 - rmse: 0.0654 - val_loss: 0.0042 - val_rmse: 0.0645\n",
      "Epoch 18/20\n",
      "305/305 [==============================] - 1s 2ms/step - loss: 0.0042 - rmse: 0.0651 - val_loss: 0.0043 - val_rmse: 0.0655\n",
      "Epoch 19/20\n",
      "305/305 [==============================] - 1s 2ms/step - loss: 0.0042 - rmse: 0.0648 - val_loss: 0.0041 - val_rmse: 0.0639\n",
      "Epoch 20/20\n",
      "305/305 [==============================] - 1s 2ms/step - loss: 0.0041 - rmse: 0.0642 - val_loss: 0.0041 - val_rmse: 0.0639\n"
     ]
    }
   ],
   "source": [
    "history = ann_model.fit(X_train,\n",
    "                        y_train,\n",
    "                        epochs=20,\n",
    "                        # class_weight=class_weight,\n",
    "                        validation_data=(X_val, y_val),\n",
    "                        )"
   ],
   "metadata": {
    "collapsed": false,
    "pycharm": {
     "name": "#%%\n"
    }
   }
  },
  {
   "cell_type": "code",
   "execution_count": 52,
   "outputs": [],
   "source": [
    "y_pred_ann = ann_model.predict(X_val)\n",
    "rmse_ann = mean_squared_error(y_val, y_pred_ann, squared=False)"
   ],
   "metadata": {
    "collapsed": false,
    "pycharm": {
     "name": "#%%\n"
    }
   }
  },
  {
   "cell_type": "code",
   "execution_count": 53,
   "outputs": [
    {
     "name": "stdout",
     "output_type": "stream",
     "text": [
      "RMSE of <keras.engine.sequential.Sequential object at 0x1751c5490> is: 0.0639412177132556. This is an improvement compared to the baseline approach of: 34.31452463911088 %\n"
     ]
    }
   ],
   "source": [
    "print(f'RMSE of {ann_model} is: {rmse_ann}. This is an improvement compared to the baseline approach of: {-(rmse_ann / rmse_baseline -1)*100} %')"
   ],
   "metadata": {
    "collapsed": false,
    "pycharm": {
     "name": "#%%\n"
    }
   }
  },
  {
   "cell_type": "markdown",
   "source": [
    "## 7) Hyperparameter Tuning:\n",
    "Here the goal is to tune the hyperparameters of the best performing models to increase the model performance even further:"
   ],
   "metadata": {
    "collapsed": false,
    "pycharm": {
     "name": "#%% md\n"
    }
   }
  },
  {
   "cell_type": "code",
   "execution_count": 65,
   "outputs": [],
   "source": [
    "# The parameters to be tuned:\n",
    "# As an example the maximum depth of each tree in the ensemble can be set using the max_depth parameter.\n",
    "\n",
    "params = {\n",
    "    \"learning_rate\" : [0.05,0.10,0.15,0.20,0.25,0.30],\n",
    "    \"max_depth\" : [ 3, 4, 5, 6, 8, 10, 12, 15],\n",
    "    \"min_child_weight\" : [ 1, 3, 5, 7 ],\n",
    "    \"gamma\": [ 0.0, 0.1, 0.2 , 0.3, 0.4 ],\n",
    "    \"colsample_bytree\" : [ 0.3, 0.4, 0.5 , 0.7 ]\n",
    "}"
   ],
   "metadata": {
    "collapsed": false,
    "pycharm": {
     "name": "#%%\n"
    }
   }
  },
  {
   "cell_type": "code",
   "execution_count": 77,
   "outputs": [],
   "source": [
    "# The above defined parameters are passed to the constructor of the randomized search cross validation object. Other params include the model to be tuned,\n",
    "# the number of iterations (number of candidates that are tested) and the number of jobs to be executed at the same time for parallel processing (-1 indicates that all available kernels\n",
    "# should be used. CV determines the number of splits to be used and verbose the level of additional information to be printed when executing the randomized\n",
    "# grid search.\n",
    "# As a scoring function / metric to evaluate the performance of different parameter settings we use the root mean squared error. The \"neg\" stands for\n",
    "# negative. This is a technical detail as the negated score is needed all scorer objects follow the convention that higher return values are better\n",
    "# than lower return values (https://scikit-learn.org/stable/modules/model_evaluation.html).\n",
    "\n",
    "rs_model = RandomizedSearchCV(xgb_model, param_distributions=params, n_iter=25, n_jobs=-1, cv=5, scoring='neg_root_mean_squared_error', verbose=3)"
   ],
   "metadata": {
    "collapsed": false,
    "pycharm": {
     "name": "#%%\n"
    }
   }
  },
  {
   "cell_type": "code",
   "execution_count": 78,
   "outputs": [
    {
     "name": "stdout",
     "output_type": "stream",
     "text": [
      "Fitting 5 folds for each of 25 candidates, totalling 125 fits\n"
     ]
    },
    {
     "data": {
      "text/plain": "RandomizedSearchCV(cv=5,\n                   estimator=XGBRegressor(base_score=0.5, booster='gbtree',\n                                          colsample_bylevel=1,\n                                          colsample_bynode=1,\n                                          colsample_bytree=1,\n                                          enable_categorical=False, gamma=0,\n                                          gpu_id=-1, importance_type=None,\n                                          interaction_constraints='',\n                                          learning_rate=0.300000012,\n                                          max_delta_step=0, max_depth=6,\n                                          min_child_weight=1, missing=nan,\n                                          monotone_constraints='()',\n                                          n_estimato...\n                                          reg_lambda=1, scale_pos_weight=1,\n                                          subsample=1, tree_method='exact',\n                                          validate_parameters=1, verbosity=0),\n                   n_iter=25, n_jobs=-1,\n                   param_distributions={'colsample_bytree': [0.3, 0.4, 0.5,\n                                                             0.7],\n                                        'gamma': [0.0, 0.1, 0.2, 0.3, 0.4],\n                                        'learning_rate': [0.05, 0.1, 0.15, 0.2,\n                                                          0.25, 0.3],\n                                        'max_depth': [3, 4, 5, 6, 8, 10, 12,\n                                                      15],\n                                        'min_child_weight': [1, 3, 5, 7]},\n                   scoring='neg_root_mean_squared_error', verbose=3)"
     },
     "execution_count": 78,
     "metadata": {},
     "output_type": "execute_result"
    }
   ],
   "source": [
    "# Execute fitting:\n",
    "rs_model.fit(X_full_modeling, y_full_modeling)"
   ],
   "metadata": {
    "collapsed": false,
    "pycharm": {
     "name": "#%%\n"
    }
   }
  },
  {
   "cell_type": "code",
   "execution_count": 85,
   "outputs": [
    {
     "data": {
      "text/plain": "{'min_child_weight': 1,\n 'max_depth': 6,\n 'learning_rate': 0.15,\n 'gamma': 0.0,\n 'colsample_bytree': 0.5}"
     },
     "execution_count": 85,
     "metadata": {},
     "output_type": "execute_result"
    }
   ],
   "source": [
    "# Print results (best estimators):\n",
    "rs_model.best_params_"
   ],
   "metadata": {
    "collapsed": false,
    "pycharm": {
     "name": "#%%\n"
    }
   }
  },
  {
   "cell_type": "code",
   "execution_count": 86,
   "outputs": [
    {
     "data": {
      "text/plain": "'Best RMSE-Score: 0.054531922278637825'"
     },
     "execution_count": 86,
     "metadata": {},
     "output_type": "execute_result"
    }
   ],
   "source": [
    "# Print results (best score):\n",
    "f'Best RMSE-Score: {-rs_model.best_score_}'"
   ],
   "metadata": {
    "collapsed": false,
    "pycharm": {
     "name": "#%%\n"
    }
   }
  },
  {
   "cell_type": "code",
   "execution_count": 90,
   "outputs": [
    {
     "data": {
      "text/plain": "XGBRegressor(base_score=0.5, booster='gbtree', colsample_bylevel=1,\n             colsample_bynode=1, colsample_bytree=0.5, enable_categorical=False,\n             gamma=0.0, gpu_id=-1, importance_type=None,\n             interaction_constraints='', learning_rate=0.15, max_delta_step=0,\n             max_depth=6, min_child_weight=1, missing=nan,\n             monotone_constraints='()', n_estimators=100, n_jobs=16,\n             num_parallel_tree=1, predictor='auto', random_state=0, reg_alpha=0,\n             reg_lambda=1, scale_pos_weight=1, subsample=1, tree_method='exact',\n             validate_parameters=1, verbosity=0)"
     },
     "execution_count": 90,
     "metadata": {},
     "output_type": "execute_result"
    }
   ],
   "source": [
    "# Train Model on full dataset:\n",
    "xgb_model_tuned = rs_model.best_estimator_\n",
    "xgb_model_tuned.fit(X_full_modeling, y_full_modeling)"
   ],
   "metadata": {
    "collapsed": false,
    "pycharm": {
     "name": "#%%\n"
    }
   }
  },
  {
   "cell_type": "markdown",
   "source": [
    "## 8) Model Evaluation:"
   ],
   "metadata": {
    "collapsed": false,
    "pycharm": {
     "name": "#%% md\n"
    }
   }
  },
  {
   "cell_type": "markdown",
   "source": [
    "### Metric Computation:"
   ],
   "metadata": {
    "collapsed": false,
    "pycharm": {
     "name": "#%% md\n"
    }
   }
  },
  {
   "cell_type": "markdown",
   "source": [
    "#### Baseline:"
   ],
   "metadata": {
    "collapsed": false,
    "pycharm": {
     "name": "#%% md\n"
    }
   }
  },
  {
   "cell_type": "code",
   "execution_count": 54,
   "outputs": [
    {
     "name": "stdout",
     "output_type": "stream",
     "text": [
      "RMSE of baseline approach is: 0.13854113290109654\n"
     ]
    }
   ],
   "source": [
    "y_pred_baseline_test = pd.DataFrame(scaler_obj.inverse_transform(X_test), index=X_test.index, columns=X_test.columns)['beta_t_minus_1']\n",
    "rmse_baseline_test = mean_squared_error(y_pred_baseline_test, y_test, squared=False)\n",
    "print(f'RMSE of baseline approach is: {rmse_baseline_test}')"
   ],
   "metadata": {
    "collapsed": false,
    "pycharm": {
     "name": "#%%\n"
    }
   }
  },
  {
   "cell_type": "markdown",
   "source": [
    "#### Random Forest:"
   ],
   "metadata": {
    "collapsed": false
   }
  },
  {
   "cell_type": "code",
   "execution_count": 55,
   "outputs": [
    {
     "name": "stdout",
     "output_type": "stream",
     "text": [
      "RMSE of RandomForestRegressor() is: 0.0955794661852052. This is an improvement compared to the baseline approach of: 31.01004432132177%\n"
     ]
    }
   ],
   "source": [
    "# Apply optimal model to testset:\n",
    "y_pred_test_rf = rfg_model.predict(X_test)\n",
    "\n",
    "rmse_rf_test = mean_squared_error(y_pred_test_rf, y_test, squared=False)\n",
    "print(f'RMSE of {rfg_model} is: {rmse_rf_test}. This is an improvement compared to the baseline approach of: {-(rmse_rf_test / rmse_baseline_test -1)*100}%')"
   ],
   "metadata": {
    "collapsed": false,
    "pycharm": {
     "name": "#%%\n"
    }
   }
  },
  {
   "cell_type": "markdown",
   "source": [
    "#### XGB Boost:"
   ],
   "metadata": {
    "collapsed": false,
    "pycharm": {
     "name": "#%% md\n"
    }
   },
   "execution_count": 81
  },
  {
   "cell_type": "code",
   "execution_count": 92,
   "outputs": [
    {
     "name": "stdout",
     "output_type": "stream",
     "text": [
      "RMSE of XGBoost_tuned is: 0.09660994411609913. This is an improvement compared to the baseline approach of: 30.266237836333964%\n"
     ]
    }
   ],
   "source": [
    "# Apply optimal model to testset:\n",
    "y_pred_test_xgb = xgb_model_tuned.predict(X_test)\n",
    "\n",
    "xgb_model_tuned.name = 'XGBoost_tuned'\n",
    "\n",
    "rmse_xgb_test = mean_squared_error(y_pred_test_xgb, y_test, squared=False)\n",
    "print(f'RMSE of {xgb_model_tuned.name} is: {rmse_xgb_test}. This is an improvement compared to the baseline approach of: {-(rmse_xgb_test / rmse_baseline_test -1)*100}%')"
   ],
   "metadata": {
    "collapsed": false,
    "pycharm": {
     "name": "#%%\n"
    }
   }
  },
  {
   "cell_type": "markdown",
   "source": [
    "### Model comparison:"
   ],
   "metadata": {
    "collapsed": false,
    "pycharm": {
     "name": "#%% md\n"
    }
   }
  },
  {
   "cell_type": "code",
   "execution_count": 57,
   "outputs": [
    {
     "data": {
      "text/plain": "<Figure size 432x288 with 1 Axes>",
      "image/png": "[encoded data removed]"
     },
     "metadata": {
      "needs_background": "light"
     },
     "output_type": "display_data"
    }
   ],
   "source": [
    "rmses_dict = {\n",
    "    'LinReg': rmse_linreg,\n",
    "    'Ridge_Reg': rmse_ridge_reg,\n",
    "    'Random_Forest': rmse_random_forest,\n",
    "    'SVM': rmse_svm,\n",
    "    'XGB': rmse_xgb,\n",
    "    'ANN':rmse_ann,\n",
    "    'Baseline': rmse_baseline,\n",
    "}\n",
    "\n",
    "rmses_rel_improvement = {k:(-(v/rmse_baseline-1)*100) for (k,v) in rmses_dict.items()}\n",
    "rmses_rel_improvement\n",
    "\n",
    "plt.bar(x=rmses_rel_improvement.keys(),height=rmses_rel_improvement.values())\n",
    "plt.title(\"Relative Improvement to Using the Last Beta:\")\n",
    "plt.xlabel(xlabel='Machine Learning Regression Approaches')\n",
    "plt.ylabel(ylabel='Relative Improvement to RMSE %')\n",
    "plt.show()"
   ],
   "metadata": {
    "collapsed": false,
    "pycharm": {
     "name": "#%%\n"
    }
   }
  },
  {
   "cell_type": "code",
   "execution_count": 58,
   "outputs": [],
   "source": [
    "# Export results to csv:\n",
    "import csv\n",
    "\n",
    "with open('ml_results_dict.csv', 'w') as csv_file:\n",
    "    writer = csv.writer(csv_file)\n",
    "    for key, value in rmses_dict.items():\n",
    "        writer.writerow([key, value])"
   ],
   "metadata": {
    "collapsed": false,
    "pycharm": {
     "name": "#%%\n"
    }
   }
  },
  {
   "cell_type": "code",
   "execution_count": 59,
   "outputs": [
    {
     "data": {
      "text/plain": "'/Users/heidemann/Documents/Private/Project_Seminar/Backend/Modeling/Differential_Equation_Modeling/Machine_Learning_Layer'"
     },
     "execution_count": 59,
     "metadata": {},
     "output_type": "execute_result"
    }
   ],
   "source": [
    "os.getcwd()"
   ],
   "metadata": {
    "collapsed": false,
    "pycharm": {
     "name": "#%%\n"
    }
   }
  },
  {
   "cell_type": "markdown",
   "source": [
    "### Residual analysis:"
   ],
   "metadata": {
    "collapsed": false,
    "pycharm": {
     "name": "#%% md\n"
    }
   }
  },
  {
   "cell_type": "code",
   "execution_count": 60,
   "outputs": [
    {
     "data": {
      "text/plain": "                                             beta_opt  last_beta_pred  \\\nweek district        start_date_forecasting                             \n93   Aachen          2021-12-21              0.436077        0.354506   \n94   Aachen          2021-12-28              0.592211        0.372149   \n     Ahrweiler       2021-12-28              0.497854        0.296910   \n95   Ahrweiler       2022-01-04              0.623046        0.344286   \n96   Ahrweiler       2022-01-11              0.486081        0.679850   \n...                                               ...             ...   \n93   Zollernalbkreis 2021-12-21              0.313538        0.299271   \n95   Zollernalbkreis 2022-01-04              0.474933        0.445366   \n93   Zwickau         2021-12-21              0.283989        0.344724   \n94   Zwickau         2021-12-28              0.341186        0.277870   \n95   Zwickau         2022-01-04              0.326760        0.343163   \n\n                                             xgb_pred  residual_last_beta  \\\nweek district        start_date_forecasting                                 \n93   Aachen          2021-12-21              0.353995           -0.081572   \n94   Aachen          2021-12-28              0.351619           -0.220062   \n     Ahrweiler       2021-12-28              0.375288           -0.200944   \n95   Ahrweiler       2022-01-04              0.442217           -0.278760   \n96   Ahrweiler       2022-01-11              0.575600            0.193769   \n...                                               ...                 ...   \n93   Zollernalbkreis 2021-12-21              0.396936           -0.014266   \n95   Zollernalbkreis 2022-01-04              0.531422           -0.029567   \n93   Zwickau         2021-12-21              0.340697            0.060735   \n94   Zwickau         2021-12-28              0.337726           -0.063316   \n95   Zwickau         2022-01-04              0.404947            0.016402   \n\n                                             residual_xgb_pred  \nweek district        start_date_forecasting                     \n93   Aachen          2021-12-21                      -0.082083  \n94   Aachen          2021-12-28                      -0.240593  \n     Ahrweiler       2021-12-28                      -0.122566  \n95   Ahrweiler       2022-01-04                      -0.180829  \n96   Ahrweiler       2022-01-11                       0.089519  \n...                                                        ...  \n93   Zollernalbkreis 2021-12-21                       0.083398  \n95   Zollernalbkreis 2022-01-04                       0.056488  \n93   Zwickau         2021-12-21                       0.056708  \n94   Zwickau         2021-12-28                      -0.003461  \n95   Zwickau         2022-01-04                       0.078186  \n\n[1000 rows x 5 columns]",
      "text/html": "<div>\n<style scoped>\n    .dataframe tbody tr th:only-of-type {\n        vertical-align: middle;\n    }\n\n    .dataframe tbody tr th {\n        vertical-align: top;\n    }\n\n    .dataframe thead th {\n        text-align: right;\n    }\n</style>\n<table border=\"1\" class=\"dataframe\">\n  <thead>\n    <tr style=\"text-align: right;\">\n      <th></th>\n      <th></th>\n      <th></th>\n      <th>beta_opt</th>\n      <th>last_beta_pred</th>\n      <th>xgb_pred</th>\n      <th>residual_last_beta</th>\n      <th>residual_xgb_pred</th>\n    </tr>\n    <tr>\n      <th>week</th>\n      <th>district</th>\n      <th>start_date_forecasting</th>\n      <th></th>\n      <th></th>\n      <th></th>\n      <th></th>\n      <th></th>\n    </tr>\n  </thead>\n  <tbody>\n    <tr>\n      <th>93</th>\n      <th>Aachen</th>\n      <th>2021-12-21</th>\n      <td>0.436077</td>\n      <td>0.354506</td>\n      <td>0.353995</td>\n      <td>-0.081572</td>\n      <td>-0.082083</td>\n    </tr>\n    <tr>\n      <th rowspan=\"2\" valign=\"top\">94</th>\n      <th>Aachen</th>\n      <th>2021-12-28</th>\n      <td>0.592211</td>\n      <td>0.372149</td>\n      <td>0.351619</td>\n      <td>-0.220062</td>\n      <td>-0.240593</td>\n    </tr>\n    <tr>\n      <th>Ahrweiler</th>\n      <th>2021-12-28</th>\n      <td>0.497854</td>\n      <td>0.296910</td>\n      <td>0.375288</td>\n      <td>-0.200944</td>\n      <td>-0.122566</td>\n    </tr>\n    <tr>\n      <th>95</th>\n      <th>Ahrweiler</th>\n      <th>2022-01-04</th>\n      <td>0.623046</td>\n      <td>0.344286</td>\n      <td>0.442217</td>\n      <td>-0.278760</td>\n      <td>-0.180829</td>\n    </tr>\n    <tr>\n      <th>96</th>\n      <th>Ahrweiler</th>\n      <th>2022-01-11</th>\n      <td>0.486081</td>\n      <td>0.679850</td>\n      <td>0.575600</td>\n      <td>0.193769</td>\n      <td>0.089519</td>\n    </tr>\n    <tr>\n      <th>...</th>\n      <th>...</th>\n      <th>...</th>\n      <td>...</td>\n      <td>...</td>\n      <td>...</td>\n      <td>...</td>\n      <td>...</td>\n    </tr>\n    <tr>\n      <th>93</th>\n      <th>Zollernalbkreis</th>\n      <th>2021-12-21</th>\n      <td>0.313538</td>\n      <td>0.299271</td>\n      <td>0.396936</td>\n      <td>-0.014266</td>\n      <td>0.083398</td>\n    </tr>\n    <tr>\n      <th>95</th>\n      <th>Zollernalbkreis</th>\n      <th>2022-01-04</th>\n      <td>0.474933</td>\n      <td>0.445366</td>\n      <td>0.531422</td>\n      <td>-0.029567</td>\n      <td>0.056488</td>\n    </tr>\n    <tr>\n      <th>93</th>\n      <th>Zwickau</th>\n      <th>2021-12-21</th>\n      <td>0.283989</td>\n      <td>0.344724</td>\n      <td>0.340697</td>\n      <td>0.060735</td>\n      <td>0.056708</td>\n    </tr>\n    <tr>\n      <th>94</th>\n      <th>Zwickau</th>\n      <th>2021-12-28</th>\n      <td>0.341186</td>\n      <td>0.277870</td>\n      <td>0.337726</td>\n      <td>-0.063316</td>\n      <td>-0.003461</td>\n    </tr>\n    <tr>\n      <th>95</th>\n      <th>Zwickau</th>\n      <th>2022-01-04</th>\n      <td>0.326760</td>\n      <td>0.343163</td>\n      <td>0.404947</td>\n      <td>0.016402</td>\n      <td>0.078186</td>\n    </tr>\n  </tbody>\n</table>\n<p>1000 rows × 5 columns</p>\n</div>"
     },
     "execution_count": 60,
     "metadata": {},
     "output_type": "execute_result"
    }
   ],
   "source": [
    "residuals_df = pd.DataFrame({\n",
    "    'beta_opt':y_test, 'last_beta_pred':y_pred_baseline_test, 'xgb_pred':y_pred_test_xgb,\n",
    "    'residual_last_beta': y_pred_baseline_test-y_test,\n",
    "    'residual_xgb_pred': y_pred_test_xgb-y_test,\n",
    "})\n",
    "residuals_df"
   ],
   "metadata": {
    "collapsed": false,
    "pycharm": {
     "name": "#%%\n"
    }
   }
  },
  {
   "cell_type": "code",
   "execution_count": 61,
   "outputs": [
    {
     "data": {
      "text/plain": "<Figure size 640x480 with 1 Axes>",
      "image/png": "[encoded data removed]"
     },
     "metadata": {},
     "output_type": "display_data"
    },
    {
     "data": {
      "text/plain": "<ggplot: (391780220)>"
     },
     "execution_count": 61,
     "metadata": {},
     "output_type": "execute_result"
    }
   ],
   "source": [
    "## Plot residuals:\n",
    "# Last Beta\n",
    "ggplot(residuals_df, aes(x='residual_last_beta')) + geom_histogram(binwidth=0.01) + coord_cartesian(xlim=(-0.5,0.5),ylim=(0,100))"
   ],
   "metadata": {
    "collapsed": false,
    "pycharm": {
     "name": "#%%\n"
    }
   }
  },
  {
   "cell_type": "code",
   "execution_count": 62,
   "outputs": [
    {
     "data": {
      "text/plain": "<Figure size 640x480 with 1 Axes>",
      "image/png": "[encoded data removed]"
     },
     "metadata": {},
     "output_type": "display_data"
    },
    {
     "data": {
      "text/plain": "<ggplot: (391201711)>"
     },
     "execution_count": 62,
     "metadata": {},
     "output_type": "execute_result"
    }
   ],
   "source": [
    "# XGB Beta\n",
    "ggplot(residuals_df, aes(x='residual_xgb_pred')) + geom_histogram(binwidth=0.01) + coord_cartesian(xlim=(-0.5,0.5),ylim=(0,100))"
   ],
   "metadata": {
    "collapsed": false,
    "pycharm": {
     "name": "#%%\n"
    }
   }
  },
  {
   "cell_type": "markdown",
   "source": [
    "## 9) Export Best Model:"
   ],
   "metadata": {
    "collapsed": false,
    "pycharm": {
     "name": "#%% md\n"
    }
   }
  },
  {
   "cell_type": "code",
   "execution_count": 63,
   "outputs": [
    {
     "name": "stdout",
     "output_type": "stream",
     "text": [
      "succesfully exported\n"
     ]
    }
   ],
   "source": [
    "path = '../../../../Assets/MachineLearningLayer/Models/'\n",
    "best_model = xgb_model\n",
    "\n",
    "# ML Model:\n",
    "filename = 'xgb_model_lukas.pkl'\n",
    "combined_path = path+filename\n",
    "joblib.dump(best_model, open(combined_path, 'wb'))\n",
    "\n",
    "# Standardizer:\n",
    "filename = 'standardizer_model.pkl'\n",
    "combined_path = path+filename\n",
    "joblib.dump(scaler_obj, open(path+filename, 'wb'))\n",
    "\n",
    "print('succesfully exported')"
   ],
   "metadata": {
    "collapsed": false,
    "pycharm": {
     "name": "#%%\n"
    }
   }
  },
  {
   "cell_type": "code",
   "execution_count": 63,
   "outputs": [],
   "source": [
    "    "
   ],
   "metadata": {
    "collapsed": false,
    "pycharm": {
     "name": "#%%\n"
    }
   }
  }
 ],
 "metadata": {
  "kernelspec": {
   "display_name": "Python 3",
   "language": "python",
   "name": "python3"
  },
  "language_info": {
   "codemirror_mode": {
    "name": "ipython",
    "version": 2
   },
   "file_extension": ".py",
   "mimetype": "text/x-python",
   "name": "python",
   "nbconvert_exporter": "python",
   "pygments_lexer": "ipython2",
   "version": "2.7.6"
  }
 },
 "nbformat": 4,
 "nbformat_minor": 0
}