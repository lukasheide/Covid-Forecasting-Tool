{
 "cells": [
  {
   "cell_type": "markdown",
   "source": [
    "# Machine Learning Layer\n",
    "#### Goal: Estimate the next beta"
   ],
   "metadata": {
    "collapsed": false,
    "pycharm": {
     "name": "#%% md\n"
    }
   }
  },
  {
   "cell_type": "code",
   "execution_count": 1,
   "outputs": [],
   "source": [
    "import os\n",
    "\n",
    "import pandas as pd\n",
    "import numpy as np\n",
    "import matplotlib.pyplot as plt\n",
    "import tf as tf\n",
    "from plotnine import *\n",
    "from sklearn.inspection import permutation_importance\n",
    "\n",
    "from sklearn.preprocessing import StandardScaler, OneHotEncoder\n",
    "from sklearn.metrics import mean_squared_error\n",
    "from sklearn import linear_model\n",
    "from sklearn.model_selection import train_test_split\n",
    "from sklearn.ensemble import RandomForestRegressor\n",
    "from sklearn.svm import SVR\n",
    "import xgboost as xgb\n",
    "\n",
    "from tensorflow import keras\n",
    "import keras.backend as K\n",
    "from keras.models import Sequential\n",
    "from keras.layers import Dense, Dropout\n",
    "from keras.metrics import RootMeanSquaredError\n",
    "\n",
    "import pickle\n",
    "import joblib"
   ],
   "metadata": {
    "collapsed": false,
    "pycharm": {
     "name": "#%%\n"
    }
   }
  },
  {
   "cell_type": "markdown",
   "source": [
    "## 1) Import Data:\n",
    "CSV file can be found in Teams under Model/ML_for_Beta/all_matrix_data.csv"
   ],
   "metadata": {
    "collapsed": false,
    "pycharm": {
     "name": "#%% md\n"
    }
   }
  },
  {
   "cell_type": "code",
   "execution_count": 2,
   "outputs": [],
   "source": [
    "df = pd.read_csv('../../../../Assets/Data/all_matrix_data_v3.csv')\n",
    "df.drop(columns=['Unnamed: 0'], inplace=True)"
   ],
   "metadata": {
    "collapsed": false,
    "pycharm": {
     "name": "#%%\n"
    }
   }
  },
  {
   "cell_type": "code",
   "execution_count": 3,
   "outputs": [
    {
     "data": {
      "text/plain": "       week  policy_index    variant   mobility  temperature       wind  \\\n29931     8     69.342857      Other -25.142857    11.585714  10.914286   \n33260    12     57.440000      Other  -1.857143    15.671429   7.557143   \n33549    16     63.390000      Other -10.142857    20.885714        NaN   \n9519     21     58.802857      Other   7.285714    19.628571   4.685714   \n11600    12     57.440000      Other   6.428571    13.542857   7.914286   \n...     ...           ...        ...        ...          ...        ...   \n20441    18     58.804286      Other   9.285714    13.657143  13.928571   \n10613    70     73.210000  B.1.617.2  19.000000    18.071429   9.442857   \n22773    70     73.210000  B.1.617.2  17.000000    17.714286   7.914286   \n17021    18     58.804286      Other  -4.714286    13.414286        NaN   \n19259    71     73.210000  B.1.617.2   5.000000    19.200000   6.685714   \n\n       infections          beta  beta_t_minus_1 start_date_forecasting  \\\n29931    4.397959  3.206650e-22    4.185804e-01             2020-05-05   \n33260    1.061224  7.422783e-22    4.248281e-01             2020-06-02   \n33549    0.897959  4.943590e-21    1.880543e-02             2020-06-30   \n9519     2.357143  1.138159e-20    6.482662e-01             2020-08-04   \n11600    0.408163  4.656590e-20    1.931945e-02             2020-06-02   \n...           ...           ...             ...                    ...   \n20441    0.938776  3.929966e+00    5.671122e-07             2020-07-14   \n10613    0.734694  4.097204e+00    4.810871e-07             2021-07-13   \n22773    0.795918  4.198941e+00    4.614146e-07             2021-07-13   \n17021    2.448980  4.277427e+00    5.615672e-07             2020-07-14   \n19259    1.204082  4.389233e+00    4.555814e-07             2021-07-20   \n\n                         district  \n29931                       Essen  \n33260            Rhein-Sieg-Kreis  \n33549                    Solingen  \n9519           Potsdam-Mittelmark  \n11600      Neuburg-Schrobenhausen  \n...                           ...  \n20441  Schwerin, Landeshauptstadt  \n10613        Saale-Holzland-Kreis  \n22773                       Regen  \n17021                  Hof, Kreis  \n19259               Coburg, Kreis  \n\n[38000 rows x 11 columns]",
      "text/html": "<div>\n<style scoped>\n    .dataframe tbody tr th:only-of-type {\n        vertical-align: middle;\n    }\n\n    .dataframe tbody tr th {\n        vertical-align: top;\n    }\n\n    .dataframe thead th {\n        text-align: right;\n    }\n</style>\n<table border=\"1\" class=\"dataframe\">\n  <thead>\n    <tr style=\"text-align: right;\">\n      <th></th>\n      <th>week</th>\n      <th>policy_index</th>\n      <th>variant</th>\n      <th>mobility</th>\n      <th>temperature</th>\n      <th>wind</th>\n      <th>infections</th>\n      <th>beta</th>\n      <th>beta_t_minus_1</th>\n      <th>start_date_forecasting</th>\n      <th>district</th>\n    </tr>\n  </thead>\n  <tbody>\n    <tr>\n      <th>29931</th>\n      <td>8</td>\n      <td>69.342857</td>\n      <td>Other</td>\n      <td>-25.142857</td>\n      <td>11.585714</td>\n      <td>10.914286</td>\n      <td>4.397959</td>\n      <td>3.206650e-22</td>\n      <td>4.185804e-01</td>\n      <td>2020-05-05</td>\n      <td>Essen</td>\n    </tr>\n    <tr>\n      <th>33260</th>\n      <td>12</td>\n      <td>57.440000</td>\n      <td>Other</td>\n      <td>-1.857143</td>\n      <td>15.671429</td>\n      <td>7.557143</td>\n      <td>1.061224</td>\n      <td>7.422783e-22</td>\n      <td>4.248281e-01</td>\n      <td>2020-06-02</td>\n      <td>Rhein-Sieg-Kreis</td>\n    </tr>\n    <tr>\n      <th>33549</th>\n      <td>16</td>\n      <td>63.390000</td>\n      <td>Other</td>\n      <td>-10.142857</td>\n      <td>20.885714</td>\n      <td>NaN</td>\n      <td>0.897959</td>\n      <td>4.943590e-21</td>\n      <td>1.880543e-02</td>\n      <td>2020-06-30</td>\n      <td>Solingen</td>\n    </tr>\n    <tr>\n      <th>9519</th>\n      <td>21</td>\n      <td>58.802857</td>\n      <td>Other</td>\n      <td>7.285714</td>\n      <td>19.628571</td>\n      <td>4.685714</td>\n      <td>2.357143</td>\n      <td>1.138159e-20</td>\n      <td>6.482662e-01</td>\n      <td>2020-08-04</td>\n      <td>Potsdam-Mittelmark</td>\n    </tr>\n    <tr>\n      <th>11600</th>\n      <td>12</td>\n      <td>57.440000</td>\n      <td>Other</td>\n      <td>6.428571</td>\n      <td>13.542857</td>\n      <td>7.914286</td>\n      <td>0.408163</td>\n      <td>4.656590e-20</td>\n      <td>1.931945e-02</td>\n      <td>2020-06-02</td>\n      <td>Neuburg-Schrobenhausen</td>\n    </tr>\n    <tr>\n      <th>...</th>\n      <td>...</td>\n      <td>...</td>\n      <td>...</td>\n      <td>...</td>\n      <td>...</td>\n      <td>...</td>\n      <td>...</td>\n      <td>...</td>\n      <td>...</td>\n      <td>...</td>\n      <td>...</td>\n    </tr>\n    <tr>\n      <th>20441</th>\n      <td>18</td>\n      <td>58.804286</td>\n      <td>Other</td>\n      <td>9.285714</td>\n      <td>13.657143</td>\n      <td>13.928571</td>\n      <td>0.938776</td>\n      <td>3.929966e+00</td>\n      <td>5.671122e-07</td>\n      <td>2020-07-14</td>\n      <td>Schwerin, Landeshauptstadt</td>\n    </tr>\n    <tr>\n      <th>10613</th>\n      <td>70</td>\n      <td>73.210000</td>\n      <td>B.1.617.2</td>\n      <td>19.000000</td>\n      <td>18.071429</td>\n      <td>9.442857</td>\n      <td>0.734694</td>\n      <td>4.097204e+00</td>\n      <td>4.810871e-07</td>\n      <td>2021-07-13</td>\n      <td>Saale-Holzland-Kreis</td>\n    </tr>\n    <tr>\n      <th>22773</th>\n      <td>70</td>\n      <td>73.210000</td>\n      <td>B.1.617.2</td>\n      <td>17.000000</td>\n      <td>17.714286</td>\n      <td>7.914286</td>\n      <td>0.795918</td>\n      <td>4.198941e+00</td>\n      <td>4.614146e-07</td>\n      <td>2021-07-13</td>\n      <td>Regen</td>\n    </tr>\n    <tr>\n      <th>17021</th>\n      <td>18</td>\n      <td>58.804286</td>\n      <td>Other</td>\n      <td>-4.714286</td>\n      <td>13.414286</td>\n      <td>NaN</td>\n      <td>2.448980</td>\n      <td>4.277427e+00</td>\n      <td>5.615672e-07</td>\n      <td>2020-07-14</td>\n      <td>Hof, Kreis</td>\n    </tr>\n    <tr>\n      <th>19259</th>\n      <td>71</td>\n      <td>73.210000</td>\n      <td>B.1.617.2</td>\n      <td>5.000000</td>\n      <td>19.200000</td>\n      <td>6.685714</td>\n      <td>1.204082</td>\n      <td>4.389233e+00</td>\n      <td>4.555814e-07</td>\n      <td>2021-07-20</td>\n      <td>Coburg, Kreis</td>\n    </tr>\n  </tbody>\n</table>\n<p>38000 rows × 11 columns</p>\n</div>"
     },
     "execution_count": 3,
     "metadata": {},
     "output_type": "execute_result"
    }
   ],
   "source": [
    "df.sort_values('beta')"
   ],
   "metadata": {
    "collapsed": false,
    "pycharm": {
     "name": "#%%\n"
    }
   }
  },
  {
   "cell_type": "markdown",
   "source": [
    "## 2) Visualize Data:\n",
    "#### 2.1) Average Infections (training period):"
   ],
   "metadata": {
    "collapsed": false,
    "pycharm": {
     "name": "#%% md\n"
    }
   }
  },
  {
   "cell_type": "code",
   "execution_count": 4,
   "outputs": [
    {
     "data": {
      "text/plain": "<Figure size 640x480 with 1 Axes>",
      "image/png": "[encoded data removed]"
     },
     "metadata": {},
     "output_type": "display_data"
    },
    {
     "data": {
      "text/plain": "<ggplot: (379155447)>"
     },
     "execution_count": 4,
     "metadata": {},
     "output_type": "execute_result"
    }
   ],
   "source": [
    "ggplot(df, aes(x='infections')) + geom_histogram(binwidth=5) + coord_cartesian(xlim=(0,300),ylim=(0,10000))"
   ],
   "metadata": {
    "collapsed": false,
    "pycharm": {
     "name": "#%%\n"
    }
   }
  },
  {
   "cell_type": "markdown",
   "source": [
    "#### 2.2) Fitted beta:"
   ],
   "metadata": {
    "collapsed": false,
    "pycharm": {
     "name": "#%% md\n"
    }
   },
   "execution_count": 50
  },
  {
   "cell_type": "code",
   "execution_count": 5,
   "outputs": [
    {
     "data": {
      "text/plain": "<Figure size 640x480 with 1 Axes>",
      "image/png": "[encoded data removed]"
     },
     "metadata": {},
     "output_type": "display_data"
    },
    {
     "data": {
      "text/plain": "<ggplot: (379120228)>"
     },
     "execution_count": 5,
     "metadata": {},
     "output_type": "execute_result"
    }
   ],
   "source": [
    "ggplot(df, aes(x='beta')) + geom_histogram(binwidth=0.025) + coord_cartesian(xlim=(0,2),ylim=(0,5000))"
   ],
   "metadata": {
    "collapsed": false,
    "pycharm": {
     "name": "#%%\n"
    }
   }
  },
  {
   "cell_type": "markdown",
   "source": [
    "#### 2.3) Average infections Münster"
   ],
   "metadata": {
    "collapsed": false,
    "pycharm": {
     "name": "#%% md\n"
    }
   }
  },
  {
   "cell_type": "code",
   "execution_count": 6,
   "outputs": [
    {
     "data": {
      "text/plain": "<Figure size 640x480 with 1 Axes>",
      "image/png": "[encoded data removed]"
     },
     "metadata": {},
     "output_type": "display_data"
    },
    {
     "data": {
      "text/plain": "<ggplot: (379263043)>"
     },
     "execution_count": 6,
     "metadata": {},
     "output_type": "execute_result"
    }
   ],
   "source": [
    "district = 'Münster'\n",
    "df_v2_3 = df[df['district']==district][['week','district','infections','beta']]\n",
    "\n",
    "# Devide both columns by their mean so that they fit in one plot:\n",
    "df_v2_3['infections'] = df_v2_3['infections']/df_v2_3['infections'].mean()\n",
    "df_v2_3['beta'] = df_v2_3['beta']/df_v2_3['beta'].mean()\n",
    "\n",
    "ggplot(df_v2_3) \\\n",
    "+ geom_line(aes(x='week', y='beta'), color='yellow')\\\n",
    "+ geom_line(aes(x='week', y='infections'), color='green', size=2)"
   ],
   "metadata": {
    "collapsed": false,
    "pycharm": {
     "name": "#%%\n"
    }
   }
  },
  {
   "cell_type": "markdown",
   "source": [
    "#### 2.4) Policy index vs infections: (Germany)"
   ],
   "metadata": {
    "collapsed": false,
    "pycharm": {
     "name": "#%% md\n"
    }
   }
  },
  {
   "cell_type": "code",
   "execution_count": 7,
   "outputs": [
    {
     "data": {
      "text/plain": "<Figure size 640x480 with 1 Axes>",
      "image/png": "[encoded data removed]"
     },
     "metadata": {},
     "output_type": "display_data"
    },
    {
     "data": {
      "text/plain": "<ggplot: (379322513)>"
     },
     "execution_count": 7,
     "metadata": {},
     "output_type": "execute_result"
    }
   ],
   "source": [
    "df_v2_4 = df.groupby('week').sum()\n",
    "\n",
    "# Devide both columns by their max so that they fit in one plot:\n",
    "df_v2_4['infections'] = df_v2_4['infections']/df_v2_4['infections'].max()\n",
    "df_v2_4['policy_index'] = df_v2_4['policy_index']/df_v2_4['policy_index'].max()\n",
    "\n",
    "ggplot(df_v2_4.reset_index())\\\n",
    "+ geom_line(aes(x='week', y='policy_index'), color='yellow')\\\n",
    "+ geom_line(aes(x='week', y='infections'), color='green', size=2)"
   ],
   "metadata": {
    "collapsed": false,
    "pycharm": {
     "name": "#%%\n"
    }
   }
  },
  {
   "cell_type": "markdown",
   "source": [
    "## 3) Feature Engineering:\n",
    "#### Lagged beta: (NO LONGER NECESSARY!)"
   ],
   "metadata": {
    "collapsed": false,
    "pycharm": {
     "name": "#%% md\n"
    }
   }
  },
  {
   "cell_type": "code",
   "execution_count": 8,
   "outputs": [],
   "source": [
    "# Sort values by district and week before lagging:\n",
    "df.sort_values(['district','week'], inplace=True)"
   ],
   "metadata": {
    "collapsed": false,
    "pycharm": {
     "name": "#%%\n"
    }
   }
  },
  {
   "cell_type": "code",
   "execution_count": 9,
   "outputs": [
    {
     "data": {
      "text/plain": "-0.04946080063633077"
     },
     "execution_count": 9,
     "metadata": {},
     "output_type": "execute_result"
    }
   ],
   "source": [
    "# Check out correlation between current and previous weeks beta:\n",
    "df['beta'].corr(df['beta_t_minus_1'] )"
   ],
   "metadata": {
    "collapsed": false,
    "pycharm": {
     "name": "#%%\n"
    }
   }
  },
  {
   "cell_type": "markdown",
   "source": [
    "## 4) Data cleaning:\n",
    "#### Identify missing values:"
   ],
   "metadata": {
    "collapsed": false,
    "pycharm": {
     "name": "#%% md\n"
    }
   },
   "outputs": [
    {
     "data": {
      "text/plain": "week                  0\npolicy_index          0\nvariant               0\nmobility              0\ntemperature         243\nwind               3827\ninfections            0\nbeta                  0\ndistrict              0\nbeta_lag_1_week       0\nbeta_lag_2_week       0\nbeta_lag_3_week       0\ndtype: int64"
     },
     "execution_count": 77,
     "metadata": {},
     "output_type": "execute_result"
    }
   ],
   "execution_count": 77
  },
  {
   "cell_type": "code",
   "execution_count": 10,
   "outputs": [
    {
     "data": {
      "text/plain": "week                         0\npolicy_index                 0\nvariant                      0\nmobility                     0\ntemperature                243\nwind                      3827\ninfections                   0\nbeta                         0\nbeta_t_minus_1               0\nstart_date_forecasting       0\ndistrict                     0\ndtype: int64"
     },
     "execution_count": 10,
     "metadata": {},
     "output_type": "execute_result"
    }
   ],
   "source": [
    "df.isnull().sum()"
   ],
   "metadata": {
    "collapsed": false,
    "pycharm": {
     "name": "#%%\n"
    }
   }
  },
  {
   "cell_type": "markdown",
   "source": [
    "#### Fill missing values with previous column:\n",
    "Forward fill: Fill down (-> if missing value in week 50 use value of week 49)"
   ],
   "metadata": {
    "collapsed": false,
    "pycharm": {
     "name": "#%% md\n"
    }
   }
  },
  {
   "cell_type": "code",
   "execution_count": 11,
   "outputs": [],
   "source": [
    "df_v4 = df.copy()"
   ],
   "metadata": {
    "collapsed": false,
    "pycharm": {
     "name": "#%%\n"
    }
   }
  },
  {
   "cell_type": "code",
   "execution_count": 12,
   "outputs": [
    {
     "name": "stderr",
     "output_type": "stream",
     "text": [
      "/var/folders/f9/_57rk_kx5jqbkd8vvnwckf2c0000gn/T/ipykernel_41267/1409488165.py:1: FutureWarning: Dropping invalid columns in DataFrameGroupBy.transform is deprecated. In a future version, a TypeError will be raised. Before calling .transform, select only columns which should be valid for the transforming function.\n",
      "/var/folders/f9/_57rk_kx5jqbkd8vvnwckf2c0000gn/T/ipykernel_41267/1409488165.py:2: FutureWarning: Dropping invalid columns in DataFrameGroupBy.transform is deprecated. In a future version, a TypeError will be raised. Before calling .transform, select only columns which should be valid for the transforming function.\n"
     ]
    }
   ],
   "source": [
    "df_v4['temperature'] = df.groupby(\"week\").transform(lambda x: x.fillna(x.mean()))['temperature']\n",
    "df_v4['wind'] = df.groupby(\"week\").transform(lambda x: x.fillna(x.mean()))['wind']"
   ],
   "metadata": {
    "collapsed": false,
    "pycharm": {
     "name": "#%%\n"
    }
   }
  },
  {
   "cell_type": "code",
   "execution_count": 13,
   "outputs": [
    {
     "data": {
      "text/plain": "       week  policy_index    variant   mobility  temperature       wind  \\\n11400     2     46.258571      Other -29.857143     8.400000  16.342857   \n11401     3     62.500000      Other -41.714286     5.171429  15.042316   \n11402     4     63.778571      Other -34.428571     5.914286  11.157143   \n11403     5     65.180000      Other -29.285714    15.071429  10.571429   \n11404     6     65.180000      Other -32.857143    11.085714  11.071429   \n...     ...           ...        ...        ...          ...        ...   \n4080     92     83.930000  B.1.617.2  -2.571429     0.428571   8.528571   \n4081     93     83.930000  B.1.617.2  -1.000000     4.842857  10.485714   \n4082     94     83.930000  B.1.617.2  -4.285714    -1.200000  10.700000   \n4083     95     83.930000  B.1.1.529 -15.714286     7.871429  16.885714   \n4084     96     83.930000  B.1.1.529  -1.571429     2.714286  16.814286   \n\n       infections      beta  beta_t_minus_1 start_date_forecasting district  \n11400   56.214286  0.317049        0.593156             2020-03-24   Aachen  \n11401   51.448980  0.297109        0.319949             2020-03-31   Aachen  \n11402   34.714286  0.198582        0.345324             2020-04-07   Aachen  \n11403   23.693878  0.228998        0.210615             2020-04-14   Aachen  \n11404   15.510204  0.221865        0.217996             2020-04-21   Aachen  \n...           ...       ...             ...                    ...      ...  \n4080   287.969388  0.318062        0.356566             2021-12-14  Zwickau  \n4081   190.122449  0.283989        0.344724             2021-12-21  Zwickau  \n4082   138.816327  0.341186        0.277870             2021-12-28  Zwickau  \n4083   103.153061  0.326760        0.343163             2022-01-04  Zwickau  \n4084   102.102041  0.413663        0.342577             2022-01-11  Zwickau  \n\n[38000 rows x 11 columns]",
      "text/html": "<div>\n<style scoped>\n    .dataframe tbody tr th:only-of-type {\n        vertical-align: middle;\n    }\n\n    .dataframe tbody tr th {\n        vertical-align: top;\n    }\n\n    .dataframe thead th {\n        text-align: right;\n    }\n</style>\n<table border=\"1\" class=\"dataframe\">\n  <thead>\n    <tr style=\"text-align: right;\">\n      <th></th>\n      <th>week</th>\n      <th>policy_index</th>\n      <th>variant</th>\n      <th>mobility</th>\n      <th>temperature</th>\n      <th>wind</th>\n      <th>infections</th>\n      <th>beta</th>\n      <th>beta_t_minus_1</th>\n      <th>start_date_forecasting</th>\n      <th>district</th>\n    </tr>\n  </thead>\n  <tbody>\n    <tr>\n      <th>11400</th>\n      <td>2</td>\n      <td>46.258571</td>\n      <td>Other</td>\n      <td>-29.857143</td>\n      <td>8.400000</td>\n      <td>16.342857</td>\n      <td>56.214286</td>\n      <td>0.317049</td>\n      <td>0.593156</td>\n      <td>2020-03-24</td>\n      <td>Aachen</td>\n    </tr>\n    <tr>\n      <th>11401</th>\n      <td>3</td>\n      <td>62.500000</td>\n      <td>Other</td>\n      <td>-41.714286</td>\n      <td>5.171429</td>\n      <td>15.042316</td>\n      <td>51.448980</td>\n      <td>0.297109</td>\n      <td>0.319949</td>\n      <td>2020-03-31</td>\n      <td>Aachen</td>\n    </tr>\n    <tr>\n      <th>11402</th>\n      <td>4</td>\n      <td>63.778571</td>\n      <td>Other</td>\n      <td>-34.428571</td>\n      <td>5.914286</td>\n      <td>11.157143</td>\n      <td>34.714286</td>\n      <td>0.198582</td>\n      <td>0.345324</td>\n      <td>2020-04-07</td>\n      <td>Aachen</td>\n    </tr>\n    <tr>\n      <th>11403</th>\n      <td>5</td>\n      <td>65.180000</td>\n      <td>Other</td>\n      <td>-29.285714</td>\n      <td>15.071429</td>\n      <td>10.571429</td>\n      <td>23.693878</td>\n      <td>0.228998</td>\n      <td>0.210615</td>\n      <td>2020-04-14</td>\n      <td>Aachen</td>\n    </tr>\n    <tr>\n      <th>11404</th>\n      <td>6</td>\n      <td>65.180000</td>\n      <td>Other</td>\n      <td>-32.857143</td>\n      <td>11.085714</td>\n      <td>11.071429</td>\n      <td>15.510204</td>\n      <td>0.221865</td>\n      <td>0.217996</td>\n      <td>2020-04-21</td>\n      <td>Aachen</td>\n    </tr>\n    <tr>\n      <th>...</th>\n      <td>...</td>\n      <td>...</td>\n      <td>...</td>\n      <td>...</td>\n      <td>...</td>\n      <td>...</td>\n      <td>...</td>\n      <td>...</td>\n      <td>...</td>\n      <td>...</td>\n      <td>...</td>\n    </tr>\n    <tr>\n      <th>4080</th>\n      <td>92</td>\n      <td>83.930000</td>\n      <td>B.1.617.2</td>\n      <td>-2.571429</td>\n      <td>0.428571</td>\n      <td>8.528571</td>\n      <td>287.969388</td>\n      <td>0.318062</td>\n      <td>0.356566</td>\n      <td>2021-12-14</td>\n      <td>Zwickau</td>\n    </tr>\n    <tr>\n      <th>4081</th>\n      <td>93</td>\n      <td>83.930000</td>\n      <td>B.1.617.2</td>\n      <td>-1.000000</td>\n      <td>4.842857</td>\n      <td>10.485714</td>\n      <td>190.122449</td>\n      <td>0.283989</td>\n      <td>0.344724</td>\n      <td>2021-12-21</td>\n      <td>Zwickau</td>\n    </tr>\n    <tr>\n      <th>4082</th>\n      <td>94</td>\n      <td>83.930000</td>\n      <td>B.1.617.2</td>\n      <td>-4.285714</td>\n      <td>-1.200000</td>\n      <td>10.700000</td>\n      <td>138.816327</td>\n      <td>0.341186</td>\n      <td>0.277870</td>\n      <td>2021-12-28</td>\n      <td>Zwickau</td>\n    </tr>\n    <tr>\n      <th>4083</th>\n      <td>95</td>\n      <td>83.930000</td>\n      <td>B.1.1.529</td>\n      <td>-15.714286</td>\n      <td>7.871429</td>\n      <td>16.885714</td>\n      <td>103.153061</td>\n      <td>0.326760</td>\n      <td>0.343163</td>\n      <td>2022-01-04</td>\n      <td>Zwickau</td>\n    </tr>\n    <tr>\n      <th>4084</th>\n      <td>96</td>\n      <td>83.930000</td>\n      <td>B.1.1.529</td>\n      <td>-1.571429</td>\n      <td>2.714286</td>\n      <td>16.814286</td>\n      <td>102.102041</td>\n      <td>0.413663</td>\n      <td>0.342577</td>\n      <td>2022-01-11</td>\n      <td>Zwickau</td>\n    </tr>\n  </tbody>\n</table>\n<p>38000 rows × 11 columns</p>\n</div>"
     },
     "execution_count": 13,
     "metadata": {},
     "output_type": "execute_result"
    }
   ],
   "source": [
    "df_v4"
   ],
   "metadata": {
    "collapsed": false,
    "pycharm": {
     "name": "#%%\n"
    }
   }
  },
  {
   "cell_type": "markdown",
   "source": [
    "## 5) Outlier removal:\n"
   ],
   "metadata": {
    "collapsed": false
   }
  },
  {
   "cell_type": "code",
   "execution_count": 14,
   "outputs": [],
   "source": [
    "# Identify outliers:"
   ],
   "metadata": {
    "collapsed": false,
    "pycharm": {
     "name": "#%%\n"
    }
   }
  },
  {
   "cell_type": "code",
   "execution_count": 15,
   "outputs": [
    {
     "data": {
      "text/plain": "       week  policy_index    variant   mobility  temperature       wind  \\\n14389    46     70.710000      Other  -0.142857     2.742857  18.042857   \n25501    43     73.690000      Other -28.857143     2.228571  11.771429   \n32059    46     70.710000      Other -25.714286     3.071429  16.442857   \n21511    43     73.690000      Other -23.000000    -2.485714   5.785714   \n11224    16     63.390000      Other -14.714286    21.171429   9.714286   \n...     ...           ...        ...        ...          ...        ...   \n3414     91     81.761429  B.1.617.2   4.000000     2.657143  15.685714   \n20074    31     54.460000      Other  21.285714    10.400000  13.555102   \n29260     2     46.258571      Other -21.000000     6.371429   9.557143   \n7439     31     54.460000      Other  12.142857     9.728571  10.114286   \n27758    20     58.040000      Other   4.714286    19.342857   6.557143   \n\n       infections      beta  beta_t_minus_1 start_date_forecasting  \\\n14389   37.357143  0.321769        0.121853             2021-01-26   \n25501   88.224490  0.448059        0.133374             2021-01-05   \n32059   22.653061  0.177563        0.135390             2021-01-26   \n21511   22.581633  0.430256        0.144703             2021-01-05   \n11224   24.653061  0.123700        0.147413             2020-06-30   \n...           ...       ...             ...                    ...   \n3414   297.683673  0.410829        0.885379             2021-12-07   \n20074   20.265306  0.354283        0.984769             2020-10-13   \n29260   24.755102  0.611139        1.050508             2020-03-24   \n7439    32.959184  0.550973        1.078371             2020-10-13   \n27758   26.408163  0.257931        1.299742             2020-07-28   \n\n                          district  \n14389             Mansfeld-Südharz  \n25501  Regionalverband Saarbrücken  \n32059                      Potsdam  \n21511                   Oberallgäu  \n11224                    Gütersloh  \n...                            ...  \n3414                         Börde  \n20074      Eifelkreis Bitburg-Prüm  \n29260        Neustadt a.d.Waldnaab  \n7439          Berchtesgadener Land  \n27758            Dingolfing-Landau  \n\n[13994 rows x 11 columns]",
      "text/html": "<div>\n<style scoped>\n    .dataframe tbody tr th:only-of-type {\n        vertical-align: middle;\n    }\n\n    .dataframe tbody tr th {\n        vertical-align: top;\n    }\n\n    .dataframe thead th {\n        text-align: right;\n    }\n</style>\n<table border=\"1\" class=\"dataframe\">\n  <thead>\n    <tr style=\"text-align: right;\">\n      <th></th>\n      <th>week</th>\n      <th>policy_index</th>\n      <th>variant</th>\n      <th>mobility</th>\n      <th>temperature</th>\n      <th>wind</th>\n      <th>infections</th>\n      <th>beta</th>\n      <th>beta_t_minus_1</th>\n      <th>start_date_forecasting</th>\n      <th>district</th>\n    </tr>\n  </thead>\n  <tbody>\n    <tr>\n      <th>14389</th>\n      <td>46</td>\n      <td>70.710000</td>\n      <td>Other</td>\n      <td>-0.142857</td>\n      <td>2.742857</td>\n      <td>18.042857</td>\n      <td>37.357143</td>\n      <td>0.321769</td>\n      <td>0.121853</td>\n      <td>2021-01-26</td>\n      <td>Mansfeld-Südharz</td>\n    </tr>\n    <tr>\n      <th>25501</th>\n      <td>43</td>\n      <td>73.690000</td>\n      <td>Other</td>\n      <td>-28.857143</td>\n      <td>2.228571</td>\n      <td>11.771429</td>\n      <td>88.224490</td>\n      <td>0.448059</td>\n      <td>0.133374</td>\n      <td>2021-01-05</td>\n      <td>Regionalverband Saarbrücken</td>\n    </tr>\n    <tr>\n      <th>32059</th>\n      <td>46</td>\n      <td>70.710000</td>\n      <td>Other</td>\n      <td>-25.714286</td>\n      <td>3.071429</td>\n      <td>16.442857</td>\n      <td>22.653061</td>\n      <td>0.177563</td>\n      <td>0.135390</td>\n      <td>2021-01-26</td>\n      <td>Potsdam</td>\n    </tr>\n    <tr>\n      <th>21511</th>\n      <td>43</td>\n      <td>73.690000</td>\n      <td>Other</td>\n      <td>-23.000000</td>\n      <td>-2.485714</td>\n      <td>5.785714</td>\n      <td>22.581633</td>\n      <td>0.430256</td>\n      <td>0.144703</td>\n      <td>2021-01-05</td>\n      <td>Oberallgäu</td>\n    </tr>\n    <tr>\n      <th>11224</th>\n      <td>16</td>\n      <td>63.390000</td>\n      <td>Other</td>\n      <td>-14.714286</td>\n      <td>21.171429</td>\n      <td>9.714286</td>\n      <td>24.653061</td>\n      <td>0.123700</td>\n      <td>0.147413</td>\n      <td>2020-06-30</td>\n      <td>Gütersloh</td>\n    </tr>\n    <tr>\n      <th>...</th>\n      <td>...</td>\n      <td>...</td>\n      <td>...</td>\n      <td>...</td>\n      <td>...</td>\n      <td>...</td>\n      <td>...</td>\n      <td>...</td>\n      <td>...</td>\n      <td>...</td>\n      <td>...</td>\n    </tr>\n    <tr>\n      <th>3414</th>\n      <td>91</td>\n      <td>81.761429</td>\n      <td>B.1.617.2</td>\n      <td>4.000000</td>\n      <td>2.657143</td>\n      <td>15.685714</td>\n      <td>297.683673</td>\n      <td>0.410829</td>\n      <td>0.885379</td>\n      <td>2021-12-07</td>\n      <td>Börde</td>\n    </tr>\n    <tr>\n      <th>20074</th>\n      <td>31</td>\n      <td>54.460000</td>\n      <td>Other</td>\n      <td>21.285714</td>\n      <td>10.400000</td>\n      <td>13.555102</td>\n      <td>20.265306</td>\n      <td>0.354283</td>\n      <td>0.984769</td>\n      <td>2020-10-13</td>\n      <td>Eifelkreis Bitburg-Prüm</td>\n    </tr>\n    <tr>\n      <th>29260</th>\n      <td>2</td>\n      <td>46.258571</td>\n      <td>Other</td>\n      <td>-21.000000</td>\n      <td>6.371429</td>\n      <td>9.557143</td>\n      <td>24.755102</td>\n      <td>0.611139</td>\n      <td>1.050508</td>\n      <td>2020-03-24</td>\n      <td>Neustadt a.d.Waldnaab</td>\n    </tr>\n    <tr>\n      <th>7439</th>\n      <td>31</td>\n      <td>54.460000</td>\n      <td>Other</td>\n      <td>12.142857</td>\n      <td>9.728571</td>\n      <td>10.114286</td>\n      <td>32.959184</td>\n      <td>0.550973</td>\n      <td>1.078371</td>\n      <td>2020-10-13</td>\n      <td>Berchtesgadener Land</td>\n    </tr>\n    <tr>\n      <th>27758</th>\n      <td>20</td>\n      <td>58.040000</td>\n      <td>Other</td>\n      <td>4.714286</td>\n      <td>19.342857</td>\n      <td>6.557143</td>\n      <td>26.408163</td>\n      <td>0.257931</td>\n      <td>1.299742</td>\n      <td>2020-07-28</td>\n      <td>Dingolfing-Landau</td>\n    </tr>\n  </tbody>\n</table>\n<p>13994 rows × 11 columns</p>\n</div>"
     },
     "execution_count": 15,
     "metadata": {},
     "output_type": "execute_result"
    }
   ],
   "source": [
    "df_v4[df_v4['infections'] > 20].sort_values('beta_t_minus_1', ascending=True)"
   ],
   "metadata": {
    "collapsed": false,
    "pycharm": {
     "name": "#%%\n"
    }
   }
  },
  {
   "cell_type": "markdown",
   "source": [
    "#### 5.1) Infection counts:\n",
    "Remove weeks in which the average number of daily infections where below a threshold as for extremely low values it is really hard to forecast beta:"
   ],
   "metadata": {
    "collapsed": false,
    "pycharm": {
     "name": "#%% md\n"
    }
   }
  },
  {
   "cell_type": "code",
   "execution_count": 16,
   "outputs": [],
   "source": [
    "# Drop all rows in which average number of infections is below 5:\n",
    "threshold = 20\n",
    "df_v5_1 = df_v4[df_v4['infections'] > threshold]"
   ],
   "metadata": {
    "collapsed": false,
    "pycharm": {
     "name": "#%%\n"
    }
   }
  },
  {
   "cell_type": "markdown",
   "source": [
    "#### 5.2) Beta values:"
   ],
   "metadata": {
    "collapsed": false
   }
  },
  {
   "cell_type": "code",
   "execution_count": 17,
   "outputs": [],
   "source": [
    "# Drop all rows in which the beta value is < 0.025:\n",
    "threshold = 0.025\n",
    "df_v5_2 = df_v5_1[df_v5_1['beta'] > threshold]"
   ],
   "metadata": {
    "collapsed": false,
    "pycharm": {
     "name": "#%%\n"
    }
   }
  },
  {
   "cell_type": "code",
   "execution_count": 18,
   "outputs": [
    {
     "data": {
      "text/plain": "0.46299469609533317"
     },
     "execution_count": 18,
     "metadata": {},
     "output_type": "execute_result"
    }
   ],
   "source": [
    "# correlation:\n",
    "df_v5_2['beta'].corr(df_v5_2['beta_t_minus_1'] )"
   ],
   "metadata": {
    "collapsed": false,
    "pycharm": {
     "name": "#%%\n"
    }
   }
  },
  {
   "cell_type": "markdown",
   "source": [
    "## 6) Preprocessing columns:\n"
   ],
   "metadata": {
    "collapsed": false,
    "pycharm": {
     "name": "#%% md\n"
    }
   }
  },
  {
   "cell_type": "markdown",
   "source": [
    "#### 6.1) Handling categorical columns:"
   ],
   "metadata": {
    "collapsed": false,
    "pycharm": {
     "name": "#%% md\n"
    }
   }
  },
  {
   "cell_type": "code",
   "execution_count": 19,
   "outputs": [],
   "source": [
    "# Only use week and district as index columns:\n",
    "df_v6_1 = df_v5_2.set_index(['week','district','start_date_forecasting'])"
   ],
   "metadata": {
    "collapsed": false,
    "pycharm": {
     "name": "#%%\n"
    }
   }
  },
  {
   "cell_type": "code",
   "execution_count": 20,
   "outputs": [],
   "source": [
    "# One hot-encode variant columns:\n",
    "df_v6_2_a = pd.get_dummies(df_v6_1['variant'])\n",
    "df_v6_2_b = df_v6_1.drop(columns='variant', axis=1)\n",
    "\n",
    "df_v6_2_c = pd.concat([df_v6_2_a,df_v6_2_b], axis=1)"
   ],
   "metadata": {
    "collapsed": false,
    "pycharm": {
     "name": "#%%\n"
    }
   }
  },
  {
   "cell_type": "code",
   "execution_count": 21,
   "outputs": [],
   "source": [
    "# Drop \"other\" variant column to prevent dummy variable trap:\n",
    "df_v6_2_d = df_v6_2_c.drop(columns='Other', axis=1)"
   ],
   "metadata": {
    "collapsed": false,
    "pycharm": {
     "name": "#%%\n"
    }
   }
  },
  {
   "cell_type": "markdown",
   "source": [
    "#### 6.2) Standardizing:"
   ],
   "metadata": {
    "collapsed": false,
    "pycharm": {
     "name": "#%% md\n"
    }
   }
  },
  {
   "cell_type": "code",
   "source": [
    "# Standardize:\n",
    "scaler_obj = StandardScaler()\n",
    "\n",
    "# Split explanatory columns from beta:\n",
    "explanatory_cols = df_v6_2_d.drop(columns=['beta'], axis=1)\n",
    "beta_cols = df_v6_2_d[['beta']]\n",
    "\n",
    "# Apply scaling:\n",
    "scaled_explanatory_cols = pd.DataFrame(scaler_obj.fit_transform(explanatory_cols), index=explanatory_cols.index, columns=explanatory_cols.columns)\n",
    "\n",
    "# Merge both together again:\n",
    "df_v6_3 = pd.concat([scaled_explanatory_cols, beta_cols], axis=1)"
   ],
   "metadata": {
    "collapsed": false,
    "pycharm": {
     "name": "#%%\n"
    }
   },
   "execution_count": 22,
   "outputs": []
  },
  {
   "cell_type": "markdown",
   "source": [
    "## 7) Modeling\n",
    "### 7.1) Preparation\n",
    "#### 7.1.1) Split into train/val:"
   ],
   "metadata": {
    "collapsed": false,
    "pycharm": {
     "name": "#%% md\n"
    }
   }
  },
  {
   "cell_type": "code",
   "source": [
    "df_full = df_v6_3\n",
    "df_full"
   ],
   "metadata": {
    "collapsed": false,
    "pycharm": {
     "name": "#%%\n"
    }
   },
   "execution_count": 23,
   "outputs": [
    {
     "data": {
      "text/plain": "                                      B.1.1.529   B.1.1.7  B.1.617.2  \\\nweek district start_date_forecasting                                   \n2    Aachen   2020-03-24              -0.243616 -0.635747  -0.782084   \n3    Aachen   2020-03-31              -0.243616 -0.635747  -0.782084   \n4    Aachen   2020-04-07              -0.243616 -0.635747  -0.782084   \n5    Aachen   2020-04-14              -0.243616 -0.635747  -0.782084   \n29   Aachen   2020-09-29              -0.243616 -0.635747  -0.782084   \n...                                         ...       ...        ...   \n92   Zwickau  2021-12-14              -0.243616 -0.635747   1.278635   \n93   Zwickau  2021-12-21              -0.243616 -0.635747   1.278635   \n94   Zwickau  2021-12-28              -0.243616 -0.635747   1.278635   \n95   Zwickau  2022-01-04               4.104813 -0.635747  -0.782084   \n96   Zwickau  2022-01-11               4.104813 -0.635747  -0.782084   \n\n                                      policy_index  mobility  temperature  \\\nweek district start_date_forecasting                                        \n2    Aachen   2020-03-24                 -2.522486 -1.813104     0.444563   \n3    Aachen   2020-03-31                 -0.675429 -2.643120    -0.210696   \n4    Aachen   2020-04-07                 -0.530024 -2.133110    -0.059928   \n5    Aachen   2020-04-14                 -0.370647 -1.773103     1.798572   \n29   Aachen   2020-09-29                 -1.589778  0.366940     1.613012   \n...                                            ...       ...          ...   \n92   Zwickau  2021-12-14                  1.761697  0.096934    -1.173288   \n93   Zwickau  2021-12-21                  1.761697  0.206936    -0.277381   \n94   Zwickau  2021-12-28                  1.761697 -0.023068    -1.503817   \n95   Zwickau  2022-01-04                  1.761697 -0.823084     0.337286   \n96   Zwickau  2022-01-11                  1.761697  0.166936    -0.709388   \n\n                                          wind  infections  beta_t_minus_1  \\\nweek district start_date_forecasting                                         \n2    Aachen   2020-03-24              1.244166   -0.141755        2.134192   \n3    Aachen   2020-03-31              0.906138   -0.179311       -0.684498   \n4    Aachen   2020-04-07             -0.103671   -0.311199       -0.422703   \n5    Aachen   2020-04-14             -0.255906   -0.398051       -1.812507   \n29   Aachen   2020-09-29              0.806026   -0.358887       -0.438264   \n...                                        ...         ...             ...   \n92   Zwickau  2021-12-14             -0.786872    1.684726       -0.306718   \n93   Zwickau  2021-12-21             -0.278184    0.913586       -0.428888   \n94   Zwickau  2021-12-28             -0.222489    0.509238       -1.118625   \n95   Zwickau  2022-01-04              1.385262    0.228173       -0.445001   \n96   Zwickau  2022-01-11              1.366697    0.219890       -0.451041   \n\n                                          beta  \nweek district start_date_forecasting            \n2    Aachen   2020-03-24              0.317049  \n3    Aachen   2020-03-31              0.297109  \n4    Aachen   2020-04-07              0.198582  \n5    Aachen   2020-04-14              0.228998  \n29   Aachen   2020-09-29              0.416920  \n...                                        ...  \n92   Zwickau  2021-12-14              0.318062  \n93   Zwickau  2021-12-21              0.283989  \n94   Zwickau  2021-12-28              0.341186  \n95   Zwickau  2022-01-04              0.326760  \n96   Zwickau  2022-01-11              0.413663  \n\n[13994 rows x 10 columns]",
      "text/html": "<div>\n<style scoped>\n    .dataframe tbody tr th:only-of-type {\n        vertical-align: middle;\n    }\n\n    .dataframe tbody tr th {\n        vertical-align: top;\n    }\n\n    .dataframe thead th {\n        text-align: right;\n    }\n</style>\n<table border=\"1\" class=\"dataframe\">\n  <thead>\n    <tr style=\"text-align: right;\">\n      <th></th>\n      <th></th>\n      <th></th>\n      <th>B.1.1.529</th>\n      <th>B.1.1.7</th>\n      <th>B.1.617.2</th>\n      <th>policy_index</th>\n      <th>mobility</th>\n      <th>temperature</th>\n      <th>wind</th>\n      <th>infections</th>\n      <th>beta_t_minus_1</th>\n      <th>beta</th>\n    </tr>\n    <tr>\n      <th>week</th>\n      <th>district</th>\n      <th>start_date_forecasting</th>\n      <th></th>\n      <th></th>\n      <th></th>\n      <th></th>\n      <th></th>\n      <th></th>\n      <th></th>\n      <th></th>\n      <th></th>\n      <th></th>\n    </tr>\n  </thead>\n  <tbody>\n    <tr>\n      <th>2</th>\n      <th>Aachen</th>\n      <th>2020-03-24</th>\n      <td>-0.243616</td>\n      <td>-0.635747</td>\n      <td>-0.782084</td>\n      <td>-2.522486</td>\n      <td>-1.813104</td>\n      <td>0.444563</td>\n      <td>1.244166</td>\n      <td>-0.141755</td>\n      <td>2.134192</td>\n      <td>0.317049</td>\n    </tr>\n    <tr>\n      <th>3</th>\n      <th>Aachen</th>\n      <th>2020-03-31</th>\n      <td>-0.243616</td>\n      <td>-0.635747</td>\n      <td>-0.782084</td>\n      <td>-0.675429</td>\n      <td>-2.643120</td>\n      <td>-0.210696</td>\n      <td>0.906138</td>\n      <td>-0.179311</td>\n      <td>-0.684498</td>\n      <td>0.297109</td>\n    </tr>\n    <tr>\n      <th>4</th>\n      <th>Aachen</th>\n      <th>2020-04-07</th>\n      <td>-0.243616</td>\n      <td>-0.635747</td>\n      <td>-0.782084</td>\n      <td>-0.530024</td>\n      <td>-2.133110</td>\n      <td>-0.059928</td>\n      <td>-0.103671</td>\n      <td>-0.311199</td>\n      <td>-0.422703</td>\n      <td>0.198582</td>\n    </tr>\n    <tr>\n      <th>5</th>\n      <th>Aachen</th>\n      <th>2020-04-14</th>\n      <td>-0.243616</td>\n      <td>-0.635747</td>\n      <td>-0.782084</td>\n      <td>-0.370647</td>\n      <td>-1.773103</td>\n      <td>1.798572</td>\n      <td>-0.255906</td>\n      <td>-0.398051</td>\n      <td>-1.812507</td>\n      <td>0.228998</td>\n    </tr>\n    <tr>\n      <th>29</th>\n      <th>Aachen</th>\n      <th>2020-09-29</th>\n      <td>-0.243616</td>\n      <td>-0.635747</td>\n      <td>-0.782084</td>\n      <td>-1.589778</td>\n      <td>0.366940</td>\n      <td>1.613012</td>\n      <td>0.806026</td>\n      <td>-0.358887</td>\n      <td>-0.438264</td>\n      <td>0.416920</td>\n    </tr>\n    <tr>\n      <th>...</th>\n      <th>...</th>\n      <th>...</th>\n      <td>...</td>\n      <td>...</td>\n      <td>...</td>\n      <td>...</td>\n      <td>...</td>\n      <td>...</td>\n      <td>...</td>\n      <td>...</td>\n      <td>...</td>\n      <td>...</td>\n    </tr>\n    <tr>\n      <th>92</th>\n      <th>Zwickau</th>\n      <th>2021-12-14</th>\n      <td>-0.243616</td>\n      <td>-0.635747</td>\n      <td>1.278635</td>\n      <td>1.761697</td>\n      <td>0.096934</td>\n      <td>-1.173288</td>\n      <td>-0.786872</td>\n      <td>1.684726</td>\n      <td>-0.306718</td>\n      <td>0.318062</td>\n    </tr>\n    <tr>\n      <th>93</th>\n      <th>Zwickau</th>\n      <th>2021-12-21</th>\n      <td>-0.243616</td>\n      <td>-0.635747</td>\n      <td>1.278635</td>\n      <td>1.761697</td>\n      <td>0.206936</td>\n      <td>-0.277381</td>\n      <td>-0.278184</td>\n      <td>0.913586</td>\n      <td>-0.428888</td>\n      <td>0.283989</td>\n    </tr>\n    <tr>\n      <th>94</th>\n      <th>Zwickau</th>\n      <th>2021-12-28</th>\n      <td>-0.243616</td>\n      <td>-0.635747</td>\n      <td>1.278635</td>\n      <td>1.761697</td>\n      <td>-0.023068</td>\n      <td>-1.503817</td>\n      <td>-0.222489</td>\n      <td>0.509238</td>\n      <td>-1.118625</td>\n      <td>0.341186</td>\n    </tr>\n    <tr>\n      <th>95</th>\n      <th>Zwickau</th>\n      <th>2022-01-04</th>\n      <td>4.104813</td>\n      <td>-0.635747</td>\n      <td>-0.782084</td>\n      <td>1.761697</td>\n      <td>-0.823084</td>\n      <td>0.337286</td>\n      <td>1.385262</td>\n      <td>0.228173</td>\n      <td>-0.445001</td>\n      <td>0.326760</td>\n    </tr>\n    <tr>\n      <th>96</th>\n      <th>Zwickau</th>\n      <th>2022-01-11</th>\n      <td>4.104813</td>\n      <td>-0.635747</td>\n      <td>-0.782084</td>\n      <td>1.761697</td>\n      <td>0.166936</td>\n      <td>-0.709388</td>\n      <td>1.366697</td>\n      <td>0.219890</td>\n      <td>-0.451041</td>\n      <td>0.413663</td>\n    </tr>\n  </tbody>\n</table>\n<p>13994 rows × 10 columns</p>\n</div>"
     },
     "execution_count": 23,
     "metadata": {},
     "output_type": "execute_result"
    }
   ]
  },
  {
   "cell_type": "code",
   "execution_count": 24,
   "outputs": [],
   "source": [
    "# Sample 1500 row out of last weeks available for training:\n",
    "sample_size = 1000\n",
    "max_week = max(df_full.index.get_level_values('week'))\n",
    "last_weeks_idx = max_week-3\n",
    "\n",
    "random_indices = df_full[df_full.index.get_level_values('week') >= last_weeks_idx].sample(sample_size).index"
   ],
   "metadata": {
    "collapsed": false,
    "pycharm": {
     "name": "#%%\n"
    }
   }
  },
  {
   "cell_type": "code",
   "execution_count": 25,
   "outputs": [],
   "source": [
    "df_test = df_full.loc[df_full.index.isin(random_indices)]\n",
    "df_modeling = df_full.loc[~df_full.index.isin(random_indices)]"
   ],
   "metadata": {
    "collapsed": false,
    "pycharm": {
     "name": "#%%\n"
    }
   }
  },
  {
   "cell_type": "markdown",
   "source": [
    "#### 7.1.2) Split into train, val and test:"
   ],
   "metadata": {
    "collapsed": false,
    "pycharm": {
     "name": "#%% md\n"
    }
   }
  },
  {
   "cell_type": "code",
   "execution_count": 26,
   "outputs": [],
   "source": [
    "SEED = 420"
   ],
   "metadata": {
    "collapsed": false,
    "pycharm": {
     "name": "#%%\n"
    }
   }
  },
  {
   "cell_type": "code",
   "execution_count": 27,
   "outputs": [],
   "source": [
    "X_full_modeling = df_modeling.drop(columns=['beta'], axis=1)\n",
    "y_full_modeling = df_modeling['beta']\n",
    "\n",
    "X_test = df_test.drop(columns=['beta'], axis=1)\n",
    "y_test = df_test['beta']"
   ],
   "metadata": {
    "collapsed": false,
    "pycharm": {
     "name": "#%%\n"
    }
   }
  },
  {
   "cell_type": "code",
   "source": [
    "# Train and Val:\n",
    "X_train, X_val, y_train, y_val = train_test_split(X_full_modeling, y_full_modeling, shuffle=True, train_size=0.75, random_state=SEED)"
   ],
   "metadata": {
    "collapsed": false,
    "pycharm": {
     "name": "#%%\n"
    }
   },
   "execution_count": 28,
   "outputs": []
  },
  {
   "cell_type": "markdown",
   "source": [
    "### 7.2 Models\n",
    "#### 7.2.1) Baseline Approach: Choosing previous beta"
   ],
   "metadata": {
    "collapsed": false,
    "pycharm": {
     "name": "#%% md\n"
    }
   }
  },
  {
   "cell_type": "code",
   "execution_count": 29,
   "outputs": [],
   "source": [
    "# Baseline approach would be to use the beta from the previous week for the next week:\n",
    "## Therefore we have to compare how well this works, compared to our ML approach:\n",
    "\n",
    "# As the values are standardized we have to reverse standardize them first:\n",
    "y_pred_baseline_val = pd.DataFrame(scaler_obj.inverse_transform(X_val), index=X_val.index, columns=X_val.columns)['beta_t_minus_1']"
   ],
   "metadata": {
    "collapsed": false,
    "pycharm": {
     "name": "#%%\n"
    }
   }
  },
  {
   "cell_type": "code",
   "execution_count": 30,
   "outputs": [
    {
     "data": {
      "text/plain": "0.4768516218633458"
     },
     "execution_count": 30,
     "metadata": {},
     "output_type": "execute_result"
    }
   ],
   "source": [
    "# Correlation of this approach:\n",
    "y_pred_baseline_val.corr(y_val)"
   ],
   "metadata": {
    "collapsed": false,
    "pycharm": {
     "name": "#%%\n"
    }
   }
  },
  {
   "cell_type": "code",
   "execution_count": 31,
   "outputs": [
    {
     "data": {
      "text/plain": "                                                    y_val  y_pred_baseline\nweek district            start_date_forecasting                           \n92   Haßberge            2021-12-14              0.301009         0.329003\n84   Unna                2021-10-19              0.476553         0.382312\n89   Rhein-Kreis Neuss   2021-11-23              0.455361         0.467965\n56   Reutlingen          2021-04-06              0.343641         0.326057\n34   Aachen              2020-11-03              0.307538         0.356226\n...                                                   ...              ...\n56   Landkreis Rostock   2021-04-06              0.407446         0.291932\n86   Schweinfurt, Stadt  2021-11-02              0.372284         0.330626\n89   Offenbach           2021-11-23              0.304262         0.358072\n83   Offenbach           2021-10-12              0.335124         0.287489\n60   Waldeck-Frankenberg 2021-05-04              0.333117         0.307771\n\n[3249 rows x 2 columns]",
      "text/html": "<div>\n<style scoped>\n    .dataframe tbody tr th:only-of-type {\n        vertical-align: middle;\n    }\n\n    .dataframe tbody tr th {\n        vertical-align: top;\n    }\n\n    .dataframe thead th {\n        text-align: right;\n    }\n</style>\n<table border=\"1\" class=\"dataframe\">\n  <thead>\n    <tr style=\"text-align: right;\">\n      <th></th>\n      <th></th>\n      <th></th>\n      <th>y_val</th>\n      <th>y_pred_baseline</th>\n    </tr>\n    <tr>\n      <th>week</th>\n      <th>district</th>\n      <th>start_date_forecasting</th>\n      <th></th>\n      <th></th>\n    </tr>\n  </thead>\n  <tbody>\n    <tr>\n      <th>92</th>\n      <th>Haßberge</th>\n      <th>2021-12-14</th>\n      <td>0.301009</td>\n      <td>0.329003</td>\n    </tr>\n    <tr>\n      <th>84</th>\n      <th>Unna</th>\n      <th>2021-10-19</th>\n      <td>0.476553</td>\n      <td>0.382312</td>\n    </tr>\n    <tr>\n      <th>89</th>\n      <th>Rhein-Kreis Neuss</th>\n      <th>2021-11-23</th>\n      <td>0.455361</td>\n      <td>0.467965</td>\n    </tr>\n    <tr>\n      <th>56</th>\n      <th>Reutlingen</th>\n      <th>2021-04-06</th>\n      <td>0.343641</td>\n      <td>0.326057</td>\n    </tr>\n    <tr>\n      <th>34</th>\n      <th>Aachen</th>\n      <th>2020-11-03</th>\n      <td>0.307538</td>\n      <td>0.356226</td>\n    </tr>\n    <tr>\n      <th>...</th>\n      <th>...</th>\n      <th>...</th>\n      <td>...</td>\n      <td>...</td>\n    </tr>\n    <tr>\n      <th>56</th>\n      <th>Landkreis Rostock</th>\n      <th>2021-04-06</th>\n      <td>0.407446</td>\n      <td>0.291932</td>\n    </tr>\n    <tr>\n      <th>86</th>\n      <th>Schweinfurt, Stadt</th>\n      <th>2021-11-02</th>\n      <td>0.372284</td>\n      <td>0.330626</td>\n    </tr>\n    <tr>\n      <th>89</th>\n      <th>Offenbach</th>\n      <th>2021-11-23</th>\n      <td>0.304262</td>\n      <td>0.358072</td>\n    </tr>\n    <tr>\n      <th>83</th>\n      <th>Offenbach</th>\n      <th>2021-10-12</th>\n      <td>0.335124</td>\n      <td>0.287489</td>\n    </tr>\n    <tr>\n      <th>60</th>\n      <th>Waldeck-Frankenberg</th>\n      <th>2021-05-04</th>\n      <td>0.333117</td>\n      <td>0.307771</td>\n    </tr>\n  </tbody>\n</table>\n<p>3249 rows × 2 columns</p>\n</div>"
     },
     "execution_count": 31,
     "metadata": {},
     "output_type": "execute_result"
    }
   ],
   "source": [
    "pd.DataFrame({'y_val':y_val, 'y_pred_baseline':y_pred_baseline_val})"
   ],
   "metadata": {
    "collapsed": false,
    "pycharm": {
     "name": "#%%\n"
    }
   }
  },
  {
   "cell_type": "code",
   "execution_count": 32,
   "outputs": [
    {
     "name": "stdout",
     "output_type": "stream",
     "text": [
      "Baseline RMSE is: 0.09454531073325578\n"
     ]
    }
   ],
   "source": [
    "# Compute RMSE of baseline approach:\n",
    "rmse_baseline =  mean_squared_error(y_val, y_pred_baseline_val, squared=False)\n",
    "print(f'Baseline RMSE is: {rmse_baseline}')"
   ],
   "metadata": {
    "collapsed": false,
    "pycharm": {
     "name": "#%%\n"
    }
   }
  },
  {
   "cell_type": "markdown",
   "source": [
    "#### 7.2.2) Multivariate Linear Regression"
   ],
   "metadata": {
    "collapsed": false
   }
  },
  {
   "cell_type": "code",
   "execution_count": 33,
   "outputs": [],
   "source": [
    "regr = linear_model.LinearRegression()\n",
    "regr.fit(X_train, y_train)\n",
    "\n",
    "y_pred_linreg = regr.predict(X_val)\n",
    "rmse_linreg = mean_squared_error(y_val, y_pred_linreg, squared=False)"
   ],
   "metadata": {
    "collapsed": false,
    "pycharm": {
     "name": "#%%\n"
    }
   }
  },
  {
   "cell_type": "code",
   "execution_count": 34,
   "outputs": [
    {
     "name": "stdout",
     "output_type": "stream",
     "text": [
      "RMSE of LinearRegression() is: 0.06427056319229775. This is an improvement compared to the baseline approach of: 32.0214162988721 %\n"
     ]
    }
   ],
   "source": [
    "print(f'RMSE of {regr} is: {rmse_linreg}. This is an improvement compared to the baseline approach of: {-(rmse_linreg / rmse_baseline -1)*100} %')"
   ],
   "metadata": {
    "collapsed": false,
    "pycharm": {
     "name": "#%%\n"
    }
   }
  },
  {
   "cell_type": "markdown",
   "source": [
    "#### 7.2.3) Ridge Regression:"
   ],
   "metadata": {
    "collapsed": false,
    "pycharm": {
     "name": "#%% md\n"
    }
   }
  },
  {
   "cell_type": "code",
   "execution_count": 35,
   "outputs": [],
   "source": [
    "ridge_reg = linear_model.Ridge()\n",
    "ridge_reg.fit(X_train, y_train)\n",
    "\n",
    "y_pred_ridge_reg = ridge_reg.predict(X_val)\n",
    "rmse_ridge_reg = mean_squared_error(y_val, y_pred_ridge_reg, squared=False)"
   ],
   "metadata": {
    "collapsed": false,
    "pycharm": {
     "name": "#%%\n"
    }
   }
  },
  {
   "cell_type": "code",
   "execution_count": 36,
   "outputs": [
    {
     "name": "stdout",
     "output_type": "stream",
     "text": [
      "RMSE of Ridge() is: 0.06427015534374594. This is an improvement compared to the baseline approach of: 32.0218476778042 %\n"
     ]
    }
   ],
   "source": [
    "print(f'RMSE of {ridge_reg} is: {rmse_ridge_reg}. This is an improvement compared to the baseline approach of: {-(rmse_ridge_reg / rmse_baseline -1)*100} %')"
   ],
   "metadata": {
    "collapsed": false,
    "pycharm": {
     "name": "#%%\n"
    }
   }
  },
  {
   "cell_type": "markdown",
   "source": [
    "#### 7.2.4) Random Forest Regressor:"
   ],
   "metadata": {
    "collapsed": false,
    "pycharm": {
     "name": "#%% md\n"
    }
   }
  },
  {
   "cell_type": "code",
   "execution_count": 37,
   "outputs": [],
   "source": [
    "rfg_model = RandomForestRegressor()\n",
    "rfg_model.fit(X_train, y_train)\n",
    "\n",
    "y_pred_random_forest = rfg_model.predict(X_val)\n",
    "rmse_random_forest = mean_squared_error(y_val, y_pred_random_forest, squared=False)"
   ],
   "metadata": {
    "collapsed": false,
    "pycharm": {
     "name": "#%%\n"
    }
   }
  },
  {
   "cell_type": "code",
   "execution_count": 38,
   "outputs": [
    {
     "name": "stdout",
     "output_type": "stream",
     "text": [
      "RMSE of RandomForestRegressor() is: 0.05334759796159087. This is an improvement compared to the baseline approach of: 43.574570173974635 %\n"
     ]
    }
   ],
   "source": [
    "print(f'RMSE of {rfg_model} is: {rmse_random_forest}. This is an improvement compared to the baseline approach of: {-(rmse_random_forest / rmse_baseline -1)*100} %')"
   ],
   "metadata": {
    "collapsed": false,
    "pycharm": {
     "name": "#%%\n"
    }
   }
  },
  {
   "cell_type": "markdown",
   "source": [
    "#### 7.2.5) Support Vector Machines"
   ],
   "metadata": {
    "collapsed": false,
    "pycharm": {
     "name": "#%% md\n"
    }
   }
  },
  {
   "cell_type": "code",
   "execution_count": 39,
   "outputs": [],
   "source": [
    "svm = SVR()\n",
    "svm.fit(X_train, y_train)\n",
    "\n",
    "y_pred_svm = svm.predict(X_val)\n",
    "rmse_svm = mean_squared_error(y_val, y_pred_svm, squared=False)"
   ],
   "metadata": {
    "collapsed": false,
    "pycharm": {
     "name": "#%%\n"
    }
   }
  },
  {
   "cell_type": "code",
   "execution_count": 40,
   "outputs": [
    {
     "name": "stdout",
     "output_type": "stream",
     "text": [
      "RMSE of SVR() is: 0.06041961127804052. This is an improvement compared to the baseline approach of: 36.09454471147212 %\n"
     ]
    }
   ],
   "source": [
    "print(f'RMSE of {svm} is: {rmse_svm}. This is an improvement compared to the baseline approach of: {-(rmse_svm / rmse_baseline -1)*100} %')"
   ],
   "metadata": {
    "collapsed": false,
    "pycharm": {
     "name": "#%%\n"
    }
   }
  },
  {
   "cell_type": "markdown",
   "source": [
    "#### 7.2.6) XGBoost"
   ],
   "metadata": {
    "collapsed": false,
    "pycharm": {
     "name": "#%% md\n"
    }
   }
  },
  {
   "cell_type": "code",
   "execution_count": 41,
   "outputs": [],
   "source": [
    "xgb_model = xgb.XGBRegressor(verbosity=0)\n",
    "xgb_model.name = 'XGBoostRegressor'\n",
    "xgb_model.fit(X_train, y_train)\n",
    "\n",
    "y_pred_xgb = xgb_model.predict(X_val)\n",
    "rmse_xgb = mean_squared_error(y_val, y_pred_xgb, squared=False)"
   ],
   "metadata": {
    "collapsed": false,
    "pycharm": {
     "name": "#%%\n"
    }
   }
  },
  {
   "cell_type": "code",
   "execution_count": 42,
   "outputs": [
    {
     "name": "stdout",
     "output_type": "stream",
     "text": [
      "\n",
      " RMSE of XGBoostRegressor is: 0.05442526690318926. This is an improvement compared to the baseline approach of: 42.434726290401336 %\n"
     ]
    }
   ],
   "source": [
    "print(f'\\n RMSE of {xgb_model.name} is: {rmse_xgb}. This is an improvement compared to the baseline approach of: {-(rmse_xgb / rmse_baseline -1)*100} %')"
   ],
   "metadata": {
    "collapsed": false,
    "pycharm": {
     "name": "#%%\n"
    }
   }
  },
  {
   "cell_type": "code",
   "execution_count": 43,
   "outputs": [
    {
     "data": {
      "text/plain": "                                                     beta_opt  last_beta  \\\nweek district                start_date_forecasting                        \n96   Mayen-Koblenz           2022-01-11              0.509198   0.531663   \n     Tuttlingen              2022-01-11              0.585164   0.499230   \n     Hohenlohekreis          2022-01-11              0.624653   0.457860   \n     Coburg, Stadt           2022-01-11              0.503993   0.399768   \n     Eifelkreis Bitburg-Prüm 2022-01-11              0.574796   0.543013   \n...                                                       ...        ...   \n2    Münster                 2020-03-24              0.221741   0.636417   \n     Hannover                2020-03-24              0.355386   0.535915   \n     Köln                    2020-03-24              0.275381   0.492177   \n     Berlin                  2020-03-24              0.357634   0.603784   \n     Rhein-Kreis Neuss       2020-03-24              0.345000   0.692020   \n\n                                                     last_beta_standardized  \\\nweek district                start_date_forecasting                           \n96   Mayen-Koblenz           2022-01-11                            1.499773   \n     Tuttlingen              2022-01-11                            1.165161   \n     Hohenlohekreis          2022-01-11                            0.738337   \n     Coburg, Stadt           2022-01-11                            0.139005   \n     Eifelkreis Bitburg-Prüm 2022-01-11                            1.616870   \n...                                                                     ...   \n2    Münster                 2020-03-24                            2.580528   \n     Hannover                2020-03-24                            1.543633   \n     Köln                    2020-03-24                            1.092392   \n     Berlin                  2020-03-24                            2.243848   \n     Rhein-Kreis Neuss       2020-03-24                            3.154186   \n\n                                                     xgb_pred  \nweek district                start_date_forecasting            \n96   Mayen-Koblenz           2022-01-11              0.498004  \n     Tuttlingen              2022-01-11              0.547574  \n     Hohenlohekreis          2022-01-11              0.480867  \n     Coburg, Stadt           2022-01-11              0.451400  \n     Eifelkreis Bitburg-Prüm 2022-01-11              0.647160  \n...                                                       ...  \n2    Münster                 2020-03-24              0.354115  \n     Hannover                2020-03-24              0.346362  \n     Köln                    2020-03-24              0.314714  \n     Berlin                  2020-03-24              0.368528  \n     Rhein-Kreis Neuss       2020-03-24              0.338268  \n\n[3249 rows x 4 columns]",
      "text/html": "<div>\n<style scoped>\n    .dataframe tbody tr th:only-of-type {\n        vertical-align: middle;\n    }\n\n    .dataframe tbody tr th {\n        vertical-align: top;\n    }\n\n    .dataframe thead th {\n        text-align: right;\n    }\n</style>\n<table border=\"1\" class=\"dataframe\">\n  <thead>\n    <tr style=\"text-align: right;\">\n      <th></th>\n      <th></th>\n      <th></th>\n      <th>beta_opt</th>\n      <th>last_beta</th>\n      <th>last_beta_standardized</th>\n      <th>xgb_pred</th>\n    </tr>\n    <tr>\n      <th>week</th>\n      <th>district</th>\n      <th>start_date_forecasting</th>\n      <th></th>\n      <th></th>\n      <th></th>\n      <th></th>\n    </tr>\n  </thead>\n  <tbody>\n    <tr>\n      <th rowspan=\"5\" valign=\"top\">96</th>\n      <th>Mayen-Koblenz</th>\n      <th>2022-01-11</th>\n      <td>0.509198</td>\n      <td>0.531663</td>\n      <td>1.499773</td>\n      <td>0.498004</td>\n    </tr>\n    <tr>\n      <th>Tuttlingen</th>\n      <th>2022-01-11</th>\n      <td>0.585164</td>\n      <td>0.499230</td>\n      <td>1.165161</td>\n      <td>0.547574</td>\n    </tr>\n    <tr>\n      <th>Hohenlohekreis</th>\n      <th>2022-01-11</th>\n      <td>0.624653</td>\n      <td>0.457860</td>\n      <td>0.738337</td>\n      <td>0.480867</td>\n    </tr>\n    <tr>\n      <th>Coburg, Stadt</th>\n      <th>2022-01-11</th>\n      <td>0.503993</td>\n      <td>0.399768</td>\n      <td>0.139005</td>\n      <td>0.451400</td>\n    </tr>\n    <tr>\n      <th>Eifelkreis Bitburg-Prüm</th>\n      <th>2022-01-11</th>\n      <td>0.574796</td>\n      <td>0.543013</td>\n      <td>1.616870</td>\n      <td>0.647160</td>\n    </tr>\n    <tr>\n      <th>...</th>\n      <th>...</th>\n      <th>...</th>\n      <td>...</td>\n      <td>...</td>\n      <td>...</td>\n      <td>...</td>\n    </tr>\n    <tr>\n      <th rowspan=\"5\" valign=\"top\">2</th>\n      <th>Münster</th>\n      <th>2020-03-24</th>\n      <td>0.221741</td>\n      <td>0.636417</td>\n      <td>2.580528</td>\n      <td>0.354115</td>\n    </tr>\n    <tr>\n      <th>Hannover</th>\n      <th>2020-03-24</th>\n      <td>0.355386</td>\n      <td>0.535915</td>\n      <td>1.543633</td>\n      <td>0.346362</td>\n    </tr>\n    <tr>\n      <th>Köln</th>\n      <th>2020-03-24</th>\n      <td>0.275381</td>\n      <td>0.492177</td>\n      <td>1.092392</td>\n      <td>0.314714</td>\n    </tr>\n    <tr>\n      <th>Berlin</th>\n      <th>2020-03-24</th>\n      <td>0.357634</td>\n      <td>0.603784</td>\n      <td>2.243848</td>\n      <td>0.368528</td>\n    </tr>\n    <tr>\n      <th>Rhein-Kreis Neuss</th>\n      <th>2020-03-24</th>\n      <td>0.345000</td>\n      <td>0.692020</td>\n      <td>3.154186</td>\n      <td>0.338268</td>\n    </tr>\n  </tbody>\n</table>\n<p>3249 rows × 4 columns</p>\n</div>"
     },
     "execution_count": 43,
     "metadata": {},
     "output_type": "execute_result"
    }
   ],
   "source": [
    "pd.DataFrame({'beta_opt':y_val, 'last_beta':y_pred_baseline_val, 'last_beta_standardized':X_val['beta_t_minus_1'], 'xgb_pred':y_pred_xgb}).sort_values('start_date_forecasting', ascending=False)"
   ],
   "metadata": {
    "collapsed": false,
    "pycharm": {
     "name": "#%%\n"
    }
   }
  },
  {
   "cell_type": "markdown",
   "source": [
    "#### 7.2.7) Neural Network"
   ],
   "metadata": {
    "collapsed": false,
    "pycharm": {
     "name": "#%% md\n"
    }
   }
  },
  {
   "cell_type": "code",
   "execution_count": 44,
   "outputs": [
    {
     "name": "stderr",
     "output_type": "stream",
     "text": [
      "2022-02-02 10:21:56.551868: I tensorflow/core/platform/cpu_feature_guard.cc:151] This TensorFlow binary is optimized with oneAPI Deep Neural Network Library (oneDNN) to use the following CPU instructions in performance-critical operations:  AVX2 FMA\n",
      "To enable them in other operations, rebuild TensorFlow with the appropriate compiler flags.\n"
     ]
    }
   ],
   "source": [
    "ann_model = Sequential([\n",
    "    Dense(24, input_dim=len(X_train.columns), activation='relu'),\n",
    "    Dropout(0.2),\n",
    "    Dense(16, activation='relu'),\n",
    "    Dropout(0.2),\n",
    "    Dense(1, activation='linear')\n",
    "])\n",
    "\n",
    "\n",
    "# compile model:\n",
    "ann_model.compile(\n",
    "    loss = 'mse',\n",
    "    optimizer = 'adam',\n",
    "    metrics=[RootMeanSquaredError(name='rmse')]\n",
    ")"
   ],
   "metadata": {
    "collapsed": false,
    "pycharm": {
     "name": "#%%\n"
    }
   }
  },
  {
   "cell_type": "code",
   "execution_count": 45,
   "outputs": [
    {
     "name": "stdout",
     "output_type": "stream",
     "text": [
      "Epoch 1/20\n",
      "305/305 [==============================] - 1s 2ms/step - loss: 0.0922 - rmse: 0.3036 - val_loss: 0.0092 - val_rmse: 0.0959\n",
      "Epoch 2/20\n",
      "305/305 [==============================] - 1s 2ms/step - loss: 0.0201 - rmse: 0.1418 - val_loss: 0.0058 - val_rmse: 0.0761\n",
      "Epoch 3/20\n",
      "305/305 [==============================] - 1s 2ms/step - loss: 0.0116 - rmse: 0.1076 - val_loss: 0.0050 - val_rmse: 0.0704\n",
      "Epoch 4/20\n",
      "305/305 [==============================] - 1s 2ms/step - loss: 0.0078 - rmse: 0.0884 - val_loss: 0.0045 - val_rmse: 0.0675\n",
      "Epoch 5/20\n",
      "305/305 [==============================] - 0s 1ms/step - loss: 0.0063 - rmse: 0.0796 - val_loss: 0.0046 - val_rmse: 0.0675\n",
      "Epoch 6/20\n",
      "305/305 [==============================] - 0s 1ms/step - loss: 0.0060 - rmse: 0.0776 - val_loss: 0.0044 - val_rmse: 0.0663\n",
      "Epoch 7/20\n",
      "305/305 [==============================] - 0s 1ms/step - loss: 0.0054 - rmse: 0.0734 - val_loss: 0.0043 - val_rmse: 0.0658\n",
      "Epoch 8/20\n",
      "305/305 [==============================] - 0s 1ms/step - loss: 0.0052 - rmse: 0.0722 - val_loss: 0.0042 - val_rmse: 0.0648\n",
      "Epoch 9/20\n",
      "305/305 [==============================] - 0s 967us/step - loss: 0.0050 - rmse: 0.0705 - val_loss: 0.0042 - val_rmse: 0.0649\n",
      "Epoch 10/20\n",
      "305/305 [==============================] - 0s 993us/step - loss: 0.0049 - rmse: 0.0701 - val_loss: 0.0042 - val_rmse: 0.0650\n",
      "Epoch 11/20\n",
      "305/305 [==============================] - 0s 959us/step - loss: 0.0048 - rmse: 0.0690 - val_loss: 0.0041 - val_rmse: 0.0643\n",
      "Epoch 12/20\n",
      "305/305 [==============================] - 0s 997us/step - loss: 0.0048 - rmse: 0.0692 - val_loss: 0.0041 - val_rmse: 0.0638\n",
      "Epoch 13/20\n",
      "305/305 [==============================] - 0s 990us/step - loss: 0.0047 - rmse: 0.0686 - val_loss: 0.0041 - val_rmse: 0.0638\n",
      "Epoch 14/20\n",
      "305/305 [==============================] - 0s 1ms/step - loss: 0.0046 - rmse: 0.0679 - val_loss: 0.0040 - val_rmse: 0.0635\n",
      "Epoch 15/20\n",
      "305/305 [==============================] - 0s 976us/step - loss: 0.0045 - rmse: 0.0673 - val_loss: 0.0041 - val_rmse: 0.0636\n",
      "Epoch 16/20\n",
      "305/305 [==============================] - 0s 978us/step - loss: 0.0046 - rmse: 0.0676 - val_loss: 0.0040 - val_rmse: 0.0633\n",
      "Epoch 17/20\n",
      "305/305 [==============================] - 0s 977us/step - loss: 0.0045 - rmse: 0.0671 - val_loss: 0.0040 - val_rmse: 0.0635\n",
      "Epoch 18/20\n",
      "305/305 [==============================] - 0s 992us/step - loss: 0.0045 - rmse: 0.0670 - val_loss: 0.0040 - val_rmse: 0.0633\n",
      "Epoch 19/20\n",
      "305/305 [==============================] - 0s 947us/step - loss: 0.0044 - rmse: 0.0661 - val_loss: 0.0039 - val_rmse: 0.0628\n",
      "Epoch 20/20\n",
      "305/305 [==============================] - 0s 989us/step - loss: 0.0043 - rmse: 0.0657 - val_loss: 0.0039 - val_rmse: 0.0628\n"
     ]
    }
   ],
   "source": [
    "history = ann_model.fit(X_train,\n",
    "                        y_train,\n",
    "                        epochs=20,\n",
    "                        # class_weight=class_weight,\n",
    "                        validation_data=(X_val, y_val),\n",
    "                        )"
   ],
   "metadata": {
    "collapsed": false,
    "pycharm": {
     "name": "#%%\n"
    }
   }
  },
  {
   "cell_type": "code",
   "execution_count": 46,
   "outputs": [],
   "source": [
    "y_pred_ann = ann_model.predict(X_val)\n",
    "rmse_ann = mean_squared_error(y_val, y_pred_ann, squared=False)"
   ],
   "metadata": {
    "collapsed": false,
    "pycharm": {
     "name": "#%%\n"
    }
   }
  },
  {
   "cell_type": "code",
   "execution_count": 47,
   "outputs": [
    {
     "name": "stdout",
     "output_type": "stream",
     "text": [
      "RMSE of <keras.engine.sequential.Sequential object at 0x169b88520> is: 0.06284492744027713. This is an improvement compared to the baseline approach of: 33.529302560987006 %\n"
     ]
    }
   ],
   "source": [
    "print(f'RMSE of {ann_model} is: {rmse_ann}. This is an improvement compared to the baseline approach of: {-(rmse_ann / rmse_baseline -1)*100} %')"
   ],
   "metadata": {
    "collapsed": false,
    "pycharm": {
     "name": "#%%\n"
    }
   }
  },
  {
   "cell_type": "markdown",
   "source": [
    "## 8) Model Evaluation:"
   ],
   "metadata": {
    "collapsed": false,
    "pycharm": {
     "name": "#%% md\n"
    }
   }
  },
  {
   "cell_type": "markdown",
   "source": [
    "### Metric Computation:"
   ],
   "metadata": {
    "collapsed": false,
    "pycharm": {
     "name": "#%% md\n"
    }
   }
  },
  {
   "cell_type": "markdown",
   "source": [
    "#### Baseline:"
   ],
   "metadata": {
    "collapsed": false,
    "pycharm": {
     "name": "#%% md\n"
    }
   }
  },
  {
   "cell_type": "code",
   "execution_count": 48,
   "outputs": [
    {
     "name": "stdout",
     "output_type": "stream",
     "text": [
      "RMSE of baseline approach is: 0.13654862904266704\n"
     ]
    }
   ],
   "source": [
    "y_pred_baseline_test = pd.DataFrame(scaler_obj.inverse_transform(X_test), index=X_test.index, columns=X_test.columns)['beta_t_minus_1']\n",
    "rmse_baseline_test = mean_squared_error(y_pred_baseline_test, y_test, squared=False)\n",
    "print(f'RMSE of baseline approach is: {rmse_baseline_test}')"
   ],
   "metadata": {
    "collapsed": false,
    "pycharm": {
     "name": "#%%\n"
    }
   }
  },
  {
   "cell_type": "markdown",
   "source": [
    "#### Random Forest:"
   ],
   "metadata": {
    "collapsed": false
   }
  },
  {
   "cell_type": "code",
   "execution_count": 49,
   "outputs": [
    {
     "name": "stdout",
     "output_type": "stream",
     "text": [
      "RMSE of RandomForestRegressor() is: 0.09326951523078349. This is an improvement compared to the baseline approach of: 31.695018921325257%\n"
     ]
    }
   ],
   "source": [
    "# Apply optimal model to testset:\n",
    "y_pred_test_rf = rfg_model.predict(X_test)\n",
    "\n",
    "rmse_rf_test = mean_squared_error(y_pred_test_rf, y_test, squared=False)\n",
    "print(f'RMSE of {rfg_model} is: {rmse_rf_test}. This is an improvement compared to the baseline approach of: {-(rmse_rf_test / rmse_baseline_test -1)*100}%')"
   ],
   "metadata": {
    "collapsed": false,
    "pycharm": {
     "name": "#%%\n"
    }
   }
  },
  {
   "cell_type": "markdown",
   "source": [
    "#### XGB Boost:"
   ],
   "metadata": {
    "collapsed": false,
    "pycharm": {
     "name": "#%% md\n"
    }
   },
   "execution_count": 81
  },
  {
   "cell_type": "code",
   "execution_count": 50,
   "outputs": [
    {
     "name": "stdout",
     "output_type": "stream",
     "text": [
      "RMSE of XGBoostRegressor is: 0.09524443738201818. This is an improvement compared to the baseline approach of: 30.248704765642596%\n"
     ]
    }
   ],
   "source": [
    "# Apply optimal model to testset:\n",
    "y_pred_test_xgb = xgb_model.predict(X_test)\n",
    "\n",
    "rmse_xgb_test = mean_squared_error(y_pred_test_xgb, y_test, squared=False)\n",
    "print(f'RMSE of {xgb_model.name} is: {rmse_xgb_test}. This is an improvement compared to the baseline approach of: {-(rmse_xgb_test / rmse_baseline_test -1)*100}%')"
   ],
   "metadata": {
    "collapsed": false,
    "pycharm": {
     "name": "#%%\n"
    }
   }
  },
  {
   "cell_type": "markdown",
   "source": [
    "### Model comparison:"
   ],
   "metadata": {
    "collapsed": false,
    "pycharm": {
     "name": "#%% md\n"
    }
   }
  },
  {
   "cell_type": "code",
   "execution_count": 51,
   "outputs": [
    {
     "data": {
      "text/plain": "<Figure size 432x288 with 1 Axes>",
      "image/png": "[encoded data removed]"
     },
     "metadata": {
      "needs_background": "light"
     },
     "output_type": "display_data"
    }
   ],
   "source": [
    "rmses_dict = {\n",
    "    'LinReg': rmse_linreg,\n",
    "    'Ridge_Reg': rmse_ridge_reg,\n",
    "    'Random_Forest': rmse_random_forest,\n",
    "    'SVM': rmse_svm,\n",
    "    'XGB': rmse_xgb,\n",
    "    'ANN':rmse_ann,\n",
    "    'Baseline': rmse_baseline,\n",
    "}\n",
    "\n",
    "rmses_rel_improvement = {k:(-(v/rmse_baseline-1)*100) for (k,v) in rmses_dict.items()}\n",
    "rmses_rel_improvement\n",
    "\n",
    "plt.bar(x=rmses_rel_improvement.keys(),height=rmses_rel_improvement.values())\n",
    "plt.title(\"Relative Improvement to Using the Last Beta:\")\n",
    "plt.xlabel(xlabel='Machine Learning Regression Approaches')\n",
    "plt.ylabel(ylabel='Relative Improvement to RMSE %')\n",
    "plt.show()"
   ],
   "metadata": {
    "collapsed": false,
    "pycharm": {
     "name": "#%%\n"
    }
   }
  },
  {
   "cell_type": "code",
   "execution_count": 52,
   "outputs": [],
   "source": [
    "# Export results to csv:\n",
    "import csv\n",
    "\n",
    "with open('ml_results_dict.csv', 'w') as csv_file:\n",
    "    writer = csv.writer(csv_file)\n",
    "    for key, value in rmses_dict.items():\n",
    "        writer.writerow([key, value])"
   ],
   "metadata": {
    "collapsed": false,
    "pycharm": {
     "name": "#%%\n"
    }
   }
  },
  {
   "cell_type": "code",
   "execution_count": 53,
   "outputs": [
    {
     "data": {
      "text/plain": "'/Users/heidemann/Documents/Private/Project_Seminar/Backend/Modeling/Differential_Equation_Modeling/Machine_Learning_Layer_Lukas'"
     },
     "execution_count": 53,
     "metadata": {},
     "output_type": "execute_result"
    }
   ],
   "source": [
    "os.getcwd()"
   ],
   "metadata": {
    "collapsed": false,
    "pycharm": {
     "name": "#%%\n"
    }
   }
  },
  {
   "cell_type": "markdown",
   "source": [
    "### Feature Importance:"
   ],
   "metadata": {
    "collapsed": false,
    "pycharm": {
     "name": "#%% md\n"
    }
   }
  },
  {
   "cell_type": "code",
   "execution_count": 54,
   "outputs": [
    {
     "data": {
      "text/plain": "<AxesSubplot:>"
     },
     "execution_count": 54,
     "metadata": {},
     "output_type": "execute_result"
    },
    {
     "data": {
      "text/plain": "<Figure size 864x720 with 1 Axes>",
      "image/png": "[encoded data removed]"
     },
     "metadata": {
      "needs_background": "light"
     },
     "output_type": "display_data"
    }
   ],
   "source": [
    "feature_important = xgb_model.get_booster().get_score(importance_type='gain')\n",
    "\n",
    "keys = list(feature_important.keys())\n",
    "values = list(feature_important.values())\n",
    "\n",
    "data = pd.DataFrame(data=values, index=keys, columns=[\"score\"]).sort_values(by = \"score\", ascending=False)\n",
    "data.nlargest(40, columns=\"score\").plot(kind='barh', figsize = (12,10)) ## plot top 40 features"
   ],
   "metadata": {
    "collapsed": false,
    "pycharm": {
     "name": "#%%\n"
    }
   }
  },
  {
   "cell_type": "code",
   "execution_count": 55,
   "outputs": [],
   "source": [
    "perm_importance = permutation_importance(xgb_model, X_test, y_test)"
   ],
   "metadata": {
    "collapsed": false,
    "pycharm": {
     "name": "#%%\n"
    }
   }
  },
  {
   "cell_type": "code",
   "execution_count": 56,
   "outputs": [
    {
     "data": {
      "text/plain": "Text(0.5, 0, 'Permutation Importance')"
     },
     "execution_count": 56,
     "metadata": {},
     "output_type": "execute_result"
    },
    {
     "data": {
      "text/plain": "<Figure size 432x288 with 1 Axes>",
      "image/png": "[encoded data removed]"
     },
     "metadata": {
      "needs_background": "light"
     },
     "output_type": "display_data"
    }
   ],
   "source": [
    "sorted_idx = perm_importance.importances_mean.argsort()\n",
    "plt.barh(X_train.columns[sorted_idx], perm_importance.importances_mean[sorted_idx])\n",
    "plt.xlabel(\"Permutation Importance\")"
   ],
   "metadata": {
    "collapsed": false,
    "pycharm": {
     "name": "#%%\n"
    }
   }
  },
  {
   "cell_type": "markdown",
   "source": [
    "### Residual analysis:"
   ],
   "metadata": {
    "collapsed": false,
    "pycharm": {
     "name": "#%% md\n"
    }
   }
  },
  {
   "cell_type": "code",
   "execution_count": 57,
   "outputs": [
    {
     "data": {
      "text/plain": "                                             beta_opt  last_beta_pred  \\\nweek district        start_date_forecasting                             \n93   Aachen          2021-12-21              0.436077        0.354506   \n94   Aachen          2021-12-28              0.592211        0.372149   \n95   Aachen          2022-01-04              0.590635        0.512406   \n94   Ahrweiler       2021-12-28              0.497854        0.296910   \n96   Ahrweiler       2022-01-11              0.486081        0.679850   \n...                                               ...             ...   \n     Würzburg, Stadt 2022-01-11              0.469062        0.559152   \n93   Zollernalbkreis 2021-12-21              0.313538        0.299271   \n94   Zwickau         2021-12-28              0.341186        0.277870   \n95   Zwickau         2022-01-04              0.326760        0.343163   \n96   Zwickau         2022-01-11              0.413663        0.342577   \n\n                                             xgb_pred  residual_last_beta  \\\nweek district        start_date_forecasting                                 \n93   Aachen          2021-12-21              0.320905           -0.081572   \n94   Aachen          2021-12-28              0.379095           -0.220062   \n95   Aachen          2022-01-04              0.613067           -0.078229   \n94   Ahrweiler       2021-12-28              0.346664           -0.200944   \n96   Ahrweiler       2022-01-11              0.537231            0.193769   \n...                                               ...                 ...   \n     Würzburg, Stadt 2022-01-11              0.583504            0.090089   \n93   Zollernalbkreis 2021-12-21              0.368355           -0.014266   \n94   Zwickau         2021-12-28              0.404190           -0.063316   \n95   Zwickau         2022-01-04              0.473035            0.016402   \n96   Zwickau         2022-01-11              0.445083           -0.071086   \n\n                                             residual_xgb_pred  \nweek district        start_date_forecasting                     \n93   Aachen          2021-12-21                      -0.115172  \n94   Aachen          2021-12-28                      -0.213117  \n95   Aachen          2022-01-04                       0.022432  \n94   Ahrweiler       2021-12-28                      -0.151190  \n96   Ahrweiler       2022-01-11                       0.051151  \n...                                                        ...  \n     Würzburg, Stadt 2022-01-11                       0.114442  \n93   Zollernalbkreis 2021-12-21                       0.054817  \n94   Zwickau         2021-12-28                       0.063004  \n95   Zwickau         2022-01-04                       0.146274  \n96   Zwickau         2022-01-11                       0.031420  \n\n[1000 rows x 5 columns]",
      "text/html": "<div>\n<style scoped>\n    .dataframe tbody tr th:only-of-type {\n        vertical-align: middle;\n    }\n\n    .dataframe tbody tr th {\n        vertical-align: top;\n    }\n\n    .dataframe thead th {\n        text-align: right;\n    }\n</style>\n<table border=\"1\" class=\"dataframe\">\n  <thead>\n    <tr style=\"text-align: right;\">\n      <th></th>\n      <th></th>\n      <th></th>\n      <th>beta_opt</th>\n      <th>last_beta_pred</th>\n      <th>xgb_pred</th>\n      <th>residual_last_beta</th>\n      <th>residual_xgb_pred</th>\n    </tr>\n    <tr>\n      <th>week</th>\n      <th>district</th>\n      <th>start_date_forecasting</th>\n      <th></th>\n      <th></th>\n      <th></th>\n      <th></th>\n      <th></th>\n    </tr>\n  </thead>\n  <tbody>\n    <tr>\n      <th>93</th>\n      <th>Aachen</th>\n      <th>2021-12-21</th>\n      <td>0.436077</td>\n      <td>0.354506</td>\n      <td>0.320905</td>\n      <td>-0.081572</td>\n      <td>-0.115172</td>\n    </tr>\n    <tr>\n      <th>94</th>\n      <th>Aachen</th>\n      <th>2021-12-28</th>\n      <td>0.592211</td>\n      <td>0.372149</td>\n      <td>0.379095</td>\n      <td>-0.220062</td>\n      <td>-0.213117</td>\n    </tr>\n    <tr>\n      <th>95</th>\n      <th>Aachen</th>\n      <th>2022-01-04</th>\n      <td>0.590635</td>\n      <td>0.512406</td>\n      <td>0.613067</td>\n      <td>-0.078229</td>\n      <td>0.022432</td>\n    </tr>\n    <tr>\n      <th>94</th>\n      <th>Ahrweiler</th>\n      <th>2021-12-28</th>\n      <td>0.497854</td>\n      <td>0.296910</td>\n      <td>0.346664</td>\n      <td>-0.200944</td>\n      <td>-0.151190</td>\n    </tr>\n    <tr>\n      <th rowspan=\"3\" valign=\"top\">96</th>\n      <th>Ahrweiler</th>\n      <th>2022-01-11</th>\n      <td>0.486081</td>\n      <td>0.679850</td>\n      <td>0.537231</td>\n      <td>0.193769</td>\n      <td>0.051151</td>\n    </tr>\n    <tr>\n      <th>...</th>\n      <th>...</th>\n      <td>...</td>\n      <td>...</td>\n      <td>...</td>\n      <td>...</td>\n      <td>...</td>\n    </tr>\n    <tr>\n      <th>Würzburg, Stadt</th>\n      <th>2022-01-11</th>\n      <td>0.469062</td>\n      <td>0.559152</td>\n      <td>0.583504</td>\n      <td>0.090089</td>\n      <td>0.114442</td>\n    </tr>\n    <tr>\n      <th>93</th>\n      <th>Zollernalbkreis</th>\n      <th>2021-12-21</th>\n      <td>0.313538</td>\n      <td>0.299271</td>\n      <td>0.368355</td>\n      <td>-0.014266</td>\n      <td>0.054817</td>\n    </tr>\n    <tr>\n      <th>94</th>\n      <th>Zwickau</th>\n      <th>2021-12-28</th>\n      <td>0.341186</td>\n      <td>0.277870</td>\n      <td>0.404190</td>\n      <td>-0.063316</td>\n      <td>0.063004</td>\n    </tr>\n    <tr>\n      <th>95</th>\n      <th>Zwickau</th>\n      <th>2022-01-04</th>\n      <td>0.326760</td>\n      <td>0.343163</td>\n      <td>0.473035</td>\n      <td>0.016402</td>\n      <td>0.146274</td>\n    </tr>\n    <tr>\n      <th>96</th>\n      <th>Zwickau</th>\n      <th>2022-01-11</th>\n      <td>0.413663</td>\n      <td>0.342577</td>\n      <td>0.445083</td>\n      <td>-0.071086</td>\n      <td>0.031420</td>\n    </tr>\n  </tbody>\n</table>\n<p>1000 rows × 5 columns</p>\n</div>"
     },
     "execution_count": 57,
     "metadata": {},
     "output_type": "execute_result"
    }
   ],
   "source": [
    "residuals_df = pd.DataFrame({\n",
    "    'beta_opt':y_test, 'last_beta_pred':y_pred_baseline_test, 'xgb_pred':y_pred_test_xgb,\n",
    "    'residual_last_beta': y_pred_baseline_test-y_test,\n",
    "    'residual_xgb_pred': y_pred_test_xgb-y_test,\n",
    "})\n",
    "residuals_df"
   ],
   "metadata": {
    "collapsed": false,
    "pycharm": {
     "name": "#%%\n"
    }
   }
  },
  {
   "cell_type": "code",
   "execution_count": 58,
   "outputs": [
    {
     "data": {
      "text/plain": "<Figure size 640x480 with 1 Axes>",
      "image/png": "[encoded data removed]"
     },
     "metadata": {},
     "output_type": "display_data"
    },
    {
     "data": {
      "text/plain": "<ggplot: (382366434)>"
     },
     "execution_count": 58,
     "metadata": {},
     "output_type": "execute_result"
    }
   ],
   "source": [
    "## Plot residuals:\n",
    "# Last Beta\n",
    "ggplot(residuals_df, aes(x='residual_last_beta')) + geom_histogram(binwidth=0.01) + coord_cartesian(xlim=(-0.5,0.5),ylim=(0,100))"
   ],
   "metadata": {
    "collapsed": false,
    "pycharm": {
     "name": "#%%\n"
    }
   }
  },
  {
   "cell_type": "code",
   "execution_count": 59,
   "outputs": [
    {
     "data": {
      "text/plain": "<Figure size 640x480 with 1 Axes>",
      "image/png": "[encoded data removed]"
     },
     "metadata": {},
     "output_type": "display_data"
    },
    {
     "data": {
      "text/plain": "<ggplot: (382357315)>"
     },
     "execution_count": 59,
     "metadata": {},
     "output_type": "execute_result"
    }
   ],
   "source": [
    "# XGB Beta\n",
    "ggplot(residuals_df, aes(x='residual_xgb_pred')) + geom_histogram(binwidth=0.01) + coord_cartesian(xlim=(-0.5,0.5),ylim=(0,100))"
   ],
   "metadata": {
    "collapsed": false,
    "pycharm": {
     "name": "#%%\n"
    }
   }
  },
  {
   "cell_type": "markdown",
   "source": [
    "## 9) Export Best Model:"
   ],
   "metadata": {
    "collapsed": false,
    "pycharm": {
     "name": "#%% md\n"
    }
   }
  },
  {
   "cell_type": "code",
   "execution_count": 60,
   "outputs": [
    {
     "name": "stdout",
     "output_type": "stream",
     "text": [
      "succesfully exported\n"
     ]
    }
   ],
   "source": [
    "path = '../../../../Assets/MachineLearningLayer/Models/'\n",
    "best_model = xgb_model\n",
    "\n",
    "# ML Model:\n",
    "filename = 'xgb_model_lukas.pkl'\n",
    "combined_path = path+filename\n",
    "joblib.dump(best_model, open(combined_path, 'wb'))\n",
    "\n",
    "# Standardizer:\n",
    "filename = 'standardizer_model.pkl'\n",
    "combined_path = path+filename\n",
    "joblib.dump(scaler_obj, open(path+filename, 'wb'))\n",
    "\n",
    "print('succesfully exported')"
   ],
   "metadata": {
    "collapsed": false,
    "pycharm": {
     "name": "#%%\n"
    }
   }
  },
  {
   "cell_type": "code",
   "execution_count": 60,
   "outputs": [],
   "source": [
    "    "
   ],
   "metadata": {
    "collapsed": false,
    "pycharm": {
     "name": "#%%\n"
    }
   }
  }
 ],
 "metadata": {
  "kernelspec": {
   "display_name": "Python 3",
   "language": "python",
   "name": "python3"
  },
  "language_info": {
   "codemirror_mode": {
    "name": "ipython",
    "version": 2
   },
   "file_extension": ".py",
   "mimetype": "text/x-python",
   "name": "python",
   "nbconvert_exporter": "python",
   "pygments_lexer": "ipython2",
   "version": "2.7.6"
  }
 },
 "nbformat": 4,
 "nbformat_minor": 0
}