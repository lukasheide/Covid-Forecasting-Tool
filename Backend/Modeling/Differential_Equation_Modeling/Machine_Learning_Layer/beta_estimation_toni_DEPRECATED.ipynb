{
 "cells": [
  {
   "cell_type": "markdown",
   "source": [
    "## Import important stuff"
   ],
   "metadata": {
    "collapsed": false
   }
  },
  {
   "cell_type": "code",
   "execution_count": 467,
   "metadata": {
    "collapsed": true
   },
   "outputs": [],
   "source": [
    "import pandas as pd\n",
    "import numpy as np\n",
    "import pickle\n",
    "import matplotlib.pyplot as plt\n",
    "from sklearn import linear_model, svm, tree\n",
    "from sklearn.neural_network import MLPRegressor\n",
    "from sklearn.model_selection import train_test_split\n",
    "from sklearn.ensemble import AdaBoostRegressor, RandomForestRegressor\n",
    "from Backend.Evaluation.metrics import compute_evaluation_metrics\n",
    "from sklearn.preprocessing import StandardScaler, OneHotEncoder\n",
    "import xgboost as xgb\n"
   ]
  },
  {
   "cell_type": "markdown",
   "source": [
    "### def create tuple"
   ],
   "metadata": {
    "collapsed": false
   }
  },
  {
   "cell_type": "markdown",
   "source": [
    "#### delete districts, transform variant, delet others"
   ],
   "metadata": {
    "collapsed": false
   }
  },
  {
   "cell_type": "code",
   "execution_count": 468,
   "outputs": [
    {
     "data": {
      "text/plain": "       Unnamed: 0  week  policy_index    variant   mobility  temperature  \\\n0               0     2     62.500000      Other -41.714286     4.885714   \n1               1     3     63.778571      Other -36.000000     5.971429   \n2               2     4     65.180000      Other -31.142857    16.085714   \n3               3     5     65.180000      Other -31.857143    12.357143   \n4               4     6     65.180000      Other -23.571429    13.685714   \n...           ...   ...           ...        ...        ...          ...   \n37195          88    90     81.761429  B.1.617.2   1.857143     2.185714   \n37196          89    91     83.930000  B.1.617.2   6.000000     0.857143   \n37197          90    92     83.930000  B.1.617.2   6.571429     5.028571   \n37198          91    93     83.930000  B.1.617.2  -2.714286    -1.842857   \n37199          92    94     59.950000          0  -5.285714     7.942857   \n\n            wind  infections          beta  beta_t_minus_1  \\\n0      24.057143    4.897959  2.621485e-01        0.405904   \n1      14.714286    3.326531  1.550497e-01        0.269774   \n2      11.900000    1.122449  3.379712e-18        0.278678   \n3      12.542857    0.500000  1.574978e-02        0.002448   \n4      19.585714    0.704082  5.966302e-01        0.014601   \n...          ...         ...           ...             ...   \n37195  14.614286  165.051020  5.811076e-01        0.612582   \n37196   9.814286  145.214286  4.988738e-01        0.586679   \n37197   7.842857  105.612245  3.810974e-01        0.542123   \n37198  10.771429   83.377551  4.671758e-01        0.425633   \n37199  15.385714   69.897959  4.988519e-01        0.421383   \n\n                   district  \n0      Landkreis St. Wendel  \n1      Landkreis St. Wendel  \n2      Landkreis St. Wendel  \n3      Landkreis St. Wendel  \n4      Landkreis St. Wendel  \n...                     ...  \n37195         Wartburgkreis  \n37196         Wartburgkreis  \n37197         Wartburgkreis  \n37198         Wartburgkreis  \n37199         Wartburgkreis  \n\n[37200 rows x 11 columns]",
      "text/html": "<div>\n<style scoped>\n    .dataframe tbody tr th:only-of-type {\n        vertical-align: middle;\n    }\n\n    .dataframe tbody tr th {\n        vertical-align: top;\n    }\n\n    .dataframe thead th {\n        text-align: right;\n    }\n</style>\n<table border=\"1\" class=\"dataframe\">\n  <thead>\n    <tr style=\"text-align: right;\">\n      <th></th>\n      <th>Unnamed: 0</th>\n      <th>week</th>\n      <th>policy_index</th>\n      <th>variant</th>\n      <th>mobility</th>\n      <th>temperature</th>\n      <th>wind</th>\n      <th>infections</th>\n      <th>beta</th>\n      <th>beta_t_minus_1</th>\n      <th>district</th>\n    </tr>\n  </thead>\n  <tbody>\n    <tr>\n      <th>0</th>\n      <td>0</td>\n      <td>2</td>\n      <td>62.500000</td>\n      <td>Other</td>\n      <td>-41.714286</td>\n      <td>4.885714</td>\n      <td>24.057143</td>\n      <td>4.897959</td>\n      <td>2.621485e-01</td>\n      <td>0.405904</td>\n      <td>Landkreis St. Wendel</td>\n    </tr>\n    <tr>\n      <th>1</th>\n      <td>1</td>\n      <td>3</td>\n      <td>63.778571</td>\n      <td>Other</td>\n      <td>-36.000000</td>\n      <td>5.971429</td>\n      <td>14.714286</td>\n      <td>3.326531</td>\n      <td>1.550497e-01</td>\n      <td>0.269774</td>\n      <td>Landkreis St. Wendel</td>\n    </tr>\n    <tr>\n      <th>2</th>\n      <td>2</td>\n      <td>4</td>\n      <td>65.180000</td>\n      <td>Other</td>\n      <td>-31.142857</td>\n      <td>16.085714</td>\n      <td>11.900000</td>\n      <td>1.122449</td>\n      <td>3.379712e-18</td>\n      <td>0.278678</td>\n      <td>Landkreis St. Wendel</td>\n    </tr>\n    <tr>\n      <th>3</th>\n      <td>3</td>\n      <td>5</td>\n      <td>65.180000</td>\n      <td>Other</td>\n      <td>-31.857143</td>\n      <td>12.357143</td>\n      <td>12.542857</td>\n      <td>0.500000</td>\n      <td>1.574978e-02</td>\n      <td>0.002448</td>\n      <td>Landkreis St. Wendel</td>\n    </tr>\n    <tr>\n      <th>4</th>\n      <td>4</td>\n      <td>6</td>\n      <td>65.180000</td>\n      <td>Other</td>\n      <td>-23.571429</td>\n      <td>13.685714</td>\n      <td>19.585714</td>\n      <td>0.704082</td>\n      <td>5.966302e-01</td>\n      <td>0.014601</td>\n      <td>Landkreis St. Wendel</td>\n    </tr>\n    <tr>\n      <th>...</th>\n      <td>...</td>\n      <td>...</td>\n      <td>...</td>\n      <td>...</td>\n      <td>...</td>\n      <td>...</td>\n      <td>...</td>\n      <td>...</td>\n      <td>...</td>\n      <td>...</td>\n      <td>...</td>\n    </tr>\n    <tr>\n      <th>37195</th>\n      <td>88</td>\n      <td>90</td>\n      <td>81.761429</td>\n      <td>B.1.617.2</td>\n      <td>1.857143</td>\n      <td>2.185714</td>\n      <td>14.614286</td>\n      <td>165.051020</td>\n      <td>5.811076e-01</td>\n      <td>0.612582</td>\n      <td>Wartburgkreis</td>\n    </tr>\n    <tr>\n      <th>37196</th>\n      <td>89</td>\n      <td>91</td>\n      <td>83.930000</td>\n      <td>B.1.617.2</td>\n      <td>6.000000</td>\n      <td>0.857143</td>\n      <td>9.814286</td>\n      <td>145.214286</td>\n      <td>4.988738e-01</td>\n      <td>0.586679</td>\n      <td>Wartburgkreis</td>\n    </tr>\n    <tr>\n      <th>37197</th>\n      <td>90</td>\n      <td>92</td>\n      <td>83.930000</td>\n      <td>B.1.617.2</td>\n      <td>6.571429</td>\n      <td>5.028571</td>\n      <td>7.842857</td>\n      <td>105.612245</td>\n      <td>3.810974e-01</td>\n      <td>0.542123</td>\n      <td>Wartburgkreis</td>\n    </tr>\n    <tr>\n      <th>37198</th>\n      <td>91</td>\n      <td>93</td>\n      <td>83.930000</td>\n      <td>B.1.617.2</td>\n      <td>-2.714286</td>\n      <td>-1.842857</td>\n      <td>10.771429</td>\n      <td>83.377551</td>\n      <td>4.671758e-01</td>\n      <td>0.425633</td>\n      <td>Wartburgkreis</td>\n    </tr>\n    <tr>\n      <th>37199</th>\n      <td>92</td>\n      <td>94</td>\n      <td>59.950000</td>\n      <td>0</td>\n      <td>-5.285714</td>\n      <td>7.942857</td>\n      <td>15.385714</td>\n      <td>69.897959</td>\n      <td>4.988519e-01</td>\n      <td>0.421383</td>\n      <td>Wartburgkreis</td>\n    </tr>\n  </tbody>\n</table>\n<p>37200 rows × 11 columns</p>\n</div>"
     },
     "execution_count": 468,
     "metadata": {},
     "output_type": "execute_result"
    }
   ],
   "source": [
    " # 1) separate beta, delete districts, transform variant\n",
    "df = pd.read_csv(\"all_matrix_data_v2.csv\")\n",
    "df"
   ],
   "metadata": {
    "collapsed": false,
    "pycharm": {
     "name": "#%%\n"
    }
   }
  },
  {
   "cell_type": "code",
   "execution_count": 469,
   "outputs": [
    {
     "data": {
      "text/plain": "       0  B.1.1.7  B.1.617.2  Other\n0      0        0          0      1\n1      0        0          0      1\n2      0        0          0      1\n3      0        0          0      1\n4      0        0          0      1\n...   ..      ...        ...    ...\n37195  0        0          1      0\n37196  0        0          1      0\n37197  0        0          1      0\n37198  0        0          1      0\n37199  1        0          0      0\n\n[37200 rows x 4 columns]",
      "text/html": "<div>\n<style scoped>\n    .dataframe tbody tr th:only-of-type {\n        vertical-align: middle;\n    }\n\n    .dataframe tbody tr th {\n        vertical-align: top;\n    }\n\n    .dataframe thead th {\n        text-align: right;\n    }\n</style>\n<table border=\"1\" class=\"dataframe\">\n  <thead>\n    <tr style=\"text-align: right;\">\n      <th></th>\n      <th>0</th>\n      <th>B.1.1.7</th>\n      <th>B.1.617.2</th>\n      <th>Other</th>\n    </tr>\n  </thead>\n  <tbody>\n    <tr>\n      <th>0</th>\n      <td>0</td>\n      <td>0</td>\n      <td>0</td>\n      <td>1</td>\n    </tr>\n    <tr>\n      <th>1</th>\n      <td>0</td>\n      <td>0</td>\n      <td>0</td>\n      <td>1</td>\n    </tr>\n    <tr>\n      <th>2</th>\n      <td>0</td>\n      <td>0</td>\n      <td>0</td>\n      <td>1</td>\n    </tr>\n    <tr>\n      <th>3</th>\n      <td>0</td>\n      <td>0</td>\n      <td>0</td>\n      <td>1</td>\n    </tr>\n    <tr>\n      <th>4</th>\n      <td>0</td>\n      <td>0</td>\n      <td>0</td>\n      <td>1</td>\n    </tr>\n    <tr>\n      <th>...</th>\n      <td>...</td>\n      <td>...</td>\n      <td>...</td>\n      <td>...</td>\n    </tr>\n    <tr>\n      <th>37195</th>\n      <td>0</td>\n      <td>0</td>\n      <td>1</td>\n      <td>0</td>\n    </tr>\n    <tr>\n      <th>37196</th>\n      <td>0</td>\n      <td>0</td>\n      <td>1</td>\n      <td>0</td>\n    </tr>\n    <tr>\n      <th>37197</th>\n      <td>0</td>\n      <td>0</td>\n      <td>1</td>\n      <td>0</td>\n    </tr>\n    <tr>\n      <th>37198</th>\n      <td>0</td>\n      <td>0</td>\n      <td>1</td>\n      <td>0</td>\n    </tr>\n    <tr>\n      <th>37199</th>\n      <td>1</td>\n      <td>0</td>\n      <td>0</td>\n      <td>0</td>\n    </tr>\n  </tbody>\n</table>\n<p>37200 rows × 4 columns</p>\n</div>"
     },
     "execution_count": 469,
     "metadata": {},
     "output_type": "execute_result"
    }
   ],
   "source": [
    "#transform variant\n",
    "df_1 = pd.get_dummies(df['variant'])\n",
    "df_1"
   ],
   "metadata": {
    "collapsed": false,
    "pycharm": {
     "name": "#%%\n"
    }
   }
  },
  {
   "cell_type": "code",
   "execution_count": 470,
   "outputs": [
    {
     "data": {
      "text/plain": "       0  B.1.1.7  B.1.617.2  Other  Unnamed: 0  week  policy_index  \\\n0      0        0          0      1           0     2     62.500000   \n1      0        0          0      1           1     3     63.778571   \n2      0        0          0      1           2     4     65.180000   \n3      0        0          0      1           3     5     65.180000   \n4      0        0          0      1           4     6     65.180000   \n...   ..      ...        ...    ...         ...   ...           ...   \n37195  0        0          1      0          88    90     81.761429   \n37196  0        0          1      0          89    91     83.930000   \n37197  0        0          1      0          90    92     83.930000   \n37198  0        0          1      0          91    93     83.930000   \n37199  1        0          0      0          92    94     59.950000   \n\n        mobility  temperature       wind  infections          beta  \\\n0     -41.714286     4.885714  24.057143    4.897959  2.621485e-01   \n1     -36.000000     5.971429  14.714286    3.326531  1.550497e-01   \n2     -31.142857    16.085714  11.900000    1.122449  3.379712e-18   \n3     -31.857143    12.357143  12.542857    0.500000  1.574978e-02   \n4     -23.571429    13.685714  19.585714    0.704082  5.966302e-01   \n...          ...          ...        ...         ...           ...   \n37195   1.857143     2.185714  14.614286  165.051020  5.811076e-01   \n37196   6.000000     0.857143   9.814286  145.214286  4.988738e-01   \n37197   6.571429     5.028571   7.842857  105.612245  3.810974e-01   \n37198  -2.714286    -1.842857  10.771429   83.377551  4.671758e-01   \n37199  -5.285714     7.942857  15.385714   69.897959  4.988519e-01   \n\n       beta_t_minus_1  \n0            0.405904  \n1            0.269774  \n2            0.278678  \n3            0.002448  \n4            0.014601  \n...               ...  \n37195        0.612582  \n37196        0.586679  \n37197        0.542123  \n37198        0.425633  \n37199        0.421383  \n\n[37200 rows x 13 columns]",
      "text/html": "<div>\n<style scoped>\n    .dataframe tbody tr th:only-of-type {\n        vertical-align: middle;\n    }\n\n    .dataframe tbody tr th {\n        vertical-align: top;\n    }\n\n    .dataframe thead th {\n        text-align: right;\n    }\n</style>\n<table border=\"1\" class=\"dataframe\">\n  <thead>\n    <tr style=\"text-align: right;\">\n      <th></th>\n      <th>0</th>\n      <th>B.1.1.7</th>\n      <th>B.1.617.2</th>\n      <th>Other</th>\n      <th>Unnamed: 0</th>\n      <th>week</th>\n      <th>policy_index</th>\n      <th>mobility</th>\n      <th>temperature</th>\n      <th>wind</th>\n      <th>infections</th>\n      <th>beta</th>\n      <th>beta_t_minus_1</th>\n    </tr>\n  </thead>\n  <tbody>\n    <tr>\n      <th>0</th>\n      <td>0</td>\n      <td>0</td>\n      <td>0</td>\n      <td>1</td>\n      <td>0</td>\n      <td>2</td>\n      <td>62.500000</td>\n      <td>-41.714286</td>\n      <td>4.885714</td>\n      <td>24.057143</td>\n      <td>4.897959</td>\n      <td>2.621485e-01</td>\n      <td>0.405904</td>\n    </tr>\n    <tr>\n      <th>1</th>\n      <td>0</td>\n      <td>0</td>\n      <td>0</td>\n      <td>1</td>\n      <td>1</td>\n      <td>3</td>\n      <td>63.778571</td>\n      <td>-36.000000</td>\n      <td>5.971429</td>\n      <td>14.714286</td>\n      <td>3.326531</td>\n      <td>1.550497e-01</td>\n      <td>0.269774</td>\n    </tr>\n    <tr>\n      <th>2</th>\n      <td>0</td>\n      <td>0</td>\n      <td>0</td>\n      <td>1</td>\n      <td>2</td>\n      <td>4</td>\n      <td>65.180000</td>\n      <td>-31.142857</td>\n      <td>16.085714</td>\n      <td>11.900000</td>\n      <td>1.122449</td>\n      <td>3.379712e-18</td>\n      <td>0.278678</td>\n    </tr>\n    <tr>\n      <th>3</th>\n      <td>0</td>\n      <td>0</td>\n      <td>0</td>\n      <td>1</td>\n      <td>3</td>\n      <td>5</td>\n      <td>65.180000</td>\n      <td>-31.857143</td>\n      <td>12.357143</td>\n      <td>12.542857</td>\n      <td>0.500000</td>\n      <td>1.574978e-02</td>\n      <td>0.002448</td>\n    </tr>\n    <tr>\n      <th>4</th>\n      <td>0</td>\n      <td>0</td>\n      <td>0</td>\n      <td>1</td>\n      <td>4</td>\n      <td>6</td>\n      <td>65.180000</td>\n      <td>-23.571429</td>\n      <td>13.685714</td>\n      <td>19.585714</td>\n      <td>0.704082</td>\n      <td>5.966302e-01</td>\n      <td>0.014601</td>\n    </tr>\n    <tr>\n      <th>...</th>\n      <td>...</td>\n      <td>...</td>\n      <td>...</td>\n      <td>...</td>\n      <td>...</td>\n      <td>...</td>\n      <td>...</td>\n      <td>...</td>\n      <td>...</td>\n      <td>...</td>\n      <td>...</td>\n      <td>...</td>\n      <td>...</td>\n    </tr>\n    <tr>\n      <th>37195</th>\n      <td>0</td>\n      <td>0</td>\n      <td>1</td>\n      <td>0</td>\n      <td>88</td>\n      <td>90</td>\n      <td>81.761429</td>\n      <td>1.857143</td>\n      <td>2.185714</td>\n      <td>14.614286</td>\n      <td>165.051020</td>\n      <td>5.811076e-01</td>\n      <td>0.612582</td>\n    </tr>\n    <tr>\n      <th>37196</th>\n      <td>0</td>\n      <td>0</td>\n      <td>1</td>\n      <td>0</td>\n      <td>89</td>\n      <td>91</td>\n      <td>83.930000</td>\n      <td>6.000000</td>\n      <td>0.857143</td>\n      <td>9.814286</td>\n      <td>145.214286</td>\n      <td>4.988738e-01</td>\n      <td>0.586679</td>\n    </tr>\n    <tr>\n      <th>37197</th>\n      <td>0</td>\n      <td>0</td>\n      <td>1</td>\n      <td>0</td>\n      <td>90</td>\n      <td>92</td>\n      <td>83.930000</td>\n      <td>6.571429</td>\n      <td>5.028571</td>\n      <td>7.842857</td>\n      <td>105.612245</td>\n      <td>3.810974e-01</td>\n      <td>0.542123</td>\n    </tr>\n    <tr>\n      <th>37198</th>\n      <td>0</td>\n      <td>0</td>\n      <td>1</td>\n      <td>0</td>\n      <td>91</td>\n      <td>93</td>\n      <td>83.930000</td>\n      <td>-2.714286</td>\n      <td>-1.842857</td>\n      <td>10.771429</td>\n      <td>83.377551</td>\n      <td>4.671758e-01</td>\n      <td>0.425633</td>\n    </tr>\n    <tr>\n      <th>37199</th>\n      <td>1</td>\n      <td>0</td>\n      <td>0</td>\n      <td>0</td>\n      <td>92</td>\n      <td>94</td>\n      <td>59.950000</td>\n      <td>-5.285714</td>\n      <td>7.942857</td>\n      <td>15.385714</td>\n      <td>69.897959</td>\n      <td>4.988519e-01</td>\n      <td>0.421383</td>\n    </tr>\n  </tbody>\n</table>\n<p>37200 rows × 13 columns</p>\n</div>"
     },
     "execution_count": 470,
     "metadata": {},
     "output_type": "execute_result"
    }
   ],
   "source": [
    "df_2 = df.drop(columns='variant')\n",
    "df = pd.concat([df_1, df_2], axis=1)\n",
    "#delete districts\n",
    "df = df.drop(columns='district')\n",
    "df"
   ],
   "metadata": {
    "collapsed": false,
    "pycharm": {
     "name": "#%%\n"
    }
   }
  },
  {
   "cell_type": "code",
   "execution_count": 471,
   "outputs": [],
   "source": [
    "# Drop \"other\" variant column to prevent dummy variable trap:\n",
    "df = df.drop(columns='Other', axis=1)\n",
    "# Drop zero column:\n",
    "df = df.drop(columns='0', axis=1)"
   ],
   "metadata": {
    "collapsed": false,
    "pycharm": {
     "name": "#%%\n"
    }
   }
  },
  {
   "cell_type": "markdown",
   "source": [
    "#### delete infections = 0, fill empty wind and temeprature rows"
   ],
   "metadata": {
    "collapsed": false
   }
  },
  {
   "cell_type": "code",
   "execution_count": 472,
   "outputs": [],
   "source": [
    "df.drop(df[df['infections'] == 0.0].index, inplace=True)\n",
    "df.reset_index(inplace=True, drop=True)"
   ],
   "metadata": {
    "collapsed": false,
    "pycharm": {
     "name": "#%%\n"
    }
   }
  },
  {
   "cell_type": "code",
   "execution_count": 473,
   "outputs": [],
   "source": [
    "df_v4 = df.copy()"
   ],
   "metadata": {
    "collapsed": false,
    "pycharm": {
     "name": "#%%\n"
    }
   }
  },
  {
   "cell_type": "code",
   "execution_count": 474,
   "outputs": [],
   "source": [
    "df_v4['temperature'] = df.groupby(\"week\").transform(lambda x: x.fillna(x.mean()))['temperature']\n",
    "df_v4['wind'] = df.groupby(\"week\").transform(lambda x: x.fillna(x.mean()))['wind']"
   ],
   "metadata": {
    "collapsed": false,
    "pycharm": {
     "name": "#%%\n"
    }
   }
  },
  {
   "cell_type": "code",
   "execution_count": 475,
   "outputs": [
    {
     "data": {
      "text/plain": "       B.1.1.7  B.1.617.2  Unnamed: 0  week  policy_index   mobility  \\\n0            0          0           0     2     62.500000 -41.714286   \n1            0          0           1     3     63.778571 -36.000000   \n2            0          0           2     4     65.180000 -31.142857   \n3            0          0           3     5     65.180000 -31.857143   \n4            0          0           4     6     65.180000 -23.571429   \n...        ...        ...         ...   ...           ...        ...   \n36771        0          1          88    90     81.761429   1.857143   \n36772        0          1          89    91     83.930000   6.000000   \n36773        0          1          90    92     83.930000   6.571429   \n36774        0          1          91    93     83.930000  -2.714286   \n36775        0          0          92    94     59.950000  -5.285714   \n\n       temperature       wind  infections          beta  beta_t_minus_1  \n0         4.885714  24.057143    4.897959  2.621485e-01        0.405904  \n1         5.971429  14.714286    3.326531  1.550497e-01        0.269774  \n2        16.085714  11.900000    1.122449  3.379712e-18        0.278678  \n3        12.357143  12.542857    0.500000  1.574978e-02        0.002448  \n4        13.685714  19.585714    0.704082  5.966302e-01        0.014601  \n...            ...        ...         ...           ...             ...  \n36771     2.185714  14.614286  165.051020  5.811076e-01        0.612582  \n36772     0.857143   9.814286  145.214286  4.988738e-01        0.586679  \n36773     5.028571   7.842857  105.612245  3.810974e-01        0.542123  \n36774    -1.842857  10.771429   83.377551  4.671758e-01        0.425633  \n36775     7.942857  15.385714   69.897959  4.988519e-01        0.421383  \n\n[36776 rows x 11 columns]",
      "text/html": "<div>\n<style scoped>\n    .dataframe tbody tr th:only-of-type {\n        vertical-align: middle;\n    }\n\n    .dataframe tbody tr th {\n        vertical-align: top;\n    }\n\n    .dataframe thead th {\n        text-align: right;\n    }\n</style>\n<table border=\"1\" class=\"dataframe\">\n  <thead>\n    <tr style=\"text-align: right;\">\n      <th></th>\n      <th>B.1.1.7</th>\n      <th>B.1.617.2</th>\n      <th>Unnamed: 0</th>\n      <th>week</th>\n      <th>policy_index</th>\n      <th>mobility</th>\n      <th>temperature</th>\n      <th>wind</th>\n      <th>infections</th>\n      <th>beta</th>\n      <th>beta_t_minus_1</th>\n    </tr>\n  </thead>\n  <tbody>\n    <tr>\n      <th>0</th>\n      <td>0</td>\n      <td>0</td>\n      <td>0</td>\n      <td>2</td>\n      <td>62.500000</td>\n      <td>-41.714286</td>\n      <td>4.885714</td>\n      <td>24.057143</td>\n      <td>4.897959</td>\n      <td>2.621485e-01</td>\n      <td>0.405904</td>\n    </tr>\n    <tr>\n      <th>1</th>\n      <td>0</td>\n      <td>0</td>\n      <td>1</td>\n      <td>3</td>\n      <td>63.778571</td>\n      <td>-36.000000</td>\n      <td>5.971429</td>\n      <td>14.714286</td>\n      <td>3.326531</td>\n      <td>1.550497e-01</td>\n      <td>0.269774</td>\n    </tr>\n    <tr>\n      <th>2</th>\n      <td>0</td>\n      <td>0</td>\n      <td>2</td>\n      <td>4</td>\n      <td>65.180000</td>\n      <td>-31.142857</td>\n      <td>16.085714</td>\n      <td>11.900000</td>\n      <td>1.122449</td>\n      <td>3.379712e-18</td>\n      <td>0.278678</td>\n    </tr>\n    <tr>\n      <th>3</th>\n      <td>0</td>\n      <td>0</td>\n      <td>3</td>\n      <td>5</td>\n      <td>65.180000</td>\n      <td>-31.857143</td>\n      <td>12.357143</td>\n      <td>12.542857</td>\n      <td>0.500000</td>\n      <td>1.574978e-02</td>\n      <td>0.002448</td>\n    </tr>\n    <tr>\n      <th>4</th>\n      <td>0</td>\n      <td>0</td>\n      <td>4</td>\n      <td>6</td>\n      <td>65.180000</td>\n      <td>-23.571429</td>\n      <td>13.685714</td>\n      <td>19.585714</td>\n      <td>0.704082</td>\n      <td>5.966302e-01</td>\n      <td>0.014601</td>\n    </tr>\n    <tr>\n      <th>...</th>\n      <td>...</td>\n      <td>...</td>\n      <td>...</td>\n      <td>...</td>\n      <td>...</td>\n      <td>...</td>\n      <td>...</td>\n      <td>...</td>\n      <td>...</td>\n      <td>...</td>\n      <td>...</td>\n    </tr>\n    <tr>\n      <th>36771</th>\n      <td>0</td>\n      <td>1</td>\n      <td>88</td>\n      <td>90</td>\n      <td>81.761429</td>\n      <td>1.857143</td>\n      <td>2.185714</td>\n      <td>14.614286</td>\n      <td>165.051020</td>\n      <td>5.811076e-01</td>\n      <td>0.612582</td>\n    </tr>\n    <tr>\n      <th>36772</th>\n      <td>0</td>\n      <td>1</td>\n      <td>89</td>\n      <td>91</td>\n      <td>83.930000</td>\n      <td>6.000000</td>\n      <td>0.857143</td>\n      <td>9.814286</td>\n      <td>145.214286</td>\n      <td>4.988738e-01</td>\n      <td>0.586679</td>\n    </tr>\n    <tr>\n      <th>36773</th>\n      <td>0</td>\n      <td>1</td>\n      <td>90</td>\n      <td>92</td>\n      <td>83.930000</td>\n      <td>6.571429</td>\n      <td>5.028571</td>\n      <td>7.842857</td>\n      <td>105.612245</td>\n      <td>3.810974e-01</td>\n      <td>0.542123</td>\n    </tr>\n    <tr>\n      <th>36774</th>\n      <td>0</td>\n      <td>1</td>\n      <td>91</td>\n      <td>93</td>\n      <td>83.930000</td>\n      <td>-2.714286</td>\n      <td>-1.842857</td>\n      <td>10.771429</td>\n      <td>83.377551</td>\n      <td>4.671758e-01</td>\n      <td>0.425633</td>\n    </tr>\n    <tr>\n      <th>36775</th>\n      <td>0</td>\n      <td>0</td>\n      <td>92</td>\n      <td>94</td>\n      <td>59.950000</td>\n      <td>-5.285714</td>\n      <td>7.942857</td>\n      <td>15.385714</td>\n      <td>69.897959</td>\n      <td>4.988519e-01</td>\n      <td>0.421383</td>\n    </tr>\n  </tbody>\n</table>\n<p>36776 rows × 11 columns</p>\n</div>"
     },
     "execution_count": 475,
     "metadata": {},
     "output_type": "execute_result"
    }
   ],
   "source": [
    "df = df_v4\n",
    "df"
   ],
   "metadata": {
    "collapsed": false,
    "pycharm": {
     "name": "#%%\n"
    }
   }
  },
  {
   "cell_type": "markdown",
   "source": [
    "#### delete small betas"
   ],
   "metadata": {
    "collapsed": false
   }
  },
  {
   "cell_type": "code",
   "execution_count": 476,
   "outputs": [],
   "source": [
    "df.drop(df[df['beta'] <= 0.025].index, inplace=True)\n",
    "df.reset_index(inplace=True, drop=True)"
   ],
   "metadata": {
    "collapsed": false,
    "pycharm": {
     "name": "#%%\n"
    }
   }
  },
  {
   "cell_type": "markdown",
   "source": [
    "#### create beta, delete beta from dataframe"
   ],
   "metadata": {
    "collapsed": false
   }
  },
  {
   "cell_type": "code",
   "execution_count": 476,
   "outputs": [],
   "source": [],
   "metadata": {
    "collapsed": false,
    "pycharm": {
     "name": "#%%\n"
    }
   }
  },
  {
   "cell_type": "markdown",
   "source": [
    "#### Standadizing"
   ],
   "metadata": {
    "collapsed": false,
    "pycharm": {
     "name": "#%% md\n"
    }
   }
  },
  {
   "cell_type": "code",
   "execution_count": 477,
   "outputs": [],
   "source": [
    "#save the given model\n",
    "def save_standardizing_model(model):\n",
    "    filename = 'standardizing_model.sav'\n",
    "    pickle.dump(model, open(filename, 'wb'))"
   ],
   "metadata": {
    "collapsed": false,
    "pycharm": {
     "name": "#%%\n"
    }
   }
  },
  {
   "cell_type": "code",
   "execution_count": 478,
   "outputs": [
    {
     "data": {
      "text/plain": "        B.1.1.7  B.1.617.2  Unnamed: 0  policy_index  mobility  temperature  \\\n0     -0.587296  -0.643395   -1.775476     -0.469712 -2.550286    -0.828519   \n1     -0.587296  -0.643395   -1.737497     -0.291658 -2.183685    -0.666092   \n2     -0.587296  -0.643395   -1.623557     -0.096495 -1.386327     0.487997   \n3     -0.587296  -0.643395   -1.585577      0.483224 -1.633783     0.024224   \n4     -0.587296  -0.643395   -1.509618     -0.641201 -0.671454    -0.125380   \n...         ...        ...         ...           ...       ...          ...   \n34866 -0.587296   1.554256    1.566749      2.212635  0.245049    -1.232451   \n34867 -0.587296   1.554256    1.604729      2.514630  0.510835    -1.431210   \n34868 -0.587296   1.554256    1.642709      2.514630  0.547495    -0.807147   \n34869 -0.587296   1.554256    1.680689      2.514630 -0.048232    -1.835142   \n34870 -0.587296  -0.643395    1.718668     -0.824825 -0.213203    -0.371158   \n\n           wind  infections  beta_t_minus_1      beta  week  \n0      3.695803   -0.363677        0.405904  0.262149     2  \n1      1.053923   -0.386043        0.269774  0.155050     3  \n2      2.431417   -0.423368        0.014601  0.596630     6  \n3      1.183189   -0.424530        0.416047  0.248171     7  \n4      1.284178   -0.431646        0.005292  0.026824     9  \n...         ...         ...             ...       ...   ...  \n34866  1.025646    1.915740        0.612582  0.581108    90  \n34867 -0.331651    1.633409        0.586679  0.498874    91  \n34868 -0.889112    1.069763        0.542123  0.381097    92  \n34869 -0.060999    0.753303        0.425633  0.467176    93  \n34870  1.243783    0.561451        0.421383  0.498852    94  \n\n[34871 rows x 11 columns]",
      "text/html": "<div>\n<style scoped>\n    .dataframe tbody tr th:only-of-type {\n        vertical-align: middle;\n    }\n\n    .dataframe tbody tr th {\n        vertical-align: top;\n    }\n\n    .dataframe thead th {\n        text-align: right;\n    }\n</style>\n<table border=\"1\" class=\"dataframe\">\n  <thead>\n    <tr style=\"text-align: right;\">\n      <th></th>\n      <th>B.1.1.7</th>\n      <th>B.1.617.2</th>\n      <th>Unnamed: 0</th>\n      <th>policy_index</th>\n      <th>mobility</th>\n      <th>temperature</th>\n      <th>wind</th>\n      <th>infections</th>\n      <th>beta_t_minus_1</th>\n      <th>beta</th>\n      <th>week</th>\n    </tr>\n  </thead>\n  <tbody>\n    <tr>\n      <th>0</th>\n      <td>-0.587296</td>\n      <td>-0.643395</td>\n      <td>-1.775476</td>\n      <td>-0.469712</td>\n      <td>-2.550286</td>\n      <td>-0.828519</td>\n      <td>3.695803</td>\n      <td>-0.363677</td>\n      <td>0.405904</td>\n      <td>0.262149</td>\n      <td>2</td>\n    </tr>\n    <tr>\n      <th>1</th>\n      <td>-0.587296</td>\n      <td>-0.643395</td>\n      <td>-1.737497</td>\n      <td>-0.291658</td>\n      <td>-2.183685</td>\n      <td>-0.666092</td>\n      <td>1.053923</td>\n      <td>-0.386043</td>\n      <td>0.269774</td>\n      <td>0.155050</td>\n      <td>3</td>\n    </tr>\n    <tr>\n      <th>2</th>\n      <td>-0.587296</td>\n      <td>-0.643395</td>\n      <td>-1.623557</td>\n      <td>-0.096495</td>\n      <td>-1.386327</td>\n      <td>0.487997</td>\n      <td>2.431417</td>\n      <td>-0.423368</td>\n      <td>0.014601</td>\n      <td>0.596630</td>\n      <td>6</td>\n    </tr>\n    <tr>\n      <th>3</th>\n      <td>-0.587296</td>\n      <td>-0.643395</td>\n      <td>-1.585577</td>\n      <td>0.483224</td>\n      <td>-1.633783</td>\n      <td>0.024224</td>\n      <td>1.183189</td>\n      <td>-0.424530</td>\n      <td>0.416047</td>\n      <td>0.248171</td>\n      <td>7</td>\n    </tr>\n    <tr>\n      <th>4</th>\n      <td>-0.587296</td>\n      <td>-0.643395</td>\n      <td>-1.509618</td>\n      <td>-0.641201</td>\n      <td>-0.671454</td>\n      <td>-0.125380</td>\n      <td>1.284178</td>\n      <td>-0.431646</td>\n      <td>0.005292</td>\n      <td>0.026824</td>\n      <td>9</td>\n    </tr>\n    <tr>\n      <th>...</th>\n      <td>...</td>\n      <td>...</td>\n      <td>...</td>\n      <td>...</td>\n      <td>...</td>\n      <td>...</td>\n      <td>...</td>\n      <td>...</td>\n      <td>...</td>\n      <td>...</td>\n      <td>...</td>\n    </tr>\n    <tr>\n      <th>34866</th>\n      <td>-0.587296</td>\n      <td>1.554256</td>\n      <td>1.566749</td>\n      <td>2.212635</td>\n      <td>0.245049</td>\n      <td>-1.232451</td>\n      <td>1.025646</td>\n      <td>1.915740</td>\n      <td>0.612582</td>\n      <td>0.581108</td>\n      <td>90</td>\n    </tr>\n    <tr>\n      <th>34867</th>\n      <td>-0.587296</td>\n      <td>1.554256</td>\n      <td>1.604729</td>\n      <td>2.514630</td>\n      <td>0.510835</td>\n      <td>-1.431210</td>\n      <td>-0.331651</td>\n      <td>1.633409</td>\n      <td>0.586679</td>\n      <td>0.498874</td>\n      <td>91</td>\n    </tr>\n    <tr>\n      <th>34868</th>\n      <td>-0.587296</td>\n      <td>1.554256</td>\n      <td>1.642709</td>\n      <td>2.514630</td>\n      <td>0.547495</td>\n      <td>-0.807147</td>\n      <td>-0.889112</td>\n      <td>1.069763</td>\n      <td>0.542123</td>\n      <td>0.381097</td>\n      <td>92</td>\n    </tr>\n    <tr>\n      <th>34869</th>\n      <td>-0.587296</td>\n      <td>1.554256</td>\n      <td>1.680689</td>\n      <td>2.514630</td>\n      <td>-0.048232</td>\n      <td>-1.835142</td>\n      <td>-0.060999</td>\n      <td>0.753303</td>\n      <td>0.425633</td>\n      <td>0.467176</td>\n      <td>93</td>\n    </tr>\n    <tr>\n      <th>34870</th>\n      <td>-0.587296</td>\n      <td>-0.643395</td>\n      <td>1.718668</td>\n      <td>-0.824825</td>\n      <td>-0.213203</td>\n      <td>-0.371158</td>\n      <td>1.243783</td>\n      <td>0.561451</td>\n      <td>0.421383</td>\n      <td>0.498852</td>\n      <td>94</td>\n    </tr>\n  </tbody>\n</table>\n<p>34871 rows × 11 columns</p>\n</div>"
     },
     "execution_count": 478,
     "metadata": {},
     "output_type": "execute_result"
    }
   ],
   "source": [
    "# Standardize:\n",
    "scaler_obj = StandardScaler()\n",
    "\n",
    "# Split explanatory columns from beta:\n",
    "explanatory_cols = df.drop(columns=['beta_t_minus_1', 'beta', 'week'], axis=1)\n",
    "beta_cols = df[['beta_t_minus_1', 'beta', 'week']]\n",
    "\n",
    "# Apply scaling:\n",
    "scaled_explanatory_cols = pd.DataFrame(scaler_obj.fit_transform(explanatory_cols), index=explanatory_cols.index, columns=explanatory_cols.columns)\n",
    "\n",
    "# Merge both together again:\n",
    "df = pd.concat([scaled_explanatory_cols, beta_cols], axis=1)\n",
    "save_standardizing_model(scaler_obj)\n",
    "df"
   ],
   "metadata": {
    "collapsed": false,
    "pycharm": {
     "name": "#%%\n"
    }
   }
  },
  {
   "cell_type": "markdown",
   "source": [
    "#### split into test data"
   ],
   "metadata": {
    "collapsed": false
   }
  },
  {
   "cell_type": "code",
   "execution_count": 479,
   "outputs": [],
   "source": [
    "max_week = df['week'].max()\n",
    "X_df = df.loc[df['week'] < max_week-5]\n",
    "X_test = df.loc[df['week'] > max_week-6]\n",
    "beta_df = pd.DataFrame(X_df['beta'])\n",
    "y_test = pd.DataFrame(X_test['beta'])\n",
    "X_df.reset_index(inplace=True)\n",
    "X_df = X_df.drop(columns='index')\n",
    "X_test.reset_index(inplace=True)\n",
    "X_test = X_test.drop(columns='index')\n",
    "beta_df.reset_index(inplace=True)\n",
    "beta_df = beta_df.drop(columns='index')\n",
    "y_test.reset_index(inplace=True)\n",
    "y_test = y_test.drop(columns='index')\n",
    "beta_np = beta_df.to_numpy()\n"
   ],
   "metadata": {
    "collapsed": false,
    "pycharm": {
     "name": "#%%\n"
    }
   }
  },
  {
   "cell_type": "markdown",
   "source": [
    "#### delete beta, create beta"
   ],
   "metadata": {
    "collapsed": false
   }
  },
  {
   "cell_type": "code",
   "execution_count": 480,
   "outputs": [
    {
     "data": {
      "text/plain": "       B.1.1.7  B.1.617.2  Unnamed: 0  policy_index  mobility  temperature  \\\n0    -0.587296   1.554256    1.528769      1.194047 -0.112387    -1.441896   \n1    -0.587296   1.554256    1.566749      2.212635 -0.084892    -1.405564   \n2    -0.587296   1.554256    1.604729      2.514630  0.061748    -1.473955   \n3    -0.587296   1.554256    1.642709      2.514630  0.345864    -0.935379   \n4    -0.587296   1.554256    1.680689      2.514630  0.080078    -1.461131   \n...        ...        ...         ...           ...       ...          ...   \n2225 -0.587296   1.554256    1.566749      2.212635  0.245049    -1.232451   \n2226 -0.587296   1.554256    1.604729      2.514630  0.510835    -1.431210   \n2227 -0.587296   1.554256    1.642709      2.514630  0.547495    -0.807147   \n2228 -0.587296   1.554256    1.680689      2.514630 -0.048232    -1.835142   \n2229 -0.587296  -0.643395    1.718668     -0.824825 -0.213203    -0.371158   \n\n          wind  infections  beta_t_minus_1  week  \n0     0.395472    0.098306        0.620975    89  \n1     1.651780    0.004341        0.601931    90  \n2     0.589372   -0.151493        0.442100    91  \n3    -0.828518   -0.153091        0.255667    92  \n4    -0.044841    0.169760        0.318667    93  \n...        ...         ...             ...   ...  \n2225  1.025646    1.915740        0.612582    90  \n2226 -0.331651    1.633409        0.586679    91  \n2227 -0.889112    1.069763        0.542123    92  \n2228 -0.060999    0.753303        0.425633    93  \n2229  1.243783    0.561451        0.421383    94  \n\n[2230 rows x 10 columns]",
      "text/html": "<div>\n<style scoped>\n    .dataframe tbody tr th:only-of-type {\n        vertical-align: middle;\n    }\n\n    .dataframe tbody tr th {\n        vertical-align: top;\n    }\n\n    .dataframe thead th {\n        text-align: right;\n    }\n</style>\n<table border=\"1\" class=\"dataframe\">\n  <thead>\n    <tr style=\"text-align: right;\">\n      <th></th>\n      <th>B.1.1.7</th>\n      <th>B.1.617.2</th>\n      <th>Unnamed: 0</th>\n      <th>policy_index</th>\n      <th>mobility</th>\n      <th>temperature</th>\n      <th>wind</th>\n      <th>infections</th>\n      <th>beta_t_minus_1</th>\n      <th>week</th>\n    </tr>\n  </thead>\n  <tbody>\n    <tr>\n      <th>0</th>\n      <td>-0.587296</td>\n      <td>1.554256</td>\n      <td>1.528769</td>\n      <td>1.194047</td>\n      <td>-0.112387</td>\n      <td>-1.441896</td>\n      <td>0.395472</td>\n      <td>0.098306</td>\n      <td>0.620975</td>\n      <td>89</td>\n    </tr>\n    <tr>\n      <th>1</th>\n      <td>-0.587296</td>\n      <td>1.554256</td>\n      <td>1.566749</td>\n      <td>2.212635</td>\n      <td>-0.084892</td>\n      <td>-1.405564</td>\n      <td>1.651780</td>\n      <td>0.004341</td>\n      <td>0.601931</td>\n      <td>90</td>\n    </tr>\n    <tr>\n      <th>2</th>\n      <td>-0.587296</td>\n      <td>1.554256</td>\n      <td>1.604729</td>\n      <td>2.514630</td>\n      <td>0.061748</td>\n      <td>-1.473955</td>\n      <td>0.589372</td>\n      <td>-0.151493</td>\n      <td>0.442100</td>\n      <td>91</td>\n    </tr>\n    <tr>\n      <th>3</th>\n      <td>-0.587296</td>\n      <td>1.554256</td>\n      <td>1.642709</td>\n      <td>2.514630</td>\n      <td>0.345864</td>\n      <td>-0.935379</td>\n      <td>-0.828518</td>\n      <td>-0.153091</td>\n      <td>0.255667</td>\n      <td>92</td>\n    </tr>\n    <tr>\n      <th>4</th>\n      <td>-0.587296</td>\n      <td>1.554256</td>\n      <td>1.680689</td>\n      <td>2.514630</td>\n      <td>0.080078</td>\n      <td>-1.461131</td>\n      <td>-0.044841</td>\n      <td>0.169760</td>\n      <td>0.318667</td>\n      <td>93</td>\n    </tr>\n    <tr>\n      <th>...</th>\n      <td>...</td>\n      <td>...</td>\n      <td>...</td>\n      <td>...</td>\n      <td>...</td>\n      <td>...</td>\n      <td>...</td>\n      <td>...</td>\n      <td>...</td>\n      <td>...</td>\n    </tr>\n    <tr>\n      <th>2225</th>\n      <td>-0.587296</td>\n      <td>1.554256</td>\n      <td>1.566749</td>\n      <td>2.212635</td>\n      <td>0.245049</td>\n      <td>-1.232451</td>\n      <td>1.025646</td>\n      <td>1.915740</td>\n      <td>0.612582</td>\n      <td>90</td>\n    </tr>\n    <tr>\n      <th>2226</th>\n      <td>-0.587296</td>\n      <td>1.554256</td>\n      <td>1.604729</td>\n      <td>2.514630</td>\n      <td>0.510835</td>\n      <td>-1.431210</td>\n      <td>-0.331651</td>\n      <td>1.633409</td>\n      <td>0.586679</td>\n      <td>91</td>\n    </tr>\n    <tr>\n      <th>2227</th>\n      <td>-0.587296</td>\n      <td>1.554256</td>\n      <td>1.642709</td>\n      <td>2.514630</td>\n      <td>0.547495</td>\n      <td>-0.807147</td>\n      <td>-0.889112</td>\n      <td>1.069763</td>\n      <td>0.542123</td>\n      <td>92</td>\n    </tr>\n    <tr>\n      <th>2228</th>\n      <td>-0.587296</td>\n      <td>1.554256</td>\n      <td>1.680689</td>\n      <td>2.514630</td>\n      <td>-0.048232</td>\n      <td>-1.835142</td>\n      <td>-0.060999</td>\n      <td>0.753303</td>\n      <td>0.425633</td>\n      <td>93</td>\n    </tr>\n    <tr>\n      <th>2229</th>\n      <td>-0.587296</td>\n      <td>-0.643395</td>\n      <td>1.718668</td>\n      <td>-0.824825</td>\n      <td>-0.213203</td>\n      <td>-0.371158</td>\n      <td>1.243783</td>\n      <td>0.561451</td>\n      <td>0.421383</td>\n      <td>94</td>\n    </tr>\n  </tbody>\n</table>\n<p>2230 rows × 10 columns</p>\n</div>"
     },
     "execution_count": 480,
     "metadata": {},
     "output_type": "execute_result"
    }
   ],
   "source": [
    "#delete beta\n",
    "X_df = X_df.drop(columns='beta')\n",
    "X_test = X_test.drop(columns='beta')\n",
    "X_test\n"
   ],
   "metadata": {
    "collapsed": false,
    "pycharm": {
     "name": "#%%\n"
    }
   }
  },
  {
   "cell_type": "markdown",
   "source": [
    "#### delete week and unnamed columns"
   ],
   "metadata": {
    "collapsed": false
   }
  },
  {
   "cell_type": "code",
   "execution_count": 481,
   "outputs": [
    {
     "data": {
      "text/plain": "        B.1.1.7  B.1.617.2  policy_index  mobility  temperature      wind  \\\n0     -0.587296  -0.643395     -0.469712 -2.550286    -0.828519  3.695803   \n1     -0.587296  -0.643395     -0.291658 -2.183685    -0.666092  1.053923   \n2     -0.587296  -0.643395     -0.096495 -1.386327     0.487997  2.431417   \n3     -0.587296  -0.643395      0.483224 -1.633783     0.024224  1.183189   \n4     -0.587296  -0.643395     -0.641201 -0.671454    -0.125380  1.284178   \n...         ...        ...           ...       ...          ...       ...   \n32636 -0.587296   1.554256     -1.287169  1.033242    -0.345512  1.316495   \n32637 -0.587296   1.554256     -1.144527  0.446680    -0.270710  0.940815   \n32638 -0.587296   1.554256     -1.090812  0.263379    -0.495116  0.052109   \n32639 -0.587296   1.554256     -0.972441  0.465010    -1.001633 -0.723489   \n32640 -0.587296   1.554256     -0.569979  0.318369    -0.642583 -0.323572   \n\n       infections  beta_t_minus_1  \n0       -0.363677        0.405904  \n1       -0.386043        0.269774  \n2       -0.423368        0.014601  \n3       -0.424530        0.416047  \n4       -0.431646        0.005292  \n...           ...             ...  \n32636    0.551575        0.708111  \n32637    0.885754        0.754101  \n32638    1.287612        0.704473  \n32639    1.612786        0.802756  \n32640    1.863021        0.687939  \n\n[32641 rows x 8 columns]",
      "text/html": "<div>\n<style scoped>\n    .dataframe tbody tr th:only-of-type {\n        vertical-align: middle;\n    }\n\n    .dataframe tbody tr th {\n        vertical-align: top;\n    }\n\n    .dataframe thead th {\n        text-align: right;\n    }\n</style>\n<table border=\"1\" class=\"dataframe\">\n  <thead>\n    <tr style=\"text-align: right;\">\n      <th></th>\n      <th>B.1.1.7</th>\n      <th>B.1.617.2</th>\n      <th>policy_index</th>\n      <th>mobility</th>\n      <th>temperature</th>\n      <th>wind</th>\n      <th>infections</th>\n      <th>beta_t_minus_1</th>\n    </tr>\n  </thead>\n  <tbody>\n    <tr>\n      <th>0</th>\n      <td>-0.587296</td>\n      <td>-0.643395</td>\n      <td>-0.469712</td>\n      <td>-2.550286</td>\n      <td>-0.828519</td>\n      <td>3.695803</td>\n      <td>-0.363677</td>\n      <td>0.405904</td>\n    </tr>\n    <tr>\n      <th>1</th>\n      <td>-0.587296</td>\n      <td>-0.643395</td>\n      <td>-0.291658</td>\n      <td>-2.183685</td>\n      <td>-0.666092</td>\n      <td>1.053923</td>\n      <td>-0.386043</td>\n      <td>0.269774</td>\n    </tr>\n    <tr>\n      <th>2</th>\n      <td>-0.587296</td>\n      <td>-0.643395</td>\n      <td>-0.096495</td>\n      <td>-1.386327</td>\n      <td>0.487997</td>\n      <td>2.431417</td>\n      <td>-0.423368</td>\n      <td>0.014601</td>\n    </tr>\n    <tr>\n      <th>3</th>\n      <td>-0.587296</td>\n      <td>-0.643395</td>\n      <td>0.483224</td>\n      <td>-1.633783</td>\n      <td>0.024224</td>\n      <td>1.183189</td>\n      <td>-0.424530</td>\n      <td>0.416047</td>\n    </tr>\n    <tr>\n      <th>4</th>\n      <td>-0.587296</td>\n      <td>-0.643395</td>\n      <td>-0.641201</td>\n      <td>-0.671454</td>\n      <td>-0.125380</td>\n      <td>1.284178</td>\n      <td>-0.431646</td>\n      <td>0.005292</td>\n    </tr>\n    <tr>\n      <th>...</th>\n      <td>...</td>\n      <td>...</td>\n      <td>...</td>\n      <td>...</td>\n      <td>...</td>\n      <td>...</td>\n      <td>...</td>\n      <td>...</td>\n    </tr>\n    <tr>\n      <th>32636</th>\n      <td>-0.587296</td>\n      <td>1.554256</td>\n      <td>-1.287169</td>\n      <td>1.033242</td>\n      <td>-0.345512</td>\n      <td>1.316495</td>\n      <td>0.551575</td>\n      <td>0.708111</td>\n    </tr>\n    <tr>\n      <th>32637</th>\n      <td>-0.587296</td>\n      <td>1.554256</td>\n      <td>-1.144527</td>\n      <td>0.446680</td>\n      <td>-0.270710</td>\n      <td>0.940815</td>\n      <td>0.885754</td>\n      <td>0.754101</td>\n    </tr>\n    <tr>\n      <th>32638</th>\n      <td>-0.587296</td>\n      <td>1.554256</td>\n      <td>-1.090812</td>\n      <td>0.263379</td>\n      <td>-0.495116</td>\n      <td>0.052109</td>\n      <td>1.287612</td>\n      <td>0.704473</td>\n    </tr>\n    <tr>\n      <th>32639</th>\n      <td>-0.587296</td>\n      <td>1.554256</td>\n      <td>-0.972441</td>\n      <td>0.465010</td>\n      <td>-1.001633</td>\n      <td>-0.723489</td>\n      <td>1.612786</td>\n      <td>0.802756</td>\n    </tr>\n    <tr>\n      <th>32640</th>\n      <td>-0.587296</td>\n      <td>1.554256</td>\n      <td>-0.569979</td>\n      <td>0.318369</td>\n      <td>-0.642583</td>\n      <td>-0.323572</td>\n      <td>1.863021</td>\n      <td>0.687939</td>\n    </tr>\n  </tbody>\n</table>\n<p>32641 rows × 8 columns</p>\n</div>"
     },
     "execution_count": 481,
     "metadata": {},
     "output_type": "execute_result"
    }
   ],
   "source": [
    "X_df = X_df.drop(columns='week')\n",
    "X_df = X_df.loc[:, ~X_df.columns.str.contains('^Unnamed')]\n",
    "X_test = X_test.drop(columns='week')\n",
    "X_test = X_test.loc[:, ~X_test.columns.str.contains('^Unnamed')]\n",
    "X_df"
   ],
   "metadata": {
    "collapsed": false,
    "pycharm": {
     "name": "#%%\n"
    }
   }
  },
  {
   "cell_type": "markdown",
   "source": [
    "#### Split into validation and training data"
   ],
   "metadata": {
    "collapsed": false
   }
  },
  {
   "cell_type": "code",
   "execution_count": 482,
   "outputs": [],
   "source": [
    "X_train, X_val, y_train, y_val = train_test_split(X_df, beta_df, shuffle=True, train_size=0.75, random_state=1)"
   ],
   "metadata": {
    "collapsed": false,
    "pycharm": {
     "name": "#%%\n"
    }
   }
  },
  {
   "cell_type": "markdown",
   "source": [
    "### run all models to find best one"
   ],
   "metadata": {
    "collapsed": false
   }
  },
  {
   "cell_type": "markdown",
   "source": [
    "#### train and run the models"
   ],
   "metadata": {
    "collapsed": false
   }
  },
  {
   "cell_type": "code",
   "execution_count": 483,
   "outputs": [],
   "source": [
    "def run_train_val(X_train, y_train, X_val, y_val, modeltype):\n",
    "    model = ml_training(X_train, y_train, modeltype)\n",
    "    return(ml_val(X_val, y_val, model)), model\n"
   ],
   "metadata": {
    "collapsed": false,
    "pycharm": {
     "name": "#%%\n"
    }
   }
  },
  {
   "cell_type": "markdown",
   "source": [
    "#### ML training"
   ],
   "metadata": {
    "collapsed": false
   }
  },
  {
   "cell_type": "code",
   "execution_count": 484,
   "outputs": [],
   "source": [
    "def ml_training(x, y, model):\n",
    "    y = y.to_numpy()\n",
    "    y = y.ravel()\n",
    "    if model == \"linear_regression\":\n",
    "        reg = linear_model.LinearRegression()\n",
    "    elif model == \"lasso\":\n",
    "        reg = linear_model.Lasso(alpha=0.1)\n",
    "    elif model == \"support_vector_machine\":\n",
    "        reg = svm.SVR()\n",
    "    elif model == \"linear_regression_tree\":\n",
    "        reg = tree.DecisionTreeRegressor()\n",
    "    elif model == \"ensemble_method_adaboost\":\n",
    "        reg = AdaBoostRegressor(random_state=0, n_estimators=100)\n",
    "        reg.fit(x, y)\n",
    "        return reg\n",
    "    elif model == \"neural_network\":\n",
    "        reg = MLPRegressor(random_state=1, max_iter=500).fit(x, y)\n",
    "        return reg\n",
    "    elif model == \"random_forest_regressor\":\n",
    "        reg = RandomForestRegressor(n_estimators=10, random_state=0, max_depth=2)\n",
    "        reg = reg.fit(x, y)\n",
    "        return reg\n",
    "    elif model == \"XG_boost\":\n",
    "        xgb_model = xgb.XGBRegressor(verbosity=0)\n",
    "        xgb_model.name = 'XGBoostRegressor'\n",
    "        reg = xgb_model.fit(x, y)\n",
    "        return reg\n",
    "    reg.fit(x, y)\n",
    "    return reg"
   ],
   "metadata": {
    "collapsed": false,
    "pycharm": {
     "name": "#%%\n"
    }
   }
  },
  {
   "cell_type": "markdown",
   "source": [
    "#### ML validation"
   ],
   "metadata": {
    "collapsed": false
   }
  },
  {
   "cell_type": "code",
   "execution_count": 485,
   "outputs": [],
   "source": [
    "#validate the fitted model\n",
    "def ml_val(X_val, y_val, model):\n",
    "    pred = model.predict(X_val)\n",
    "    scores = compute_evaluation_metrics(y_val,pred)\n",
    "    return(scores[\"rmse\"])"
   ],
   "metadata": {
    "collapsed": false,
    "pycharm": {
     "name": "#%%\n"
    }
   }
  },
  {
   "cell_type": "code",
   "execution_count": 486,
   "outputs": [],
   "source": [
    "#save the given model\n",
    "def save_model(model):\n",
    "    filename = 'finalized_model.sav'\n",
    "    pickle.dump(model, open(filename, 'wb'))"
   ],
   "metadata": {
    "collapsed": false,
    "pycharm": {
     "name": "#%%\n"
    }
   }
  },
  {
   "cell_type": "code",
   "execution_count": 487,
   "outputs": [],
   "source": [
    "#load a previous saved model\n",
    "def load_model():\n",
    "    # load the model from disk\n",
    "    filename = 'finalized_model.sav'\n",
    "    loaded_model = pickle.load(open(filename, 'rb'))\n",
    "    loaded_model\n",
    "    return loaded_model"
   ],
   "metadata": {
    "collapsed": false,
    "pycharm": {
     "name": "#%%\n"
    }
   }
  },
  {
   "cell_type": "code",
   "execution_count": 488,
   "outputs": [],
   "source": [
    "#test the fitted model: coompare pred and beta t-1\n",
    "def ml_testing_beta(X_test, y_test):\n",
    "    beta_t_1 = X_test['beta_t_minus_1']\n",
    "    scores_beta = compute_evaluation_metrics(y_val=y_test, y_pred=beta_t_1)\n",
    "    return scores_beta[\"rmse\"]"
   ],
   "metadata": {
    "collapsed": false,
    "pycharm": {
     "name": "#%%\n"
    }
   }
  },
  {
   "cell_type": "code",
   "execution_count": 489,
   "outputs": [
    {
     "data": {
      "text/plain": "(pandas.core.frame.DataFrame,\n pandas.core.frame.DataFrame,\n            beta\n 800    0.477804\n 13617  0.292202\n 21098  0.957946\n 6890   0.708491\n 3368   0.063154\n ...         ...\n 32511  0.263056\n 5192   0.695632\n 12172  0.786655\n 235    0.981799\n 29733  0.225051\n \n [24480 rows x 1 columns])"
     },
     "execution_count": 489,
     "metadata": {},
     "output_type": "execute_result"
    }
   ],
   "source": [
    "type(y_train), type(y_val), y_train"
   ],
   "metadata": {
    "collapsed": false,
    "pycharm": {
     "name": "#%%\n"
    }
   }
  },
  {
   "cell_type": "code",
   "execution_count": 490,
   "outputs": [],
   "source": [
    "#run all model types to find best model\n",
    "rmse = []\n",
    "min = 100000\n",
    "metrics =[\"linear_regression\", \"lasso\", \"support_vector_machine\", \"linear_regression_tree\", \"ensemble_method_adaboost\", \"neural_network\", \"random_forest_regressor\", \"XG_boost\"]\n",
    "for i in range(len(metrics)):\n",
    "    rmse.append(run_train_val(X_train, y_train, X_val, y_val, metrics[i]))\n",
    "for i in range(len(rmse)):\n",
    "    if rmse[i][0] < min:\n",
    "        min = rmse[i][0]\n",
    "        best_model = rmse[i][1]\n"
   ],
   "metadata": {
    "collapsed": false,
    "pycharm": {
     "name": "#%%\n"
    }
   }
  },
  {
   "cell_type": "markdown",
   "source": [
    "### Store rmse results\n"
   ],
   "metadata": {
    "collapsed": false
   }
  },
  {
   "cell_type": "code",
   "execution_count": 491,
   "outputs": [
    {
     "data": {
      "text/plain": "2230"
     },
     "execution_count": 491,
     "metadata": {},
     "output_type": "execute_result"
    }
   ],
   "source": [
    "save_model(best_model)\n",
    "df = pd.DataFrame(rmse)\n",
    "beta_rmse = []\n",
    "beta_rmse.append((ml_testing_beta(X_val, y_val), 'beta_t_minus_1'))\n",
    "df_1 = df.append(beta_rmse)\n",
    "df_1.columns = ['RMSE', 'Model']\n",
    "#df_1.to_csv('rmse.csv')\n",
    "len(X_test)"
   ],
   "metadata": {
    "collapsed": false,
    "pycharm": {
     "name": "#%%\n"
    }
   }
  },
  {
   "cell_type": "code",
   "execution_count": 492,
   "outputs": [
    {
     "data": {
      "text/plain": "       RMSE                                              Model  \\\n0  2.081140                                 LinearRegression()   \n1  2.084417                                   Lasso(alpha=0.1)   \n2  2.125974                                              SVR()   \n3  2.468398                            DecisionTreeRegressor()   \n4  2.116579  (DecisionTreeRegressor(max_depth=3, random_sta...   \n5  2.102572         MLPRegressor(max_iter=500, random_state=1)   \n6  2.113309  (DecisionTreeRegressor(max_depth=2, max_featur...   \n7  2.200953  XGBRegressor(base_score=0.5, booster='gbtree',...   \n0  2.092526                                     beta_t_minus_1   \n\n                 Model_Name  \n0         linear_regression  \n1                     lasso  \n2    support_vector_machine  \n3    linear_regression_tree  \n4  ensemble_method_adaboost  \n5            neural_network  \n6   random_forest_regressor  \n7                  XG_boost  \n0            beta_t_minus_1  ",
      "text/html": "<div>\n<style scoped>\n    .dataframe tbody tr th:only-of-type {\n        vertical-align: middle;\n    }\n\n    .dataframe tbody tr th {\n        vertical-align: top;\n    }\n\n    .dataframe thead th {\n        text-align: right;\n    }\n</style>\n<table border=\"1\" class=\"dataframe\">\n  <thead>\n    <tr style=\"text-align: right;\">\n      <th></th>\n      <th>RMSE</th>\n      <th>Model</th>\n      <th>Model_Name</th>\n    </tr>\n  </thead>\n  <tbody>\n    <tr>\n      <th>0</th>\n      <td>2.081140</td>\n      <td>LinearRegression()</td>\n      <td>linear_regression</td>\n    </tr>\n    <tr>\n      <th>1</th>\n      <td>2.084417</td>\n      <td>Lasso(alpha=0.1)</td>\n      <td>lasso</td>\n    </tr>\n    <tr>\n      <th>2</th>\n      <td>2.125974</td>\n      <td>SVR()</td>\n      <td>support_vector_machine</td>\n    </tr>\n    <tr>\n      <th>3</th>\n      <td>2.468398</td>\n      <td>DecisionTreeRegressor()</td>\n      <td>linear_regression_tree</td>\n    </tr>\n    <tr>\n      <th>4</th>\n      <td>2.116579</td>\n      <td>(DecisionTreeRegressor(max_depth=3, random_sta...</td>\n      <td>ensemble_method_adaboost</td>\n    </tr>\n    <tr>\n      <th>5</th>\n      <td>2.102572</td>\n      <td>MLPRegressor(max_iter=500, random_state=1)</td>\n      <td>neural_network</td>\n    </tr>\n    <tr>\n      <th>6</th>\n      <td>2.113309</td>\n      <td>(DecisionTreeRegressor(max_depth=2, max_featur...</td>\n      <td>random_forest_regressor</td>\n    </tr>\n    <tr>\n      <th>7</th>\n      <td>2.200953</td>\n      <td>XGBRegressor(base_score=0.5, booster='gbtree',...</td>\n      <td>XG_boost</td>\n    </tr>\n    <tr>\n      <th>0</th>\n      <td>2.092526</td>\n      <td>beta_t_minus_1</td>\n      <td>beta_t_minus_1</td>\n    </tr>\n  </tbody>\n</table>\n</div>"
     },
     "execution_count": 492,
     "metadata": {},
     "output_type": "execute_result"
    }
   ],
   "source": [
    "metrics.append('beta_t_minus_1')\n",
    "df_2 = pd.DataFrame(metrics)\n",
    "df_1.insert(loc=2, column='Model_Name', value=metrics, allow_duplicates=True)\n",
    "df_1"
   ],
   "metadata": {
    "collapsed": false,
    "pycharm": {
     "name": "#%%\n"
    }
   }
  },
  {
   "cell_type": "markdown",
   "source": [
    "### Plot rmse results"
   ],
   "metadata": {
    "collapsed": false
   }
  },
  {
   "cell_type": "markdown",
   "source": [
    "#### plot all rmse"
   ],
   "metadata": {
    "collapsed": false
   }
  },
  {
   "cell_type": "code",
   "execution_count": 493,
   "outputs": [
    {
     "data": {
      "text/plain": "LinearRegression()"
     },
     "execution_count": 493,
     "metadata": {},
     "output_type": "execute_result"
    },
    {
     "data": {
      "text/plain": "<Figure size 432x288 with 1 Axes>",
      "image/png": "[encoded data removed]"
     },
     "metadata": {
      "needs_background": "light"
     },
     "output_type": "display_data"
    }
   ],
   "source": [
    "df_1.plot(x ='Model_Name', y='RMSE', kind = 'bar')\n",
    "#plt.bar(df.Model, df.RMSE)\n",
    "best_model"
   ],
   "metadata": {
    "collapsed": false,
    "pycharm": {
     "name": "#%%\n"
    }
   }
  },
  {
   "cell_type": "markdown",
   "source": [
    "#### plot bets model, beta, beta t-1"
   ],
   "metadata": {
    "collapsed": false
   }
  },
  {
   "cell_type": "code",
   "execution_count": 494,
   "outputs": [
    {
     "data": {
      "text/plain": "(             0\n 0     0.705668\n 1     0.610905\n 2     0.476018\n 3     0.353359\n 4     0.378069\n ...        ...\n 2225  0.556816\n 2226  0.517266\n 2227  0.514233\n 2228  0.425830\n 2229  0.452696\n \n [2230 rows x 1 columns],\n       beta_t_minus_1\n 0           0.620975\n 1           0.601931\n 2           0.442100\n 3           0.255667\n 4           0.318667\n ...              ...\n 2225        0.612582\n 2226        0.586679\n 2227        0.542123\n 2228        0.425633\n 2229        0.421383\n \n [2230 rows x 1 columns],\n           beta\n 0     0.524390\n 1     0.359136\n 2     0.257870\n 3     0.605691\n 4     1.135778\n ...        ...\n 2225  0.581108\n 2226  0.498874\n 2227  0.381097\n 2228  0.467176\n 2229  0.498852\n \n [2230 rows x 1 columns])"
     },
     "execution_count": 494,
     "metadata": {},
     "output_type": "execute_result"
    }
   ],
   "source": [
    "pred_test = pd.DataFrame(best_model.predict(X_test))\n",
    "beta_t_minus_1_test = pd.DataFrame(X_test['beta_t_minus_1'])\n",
    "beta_t_minus_1_test.reset_index(inplace=True)\n",
    "beta_t_minus_1_test = beta_t_minus_1_test.drop(columns='index')\n",
    "y_test_df = pd.DataFrame(y_test)\n",
    "y_test_df.reset_index(inplace=True)\n",
    "y_test_df = y_test_df.drop(columns='index')\n",
    "pred_test, beta_t_minus_1_test, y_test_df\n"
   ],
   "metadata": {
    "collapsed": false,
    "pycharm": {
     "name": "#%%\n"
    }
   }
  },
  {
   "cell_type": "markdown",
   "source": [],
   "metadata": {
    "collapsed": false
   }
  }
 ],
 "metadata": {
  "kernelspec": {
   "display_name": "Python 3",
   "language": "python",
   "name": "python3"
  },
  "language_info": {
   "codemirror_mode": {
    "name": "ipython",
    "version": 2
   },
   "file_extension": ".py",
   "mimetype": "text/x-python",
   "name": "python",
   "nbconvert_exporter": "python",
   "pygments_lexer": "ipython2",
   "version": "2.7.6"
  }
 },
 "nbformat": 4,
 "nbformat_minor": 0
}